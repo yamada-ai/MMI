{
 "metadata": {
  "language_info": {
   "codemirror_mode": {
    "name": "ipython",
    "version": 3
   },
   "file_extension": ".py",
   "mimetype": "text/x-python",
   "name": "python",
   "nbconvert_exporter": "python",
   "pygments_lexer": "ipython3",
   "version": "3.6.9"
  },
  "orig_nbformat": 4,
  "kernelspec": {
   "name": "python3",
   "display_name": "Python 3.6.9 64-bit ('yamada-Xtic8E3g': pipenv)"
  },
  "interpreter": {
   "hash": "16502a155f04983cdfbcb31b85c74067d6c4a0f7390dfd9895abab7d1d8b14db"
  }
 },
 "nbformat": 4,
 "nbformat_minor": 2,
 "cells": [
  {
   "cell_type": "code",
   "execution_count": 1,
   "metadata": {},
   "outputs": [],
   "source": [
    "from pathlib import Path\n",
    "import json\n",
    "import pandas as pd\n",
    "import collections\n",
    "import numpy as np\n",
    "\n",
    "import spacy"
   ]
  },
  {
   "cell_type": "code",
   "execution_count": 2,
   "metadata": {},
   "outputs": [],
   "source": [
    "def read_json(path:str, datalist:list) -> pd.DataFrame:\n",
    "    cols = ['did', 'tid', 'usr', 'sys', 'ec']\n",
    "    datalist = ['DCM', 'DIT', 'IRS']\n",
    "    df = pd.DataFrame(index=[], columns=cols)\n",
    "\n",
    "    for p in datalist:\n",
    "        datapath = Path(path + p + '/')\n",
    "        for file_ in datapath.glob(\"*.json\"):\n",
    "            # print(file_)\n",
    "            with open(file_, \"r\") as f:\n",
    "                json_data = json.load(f)\n",
    "                did = json_data[\"dialogue-id\"]\n",
    "                for t in json_data[\"turns\"]:\n",
    "                    if t[\"turn-index\"] == 0:\n",
    "                        continue\n",
    "                    if t[\"speaker\"] == \"U\":\n",
    "                        usr = t[\"utterance\"]\n",
    "                        continue\n",
    "                    if t[\"speaker\"] == \"S\" and t[\"error_category\"] != None:\n",
    "                        tid = t[\"turn-index\"]\n",
    "                        sys = t[\"utterance\"]\n",
    "                        ec = t[\"error_category\"]\n",
    "                        df = df.append(pd.DataFrame([did, tid, usr, sys, ec], index = cols).T)\n",
    "    df.reset_index(inplace=True, drop=True)\n",
    "    return df"
   ]
  },
  {
   "cell_type": "code",
   "execution_count": null,
   "metadata": {},
   "outputs": [],
   "source": []
  },
  {
   "cell_type": "code",
   "execution_count": 6,
   "metadata": {},
   "outputs": [],
   "source": [
    "# Path to the development data\n",
    "path = './error_category_classification/dbdc5_ja_dev_labeled/'\n",
    "# Names of the dialogue systems\n",
    "datalist = ['DCM', 'DIT', 'IRS']\n",
    "# List of error types\n",
    "error_types = ['Ignore question', 'Unclear intention', 'Wrong information', 'Topic transition error', 'Lack of information', \n",
    "'Repetition', 'Semantic error', 'Self-contradiction', 'Contradiction', 'Grammatical error', 'Ignore offer', \n",
    "'Ignore proposal', 'Lack of sociality', 'Lack of common sense', 'Uninterpretable', 'Ignore greeting']\n",
    "#print('Number of error types:', len(error_types))"
   ]
  },
  {
   "cell_type": "code",
   "execution_count": 7,
   "metadata": {},
   "outputs": [
    {
     "output_type": "execute_result",
     "data": {
      "text/plain": [
       "             did tid                 usr  \\\n",
       "0     1470646494   2  そうですね。最近とても暑いですから。   \n",
       "1     1470646494   4       休日に行きたいと思います。   \n",
       "2     1470646494   6     はい。あなたは海に行きますか？   \n",
       "3     1470646494   8              何故ですか？   \n",
       "4     1470646494  12         山はお好きなのですか？   \n",
       "...          ...  ..                 ...   \n",
       "1343  1503290726  12         何を別売りしているの？   \n",
       "1344  1503290726  14          今は2回押してないよ   \n",
       "1345  1503290726  16            ベーシックだよね   \n",
       "1346  1503290726  18            君は女性なんだね   \n",
       "1347  1503290726  20               両性なのか   \n",
       "\n",
       "                                           sys  \\\n",
       "0                                  海に行かないんですね？   \n",
       "1                                     海は大丈夫ですね   \n",
       "2                                       海は危険です   \n",
       "3                                     海はいけないです   \n",
       "4                                    わあ！いいですね！   \n",
       "...                                        ...   \n",
       "1343           地下鉄で。名大前ができてすごく便利になりましたね、ここの大学。   \n",
       "1344  紅葉も遅いみたいですしね。私は、いつもベーッシクな色で変わりばえしないのですが。   \n",
       "1345     何処にあるお店ですか？ベースコートもトップコートも塗ると持ちが違いますよ。   \n",
       "1346                                    中間ですか？   \n",
       "1347                          では、スポーツは何かしてますか？   \n",
       "\n",
       "                                         ec  \n",
       "0                           [Contradiction]  \n",
       "1                     [Lack of information]  \n",
       "2     [Ignore question, Self-contradiction]  \n",
       "3                         [Ignore question]  \n",
       "4             [Ignore question, Repetition]  \n",
       "...                                     ...  \n",
       "1343                           [Repetition]  \n",
       "1344               [Topic transition error]  \n",
       "1345               [Topic transition error]  \n",
       "1346                  [Lack of information]  \n",
       "1347               [Topic transition error]  \n",
       "\n",
       "[1348 rows x 5 columns]"
      ],
      "text/html": "<div>\n<style scoped>\n    .dataframe tbody tr th:only-of-type {\n        vertical-align: middle;\n    }\n\n    .dataframe tbody tr th {\n        vertical-align: top;\n    }\n\n    .dataframe thead th {\n        text-align: right;\n    }\n</style>\n<table border=\"1\" class=\"dataframe\">\n  <thead>\n    <tr style=\"text-align: right;\">\n      <th></th>\n      <th>did</th>\n      <th>tid</th>\n      <th>usr</th>\n      <th>sys</th>\n      <th>ec</th>\n    </tr>\n  </thead>\n  <tbody>\n    <tr>\n      <th>0</th>\n      <td>1470646494</td>\n      <td>2</td>\n      <td>そうですね。最近とても暑いですから。</td>\n      <td>海に行かないんですね？</td>\n      <td>[Contradiction]</td>\n    </tr>\n    <tr>\n      <th>1</th>\n      <td>1470646494</td>\n      <td>4</td>\n      <td>休日に行きたいと思います。</td>\n      <td>海は大丈夫ですね</td>\n      <td>[Lack of information]</td>\n    </tr>\n    <tr>\n      <th>2</th>\n      <td>1470646494</td>\n      <td>6</td>\n      <td>はい。あなたは海に行きますか？</td>\n      <td>海は危険です</td>\n      <td>[Ignore question, Self-contradiction]</td>\n    </tr>\n    <tr>\n      <th>3</th>\n      <td>1470646494</td>\n      <td>8</td>\n      <td>何故ですか？</td>\n      <td>海はいけないです</td>\n      <td>[Ignore question]</td>\n    </tr>\n    <tr>\n      <th>4</th>\n      <td>1470646494</td>\n      <td>12</td>\n      <td>山はお好きなのですか？</td>\n      <td>わあ！いいですね！</td>\n      <td>[Ignore question, Repetition]</td>\n    </tr>\n    <tr>\n      <th>...</th>\n      <td>...</td>\n      <td>...</td>\n      <td>...</td>\n      <td>...</td>\n      <td>...</td>\n    </tr>\n    <tr>\n      <th>1343</th>\n      <td>1503290726</td>\n      <td>12</td>\n      <td>何を別売りしているの？</td>\n      <td>地下鉄で。名大前ができてすごく便利になりましたね、ここの大学。</td>\n      <td>[Repetition]</td>\n    </tr>\n    <tr>\n      <th>1344</th>\n      <td>1503290726</td>\n      <td>14</td>\n      <td>今は2回押してないよ</td>\n      <td>紅葉も遅いみたいですしね。私は、いつもベーッシクな色で変わりばえしないのですが。</td>\n      <td>[Topic transition error]</td>\n    </tr>\n    <tr>\n      <th>1345</th>\n      <td>1503290726</td>\n      <td>16</td>\n      <td>ベーシックだよね</td>\n      <td>何処にあるお店ですか？ベースコートもトップコートも塗ると持ちが違いますよ。</td>\n      <td>[Topic transition error]</td>\n    </tr>\n    <tr>\n      <th>1346</th>\n      <td>1503290726</td>\n      <td>18</td>\n      <td>君は女性なんだね</td>\n      <td>中間ですか？</td>\n      <td>[Lack of information]</td>\n    </tr>\n    <tr>\n      <th>1347</th>\n      <td>1503290726</td>\n      <td>20</td>\n      <td>両性なのか</td>\n      <td>では、スポーツは何かしてますか？</td>\n      <td>[Topic transition error]</td>\n    </tr>\n  </tbody>\n</table>\n<p>1348 rows × 5 columns</p>\n</div>"
     },
     "metadata": {},
     "execution_count": 7
    }
   ],
   "source": [
    "df = read_json(path, datalist)\n",
    "df"
   ]
  },
  {
   "cell_type": "code",
   "execution_count": 8,
   "metadata": {},
   "outputs": [
    {
     "output_type": "stream",
     "name": "stdout",
     "text": [
      "Number of breakdowns:  1348\n-- Frequency of labels --\nIgnore question 305\nUnclear intention 474\nWrong information 376\nTopic transition error 192\nLack of information 54\nRepetition 48\nSemantic error 6\nSelf-contradiction 12\nContradiction 18\nGrammatical error 4\nIgnore offer 1\nIgnore proposal 3\nLack of sociality 1\nLack of common sense 7\nUninterpretable 0\nIgnore greeting 0\n-- Frequency of sets of labels (sorted) --\n"
     ]
    },
    {
     "output_type": "execute_result",
     "data": {
      "text/plain": [
       "(Unclear intention,)                           389\n",
       "(Wrong information,)                           376\n",
       "(Ignore question,)                             158\n",
       "(Topic transition error,)                      141\n",
       "(Ignore question, Unclear intention)            80\n",
       "(Lack of information,)                          46\n",
       "(Ignore question, Topic transition error)       46\n",
       "(Repetition,)                                   36\n",
       "(Contradiction,)                                18\n",
       "(Ignore question, Repetition)                   11\n",
       "(Self-contradiction,)                           10\n",
       "(Lack of information, Ignore question)           8\n",
       "(Lack of common sense,)                          6\n",
       "(Semantic error,)                                6\n",
       "(Topic transition error, Unclear intention)      5\n",
       "(Grammatical error,)                             4\n",
       "(Ignore proposal,)                               3\n",
       "(Ignore question, Self-contradiction)            2\n",
       "(Lack of sociality,)                             1\n",
       "(Lack of common sense, Repetition)               1\n",
       "(Ignore offer,)                                  1\n",
       "Name: ec, dtype: int64"
      ]
     },
     "metadata": {},
     "execution_count": 8
    }
   ],
   "source": [
    "# Make target (Multilabel)\n",
    "y = np.array([[1 if (i in ec) else 0 for i in error_types] for ec in df.ec])\n",
    "\n",
    "# Display data statistics\n",
    "print('Number of breakdowns: ', y.shape[0])\n",
    "print('-- Frequency of labels --')\n",
    "for e,c in zip(error_types, sum(y)):\n",
    "  print(e,c)\n",
    "print('-- Frequency of sets of labels (sorted) --')\n",
    "df['ec'].apply(tuple).value_counts()"
   ]
  },
  {
   "cell_type": "code",
   "execution_count": 9,
   "metadata": {},
   "outputs": [],
   "source": [
    "def feature_extraction(df:pd.DataFrame) -> np.array:\n",
    "    nlp = spacy.load('ja_ginza')\n",
    "\n",
    "  # Make feature vector\n",
    "    return np.array([np.concatenate([nlp(u).vector, nlp(s).vector]) for u,s in zip(df.usr, df.sys)])"
   ]
  },
  {
   "source": [],
   "cell_type": "markdown",
   "metadata": {}
  },
  {
   "cell_type": "code",
   "execution_count": 10,
   "metadata": {},
   "outputs": [],
   "source": [
    "def predict_at_least_oneClass(clf, X) -> np.array:\n",
    "  y_pred = clf.predict(X)\n",
    "  p = clf.predict_proba(X)\n",
    "  proba = np.array([[p[c][i][1] if (p[c][i].shape[0]!=1) else 0 \n",
    "                     for c in range(len(error_types))] for i in range(len(X))])\n",
    "  # replace [] to the highest probability label\n",
    "  y_pred2 = np.empty((0, len(error_types)), int)\n",
    "  for y, pr in zip(y_pred, proba):\n",
    "    if  (sum(y) == 0):\n",
    "      ans = np.zeros_like(y)\n",
    "      ans[np.argmax(pr)] = 1\n",
    "    else:\n",
    "      ans = y\n",
    "    y_pred2 = np.append(y_pred2, np.array([ans]), axis=0)\n",
    "  return y_pred2"
   ]
  },
  {
   "cell_type": "code",
   "execution_count": 11,
   "metadata": {},
   "outputs": [
    {
     "output_type": "stream",
     "name": "stdout",
     "text": [
      "EM: 0.5111111111111111\nF-measure:  0.6179012345679011\n"
     ]
    }
   ],
   "source": [
    "from sklearn.model_selection import train_test_split\n",
    "from sklearn.multioutput import MultiOutputClassifier\n",
    "from sklearn.ensemble import AdaBoostClassifier\n",
    "from sklearn import metrics\n",
    "\n",
    "# read development data\n",
    "df = read_json(path, datalist)\n",
    "\n",
    "# feature extraction\n",
    "X = feature_extraction(df)\n",
    "\n",
    "# Make target (Multilabel)\n",
    "y = np.array([[1 if (i in ec) else 0 for i in error_types] for ec in df.ec])\n",
    "\n",
    "X_train, X_test, y_train, y_test = train_test_split(X, y, test_size=0.20, random_state=5)\n",
    "\n",
    "clf = MultiOutputClassifier(AdaBoostClassifier()).fit(X_train, y_train)\n",
    "y_pred = predict_at_least_oneClass(clf, X_test)\n",
    "\n",
    "print('EM:', metrics.accuracy_score(y_test, y_pred))\n",
    "print('F-measure: ', metrics.f1_score(y_test, y_pred, average='samples'))"
   ]
  },
  {
   "cell_type": "code",
   "execution_count": 12,
   "metadata": {},
   "outputs": [
    {
     "output_type": "execute_result",
     "data": {
      "text/plain": [
       "(1348, 600)"
      ]
     },
     "metadata": {},
     "execution_count": 12
    }
   ],
   "source": [
    "X.shape"
   ]
  },
  {
   "cell_type": "code",
   "execution_count": 13,
   "metadata": {},
   "outputs": [
    {
     "output_type": "execute_result",
     "data": {
      "text/plain": [
       "(300,)"
      ]
     },
     "metadata": {},
     "execution_count": 13
    }
   ],
   "source": [
    "nlp = spacy.load('ja_ginza')\n",
    "nlp(df.usr[0]).vector.shape"
   ]
  },
  {
   "cell_type": "code",
   "execution_count": 14,
   "metadata": {},
   "outputs": [
    {
     "output_type": "execute_result",
     "data": {
      "text/plain": [
       "16"
      ]
     },
     "metadata": {},
     "execution_count": 14
    }
   ],
   "source": [
    "len(error_types)"
   ]
  },
  {
   "cell_type": "code",
   "execution_count": 15,
   "metadata": {},
   "outputs": [
    {
     "output_type": "execute_result",
     "data": {
      "text/plain": [
       "0                             [Contradiction]\n",
       "1                       [Lack of information]\n",
       "2       [Ignore question, Self-contradiction]\n",
       "3                           [Ignore question]\n",
       "4               [Ignore question, Repetition]\n",
       "                        ...                  \n",
       "1343                             [Repetition]\n",
       "1344                 [Topic transition error]\n",
       "1345                 [Topic transition error]\n",
       "1346                    [Lack of information]\n",
       "1347                 [Topic transition error]\n",
       "Name: ec, Length: 1348, dtype: object"
      ]
     },
     "metadata": {},
     "execution_count": 15
    }
   ],
   "source": [
    "df.ec"
   ]
  },
  {
   "cell_type": "code",
   "execution_count": 16,
   "metadata": {},
   "outputs": [
    {
     "output_type": "error",
     "ename": "NameError",
     "evalue": "name 'ec' is not defined",
     "traceback": [
      "\u001b[0;31m---------------------------------------------------------------------------\u001b[0m",
      "\u001b[0;31mNameError\u001b[0m                                 Traceback (most recent call last)",
      "\u001b[0;32m<ipython-input-16-7b143c84d8b2>\u001b[0m in \u001b[0;36m<module>\u001b[0;34m\u001b[0m\n\u001b[0;32m----> 1\u001b[0;31m \u001b[0mec\u001b[0m\u001b[0;34m\u001b[0m\u001b[0;34m\u001b[0m\u001b[0m\n\u001b[0m",
      "\u001b[0;31mNameError\u001b[0m: name 'ec' is not defined"
     ]
    }
   ],
   "source": [
    "ec"
   ]
  },
  {
   "cell_type": "code",
   "execution_count": null,
   "metadata": {},
   "outputs": [],
   "source": []
  }
 ]
}