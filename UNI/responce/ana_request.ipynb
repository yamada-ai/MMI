{
 "cells": [
  {
   "cell_type": "code",
   "execution_count": 1,
   "metadata": {},
   "outputs": [
    {
     "name": "stdout",
     "output_type": "stream",
     "text": [
      "300\n"
     ]
    }
   ],
   "source": [
    "import os\n",
    "import sys\n",
    "sys.dont_write_bytecode = True\n",
    "sys.path.append('../')\n",
    "# from tools.preproc import Preprocessor\n",
    "from tools import preproc\n",
    "# from tools.preproc import Preprocessor\n",
    "from tools.maneger import DataManager\n",
    "import spacy\n",
    "# import importlib\n",
    "pre = preproc.Preprocessor()\n",
    "import pprint\n",
    "import random\n",
    "\n",
    "import copy\n",
    "import numpy as np\n",
    "\n",
    "from sklearn.linear_model import LogisticRegression\n",
    "from sklearn.model_selection import train_test_split\n",
    "from sklearn import metrics\n"
   ]
  },
  {
   "cell_type": "code",
   "execution_count": null,
   "metadata": {},
   "outputs": [],
   "source": []
  }
 ],
 "metadata": {
  "interpreter": {
   "hash": "16502a155f04983cdfbcb31b85c74067d6c4a0f7390dfd9895abab7d1d8b14db"
  },
  "kernelspec": {
   "display_name": "Python 3.6.9 64-bit ('yamada-Xtic8E3g': pipenv)",
   "name": "python3"
  },
  "language_info": {
   "codemirror_mode": {
    "name": "ipython",
    "version": 3
   },
   "file_extension": ".py",
   "mimetype": "text/x-python",
   "name": "python",
   "nbconvert_exporter": "python",
   "pygments_lexer": "ipython3",
   "version": "3.6.9"
  },
  "orig_nbformat": 4
 },
 "nbformat": 4,
 "nbformat_minor": 2
}