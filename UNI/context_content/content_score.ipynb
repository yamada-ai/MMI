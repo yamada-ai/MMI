{
 "cells": [
  {
   "cell_type": "code",
   "execution_count": 9,
   "metadata": {},
   "outputs": [],
   "source": [
    "import json\n",
    "import os\n",
    "import pandas as pd\n",
    "import numpy as np\n",
    "from pathlib import Path\n",
    "import collections\n",
    "from sklearn.model_selection import train_test_split\n",
    "from sklearn import metrics\n",
    "\n",
    "import sys\n",
    "sys.path.append(\"../\")\n",
    "from datatools.analyzer import *\n",
    "from utterance.error_tools import *\n",
    "\n",
    "from datatools.maneger import DataManager\n",
    "from datatools.preproc import Preprocessor"
   ]
  },
  {
   "cell_type": "code",
   "execution_count": 10,
   "metadata": {},
   "outputs": [
    {
     "name": "stdout",
     "output_type": "stream",
     "text": [
      "success load : ../X_y_data/context_content/repeat.pickle\n"
     ]
    }
   ],
   "source": [
    "data_path = \"../X_y_data/context_content/\"\n",
    "data_name = \"repeat.pickle\"\n",
    "dataM = DataManager(data_path)\n",
    "_, y_repeat = dataM.load_data(data_name)"
   ]
  },
  {
   "cell_type": "code",
   "execution_count": 11,
   "metadata": {},
   "outputs": [
    {
     "name": "stdout",
     "output_type": "stream",
     "text": [
      "success load : ../X_y_data/context_content/contradict.pickle\n"
     ]
    }
   ],
   "source": [
    "data_path = \"../X_y_data/context_content/\"\n",
    "data_name = \"contradict.pickle\"\n",
    "dataM = DataManager(data_path)\n",
    "_, y_contradict = dataM.load_data(data_name)"
   ]
  },
  {
   "cell_type": "code",
   "execution_count": 12,
   "metadata": {},
   "outputs": [],
   "source": [
    "path = \"../eval_labeled/\"\n",
    "\n",
    "datalist = ['DCM', 'DIT', 'IRS']\n",
    "convs = read_conv(path, datalist)"
   ]
  },
  {
   "cell_type": "code",
   "execution_count": 13,
   "metadata": {},
   "outputs": [
    {
     "data": {
      "text/plain": [
       "1386"
      ]
     },
     "execution_count": 13,
     "metadata": {},
     "output_type": "execute_result"
    }
   ],
   "source": [
    "len(y_repeat)"
   ]
  },
  {
   "cell_type": "code",
   "execution_count": 14,
   "metadata": {},
   "outputs": [],
   "source": [
    "y = []\n",
    "errors = [\"Repetition\", \"Self-contradiction\", \"Contradiction\"]\n",
    "for conv in convs:\n",
    "    # utt_list_conv = [\"\"]*5\n",
    "    utt_list_conv = []\n",
    "    for i, ut in enumerate( conv ) :\n",
    "        utt_list_conv.append(ut.utt)\n",
    "        # システム発話で，[文脈-形式]のエラー\n",
    "        if ut.is_system() and ut.is_exist_error():\n",
    "            if ut.is_error_included(errors):\n",
    "                y.append(1)\n",
    "            else:\n",
    "                y.append(0)"
   ]
  },
  {
   "cell_type": "code",
   "execution_count": 15,
   "metadata": {},
   "outputs": [],
   "source": [
    "y_content = np.array(y_repeat) | np.array(y_contradict)"
   ]
  },
  {
   "cell_type": "code",
   "execution_count": 16,
   "metadata": {},
   "outputs": [
    {
     "data": {
      "text/plain": [
       "array([1, 0, 1, ..., 1, 1, 1])"
      ]
     },
     "execution_count": 16,
     "metadata": {},
     "output_type": "execute_result"
    }
   ],
   "source": [
    "y_content"
   ]
  },
  {
   "cell_type": "code",
   "execution_count": 17,
   "metadata": {},
   "outputs": [
    {
     "name": "stdout",
     "output_type": "stream",
     "text": [
      "confusion matrix = \n",
      " [[562 747]\n",
      " [ 18  59]]\n",
      "accuracy =  0.44805194805194803\n",
      "precision =  0.07320099255583126\n",
      "recall =  0.7662337662337663\n",
      "f1 score =  0.13363533408833522\n"
     ]
    }
   ],
   "source": [
    "score(y, y_content)"
   ]
  },
  {
   "cell_type": "code",
   "execution_count": 18,
   "metadata": {},
   "outputs": [
    {
     "data": {
      "text/plain": [
       "62"
      ]
     },
     "execution_count": 18,
     "metadata": {},
     "output_type": "execute_result"
    }
   ],
   "source": [
    "y_repeat.count(1)"
   ]
  },
  {
   "cell_type": "code",
   "execution_count": 19,
   "metadata": {},
   "outputs": [
    {
     "name": "stdout",
     "output_type": "stream",
     "text": [
      "success load : ../X_y_data/y_pred/wrong.pickle\n",
      "success load : ../X_y_data/y_pred/caseFrame.pickle\n"
     ]
    }
   ],
   "source": [
    "import sys\n",
    "sys.path.append(\"../\")\n",
    "import numpy as np\n",
    "from datatools.maneger import DataManager\n",
    "\n",
    "data_path = \"../X_y_data/y_pred/\"\n",
    "dataM = DataManager(data_path)\n",
    "_, y_wrong = dataM.load_data(\"wrong.pickle\")\n",
    "_, y_cf = dataM.load_data(\"caseFrame.pickle\")"
   ]
  },
  {
   "cell_type": "code",
   "execution_count": 20,
   "metadata": {},
   "outputs": [],
   "source": [
    "y_content = np.array(y_wrong) | np.array(y_cf)"
   ]
  },
  {
   "cell_type": "code",
   "execution_count": 21,
   "metadata": {},
   "outputs": [],
   "source": [
    "y = []\n",
    "errors = [\"Wrong information\", \"Semantic error\"]\n",
    "sys_utt = []\n",
    "for conv in convs:\n",
    "    utt_list_conv = []\n",
    "    for i, ut in enumerate( conv ) :\n",
    "        sys_utt.append(ut.utt)\n",
    "        # システム発話で，[文脈-形式]のエラー\n",
    "        if ut.is_system() and ut.is_exist_error():\n",
    "            if ut.is_error_included(errors):\n",
    "                y.append(1)\n",
    "            else:\n",
    "                y.append(0)"
   ]
  },
  {
   "cell_type": "code",
   "execution_count": 22,
   "metadata": {},
   "outputs": [
    {
     "name": "stdout",
     "output_type": "stream",
     "text": [
      "confusion matrix = \n",
      " [[655 328]\n",
      " [ 36 367]]\n",
      "accuracy =  0.7373737373737373\n",
      "precision =  0.5280575539568345\n",
      "recall =  0.9106699751861043\n",
      "f1 score =  0.6684881602914389\n"
     ]
    }
   ],
   "source": [
    "score(y, y_content)"
   ]
  },
  {
   "cell_type": "code",
   "execution_count": 23,
   "metadata": {},
   "outputs": [
    {
     "name": "stdout",
     "output_type": "stream",
     "text": [
      "うれしいよね？\n",
      "どきどき\n",
      "九州のうまいものめぐりをしに旅行に行きたいと常日頃から思ってるんだよ。\n",
      "暑い日はいつでも気をつけてください\n",
      "夏休みは楽しいですね\n",
      "こんにちは。ありがとう、水分とるように気を付けてます。\n",
      "こんにちは。調子はどうですか？\n",
      "北朝鮮が発射準備を進めるのです\n",
      "健康のことを考えても、味のことを考えてもね。\n",
      "許してくれてありがとうございます\n",
      "ドライフラワーは手芸ですね\n",
      "海は楽しいですね\n",
      "潮風を感じられるのでしょうかね\n",
      "外食は洋食がいいですね\n",
      "はい。どこかへお出かけですか？\n",
      "そうねんですね。ずっと南極や北極の氷が解けているからだと思っていました。\n",
      "丁寧に心を込めた文章なら、うまくなくて通じると思うんだ。\n",
      "確かにきちんとした場面でならつけないことの方が多いですね。\n",
      "こんばんはー。気軽に声かけてね。\n",
      "そういえば思い出したんですけど、遊園地にある大きな池は、防災も兼ねてるらしいですよ。\n",
      "何か見るのですか？\n",
      "池は寒いです\n",
      "活発なのはいいことです。\n",
      "活性が全体的に低いです\n",
      "そういえば、家の近くでお祭りがありました。\n",
      "対策は必要ないですか\n",
      "強力なんだろうね\n",
      "でしょ\n",
      "そうはおっしゃらず笑\n",
      "お大事に\n",
      "大丈夫ですか。熱中症が出てますか？\n",
      "おおいにありますね。\n",
      "ご無理しないで下さいね。\n",
      "ありがとうございます\n",
      "うん\n",
      "海まで散歩に行くのです\n",
      "ぱたぱた\n",
      "ありがとう\n",
      "今は答えられないんです。\n",
      "天気はいい感じよね\n",
      "天気予報をする気象予報士の合格率は５％なんだって。\n",
      "５％か。かなり難関だね。\n",
      "太陽風や地場を予測する「宇宙天気予報」っていうのもあるんだって。\n",
      "人類が初めて宇宙でプレイしたスポーツは、月面で行われたゴルフなんだよ。\n",
      "ホント？月でゴルフってなんか不思議。\n",
      "パーより３打少ないアルバトロスはホールインワンよりも出る確率が少ないんだって。\n",
      "英語でコミュニケーションがとれるらしいです\n",
      "英語は苦手ですか。コミュニケーションは難しいですね\n",
      "コミュニケーションは得意です\n",
      "時期から資格を取りますねぇ\n",
      "何か資格を取るんですか？\n",
      "こんにちは！海へ行きたいね。\n",
      "おはおは\n",
      "電池は必要なんですよねー\n",
      "こんにちは\n",
      "卓球は好きですよ。卓球よくされるんですか？\n",
      "福原愛ちゃんですね？\n",
      "暑い日には気をつけたいですね。\n",
      "熱中症に気をつけないんですよねー\n",
      "ところで好きな映画はなんですか？\n",
      "行ったことないよ。イタリア料理は好きだな\n",
      "イタリア料理は好きですね\n",
      "そんなことある\n",
      "そうなんだ。例えばなんてお店??\n",
      "イタリア料理は美味しいですよねー\n",
      "カップラーメンでもインスタントカレーでも、立派な料理だよね。\n",
      "スイカは好きですか？\n",
      "スイカは食べるのがおいしいですね\n",
      "一人暮らしは食生活が偏るのです\n",
      "自炊してますか？\n",
      "得意料理は何ですか？\n",
      "手を貯金に出しますねぇ\n",
      "食べました。\n",
      "そうかもしれません。好きな食べ物はご飯ですか?\n",
      "夕食は美味しいですね\n",
      "美味しいですよね。何が好きですか？\n",
      "しょうゆは好きですね\n",
      "少なめがいいですね\n",
      "そうそう。それはいますね。やってみたいですか？\n",
      "お金は大きとか\n",
      "おや、それは！　じゃあ、最近気になるニュースなどはありますか？\n",
      "くいだおれ人形ですか、テレビで見たことありますが何なのかは私も知らないです。くいだおれと言えば好きな食べ物はなんですか？\n",
      "蕎麦いいですね。私も蕎麦が好きです。\n",
      "蕎麦ほど、地域色の出る食べ物はないよね。\n",
      "福井県では、蕎麦と、うどんを一体にしたうそばがあるそうですよ。\n",
      "蕎麦かな。\n",
      "そうですね。重いですしね。\n",
      "そうでもないですよ。中身が大事ですよね。\n",
      "涼しい感じでしょうか。\n",
      "私もかけようか迷っていたところです\n",
      "嫁と子供が好きです\n",
      "愛妻弁当ってお嫁さんの象徴だよね。\n",
      "規制は厳しいですか\n",
      "ですよね\n",
      "こんにちは、私も暇だったんですよ。\n",
      "花言葉でお花を選ぶようですよ\n",
      "柚子の花言葉は健康美です\n",
      "料理はそろいますか？\n",
      "料理は奥深いですね\n",
      "こんにちは。朝ごはんは何を食べた？\n",
      "朝ごはんが楽しみです\n",
      "最近はゲームにはまっているんだ。\n",
      "ゲームにはまってるんですね。料理は不得意です\n",
      "野球は好きですか。料理は素晴らしいですね\n",
      "君の好きなスポーツは何？\n",
      "料理は素晴らしいですね\n",
      "おはよー\n",
      "おめでとうー\n",
      "音楽は人間を幸せにするものすごいパワーがあると思うよ。\n",
      "洗濯日和だと思います。\n",
      "こんにちは\n",
      "傘を持って行ったほうがいいですか\n",
      "梅雨入りは嫌なんですよねえ\n",
      "気をつけます\n",
      "はい\n",
      "ご想像にお任せします。\n",
      "こん\n",
      "そういえば思い出したんですけど、遊園地にある大きな池は、防災も兼ねてるらしいですよ。\n",
      "そうなんですか。それは知りませんでした。\n",
      "遊園地は好きですか\n",
      "ジェットコースターが落ちる時が怖いです\n",
      "乗り物は自転車が好きですね\n",
      "私もよく乗ります\n",
      "乗り物は好きですね\n",
      "ドライブは好きですか。行き先を決めてないドライブもたまにはいいよね。\n",
      "熱中症に気をつけないんですか？\n",
      "塩分は気にしません？？\n",
      "スポーツドリンクが良いそうです。\n",
      "料理には必須ですね。\n",
      "料理は道具にこだわると美味しいものが作れます。\n",
      "自炊する人が増えているそうですね。\n",
      "そうですね\n",
      "ありがとうございます\n",
      "こんにちはー。夏といえばスイカだね。\n",
      "スイカで有名ですね\n",
      "海はサイコーですね\n",
      "泳ぐを覚えるのです\n",
      "こんにちは。夏といえばスイカだね。\n",
      "たしかにチョコとバニラは相性がいいと思う。\n",
      "アーモンドやナッツがトッピングされているのもいいですね。\n",
      "チョコレートが大好きですね\n",
      "アイスクリームにはまるのです\n",
      "値段は高いけど、ハーゲンダッツは確かに美味しいですね。\n",
      "メロンは好きですね\n",
      "夏はうなぎだよね！うなぎは好きですか？\n",
      "力が付きますよね！暑いのは好きですか？\n",
      "尻尾が美味しいですね\n",
      "市場で買うのが新鮮で良いよ！市場に行ったことはありますか？\n",
      "こんにちは。気軽に声かけてね。\n",
      "素直だな\n",
      "取柄ですから\n",
      "何から知らあると思うよ\n",
      "そうだな\n",
      "それだったら天国だな\n",
      "地獄って、観光旅行で一度行ってみたいよね。\n",
      "スイカで有名ですね\n",
      "映画は好きですか?\n",
      "洋画のほうは好きですか。邦画は好きですね\n",
      "私も好きですよ\n",
      "熱中症に気をつけか？？\n",
      "予防は大切ですね\n",
      "病院は正しいですね\n",
      "予防が大切ですね\n",
      "寝不足にも注意が必要ですね。\n",
      "こんばんは。最近の調子はどうですか？\n",
      "お仕事何かしてますか？\n",
      "性別は何？\n",
      "恋人はいるの？\n",
      "俺もほしいんだよ\n",
      "それそれ\n",
      "こんにちは。気軽に声かけてね。\n",
      "そうなんですか！　では、植物お好きですか？\n",
      "インターネットで調べたところ、もしかするとクリスマスカードです。\n",
      "心がこもっていて良さそうですね。お菓子に添えると喜んでくれそうです。\n",
      "そうなんですね。あまり詳しくないのですが、教えていただいてありがとうございます。\n",
      "「脚」をWikipediaで検索した結果は、「脚は、動物の体を支える部分である。」だよ\n",
      "Wikipediaをあまり利用しないのですが、基本的なことも書かれているのですね。勉強になります。\n",
      "こんにちは。\n",
      "そちらの天気はどんな感じですか。\n",
      "出かけない日に限って、晴天になるよね。\n",
      "出かけない日に限って、晴天になるよね。\n",
      "どうしてだか分かりますか？\n",
      "エンゲージリング人気が出るのです\n",
      "よろしくお願いします。\n",
      "友達に遊びたいとお願いをします。あなたは今日は何をしたいですか？\n",
      "ぜひ、美味しいおつまみを教えてください。\n",
      "こんにちは。夏といえばスイカだね。\n",
      "スイカで有名か？？\n",
      "違います。\n",
      "そうですね。\n",
      "それにしても、気持ちいいとはいえ、今日は暑いですね。\n",
      "そうですね。\n",
      "こんにちは。気軽に声かけてね。\n",
      "どちらかお出かけですか？\n",
      "「物」をWikipediaで検索した結果は、「物とは、広義には対象を特定化せず一般的・包括的にいう語であり、人間が知覚し思考し得る対象の一切である。」だよ\n",
      "わからないことがあったら、とりあえずアクセス！\n",
      "アクセスのStayを聴くと感動します\n",
      "東京駅には、ＪＲ東日本とＪＲ東海の２人の駅長がいるんだって。\n",
      "上品ですね\n",
      "ありがとう\n",
      "レベルが高いですね\n"
     ]
    }
   ],
   "source": [
    "for p, y_ , utt in zip(y_wrong, y, sys_utt):\n",
    "    if y_==0 and p==1:\n",
    "        print(utt)"
   ]
  },
  {
   "cell_type": "code",
   "execution_count": 24,
   "metadata": {},
   "outputs": [
    {
     "data": {
      "text/plain": [
       "[]"
      ]
     },
     "execution_count": 24,
     "metadata": {},
     "output_type": "execute_result"
    }
   ],
   "source": [
    "utt_list_conv"
   ]
  },
  {
   "cell_type": "code",
   "execution_count": null,
   "metadata": {},
   "outputs": [],
   "source": []
  }
 ],
 "metadata": {
  "interpreter": {
   "hash": "31f2aee4e71d21fbe5cf8b01ff0e069b9275f58929596ceb00d14d90e3e16cd6"
  },
  "kernelspec": {
   "display_name": "Python 3.6.9 64-bit",
   "language": "python",
   "name": "python3"
  },
  "language_info": {
   "codemirror_mode": {
    "name": "ipython",
    "version": 3
   },
   "file_extension": ".py",
   "mimetype": "text/x-python",
   "name": "python",
   "nbconvert_exporter": "python",
   "pygments_lexer": "ipython3",
   "version": "3.6.9"
  },
  "orig_nbformat": 4
 },
 "nbformat": 4,
 "nbformat_minor": 2
}
