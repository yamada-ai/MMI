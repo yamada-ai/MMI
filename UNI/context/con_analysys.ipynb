{
 "cells": [
  {
   "cell_type": "code",
   "execution_count": 4,
   "metadata": {},
   "outputs": [],
   "source": [
    "import os\n",
    "import json\n",
    "import copy\n",
    "import numpy as np\n",
    "import pandas as pd"
   ]
  },
  {
   "cell_type": "code",
   "execution_count": 5,
   "metadata": {},
   "outputs": [
    {
     "name": "stderr",
     "output_type": "stream",
     "text": [
      "/usr/lib/python3/dist-packages/requests/__init__.py:80: RequestsDependencyWarning: urllib3 (1.26.5) or chardet (3.0.4) doesn't match a supported version!\n",
      "  RequestsDependencyWarning)\n"
     ]
    },
    {
     "name": "stdout",
     "output_type": "stream",
     "text": [
      "300\n"
     ]
    }
   ],
   "source": [
    "\n",
    "import sys\n",
    "sys.dont_write_bytecode = True\n",
    "sys.path.append('../')\n",
    "# sys.path.append('../p/')\n",
    "# from tools.maneger import DataManager\n",
    "# from tools import preproc\n",
    "from datatools.preproc import Preprocessor\n",
    "from datatools.analyzer import *\n",
    "# from utterance.feature import Feature\n",
    "# from feature import Feature\n",
    "\n",
    "pre = Preprocessor()"
   ]
  },
  {
   "cell_type": "code",
   "execution_count": null,
   "metadata": {},
   "outputs": [],
   "source": []
  },
  {
   "cell_type": "code",
   "execution_count": 6,
   "metadata": {},
   "outputs": [],
   "source": [
    "def extract_continue_convs_with_error(df, length, errors):\n",
    "    new_convs = []\n",
    "    continue_conv = []\n",
    "    did = 0\n",
    "    for d, u, s, e in zip(df.did, df.usr, df.sys, df.ec):\n",
    "        # did が変化すれば，別の対話\n",
    "        if d != did:\n",
    "            continue_conv = []\n",
    "            did = d\n",
    "        continue_conv .append(u)\n",
    "        continue_conv .append(s)\n",
    "        for err in errors:\n",
    "            if len(continue_conv) >= length and err in e:\n",
    "                new_convs.append( continue_conv[-length:] )\n",
    "    \n",
    "    return new_convs"
   ]
  },
  {
   "cell_type": "code",
   "execution_count": 7,
   "metadata": {},
   "outputs": [],
   "source": [
    "path = '../error_category_classification/dbdc5_ja_dev_labeled/'\n",
    "datalist = ['DCM', 'DIT', 'IRS']\n",
    "# datalist = ['DCM']\n",
    "\n",
    "df = pre.read_json_with_NoErr(path, datalist)"
   ]
  },
  {
   "cell_type": "code",
   "execution_count": 8,
   "metadata": {},
   "outputs": [
    {
     "name": "stdout",
     "output_type": "stream",
     "text": [
      "['Self-contradiction', 'Contradiction']\n"
     ]
    }
   ],
   "source": [
    "# errors = [\"Lack of common sense\"]\n",
    "# errors = ['Self-contradiction', 'Contradiction', 'Repetition']\n",
    "# errors = ['Self-contradiction', 'Contradiction']\n",
    "errors = ['Semantic error']\n",
    "# errors = ['Lack of common sense']\n",
    "# errors = ['Lack of information']\n",
    "# errors = ['Wrong information']\n",
    "# errors = errors[-1:]\n",
    "print(errors)"
   ]
  },
  {
   "cell_type": "code",
   "execution_count": 15,
   "metadata": {},
   "outputs": [],
   "source": [
    "convs = extract_continue_convs_with_error(df, 5, errors)"
   ]
  },
  {
   "cell_type": "code",
   "execution_count": 16,
   "metadata": {},
   "outputs": [
    {
     "data": {
      "text/plain": [
       "[['海に行かないんですね？', '休日に行きたいと思います。', '海は大丈夫ですね', 'はい。あなたは海に行きますか？', '海は危険です'],\n",
       " ['外でとります',\n",
       "  '外食をされることが多いのですか？',\n",
       "  '外食は二人で行きますねぇ',\n",
       "  '食事のパートナーがいるとはうらやましい。私はいつも一人で食べます。',\n",
       "  '食事のパートナーはいてるんですね。外食で焼肉に行きますねぇ'],\n",
       " ['お気に入りの番組はありますか？',\n",
       "  'お笑いの番組はよく見るよ。',\n",
       "  'お笑いはくだらないですね',\n",
       "  'そう？嫌い？',\n",
       "  'ところで、毎日、ラジオを聴くと言っていましたが、お笑いは楽しいですね'],\n",
       " ['天気はサイコーですね', '青い空が最高だね', '晴れか雨かで、その日の気分が決まることがあるよね。', 'よくあるね', 'まじか'],\n",
       " ['ごめんなさい',\n",
       "  '何がですか？',\n",
       "  'そんなこと言わないでください。話題を変えましょう、今、行ってみたい場所はどこですか？',\n",
       "  '北海道に行ってみたいです。',\n",
       "  '北海道は仕事で行ってたのですか？'],\n",
       " ['機嫌をよくします',\n",
       "  '良くなったんだ。機嫌の方ね。調子はどう？',\n",
       "  '機嫌が悪くなってないです',\n",
       "  '調子については聞いても良いのね。良かったよ！',\n",
       "  '機嫌は悪いです'],\n",
       " ['機嫌が悪くなってないです',\n",
       "  '調子については聞いても良いのね。良かったよ！',\n",
       "  '機嫌は悪いです',\n",
       "  'この短時間に何があったの！まあまあ、笑って笑って',\n",
       "  '良いのが救いですけどねぇ'],\n",
       " ['初耳は多いらしいですよ', 'そらそうよ', 'そらそうよそらそうよ', 'そんなん知らんもん', '初耳は多いですか'],\n",
       " ['海遊館にはイルカはいませんが、大水槽で泳ぐジンベイザメが有名で、しかし残念ながら海遊館のジンベイザメは最近亡くなってしまったそうです。',\n",
       "  'それはとても悲しいですね。見てみたかったです。',\n",
       "  'クラゲが大好きなので海遊館で、期間限定にて、不老不死の「バトンドール」と超巨大「広島てっぱんグランプリ」の展示を行っているのにとても興味があります。',\n",
       "  'クラゲは見てるだけで癒やされますよね。',\n",
       "  '確か大阪の海遊館は巨大な水槽がある水族館ですよね？ 。'],\n",
       " ['確か大阪の海遊館は巨大な水槽がある水族館ですよね？ 。',\n",
       "  'ちょっと詳しくないので分からないです。',\n",
       "  'プロ野球に疎い私でも、海遊館に住んでいれば自然と峯嵐堂について詳しくなります。',\n",
       "  'いえいえ、とても物知りですよね。',\n",
       "  '大阪の旅行で海遊館に行くのは初めてです。'],\n",
       " ['阪神タイガースといえば、ランディ・メッセンジャー選手が退団されましたよね。',\n",
       "  'メッセンジャーは退団してませんよ。他の人と間違ってませんか？',\n",
       "  '昨日の試合では阪神タイガースはサヨナラ負けしてしまい残念でしたね。',\n",
       "  'そうなんですよ。もう少しで勝てたんですけどね',\n",
       "  '阪神タイガースのランディ・メッセンジャー投手は調子がいいので、今日の日本シリーズの試合は是非頑張って勝利してほしいです。'],\n",
       " ['周りの人が恩納村のフォレストアドベンチャーのような体験をするなら自分も体験するという程度ですね。',\n",
       "  '私も体験したいです。',\n",
       "  '私の「今年のときめき」は、友人達と、恩納村のフォレストアドベンチャーという施設に行ったのですが、そこでの体験にはとてもワクワクしました。',\n",
       "  '私も行ってみたいです。',\n",
       "  '恩納村にあるフォレストアドベンチャーという施設には色々とコースがあるようですが、あなたはどのようなコースを回られましたか？ 。'],\n",
       " ['今はデジカメでもPCカメラ機能付きであれば使えるから、兼用のを買うという手もありますね。',\n",
       "  '詳しいのですね、おすすめはありますか',\n",
       "  'そうですね。私もミスチルは大好きで',\n",
       "  '私も大好きです',\n",
       "  'いやいやいや。私好きなんて言ってません。'],\n",
       " ['なるほど。ちなみにお菓子とかはたべないの？',\n",
       "  '今はあまり食べませんね。',\n",
       "  '冬場にキムチ鍋はいいですね。自分も辛いものは大好きです。',\n",
       "  '私も大好きです。',\n",
       "  'いやいやいや。私好きなんて言ってません。'],\n",
       " ['では、あなたはいつも家では何をしてますか？',\n",
       "  'パソコンでインターネットを見ています。',\n",
       "  'きれいな花を見つけたら、写真も撮るんですか？',\n",
       "  '花はあまり好きではありません。',\n",
       "  'へ〜、いいですね。自分のやってみたいとは思うのですが、なかなか見つかりません。'],\n",
       " ['本格的にやる人は、キューとかケースとかも全部自分で購入してやってますよ。',\n",
       "  '全部揃えるとお金もかかりそうですね。',\n",
       "  'そんなにするんですか？！私、バイクに',\n",
       "  'ビリヤードはしませんが、スポーツバイクに乗ることはあります。',\n",
       "  'スノボーですか。かっこいいですね！横向きで滑る感覚がどうも怖くて私には無理です…。'],\n",
       " ['うん、私のは元気。',\n",
       "  '好きな食べ物はなんですか？',\n",
       "  '焼肉です．',\n",
       "  '私は焼き鳥が好きです。',\n",
       "  'そうだね．やっぱりみかんが好きなのかな？'],\n",
       " ['慣れてる方ですね',\n",
       "  '誰とよくチャットをしますか',\n",
       "  '最近は全くしません。ＭＳＮメッセンジャーでは話したりします。',\n",
       "  'ＭＳＮメッセンジャーは使いやすいですか',\n",
       "  'MSNメッセンジャーってなんですか？とても興味があります!'],\n",
       " ['当たらないだろうと思って出していません。',\n",
       "  '懸賞だよ',\n",
       "  '当たらないだろうと思って出していません。',\n",
       "  'ごめんね。2回押しちゃった。でも、賢くなったね',\n",
       "  '学習能力ゼロです。ははは']]"
      ]
     },
     "execution_count": 16,
     "metadata": {},
     "output_type": "execute_result"
    }
   ],
   "source": [
    "convs"
   ]
  },
  {
   "cell_type": "code",
   "execution_count": 17,
   "metadata": {},
   "outputs": [
    {
     "data": {
      "text/plain": [
       "2000"
      ]
     },
     "execution_count": 17,
     "metadata": {},
     "output_type": "execute_result"
    }
   ],
   "source": [
    "len(df)"
   ]
  },
  {
   "cell_type": "code",
   "execution_count": 18,
   "metadata": {},
   "outputs": [
    {
     "data": {
      "text/plain": [
       "19"
      ]
     },
     "execution_count": 18,
     "metadata": {},
     "output_type": "execute_result"
    }
   ],
   "source": [
    "(len(convs))"
   ]
  },
  {
   "cell_type": "code",
   "execution_count": 19,
   "metadata": {},
   "outputs": [],
   "source": [
    "text = \"私の住んでいる竹田城跡では、カミングアウトバラエティ秘密のケンミンSHOWがテレビ放送されていません。\"\n"
   ]
  },
  {
   "cell_type": "code",
   "execution_count": 20,
   "metadata": {},
   "outputs": [
    {
     "name": "stdout",
     "output_type": "stream",
     "text": [
      "竹田城\n",
      "ケンミンSHOW\n"
     ]
    }
   ],
   "source": [
    "for token in nlp(text).ents:\n",
    "    print(token)"
   ]
  },
  {
   "cell_type": "code",
   "execution_count": null,
   "metadata": {},
   "outputs": [],
   "source": []
  }
 ],
 "metadata": {
  "interpreter": {
   "hash": "31f2aee4e71d21fbe5cf8b01ff0e069b9275f58929596ceb00d14d90e3e16cd6"
  },
  "kernelspec": {
   "display_name": "Python 3.6.9 64-bit",
   "name": "python3"
  },
  "language_info": {
   "codemirror_mode": {
    "name": "ipython",
    "version": 3
   },
   "file_extension": ".py",
   "mimetype": "text/x-python",
   "name": "python",
   "nbconvert_exporter": "python",
   "pygments_lexer": "ipython3",
   "version": "3.6.9"
  },
  "orig_nbformat": 4
 },
 "nbformat": 4,
 "nbformat_minor": 2
}
