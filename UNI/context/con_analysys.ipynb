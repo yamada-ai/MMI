{
 "cells": [
  {
   "cell_type": "code",
   "execution_count": 1,
   "source": [
    "import os\n",
    "import json\n",
    "import copy\n",
    "import numpy as np\n",
    "import pandas as pd"
   ],
   "outputs": [],
   "metadata": {}
  },
  {
   "cell_type": "code",
   "execution_count": 2,
   "source": [
    "\n",
    "import sys\n",
    "sys.dont_write_bytecode = True\n",
    "sys.path.append('../datatools/')\n",
    "# sys.path.append('../p/')\n",
    "# from tools.maneger import DataManager\n",
    "# from tools import preproc\n",
    "from preproc import Preprocessor\n",
    "# from utterance.feature import Feature\n",
    "# from feature import Feature\n",
    "\n",
    "pre = Preprocessor()"
   ],
   "outputs": [
    {
     "output_type": "stream",
     "name": "stderr",
     "text": [
      "/usr/lib/python3/dist-packages/requests/__init__.py:80: RequestsDependencyWarning: urllib3 (1.26.5) or chardet (3.0.4) doesn't match a supported version!\n",
      "  RequestsDependencyWarning)\n"
     ]
    },
    {
     "output_type": "stream",
     "name": "stdout",
     "text": [
      "300\n"
     ]
    }
   ],
   "metadata": {}
  },
  {
   "cell_type": "code",
   "execution_count": null,
   "source": [],
   "outputs": [],
   "metadata": {}
  },
  {
   "cell_type": "code",
   "execution_count": 21,
   "source": [
    "def extract_continue_convs_with_error(df, length, errors):\n",
    "    new_convs = []\n",
    "    continue_conv = []\n",
    "    did = 0\n",
    "    for d, u, s, e in zip(df.did, df.usr, df.sys, df.ec):\n",
    "        # did が変化すれば，別の対話\n",
    "        if d != did:\n",
    "            continue_conv = []\n",
    "            did = d\n",
    "        continue_conv .append(u)\n",
    "        continue_conv .append(s)\n",
    "        for err in errors:\n",
    "            if len(continue_conv) >= length and err in e:\n",
    "                new_convs.append( continue_conv[-length:] )\n",
    "    \n",
    "    return new_convs"
   ],
   "outputs": [],
   "metadata": {}
  },
  {
   "cell_type": "code",
   "execution_count": 22,
   "source": [
    "path = '../error_category_classification/dbdc5_ja_dev_labeled/'\n",
    "datalist = ['DCM', 'DIT', 'IRS']\n",
    "\n",
    "df = pre.read_json_with_NoErr(path, datalist)"
   ],
   "outputs": [],
   "metadata": {}
  },
  {
   "cell_type": "code",
   "execution_count": 34,
   "source": [
    "# errors = [\"Lack of common sense\"]\n",
    "# errors = ['Self-contradiction', 'Contradiction', 'Repetition']\n",
    "# errors = ['Self-contradiction', 'Contradiction']\n",
    "errors = ['Semantic error']\n",
    "# errors = ['Topic transition error', 'Lack of information', 'Unclear intention']\n",
    "# errors = errors[2:3]\n",
    "print(errors)"
   ],
   "outputs": [
    {
     "output_type": "stream",
     "name": "stdout",
     "text": [
      "['Semantic error']\n"
     ]
    }
   ],
   "metadata": {}
  },
  {
   "cell_type": "code",
   "execution_count": 35,
   "source": [
    "convs = extract_continue_convs_with_error(df, 2, errors)"
   ],
   "outputs": [],
   "metadata": {}
  },
  {
   "cell_type": "code",
   "execution_count": 36,
   "source": [
    "print(len(convs))\n",
    "convs"
   ],
   "outputs": [
    {
     "output_type": "stream",
     "name": "stdout",
     "text": [
      "6\n"
     ]
    },
    {
     "output_type": "execute_result",
     "data": {
      "text/plain": [
       "[['恋愛こそケースバイケースな判断力が必要となりますしね', '必要とケースバイケースになってるんですね。ケースバイケースを見ます'],\n",
       " ['あなたの出身は？', '北海道をはじめるかもしれない'],\n",
       " ['こんにちは！元気ですか？', '元気ですかは元気です'],\n",
       " ['元気なら良かったです。', '元気は良いんですか？？元気ですかは元気か'],\n",
       " ['外に出かけたくなりますね', '天気が外に出ますよね'],\n",
       " ['２４時間やってるますからね。', 'わけは白石が好きですね']]"
      ]
     },
     "metadata": {},
     "execution_count": 36
    }
   ],
   "metadata": {}
  },
  {
   "cell_type": "code",
   "execution_count": 37,
   "source": [
    "len(df)"
   ],
   "outputs": [
    {
     "output_type": "execute_result",
     "data": {
      "text/plain": [
       "2000"
      ]
     },
     "metadata": {},
     "execution_count": 37
    }
   ],
   "metadata": {}
  },
  {
   "cell_type": "code",
   "execution_count": null,
   "source": [],
   "outputs": [],
   "metadata": {}
  }
 ],
 "metadata": {
  "orig_nbformat": 4,
  "language_info": {
   "name": "python",
   "version": "3.6.9",
   "mimetype": "text/x-python",
   "codemirror_mode": {
    "name": "ipython",
    "version": 3
   },
   "pygments_lexer": "ipython3",
   "nbconvert_exporter": "python",
   "file_extension": ".py"
  },
  "kernelspec": {
   "name": "python3",
   "display_name": "Python 3.6.9 64-bit"
  },
  "interpreter": {
   "hash": "31f2aee4e71d21fbe5cf8b01ff0e069b9275f58929596ceb00d14d90e3e16cd6"
  }
 },
 "nbformat": 4,
 "nbformat_minor": 2
}