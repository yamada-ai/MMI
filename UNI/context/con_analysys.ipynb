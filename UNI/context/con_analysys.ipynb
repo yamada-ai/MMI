{
 "cells": [
  {
   "cell_type": "code",
   "execution_count": 1,
   "metadata": {},
   "outputs": [],
   "source": [
    "import os\n",
    "import json\n",
    "import copy\n",
    "import numpy as np\n",
    "import pandas as pd"
   ]
  },
  {
   "cell_type": "code",
   "execution_count": 2,
   "metadata": {},
   "outputs": [],
   "source": [
    "import json\n",
    "import os\n",
    "import pandas as pd\n",
    "import numpy as np\n",
    "from pathlib import Path\n",
    "import collections\n",
    "from sklearn.model_selection import train_test_split\n",
    "from sklearn import metrics\n",
    "\n",
    "import sys\n",
    "sys.path.append(\"../\")\n",
    "from datatools.analyzer import *\n",
    "from utterance.error_tools import *\n",
    "\n",
    "from datatools.maneger import DataManager\n",
    "from datatools.preproc import Preprocessor"
   ]
  },
  {
   "cell_type": "code",
   "execution_count": null,
   "metadata": {},
   "outputs": [],
   "source": []
  },
  {
   "cell_type": "code",
   "execution_count": 3,
   "metadata": {},
   "outputs": [],
   "source": [
    "def extract_continue_convs_with_error(df, length, errors):\n",
    "    new_convs = []\n",
    "    continue_conv = []\n",
    "    did = 0\n",
    "    for d, u, s, e in zip(df.did, df.usr, df.sys, df.ec):\n",
    "        # did が変化すれば，別の対話\n",
    "        if d != did:\n",
    "            continue_conv = []\n",
    "            did = d\n",
    "        continue_conv .append(u)\n",
    "        continue_conv .append(s)\n",
    "        for err in errors:\n",
    "            if len(continue_conv) >= length and err in e:\n",
    "                new_convs.append( continue_conv[-length:] )\n",
    "    \n",
    "    return new_convs"
   ]
  },
  {
   "cell_type": "code",
   "execution_count": 97,
   "metadata": {},
   "outputs": [],
   "source": [
    "path = '../error_category_classification/dbdc5_ja_dev_labeled/'\n",
    "datalist = ['DCM', 'DIT', 'IRS']\n",
    "# datalist = ['DCM']\n",
    "\n",
    "df = read_json_with_NoErr(path, datalist)"
   ]
  },
  {
   "cell_type": "code",
   "execution_count": 98,
   "metadata": {},
   "outputs": [
    {
     "name": "stdout",
     "output_type": "stream",
     "text": [
      "['Lack of common sense']\n"
     ]
    }
   ],
   "source": [
    "errors = [\"Unclear intention\"]\n",
    "errors = [\"Topic transition error\"]\n",
    "errors = ['Repetition']\n",
    "errors = ['Self-contradiction', 'Contradiction']\n",
    "# errors = ['Semantic error']\n",
    "# errors = ['Grammatical error']\n",
    "errors = ['Lack of sociality']\n",
    "errors = ['Lack of common sense']\n",
    "# errors = ['Lack of information']\n",
    "# errors = ['Wrong information']\n",
    "# errors = errors[-1:]\n",
    "# errors = [\"Ignore question\"]\n",
    "# errors = ['Grammatical error', \"Uninterpretable\"]\n",
    "print(errors)"
   ]
  },
  {
   "cell_type": "code",
   "execution_count": 99,
   "metadata": {},
   "outputs": [],
   "source": [
    "convs = extract_continue_convs_with_error(df, 4, errors)"
   ]
  },
  {
   "cell_type": "code",
   "execution_count": 100,
   "metadata": {},
   "outputs": [
    {
     "data": {
      "text/plain": [
       "[['今日も暑いね。', '熱中症はいいですね', 'いいわけないよ。死んじゃうよ。', '熱中症は大丈夫ですね'],\n",
       " ['明日は猛暑らしいですから', '猛暑は欲しいですね', 'え〜欲しいの？わたしは要らないな', '猛暑は嬉しいですね'],\n",
       " ['え〜欲しいの？わたしは要らないな', '猛暑は嬉しいですね', '暑いの好きなんですね', '猛暑は欲しいですよねー'],\n",
       " ['そうですね。熱中症に気をつけて。', '熱中症が心配されます？？', '最近は暑いですからね。', '熱中症はいいですね'],\n",
       " ['そうですね。国内で死者が出ています。',\n",
       "  '国内で死者は出てるんですね。メキシコで死者が出てるんですかね',\n",
       "  'メキシコのことはわかりませんね。',\n",
       "  '死者は良いですね'],\n",
       " ['あれはどうかな', '熱中症に気をつけなければなりませんがね', 'そうだね。そして僕は一目で君に熱中症', '熱中症はいいです']]"
      ]
     },
     "execution_count": 100,
     "metadata": {},
     "output_type": "execute_result"
    }
   ],
   "source": [
    "convs"
   ]
  },
  {
   "cell_type": "code",
   "execution_count": 101,
   "metadata": {},
   "outputs": [
    {
     "data": {
      "text/plain": [
       "2000"
      ]
     },
     "execution_count": 101,
     "metadata": {},
     "output_type": "execute_result"
    }
   ],
   "source": [
    "len(df)"
   ]
  },
  {
   "cell_type": "code",
   "execution_count": 102,
   "metadata": {},
   "outputs": [
    {
     "data": {
      "text/plain": [
       "6"
      ]
     },
     "execution_count": 102,
     "metadata": {},
     "output_type": "execute_result"
    }
   ],
   "source": [
    "(len(convs))"
   ]
  },
  {
   "cell_type": "code",
   "execution_count": 103,
   "metadata": {},
   "outputs": [],
   "source": [
    "text = \"私の住んでいる竹田城跡では、カミングアウトバラエティ秘密のケンミンSHOWがテレビ放送されていません。\"\n"
   ]
  },
  {
   "cell_type": "code",
   "execution_count": 104,
   "metadata": {},
   "outputs": [
    {
     "name": "stdout",
     "output_type": "stream",
     "text": [
      "竹田城\n",
      "ケンミンSHOW\n"
     ]
    }
   ],
   "source": [
    "for token in nlp(text).ents:\n",
    "    print(token)"
   ]
  },
  {
   "cell_type": "code",
   "execution_count": null,
   "metadata": {},
   "outputs": [],
   "source": []
  }
 ],
 "metadata": {
  "interpreter": {
   "hash": "31f2aee4e71d21fbe5cf8b01ff0e069b9275f58929596ceb00d14d90e3e16cd6"
  },
  "kernelspec": {
   "display_name": "Python 3.6.9 64-bit",
   "name": "python3"
  },
  "language_info": {
   "codemirror_mode": {
    "name": "ipython",
    "version": 3
   },
   "file_extension": ".py",
   "mimetype": "text/x-python",
   "name": "python",
   "nbconvert_exporter": "python",
   "pygments_lexer": "ipython3",
   "version": "3.6.9"
  },
  "orig_nbformat": 4
 },
 "nbformat": 4,
 "nbformat_minor": 2
}
