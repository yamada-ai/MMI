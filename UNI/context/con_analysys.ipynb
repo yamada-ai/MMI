{
 "cells": [
  {
   "cell_type": "code",
   "execution_count": 6,
   "source": [
    "import os\n",
    "import json\n",
    "import copy\n",
    "import numpy as np\n",
    "import pandas as pd"
   ],
   "outputs": [],
   "metadata": {}
  },
  {
   "cell_type": "code",
   "execution_count": 9,
   "source": [
    "\n",
    "import sys\n",
    "sys.dont_write_bytecode = True\n",
    "sys.path.append('../')\n",
    "# from tools.maneger import DataManager\n",
    "from tools.preproc import Preprocessor\n",
    "# from utterance.feature import Feature\n",
    "# from feature import Feature\n",
    "\n",
    "pre = Preprocessor()"
   ],
   "outputs": [
    {
     "output_type": "stream",
     "name": "stdout",
     "text": [
      "300\n"
     ]
    }
   ],
   "metadata": {}
  },
  {
   "cell_type": "code",
   "execution_count": 23,
   "source": [
    "errors = [\"Lack of common sense\"]\n",
    "errors = ['Self-contradiction', 'Contradiction', 'Repetition']\n",
    "errors = ['Self-contradiction', 'Contradiction']"
   ],
   "outputs": [],
   "metadata": {}
  },
  {
   "cell_type": "code",
   "execution_count": 19,
   "source": [
    "def extract_continue_convs_with_error(df, length, errors):\n",
    "    new_convs = []\n",
    "    continue_conv = []\n",
    "    did = 0\n",
    "    for d, u, s, e in zip(df.did, df.usr, df.sys, df.ec):\n",
    "        # did が変化すれば，別の対話\n",
    "        if d != did:\n",
    "            continue_conv = []\n",
    "            did = d\n",
    "        continue_conv .append(u)\n",
    "        continue_conv .append(s)\n",
    "        for err in errors:\n",
    "            if len(continue_conv) >= length and err in e:\n",
    "                new_convs.append( continue_conv[-length:] )\n",
    "    \n",
    "    return new_convs"
   ],
   "outputs": [],
   "metadata": {}
  },
  {
   "cell_type": "code",
   "execution_count": 20,
   "source": [
    "path = '../error_category_classification/dbdc5_ja_dev_labeled/'\n",
    "datalist = ['DCM', 'DIT', 'IRS']\n",
    "\n",
    "df = pre.read_json_with_NoErr(path, datalist)"
   ],
   "outputs": [],
   "metadata": {}
  },
  {
   "cell_type": "code",
   "execution_count": 24,
   "source": [
    "convs = extract_continue_convs_with_error(df, 4, errors)"
   ],
   "outputs": [],
   "metadata": {}
  },
  {
   "cell_type": "code",
   "execution_count": 25,
   "source": [
    "print(len(convs))\n",
    "convs"
   ],
   "outputs": [
    {
     "output_type": "stream",
     "name": "stdout",
     "text": [
      "23\n"
     ]
    },
    {
     "output_type": "execute_result",
     "data": {
      "text/plain": [
       "[['休日に行きたいと思います。', '海は大丈夫ですね', 'はい。あなたは海に行きますか？', '海は危険です'],\n",
       " ['外食をされることが多いのですか？',\n",
       "  '外食は二人で行きますねぇ',\n",
       "  '食事のパートナーがいるとはうらやましい。私はいつも一人で食べます。',\n",
       "  '食事のパートナーはいてるんですね。外食で焼肉に行きますねぇ'],\n",
       " ['お笑いの番組はよく見るよ。',\n",
       "  'お笑いはくだらないですね',\n",
       "  'そう？嫌い？',\n",
       "  'ところで、毎日、ラジオを聴くと言っていましたが、お笑いは楽しいですね'],\n",
       " ['青い空が最高だね', '晴れか雨かで、その日の気分が決まることがあるよね。', 'よくあるね', 'まじか'],\n",
       " ['何がですか？',\n",
       "  'そんなこと言わないでください。話題を変えましょう、今、行ってみたい場所はどこですか？',\n",
       "  '北海道に行ってみたいです。',\n",
       "  '北海道は仕事で行ってたのですか？'],\n",
       " ['良くなったんだ。機嫌の方ね。調子はどう？', '機嫌が悪くなってないです', '調子については聞いても良いのね。良かったよ！', '機嫌は悪いです'],\n",
       " ['調子については聞いても良いのね。良かったよ！',\n",
       "  '機嫌は悪いです',\n",
       "  'この短時間に何があったの！まあまあ、笑って笑って',\n",
       "  '良いのが救いですけどねぇ'],\n",
       " ['そらそうよ', 'そらそうよそらそうよ', 'そんなん知らんもん', '初耳は多いですか'],\n",
       " ['それはとても悲しいですね。見てみたかったです。',\n",
       "  'クラゲが大好きなので海遊館で、期間限定にて、不老不死の「バトンドール」と超巨大「広島てっぱんグランプリ」の展示を行っているのにとても興味があります。',\n",
       "  'クラゲは見てるだけで癒やされますよね。',\n",
       "  '確か大阪の海遊館は巨大な水槽がある水族館ですよね？ 。'],\n",
       " ['ちょっと詳しくないので分からないです。',\n",
       "  'プロ野球に疎い私でも、海遊館に住んでいれば自然と峯嵐堂について詳しくなります。',\n",
       "  'いえいえ、とても物知りですよね。',\n",
       "  '大阪の旅行で海遊館に行くのは初めてです。'],\n",
       " ['メッセンジャーは退団してませんよ。他の人と間違ってませんか？',\n",
       "  '昨日の試合では阪神タイガースはサヨナラ負けしてしまい残念でしたね。',\n",
       "  'そうなんですよ。もう少しで勝てたんですけどね',\n",
       "  '阪神タイガースのランディ・メッセンジャー投手は調子がいいので、今日の日本シリーズの試合は是非頑張って勝利してほしいです。'],\n",
       " ['私も体験したいです。',\n",
       "  '私の「今年のときめき」は、友人達と、恩納村のフォレストアドベンチャーという施設に行ったのですが、そこでの体験にはとてもワクワクしました。',\n",
       "  '私も行ってみたいです。',\n",
       "  '恩納村にあるフォレストアドベンチャーという施設には色々とコースがあるようですが、あなたはどのようなコースを回られましたか？ 。'],\n",
       " ['詳しいのですね、おすすめはありますか',\n",
       "  'そうですね。私もミスチルは大好きで',\n",
       "  '私も大好きです',\n",
       "  'いやいやいや。私好きなんて言ってません。'],\n",
       " ['本を読むことですね',\n",
       "  '洋書でいったらTuesday\\u3000with\\u3000Morrieを読んで泣きそうになりました。',\n",
       "  '洋書は読んだことありません',\n",
       "  'そんなんですか。洋書といいますと英語ですか？それともドイツ語とかも読みます？'],\n",
       " ['特に何もしていないです',\n",
       "  '地下鉄で。名大前ができてすごく便利になりましたね、ここの大学。',\n",
       "  '名古屋についてはほとんど知らないです',\n",
       "  'そうかなー名古屋のどこ遊びに行ったりするの？'],\n",
       " ['今はあまり食べませんね。',\n",
       "  '冬場にキムチ鍋はいいですね。自分も辛いものは大好きです。',\n",
       "  '私も大好きです。',\n",
       "  'いやいやいや。私好きなんて言ってません。'],\n",
       " ['パソコンでインターネットを見ています。',\n",
       "  'きれいな花を見つけたら、写真も撮るんですか？',\n",
       "  '花はあまり好きではありません。',\n",
       "  'へ〜、いいですね。自分のやってみたいとは思うのですが、なかなか見つかりません。'],\n",
       " ['全部揃えるとお金もかかりそうですね。',\n",
       "  'そんなにするんですか？！私、バイクに',\n",
       "  'ビリヤードはしませんが、スポーツバイクに乗ることはあります。',\n",
       "  'スノボーですか。かっこいいですね！横向きで滑る感覚がどうも怖くて私には無理です…。'],\n",
       " ['いつもパソコンをしていますね。', 'チャットとかはやったりするんですか？', 'チャットはしたことがないんですよ。', '慣れてる方ですね'],\n",
       " ['家ではパソコンで映画を見たりしています。',\n",
       "  'よく見るのですか？',\n",
       "  'あまり外に出るのが好きではないので、家にいることが多いですね。',\n",
       "  '夏山に行かれるんですか。夏山もいいですね。'],\n",
       " ['好きな食べ物はなんですか？', '焼肉です．', '私は焼き鳥が好きです。', 'そうだね．やっぱりみかんが好きなのかな？'],\n",
       " ['誰とよくチャットをしますか',\n",
       "  '最近は全くしません。ＭＳＮメッセンジャーでは話したりします。',\n",
       "  'ＭＳＮメッセンジャーは使いやすいですか',\n",
       "  'MSNメッセンジャーってなんですか？とても興味があります!'],\n",
       " ['懸賞だよ', '当たらないだろうと思って出していません。', 'ごめんね。2回押しちゃった。でも、賢くなったね', '学習能力ゼロです。ははは']]"
      ]
     },
     "metadata": {},
     "execution_count": 25
    }
   ],
   "metadata": {}
  },
  {
   "cell_type": "code",
   "execution_count": null,
   "source": [],
   "outputs": [],
   "metadata": {}
  },
  {
   "cell_type": "code",
   "execution_count": null,
   "source": [],
   "outputs": [],
   "metadata": {}
  }
 ],
 "metadata": {
  "orig_nbformat": 4,
  "language_info": {
   "name": "python",
   "version": "3.6.9",
   "mimetype": "text/x-python",
   "codemirror_mode": {
    "name": "ipython",
    "version": 3
   },
   "pygments_lexer": "ipython3",
   "nbconvert_exporter": "python",
   "file_extension": ".py"
  },
  "kernelspec": {
   "name": "python3",
   "display_name": "Python 3.6.9 64-bit"
  },
  "interpreter": {
   "hash": "31f2aee4e71d21fbe5cf8b01ff0e069b9275f58929596ceb00d14d90e3e16cd6"
  }
 },
 "nbformat": 4,
 "nbformat_minor": 2
}