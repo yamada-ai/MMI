{
 "cells": [
  {
   "cell_type": "code",
   "execution_count": 1,
   "metadata": {},
   "outputs": [
    {
     "name": "stderr",
     "output_type": "stream",
     "text": [
      "/usr/lib/python3/dist-packages/requests/__init__.py:80: RequestsDependencyWarning: urllib3 (1.26.5) or chardet (3.0.4) doesn't match a supported version!\n",
      "  RequestsDependencyWarning)\n"
     ]
    }
   ],
   "source": [
    "import json\n",
    "import tweepy\n"
   ]
  },
  {
   "cell_type": "code",
   "execution_count": 2,
   "metadata": {},
   "outputs": [],
   "source": [
    "def load_token(path):\n",
    "    with open(path, \"r\") as f:\n",
    "        json_data = json.load(f)\n",
    "        AKey = json_data[\"API Key\"]\n",
    "        ASec = json_data[\"API Secret Key\"]\n",
    "        AcToken = json_data[\"Access Token\"]\n",
    "        AcTokenSec = json_data[\"Access Token Secret\"]\n",
    "    return AKey, ASec, AcToken, AcTokenSec"
   ]
  },
  {
   "cell_type": "code",
   "execution_count": 3,
   "metadata": {},
   "outputs": [],
   "source": [
    "path = \"../../corpus/CorpusMakerAI.json\"\n",
    "AKey, ASec, AcToken, AcTokenSec = load_token(path)"
   ]
  },
  {
   "cell_type": "code",
   "execution_count": 4,
   "metadata": {},
   "outputs": [],
   "source": [
    "class Tweet:\n",
    "    def __init__(self, status):\n",
    "        self.in_reply_to_status_id = status.in_reply_to_status_id\n",
    "        self.text = status.text\n",
    "        self.created_at = status.created_at\n",
    "        self.screen_name = status.user.screen_name\n",
    "        self.username = status.user.name\n",
    "        self.user_id = status.user.id"
   ]
  },
  {
   "cell_type": "code",
   "execution_count": 5,
   "metadata": {},
   "outputs": [],
   "source": [
    "def _in(arg1, arg2, mode=\"or\"):\n",
    "    result = False\n",
    "    if isinstance(arg1, list):\n",
    "        if mode == \"and\":\n",
    "            for element in arg1:\n",
    "                if isinstance(element, str):\n",
    "                    if element not in arg2:\n",
    "                        return False\n",
    "            return True\n",
    "        # or\n",
    "        for element in arg1:\n",
    "            if isinstance(element, str):\n",
    "                if element in arg2:\n",
    "                    result = True\n",
    "                    break\n",
    "            else:\n",
    "                if element == arg2:\n",
    "                    result = True\n",
    "                    break\n",
    "    else:\n",
    "        if isinstance(arg1, str):\n",
    "            if arg1 in arg2:\n",
    "                result = True\n",
    "        else:\n",
    "            if arg1 == arg2:\n",
    "                result = True\n",
    "    return result"
   ]
  },
  {
   "cell_type": "code",
   "execution_count": 6,
   "metadata": {},
   "outputs": [],
   "source": [
    "import spacy\n",
    "import re\n",
    "from datetime import timedelta\n",
    "import os\n",
    "\n",
    "class StreamListener(tweepy.StreamListener):\n",
    "\n",
    "    def __init__(self, api, corpus_path, name):\n",
    "        super(StreamListener, self).__init__()\n",
    "        self.nlp =  spacy.load('ja_ginza')\n",
    "        self.filter_pos = [\"名詞\", \"動詞\", \"形状詞\", \"形容詞\"]\n",
    "\n",
    "        self.api = api\n",
    "        self.lookup_ids = []\n",
    "        self.reply_dict = dict()\n",
    "        \n",
    "        self.corpus_path = corpus_path\n",
    "        self.name = name\n",
    "        \n",
    "        if name in os.listdir(corpus_path):\n",
    "           \n",
    "            with open(corpus_path+name, \"r\") as f:\n",
    "                self.conversations = json.load(f)\n",
    "            print(\"success load:\", name) \n",
    "        else:\n",
    "            self.conversations = {\"convs\":[]}\n",
    "\n",
    "        self.counts = 0\n",
    "\n",
    "    def on_status(self, status):\n",
    "        self.counts += 1\n",
    "        \n",
    "        # if self.counts % 100 == 0:\n",
    "        #     print(\"crawled...{0}, id_length: {1}\".format(self.counts, len(self.lookup_ids)))\n",
    "\n",
    "        # リプライではない -> NO\n",
    "        if self.is_status_tweet(status):\n",
    "            return\n",
    "        \n",
    "        # 無効ならば => NO\n",
    "        if self.is_invalid_tweet(status):\n",
    "            return\n",
    "        \n",
    "        self.lookup_ids.append(status.in_reply_to_status_id)\n",
    "        self.reply_dict[status.in_reply_to_status_id] = Tweet(status)\n",
    "        print(\".\", end='', flush=True)\n",
    "        if len(self.lookup_ids) >= 50:\n",
    "            print(\"\\nCalling statuses_lookup API...\")\n",
    "            # 多分これで検索してる\n",
    "            statuses = self.api.statuses_lookup(self.lookup_ids)\n",
    "\n",
    "            for status in statuses:\n",
    "                if self.is_status_tweet(status):\n",
    "                    continue\n",
    "\n",
    "                if self.is_invalid_tweet(status):\n",
    "                    continue\n",
    "\n",
    "                reply = self.reply_dict[status.id] \n",
    "                # リプライ先が同じユーザー？\n",
    "                if status.user.id == reply.user_id:\n",
    "                    continue\n",
    "                \n",
    "                self.add_conversation(status, reply)\n",
    "                self.print_conversation(status, reply)\n",
    "            self.lookup_ids = []\n",
    "            self.reply_dict = {}\n",
    "\n",
    "            \n",
    "\n",
    "    def is_status_tweet(self, status):\n",
    "        # リプライではないただのツイートか確認\n",
    "        if status.in_reply_to_status_id is None:\n",
    "            return True\n",
    "    \n",
    "    # いらないツイートか調べる\n",
    "    def is_invalid_tweet(self, status):\n",
    "        # print(status.lang )\n",
    "        if status.lang != \"ja\":\n",
    "            # 日本語か確認\n",
    "            return True\n",
    "        # print(status.text)\n",
    "        if \"bot\" in status.user.screen_name:\n",
    "            return True\n",
    "\n",
    "        if re.search(r\"https?://\", status.text):\n",
    "            return True\n",
    "\n",
    "        if re.search(r\"#(\\w+)\", status.text):\n",
    "            # ハッシュタグ\n",
    "            return True\n",
    "        # print(status.text)\n",
    "        # 複数の相手にリプライしているか？\n",
    "        tweet = re.sub(r\"@([A-Za-z0-9_]+)\", \"<unk>\", status.text)\n",
    "        if tweet.split().count(\"<unk>\") > 1:\n",
    "            return True\n",
    "\n",
    "        # 長いツイートか？\n",
    "        if len(tweet.replace(\"<unk>\", \"\")) > 30:\n",
    "            return True\n",
    "        \n",
    "        # 内容語が含まれているか\n",
    "        if not self._is_contain_POS(status.text):\n",
    "            return True\n",
    "        \n",
    "        # 発話の長さは適当か(形態素が6つ以上)\n",
    "\n",
    "\n",
    "        return False\n",
    "    \n",
    "    def _is_contain_POS(self, text):\n",
    "        doc = self.nlp(text, disable=['ner'])\n",
    "        if len(doc) < 7:\n",
    "            return False\n",
    "        for token in doc:\n",
    "            if \"助動詞\" not in token.tag_ and _in(self.filter_pos, token.tag_):\n",
    "                return True\n",
    "        return False\n",
    "    \n",
    "    # def _is_morpheme_len(self, text):\n",
    "\n",
    "    \n",
    "    def cleanup_text(self, status):\n",
    "        text = re.sub(r\"@([A-Za-z0-9_]+) \", \"\", status.text)\n",
    "        text = re.sub(\"\\s+\", ' ', text).strip()\n",
    "        return text.replace(\"&gt;\", \">\").replace(\"&lt;\", \"<\").replace(\"&amp;\", \"&\")\n",
    "    \n",
    "\n",
    "    def print_conversation(self, reply1, reply2):\n",
    "        print('------------ 会話 ------------')\n",
    "        print(\"reply1:@{}({}): {}\".format(\n",
    "            reply1.user.screen_name,\n",
    "            reply1.created_at + timedelta(hours=+9),\n",
    "            reply1.text)\n",
    "        )\n",
    "        print(\"reply2:@{}({}): {}\".format(\n",
    "            reply2.screen_name,\n",
    "            reply2.created_at + timedelta(hours=+9),\n",
    "            reply2.text)\n",
    "        )\n",
    "        print('-'*30)\n",
    "\n",
    "    def add_conversation(self, reply1, reply2):\n",
    "        reply1 = self.cleanup_text(reply1)\n",
    "        reply2 = self.cleanup_text(reply2)\n",
    "        data = {\n",
    "            \"rep1\": reply1,\n",
    "            \"rep2\": reply2\n",
    "            }\n",
    "        self.conversations[\"convs\"].append(data)\n",
    "    \n",
    "\n",
    "    def save_conv(self):\n",
    "        with open(self.corpus_path+self.name, \"w\") as f:\n",
    "            json.dump(self.conversations, f, ensure_ascii=False, indent=4)\n"
   ]
  },
  {
   "cell_type": "code",
   "execution_count": 7,
   "metadata": {},
   "outputs": [],
   "source": [
    "auth = tweepy.OAuthHandler(AKey, ASec)\n",
    "auth.set_access_token(AcToken, AcTokenSec)\n",
    "api = tweepy.API(auth)"
   ]
  },
  {
   "cell_type": "code",
   "execution_count": 8,
   "metadata": {},
   "outputs": [
    {
     "name": "stdout",
     "output_type": "stream",
     "text": [
      "success load: conv.json\n"
     ]
    },
    {
     "data": {
      "text/plain": [
       "True"
      ]
     },
     "execution_count": 8,
     "metadata": {},
     "output_type": "execute_result"
    }
   ],
   "source": [
    "out_path = \"../../corpus/twitter/\"\n",
    "name = \"conv.json\"\n",
    "listener = StreamListener(api, out_path, name)\n",
    "streaming = tweepy.Stream(auth, listener)\n",
    "\n",
    "listener._is_contain_POS(\"観光地の食べ物は高いですもんね\")"
   ]
  },
  {
   "cell_type": "code",
   "execution_count": 9,
   "metadata": {},
   "outputs": [
    {
     "name": "stdout",
     "output_type": "stream",
     "text": [
      "..................................................\n",
      "Calling statuses_lookup API...\n",
      "------------ 会話 ------------\n",
      "reply1:@sho_chan_rnhm(2021-10-23 10:51:32): @azu_ntk あずちゃんの絵で\n",
      "年賀状送って欲しい！\n",
      "reply2:@azu_ntk(2021-10-23 15:13:46): @sho_chan_rnhm ぜひ送りたいところです‼️（？）\n",
      "------------------------------\n",
      "------------ 会話 ------------\n",
      "reply1:@c09_y11(2021-10-23 14:53:49): @KEKKON_llll ありこまち！こまちはピチピチのJKでいるんだよ\n",
      "reply2:@KEKKON_llll(2021-10-23 15:13:36): @c09_y11 鬱JDからいろいろ教わってるから大丈夫だよ！\n",
      "------------------------------\n",
      "------------ 会話 ------------\n",
      "reply1:@_kunimitsu_mai(2021-10-23 15:10:42): @EmperorTemGS521 可愛いお写真だね☺️💕\n",
      "真田くんも楽しそう🤭✨✨\n",
      "reply2:@EmperorTemGS521(2021-10-23 15:14:00): @_kunimitsu_mai ありがとう🥺💕コースターお迎えしたのでプレゼントさせてね🍀\n",
      "------------------------------\n",
      "------------ 会話 ------------\n",
      "reply1:@azup_alize(2021-10-23 15:10:16): @thepuroi 配信も？？？\n",
      "reply2:@thepuroi(2021-10-23 15:13:28): @azup_alize さらばsweet step\n",
      "------------------------------\n",
      "------------ 会話 ------------\n",
      "reply1:@ITSUKI34810(2021-10-23 15:10:41): @BOKITENSU あら、珍しい〜\n",
      "可愛いから大丈夫(*ฅ́˘ฅ̀*)♡\n",
      "reply2:@BOKITENSU(2021-10-23 15:13:34): @ITSUKI34810 つけまつげもつけた❣️\n",
      "ありがとうね⸜( ◜࿁◝ )⸝︎︎\n",
      "------------------------------\n",
      "------------ 会話 ------------\n",
      "reply1:@SoysauceTamari(2021-10-23 15:13:13): @meuru_izm また起きたらお互い頑張ろうぜ…\n",
      "reply2:@meuru_izm(2021-10-23 15:13:36): @SoysauceTamari そうしよ……………………………\n",
      "------------------------------\n",
      "------------ 会話 ------------\n",
      "reply1:@CjI8Zrc3xEVcPAs(2021-10-23 15:13:03): @mafuda_09 お疲れ様です！\n",
      "reply2:@mafuda_09(2021-10-23 15:13:55): @CjI8Zrc3xEVcPAs おつあり！\n",
      "------------------------------\n",
      "------------ 会話 ------------\n",
      "reply1:@hattinn_SB69(2021-10-23 12:42:32): @osihaseigidesu きれいやんけぇ💕\n",
      "reply2:@osihaseigidesu(2021-10-23 15:14:28): @hattinn_SB69 ありがとーー！！\n",
      "------------------------------\n",
      "------------ 会話 ------------\n",
      "reply1:@bax0424(2021-10-23 15:13:03): @neeeeeedl_b 頑張って探してみようw\n",
      "高いやろうけど←\n",
      "reply2:@neeeeeedl_b(2021-10-23 15:13:55): @bax0424 ﾋﾝ………\n",
      "------------------------------\n",
      "------------ 会話 ------------\n",
      "reply1:@inui00_Vtuber(2021-10-23 15:13:40): @teartear1224 お姉さまに甘えてよいですよ！\n",
      "reply2:@teartear1224(2021-10-23 15:14:14): @inui00_Vtuber 顔埋めてめっちゃ吸いたい٩( ๑╹ ꇴ╹)۶\n",
      "------------------------------\n",
      "------------ 会話 ------------\n",
      "reply1:@Ange_XIV(2021-10-23 15:12:36): @shishio440gao あおちゃんのモンクか\n",
      "あっくんの踊り子待ちかな💕🥺\n",
      "reply2:@shishio440gao(2021-10-23 15:13:52): @Ange_XIV 昨日の魔科学行ってたPTやん🤣🤣🤣\n",
      "------------------------------\n",
      "------------ 会話 ------------\n",
      "reply1:@Budouudesuyo(2021-10-23 15:13:08): @r_ss9865 今日空いてないん？\n",
      "reply2:@r_ss9865(2021-10-23 15:14:21): @Budouudesuyo 空いているちゃ空いている\n",
      "------------------------------\n",
      "------------ 会話 ------------\n",
      "reply1:@takeboki_toaru(2021-10-23 13:16:23): @haru_san_desu 悔しいですがたぶん引きます😇\n",
      "reply2:@haru_san_desu(2021-10-23 15:13:46): @takeboki_toaru いや、さすがっす🤣\n",
      "------------------------------\n",
      "------------ 会話 ------------\n",
      "reply1:@mmk18_yui(2021-10-23 15:13:30): @yvnhl__ やっぱりか…🥲\n",
      "クリスタルガイザーはどう？\n",
      "reply2:@yvnhl__(2021-10-23 15:13:58): @mmk18_yui クリスタルガイザーは軟水指定だからぐびぐびいけるよ！！！！\n",
      "------------------------------\n",
      "------------ 会話 ------------\n",
      "reply1:@Jnasia(2021-10-23 13:34:35): @tomokoj226 オネエさま方お元気だすうう😆\n",
      "reply2:@tomokoj226(2021-10-23 15:13:56): @Jnasia ｡ﾟ(ﾟﾉ∀｀ﾟ)ﾟ｡ｱﾋｬﾋｬ～\n",
      "------------------------------\n",
      "------------ 会話 ------------\n",
      "reply1:@soraaoinya(2021-10-23 14:46:53): @ikano_sabu1 見えちゃうよね！笑\n",
      "時系列逆だけど笑\n",
      "reply2:@ikano_sabu1(2021-10-23 15:13:30): @soraaoinya ホントそらちゃん！！\n",
      "よく発見したねぇ！？！ww🦑\n",
      "------------------------------\n",
      "........"
     ]
    }
   ],
   "source": [
    "while True:\n",
    "    try:\n",
    "        streaming.sample()\n",
    "    except KeyboardInterrupt:\n",
    "        streaming.disconnect()\n",
    "        break\n",
    "    except Exception as e:\n",
    "        streaming.disconnect()\n",
    "        print(e)"
   ]
  },
  {
   "cell_type": "code",
   "execution_count": 10,
   "metadata": {},
   "outputs": [
    {
     "data": {
      "text/plain": [
       "{'convs': [{'rep1': 'ゲラッゲラッゲラッしか分からないから、勉強してきます！！笑', 'rep2': '古すぎたかあー😁'},\n",
       "  {'rep1': '勇者組む予定だったんですね😓', 'rep2': '全部組みます(꒪˙꒳˙꒪ )👍'},\n",
       "  {'rep1': 'キッズルーム広いなぁ。 今度いってみよーっと。', 'rep2': '広いけど何もないんよ🤣 でも快適！❤️'},\n",
       "  {'rep1': 'さか というのお好きなように🙆🏻⸝⋆', 'rep2': 'さかちゃんて呼びますね🎶'},\n",
       "  {'rep1': '明日もお仕事なのね\\U0001f97a おやすみなさ〜い💤', 'rep2': 'おやすみなさーい'},\n",
       "  {'rep1': '無事打てて何より✨今日明日はゆっくり休んでね～🌠💕', 'rep2': 'ありがとー！💕'},\n",
       "  {'rep1': 'ちゃんと金曜日で安心😮\\u200d💨爆笑', 'rep2': 'ほんとに！！ね！！！😌'},\n",
       "  {'rep1': '最高にイージャン♪ですね', 'rep2': 'わぉ！イージャン☆ みんなラージャン友達～☆🦍🤝🦍'},\n",
       "  {'rep1': 'よろしくお願いします🎶', 'rep2': 'よろしくお願いします〜！💕'},\n",
       "  {'rep1': 'お疲れ様です よく頑張りましたね', 'rep2': 'やったぜ(◜◡‾)'},\n",
       "  {'rep1': 'ﾟ+.*ｻｯｽｶﾞｧ━━━d(≧U≦●)━━━★*.+ﾟ', 'rep2': '(´>∀<｀)ゝ))ｴﾍﾍ'},\n",
       "  {'rep1': '下手に攻めたら憶えられちゃう！', 'rep2': 'まるでアヌビス神じゃないですか！'},\n",
       "  {'rep1': 'センサーを防水処理しときましょかwww', 'rep2': 'ライフジャケットの意味ねぇww'},\n",
       "  {'rep1': '運動部文化部なんで減らないのがちなく', 'rep2': '自分も文化部（美術部）よ'},\n",
       "  {'rep1': 'あんま いらないかな😂', 'rep2': '勝手にふえちゃうですよ😅'},\n",
       "  {'rep1': 'まぢかよらっきー！！！', 'rep2': '答えれんかったら全然大丈夫ー！'},\n",
       "  {'rep1': 'そうだといいですね…', 'rep2': 'そう考えた方が気楽にやれると思いますわ〜'},\n",
       "  {'rep1': 'あついからきをつけてね', 'rep2': 'ありがと！！！熱中症対策バッチリ👍'},\n",
       "  {'rep1': 'お疲れ様でした😭', 'rep2': 'ありがとー🙆\\u200d♀️！'},\n",
       "  {'rep1': 'まじでしょぼんっていってたw', 'rep2': 'しょぼんはしょぼんだ()'},\n",
       "  {'rep1': '安い❣ （๑•﹃•๑）お…ぉぃしそぉｰ♡', 'rep2': '出汁の香りが食欲そそり、大満足のボリュームです😊♪'},\n",
       "  {'rep1': 'あれ？ 友達にいないかも…', 'rep2': 'じゃあアカウント消されたかも！ 残してたのに……'},\n",
       "  {'rep1': '鈴虫ってんだろ あほ○ね', 'rep2': '蛍に鳴き声はないですよ'},\n",
       "  {'rep1': '遠いな笑笑', 'rep2': 'そうゆうと思ってた'},\n",
       "  {'rep1': '大優勝トロフィー何個あっても足りない', 'rep2': '間違いない🥇'},\n",
       "  {'rep1': 'いやまじ鬼だわなまはげ鬼ヶ島((は', 'rep2': 'いいねその名前…センスあr((((('},\n",
       "  {'rep1': '素敵かなぁ…素敵だといいなぁ…なんせ久々すぎてw', 'rep2': 'めちゃ素敵です！！相変わらずカッコイイです！'},\n",
       "  {'rep1': '男子プリキュアもいたしな……', 'rep2': 'しかしその先に待つのはダブル絶望'},\n",
       "  {'rep1': '難しい言葉を使われた( ˘•ω•˘ ) By今年受験生', 'rep2': '中3ですがね？間違ってたら申し訳ない…'},\n",
       "  {'rep1': '良きね！！！かてぃウルフ私もやりたい！！！', 'rep2': 'ちかちゃん似合いそう\\U0001f97a💓'},\n",
       "  {'rep1': 'まじでやばいww4月か長いなまじでたのしみ🤤', 'rep2': '(σ・ω・)σそれな！受験生やけど絶対に見る！！！！'},\n",
       "  {'rep1': 'あしきれい((そこじゃない', 'rep2': 'まあ引きこもりですから（）'},\n",
       "  {'rep1': 'いやいや！', 'rep2': 'とりあえず、ライブにむけて本気で垢抜け頑張る✊'},\n",
       "  {'rep1': 'ホントにそれしか言わんな()', 'rep2': 'まあいいでしょう'},\n",
       "  {'rep1': '無脳てゃすぐ出来そう', 'rep2': 'うあん、、、'},\n",
       "  {'rep1': 'それは美少女の間違いで草', 'rep2': 'ほんま美少女やねん…すき'},\n",
       "  {'rep1': 'あずちゃんの絵で 年賀状送って欲しい！', 'rep2': 'ぜひ送りたいところです‼️（？）'},\n",
       "  {'rep1': 'ありこまち！こまちはピチピチのJKでいるんだよ', 'rep2': '鬱JDからいろいろ教わってるから大丈夫だよ！'},\n",
       "  {'rep1': '可愛いお写真だね☺️💕 真田くんも楽しそう\\U0001f92d✨✨',\n",
       "   'rep2': 'ありがとう\\U0001f97a💕コースターお迎えしたのでプレゼントさせてね🍀'},\n",
       "  {'rep1': '配信も？？？', 'rep2': 'さらばsweet step'},\n",
       "  {'rep1': 'あら、珍しい〜 可愛いから大丈夫(*ฅ́˘ฅ̀*)♡',\n",
       "   'rep2': 'つけまつげもつけた❣️ ありがとうね⸜( ◜࿁◝ )⸝︎︎'},\n",
       "  {'rep1': 'また起きたらお互い頑張ろうぜ…', 'rep2': 'そうしよ……………………………'},\n",
       "  {'rep1': 'お疲れ様です！', 'rep2': 'おつあり！'},\n",
       "  {'rep1': 'きれいやんけぇ💕', 'rep2': 'ありがとーー！！'},\n",
       "  {'rep1': '頑張って探してみようw 高いやろうけど←', 'rep2': 'ﾋﾝ………'},\n",
       "  {'rep1': 'お姉さまに甘えてよいですよ！', 'rep2': '顔埋めてめっちゃ吸いたい٩( ๑╹ ꇴ╹)۶'},\n",
       "  {'rep1': 'あおちゃんのモンクか あっくんの踊り子待ちかな💕\\U0001f97a', 'rep2': '昨日の魔科学行ってたPTやん🤣🤣🤣'},\n",
       "  {'rep1': '今日空いてないん？', 'rep2': '空いているちゃ空いている'},\n",
       "  {'rep1': '悔しいですがたぶん引きます😇', 'rep2': 'いや、さすがっす🤣'},\n",
       "  {'rep1': 'やっぱりか…\\U0001f972 クリスタルガイザーはどう？',\n",
       "   'rep2': 'クリスタルガイザーは軟水指定だからぐびぐびいけるよ！！！！'},\n",
       "  {'rep1': 'オネエさま方お元気だすうう😆', 'rep2': '｡ﾟ(ﾟﾉ∀｀ﾟ)ﾟ｡ｱﾋｬﾋｬ～'},\n",
       "  {'rep1': '見えちゃうよね！笑 時系列逆だけど笑', 'rep2': 'ホントそらちゃん！！ よく発見したねぇ！？！ww🦑'}]}"
      ]
     },
     "execution_count": 10,
     "metadata": {},
     "output_type": "execute_result"
    }
   ],
   "source": [
    "listener.conversations"
   ]
  },
  {
   "cell_type": "code",
   "execution_count": 115,
   "metadata": {},
   "outputs": [],
   "source": [
    "\n",
    "listener.save_conv()"
   ]
  },
  {
   "cell_type": "code",
   "execution_count": 97,
   "metadata": {},
   "outputs": [],
   "source": [
    "with open(out_path+\"conv.json\", \"w\") as f:\n",
    "    json.dump(listener.conversations, f, ensure_ascii=False, indent=4)"
   ]
  },
  {
   "cell_type": "code",
   "execution_count": 98,
   "metadata": {},
   "outputs": [
    {
     "data": {
      "text/plain": [
       "True"
      ]
     },
     "execution_count": 98,
     "metadata": {},
     "output_type": "execute_result"
    }
   ],
   "source": [
    "listener._is_contain_POS(\"ありがとうございます😎\")"
   ]
  },
  {
   "cell_type": "code",
   "execution_count": 99,
   "metadata": {},
   "outputs": [],
   "source": [
    "nlp =  spacy.load('ja_ginza')\n"
   ]
  },
  {
   "cell_type": "code",
   "execution_count": 105,
   "metadata": {},
   "outputs": [
    {
     "name": "stdout",
     "output_type": "stream",
     "text": [
      "ホニャラホニャ 名詞-普通名詞-一般\n"
     ]
    }
   ],
   "source": [
    "doc = nlp(\"ホニャラホニャ\")\n",
    "for token in doc:\n",
    "    print(token, token.tag_)"
   ]
  },
  {
   "cell_type": "code",
   "execution_count": null,
   "metadata": {},
   "outputs": [],
   "source": []
  },
  {
   "cell_type": "code",
   "execution_count": null,
   "metadata": {},
   "outputs": [],
   "source": []
  },
  {
   "cell_type": "code",
   "execution_count": null,
   "metadata": {},
   "outputs": [],
   "source": []
  }
 ],
 "metadata": {
  "interpreter": {
   "hash": "31f2aee4e71d21fbe5cf8b01ff0e069b9275f58929596ceb00d14d90e3e16cd6"
  },
  "kernelspec": {
   "display_name": "Python 3.6.9 64-bit",
   "name": "python3"
  },
  "language_info": {
   "codemirror_mode": {
    "name": "ipython",
    "version": 3
   },
   "file_extension": ".py",
   "mimetype": "text/x-python",
   "name": "python",
   "nbconvert_exporter": "python",
   "pygments_lexer": "ipython3",
   "version": "3.6.9"
  },
  "orig_nbformat": 4
 },
 "nbformat": 4,
 "nbformat_minor": 2
}
