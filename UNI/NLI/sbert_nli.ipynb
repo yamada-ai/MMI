{
 "cells": [
  {
   "cell_type": "code",
   "execution_count": 1,
   "metadata": {},
   "outputs": [],
   "source": [
    "import json\n",
    "import os\n",
    "import pandas as pd\n",
    "import numpy as np\n",
    "from pathlib import Path\n",
    "import collections\n",
    "from sklearn.model_selection import train_test_split\n",
    "from sklearn import metrics\n",
    "\n",
    "import sys\n",
    "sys.path.append(\"../\")\n",
    "from datatools.analyzer import *\n",
    "from utterance.error_tools import *\n",
    "\n",
    "from datatools.maneger import DataManager\n",
    "from datatools.preproc import Preprocessor"
   ]
  },
  {
   "cell_type": "code",
   "execution_count": 2,
   "metadata": {},
   "outputs": [],
   "source": [
    "corpus_path = \"../../corpus/SNLI/\"\n",
    "data_name = \"dev_sentence.csv\"\n",
    "data_name = \"train_sentence.csv\"\n",
    "# data_name = \"train_wo_filtering.tsv\""
   ]
  },
  {
   "cell_type": "markdown",
   "metadata": {},
   "source": []
  },
  {
   "cell_type": "code",
   "execution_count": 3,
   "metadata": {},
   "outputs": [],
   "source": [
    "df = pd.read_csv(corpus_path+data_name)"
   ]
  },
  {
   "cell_type": "code",
   "execution_count": 4,
   "metadata": {},
   "outputs": [
    {
     "data": {
      "text/plain": [
       "array(['pre', 'ガレージで、壁にナイフを投げる男。', '茶色のドレスを着た女性がベンチに座っています。', ...,\n",
       "       '口ひげ、フェイスペイント、それに合った赤い帽子とシャツを着た男性がバイオリンを弾いています。',\n",
       "       'マヤ遺跡を訪れている間、ガイドはより多くのアトラクションの方向を指し示します。',\n",
       "       'ハト、モーターサイクリスト、ベンチの上の女性のいる通り。'], dtype=object)"
      ]
     },
     "execution_count": 4,
     "metadata": {},
     "output_type": "execute_result"
    }
   ],
   "source": [
    "df.pre.values"
   ]
  },
  {
   "cell_type": "code",
   "execution_count": 5,
   "metadata": {},
   "outputs": [
    {
     "data": {
      "text/plain": [
       "contradiction    182964\n",
       "entailment       182583\n",
       "neutral          182467\n",
       "label                 1\n",
       "Name: label, dtype: int64"
      ]
     },
     "execution_count": 5,
     "metadata": {},
     "output_type": "execute_result"
    }
   ],
   "source": [
    "df['label'].value_counts()"
   ]
  },
  {
   "cell_type": "code",
   "execution_count": 6,
   "metadata": {},
   "outputs": [],
   "source": [
    "df2 = df.dropna(how=\"any\")"
   ]
  },
  {
   "cell_type": "code",
   "execution_count": 7,
   "metadata": {},
   "outputs": [
    {
     "data": {
      "text/html": [
       "<div>\n",
       "<style scoped>\n",
       "    .dataframe tbody tr th:only-of-type {\n",
       "        vertical-align: middle;\n",
       "    }\n",
       "\n",
       "    .dataframe tbody tr th {\n",
       "        vertical-align: top;\n",
       "    }\n",
       "\n",
       "    .dataframe thead th {\n",
       "        text-align: right;\n",
       "    }\n",
       "</style>\n",
       "<table border=\"1\" class=\"dataframe\">\n",
       "  <thead>\n",
       "    <tr style=\"text-align: right;\">\n",
       "      <th></th>\n",
       "      <th>label</th>\n",
       "      <th>pre</th>\n",
       "      <th>hypo</th>\n",
       "    </tr>\n",
       "  </thead>\n",
       "  <tbody>\n",
       "    <tr>\n",
       "      <th>0</th>\n",
       "      <td>label</td>\n",
       "      <td>pre</td>\n",
       "      <td>hypo</td>\n",
       "    </tr>\n",
       "    <tr>\n",
       "      <th>1</th>\n",
       "      <td>neutral</td>\n",
       "      <td>ガレージで、壁にナイフを投げる男。</td>\n",
       "      <td>男は魔法のショーのためにナイフを投げる行為を練習しています。</td>\n",
       "    </tr>\n",
       "    <tr>\n",
       "      <th>2</th>\n",
       "      <td>contradiction</td>\n",
       "      <td>茶色のドレスを着た女性がベンチに座っています。</td>\n",
       "      <td>女性が畑で踊っています。</td>\n",
       "    </tr>\n",
       "    <tr>\n",
       "      <th>3</th>\n",
       "      <td>contradiction</td>\n",
       "      <td>ラップトップコンピューターを使用して机に座っている若い白人男。</td>\n",
       "      <td>黒人はデスクトップコンピューターを使用します。</td>\n",
       "    </tr>\n",
       "    <tr>\n",
       "      <th>4</th>\n",
       "      <td>entailment</td>\n",
       "      <td>海の波に倒れる男</td>\n",
       "      <td>海に転がる男。</td>\n",
       "    </tr>\n",
       "    <tr>\n",
       "      <th>...</th>\n",
       "      <td>...</td>\n",
       "      <td>...</td>\n",
       "      <td>...</td>\n",
       "    </tr>\n",
       "    <tr>\n",
       "      <th>548010</th>\n",
       "      <td>entailment</td>\n",
       "      <td>犬がパドリングプールに飛び込むと、ホースで潮吹きされます。</td>\n",
       "      <td>犬がジャンプします。</td>\n",
       "    </tr>\n",
       "    <tr>\n",
       "      <th>548011</th>\n",
       "      <td>entailment</td>\n",
       "      <td>ブルゴーニュのシャツと黒いズボンを着た男が、楽器を持っている人形を操っています。</td>\n",
       "      <td>男は人形と楽器を使って仕事をしています。</td>\n",
       "    </tr>\n",
       "    <tr>\n",
       "      <th>548012</th>\n",
       "      <td>contradiction</td>\n",
       "      <td>口ひげ、フェイスペイント、それに合った赤い帽子とシャツを着た男性がバイオリンを弾いています。</td>\n",
       "      <td>男は仕事を失った後、口ひげを剃ります。</td>\n",
       "    </tr>\n",
       "    <tr>\n",
       "      <th>548013</th>\n",
       "      <td>neutral</td>\n",
       "      <td>マヤ遺跡を訪れている間、ガイドはより多くのアトラクションの方向を指し示します。</td>\n",
       "      <td>人々はもっとやることを探している観光客です。</td>\n",
       "    </tr>\n",
       "    <tr>\n",
       "      <th>548014</th>\n",
       "      <td>contradiction</td>\n",
       "      <td>ハト、モーターサイクリスト、ベンチの上の女性のいる通り。</td>\n",
       "      <td>女性は屋内にいます。</td>\n",
       "    </tr>\n",
       "  </tbody>\n",
       "</table>\n",
       "<p>548015 rows × 3 columns</p>\n",
       "</div>"
      ],
      "text/plain": [
       "                label                                             pre  \\\n",
       "0               label                                             pre   \n",
       "1             neutral                               ガレージで、壁にナイフを投げる男。   \n",
       "2       contradiction                         茶色のドレスを着た女性がベンチに座っています。   \n",
       "3       contradiction                 ラップトップコンピューターを使用して机に座っている若い白人男。   \n",
       "4          entailment                                        海の波に倒れる男   \n",
       "...               ...                                             ...   \n",
       "548010     entailment                   犬がパドリングプールに飛び込むと、ホースで潮吹きされます。   \n",
       "548011     entailment        ブルゴーニュのシャツと黒いズボンを着た男が、楽器を持っている人形を操っています。   \n",
       "548012  contradiction  口ひげ、フェイスペイント、それに合った赤い帽子とシャツを着た男性がバイオリンを弾いています。   \n",
       "548013        neutral         マヤ遺跡を訪れている間、ガイドはより多くのアトラクションの方向を指し示します。   \n",
       "548014  contradiction                    ハト、モーターサイクリスト、ベンチの上の女性のいる通り。   \n",
       "\n",
       "                                  hypo  \n",
       "0                                 hypo  \n",
       "1       男は魔法のショーのためにナイフを投げる行為を練習しています。  \n",
       "2                         女性が畑で踊っています。  \n",
       "3              黒人はデスクトップコンピューターを使用します。  \n",
       "4                              海に転がる男。  \n",
       "...                                ...  \n",
       "548010                      犬がジャンプします。  \n",
       "548011            男は人形と楽器を使って仕事をしています。  \n",
       "548012             男は仕事を失った後、口ひげを剃ります。  \n",
       "548013          人々はもっとやることを探している観光客です。  \n",
       "548014                      女性は屋内にいます。  \n",
       "\n",
       "[548015 rows x 3 columns]"
      ]
     },
     "execution_count": 7,
     "metadata": {},
     "output_type": "execute_result"
    }
   ],
   "source": [
    "df"
   ]
  },
  {
   "cell_type": "code",
   "execution_count": 8,
   "metadata": {},
   "outputs": [
    {
     "data": {
      "text/plain": [
       "contradiction    182963\n",
       "entailment       182583\n",
       "neutral          182467\n",
       "label                 1\n",
       "Name: label, dtype: int64"
      ]
     },
     "execution_count": 8,
     "metadata": {},
     "output_type": "execute_result"
    }
   ],
   "source": [
    "df2['label'].value_counts()"
   ]
  },
  {
   "cell_type": "code",
   "execution_count": 9,
   "metadata": {},
   "outputs": [],
   "source": [
    "from sentence_transformers import SentenceTransformer\n",
    "from sentence_transformers import models ,losses\n",
    "from sentence_transformers.readers import InputExample\n",
    "from sentence_transformers.losses import TripletDistanceMetric, SoftmaxLoss\n",
    "from sentence_transformers.evaluation import TripletEvaluator\n",
    "from sentence_transformers.readers import TripletReader\n",
    "from sentence_transformers.datasets import SentencesDataset\n",
    "from torch.utils.data import DataLoader"
   ]
  },
  {
   "cell_type": "code",
   "execution_count": 10,
   "metadata": {},
   "outputs": [],
   "source": [
    "label = [\"entailment\", \"neutral\", \"contradiction\"]\n",
    "label2id = dict( zip(label, range(len(label))) )\n",
    "\n",
    "def make_dataset_snli(df, max_n = 300):\n",
    "    X = []\n",
    "    each_label_num = [0, 0 ,0]\n",
    "    for la, pre, hypo in zip(df.label, df.pre, df.hypo):\n",
    "        if la not in label2id:\n",
    "            continue\n",
    "        if each_label_num[label2id[la]] >= max_n:\n",
    "            continue\n",
    "        X.append( InputExample(texts=[pre, hypo], label=label2id[la] ) )\n",
    "        each_label_num[label2id[la]] += 1\n",
    "    return X\n"
   ]
  },
  {
   "cell_type": "code",
   "execution_count": 11,
   "metadata": {},
   "outputs": [],
   "source": [
    "X = make_dataset_snli(df2, max_n=500000)"
   ]
  },
  {
   "cell_type": "code",
   "execution_count": 12,
   "metadata": {},
   "outputs": [
    {
     "data": {
      "text/plain": [
       "548013"
      ]
     },
     "execution_count": 12,
     "metadata": {},
     "output_type": "execute_result"
    }
   ],
   "source": [
    "len(X)"
   ]
  },
  {
   "cell_type": "code",
   "execution_count": 13,
   "metadata": {},
   "outputs": [],
   "source": [
    "X_train, X_test = train_test_split(X, train_size=0.8, random_state=4)"
   ]
  },
  {
   "cell_type": "code",
   "execution_count": 14,
   "metadata": {},
   "outputs": [
    {
     "name": "stderr",
     "output_type": "stream",
     "text": [
      "Some weights of the model checkpoint at ../../corpus/cl-tohoku/bert-base-japanese-whole-word-masking were not used when initializing BertModel: ['cls.predictions.decoder.weight', 'cls.predictions.bias', 'cls.predictions.transform.LayerNorm.weight', 'cls.seq_relationship.bias', 'cls.seq_relationship.weight', 'cls.predictions.transform.LayerNorm.bias', 'cls.predictions.transform.dense.weight', 'cls.predictions.transform.dense.bias']\n",
      "- This IS expected if you are initializing BertModel from the checkpoint of a model trained on another task or with another architecture (e.g. initializing a BertForSequenceClassification model from a BertForPreTraining model).\n",
      "- This IS NOT expected if you are initializing BertModel from the checkpoint of a model that you expect to be exactly identical (initializing a BertForSequenceClassification model from a BertForSequenceClassification model).\n",
      "[15263] 2022-01-20 11:43:26,037 Info sentence_transformers.SentenceTransformer :Use pytorch device: cuda\n"
     ]
    },
    {
     "data": {
      "application/vnd.jupyter.widget-view+json": {
       "model_id": "4c1ee2796f264e23930a0d16ab3db480",
       "version_major": 2,
       "version_minor": 0
      },
      "text/plain": [
       "Batches:   0%|          | 0/1 [00:00<?, ?it/s]"
      ]
     },
     "metadata": {},
     "output_type": "display_data"
    },
    {
     "name": "stdout",
     "output_type": "stream",
     "text": [
      "[0] : (768,)\n",
      "[1] : (768,)\n"
     ]
    }
   ],
   "source": [
    "from sentence_transformers import SentenceTransformer\n",
    "from sentence_transformers import models\n",
    "\n",
    "download_path = \"../../corpus/\"\n",
    "# download_path = \"\"\n",
    "transformer = models.Transformer(download_path+'cl-tohoku/bert-base-japanese-whole-word-masking')\n",
    "pooling = models.Pooling(transformer.get_word_embedding_dimension(),    \n",
    "  pooling_mode_mean_tokens=True,\n",
    "  pooling_mode_cls_token=False, \n",
    "  pooling_mode_max_tokens=False\n",
    ")\n",
    "model = SentenceTransformer(modules=[transformer, pooling])\n",
    "\n",
    "sentences = ['吾輩は猫である',  '本日は晴天なり']\n",
    "embeddings = model.encode(sentences)\n",
    "\n",
    "for i, embedding in enumerate(embeddings):\n",
    "  print(\"[%d] : %s\" % (i, embedding.shape, ))"
   ]
  },
  {
   "cell_type": "code",
   "execution_count": 15,
   "metadata": {},
   "outputs": [
    {
     "data": {
      "text/plain": [
       "548013"
      ]
     },
     "execution_count": 15,
     "metadata": {},
     "output_type": "execute_result"
    }
   ],
   "source": [
    "len(X)"
   ]
  },
  {
   "cell_type": "code",
   "execution_count": 16,
   "metadata": {},
   "outputs": [],
   "source": [
    "BATCH_SIZE = 64\n",
    "NUM_EPOCHS = 2\n",
    "EVAL_STEPS = 1000\n",
    "WARMUP_STEPS = int(len(X_train) // BATCH_SIZE * 0.1) \n",
    "OUTPUT_PATH = \"../../corpus/sbert_snli2\""
   ]
  },
  {
   "cell_type": "code",
   "execution_count": 17,
   "metadata": {},
   "outputs": [
    {
     "name": "stderr",
     "output_type": "stream",
     "text": [
      "[15263] 2022-01-20 11:43:30,309 Info sentence_transformers.losses.SoftmaxLoss :Softmax loss: #Vectors concatenated: 3\n"
     ]
    }
   ],
   "source": [
    "train_data = SentencesDataset(X_train, model=model)\n",
    "train_dataloader = DataLoader(train_data, shuffle=True,  batch_size=BATCH_SIZE)\n",
    "train_loss = losses.SoftmaxLoss(model=model, sentence_embedding_dimension=model.get_sentence_embedding_dimension(), num_labels=len(label2id))"
   ]
  },
  {
   "cell_type": "markdown",
   "metadata": {},
   "source": []
  },
  {
   "cell_type": "code",
   "execution_count": 18,
   "metadata": {},
   "outputs": [
    {
     "data": {
      "application/vnd.jupyter.widget-view+json": {
       "model_id": "571a6e5674a942149610bf3dcccde4b8",
       "version_major": 2,
       "version_minor": 0
      },
      "text/plain": [
       "Epoch:   0%|          | 0/2 [00:00<?, ?it/s]"
      ]
     },
     "metadata": {},
     "output_type": "display_data"
    },
    {
     "data": {
      "application/vnd.jupyter.widget-view+json": {
       "model_id": "6e17cb1e4e354ddf924489c84508e6b1",
       "version_major": 2,
       "version_minor": 0
      },
      "text/plain": [
       "Iteration:   0%|          | 0/6851 [00:00<?, ?it/s]"
      ]
     },
     "metadata": {},
     "output_type": "display_data"
    },
    {
     "data": {
      "application/vnd.jupyter.widget-view+json": {
       "model_id": "69373f1b681444539cc08b67b975dd09",
       "version_major": 2,
       "version_minor": 0
      },
      "text/plain": [
       "Iteration:   0%|          | 0/6851 [00:00<?, ?it/s]"
      ]
     },
     "metadata": {},
     "output_type": "display_data"
    },
    {
     "name": "stderr",
     "output_type": "stream",
     "text": [
      "[15263] 2022-01-20 13:10:52,530 Info sentence_transformers.SentenceTransformer :Save model to ../../corpus/sbert_snli2\n"
     ]
    }
   ],
   "source": [
    "model.fit(train_objectives=[(train_dataloader, train_loss)],\n",
    "        epochs=NUM_EPOCHS,\n",
    "        evaluation_steps=EVAL_STEPS,\n",
    "        warmup_steps=WARMUP_STEPS,\n",
    "        output_path=OUTPUT_PATH\n",
    "    )"
   ]
  },
  {
   "cell_type": "code",
   "execution_count": 19,
   "metadata": {},
   "outputs": [
    {
     "data": {
      "text/plain": [
       "True"
      ]
     },
     "execution_count": 19,
     "metadata": {},
     "output_type": "execute_result"
    }
   ],
   "source": [
    "import torch\n",
    "\n",
    "torch.cuda.is_available()"
   ]
  },
  {
   "cell_type": "code",
   "execution_count": null,
   "metadata": {},
   "outputs": [],
   "source": []
  }
 ],
 "metadata": {
  "interpreter": {
   "hash": "31f2aee4e71d21fbe5cf8b01ff0e069b9275f58929596ceb00d14d90e3e16cd6"
  },
  "kernelspec": {
   "display_name": "Python 3.6.9 64-bit",
   "name": "python3"
  },
  "language_info": {
   "codemirror_mode": {
    "name": "ipython",
    "version": 3
   },
   "file_extension": ".py",
   "mimetype": "text/x-python",
   "name": "python",
   "nbconvert_exporter": "python",
   "pygments_lexer": "ipython3",
   "version": "3.6.9"
  },
  "orig_nbformat": 4
 },
 "nbformat": 4,
 "nbformat_minor": 2
}
