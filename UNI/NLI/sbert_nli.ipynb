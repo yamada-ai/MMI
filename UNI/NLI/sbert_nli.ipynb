{
 "cells": [
  {
   "cell_type": "code",
   "execution_count": 1,
   "metadata": {},
   "outputs": [],
   "source": [
    "import json\n",
    "import os\n",
    "import pandas as pd\n",
    "import numpy as np\n",
    "from pathlib import Path\n",
    "import collections\n",
    "from sklearn.model_selection import train_test_split\n",
    "from sklearn import metrics\n",
    "\n",
    "import sys\n",
    "sys.path.append(\"../\")\n",
    "from datatools.analyzer import *\n",
    "from utterance.error_tools import *\n",
    "\n",
    "from datatools.maneger import DataManager\n",
    "from datatools.preproc import Preprocessor"
   ]
  },
  {
   "cell_type": "code",
   "execution_count": 2,
   "metadata": {},
   "outputs": [],
   "source": [
    "corpus_path = \"../../corpus/SNLI/\"\n",
    "data_name = \"dev_sentence.csv\""
   ]
  },
  {
   "cell_type": "markdown",
   "metadata": {},
   "source": []
  },
  {
   "cell_type": "code",
   "execution_count": 3,
   "metadata": {},
   "outputs": [],
   "source": [
    "df = pd.read_csv(corpus_path+data_name)"
   ]
  },
  {
   "cell_type": "code",
   "execution_count": 4,
   "metadata": {},
   "outputs": [
    {
     "data": {
      "text/html": [
       "<div>\n",
       "<style scoped>\n",
       "    .dataframe tbody tr th:only-of-type {\n",
       "        vertical-align: middle;\n",
       "    }\n",
       "\n",
       "    .dataframe tbody tr th {\n",
       "        vertical-align: top;\n",
       "    }\n",
       "\n",
       "    .dataframe thead th {\n",
       "        text-align: right;\n",
       "    }\n",
       "</style>\n",
       "<table border=\"1\" class=\"dataframe\">\n",
       "  <thead>\n",
       "    <tr style=\"text-align: right;\">\n",
       "      <th></th>\n",
       "      <th>label</th>\n",
       "      <th>pre</th>\n",
       "      <th>hypo</th>\n",
       "    </tr>\n",
       "  </thead>\n",
       "  <tbody>\n",
       "    <tr>\n",
       "      <th>0</th>\n",
       "      <td>contradiction</td>\n",
       "      <td>家の前の雪の山の前に立っている数人の人と、シャベルを使っている人。</td>\n",
       "      <td>マイアミの暑い夏の日です。</td>\n",
       "    </tr>\n",
       "    <tr>\n",
       "      <th>1</th>\n",
       "      <td>contradiction</td>\n",
       "      <td>人が２頭の馬の間にひざまずいている</td>\n",
       "      <td>２頭の牛の間に人が立っています。</td>\n",
       "    </tr>\n",
       "    <tr>\n",
       "      <th>2</th>\n",
       "      <td>contradiction</td>\n",
       "      <td>人は森の中の崖に登り、他の人は見ています。</td>\n",
       "      <td>人が森の中の木に登る。</td>\n",
       "    </tr>\n",
       "    <tr>\n",
       "      <th>3</th>\n",
       "      <td>contradiction</td>\n",
       "      <td>男と女が丘の上を歩きます。</td>\n",
       "      <td>男と女が座っています。</td>\n",
       "    </tr>\n",
       "    <tr>\n",
       "      <th>4</th>\n",
       "      <td>contradiction</td>\n",
       "      <td>３人、１人は床に座ってギターを弾き、２人はソファでゲームをします。</td>\n",
       "      <td>数人がビーチに座っています。</td>\n",
       "    </tr>\n",
       "    <tr>\n",
       "      <th>...</th>\n",
       "      <td>...</td>\n",
       "      <td>...</td>\n",
       "      <td>...</td>\n",
       "    </tr>\n",
       "    <tr>\n",
       "      <th>3911</th>\n",
       "      <td>neutral</td>\n",
       "      <td>バセットハウンドは、男と女の前の路地の戸口に縛られています。</td>\n",
       "      <td>それは彼らの犬です。</td>\n",
       "    </tr>\n",
       "    <tr>\n",
       "      <th>3912</th>\n",
       "      <td>neutral</td>\n",
       "      <td>ローラーダービーの前にストレッチ。</td>\n",
       "      <td>競争の前にストレッチをしている人もいます。</td>\n",
       "    </tr>\n",
       "    <tr>\n",
       "      <th>3913</th>\n",
       "      <td>neutral</td>\n",
       "      <td>アクロバティックな動きを実行するステージ上の２人の芸能人。</td>\n",
       "      <td>２人の芸能人が異常に大勢の観客のためにアクロバットを行っています。</td>\n",
       "    </tr>\n",
       "    <tr>\n",
       "      <th>3914</th>\n",
       "      <td>neutral</td>\n",
       "      <td>バスケットボールコートの２人の男性が１人は白で、もう１人は青で、白の選手はチームメイトが見な...</td>\n",
       "      <td>男性はバスケットボールトーナメントでプレーしています。</td>\n",
       "    </tr>\n",
       "    <tr>\n",
       "      <th>3915</th>\n",
       "      <td>neutral</td>\n",
       "      <td>バスケットボールコートでバスケットボールをプレーする２人の若い男性。</td>\n",
       "      <td>高校の新入生は、大学を目指して練習します。</td>\n",
       "    </tr>\n",
       "  </tbody>\n",
       "</table>\n",
       "<p>3916 rows × 3 columns</p>\n",
       "</div>"
      ],
      "text/plain": [
       "              label                                                pre  \\\n",
       "0     contradiction                  家の前の雪の山の前に立っている数人の人と、シャベルを使っている人。   \n",
       "1     contradiction                                  人が２頭の馬の間にひざまずいている   \n",
       "2     contradiction                              人は森の中の崖に登り、他の人は見ています。   \n",
       "3     contradiction                                      男と女が丘の上を歩きます。   \n",
       "4     contradiction                  ３人、１人は床に座ってギターを弾き、２人はソファでゲームをします。   \n",
       "...             ...                                                ...   \n",
       "3911        neutral                     バセットハウンドは、男と女の前の路地の戸口に縛られています。   \n",
       "3912        neutral                                  ローラーダービーの前にストレッチ。   \n",
       "3913        neutral                      アクロバティックな動きを実行するステージ上の２人の芸能人。   \n",
       "3914        neutral  バスケットボールコートの２人の男性が１人は白で、もう１人は青で、白の選手はチームメイトが見な...   \n",
       "3915        neutral                 バスケットボールコートでバスケットボールをプレーする２人の若い男性。   \n",
       "\n",
       "                                   hypo  \n",
       "0                         マイアミの暑い夏の日です。  \n",
       "1                      ２頭の牛の間に人が立っています。  \n",
       "2                           人が森の中の木に登る。  \n",
       "3                           男と女が座っています。  \n",
       "4                        数人がビーチに座っています。  \n",
       "...                                 ...  \n",
       "3911                         それは彼らの犬です。  \n",
       "3912              競争の前にストレッチをしている人もいます。  \n",
       "3913  ２人の芸能人が異常に大勢の観客のためにアクロバットを行っています。  \n",
       "3914        男性はバスケットボールトーナメントでプレーしています。  \n",
       "3915              高校の新入生は、大学を目指して練習します。  \n",
       "\n",
       "[3916 rows x 3 columns]"
      ]
     },
     "execution_count": 4,
     "metadata": {},
     "output_type": "execute_result"
    }
   ],
   "source": [
    "df"
   ]
  },
  {
   "cell_type": "code",
   "execution_count": 5,
   "metadata": {},
   "outputs": [
    {
     "data": {
      "text/plain": [
       "entailment       1432\n",
       "neutral          1328\n",
       "contradiction    1156\n",
       "Name: label, dtype: int64"
      ]
     },
     "execution_count": 5,
     "metadata": {},
     "output_type": "execute_result"
    }
   ],
   "source": [
    "df['label'].value_counts()"
   ]
  },
  {
   "cell_type": "code",
   "execution_count": 6,
   "metadata": {},
   "outputs": [
    {
     "data": {
      "text/html": [
       "<div>\n",
       "<style scoped>\n",
       "    .dataframe tbody tr th:only-of-type {\n",
       "        vertical-align: middle;\n",
       "    }\n",
       "\n",
       "    .dataframe tbody tr th {\n",
       "        vertical-align: top;\n",
       "    }\n",
       "\n",
       "    .dataframe thead th {\n",
       "        text-align: right;\n",
       "    }\n",
       "</style>\n",
       "<table border=\"1\" class=\"dataframe\">\n",
       "  <thead>\n",
       "    <tr style=\"text-align: right;\">\n",
       "      <th></th>\n",
       "      <th>label</th>\n",
       "      <th>pre</th>\n",
       "      <th>hypo</th>\n",
       "    </tr>\n",
       "  </thead>\n",
       "  <tbody>\n",
       "    <tr>\n",
       "      <th>0</th>\n",
       "      <td>contradiction</td>\n",
       "      <td>家の前の雪の山の前に立っている数人の人と、シャベルを使っている人。</td>\n",
       "      <td>マイアミの暑い夏の日です。</td>\n",
       "    </tr>\n",
       "    <tr>\n",
       "      <th>1</th>\n",
       "      <td>contradiction</td>\n",
       "      <td>人が２頭の馬の間にひざまずいている</td>\n",
       "      <td>２頭の牛の間に人が立っています。</td>\n",
       "    </tr>\n",
       "    <tr>\n",
       "      <th>2</th>\n",
       "      <td>contradiction</td>\n",
       "      <td>人は森の中の崖に登り、他の人は見ています。</td>\n",
       "      <td>人が森の中の木に登る。</td>\n",
       "    </tr>\n",
       "    <tr>\n",
       "      <th>3</th>\n",
       "      <td>contradiction</td>\n",
       "      <td>男と女が丘の上を歩きます。</td>\n",
       "      <td>男と女が座っています。</td>\n",
       "    </tr>\n",
       "    <tr>\n",
       "      <th>4</th>\n",
       "      <td>contradiction</td>\n",
       "      <td>３人、１人は床に座ってギターを弾き、２人はソファでゲームをします。</td>\n",
       "      <td>数人がビーチに座っています。</td>\n",
       "    </tr>\n",
       "    <tr>\n",
       "      <th>...</th>\n",
       "      <td>...</td>\n",
       "      <td>...</td>\n",
       "      <td>...</td>\n",
       "    </tr>\n",
       "    <tr>\n",
       "      <th>3911</th>\n",
       "      <td>neutral</td>\n",
       "      <td>バセットハウンドは、男と女の前の路地の戸口に縛られています。</td>\n",
       "      <td>それは彼らの犬です。</td>\n",
       "    </tr>\n",
       "    <tr>\n",
       "      <th>3912</th>\n",
       "      <td>neutral</td>\n",
       "      <td>ローラーダービーの前にストレッチ。</td>\n",
       "      <td>競争の前にストレッチをしている人もいます。</td>\n",
       "    </tr>\n",
       "    <tr>\n",
       "      <th>3913</th>\n",
       "      <td>neutral</td>\n",
       "      <td>アクロバティックな動きを実行するステージ上の２人の芸能人。</td>\n",
       "      <td>２人の芸能人が異常に大勢の観客のためにアクロバットを行っています。</td>\n",
       "    </tr>\n",
       "    <tr>\n",
       "      <th>3914</th>\n",
       "      <td>neutral</td>\n",
       "      <td>バスケットボールコートの２人の男性が１人は白で、もう１人は青で、白の選手はチームメイトが見な...</td>\n",
       "      <td>男性はバスケットボールトーナメントでプレーしています。</td>\n",
       "    </tr>\n",
       "    <tr>\n",
       "      <th>3915</th>\n",
       "      <td>neutral</td>\n",
       "      <td>バスケットボールコートでバスケットボールをプレーする２人の若い男性。</td>\n",
       "      <td>高校の新入生は、大学を目指して練習します。</td>\n",
       "    </tr>\n",
       "  </tbody>\n",
       "</table>\n",
       "<p>3916 rows × 3 columns</p>\n",
       "</div>"
      ],
      "text/plain": [
       "              label                                                pre  \\\n",
       "0     contradiction                  家の前の雪の山の前に立っている数人の人と、シャベルを使っている人。   \n",
       "1     contradiction                                  人が２頭の馬の間にひざまずいている   \n",
       "2     contradiction                              人は森の中の崖に登り、他の人は見ています。   \n",
       "3     contradiction                                      男と女が丘の上を歩きます。   \n",
       "4     contradiction                  ３人、１人は床に座ってギターを弾き、２人はソファでゲームをします。   \n",
       "...             ...                                                ...   \n",
       "3911        neutral                     バセットハウンドは、男と女の前の路地の戸口に縛られています。   \n",
       "3912        neutral                                  ローラーダービーの前にストレッチ。   \n",
       "3913        neutral                      アクロバティックな動きを実行するステージ上の２人の芸能人。   \n",
       "3914        neutral  バスケットボールコートの２人の男性が１人は白で、もう１人は青で、白の選手はチームメイトが見な...   \n",
       "3915        neutral                 バスケットボールコートでバスケットボールをプレーする２人の若い男性。   \n",
       "\n",
       "                                   hypo  \n",
       "0                         マイアミの暑い夏の日です。  \n",
       "1                      ２頭の牛の間に人が立っています。  \n",
       "2                           人が森の中の木に登る。  \n",
       "3                           男と女が座っています。  \n",
       "4                        数人がビーチに座っています。  \n",
       "...                                 ...  \n",
       "3911                         それは彼らの犬です。  \n",
       "3912              競争の前にストレッチをしている人もいます。  \n",
       "3913  ２人の芸能人が異常に大勢の観客のためにアクロバットを行っています。  \n",
       "3914        男性はバスケットボールトーナメントでプレーしています。  \n",
       "3915              高校の新入生は、大学を目指して練習します。  \n",
       "\n",
       "[3916 rows x 3 columns]"
      ]
     },
     "execution_count": 6,
     "metadata": {},
     "output_type": "execute_result"
    }
   ],
   "source": [
    "df.dropna(how=\"all\")"
   ]
  },
  {
   "cell_type": "code",
   "execution_count": 7,
   "metadata": {},
   "outputs": [],
   "source": [
    "from sentence_transformers import SentenceTransformer\n",
    "from sentence_transformers import models ,losses\n",
    "from sentence_transformers.readers import InputExample\n",
    "from sentence_transformers.losses import TripletDistanceMetric, SoftmaxLoss\n",
    "from sentence_transformers.evaluation import TripletEvaluator\n",
    "from sentence_transformers.readers import TripletReader\n",
    "from sentence_transformers.datasets import SentencesDataset\n",
    "from torch.utils.data import DataLoader"
   ]
  },
  {
   "cell_type": "code",
   "execution_count": 8,
   "metadata": {},
   "outputs": [],
   "source": [
    "label = [\"entailment\", \"neutral\", \"contradiction\"]\n",
    "label2id = dict( zip(label, range(len(label))) )\n",
    "\n",
    "def make_dataset_snli(df, max_n = 300):\n",
    "    X = []\n",
    "    each_label_num = [0, 0 ,0]\n",
    "    for la, pre, hypo in zip(df.label, df.pre, df.hypo):\n",
    "        if each_label_num[label2id[la]] >= max_n:\n",
    "            continue\n",
    "        X.append( InputExample(texts=[pre, hypo], label=label2id[la] ) )\n",
    "        each_label_num[label2id[la]] += 1\n",
    "    return X\n"
   ]
  },
  {
   "cell_type": "code",
   "execution_count": 18,
   "metadata": {},
   "outputs": [],
   "source": [
    "X = make_dataset_snli(df, max_n=5000)"
   ]
  },
  {
   "cell_type": "code",
   "execution_count": 19,
   "metadata": {},
   "outputs": [],
   "source": [
    "X_train, X_test = train_test_split(X, train_size=0.8, random_state=4)"
   ]
  },
  {
   "cell_type": "code",
   "execution_count": 13,
   "metadata": {},
   "outputs": [
    {
     "name": "stderr",
     "output_type": "stream",
     "text": [
      "Some weights of the model checkpoint at ../../corpus/pretrained/cl-tohoku/bert-base-japanese-whole-word-masking were not used when initializing BertModel: ['cls.seq_relationship.weight', 'cls.predictions.transform.dense.weight', 'cls.predictions.transform.LayerNorm.weight', 'cls.predictions.decoder.weight', 'cls.predictions.transform.dense.bias', 'cls.predictions.bias', 'cls.predictions.transform.LayerNorm.bias', 'cls.seq_relationship.bias']\n",
      "- This IS expected if you are initializing BertModel from the checkpoint of a model trained on another task or with another architecture (e.g. initializing a BertForSequenceClassification model from a BertForPreTraining model).\n",
      "- This IS NOT expected if you are initializing BertModel from the checkpoint of a model that you expect to be exactly identical (initializing a BertForSequenceClassification model from a BertForSequenceClassification model).\n"
     ]
    },
    {
     "name": "stdout",
     "output_type": "stream",
     "text": [
      "[0] : (768,)\n",
      "[1] : (768,)\n"
     ]
    }
   ],
   "source": [
    "from sentence_transformers import SentenceTransformer\n",
    "from sentence_transformers import models\n",
    "\n",
    "download_path = \"../../corpus/pretrained/\"\n",
    "# download_path = \"\"\n",
    "transformer = models.Transformer(download_path+'cl-tohoku/bert-base-japanese-whole-word-masking')\n",
    "pooling = models.Pooling(transformer.get_word_embedding_dimension(),    \n",
    "  pooling_mode_mean_tokens=True,\n",
    "  pooling_mode_cls_token=False, \n",
    "  pooling_mode_max_tokens=False\n",
    ")\n",
    "model = SentenceTransformer(modules=[transformer, pooling])\n",
    "\n",
    "sentences = ['吾輩は猫である',  '本日は晴天なり']\n",
    "embeddings = model.encode(sentences)\n",
    "\n",
    "for i, embedding in enumerate(embeddings):\n",
    "  print(\"[%d] : %s\" % (i, embedding.shape, ))"
   ]
  },
  {
   "cell_type": "code",
   "execution_count": 20,
   "metadata": {},
   "outputs": [
    {
     "data": {
      "text/plain": [
       "3916"
      ]
     },
     "execution_count": 20,
     "metadata": {},
     "output_type": "execute_result"
    }
   ],
   "source": [
    "len(X)"
   ]
  },
  {
   "cell_type": "code",
   "execution_count": 24,
   "metadata": {},
   "outputs": [],
   "source": [
    "BATCH_SIZE = 32\n",
    "NUM_EPOCHS = 3\n",
    "EVAL_STEPS = 1000\n",
    "WARMUP_STEPS = int(len(X_train) // BATCH_SIZE * 0.1) \n",
    "OUTPUT_PATH = \"../../corpus/sbert_snli\""
   ]
  },
  {
   "cell_type": "code",
   "execution_count": 25,
   "metadata": {},
   "outputs": [],
   "source": [
    "train_data = SentencesDataset(X_train, model=model)\n",
    "train_dataloader = DataLoader(train_data, shuffle=True,  batch_size=BATCH_SIZE)\n",
    "train_loss = losses.SoftmaxLoss(model=model, sentence_embedding_dimension=model.get_sentence_embedding_dimension(), num_labels=len(label2id))"
   ]
  },
  {
   "cell_type": "markdown",
   "metadata": {},
   "source": []
  },
  {
   "cell_type": "code",
   "execution_count": 26,
   "metadata": {},
   "outputs": [
    {
     "data": {
      "application/vnd.jupyter.widget-view+json": {
       "model_id": "554d4247d2a64f92ae34c28e5b85c034",
       "version_major": 2,
       "version_minor": 0
      },
      "text/plain": [
       "Epoch:   0%|          | 0/3 [00:00<?, ?it/s]"
      ]
     },
     "metadata": {},
     "output_type": "display_data"
    },
    {
     "data": {
      "application/vnd.jupyter.widget-view+json": {
       "model_id": "77263e2c90b5459ca1cb3fe4fa2b013e",
       "version_major": 2,
       "version_minor": 0
      },
      "text/plain": [
       "Iteration:   0%|          | 0/98 [00:00<?, ?it/s]"
      ]
     },
     "metadata": {},
     "output_type": "display_data"
    },
    {
     "data": {
      "application/vnd.jupyter.widget-view+json": {
       "model_id": "c5ed5f591ae64c55a76cc1bd1fc6bc6a",
       "version_major": 2,
       "version_minor": 0
      },
      "text/plain": [
       "Iteration:   0%|          | 0/98 [00:00<?, ?it/s]"
      ]
     },
     "metadata": {},
     "output_type": "display_data"
    },
    {
     "data": {
      "application/vnd.jupyter.widget-view+json": {
       "model_id": "0fba7040abf6441d9992d56d95c692d0",
       "version_major": 2,
       "version_minor": 0
      },
      "text/plain": [
       "Iteration:   0%|          | 0/98 [00:00<?, ?it/s]"
      ]
     },
     "metadata": {},
     "output_type": "display_data"
    }
   ],
   "source": [
    "model.fit(train_objectives=[(train_dataloader, train_loss)],\n",
    "         epochs=NUM_EPOCHS,\n",
    "         evaluation_steps=EVAL_STEPS,\n",
    "         warmup_steps=WARMUP_STEPS,\n",
    "         output_path=OUTPUT_PATH\n",
    "         )"
   ]
  },
  {
   "cell_type": "code",
   "execution_count": 27,
   "metadata": {},
   "outputs": [
    {
     "data": {
      "text/plain": [
       "True"
      ]
     },
     "execution_count": 27,
     "metadata": {},
     "output_type": "execute_result"
    }
   ],
   "source": [
    "import torch\n",
    "\n",
    "torch.cuda.is_available()"
   ]
  },
  {
   "cell_type": "code",
   "execution_count": null,
   "metadata": {},
   "outputs": [],
   "source": []
  }
 ],
 "metadata": {
  "interpreter": {
   "hash": "31f2aee4e71d21fbe5cf8b01ff0e069b9275f58929596ceb00d14d90e3e16cd6"
  },
  "kernelspec": {
   "display_name": "Python 3.6.9 64-bit",
   "name": "python3"
  },
  "language_info": {
   "codemirror_mode": {
    "name": "ipython",
    "version": 3
   },
   "file_extension": ".py",
   "mimetype": "text/x-python",
   "name": "python",
   "nbconvert_exporter": "python",
   "pygments_lexer": "ipython3",
   "version": "3.6.9"
  },
  "orig_nbformat": 4
 },
 "nbformat": 4,
 "nbformat_minor": 2
}
