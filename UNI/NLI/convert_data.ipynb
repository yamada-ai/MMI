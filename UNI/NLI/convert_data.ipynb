{
 "cells": [
  {
   "cell_type": "code",
   "execution_count": 1,
   "metadata": {},
   "outputs": [
    {
     "name": "stderr",
     "output_type": "stream",
     "text": [
      "/usr/lib/python3/dist-packages/requests/__init__.py:80: RequestsDependencyWarning: urllib3 (1.26.5) or chardet (3.0.4) doesn't match a supported version!\n",
      "  RequestsDependencyWarning)\n"
     ]
    }
   ],
   "source": [
    "import json\n",
    "import os\n",
    "import pandas as pd\n",
    "import numpy as np\n",
    "from pathlib import Path\n",
    "import collections\n",
    "from sklearn.model_selection import train_test_split\n",
    "from sklearn import metrics\n",
    "\n",
    "import sys\n",
    "sys.path.append(\"../\")\n",
    "from datatools.analyzer import *\n",
    "from utterance.error_tools import *\n",
    "\n",
    "from datatools.maneger import DataManager\n",
    "from datatools.preproc import Preprocessor\n",
    "\n",
    "# sys.path.append(\"../response/\")\n",
    "# from feature import Feature"
   ]
  },
  {
   "cell_type": "code",
   "execution_count": 14,
   "metadata": {},
   "outputs": [],
   "source": [
    "corpus_path = \"../../corpus/jsnli_1.1/\"\n",
    "data_name = \"dev.tsv\""
   ]
  },
  {
   "cell_type": "markdown",
   "metadata": {},
   "source": [
    "- data\n",
    "['train_w_filtering.tsv', 'README.md', 'train_wo_filtering.tsv', 'dev.tsv']"
   ]
  },
  {
   "cell_type": "code",
   "execution_count": 15,
   "metadata": {},
   "outputs": [],
   "source": [
    "df = pd.read_csv(corpus_path+data_name, delimiter='\\t')"
   ]
  },
  {
   "cell_type": "code",
   "execution_count": 16,
   "metadata": {},
   "outputs": [
    {
     "data": {
      "text/html": [
       "<div>\n",
       "<style scoped>\n",
       "    .dataframe tbody tr th:only-of-type {\n",
       "        vertical-align: middle;\n",
       "    }\n",
       "\n",
       "    .dataframe tbody tr th {\n",
       "        vertical-align: top;\n",
       "    }\n",
       "\n",
       "    .dataframe thead th {\n",
       "        text-align: right;\n",
       "    }\n",
       "</style>\n",
       "<table border=\"1\" class=\"dataframe\">\n",
       "  <thead>\n",
       "    <tr style=\"text-align: right;\">\n",
       "      <th></th>\n",
       "      <th>label</th>\n",
       "      <th>pre</th>\n",
       "      <th>hypo</th>\n",
       "    </tr>\n",
       "  </thead>\n",
       "  <tbody>\n",
       "    <tr>\n",
       "      <th>0</th>\n",
       "      <td>contradiction</td>\n",
       "      <td>家 の 前 の 雪 の 山 の 前 に 立って いる 数 人 の 人 と 、 シャベル を ...</td>\n",
       "      <td>マイアミ の 暑い 夏 の 日 です 。</td>\n",
       "    </tr>\n",
       "    <tr>\n",
       "      <th>1</th>\n",
       "      <td>contradiction</td>\n",
       "      <td>人 が ２ 頭 の 馬 の 間 に ひざまずいて いる</td>\n",
       "      <td>２ 頭 の 牛 の 間 に 人 が 立って い ます 。</td>\n",
       "    </tr>\n",
       "    <tr>\n",
       "      <th>2</th>\n",
       "      <td>contradiction</td>\n",
       "      <td>人 は 森 の 中 の 崖 に 登り 、 他 の 人 は 見て い ます 。</td>\n",
       "      <td>人 が 森 の 中 の 木 に 登る 。</td>\n",
       "    </tr>\n",
       "    <tr>\n",
       "      <th>3</th>\n",
       "      <td>contradiction</td>\n",
       "      <td>男 と 女 が 丘 の 上 を 歩き ます 。</td>\n",
       "      <td>男 と 女 が 座って い ます 。</td>\n",
       "    </tr>\n",
       "    <tr>\n",
       "      <th>4</th>\n",
       "      <td>contradiction</td>\n",
       "      <td>３ 人 、 １ 人 は 床 に 座って ギター を 弾き 、 ２ 人 は ソファ で ゲーム...</td>\n",
       "      <td>数 人 が ビーチ に 座って い ます 。</td>\n",
       "    </tr>\n",
       "    <tr>\n",
       "      <th>...</th>\n",
       "      <td>...</td>\n",
       "      <td>...</td>\n",
       "      <td>...</td>\n",
       "    </tr>\n",
       "    <tr>\n",
       "      <th>3911</th>\n",
       "      <td>neutral</td>\n",
       "      <td>バセットハウンド は 、 男 と 女 の 前 の 路地 の 戸口 に 縛ら れて い ます 。</td>\n",
       "      <td>それ は 彼 ら の 犬 です 。</td>\n",
       "    </tr>\n",
       "    <tr>\n",
       "      <th>3912</th>\n",
       "      <td>neutral</td>\n",
       "      <td>ローラーダービー の 前 に ストレッチ 。</td>\n",
       "      <td>競争 の 前 に ストレッチ を して いる 人 も い ます 。</td>\n",
       "    </tr>\n",
       "    <tr>\n",
       "      <th>3913</th>\n",
       "      <td>neutral</td>\n",
       "      <td>アクロバティック な 動き を 実行 する ステージ 上 の ２ 人 の 芸能 人 。</td>\n",
       "      <td>２ 人 の 芸能 人 が 異常に 大勢 の 観客 の ため に アクロバット を 行って い...</td>\n",
       "    </tr>\n",
       "    <tr>\n",
       "      <th>3914</th>\n",
       "      <td>neutral</td>\n",
       "      <td>バスケットボール コート の ２ 人 の 男性 が １ 人 は 白 で 、 もう １ 人 は...</td>\n",
       "      <td>男性 は バスケットボール トーナメント で プレー して い ます 。</td>\n",
       "    </tr>\n",
       "    <tr>\n",
       "      <th>3915</th>\n",
       "      <td>neutral</td>\n",
       "      <td>バスケットボール コート で バスケットボール を プレー する ２ 人 の 若い 男性 。</td>\n",
       "      <td>高校 の 新入 生 は 、 大学 を 目指して 練習 し ます 。</td>\n",
       "    </tr>\n",
       "  </tbody>\n",
       "</table>\n",
       "<p>3916 rows × 3 columns</p>\n",
       "</div>"
      ],
      "text/plain": [
       "              label                                                pre  \\\n",
       "0     contradiction  家 の 前 の 雪 の 山 の 前 に 立って いる 数 人 の 人 と 、 シャベル を ...   \n",
       "1     contradiction                       人 が ２ 頭 の 馬 の 間 に ひざまずいて いる    \n",
       "2     contradiction            人 は 森 の 中 の 崖 に 登り 、 他 の 人 は 見て い ます 。    \n",
       "3     contradiction                           男 と 女 が 丘 の 上 を 歩き ます 。    \n",
       "4     contradiction  ３ 人 、 １ 人 は 床 に 座って ギター を 弾き 、 ２ 人 は ソファ で ゲーム...   \n",
       "...             ...                                                ...   \n",
       "3911        neutral   バセットハウンド は 、 男 と 女 の 前 の 路地 の 戸口 に 縛ら れて い ます 。    \n",
       "3912        neutral                            ローラーダービー の 前 に ストレッチ 。    \n",
       "3913        neutral       アクロバティック な 動き を 実行 する ステージ 上 の ２ 人 の 芸能 人 。    \n",
       "3914        neutral  バスケットボール コート の ２ 人 の 男性 が １ 人 は 白 で 、 もう １ 人 は...   \n",
       "3915        neutral    バスケットボール コート で バスケットボール を プレー する ２ 人 の 若い 男性 。    \n",
       "\n",
       "                                                   hypo  \n",
       "0                                 マイアミ の 暑い 夏 の 日 です 。   \n",
       "1                         ２ 頭 の 牛 の 間 に 人 が 立って い ます 。   \n",
       "2                                 人 が 森 の 中 の 木 に 登る 。   \n",
       "3                                   男 と 女 が 座って い ます 。   \n",
       "4                               数 人 が ビーチ に 座って い ます 。   \n",
       "...                                                 ...  \n",
       "3911                                 それ は 彼 ら の 犬 です 。   \n",
       "3912                 競争 の 前 に ストレッチ を して いる 人 も い ます 。   \n",
       "3913  ２ 人 の 芸能 人 が 異常に 大勢 の 観客 の ため に アクロバット を 行って い...  \n",
       "3914              男性 は バスケットボール トーナメント で プレー して い ます 。   \n",
       "3915                 高校 の 新入 生 は 、 大学 を 目指して 練習 し ます 。   \n",
       "\n",
       "[3916 rows x 3 columns]"
      ]
     },
     "execution_count": 16,
     "metadata": {},
     "output_type": "execute_result"
    }
   ],
   "source": [
    "df"
   ]
  },
  {
   "cell_type": "code",
   "execution_count": 19,
   "metadata": {},
   "outputs": [
    {
     "data": {
      "text/plain": [
       "entailment       1432\n",
       "neutral          1328\n",
       "contradiction    1156\n",
       "Name: label, dtype: int64"
      ]
     },
     "execution_count": 19,
     "metadata": {},
     "output_type": "execute_result"
    }
   ],
   "source": [
    "df['label'].value_counts()"
   ]
  },
  {
   "cell_type": "code",
   "execution_count": 20,
   "metadata": {},
   "outputs": [],
   "source": [
    "new_name = \"dev_sentence.csv\"\n"
   ]
  },
  {
   "cell_type": "code",
   "execution_count": 28,
   "metadata": {},
   "outputs": [],
   "source": [
    "for i, (p, h) in  enumerate(zip( df.pre, df.hypo )) :\n",
    "    p_ = p.replace(\" \", \"\")\n",
    "    df.iat[i, 1] = p_\n",
    "    df.iat[i, 2] = h.replace(\" \", \"\")"
   ]
  },
  {
   "cell_type": "code",
   "execution_count": 29,
   "metadata": {},
   "outputs": [
    {
     "data": {
      "text/html": [
       "<div>\n",
       "<style scoped>\n",
       "    .dataframe tbody tr th:only-of-type {\n",
       "        vertical-align: middle;\n",
       "    }\n",
       "\n",
       "    .dataframe tbody tr th {\n",
       "        vertical-align: top;\n",
       "    }\n",
       "\n",
       "    .dataframe thead th {\n",
       "        text-align: right;\n",
       "    }\n",
       "</style>\n",
       "<table border=\"1\" class=\"dataframe\">\n",
       "  <thead>\n",
       "    <tr style=\"text-align: right;\">\n",
       "      <th></th>\n",
       "      <th>label</th>\n",
       "      <th>pre</th>\n",
       "      <th>hypo</th>\n",
       "    </tr>\n",
       "  </thead>\n",
       "  <tbody>\n",
       "    <tr>\n",
       "      <th>0</th>\n",
       "      <td>contradiction</td>\n",
       "      <td>家の前の雪の山の前に立っている数人の人と、シャベルを使っている人。</td>\n",
       "      <td>マイアミの暑い夏の日です。</td>\n",
       "    </tr>\n",
       "    <tr>\n",
       "      <th>1</th>\n",
       "      <td>contradiction</td>\n",
       "      <td>人が２頭の馬の間にひざまずいている</td>\n",
       "      <td>２頭の牛の間に人が立っています。</td>\n",
       "    </tr>\n",
       "    <tr>\n",
       "      <th>2</th>\n",
       "      <td>contradiction</td>\n",
       "      <td>人は森の中の崖に登り、他の人は見ています。</td>\n",
       "      <td>人が森の中の木に登る。</td>\n",
       "    </tr>\n",
       "    <tr>\n",
       "      <th>3</th>\n",
       "      <td>contradiction</td>\n",
       "      <td>男と女が丘の上を歩きます。</td>\n",
       "      <td>男と女が座っています。</td>\n",
       "    </tr>\n",
       "    <tr>\n",
       "      <th>4</th>\n",
       "      <td>contradiction</td>\n",
       "      <td>３人、１人は床に座ってギターを弾き、２人はソファでゲームをします。</td>\n",
       "      <td>数人がビーチに座っています。</td>\n",
       "    </tr>\n",
       "    <tr>\n",
       "      <th>...</th>\n",
       "      <td>...</td>\n",
       "      <td>...</td>\n",
       "      <td>...</td>\n",
       "    </tr>\n",
       "    <tr>\n",
       "      <th>3911</th>\n",
       "      <td>neutral</td>\n",
       "      <td>バセットハウンドは、男と女の前の路地の戸口に縛られています。</td>\n",
       "      <td>それは彼らの犬です。</td>\n",
       "    </tr>\n",
       "    <tr>\n",
       "      <th>3912</th>\n",
       "      <td>neutral</td>\n",
       "      <td>ローラーダービーの前にストレッチ。</td>\n",
       "      <td>競争の前にストレッチをしている人もいます。</td>\n",
       "    </tr>\n",
       "    <tr>\n",
       "      <th>3913</th>\n",
       "      <td>neutral</td>\n",
       "      <td>アクロバティックな動きを実行するステージ上の２人の芸能人。</td>\n",
       "      <td>２人の芸能人が異常に大勢の観客のためにアクロバットを行っています。</td>\n",
       "    </tr>\n",
       "    <tr>\n",
       "      <th>3914</th>\n",
       "      <td>neutral</td>\n",
       "      <td>バスケットボールコートの２人の男性が１人は白で、もう１人は青で、白の選手はチームメイトが見な...</td>\n",
       "      <td>男性はバスケットボールトーナメントでプレーしています。</td>\n",
       "    </tr>\n",
       "    <tr>\n",
       "      <th>3915</th>\n",
       "      <td>neutral</td>\n",
       "      <td>バスケットボールコートでバスケットボールをプレーする２人の若い男性。</td>\n",
       "      <td>高校の新入生は、大学を目指して練習します。</td>\n",
       "    </tr>\n",
       "  </tbody>\n",
       "</table>\n",
       "<p>3916 rows × 3 columns</p>\n",
       "</div>"
      ],
      "text/plain": [
       "              label                                                pre  \\\n",
       "0     contradiction                  家の前の雪の山の前に立っている数人の人と、シャベルを使っている人。   \n",
       "1     contradiction                                  人が２頭の馬の間にひざまずいている   \n",
       "2     contradiction                              人は森の中の崖に登り、他の人は見ています。   \n",
       "3     contradiction                                      男と女が丘の上を歩きます。   \n",
       "4     contradiction                  ３人、１人は床に座ってギターを弾き、２人はソファでゲームをします。   \n",
       "...             ...                                                ...   \n",
       "3911        neutral                     バセットハウンドは、男と女の前の路地の戸口に縛られています。   \n",
       "3912        neutral                                  ローラーダービーの前にストレッチ。   \n",
       "3913        neutral                      アクロバティックな動きを実行するステージ上の２人の芸能人。   \n",
       "3914        neutral  バスケットボールコートの２人の男性が１人は白で、もう１人は青で、白の選手はチームメイトが見な...   \n",
       "3915        neutral                 バスケットボールコートでバスケットボールをプレーする２人の若い男性。   \n",
       "\n",
       "                                   hypo  \n",
       "0                         マイアミの暑い夏の日です。  \n",
       "1                      ２頭の牛の間に人が立っています。  \n",
       "2                           人が森の中の木に登る。  \n",
       "3                           男と女が座っています。  \n",
       "4                        数人がビーチに座っています。  \n",
       "...                                 ...  \n",
       "3911                         それは彼らの犬です。  \n",
       "3912              競争の前にストレッチをしている人もいます。  \n",
       "3913  ２人の芸能人が異常に大勢の観客のためにアクロバットを行っています。  \n",
       "3914        男性はバスケットボールトーナメントでプレーしています。  \n",
       "3915              高校の新入生は、大学を目指して練習します。  \n",
       "\n",
       "[3916 rows x 3 columns]"
      ]
     },
     "execution_count": 29,
     "metadata": {},
     "output_type": "execute_result"
    }
   ],
   "source": [
    "df"
   ]
  },
  {
   "cell_type": "code",
   "execution_count": 30,
   "metadata": {},
   "outputs": [],
   "source": [
    "df.to_csv(corpus_path+new_name, index=False, encoding=\"UTF-8\")"
   ]
  },
  {
   "cell_type": "code",
   "execution_count": null,
   "metadata": {},
   "outputs": [],
   "source": []
  }
 ],
 "metadata": {
  "interpreter": {
   "hash": "31f2aee4e71d21fbe5cf8b01ff0e069b9275f58929596ceb00d14d90e3e16cd6"
  },
  "kernelspec": {
   "display_name": "Python 3.6.9 64-bit",
   "language": "python",
   "name": "python3"
  },
  "language_info": {
   "codemirror_mode": {
    "name": "ipython",
    "version": 3
   },
   "file_extension": ".py",
   "mimetype": "text/x-python",
   "name": "python",
   "nbconvert_exporter": "python",
   "pygments_lexer": "ipython3",
   "version": "3.6.9"
  },
  "orig_nbformat": 4
 },
 "nbformat": 4,
 "nbformat_minor": 2
}
