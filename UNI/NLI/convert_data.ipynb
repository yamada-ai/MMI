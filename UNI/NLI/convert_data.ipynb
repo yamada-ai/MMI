{
 "cells": [
  {
   "cell_type": "code",
   "execution_count": 1,
   "metadata": {},
   "outputs": [],
   "source": [
    "import json\n",
    "import os\n",
    "import pandas as pd\n",
    "import numpy as np\n",
    "from pathlib import Path\n",
    "import collections\n",
    "from sklearn.model_selection import train_test_split\n",
    "from sklearn import metrics\n",
    "\n",
    "import sys\n",
    "sys.path.append(\"../\")\n",
    "from datatools.analyzer import *\n",
    "from utterance.error_tools import *\n",
    "\n",
    "from datatools.maneger import DataManager\n",
    "from datatools.preproc import Preprocessor\n",
    "\n",
    "# sys.path.append(\"../response/\")\n",
    "# from feature import Feature"
   ]
  },
  {
   "cell_type": "code",
   "execution_count": 2,
   "metadata": {},
   "outputs": [],
   "source": [
    "corpus_path = \"../../corpus/jsnli_1.1/\"\n",
    "data_name = \"dev.tsv\"\n",
    "data_name = \"train_wo_filtering.tsv\""
   ]
  },
  {
   "cell_type": "markdown",
   "metadata": {},
   "source": [
    "- data\n",
    "['train_w_filtering.tsv', 'README.md', 'train_wo_filtering.tsv', 'dev.tsv']"
   ]
  },
  {
   "cell_type": "code",
   "execution_count": 8,
   "metadata": {},
   "outputs": [],
   "source": [
    "df = pd.read_csv(corpus_path+data_name, delimiter='\\t', names=(\"label\", \"pre\", \"hypo\"))"
   ]
  },
  {
   "cell_type": "code",
   "execution_count": 9,
   "metadata": {},
   "outputs": [
    {
     "data": {
      "text/html": [
       "<div>\n",
       "<style scoped>\n",
       "    .dataframe tbody tr th:only-of-type {\n",
       "        vertical-align: middle;\n",
       "    }\n",
       "\n",
       "    .dataframe tbody tr th {\n",
       "        vertical-align: top;\n",
       "    }\n",
       "\n",
       "    .dataframe thead th {\n",
       "        text-align: right;\n",
       "    }\n",
       "</style>\n",
       "<table border=\"1\" class=\"dataframe\">\n",
       "  <thead>\n",
       "    <tr style=\"text-align: right;\">\n",
       "      <th></th>\n",
       "      <th>label</th>\n",
       "      <th>pre</th>\n",
       "      <th>hypo</th>\n",
       "    </tr>\n",
       "  </thead>\n",
       "  <tbody>\n",
       "    <tr>\n",
       "      <th>0</th>\n",
       "      <td>neutral</td>\n",
       "      <td>ガレージ で 、 壁 に ナイフ を 投げる 男 。</td>\n",
       "      <td>男 は 魔法 の ショー の ため に ナイフ を 投げる 行為 を 練習 して い ます 。</td>\n",
       "    </tr>\n",
       "    <tr>\n",
       "      <th>1</th>\n",
       "      <td>contradiction</td>\n",
       "      <td>茶色 の ドレス を 着た 女性 が ベンチ に 座って い ます 。</td>\n",
       "      <td>女性 が 畑 で 踊って い ます 。</td>\n",
       "    </tr>\n",
       "    <tr>\n",
       "      <th>2</th>\n",
       "      <td>contradiction</td>\n",
       "      <td>ラップ トップ コンピューター を 使用 して 机 に 座って いる 若い 白人 男 。</td>\n",
       "      <td>黒人 は デスクトップ コンピューター を 使用 し ます 。</td>\n",
       "    </tr>\n",
       "    <tr>\n",
       "      <th>3</th>\n",
       "      <td>entailment</td>\n",
       "      <td>海 の 波 に 倒れる 男</td>\n",
       "      <td>海 に 転がる 男 。</td>\n",
       "    </tr>\n",
       "    <tr>\n",
       "      <th>4</th>\n",
       "      <td>contradiction</td>\n",
       "      <td>２ つ の 異なる チーム が ラグビー を して い ます 。</td>\n",
       "      <td>サッカー を する ２ つ の チーム</td>\n",
       "    </tr>\n",
       "    <tr>\n",
       "      <th>...</th>\n",
       "      <td>...</td>\n",
       "      <td>...</td>\n",
       "      <td>...</td>\n",
       "    </tr>\n",
       "    <tr>\n",
       "      <th>533000</th>\n",
       "      <td>entailment</td>\n",
       "      <td>犬 が パドリング プール に 飛び 込む と 、 ホース で 潮 吹き さ れ ます 。</td>\n",
       "      <td>犬 が ジャンプ し ます 。</td>\n",
       "    </tr>\n",
       "    <tr>\n",
       "      <th>533001</th>\n",
       "      <td>entailment</td>\n",
       "      <td>ブルゴーニュ の シャツ と 黒い ズボン を 着た 男 が 、 楽器 を 持って いる 人...</td>\n",
       "      <td>男 は 人形 と 楽器 を 使って 仕事 を して い ます 。</td>\n",
       "    </tr>\n",
       "    <tr>\n",
       "      <th>533002</th>\n",
       "      <td>contradiction</td>\n",
       "      <td>口 ひげ 、 フェイス ペイント 、 それ に 合った 赤い 帽子 と シャツ を 着た 男...</td>\n",
       "      <td>男 は 仕事 を 失った 後 、 口 ひげ を 剃り ます 。</td>\n",
       "    </tr>\n",
       "    <tr>\n",
       "      <th>533003</th>\n",
       "      <td>neutral</td>\n",
       "      <td>マヤ 遺跡 を 訪れて いる 間 、 ガイド は より 多く の アトラクション の 方向 ...</td>\n",
       "      <td>人々 は もっと やる こと を 探して いる 観光 客 です 。</td>\n",
       "    </tr>\n",
       "    <tr>\n",
       "      <th>533004</th>\n",
       "      <td>contradiction</td>\n",
       "      <td>ハト 、 モーター サイクリスト 、 ベンチ の 上 の 女性 の いる 通り 。</td>\n",
       "      <td>女性 は 屋内 に い ます 。</td>\n",
       "    </tr>\n",
       "  </tbody>\n",
       "</table>\n",
       "<p>533005 rows × 3 columns</p>\n",
       "</div>"
      ],
      "text/plain": [
       "                label                                                pre  \\\n",
       "0             neutral                         ガレージ で 、 壁 に ナイフ を 投げる 男 。   \n",
       "1       contradiction                茶色 の ドレス を 着た 女性 が ベンチ に 座って い ます 。   \n",
       "2       contradiction       ラップ トップ コンピューター を 使用 して 机 に 座って いる 若い 白人 男 。   \n",
       "3          entailment                                      海 の 波 に 倒れる 男   \n",
       "4       contradiction                   ２ つ の 異なる チーム が ラグビー を して い ます 。   \n",
       "...               ...                                                ...   \n",
       "533000     entailment      犬 が パドリング プール に 飛び 込む と 、 ホース で 潮 吹き さ れ ます 。   \n",
       "533001     entailment  ブルゴーニュ の シャツ と 黒い ズボン を 着た 男 が 、 楽器 を 持って いる 人...   \n",
       "533002  contradiction  口 ひげ 、 フェイス ペイント 、 それ に 合った 赤い 帽子 と シャツ を 着た 男...   \n",
       "533003        neutral  マヤ 遺跡 を 訪れて いる 間 、 ガイド は より 多く の アトラクション の 方向 ...   \n",
       "533004  contradiction          ハト 、 モーター サイクリスト 、 ベンチ の 上 の 女性 の いる 通り 。   \n",
       "\n",
       "                                                   hypo  \n",
       "0       男 は 魔法 の ショー の ため に ナイフ を 投げる 行為 を 練習 して い ます 。  \n",
       "1                                   女性 が 畑 で 踊って い ます 。  \n",
       "2                       黒人 は デスクトップ コンピューター を 使用 し ます 。  \n",
       "3                                           海 に 転がる 男 。  \n",
       "4                                   サッカー を する ２ つ の チーム  \n",
       "...                                                 ...  \n",
       "533000                                  犬 が ジャンプ し ます 。  \n",
       "533001                 男 は 人形 と 楽器 を 使って 仕事 を して い ます 。  \n",
       "533002                  男 は 仕事 を 失った 後 、 口 ひげ を 剃り ます 。  \n",
       "533003                人々 は もっと やる こと を 探して いる 観光 客 です 。  \n",
       "533004                                 女性 は 屋内 に い ます 。  \n",
       "\n",
       "[533005 rows x 3 columns]"
      ]
     },
     "execution_count": 9,
     "metadata": {},
     "output_type": "execute_result"
    }
   ],
   "source": [
    "df"
   ]
  },
  {
   "cell_type": "code",
   "execution_count": 10,
   "metadata": {},
   "outputs": [
    {
     "data": {
      "text/plain": [
       "contradiction    178700\n",
       "neutral          177996\n",
       "entailment       176309\n",
       "Name: label, dtype: int64"
      ]
     },
     "execution_count": 10,
     "metadata": {},
     "output_type": "execute_result"
    }
   ],
   "source": [
    "df['label'].value_counts()"
   ]
  },
  {
   "cell_type": "code",
   "execution_count": 11,
   "metadata": {},
   "outputs": [],
   "source": [
    "new_name = \"dev_sentence.csv\"\n",
    "new_name = \"train_sentence.csv\""
   ]
  },
  {
   "cell_type": "code",
   "execution_count": 12,
   "metadata": {},
   "outputs": [],
   "source": [
    "for i, (p, h) in  enumerate(zip( df.pre, df.hypo )) :\n",
    "    p_ = p.replace(\" \", \"\")\n",
    "    df.iat[i, 1] = p_\n",
    "    df.iat[i, 2] = h.replace(\" \", \"\")"
   ]
  },
  {
   "cell_type": "code",
   "execution_count": 13,
   "metadata": {},
   "outputs": [
    {
     "data": {
      "text/html": [
       "<div>\n",
       "<style scoped>\n",
       "    .dataframe tbody tr th:only-of-type {\n",
       "        vertical-align: middle;\n",
       "    }\n",
       "\n",
       "    .dataframe tbody tr th {\n",
       "        vertical-align: top;\n",
       "    }\n",
       "\n",
       "    .dataframe thead th {\n",
       "        text-align: right;\n",
       "    }\n",
       "</style>\n",
       "<table border=\"1\" class=\"dataframe\">\n",
       "  <thead>\n",
       "    <tr style=\"text-align: right;\">\n",
       "      <th></th>\n",
       "      <th>label</th>\n",
       "      <th>pre</th>\n",
       "      <th>hypo</th>\n",
       "    </tr>\n",
       "  </thead>\n",
       "  <tbody>\n",
       "    <tr>\n",
       "      <th>0</th>\n",
       "      <td>neutral</td>\n",
       "      <td>ガレージで、壁にナイフを投げる男。</td>\n",
       "      <td>男は魔法のショーのためにナイフを投げる行為を練習しています。</td>\n",
       "    </tr>\n",
       "    <tr>\n",
       "      <th>1</th>\n",
       "      <td>contradiction</td>\n",
       "      <td>茶色のドレスを着た女性がベンチに座っています。</td>\n",
       "      <td>女性が畑で踊っています。</td>\n",
       "    </tr>\n",
       "    <tr>\n",
       "      <th>2</th>\n",
       "      <td>contradiction</td>\n",
       "      <td>ラップトップコンピューターを使用して机に座っている若い白人男。</td>\n",
       "      <td>黒人はデスクトップコンピューターを使用します。</td>\n",
       "    </tr>\n",
       "    <tr>\n",
       "      <th>3</th>\n",
       "      <td>entailment</td>\n",
       "      <td>海の波に倒れる男</td>\n",
       "      <td>海に転がる男。</td>\n",
       "    </tr>\n",
       "    <tr>\n",
       "      <th>4</th>\n",
       "      <td>contradiction</td>\n",
       "      <td>２つの異なるチームがラグビーをしています。</td>\n",
       "      <td>サッカーをする２つのチーム</td>\n",
       "    </tr>\n",
       "    <tr>\n",
       "      <th>...</th>\n",
       "      <td>...</td>\n",
       "      <td>...</td>\n",
       "      <td>...</td>\n",
       "    </tr>\n",
       "    <tr>\n",
       "      <th>533000</th>\n",
       "      <td>entailment</td>\n",
       "      <td>犬がパドリングプールに飛び込むと、ホースで潮吹きされます。</td>\n",
       "      <td>犬がジャンプします。</td>\n",
       "    </tr>\n",
       "    <tr>\n",
       "      <th>533001</th>\n",
       "      <td>entailment</td>\n",
       "      <td>ブルゴーニュのシャツと黒いズボンを着た男が、楽器を持っている人形を操っています。</td>\n",
       "      <td>男は人形と楽器を使って仕事をしています。</td>\n",
       "    </tr>\n",
       "    <tr>\n",
       "      <th>533002</th>\n",
       "      <td>contradiction</td>\n",
       "      <td>口ひげ、フェイスペイント、それに合った赤い帽子とシャツを着た男性がバイオリンを弾いています。</td>\n",
       "      <td>男は仕事を失った後、口ひげを剃ります。</td>\n",
       "    </tr>\n",
       "    <tr>\n",
       "      <th>533003</th>\n",
       "      <td>neutral</td>\n",
       "      <td>マヤ遺跡を訪れている間、ガイドはより多くのアトラクションの方向を指し示します。</td>\n",
       "      <td>人々はもっとやることを探している観光客です。</td>\n",
       "    </tr>\n",
       "    <tr>\n",
       "      <th>533004</th>\n",
       "      <td>contradiction</td>\n",
       "      <td>ハト、モーターサイクリスト、ベンチの上の女性のいる通り。</td>\n",
       "      <td>女性は屋内にいます。</td>\n",
       "    </tr>\n",
       "  </tbody>\n",
       "</table>\n",
       "<p>533005 rows × 3 columns</p>\n",
       "</div>"
      ],
      "text/plain": [
       "                label                                             pre  \\\n",
       "0             neutral                               ガレージで、壁にナイフを投げる男。   \n",
       "1       contradiction                         茶色のドレスを着た女性がベンチに座っています。   \n",
       "2       contradiction                 ラップトップコンピューターを使用して机に座っている若い白人男。   \n",
       "3          entailment                                        海の波に倒れる男   \n",
       "4       contradiction                           ２つの異なるチームがラグビーをしています。   \n",
       "...               ...                                             ...   \n",
       "533000     entailment                   犬がパドリングプールに飛び込むと、ホースで潮吹きされます。   \n",
       "533001     entailment        ブルゴーニュのシャツと黒いズボンを着た男が、楽器を持っている人形を操っています。   \n",
       "533002  contradiction  口ひげ、フェイスペイント、それに合った赤い帽子とシャツを着た男性がバイオリンを弾いています。   \n",
       "533003        neutral         マヤ遺跡を訪れている間、ガイドはより多くのアトラクションの方向を指し示します。   \n",
       "533004  contradiction                    ハト、モーターサイクリスト、ベンチの上の女性のいる通り。   \n",
       "\n",
       "                                  hypo  \n",
       "0       男は魔法のショーのためにナイフを投げる行為を練習しています。  \n",
       "1                         女性が畑で踊っています。  \n",
       "2              黒人はデスクトップコンピューターを使用します。  \n",
       "3                              海に転がる男。  \n",
       "4                        サッカーをする２つのチーム  \n",
       "...                                ...  \n",
       "533000                      犬がジャンプします。  \n",
       "533001            男は人形と楽器を使って仕事をしています。  \n",
       "533002             男は仕事を失った後、口ひげを剃ります。  \n",
       "533003          人々はもっとやることを探している観光客です。  \n",
       "533004                      女性は屋内にいます。  \n",
       "\n",
       "[533005 rows x 3 columns]"
      ]
     },
     "execution_count": 13,
     "metadata": {},
     "output_type": "execute_result"
    }
   ],
   "source": [
    "df"
   ]
  },
  {
   "cell_type": "code",
   "execution_count": 14,
   "metadata": {},
   "outputs": [],
   "source": [
    "df.to_csv(corpus_path+new_name, index=False, encoding=\"UTF-8\")"
   ]
  },
  {
   "cell_type": "code",
   "execution_count": null,
   "metadata": {},
   "outputs": [],
   "source": []
  }
 ],
 "metadata": {
  "interpreter": {
   "hash": "31f2aee4e71d21fbe5cf8b01ff0e069b9275f58929596ceb00d14d90e3e16cd6"
  },
  "kernelspec": {
   "display_name": "Python 3.6.9 64-bit",
   "language": "python",
   "name": "python3"
  },
  "language_info": {
   "codemirror_mode": {
    "name": "ipython",
    "version": 3
   },
   "file_extension": ".py",
   "mimetype": "text/x-python",
   "name": "python",
   "nbconvert_exporter": "python",
   "pygments_lexer": "ipython3",
   "version": "3.6.9"
  },
  "orig_nbformat": 4
 },
 "nbformat": 4,
 "nbformat_minor": 2
}
