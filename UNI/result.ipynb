{
 "cells": [
  {
   "cell_type": "code",
   "execution_count": 1,
   "metadata": {},
   "outputs": [],
   "source": [
    "import re\n",
    "import sys\n",
    "import json\n",
    "\n",
    "\n",
    "import sys\n",
    "# sys.dont_write_bytecode = True\n",
    "# sys.path.append('../')\n",
    "from datatools.analyzer import *\n",
    "\n",
    "from datatools.maneger import DataManager\n",
    "from datatools.preproc import Preprocessor"
   ]
  },
  {
   "cell_type": "code",
   "execution_count": 2,
   "metadata": {},
   "outputs": [],
   "source": [
    "from sklearn import metrics\n",
    "from sklearn.metrics import confusion_matrix, accuracy_score, precision_score, recall_score, f1_score\n",
    "\n",
    "class Group:\n",
    "    def __init__(self, y, y_pred, level, eval_, name) -> None:\n",
    "        self.true = y\n",
    "        self.pred = y_pred\n",
    "        self.level = level\n",
    "        self.scoring()\n",
    "        self.eval_ = eval_\n",
    "        self.name = name\n",
    "\n",
    "    def scoring(self):\n",
    "        self.pre = precision_score(self.true, self.pred)\n",
    "        self.rec = recall_score(self.true, self.pred)\n",
    "        self.f1 = f1_score(self.true, self.pred)\n",
    "\n",
    "    def get_score(self):\n",
    "        if self.eval_==\"pre\":\n",
    "            return self.pre\n",
    "        elif self.eval_==\"rec\":\n",
    "            return self.rec\n",
    "        else:\n",
    "            return self.f1\n",
    "    \n",
    "    def __lt__(self, other):\n",
    "        return self.get_score() < other.get_score()\n",
    "    \n",
    "    def __str__(self) -> str:\n",
    "        return \"{0} : {1}\".format(self.name, self.level)\n",
    "        "
   ]
  },
  {
   "cell_type": "code",
   "execution_count": 3,
   "metadata": {},
   "outputs": [],
   "source": [
    "import numpy as np\n",
    "class ResultManeger:\n",
    "    def __init__(self, result_path=\"./X_y_data/y_pred/\") -> None:\n",
    "        self.path = result_path\n",
    "        self.dataM = DataManager(result_path)\n",
    "\n",
    "    def set_data(self, data_name_dict, group2idx,  eval_=\"pre\"):\n",
    "        self.groups = []\n",
    "        # self.y_data = []\n",
    "        for name in data_name_dict:\n",
    "            true, pred = self.dataM.load_data(name)\n",
    "            print(len(pred), name)\n",
    "            self.groups.append(Group(true, pred, data_name_dict[name], eval_, name))\n",
    "            # y.shape = (group, length)  \n",
    "        self.groups.sort(reverse=True)\n",
    "    \n",
    "    def relabel_data(self, group2idx):\n",
    "        y_pred = np.zeros(self.y_all.shape, dtype=np.int)\n",
    "        for i, _ in enumerate(y_pred):\n",
    "            # ソートされたグループを順に調べる\n",
    "            is_Utt = False\n",
    "            is_RES = False\n",
    "            is_CON = False\n",
    "            is_SOC = False\n",
    "            for group in self.groups:\n",
    "                level = group.level\n",
    "                if group.pred[i] == 1:\n",
    "                    #  1 だったとしても制御が必要よ\n",
    "                    if \"u-\" in level:\n",
    "                        if is_SOC or is_RES or is_CON:\n",
    "                            continue\n",
    "                    # ここが読まれるまでに uut は存在しない\n",
    "                    elif \"r-\" in level:\n",
    "                        # 同じレベルで複数ラベリングはされない\n",
    "                        if is_RES:\n",
    "                            continue\n",
    "                    elif \"c-\" in level:\n",
    "                        if is_CON:\n",
    "                            continue\n",
    "                    # ----------\n",
    "                    idx = group2idx[level]\n",
    "                    y_pred[i, idx] = 1\n",
    "                    # ^---------\n",
    "                    # 発話レベル\n",
    "                    if \"u-\" in level:\n",
    "                        is_Utt = True\n",
    "                        break\n",
    "                    elif \"r-\" in level:\n",
    "                        is_RES = True\n",
    "                    elif \"c-\" in level:\n",
    "                        is_CON = True\n",
    "                    else:\n",
    "                        is_SOC = True\n",
    "                        break\n",
    "                    # y_pred\n",
    "        return y_pred\n",
    "\n",
    "\n",
    "    # 正しい y を抽出\n",
    "    def extract_y_true_group(self, error_sets, path=\"./eval_labeled/\"):\n",
    "        datalist = ['DCM', 'DIT', 'IRS']\n",
    "        convs = read_conv(path, datalist)\n",
    "        self.y_all = []\n",
    "\n",
    "        for conv in convs:\n",
    "            for ut in conv:\n",
    "                if ut.is_system() and ut.is_exist_error():\n",
    "                    # エラーを検索\n",
    "                    y_each = np.zeros(len(error_sets))\n",
    "                    for i, errors in enumerate(error_sets):\n",
    "                        if ut.is_error_included(errors):\n",
    "                            y_each[i] = 1\n",
    "                    self.y_all.append(y_each)\n",
    "        self.y_all = np.array(self.y_all , dtype=np.int)\n"
   ]
  },
  {
   "cell_type": "code",
   "execution_count": 36,
   "metadata": {},
   "outputs": [
    {
     "data": {
      "text/plain": [
       "['context_content.pickle',\n",
       " 'utt_form.pickle',\n",
       " 'common.pickle',\n",
       " 'impolite.pickle',\n",
       " 'context_form.pickle',\n",
       " 'ignore.pickle',\n",
       " 'utt_content.pickle']"
      ]
     },
     "execution_count": 36,
     "metadata": {},
     "output_type": "execute_result"
    }
   ],
   "source": [
    "import os\n",
    "os.listdir(result_path)"
   ]
  },
  {
   "cell_type": "code",
   "execution_count": 37,
   "metadata": {},
   "outputs": [],
   "source": []
  },
  {
   "cell_type": "code",
   "execution_count": 56,
   "metadata": {},
   "outputs": [],
   "source": [
    "is_base = False"
   ]
  },
  {
   "cell_type": "code",
   "execution_count": 57,
   "metadata": {},
   "outputs": [],
   "source": [
    "if is_base:\n",
    "    result_path = \"./X_y_data/base_y_pred/\"\n",
    "    data_name_dict = {\n",
    "    'utt_content.pickle':\"u-c\",\n",
    "    'utt_form.pickle':\"u-f\",\n",
    "    'common.pickle':\"s-c\",\n",
    "    'impolite.pickle':\"s-f\",\n",
    "    'context_form.pickle':\"c-f\",\n",
    "    'ignore.pickle':\"r-f\",\n",
    "    'context_content.pickle':\"c-c\"\n",
    "}\n",
    "\n",
    "else:\n",
    "    result_path = \"./X_y_data/y_pred/\"\n",
    "    data_name_dict = {\n",
    "    'wrong.pickle':\"u-c\",\n",
    "    'LM.pickle':\"u-f\",\n",
    "    'caseFrame.pickle':\"u-c\",\n",
    "    'common.pickle':\"s-c\",\n",
    "    'repeat.pickle':\"c-c\",\n",
    "    'impolite.pickle':\"s-f\",\n",
    "    'context_form.pickle':\"c-f\",\n",
    "    'ignore.pickle':\"r-f\",\n",
    "    'contradict.pickle':\"c-c\"\n",
    "}"
   ]
  },
  {
   "cell_type": "code",
   "execution_count": null,
   "metadata": {},
   "outputs": [],
   "source": []
  },
  {
   "cell_type": "code",
   "execution_count": 58,
   "metadata": {},
   "outputs": [],
   "source": [
    "group = \"u-f u-c r-f r-c c-f c-c s-f s-c\".split()\n",
    "group2idx = dict( zip(group, range(len(group))) )\n"
   ]
  },
  {
   "cell_type": "code",
   "execution_count": 59,
   "metadata": {},
   "outputs": [],
   "source": [
    "error_sets = [\n",
    "    # 発話形式\n",
    "    ['Uninterpretable', 'Grammatical error'],\n",
    "    # 発話内容\n",
    "    ['Semantic error', 'Wrong information'],\n",
    "    # 応答形式\n",
    "    [\"Ignore question\", 'Ignore offer', 'Ignore proposal', \"Ignore greeting\"],\n",
    "    # 応答内容\n",
    "    [\"Ignore expectation\"], \n",
    "    # 文脈形式\n",
    "    ['Topic transition error', 'Lack of information', 'Unclear intention'],\n",
    "    # 文脈内容\n",
    "    ['Self-contradiction', 'Contradiction', 'Repetition'],\n",
    "    # 社会形式\n",
    "    ['Lack of sociality'],\n",
    "    # 社会内容\n",
    "    ['Lack of common sense']\n",
    "]\n"
   ]
  },
  {
   "cell_type": "code",
   "execution_count": 84,
   "metadata": {},
   "outputs": [
    {
     "name": "stdout",
     "output_type": "stream",
     "text": [
      "success load : ./X_y_data/y_pred/wrong.pickle\n",
      "1386 wrong.pickle\n",
      "success load : ./X_y_data/y_pred/LM.pickle\n",
      "1386 LM.pickle\n",
      "success load : ./X_y_data/y_pred/caseFrame.pickle\n",
      "1386 caseFrame.pickle\n",
      "success load : ./X_y_data/y_pred/common.pickle\n",
      "1386 common.pickle\n",
      "success load : ./X_y_data/y_pred/repeat.pickle\n",
      "1386 repeat.pickle\n",
      "success load : ./X_y_data/y_pred/impolite.pickle\n",
      "1386 impolite.pickle\n",
      "success load : ./X_y_data/y_pred/context_form.pickle\n",
      "1386 context_form.pickle\n",
      "success load : ./X_y_data/y_pred/ignore.pickle\n",
      "1386 ignore.pickle\n",
      "success load : ./X_y_data/y_pred/contradict.pickle\n",
      "1386 contradict.pickle\n"
     ]
    }
   ],
   "source": [
    "resman = ResultManeger(result_path)\n",
    "resman.extract_y_true_group(error_sets)\n",
    "resman.set_data(data_name_dict, group2idx, eval_=\"rec\")\n",
    "y_pred = resman.relabel_data(group2idx)"
   ]
  },
  {
   "cell_type": "code",
   "execution_count": 85,
   "metadata": {},
   "outputs": [],
   "source": [
    "arg = \"micro\"\n",
    "# arg = \"macro\"\n",
    "# arg = \"samples\""
   ]
  },
  {
   "cell_type": "code",
   "execution_count": 86,
   "metadata": {},
   "outputs": [
    {
     "name": "stdout",
     "output_type": "stream",
     "text": [
      "ACC: 0.5685425685425686\n",
      "precision: 0.6538461538461539\n",
      "recall 0.6668810289389068\n",
      "F-measure:  0.6602992677491245\n",
      "0/1 loss:  0.43145743145743143\n"
     ]
    }
   ],
   "source": [
    "print('ACC:', metrics.accuracy_score(resman.y_all, y_pred))\n",
    "# print(\"jaccard:\", metrics.jaccard_score(resman.y_all, y_pred, average='samples'))\n",
    "# print(\"precision:\", metrics.precision_score(resman.y_all, y_pred, average='samples'))\n",
    "# print(\"recall\", metrics.recall_score(resman.y_all, y_pred, average='samples'))\n",
    "# print('F-measure: ', metrics.f1_score(resman.y_all, y_pred, average='samples'))\n",
    "print(\"precision:\", metrics.precision_score(resman.y_all, y_pred, average=arg))\n",
    "print(\"recall\", metrics.recall_score(resman.y_all, y_pred, average=arg))\n",
    "print('F-measure: ', metrics.f1_score(resman.y_all, y_pred, average=arg))\n",
    "print('0/1 loss: ', metrics.zero_one_loss(resman.y_all, y_pred))"
   ]
  },
  {
   "cell_type": "markdown",
   "metadata": {},
   "source": [
    "- precision ベース\n",
    "\n",
    "        EM: 0.5959595959595959\n",
    "        F-measure:  0.7104858104858105\n",
    "\n",
    "- racell ベース\n",
    "\n",
    "        EM: 0.5735930735930735\n",
    "        F-measure:  0.6823472823472824\n",
    "\n",
    "- f値ベース\n",
    "        \n",
    "        EM: 0.5735930735930735\n",
    "        F-measure:  0.6823472823472824\n",
    "\n",
    "### 提案手法\n",
    "\n",
    "        EM: 0.5959595959595959\n",
    "        precision: 0.7028619528619529\n",
    "        recall 0.7436267436267435\n",
    "        F-measure:  0.7104858104858105\n",
    "\n",
    "- micro \n",
    "\n",
    "        ```\n",
    "        ACC: 0.5959595959595959\n",
    "        precision: 0.6881851400730816\n",
    "        recall 0.7266881028938906\n",
    "        F-measure:  0.706912730685017\n",
    "        ```\n",
    "- macro\n",
    "\n",
    "        ```\n",
    "        ACC: 0.5959595959595959\n",
    "        precision: 0.3630405520918503\n",
    "        recall 0.4966970126220827\n",
    "        F-measure:  0.3878690438888627\n",
    "        ```\n",
    "\n",
    "### ベースライン\n",
    "\n",
    "        EM: 0.538961038961039\n",
    "        precision: 0.6313131313131313\n",
    "        recall 0.6611351611351611\n",
    "        F-measure:  0.6345598845598845\n",
    "\n",
    "- micro \n",
    "\n",
    "        ```\n",
    "        ACC: 0.5627705627705628\n",
    "        precision: 0.7088021178027796\n",
    "        recall 0.6887459807073955\n",
    "        F-measure:  0.6986301369863013\n",
    "        ```\n",
    "- macro\n",
    "\n",
    "        ```\n",
    "        ACC: 0.5627705627705628\n",
    "        precision: 0.30118109472380233\n",
    "        recall 0.3974695165129658\n",
    "        F-measure:  0.3092775545681825\n",
    "        ```"
   ]
  },
  {
   "cell_type": "code",
   "execution_count": 63,
   "metadata": {},
   "outputs": [],
   "source": [
    "zero = 0\n",
    "for f in y_pred:\n",
    "    # print(f){}\n",
    "    if 1 not in f:\n",
    "        zero += 1\n"
   ]
  },
  {
   "cell_type": "code",
   "execution_count": 64,
   "metadata": {},
   "outputs": [
    {
     "name": "stdout",
     "output_type": "stream",
     "text": [
      "ignore.pickle : r-f\n",
      "context_form.pickle : c-f\n",
      "repeat.pickle : c-c\n",
      "wrong.pickle : u-c\n",
      "common.pickle : s-c\n",
      "impolite.pickle : s-f\n",
      "LM.pickle : u-f\n",
      "contradict.pickle : c-c\n",
      "caseFrame.pickle : u-c\n"
     ]
    }
   ],
   "source": [
    "for g in resman.groups:\n",
    "  print(g)"
   ]
  },
  {
   "cell_type": "code",
   "execution_count": 65,
   "metadata": {},
   "outputs": [
    {
     "data": {
      "text/plain": [
       "25"
      ]
     },
     "execution_count": 65,
     "metadata": {},
     "output_type": "execute_result"
    }
   ],
   "source": [
    "zero"
   ]
  },
  {
   "cell_type": "code",
   "execution_count": 66,
   "metadata": {},
   "outputs": [],
   "source": [
    "y = np.array(resman.y_all)"
   ]
  },
  {
   "cell_type": "code",
   "execution_count": 67,
   "metadata": {},
   "outputs": [
    {
     "data": {
      "text/plain": [
       "(1386, 8)"
      ]
     },
     "execution_count": 67,
     "metadata": {},
     "output_type": "execute_result"
    }
   ],
   "source": [
    "y_pred.shape"
   ]
  },
  {
   "cell_type": "code",
   "execution_count": 68,
   "metadata": {},
   "outputs": [
    {
     "name": "stdout",
     "output_type": "stream",
     "text": [
      "u-f\n",
      "\tacuracy: 0.9913419913419913\n",
      "\tprecision: 0.0\n",
      "\trecall 0.0\n",
      "\tF-measure:  0.0\n",
      "\n",
      "u-c\n",
      "\tacuracy: 0.8852813852813853\n",
      "\tprecision: 0.8144329896907216\n",
      "\trecall 0.7841191066997518\n",
      "\tF-measure:  0.7989886219974714\n",
      "\n",
      "r-f\n",
      "\tacuracy: 0.9076479076479076\n",
      "\tprecision: 0.8598726114649682\n",
      "\trecall 0.7627118644067796\n",
      "\tF-measure:  0.8083832335329342\n",
      "\n",
      "r-c\n",
      "\tacuracy: 1.0\n",
      "\tprecision: 0.0\n",
      "\trecall 0.0\n",
      "\tF-measure:  0.0\n",
      "\n",
      "c-f\n"
     ]
    },
    {
     "name": "stderr",
     "output_type": "stream",
     "text": [
      "/home/yamada/.local/lib/python3.6/site-packages/sklearn/metrics/_classification.py:1248: UndefinedMetricWarning: Precision is ill-defined and being set to 0.0 due to no predicted samples. Use `zero_division` parameter to control this behavior.\n",
      "  _warn_prf(average, modifier, msg_start, len(result))\n",
      "/home/yamada/.local/lib/python3.6/site-packages/sklearn/metrics/_classification.py:1248: UndefinedMetricWarning: Recall is ill-defined and being set to 0.0 due to no true samples. Use `zero_division` parameter to control this behavior.\n",
      "  _warn_prf(average, modifier, msg_start, len(result))\n",
      "/home/yamada/.local/lib/python3.6/site-packages/sklearn/metrics/_classification.py:1496: UndefinedMetricWarning: F-score is ill-defined and being set to 0.0 due to no true nor predicted samples. Use `zero_division` parameter to control this behavior.\n",
      "  average, \"true nor predicted\", 'F-score is', len(true_sum)\n"
     ]
    },
    {
     "name": "stdout",
     "output_type": "stream",
     "text": [
      "\tacuracy: 0.7222222222222222\n",
      "\tprecision: 0.7158322056833559\n",
      "\trecall 0.7514204545454546\n",
      "\tF-measure:  0.7331947331947332\n",
      "\n",
      "c-c\n",
      "\tacuracy: 0.8556998556998557\n",
      "\tprecision: 0.05755395683453238\n",
      "\trecall 0.1038961038961039\n",
      "\tF-measure:  0.07407407407407407\n",
      "\n",
      "s-f\n",
      "\tacuracy: 0.9653679653679653\n",
      "\tprecision: 0.08163265306122448\n",
      "\trecall 0.5714285714285714\n",
      "\tF-measure:  0.14285714285714285\n",
      "\n",
      "s-c\n",
      "\tacuracy: 0.9963924963924964\n",
      "\tprecision: 0.375\n",
      "\trecall 1.0\n",
      "\tF-measure:  0.5454545454545454\n",
      "\n"
     ]
    }
   ],
   "source": [
    "for i, g in enumerate(group):\n",
    "    print(g)\n",
    "    yt = y.T[i]\n",
    "    yp = y_pred.T[i]\n",
    "    print(\"\\tacuracy:\", metrics.accuracy_score(yt, yp))\n",
    "    print(\"\\tprecision:\", metrics.precision_score(yt, yp))\n",
    "    print(\"\\trecall\", metrics.recall_score(yt, yp))\n",
    "    print('\\tF-measure: ', metrics.f1_score(yt, yp))\n",
    "    print()\n",
    "    # print('0/1 loss: ', metrics.zero_one_loss(yt, yp))"
   ]
  },
  {
   "cell_type": "code",
   "execution_count": 69,
   "metadata": {},
   "outputs": [],
   "source": [
    "a = list(y.flatten())"
   ]
  },
  {
   "cell_type": "code",
   "execution_count": 70,
   "metadata": {},
   "outputs": [
    {
     "data": {
      "text/plain": [
       "11088"
      ]
     },
     "execution_count": 70,
     "metadata": {},
     "output_type": "execute_result"
    }
   ],
   "source": [
    "len(a)"
   ]
  },
  {
   "cell_type": "code",
   "execution_count": 71,
   "metadata": {},
   "outputs": [
    {
     "data": {
      "text/plain": [
       "1555"
      ]
     },
     "execution_count": 71,
     "metadata": {},
     "output_type": "execute_result"
    }
   ],
   "source": [
    "a.count(1)"
   ]
  },
  {
   "cell_type": "code",
   "execution_count": 72,
   "metadata": {},
   "outputs": [
    {
     "data": {
      "text/plain": [
       "0.8597582972582972"
      ]
     },
     "execution_count": 72,
     "metadata": {},
     "output_type": "execute_result"
    }
   ],
   "source": [
    "(11088-1555)/11088"
   ]
  },
  {
   "cell_type": "code",
   "execution_count": null,
   "metadata": {},
   "outputs": [],
   "source": []
  }
 ],
 "metadata": {
  "interpreter": {
   "hash": "31f2aee4e71d21fbe5cf8b01ff0e069b9275f58929596ceb00d14d90e3e16cd6"
  },
  "kernelspec": {
   "display_name": "Python 3.6.9 64-bit",
   "language": "python",
   "name": "python3"
  },
  "language_info": {
   "codemirror_mode": {
    "name": "ipython",
    "version": 3
   },
   "file_extension": ".py",
   "mimetype": "text/x-python",
   "name": "python",
   "nbconvert_exporter": "python",
   "pygments_lexer": "ipython3",
   "version": "3.6.9"
  },
  "orig_nbformat": 4
 },
 "nbformat": 4,
 "nbformat_minor": 2
}
