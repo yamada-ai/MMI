{
 "cells": [
  {
   "cell_type": "code",
   "execution_count": 1,
   "metadata": {},
   "outputs": [],
   "source": [
    "import re\n",
    "import sys\n",
    "import json\n",
    "\n",
    "\n",
    "import sys\n",
    "sys.dont_write_bytecode = True\n",
    "sys.path.append('../')\n",
    "from datatools.analyzer import *\n",
    "\n",
    "from datatools.maneger import DataManager\n",
    "from datatools.preproc import Preprocessor\n",
    "\n",
    "from sklearn.linear_model import LogisticRegression\n",
    "from sklearn.model_selection import train_test_split\n",
    "from sklearn import metrics"
   ]
  },
  {
   "cell_type": "code",
   "execution_count": 5,
   "metadata": {},
   "outputs": [
    {
     "name": "stdout",
     "output_type": "stream",
     "text": [
      "success load : ../X_y_data/response2/Classify_F3.pickle\n"
     ]
    }
   ],
   "source": [
    "from response.feature import Feature\n",
    "F_path = \"../X_y_data/response2/\"\n",
    "F_name = \"Classify_F3.pickle\"\n",
    "featureM = DataManager(F_path)\n",
    "F = featureM.load_data(F_name)"
   ]
  },
  {
   "cell_type": "code",
   "execution_count": 6,
   "metadata": {},
   "outputs": [
    {
     "name": "stdout",
     "output_type": "stream",
     "text": [
      "success load : ../models/response2/Classify_M3.pickle\n"
     ]
    }
   ],
   "source": [
    "model_path = \"../models/response2/\"\n",
    "model_name = \"Classify_M3.pickle\"\n",
    "modelM = DataManager(model_path)\n",
    "lr = modelM.load_data(model_name)"
   ]
  },
  {
   "cell_type": "code",
   "execution_count": 7,
   "metadata": {},
   "outputs": [],
   "source": [
    "path = \"../eval_labeled/\"\n",
    "# path = \"../hand_labeled/\"\n",
    "datalist = ['DCM', 'DIT', 'IRS']\n",
    "convs = read_conv(path, datalist)"
   ]
  },
  {
   "cell_type": "code",
   "execution_count": 8,
   "metadata": {},
   "outputs": [],
   "source": [
    "def make_Xy(convs, N=4):\n",
    "    errors = [\"Ignore question\", 'Ignore offer', 'Ignore proposal', \"Ignore greeting\"]\n",
    "    # errors = errors[:1]\n",
    "    \n",
    "    X = []\n",
    "    y = []\n",
    "    for conv in convs:\n",
    "\n",
    "        dialogue = [\"\"]*N\n",
    "        for i, ut in enumerate( conv ) :\n",
    "            # ユーザ発話駆動\n",
    "            dialogue.append(clean_text( ut.utt) )\n",
    "            if ut.is_exist_error():\n",
    "                X.append( dialogue[-N:] )\n",
    "                    # X.append(dialogue[-N:])\n",
    "                if ut.is_error_included(errors) :\n",
    "                    y.append(1)\n",
    "                else:\n",
    "                    y.append(0)\n",
    "        \n",
    "    return X, y"
   ]
  },
  {
   "cell_type": "code",
   "execution_count": 9,
   "metadata": {},
   "outputs": [],
   "source": [
    "N = 2\n",
    "X_str, y = make_Xy(convs, N=N)"
   ]
  },
  {
   "cell_type": "code",
   "execution_count": 10,
   "metadata": {},
   "outputs": [
    {
     "name": "stderr",
     "output_type": "stream",
     "text": [
      "  0%|          | 0/1386 [00:00<?, ?it/s]"
     ]
    },
    {
     "name": "stdout",
     "output_type": "stream",
     "text": [
      "67906\n"
     ]
    },
    {
     "name": "stderr",
     "output_type": "stream",
     "text": [
      "100%|██████████| 1386/1386 [04:16<00:00,  5.40it/s]\n"
     ]
    }
   ],
   "source": [
    "from tqdm import tqdm\n",
    "print(F.feature_num)\n",
    "usr = []\n",
    "for i, u_s in enumerate( tqdm(X_str) ):\n",
    "    x = F.featurization(u_s[0])\n",
    "    usr.append(x)\n",
    "usr_ = np.array(usr)"
   ]
  },
  {
   "cell_type": "code",
   "execution_count": 11,
   "metadata": {},
   "outputs": [],
   "source": [
    "question_pred = lr.predict(usr_)"
   ]
  },
  {
   "cell_type": "code",
   "execution_count": null,
   "metadata": {},
   "outputs": [],
   "source": []
  },
  {
   "cell_type": "code",
   "execution_count": 12,
   "metadata": {},
   "outputs": [],
   "source": [
    "def vec2feature(vector):\n",
    "    diff = np.abs( vector[0] - vector[1] )\n",
    "    return np.concatenate([vector.flatten(), diff])"
   ]
  },
  {
   "cell_type": "code",
   "execution_count": 13,
   "metadata": {},
   "outputs": [
    {
     "name": "stderr",
     "output_type": "stream",
     "text": [
      "[816] 2022-02-21 14:57:13,940 Info sentence_transformers.SentenceTransformer :Load pretrained SentenceTransformer: ../../corpus/pretrained/sbert_ignore\n",
      "[816] 2022-02-21 14:57:15,228 Info sentence_transformers.SentenceTransformer :Use pytorch device: cuda\n"
     ]
    }
   ],
   "source": [
    "from sentence_transformers import SentenceTransformer\n",
    "bert_path = \"../../corpus/pretrained/sbert_ignore\"\n",
    "sbert = SentenceTransformer(bert_path)"
   ]
  },
  {
   "cell_type": "code",
   "execution_count": 14,
   "metadata": {},
   "outputs": [
    {
     "data": {
      "application/vnd.jupyter.widget-view+json": {
       "model_id": "e46a98e8c22a4e96b91173099dbbd3a9",
       "version_major": 2,
       "version_minor": 0
      },
      "text/plain": [
       "Batches:   0%|          | 0/87 [00:00<?, ?it/s]"
      ]
     },
     "metadata": {},
     "output_type": "display_data"
    }
   ],
   "source": [
    "X_all_str = sum(X_str, [])\n",
    "x_length = len(X_all_str)//N\n",
    "X_vec = sbert.encode(X_all_str).reshape(x_length, N, -1)\n",
    "X = np.array([ vec2feature(vec) for vec in X_vec ])"
   ]
  },
  {
   "cell_type": "code",
   "execution_count": 15,
   "metadata": {},
   "outputs": [],
   "source": [
    "import torch\n",
    "import torch.nn as nn\n",
    "import torch.nn.functional as F\n",
    "from torch.nn.modules import loss\n",
    "import torch.optim as optim"
   ]
  },
  {
   "cell_type": "code",
   "execution_count": 16,
   "metadata": {},
   "outputs": [],
   "source": [
    "class ResponseModel(nn.Module):\n",
    "    def __init__(self, embedding_dim, tagset_size):\n",
    "        # 親クラスのコンストラクタ。決まり文句\n",
    "        super(ResponseModel, self).__init__()    \n",
    "        self.embedding_dim = embedding_dim\n",
    "        self.hid1= embedding_dim*2\n",
    "        self.hid2 = embedding_dim//2\n",
    "        self.fc1 = nn.Linear(self.embedding_dim, self.hid1)\n",
    "        self.fc2 = nn.Linear(self.hid1, self.hid2)\n",
    "        self.hidden2tag = nn.Linear(self.hid2, tagset_size)\n",
    "    \n",
    "    def forward(self, x):\n",
    "        y = F.relu(self.fc1(x))\n",
    "        y = F.relu(self.fc2(y))\n",
    "        y = self.hidden2tag( y )\n",
    "        y = F.log_softmax(y, dim=1)\n",
    "        return y"
   ]
  },
  {
   "cell_type": "code",
   "execution_count": 17,
   "metadata": {},
   "outputs": [
    {
     "name": "stdout",
     "output_type": "stream",
     "text": [
      "success load : ../models/response2/sbert_ffn.pickle\n"
     ]
    }
   ],
   "source": [
    "smodel_path = \"../models/response2/\"\n",
    "smodel_name = \"sbert_ffn.pickle\"\n",
    "smodelM = DataManager(smodel_path)\n",
    "model = smodelM.load_data(smodel_name)"
   ]
  },
  {
   "cell_type": "code",
   "execution_count": 18,
   "metadata": {},
   "outputs": [],
   "source": [
    "with torch.no_grad():\n",
    "    X_tensor = torch.tensor(X, device='cuda:0').float()\n",
    "            # 推論\n",
    "    sbert_pred= np.array(model(X_tensor).cpu()).argmax(axis=1)"
   ]
  },
  {
   "cell_type": "code",
   "execution_count": 19,
   "metadata": {},
   "outputs": [],
   "source": [
    "# count = 0\n",
    "y_pred = []\n",
    "for i, p in enumerate(question_pred):\n",
    "    if p==1:\n",
    "        if sbert_pred[i] ==1:\n",
    "            y_pred.append(1)\n",
    "        else:\n",
    "            y_pred.append(0)\n",
    "        # count+=1\n",
    "    else:\n",
    "        y_pred.append(0)"
   ]
  },
  {
   "cell_type": "code",
   "execution_count": 20,
   "metadata": {},
   "outputs": [
    {
     "name": "stdout",
     "output_type": "stream",
     "text": [
      "confusion matrix = \n",
      " [[988  44]\n",
      " [ 84 270]]\n",
      "accuracy =  0.9076479076479076\n",
      "precision =  0.8598726114649682\n",
      "recall =  0.7627118644067796\n",
      "f1 score =  0.8083832335329342\n"
     ]
    }
   ],
   "source": [
    "score(y, y_pred)"
   ]
  },
  {
   "cell_type": "code",
   "execution_count": 21,
   "metadata": {},
   "outputs": [
    {
     "name": "stdout",
     "output_type": "stream",
     "text": [
      "confusion matrix = \n",
      " [[984  48]\n",
      " [ 70 284]]\n",
      "accuracy =  0.9148629148629148\n",
      "precision =  0.8554216867469879\n",
      "recall =  0.8022598870056498\n",
      "f1 score =  0.8279883381924199\n"
     ]
    }
   ],
   "source": [
    "score(y, sbert_pred)"
   ]
  },
  {
   "cell_type": "markdown",
   "metadata": {},
   "source": [
    "- 前向き機能 + sbert \n",
    "\n",
    "        confusion matrix = \n",
    "        [[988  44]\n",
    "        [ 84 270]]\n",
    "        accuracy =  0.9076479076479076\n",
    "        precision =  0.8598726114649682\n",
    "        recall =  0.7627118644067796\n",
    "        f1 score =  0.8083832335329342\n",
    "\n",
    "- sbert のみ\n",
    "\n",
    "        confusion matrix = \n",
    "        [[984  48]\n",
    "        [ 70 284]]\n",
    "        accuracy =  0.9148629148629148\n",
    "        precision =  0.8554216867469879\n",
    "        recall =  0.8022598870056498\n",
    "        f1 score =  0.8279883381924199"
   ]
  },
  {
   "cell_type": "code",
   "execution_count": 22,
   "metadata": {},
   "outputs": [
    {
     "name": "stdout",
     "output_type": "stream",
     "text": [
      "success save : ../X_y_data/y_pred/ignore.pickle\n"
     ]
    }
   ],
   "source": [
    "# data_path = \"../X_y_data/y_pred/\"\n",
    "# data_name = \"ignore.pickle\"\n",
    "# dataM = DataManager(data_path)\n",
    "# dataM.save_data(data_name, [y, y_pred])"
   ]
  },
  {
   "cell_type": "code",
   "execution_count": 23,
   "metadata": {},
   "outputs": [
    {
     "name": "stdout",
     "output_type": "stream",
     "text": [
      "['海はいいですね。泳ぎは得意ですか。', '泳ぎはいいですね']\n",
      "['そうですよね。あなたは普段からカロリーに気を遣ってたりするんですか?', 'カロリーが多いですよねえ']\n",
      "['渾名、教えてください', '職場で同僚を渾名で呼ぶのは、どうかと思うよ。']\n",
      "['知っています。見たことありますか。', '掛け声を覚えたことあります']\n",
      "['掛け声は、いつ出すんですか。', '掛け声が出すのに必要です']\n",
      "['力が必要ですか。', '掛け声を覚えるかもしれない']\n",
      "['わたしはバーベキューをしました。バーベキューは好きですか。', '大声で上げるかもしれない']\n",
      "['大声をあげたら、迷惑になりますよ。雨は好きですか。', '女性が大声を上げるのです']\n",
      "['聞く方なんですね。わたしは御菓子が好きですが、あなたは何か好きな物はありますか。', '御菓子は好きですか。掛け声を聞きますよねー']\n",
      "['そうですかー。映画とか気になるのありません?', '映画が楽しみです']\n",
      "['久し振りですね、どこかへお出掛けですか。', '女の子が初デートで御洒落してお出掛けって、すごく可愛いく感じるんだ。']\n",
      "['じゃあ遊ぼうか', '普段はどんな服を着てますか?']\n",
      "['いつまでこの話するの?', '干支は辰年です。']\n",
      "['女性の方がいろいろ大人ですね?', '大人になったらやっぱり選挙に行かないとね。']\n",
      "['料理はまだですが、テレビですきな番組がありますか?', '朝からテレビをつけるかもしれない']\n",
      "['そうなんだ。例えばなんて御店?', 'イタリア料理は美味しいですね']\n",
      "['安上がりですけど面倒ですよね?', '自炊はお金がかからないんですよねぇ']\n",
      "['傘を持って行った方がいいですか', '0月0日は梅雨入りになることが多いから、「傘の日」なんだって。']\n",
      "['食べ過ぎて、御腹が痛くなったことはないですか。', 'ハーゲンダッツが好きですね']\n",
      "['新鮮で美味しいですよ!食べたことないですか?', 'いいですね!']\n",
      "['恋しい天気とはどんな天気なんでしょう。', '天気は怪しそうですよ']\n",
      "['そうなんですね。もし良い物があったら教えてください。', '「物」をウィキペディアで検索した結果は、「物とは、広義には対象を特定化せず一般的・包括的にいう語であり、人間が知覚し思考し得る対象の一切である。」だよ']\n",
      "['アクセスを増やすには良い方法がありますか?', 'アクセスのステーを聴くと感動します']\n",
      "['東京駅までどれくらいかかりますか?', '東京駅には、JR東日本とJR東海の0人の駅長がいるんだって。']\n",
      "['笑点ですか?どんな御土産なのですか?', '鎌倉のファミリーマートの名物メニューは、ふわふわのパンケーキです。']\n",
      "['通販はよく利用しますか?', '箱boonは、ファミリーマートが配送を行いますが、ゆうパックなどの宅配便サービスよりも価格が安い事が特徴です。']\n",
      "['ドラマよくみるのですか?', '鎌倉の馬鹿よ貴方はのパンケーキを実際に食べましたが、厚みがあって、外が少しサクッとしていて美味しかったです。']\n",
      "['ゲゲゲの女房は朝ドラですよ。ですが、悪役がハマる俳優さんといえば誰でしょう', '俳優の向井理さんが出演しているNHKの連続テレビ小説ゲゲゲの女房を見ていません。']\n",
      "['限定商品には魅力があります。何時間も並んで購入したりしますか?', 'ブラッドオレンジは日本の蜜柑に比べて味が濃いし、甘いのでミスタークロワッサンドーナツの情報を見ただけでも美味しそうだと思いますね。']\n",
      "['忍たま乱太郎は町歩き番組なのですか?アニメではないんですね。', '以前、テレビでタモリさんが、「お風呂に入る時には石鹸などは全く使わない」というお話をされていて、驚きました。']\n",
      "['御馳走さんではなくてですか', 'お節料理ははハードルが高いと思っていたので、料理研究家の栗原はるみさんがご提案されていたお節料理を見て、これでいいのだと何かとても安心いたしました。']\n",
      "['NHKってそんなこともやってるの?', '紙の月というドラマのこれまでの回がNHKで再放送されたら、ぜひ見てみたいです。']\n",
      "['毒蜘蛛だよね?', 'タレントのタモリさんもNHKのテレビ番組などで主婦層にとても人気があるようですね。']\n",
      "['御腹空いてない?', '奈良出身なので、どちらかといえば、元気やを応援していました。']\n",
      "['鈴木明子です。あなたは?', 'セブンイレブンのマルチコピー機の性能が良いので、自宅のプリンターを使用する機会がなくなりました。']\n",
      "['美味しかったですか?', 'セブンイレブンで売られている安納薯の御薩スナックは美味しいですね。私もチョコチップクリームの安納薯の御薩スナックをよく買います。']\n",
      "['かっぱ蝦煎って懐かしいなぁ。子供の頃よく食べました。セブンイレブン以外のコンビニには行かないのですか?', 'あなたの好きなセブンイレブンのピザポテトのちょい足しレシピはないようですが、nanacoやポテトチップス、グランドカルビーのちょい足しレシピは話題のようです。']\n",
      "['nanacoでポイント貯めてますか?', '今後、大量に印刷物を作成する機会ができたら、セブンイレブンのマルチコピー機を利用したいと思います。']\n",
      "['どんな物をプリントアウトするのですか?', 'コンビニエンスストアで売っている商品の中では、私はセブンイレブンのチョコケーキマウンテンが好きで、よく買います。']\n",
      "['チョコケーキマウンテンは、どんな商品なのですか?', 'セブンイレブンのチョコケーキマウンテンというスイーツはどのようなスイーツですか?。']\n",
      "['甘くて美味しいスイーツですね。でも、太るのが難点です。ダイエットとかしてますか?', 'セブンイレブンのチョコケーキマウンテンのコーヒーは有名ですから、ドーナツとの組み合わせは嬉しいですよね。']\n",
      "['パステルって何ですか?有名な飲食店なの?', 'ソフトクリームで思い出したのですが、コンビニエンスストアのミニストップで、今の時期はメイトーのなめらかプリンを発売しているそうですが、御存知でしたか?。']\n",
      "['梅は好きですか?', 'テレビ番組では、私はTBSで年末年始に放映されているもう1度君に、プロポーズの年越しライブの京都雲月のコーナーを観覧してみたいと思っています。']\n",
      "['ゴールデンイーグルスは野球の球団ではないですか?', 'やはり松井裕樹投手が抜けた穴は今シーズンの東北楽天ゴールデンイーグルスにはとても大きかったみたいです。']\n",
      "['動物園の中でテレビ観るんですか?', '旭山動物園のもぐもぐタイムや冬に行われるペンギンの散歩は見ていて飽きないです。']\n",
      "['オランダにもコロッケがあるんですか?', 'ゴッホやハビエル・アギーレなど、多くの有名な絵画がオランダにはあります。']\n",
      "['ココロココとはなんですか?御菓子ですか?', '地方へ移住する人向けのインターネットサイトも多く見かけるようになり、インターネットサイトのココロココでは、ローカルシフトという名前で、移住希望者への情報を御洒落に載せています。']\n",
      "['知らないです。どんなCMですか?', 'メロンパンの皮焼いちゃいましたというパンはスーパーマーケットではPOPなどで宣伝されていましたか?。']\n",
      "['テレビ見ないからわからないけど、それってすごいことなんだよね?', 'その他、グラッチェガーデンでは、数十種類のパスタやグラタンなども0種類だけメニューから選び、食べることができます。ドリンクバーやサラダもついて、0円です。いつか岩手にも建てば、ご家族で楽しめるかと思います。']\n",
      "['建てるならもっと集客ができる所がよいのではないかと?', '岩手在住の主婦です。現在は子育てをしながらみけらんを時々やっています。']\n",
      "['趣味の話をしましょう', '茅ヶ崎とアムステルダムなら、どちらが楽しいでしょうか?']\n",
      "['そうなのですか?', 'サカナクションの他に、アジアン kung-FU generationや亀梨和也、スマップも好きです。']\n",
      "['おいしかったですか?', 'ガンバ大阪のサポーターなので、宇佐美貴史選手が好きです。']\n",
      "['何をしたのでしょうか?', '松島みどり氏が政治資金を使って訪れた名店には、一般的に名が通っている所が多く、高級天麩羅店や高級焼き肉店を連ねていました。']\n",
      "['そうなのですか!どんなドラマが好きですか?', 'アイドルグループのスマップの中居正広さんは、どんな時でもアイドルを貫いている所もすごいですよね。']\n",
      "['見たこと無い、どうゆう奴なの?', '宇多田ヒカルさんの宇多田ヒカルの歌-0組の音楽家による0の解釈について-のプロモーションビデオは、自分の部屋でセルフ撮影しているような設定なのが特徴ですよね。']\n",
      "['おいごさんは何をされている方ですか?', 'マツコ・デラックスさんが株主優待の商品をマツコの知らない世界の番組内で紹介されることで、企業のPRにもなりますし、視聴者にはプレゼントされるので、1石二鳥だと思います。']\n",
      "['あまり上向いていない気がします。どうしてすき家がいいと思うの?', 'ココロココを見ると、今年の日本の状況が分かりますよね。']\n",
      "['内はお雑煮がお澄ましではなく、お味噌ですよ。おせち料理で何が好き?', '日本ではまだエボラ出血熱の感染者は出ていませんが、時間の問題だとも言われていますね。']\n",
      "['日本は医療が発達していて恵まれていますよね。赤ちゃんを産むなら総合病院、産婦人科、助産院どれを選ぶ?', '同じ日本でも、だいぶ気温差がありますよね。']\n",
      "['初めて聞くお名前ですね。どんなお寺が好き?', '奈良出身なので、どちらかといえば、letaoを応援していました。']\n",
      "['試作品は何ですか?', 'ヨーロッパのイタリアにとても興味があります。']\n",
      "['好きな宮崎アニメは何ですか', '私が好きなバラエティー番組は、テレビ東京のもやもやさまぁずです。']\n",
      "['IKEAにはよく行くのですか?', 'アンパンマンミュージアムは神戸にもできました。']\n",
      "['サイクリングやったことないんですよ、自転車が好きなんですか?', '私が提案している町作りは、JR東日本と四国地方の広い地域にまたがっています。']\n",
      "['え?MOSバーガーの工場で何があったんですか?', 'MOSバーガーのハンバーガーでモスライスバーガーが好きです。']\n",
      "['ダンスに興味がありますか', 'もともとアイドルグループのakb0については詳しくありませんが、その中でも大島優子さんの様に知っているメンバーがどんどん卒業していくので、さらに知らないアイドルグループと化しています。']\n",
      "['他に誰か好きな作者さんはいますか?', '柳沢選手が親戚と同じ名前で親近感があります。']\n",
      "['もしあなたのオススメがあれば教えてください。', 'といっても、冬のソナタとか天国の階段とかはまだ見たことがないんです。']\n",
      "['焼き肉はいいですよね。焼き肉になにを付けて食べます?', '家で食べると部屋が汚れるので、主に焼き肉屋で食べますね。']\n",
      "['春夏秋冬どの季節がすきですか?', '舞台ですか?今年見にいく予定の舞台は、映画にもなった「あずみ」と藤原竜也と市村政規出演の「ライフインザシアター」っていう奴です。']\n",
      "['よく冷えた冷や酒だと、料理がおいしくなるので少量でも満足感はありますよ。今晩どうですか?', '料理は好きですよ。でも、下手なのでよく失敗して焦がしたいしちゃいますね。']\n",
      "['一番好きな映画は何ですか?', 'うーん、最近は玄米茶が好きです。']\n",
      "['アイススケートの浅野真央さんですか?', 'おはよん。']\n",
      "['飼っていたことがあるの?', '犬を飼っています。']\n",
      "['複数でもいいですよ。教えてください。', '宇宙に行きたいです。後流れ星に乗りたい。']\n",
      "['そうなんです。音楽は好きなので、苦にはならないですよ。失礼ですが、あなたのお仕事は?', '音楽好きですね。']\n",
      "['クラシック、ジャズ、ポップスが好きです。他に趣味はありますか?', 'わたしはフレンチポップとか日本の御洒落系の音楽とかが多いです。']\n",
      "['私もフレンチポップ好きです。ミシェール・ポルナレフはお好きですか?', 'うまく歌おうと思わなければいいんじゃないですか?']\n",
      "['恋人を一緒に見たいですね。恋人いますか?', 'ドラマはあまり見ないんですが、さんまの奴見ました。']\n",
      "['どのようなこだわりがあるのですか?', '私は少し甘みのあるのが好きです。']\n",
      "['部活もされていたのですね。私は野球やサッカー部でした。ベンチでしたけど。スポーツは何がお好きですか?', '俺も今は行ってないよ。けど、春休み昼間とか暇なんで行きたい気分っすね!']\n",
      "['ですね。その時どんなチャット内容だったか覚えています?', '0年前に行方不明になった飛行機が突然現れて、乗っていた人たちにとっては、0年経っていなくて・・・つまり、0年後に来てしまったんです。']\n",
      "['確かにそうですよね。時間の使い方に気をつけてますか?', 'ポーランドはどうでした?']\n"
     ]
    }
   ],
   "source": [
    "for yt, yp , x in zip(y, y_pred, X_str):\n",
    "    if yt==1 and yp==0:\n",
    "        print(x)"
   ]
  },
  {
   "cell_type": "code",
   "execution_count": null,
   "metadata": {},
   "outputs": [],
   "source": []
  }
 ],
 "metadata": {
  "interpreter": {
   "hash": "31f2aee4e71d21fbe5cf8b01ff0e069b9275f58929596ceb00d14d90e3e16cd6"
  },
  "kernelspec": {
   "display_name": "Python 3.6.9 64-bit",
   "language": "python",
   "name": "python3"
  },
  "language_info": {
   "codemirror_mode": {
    "name": "ipython",
    "version": 3
   },
   "file_extension": ".py",
   "mimetype": "text/x-python",
   "name": "python",
   "nbconvert_exporter": "python",
   "pygments_lexer": "ipython3",
   "version": "3.6.9"
  },
  "orig_nbformat": 4
 },
 "nbformat": 4,
 "nbformat_minor": 2
}
