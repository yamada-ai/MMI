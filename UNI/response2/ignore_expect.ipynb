{
 "cells": [
  {
   "cell_type": "code",
   "execution_count": 2,
   "metadata": {},
   "outputs": [],
   "source": [
    "import json\n",
    "import os\n",
    "import pandas as pd\n",
    "import numpy as np\n",
    "from pathlib import Path\n",
    "import collections\n",
    "from sklearn.model_selection import train_test_split\n",
    "from sklearn import metrics\n",
    "\n",
    "import sys\n",
    "sys.path.append(\"../\")\n",
    "from datatools.analyzer import *\n",
    "from utterance.error_tools import *\n",
    "\n",
    "from datatools.maneger import DataManager\n",
    "from datatools.preproc import Preprocessor"
   ]
  },
  {
   "cell_type": "code",
   "execution_count": 4,
   "metadata": {},
   "outputs": [],
   "source": [
    "import ginza\n",
    "from spacy import displacy\n",
    "def to_dependency_data(doc):\n",
    "    words = []\n",
    "    arcs = []\n",
    "    bunsetu_head_list = ginza.bunsetu_head_list(doc)\n",
    "    for i, chunk in enumerate(ginza.bunsetu_spans(doc)):\n",
    "        words.append({\n",
    "            'text': chunk.text, 'tag': chunk.label_\n",
    "        })\n",
    "        for token in chunk.lefts:\n",
    "            arcs.append({\n",
    "                'start': bunsetu_head_list.index(token.i),\n",
    "                'end': i,\n",
    "                'label': token.dep_,\n",
    "                'dir': 'left'\n",
    "            })\n",
    "        for token in chunk.rights:\n",
    "            arcs.append({\n",
    "                'start': i,\n",
    "                'end': bunsetu_head_list.index(token.i),\n",
    "                'label': token.dep_,\n",
    "                'dir': 'right'\n",
    "            })\n",
    "    return {'words': words, 'arcs': arcs}\n"
   ]
  },
  {
   "cell_type": "code",
   "execution_count": 5,
   "metadata": {},
   "outputs": [],
   "source": [
    "t = \"好きなスイーツはありますか？\""
   ]
  },
  {
   "cell_type": "code",
   "execution_count": 6,
   "metadata": {},
   "outputs": [
    {
     "data": {
      "text/html": [
       "<span class=\"tex2jax_ignore\"><svg xmlns=\"http://www.w3.org/2000/svg\" xmlns:xlink=\"http://www.w3.org/1999/xlink\" xml:lang=\"en\" id=\"9c5a5d82bae04f8990f44944a8c96532-0\" class=\"displacy\" width=\"575\" height=\"224.5\" direction=\"ltr\" style=\"max-width: none; height: 224.5px; color: #000000; background: #ffffff; font-family: Arial; direction: ltr\">\n",
       "<text class=\"displacy-token\" fill=\"currentColor\" text-anchor=\"middle\" y=\"134.5\">\n",
       "    <tspan class=\"displacy-word\" fill=\"currentColor\" x=\"50\">好きな</tspan>\n",
       "    <tspan class=\"displacy-tag\" dy=\"2em\" fill=\"currentColor\" x=\"50\">ADJP</tspan>\n",
       "</text>\n",
       "\n",
       "<text class=\"displacy-token\" fill=\"currentColor\" text-anchor=\"middle\" y=\"134.5\">\n",
       "    <tspan class=\"displacy-word\" fill=\"currentColor\" x=\"225\">スイーツは</tspan>\n",
       "    <tspan class=\"displacy-tag\" dy=\"2em\" fill=\"currentColor\" x=\"225\">NP</tspan>\n",
       "</text>\n",
       "\n",
       "<text class=\"displacy-token\" fill=\"currentColor\" text-anchor=\"middle\" y=\"134.5\">\n",
       "    <tspan class=\"displacy-word\" fill=\"currentColor\" x=\"400\">ありますか？</tspan>\n",
       "    <tspan class=\"displacy-tag\" dy=\"2em\" fill=\"currentColor\" x=\"400\">VP</tspan>\n",
       "</text>\n",
       "\n",
       "<g class=\"displacy-arrow\">\n",
       "    <path class=\"displacy-arc\" id=\"arrow-9c5a5d82bae04f8990f44944a8c96532-0-0\" stroke-width=\"2px\" d=\"M70,89.5 C70,2.0 225.0,2.0 225.0,89.5\" fill=\"none\" stroke=\"currentColor\"/>\n",
       "    <text dy=\"1.25em\" style=\"font-size: 0.8em; letter-spacing: 1px\">\n",
       "        <textPath xlink:href=\"#arrow-9c5a5d82bae04f8990f44944a8c96532-0-0\" class=\"displacy-label\" startOffset=\"50%\" side=\"left\" fill=\"currentColor\" text-anchor=\"middle\">acl</textPath>\n",
       "    </text>\n",
       "    <path class=\"displacy-arrowhead\" d=\"M70,91.5 L62,79.5 78,79.5\" fill=\"currentColor\"/>\n",
       "</g>\n",
       "\n",
       "<g class=\"displacy-arrow\">\n",
       "    <path class=\"displacy-arc\" id=\"arrow-9c5a5d82bae04f8990f44944a8c96532-0-1\" stroke-width=\"2px\" d=\"M245,89.5 C245,2.0 400.0,2.0 400.0,89.5\" fill=\"none\" stroke=\"currentColor\"/>\n",
       "    <text dy=\"1.25em\" style=\"font-size: 0.8em; letter-spacing: 1px\">\n",
       "        <textPath xlink:href=\"#arrow-9c5a5d82bae04f8990f44944a8c96532-0-1\" class=\"displacy-label\" startOffset=\"50%\" side=\"left\" fill=\"currentColor\" text-anchor=\"middle\">nsubj</textPath>\n",
       "    </text>\n",
       "    <path class=\"displacy-arrowhead\" d=\"M245,91.5 L237,79.5 253,79.5\" fill=\"currentColor\"/>\n",
       "</g>\n",
       "</svg></span>"
      ],
      "text/plain": [
       "<IPython.core.display.HTML object>"
      ]
     },
     "metadata": {},
     "output_type": "display_data"
    }
   ],
   "source": [
    "\n",
    "displacy.render(\n",
    "    to_dependency_data(nlp(t)),\n",
    "    style='dep',\n",
    "    jupyter=True,\n",
    "    manual=True\n",
    ")"
   ]
  },
  {
   "cell_type": "code",
   "execution_count": 85,
   "metadata": {},
   "outputs": [
    {
     "data": {
      "text/html": [
       "<span class=\"tex2jax_ignore\"><svg xmlns=\"http://www.w3.org/2000/svg\" xmlns:xlink=\"http://www.w3.org/1999/xlink\" xml:lang=\"ja\" id=\"cadb048edac3414e827b74596912025a-0\" class=\"displacy\" width=\"680\" height=\"227.0\" direction=\"ltr\" style=\"max-width: none; height: 227.0px; color: #000000; background: #ffffff; font-family: Arial; direction: ltr\">\n",
       "<text class=\"displacy-token\" fill=\"currentColor\" text-anchor=\"middle\" y=\"137.0\">\n",
       "    <tspan class=\"displacy-word\" fill=\"currentColor\" x=\"50\">好き</tspan>\n",
       "    <tspan class=\"displacy-tag\" dy=\"2em\" fill=\"currentColor\" x=\"50\">ADJ</tspan>\n",
       "</text>\n",
       "\n",
       "<text class=\"displacy-token\" fill=\"currentColor\" text-anchor=\"middle\" y=\"137.0\">\n",
       "    <tspan class=\"displacy-word\" fill=\"currentColor\" x=\"140\">な</tspan>\n",
       "    <tspan class=\"displacy-tag\" dy=\"2em\" fill=\"currentColor\" x=\"140\">AUX</tspan>\n",
       "</text>\n",
       "\n",
       "<text class=\"displacy-token\" fill=\"currentColor\" text-anchor=\"middle\" y=\"137.0\">\n",
       "    <tspan class=\"displacy-word\" fill=\"currentColor\" x=\"230\">スイーツ</tspan>\n",
       "    <tspan class=\"displacy-tag\" dy=\"2em\" fill=\"currentColor\" x=\"230\">NOUN</tspan>\n",
       "</text>\n",
       "\n",
       "<text class=\"displacy-token\" fill=\"currentColor\" text-anchor=\"middle\" y=\"137.0\">\n",
       "    <tspan class=\"displacy-word\" fill=\"currentColor\" x=\"320\">は</tspan>\n",
       "    <tspan class=\"displacy-tag\" dy=\"2em\" fill=\"currentColor\" x=\"320\">ADP</tspan>\n",
       "</text>\n",
       "\n",
       "<text class=\"displacy-token\" fill=\"currentColor\" text-anchor=\"middle\" y=\"137.0\">\n",
       "    <tspan class=\"displacy-word\" fill=\"currentColor\" x=\"410\">あり</tspan>\n",
       "    <tspan class=\"displacy-tag\" dy=\"2em\" fill=\"currentColor\" x=\"410\">VERB</tspan>\n",
       "</text>\n",
       "\n",
       "<text class=\"displacy-token\" fill=\"currentColor\" text-anchor=\"middle\" y=\"137.0\">\n",
       "    <tspan class=\"displacy-word\" fill=\"currentColor\" x=\"500\">ます</tspan>\n",
       "    <tspan class=\"displacy-tag\" dy=\"2em\" fill=\"currentColor\" x=\"500\">AUX</tspan>\n",
       "</text>\n",
       "\n",
       "<text class=\"displacy-token\" fill=\"currentColor\" text-anchor=\"middle\" y=\"137.0\">\n",
       "    <tspan class=\"displacy-word\" fill=\"currentColor\" x=\"590\">か？</tspan>\n",
       "    <tspan class=\"displacy-tag\" dy=\"2em\" fill=\"currentColor\" x=\"590\">PART</tspan>\n",
       "</text>\n",
       "\n",
       "<g class=\"displacy-arrow\">\n",
       "    <path class=\"displacy-arc\" id=\"arrow-cadb048edac3414e827b74596912025a-0-0\" stroke-width=\"2px\" d=\"M62,92.0 62,62.0 230.0,62.0 230.0,92.0\" fill=\"none\" stroke=\"currentColor\"/>\n",
       "    <text dy=\"1.25em\" style=\"font-size: 0.8em; letter-spacing: 1px\">\n",
       "        <textPath xlink:href=\"#arrow-cadb048edac3414e827b74596912025a-0-0\" class=\"displacy-label\" startOffset=\"50%\" side=\"left\" fill=\"currentColor\" text-anchor=\"middle\">acl</textPath>\n",
       "    </text>\n",
       "    <path class=\"displacy-arrowhead\" d=\"M62,94.0 L58,86.0 66,86.0\" fill=\"currentColor\"/>\n",
       "</g>\n",
       "\n",
       "<g class=\"displacy-arrow\">\n",
       "    <path class=\"displacy-arc\" id=\"arrow-cadb048edac3414e827b74596912025a-0-1\" stroke-width=\"2px\" d=\"M62,92.0 62,77.0 137.0,77.0 137.0,92.0\" fill=\"none\" stroke=\"currentColor\"/>\n",
       "    <text dy=\"1.25em\" style=\"font-size: 0.8em; letter-spacing: 1px\">\n",
       "        <textPath xlink:href=\"#arrow-cadb048edac3414e827b74596912025a-0-1\" class=\"displacy-label\" startOffset=\"50%\" side=\"left\" fill=\"currentColor\" text-anchor=\"middle\">aux</textPath>\n",
       "    </text>\n",
       "    <path class=\"displacy-arrowhead\" d=\"M137.0,94.0 L141.0,86.0 133.0,86.0\" fill=\"currentColor\"/>\n",
       "</g>\n",
       "\n",
       "<g class=\"displacy-arrow\">\n",
       "    <path class=\"displacy-arc\" id=\"arrow-cadb048edac3414e827b74596912025a-0-2\" stroke-width=\"2px\" d=\"M242,92.0 242,62.0 410.0,62.0 410.0,92.0\" fill=\"none\" stroke=\"currentColor\"/>\n",
       "    <text dy=\"1.25em\" style=\"font-size: 0.8em; letter-spacing: 1px\">\n",
       "        <textPath xlink:href=\"#arrow-cadb048edac3414e827b74596912025a-0-2\" class=\"displacy-label\" startOffset=\"50%\" side=\"left\" fill=\"currentColor\" text-anchor=\"middle\">nsubj</textPath>\n",
       "    </text>\n",
       "    <path class=\"displacy-arrowhead\" d=\"M242,94.0 L238,86.0 246,86.0\" fill=\"currentColor\"/>\n",
       "</g>\n",
       "\n",
       "<g class=\"displacy-arrow\">\n",
       "    <path class=\"displacy-arc\" id=\"arrow-cadb048edac3414e827b74596912025a-0-3\" stroke-width=\"2px\" d=\"M242,92.0 242,77.0 317.0,77.0 317.0,92.0\" fill=\"none\" stroke=\"currentColor\"/>\n",
       "    <text dy=\"1.25em\" style=\"font-size: 0.8em; letter-spacing: 1px\">\n",
       "        <textPath xlink:href=\"#arrow-cadb048edac3414e827b74596912025a-0-3\" class=\"displacy-label\" startOffset=\"50%\" side=\"left\" fill=\"currentColor\" text-anchor=\"middle\">case</textPath>\n",
       "    </text>\n",
       "    <path class=\"displacy-arrowhead\" d=\"M317.0,94.0 L321.0,86.0 313.0,86.0\" fill=\"currentColor\"/>\n",
       "</g>\n",
       "\n",
       "<g class=\"displacy-arrow\">\n",
       "    <path class=\"displacy-arc\" id=\"arrow-cadb048edac3414e827b74596912025a-0-4\" stroke-width=\"2px\" d=\"M422,92.0 422,77.0 497.0,77.0 497.0,92.0\" fill=\"none\" stroke=\"currentColor\"/>\n",
       "    <text dy=\"1.25em\" style=\"font-size: 0.8em; letter-spacing: 1px\">\n",
       "        <textPath xlink:href=\"#arrow-cadb048edac3414e827b74596912025a-0-4\" class=\"displacy-label\" startOffset=\"50%\" side=\"left\" fill=\"currentColor\" text-anchor=\"middle\">aux</textPath>\n",
       "    </text>\n",
       "    <path class=\"displacy-arrowhead\" d=\"M497.0,94.0 L501.0,86.0 493.0,86.0\" fill=\"currentColor\"/>\n",
       "</g>\n",
       "\n",
       "<g class=\"displacy-arrow\">\n",
       "    <path class=\"displacy-arc\" id=\"arrow-cadb048edac3414e827b74596912025a-0-5\" stroke-width=\"2px\" d=\"M422,92.0 422,62.0 590.0,62.0 590.0,92.0\" fill=\"none\" stroke=\"currentColor\"/>\n",
       "    <text dy=\"1.25em\" style=\"font-size: 0.8em; letter-spacing: 1px\">\n",
       "        <textPath xlink:href=\"#arrow-cadb048edac3414e827b74596912025a-0-5\" class=\"displacy-label\" startOffset=\"50%\" side=\"left\" fill=\"currentColor\" text-anchor=\"middle\">mark</textPath>\n",
       "    </text>\n",
       "    <path class=\"displacy-arrowhead\" d=\"M590.0,94.0 L594.0,86.0 586.0,86.0\" fill=\"currentColor\"/>\n",
       "</g>\n",
       "</svg></span>"
      ],
      "text/plain": [
       "<IPython.core.display.HTML object>"
      ]
     },
     "metadata": {},
     "output_type": "display_data"
    }
   ],
   "source": [
    "from spacy import displacy\n",
    "displacy.render(nlp(t), style='dep', jupyter=True, options={'compact':True, 'distance': 90})"
   ]
  },
  {
   "cell_type": "code",
   "execution_count": 7,
   "metadata": {},
   "outputs": [],
   "source": [
    "path = \"../hand_labeled/\"\n",
    "datalist = ['DCM', 'DIT', 'IRS']\n",
    "convs = read_conv(path, datalist)"
   ]
  },
  {
   "cell_type": "code",
   "execution_count": 17,
   "metadata": {},
   "outputs": [],
   "source": [
    "def make_Xy(convs):\n",
    "    X = []\n",
    "    y = []\n",
    "    for conv in convs:\n",
    "        for i, ut in enumerate( conv ):\n",
    "            if not ut.is_system() and ut.is_type_included(\"質問\"):\n",
    "                X.append(ut.utt)\n",
    "    return X"
   ]
  },
  {
   "cell_type": "code",
   "execution_count": 18,
   "metadata": {},
   "outputs": [],
   "source": [
    "X= make_Xy(convs)"
   ]
  },
  {
   "cell_type": "code",
   "execution_count": 53,
   "metadata": {},
   "outputs": [
    {
     "name": "stdout",
     "output_type": "stream",
     "text": [
      "success load : ../X_y_data/response2/Classify_F3.pickle\n",
      "success load : ../models/response2/Classify_M3.pickle\n"
     ]
    }
   ],
   "source": [
    "from response.feature import Feature\n",
    "\n",
    "from sklearn.linear_model import LogisticRegression\n",
    "F_path = \"../X_y_data/response2/\"\n",
    "F_name = \"Classify_F3.pickle\"\n",
    "featureM = DataManager(F_path)\n",
    "F = featureM.load_data(F_name)\n",
    "\n",
    "model_path = \"../models/response2/\"\n",
    "model_name = \"Classify_M3.pickle\"\n",
    "modelM = DataManager(model_path)\n",
    "clf = modelM.load_data(model_name)"
   ]
  },
  {
   "cell_type": "code",
   "execution_count": 50,
   "metadata": {},
   "outputs": [],
   "source": [
    "# rule = \"ある　知る　覚える\".split()\n",
    "rule = \"知る　覚える\".split()\n",
    "\n",
    "def extract_RDF_triple(text, clean_=True):\n",
    "    if clean_:\n",
    "        text = clean_text(text)\n",
    "    doc = nlp(text)\n",
    "    triple_list = []\n",
    "    for _, token in enumerate( doc ):\n",
    "        if token.pos_ in [\"VERB\", \"ADJ\"]:\n",
    "            # print(token.lemma_)\n",
    "            # \"ある　知る　覚える\"\n",
    "            if token.lemma_ in rule:\n",
    "                for c in token.children:\n",
    "                    if c.dep_ in [\"nsubj\", \"obj\", \"obl\"]:\n",
    "                        print(text, token.pos_)\n",
    "                        # for c2 in c.children:\n",
    "                        #     # 名詞の修飾\n",
    "                        #     if c2.dep_ in [\"acl\"]:\n",
    "                        #         print(text)"
   ]
  },
  {
   "cell_type": "code",
   "execution_count": 80,
   "metadata": {},
   "outputs": [],
   "source": [
    "rule = \"ある　知る　覚える\".split()\n",
    "def expect_rule(text, clean_=True):\n",
    "    if clean_:\n",
    "        text = clean_text(text)\n",
    "    doc = nlp(text)\n",
    "    if 1 < len(list(doc.sents)):\n",
    "        doc = list(doc.sents)[-1]\n",
    "        # return\n",
    "    triple_list = []\n",
    "    for _, token in enumerate( doc ):\n",
    "        if token.pos_ in [\"VERB\", \"ADJ\"]:\n",
    "            # print(token.lemma_)\n",
    "            # \"ある　知る　覚える\"\n",
    "            if token.lemma_ in rule:\n",
    "                for c in token.children:\n",
    "                    if c.dep_ in [\"nsubj\", \"obj\", \"obl\"]:\n",
    "                        # print(str(doc), token.lemma_)\n",
    "                        # break\n",
    "                        for c2 in c.children:\n",
    "                            # 名詞の修飾\n",
    "                            if c2.dep_ in [\"acl\"]:\n",
    "                                # print(str(doc), token.lemma_)\n",
    "                                print(str(doc))"
   ]
  },
  {
   "cell_type": "code",
   "execution_count": 84,
   "metadata": {},
   "outputs": [
    {
     "name": "stdout",
     "output_type": "stream",
     "text": [
      "好きなスイーツはありますか? VERB\n"
     ]
    }
   ],
   "source": [
    "t = \"学校への行き方を知っていますか？\"\n",
    "t = \"好きなスイーツはありますか？\"\n",
    "extract_RDF_triple(t)"
   ]
  },
  {
   "cell_type": "code",
   "execution_count": 82,
   "metadata": {},
   "outputs": [
    {
     "name": "stdout",
     "output_type": "stream",
     "text": [
      "海外旅行されたことありますか? ある\n",
      "この付近に美味しい御店があるかな? ある\n",
      "あなたは嫌いな食べ物はありますか。 ある\n",
      "見たことある? ある\n",
      "好きな映画はありますか? ある\n",
      "他にもこんなに続いているシリーズはあるんでしょうか? ある\n",
      "所で好きな数字ってある? ある\n",
      "犬に何か芸を教えたことはありますか? ある\n",
      "あなたは熱中症になったことありますか? ある\n",
      "好きな食べ物はありますか? ある\n",
      "ダイビングしたことはありますか? ある\n",
      "食べたことありますか? ある\n",
      "hikakinのどうかは見たことある? ある\n",
      "あなたには好きな曲はありますか? ある\n",
      "日本食で好きな物はありますか? ある\n",
      "北海道に行ったことはありますか? ある\n",
      "見たことありますか? ある\n",
      "見たことありますか? ある\n",
      "サーカー観戦したことありますか? ある\n",
      "セブンイレブンのコーヒーは飲んだことある? ある\n",
      "じゃあ半沢直樹見たことある? ある\n",
      "菫味以外にどんな変わった味がありますか。 ある\n",
      "漫画喫茶みたいな所へ行ったことありますか ある\n",
      "あなたも寝ることはあるんですか? ある\n",
      "最近何か気になることはありますか? ある\n",
      "好きな国はありますか? ある\n",
      "他に好きなスポーツはありますか? ある\n",
      "韓国料理で何か好きな物はありますか? ある\n",
      "あなたは好きなスポーツがあるのかな? ある\n",
      "他に得意な物はありますか? ある\n",
      "他にゲームセンターで好きなゲームはありますか? ある\n",
      "食べ物で好きな物はありますか? ある\n",
      "得意な料理とかありますか? ある\n",
      "他にはスポーツをしたことはありますか? ある\n",
      "好きな食べ物はありますか? ある\n",
      "好きな本はありますか? ある\n",
      "私は、野球が好きなのですが、好きな球団はありますか? ある\n",
      "行ったことはありますか ある\n"
     ]
    }
   ],
   "source": [
    "for x in X:\n",
    "    expect_rule(x)"
   ]
  },
  {
   "cell_type": "code",
   "execution_count": null,
   "metadata": {},
   "outputs": [],
   "source": []
  }
 ],
 "metadata": {
  "interpreter": {
   "hash": "31f2aee4e71d21fbe5cf8b01ff0e069b9275f58929596ceb00d14d90e3e16cd6"
  },
  "kernelspec": {
   "display_name": "Python 3.6.9 64-bit",
   "language": "python",
   "name": "python3"
  },
  "language_info": {
   "codemirror_mode": {
    "name": "ipython",
    "version": 3
   },
   "file_extension": ".py",
   "mimetype": "text/x-python",
   "name": "python",
   "nbconvert_exporter": "python",
   "pygments_lexer": "ipython3",
   "version": "3.6.9"
  },
  "orig_nbformat": 4
 },
 "nbformat": 4,
 "nbformat_minor": 2
}
