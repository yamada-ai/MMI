{
 "cells": [
  {
   "cell_type": "code",
   "execution_count": 2,
   "source": [
    "\n",
    "import spacy\n",
    "import ginza\n",
    "nlp = spacy.load('ja_ginza')\n",
    "t = \"魚はおいんですか？\"\n"
   ],
   "outputs": [],
   "metadata": {}
  },
  {
   "cell_type": "code",
   "execution_count": 8,
   "source": [
    "doc = nlp(t)\n",
    "orth = [token.orth_ for token in doc]\n",
    "tag = [token.tag_ for token in doc]"
   ],
   "outputs": [],
   "metadata": {}
  },
  {
   "cell_type": "code",
   "execution_count": 9,
   "source": [
    "orth"
   ],
   "outputs": [
    {
     "output_type": "execute_result",
     "data": {
      "text/plain": [
       "['魚', 'は', 'おい', 'ん', 'です', 'か', '？']"
      ]
     },
     "metadata": {},
     "execution_count": 9
    }
   ],
   "metadata": {}
  },
  {
   "cell_type": "code",
   "execution_count": 10,
   "source": [
    "tag"
   ],
   "outputs": [
    {
     "output_type": "execute_result",
     "data": {
      "text/plain": [
       "['名詞-普通名詞-一般', '助詞-係助詞', '動詞-非自立可能', '助詞-準体助詞', '助動詞', '助詞-終助詞', '補助記号-句点']"
      ]
     },
     "metadata": {},
     "execution_count": 10
    }
   ],
   "metadata": {}
  },
  {
   "cell_type": "code",
   "execution_count": 12,
   "source": [
    "def make_bunsetu_ngram_suf(text, n=3):\n",
    "    bunsetu_ngram = []\n",
    "    doc = nlp(text)\n",
    "    bunsetu = list(map(str, ginza.bunsetu_spans(doc))) \n",
    "    phrases = ginza.bunsetu_phrase_spans(doc)\n",
    "    # print(bunsetu)\n",
    "    # print(phrases)\n",
    "    # for i in range( len(bunsetu)-n+1 ):\n",
    "        # bunsetu_ngram.append( \"\".join(bunsetu[i:i+n]) )\n",
    "    noun_chunk = [ ]\n",
    "    for i in range(len(bunsetu)-n+1):\n",
    "        # print(bunsetu[i],end=\" \" )\n",
    "        bunsetu_ngram.append(\"\".join(bunsetu[i:i+n-1])+phrases[i+n-1].orth_)\n",
    "\n",
    "    # if bunsetu_ngram==[]:\n",
    "    #     bunsetu_ngram = make_bunsetu_ngram_suf(text, n=2)\n",
    "    return bunsetu_ngram\n",
    "\n"
   ],
   "outputs": [],
   "metadata": {}
  },
  {
   "cell_type": "code",
   "execution_count": 14,
   "source": [
    "t = \"私の住んでいる竹田城跡では、カミングアウトバラエティ秘密のケンミンSHOWがテレビ放送されていません。\"\n",
    "make_bunsetu_ngram_suf(t)"
   ],
   "outputs": [
    {
     "output_type": "execute_result",
     "data": {
      "text/plain": [
       "['私の住んでいる竹田城跡',\n",
       " '住んでいる竹田城跡では、カミングアウトバラエティ秘密',\n",
       " '竹田城跡では、カミングアウトバラエティ秘密のケンミンSHOW',\n",
       " 'カミングアウトバラエティ秘密のケンミンSHOWがテレビ放送']"
      ]
     },
     "metadata": {},
     "execution_count": 14
    }
   ],
   "metadata": {}
  },
  {
   "cell_type": "code",
   "execution_count": null,
   "source": [
    "    "
   ],
   "outputs": [],
   "metadata": {}
  }
 ],
 "metadata": {
  "orig_nbformat": 4,
  "language_info": {
   "name": "python",
   "version": "3.8.6",
   "mimetype": "text/x-python",
   "codemirror_mode": {
    "name": "ipython",
    "version": 3
   },
   "pygments_lexer": "ipython3",
   "nbconvert_exporter": "python",
   "file_extension": ".py"
  },
  "kernelspec": {
   "name": "python3",
   "display_name": "Python 3.8.6 64-bit ('3.8.6': pyenv)"
  },
  "interpreter": {
   "hash": "e9162c9a860d136a872e18de6187e396f8b97bdc51ba05c3611ad0a632106717"
  }
 },
 "nbformat": 4,
 "nbformat_minor": 2
}