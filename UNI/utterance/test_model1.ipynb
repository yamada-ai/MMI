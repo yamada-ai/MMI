{
 "cells": [
  {
   "cell_type": "code",
   "execution_count": 6,
   "source": [
    "import os\n",
    "import json\n",
    "import copy\n",
    "import numpy as np\n",
    "import pandas as pd\n",
    "\n",
    "import numpy as np\n",
    "\n",
    "from sklearn.linear_model import LogisticRegression\n",
    "from sklearn.model_selection import train_test_split\n",
    "from sklearn import metrics"
   ],
   "outputs": [],
   "metadata": {}
  },
  {
   "cell_type": "code",
   "execution_count": 7,
   "source": [
    "import sys\n",
    "sys.dont_write_bytecode = True\n",
    "sys.path.append('../tools/')\n",
    "from maneger import DataManager\n",
    "# from tools import preproc\n",
    "from preproc import Preprocessor\n",
    "# from utterance.feature import Feature\n",
    "# from feature import Feature\n",
    "from feature import Feature\n",
    "pre = Preprocessor()"
   ],
   "outputs": [
    {
     "output_type": "stream",
     "name": "stdout",
     "text": [
      "300\n"
     ]
    }
   ],
   "metadata": {}
  },
  {
   "cell_type": "code",
   "execution_count": 4,
   "source": [
    "root = \"/\".join(os.getcwd().split(\"/\")[:-1])\n",
    "print(\"root\", root)\n",
    "path = root + '/error_category_classification/dbdc5_ja_dev_labeled/'\n",
    "datalist = ['DCM', 'DIT', 'IRS']\n",
    "error_types = ['Unclear intention', 'Wrong information',\n",
    " 'Ignore question', 'Topic transition error', \n",
    " 'Lack of information', 'Repetition', \n",
    " 'Contradiction', 'Self-contradiction',\n",
    "  'Lack of common sense', 'Semantic error',\n",
    "   'Grammatical error', 'Ignore proposal', \n",
    "   'Ignore offer', 'Lack of sociality', \n",
    "   'Uninterpretable', 'Ignore greeting', \n",
    "   'No-Err']\n"
   ],
   "outputs": [
    {
     "output_type": "stream",
     "name": "stdout",
     "text": [
      "root /home/yamada/Documents/MMI/UNI\n"
     ]
    }
   ],
   "metadata": {}
  },
  {
   "cell_type": "code",
   "execution_count": 5,
   "source": [
    "df = pre.read_json_with_NoErr(path, datalist)\n",
    "print(df.shape)"
   ],
   "outputs": [
    {
     "output_type": "stream",
     "name": "stdout",
     "text": [
      "(2000, 5)\n"
     ]
    }
   ],
   "metadata": {}
  },
  {
   "cell_type": "code",
   "execution_count": 13,
   "source": [
    "F_path = \"../X_y_data/utterance/\"\n",
    "F_name = \"grammer.pickle\"\n",
    "featureM = DataManager(F_path)\n",
    "F = featureM.load_data(F_name)\n",
    "F.set_preprocessor(Preprocessor())"
   ],
   "outputs": [
    {
     "output_type": "stream",
     "name": "stdout",
     "text": [
      "success load : ../X_y_data/utterance/grammer.pickle\n",
      "300\n"
     ]
    }
   ],
   "metadata": {}
  },
  {
   "cell_type": "code",
   "execution_count": 11,
   "source": [
    "model_path = \"../models/utterance/\"\n",
    "model_name = \"grammer_M.pickle\"\n",
    "modelM = DataManager(model_path)\n",
    "lr = modelM.load_data(model_name)"
   ],
   "outputs": [
    {
     "output_type": "stream",
     "name": "stdout",
     "text": [
      "success load : ../models/utterance/grammer_M.pickle\n"
     ]
    }
   ],
   "metadata": {}
  },
  {
   "cell_type": "code",
   "execution_count": 25,
   "source": [
    "def extract_X_y_simple(df, errors):\n",
    "    X_str = []\n",
    "    y = np.zeros(len(df))+1\n",
    "    for i, (d, u, s, ec) in enumerate( zip(df.did, df.usr, df.sys, df.ec) ) :\n",
    "        X_str.append(s)\n",
    "        for e in ec:\n",
    "            if e in errors:\n",
    "                print(s)\n",
    "                y[i] = 0\n",
    "    return X_str, y"
   ],
   "outputs": [],
   "metadata": {}
  },
  {
   "cell_type": "code",
   "execution_count": 26,
   "source": [
    "errors = ['Grammatical error']"
   ],
   "outputs": [],
   "metadata": {}
  },
  {
   "cell_type": "code",
   "execution_count": 27,
   "source": [
    "X_str, y = extract_X_y_simple(df, errors)"
   ],
   "outputs": [
    {
     "output_type": "stream",
     "name": "stdout",
     "text": [
      "ご存知ですいます\n",
      "魚はおいんですか？？海は素晴らしいですね\n",
      "もちろんですってのが元気ですかにいくないですよ\n",
      "熱中症に気をつけか？？\n"
     ]
    }
   ],
   "metadata": {}
  },
  {
   "cell_type": "code",
   "execution_count": 23,
   "source": [
    "X = []\n",
    "for t in X_str:\n",
    "    X.append(F.featurization(t))\n",
    "pred =  lr.predict(X)"
   ],
   "outputs": [],
   "metadata": {}
  },
  {
   "cell_type": "code",
   "execution_count": 28,
   "source": [
    "from sklearn.metrics import confusion_matrix, accuracy_score, precision_score, recall_score, f1_score\n",
    "print('confusion matrix = \\n', confusion_matrix(y_true=y, y_pred=pred))\n",
    "print('accuracy = ', accuracy_score(y_true=y, y_pred=pred))\n",
    "print('precision = ', precision_score(y_true=y, y_pred=pred))\n",
    "print('recall = ', recall_score(y_true=y, y_pred=pred))\n",
    "print('f1 score = ', f1_score(y_true=y, y_pred=pred))"
   ],
   "outputs": [
    {
     "output_type": "stream",
     "name": "stdout",
     "text": [
      "confusion matrix = \n",
      " [[   0    4]\n",
      " [  10 1986]]\n",
      "accuracy =  0.993\n",
      "precision =  0.9979899497487437\n",
      "recall =  0.9949899799599199\n",
      "f1 score =  0.9964877069744105\n"
     ]
    }
   ],
   "metadata": {}
  },
  {
   "cell_type": "code",
   "execution_count": 31,
   "source": [
    "test = [\"ご存知ですいます\", \"魚はおいんですか？？海は素晴らしいですね\", \"もちろんですってのが元気ですかにいくないですよ\", \"熱中症に気をつけか？？\", \"同じくネイマール国際賢くスイス大リーグかっこいい歴史\"]\n",
    "\n",
    "T = []\n",
    "for t in test:\n",
    "    T.append(F.featurization(t))\n",
    "tpred =  lr.predict(T)"
   ],
   "outputs": [],
   "metadata": {}
  },
  {
   "cell_type": "code",
   "execution_count": 32,
   "source": [
    "tpred"
   ],
   "outputs": [
    {
     "output_type": "execute_result",
     "data": {
      "text/plain": [
       "array([1, 1, 1, 1, 0])"
      ]
     },
     "metadata": {},
     "execution_count": 32
    }
   ],
   "metadata": {}
  },
  {
   "cell_type": "code",
   "execution_count": null,
   "source": [],
   "outputs": [],
   "metadata": {}
  }
 ],
 "metadata": {
  "orig_nbformat": 4,
  "language_info": {
   "name": "python",
   "version": "3.6.9",
   "mimetype": "text/x-python",
   "codemirror_mode": {
    "name": "ipython",
    "version": 3
   },
   "pygments_lexer": "ipython3",
   "nbconvert_exporter": "python",
   "file_extension": ".py"
  },
  "kernelspec": {
   "name": "python3",
   "display_name": "Python 3.6.9 64-bit"
  },
  "interpreter": {
   "hash": "31f2aee4e71d21fbe5cf8b01ff0e069b9275f58929596ceb00d14d90e3e16cd6"
  }
 },
 "nbformat": 4,
 "nbformat_minor": 2
}