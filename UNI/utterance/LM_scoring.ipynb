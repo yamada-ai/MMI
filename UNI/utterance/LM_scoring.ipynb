{
 "cells": [
  {
   "cell_type": "code",
   "execution_count": 59,
   "metadata": {},
   "outputs": [],
   "source": [
    "import re\n",
    "import sys\n",
    "import json\n",
    "\n",
    "\n",
    "import sys\n",
    "sys.dont_write_bytecode = True\n",
    "sys.path.append('../')\n",
    "from datatools.analyzer import *\n",
    "\n",
    "from datatools.maneger import DataManager\n",
    "from datatools.preproc import Preprocessor"
   ]
  },
  {
   "cell_type": "code",
   "execution_count": 60,
   "metadata": {},
   "outputs": [],
   "source": [
    "from nltk.lm        import Vocabulary\n",
    "# from nltk.lm.models import MLE\n",
    "from nltk.lm.models import KneserNeyInterpolated\n",
    "from nltk.util      import ngrams"
   ]
  },
  {
   "cell_type": "code",
   "execution_count": 61,
   "metadata": {},
   "outputs": [],
   "source": [
    "# path = \"../hand_labeled/\"\n",
    "# datalist = ['DCM', 'DIT', 'IRS']\n",
    "# error_types = ['Unclear intention', 'Wrong information',\n",
    "#  'Ignore question', 'Topic transition error', \n",
    "#  'Lack of information', 'Repetition', \n",
    "#  'Contradiction', 'Self-contradiction',\n",
    "#   'Lack of common sense', 'Semantic error',\n",
    "#    'Grammatical error', 'Ignore proposal', \n",
    "#    'Ignore offer', 'Lack of sociality', \n",
    "#    'Uninterpretable', 'Ignore greeting', \n",
    "#    'No-Err']"
   ]
  },
  {
   "cell_type": "code",
   "execution_count": 62,
   "metadata": {},
   "outputs": [],
   "source": [
    "# convs = read_conv(path, datalist)"
   ]
  },
  {
   "cell_type": "code",
   "execution_count": 63,
   "metadata": {},
   "outputs": [],
   "source": [
    "# path = \"../hand_labeled/\"\n",
    "path = \"../eval_labeled/\"\n",
    "datalist = ['DCM', 'DIT', 'IRS']\n",
    "convs = read_conv(path, datalist)\n",
    "\n",
    "error = \"Grammatical error\"\n",
    "errors = ['Grammatical error', \"Uninterpretable\"]\n",
    "sys_utt = []\n",
    "y = []\n",
    "for conv in convs:\n",
    "    for ut in conv:\n",
    "        if ut.is_system() and ut.is_exist_error():\n",
    "            if not ut.utt[-1] in [\"？\", \"！\", \"。\", \"!\"]:\n",
    "                sys_utt.append( clean_text( ut.utt+\"。\" ))\n",
    "                # sys_utt.append(ut.utt)\n",
    "            else:   \n",
    "                sys_utt.append(ut.utt)\n",
    "            if ut.is_error_included(errors):\n",
    "                y.append(1)\n",
    "            else:\n",
    "                y.append(0)"
   ]
  },
  {
   "cell_type": "code",
   "execution_count": 64,
   "metadata": {},
   "outputs": [
    {
     "name": "stdout",
     "output_type": "stream",
     "text": [
      "len of y:1386, error 'Grammatical error' counts:7\n"
     ]
    }
   ],
   "source": [
    "print(\"len of y:{0}, error '{1}' counts:{2}\".format(len(y), error, y.count(1)))"
   ]
  },
  {
   "cell_type": "code",
   "execution_count": 74,
   "metadata": {},
   "outputs": [
    {
     "name": "stdout",
     "output_type": "stream",
     "text": [
      "success load : ../models/utterance/KLM_phrase_nucc_n=3_noun2.pickle\n"
     ]
    }
   ],
   "source": [
    "modelM = DataManager(\"../models/utterance/\")\n",
    "# model_name = \"KLM_nucc.pickle\"\n",
    "# model_name = \"KLM_phrase.pickle\"\n",
    "n = 3\n",
    "model_name = \"KLM_phrase_n={0}.pickle\".format(n)\n",
    "# model_name = \"KLM_phrase_n={0}_noun.pickle\".format(n)\n",
    "model_name = \"KLM_phrase_nucc_n={0}.pickle\".format(n)\n",
    "model_name = \"KLM_phrase_nucc_n={0}_noun2.pickle\".format(n)\n",
    "# model_name = \"KLM_phrase_nucc_n={0}_orth.pickle\".format(n)\n",
    "lm = modelM.load_data(model_name)"
   ]
  },
  {
   "cell_type": "code",
   "execution_count": 94,
   "metadata": {},
   "outputs": [],
   "source": [
    "import math\n",
    "import pprint\n",
    "\n",
    "\n",
    "def sentence2score(sentence, lm, N):\n",
    "    # filled = fill_SYMBOL( sentence2normalize_independent(sentence) )\n",
    "    filled = fill_SYMBOL( sentence2normalize_noun(sentence) )\n",
    "    # filled = fill_SYMBOL( sentence2morpheme(sentence) )\n",
    "    filled_pos = fill_SYMBOL( sentence2pos(sentence) )\n",
    "    # print(filled)\n",
    "    # print(filled_pos)\n",
    "    ngram_text = []\n",
    "    ngram_pos = []\n",
    "    for L, P in zip(filled,filled_pos):\n",
    "        for i in range(len(L)-N+1):\n",
    "            # print(L[i:i+N])\n",
    "            ngram_text.append(L[i:i+N])\n",
    "            ngram_pos.append(P[i:i+N])\n",
    "    # pprint.pprint(ngram_text)\n",
    "    all_score = 0\n",
    "    function_score = 0\n",
    "    # デフォルトで1\n",
    "    function_num = 1\n",
    "\n",
    "    under = 1 / (10*len( lm.vocab.counts ) )\n",
    "\n",
    "    for ngram, pgram in zip(ngram_text, ngram_pos):\n",
    "        context = (ngram[:-1])\n",
    "        context_pos = pgram[:-1]\n",
    "        # print(context)\n",
    "        # for word in lm.context_counts(lm.vocab.lookup(context)): # 文脈に続く単語一覧の取得\n",
    "            \n",
    "        score = lm.score(ngram[-1], context) + under\n",
    "        log_score = math.log2(score)\n",
    "        # print(\"context : {0}|{1} ->\".format(context, ngram[-1:]), log_score)\n",
    "\n",
    "        if \"助動詞\" in context_pos[1] or \"助詞\" in context_pos[1] or \"助動詞\" in context_pos[0] or \"助詞\" in context_pos[0]:\n",
    "            # print(\"\\tcontext : {0}| ->\".format(context), log_score)\n",
    "            function_score += log_score\n",
    "            function_num += 1\n",
    "\n",
    "        all_score += log_score\n",
    "    # print(all_score/len(ngram_text))\n",
    "    return all_score/len(ngram_text)\n",
    "    # return function_score/function_num"
   ]
  },
  {
   "cell_type": "code",
   "execution_count": 95,
   "metadata": {},
   "outputs": [],
   "source": [
    "def sentence2score_print(sentence, lm, N):\n",
    "    # filled = fill_SYMBOL( sentence2normalize_independent(sentence) )\n",
    "    filled = fill_SYMBOL( sentence2normalize_noun(sentence) )\n",
    "    # filled = fill_SYMBOL( sentence2morpheme(sentence) )\n",
    "    filled_pos = fill_SYMBOL( sentence2pos(sentence) )\n",
    "    # print(filled)\n",
    "    # print(filled_pos)\n",
    "    ngram_text = []\n",
    "    ngram_pos = []\n",
    "    for L, P in zip(filled,filled_pos):\n",
    "        for i in range(len(L)-N+1):\n",
    "            # print(L[i:i+N])\n",
    "            ngram_text.append(L[i:i+N])\n",
    "            ngram_pos.append(P[i:i+N])\n",
    "    # pprint.pprint(ngram_text)\n",
    "    all_score = 0\n",
    "    function_score = 0\n",
    "    # デフォルトで1\n",
    "    function_num = 1\n",
    "    \n",
    "    # perple\n",
    "    # return lm.perplexity(ngram_text)/len(ngram_text)\n",
    "\n",
    "    under = 1 / (10*len( lm.vocab.counts ) )\n",
    "\n",
    "    for ngram, pgram in zip(ngram_text, ngram_pos):\n",
    "        context = (ngram[:-1])\n",
    "        context_pos = pgram[:-1]\n",
    "        # print(context)\n",
    "        # for word in lm.context_counts(lm.vocab.lookup(context)): # 文脈に続く単語一覧の取得\n",
    "            \n",
    "        score = lm.score(ngram[-1], context) + under\n",
    "        log_score = math.log2(score)\n",
    "        print(\"context : {0}|{1} ->\".format(context, ngram[-1:]), log_score)\n",
    "\n",
    "        if \"助動詞\" in context_pos[1] or \"助詞\" in context_pos[1] or \"助動詞\" in context_pos[0] or \"助詞\" in context_pos[0]:\n",
    "            print(\"\\tcontext : {0}| ->\".format(context), log_score)\n",
    "            function_score += log_score\n",
    "            function_num += 1\n",
    "\n",
    "        all_score += log_score\n",
    "    # print(all_score/len(ngram_text))\n",
    "    return all_score/len(ngram_text)\n",
    "    # return function_score/function_num"
   ]
  },
  {
   "cell_type": "code",
   "execution_count": 96,
   "metadata": {},
   "outputs": [
    {
     "data": {
      "text/plain": [
       "7.383343177790904e-06"
      ]
     },
     "execution_count": 96,
     "metadata": {},
     "output_type": "execute_result"
    }
   ],
   "source": [
    "1 / (10*len( lm.vocab.counts ) )"
   ]
  },
  {
   "cell_type": "code",
   "execution_count": 97,
   "metadata": {},
   "outputs": [
    {
     "name": "stdout",
     "output_type": "stream",
     "text": [
      "context : ['FOS', 'FOS']|['名詞-普通名詞-一般'] -> -2.2410860748936408\n",
      "context : ['FOS', '名詞-普通名詞-一般']|['は'] -> -3.4343199954087154\n",
      "context : ['名詞-普通名詞-一般', 'は']|['おいしい'] -> -9.838764726062092\n",
      "\tcontext : ['名詞-普通名詞-一般', 'は']| -> -9.838764726062092\n",
      "context : ['は', 'おいしい']|['ん'] -> -5.360841159571571\n",
      "\tcontext : ['は', 'おいしい']| -> -5.360841159571571\n",
      "context : ['おいしい', 'ん']|['です'] -> -2.2660141866750627\n",
      "\tcontext : ['おいしい', 'ん']| -> -2.2660141866750627\n",
      "context : ['ん', 'です']|['か'] -> -2.1426234312313257\n",
      "\tcontext : ['ん', 'です']| -> -2.1426234312313257\n",
      "context : ['です', 'か']|['？'] -> -17.044164982534674\n",
      "\tcontext : ['です', 'か']| -> -17.044164982534674\n",
      "context : ['か', '？']|['？'] -> -13.587959565815042\n",
      "\tcontext : ['か', '？']| -> -13.587959565815042\n",
      "context : ['？', '？']|['EOS'] -> -13.587959565815042\n",
      "context : ['？', 'EOS']|['EOS'] -> -13.587959565815042\n",
      "context : ['FOS', 'FOS']|['名詞-普通名詞-一般'] -> -2.2410860748936408\n",
      "context : ['FOS', '名詞-普通名詞-一般']|['は'] -> -3.4343199954087154\n",
      "context : ['名詞-普通名詞-一般', 'は']|['素晴らしい'] -> -10.77346223086918\n",
      "\tcontext : ['名詞-普通名詞-一般', 'は']| -> -10.77346223086918\n",
      "context : ['は', '素晴らしい']|['です'] -> -1.0399841975791566\n",
      "\tcontext : ['は', '素晴らしい']| -> -1.0399841975791566\n",
      "context : ['素晴らしい', 'です']|['ね'] -> -0.5504956101041623\n",
      "\tcontext : ['素晴らしい', 'です']| -> -0.5504956101041623\n",
      "context : ['です', 'ね']|['。'] -> -0.38510558544531576\n",
      "\tcontext : ['です', 'ね']| -> -0.38510558544531576\n",
      "context : ['ね', '。']|['EOS'] -> -0.004454080460209248\n",
      "\tcontext : ['ね', '。']| -> -0.004454080460209248\n",
      "context : ['。', 'EOS']|['EOS'] -> 1.0041833985722283e-05\n"
     ]
    },
    {
     "data": {
      "text/plain": [
       "-5.640032832597145"
      ]
     },
     "execution_count": 97,
     "metadata": {},
     "output_type": "execute_result"
    }
   ],
   "source": [
    "\n",
    "sentence = \"最近とても暑いですから。\"\n",
    "sentence = \"魚はおいしいんですか？？海は素晴らしいですね。\"\n",
    "# sentence = \"魚はおいんですか？？海は素晴らしいですね。\"\n",
    "sentence2score_print(sentence, lm, N=n)"
   ]
  },
  {
   "cell_type": "code",
   "execution_count": 98,
   "metadata": {},
   "outputs": [
    {
     "name": "stdout",
     "output_type": "stream",
     "text": [
      "context : ['FOS', 'FOS']|['名詞-普通名詞-一般'] -> -2.2410860748936408\n",
      "context : ['FOS', '名詞-普通名詞-一般']|['です'] -> -5.660978421858904\n",
      "context : ['名詞-普通名詞-一般', 'です']|['い'] -> -13.261981394824302\n",
      "\tcontext : ['名詞-普通名詞-一般', 'です']| -> -13.261981394824302\n",
      "context : ['です', 'い']|['ます'] -> -0.15197942359614935\n",
      "\tcontext : ['です', 'い']| -> -0.15197942359614935\n",
      "context : ['い', 'ます']|['。'] -> -0.6692450487067928\n",
      "\tcontext : ['い', 'ます']| -> -0.6692450487067928\n",
      "context : ['ます', '。']|['EOS'] -> -0.0008155660583266521\n",
      "\tcontext : ['ます', '。']| -> -0.0008155660583266521\n",
      "context : ['。', 'EOS']|['EOS'] -> 1.0041833985722283e-05\n",
      "ご存知ですいます。:-3.1408679840148754\n",
      "context : ['FOS', 'FOS']|['名詞-普通名詞-一般'] -> -2.2410860748936408\n",
      "context : ['FOS', '名詞-普通名詞-一般']|['は'] -> -3.4343199954087154\n",
      "context : ['名詞-普通名詞-一般', 'は']|['おい'] -> -14.271474764266397\n",
      "\tcontext : ['名詞-普通名詞-一般', 'は']| -> -14.271474764266397\n",
      "context : ['は', 'おい']|['ん'] -> -0.15197942359614935\n",
      "\tcontext : ['は', 'おい']| -> -0.15197942359614935\n",
      "context : ['おい', 'ん']|['です'] -> -0.15197942359614935\n",
      "\tcontext : ['おい', 'ん']| -> -0.15197942359614935\n",
      "context : ['ん', 'です']|['か'] -> -2.1426234312313257\n",
      "\tcontext : ['ん', 'です']| -> -2.1426234312313257\n",
      "context : ['です', 'か']|['？'] -> -17.044164982534674\n",
      "\tcontext : ['です', 'か']| -> -17.044164982534674\n",
      "context : ['か', '？']|['？'] -> -13.587959565815042\n",
      "\tcontext : ['か', '？']| -> -13.587959565815042\n",
      "context : ['？', '？']|['EOS'] -> -13.587959565815042\n",
      "context : ['？', 'EOS']|['EOS'] -> -13.587959565815042\n",
      "context : ['FOS', 'FOS']|['名詞-普通名詞-一般'] -> -2.2410860748936408\n",
      "context : ['FOS', '名詞-普通名詞-一般']|['は'] -> -3.4343199954087154\n",
      "context : ['名詞-普通名詞-一般', 'は']|['素晴らしい'] -> -10.77346223086918\n",
      "\tcontext : ['名詞-普通名詞-一般', 'は']| -> -10.77346223086918\n",
      "context : ['は', '素晴らしい']|['です'] -> -1.0399841975791566\n",
      "\tcontext : ['は', '素晴らしい']| -> -1.0399841975791566\n",
      "context : ['素晴らしい', 'です']|['ね'] -> -0.5504956101041623\n",
      "\tcontext : ['素晴らしい', 'です']| -> -0.5504956101041623\n",
      "context : ['です', 'ね']|['。'] -> -0.38510558544531576\n",
      "\tcontext : ['です', 'ね']| -> -0.38510558544531576\n",
      "context : ['ね', '。']|['EOS'] -> -0.004454080460209248\n",
      "\tcontext : ['ね', '。']| -> -0.004454080460209248\n",
      "context : ['。', 'EOS']|['EOS'] -> 1.0041833985722283e-05\n",
      "魚はおいんですか？？海は素晴らしいですね。:-5.4794669181054765\n",
      "context : ['FOS', 'FOS']|['もちろん'] -> -9.506729062170066\n",
      "context : ['FOS', 'もちろん']|['です'] -> -2.3234891456806888\n",
      "context : ['もちろん', 'です']|['って'] -> -5.688121890189428\n",
      "\tcontext : ['もちろん', 'です']| -> -5.688121890189428\n",
      "context : ['です', 'って']|['の'] -> -6.106962408714566\n",
      "\tcontext : ['です', 'って']| -> -6.106962408714566\n",
      "context : ['って', 'の']|['が'] -> -1.8422292134104272\n",
      "\tcontext : ['って', 'の']| -> -1.8422292134104272\n",
      "context : ['の', 'が']|['名詞-普通名詞-形状詞可能'] -> -2.7399644943384103\n",
      "\tcontext : ['の', 'が']| -> -2.7399644943384103\n",
      "context : ['が', '名詞-普通名詞-形状詞可能']|['です'] -> -3.6770947078861744\n",
      "\tcontext : ['が', '名詞-普通名詞-形状詞可能']| -> -3.6770947078861744\n",
      "context : ['名詞-普通名詞-形状詞可能', 'です']|['か'] -> -3.354143373599962\n",
      "\tcontext : ['名詞-普通名詞-形状詞可能', 'です']| -> -3.354143373599962\n",
      "context : ['です', 'か']|['に'] -> -12.797150456132997\n",
      "\tcontext : ['です', 'か']| -> -12.797150456132997\n",
      "context : ['か', 'に']|['いく'] -> -9.347042931969455\n",
      "\tcontext : ['か', 'に']| -> -9.347042931969455\n",
      "context : ['に', 'いく']|['ない'] -> -6.6101807143653275\n",
      "\tcontext : ['に', 'いく']| -> -6.6101807143653275\n",
      "context : ['いく', 'ない']|['です'] -> -1.1519557541355858\n",
      "\tcontext : ['いく', 'ない']| -> -1.1519557541355858\n",
      "context : ['ない', 'です']|['よ'] -> -2.5083428301834463\n",
      "\tcontext : ['ない', 'です']| -> -2.5083428301834463\n",
      "context : ['です', 'よ']|['。'] -> -1.0244702809535784\n",
      "\tcontext : ['です', 'よ']| -> -1.0244702809535784\n",
      "context : ['よ', '。']|['EOS'] -> -0.012842302782313905\n",
      "\tcontext : ['よ', '。']| -> -0.012842302782313905\n",
      "context : ['。', 'EOS']|['EOS'] -> 1.0041833985722283e-05\n",
      "もちろんですってのが元気ですかにいくないですよ。:-4.293169345292403\n",
      "context : ['FOS', 'FOS']|['名詞-普通名詞-一般'] -> -2.2410860748936408\n",
      "context : ['FOS', '名詞-普通名詞-一般']|['に'] -> -3.269626206542682\n",
      "context : ['名詞-普通名詞-一般', 'に']|['名詞-普通名詞-一般'] -> -3.501108570729273\n",
      "\tcontext : ['名詞-普通名詞-一般', 'に']| -> -3.501108570729273\n",
      "context : ['に', '名詞-普通名詞-一般']|['を'] -> -2.4073513207572264\n",
      "\tcontext : ['に', '名詞-普通名詞-一般']| -> -2.4073513207572264\n",
      "context : ['名詞-普通名詞-一般', 'を']|['つけ'] -> -5.927377927222523\n",
      "\tcontext : ['名詞-普通名詞-一般', 'を']| -> -5.927377927222523\n",
      "context : ['を', 'つけ']|['か'] -> -9.049790764488314\n",
      "\tcontext : ['を', 'つけ']| -> -9.049790764488314\n",
      "context : ['つけ', 'か']|['？'] -> -16.04734760939686\n",
      "\tcontext : ['つけ', 'か']| -> -16.04734760939686\n",
      "context : ['か', '？']|['？'] -> -13.587959565815042\n",
      "\tcontext : ['か', '？']| -> -13.587959565815042\n",
      "context : ['？', '？']|['EOS'] -> -13.587959565815042\n",
      "context : ['？', 'EOS']|['EOS'] -> -13.587959565815042\n",
      "熱中症に気をつけか？？:-8.320756717147564\n"
     ]
    }
   ],
   "source": [
    "error_samples = [['ご存知ですいます。'],\n",
    " ['魚はおいんですか？？海は素晴らしいですね。'],\n",
    " ['もちろんですってのが元気ですかにいくないですよ。'],\n",
    " ['熱中症に気をつけか？？']]\n",
    "\n",
    "for s in error_samples:\n",
    "    print(\"{0}:{1}\".format(s[0], sentence2score_print(s[0], lm, N=n)))"
   ]
  },
  {
   "cell_type": "markdown",
   "metadata": {},
   "source": [
    "- N=4 gram の全品詞，全単語\n",
    "        \n",
    "        ご存知ですいます:-8.056322000232084\n",
    "        魚はおいんですか？？海は素晴らしいですね:-3.628491577687402\n",
    "        もちろんですってのが元気ですかにいくないですよ:-8.338289348723574\n",
    "        熱中症に気をつけか？？:-3.\n",
    "\n",
    "- N=4 で助詞，助動詞の前後\n",
    "\n",
    "        ご存知ですいます:-4.654287917265429\n",
    "        魚はおいんですか？？海は素晴らしいですね:-3.56763363850194\n",
    "        もちろんですってのが元気ですかにいくないですよ:-7.488756600321924\n",
    "        熱中症に気をつけか？？:-3.9569609593484123"
   ]
  },
  {
   "cell_type": "markdown",
   "metadata": {},
   "source": [
    "- N=4 gram の全品詞，全単語\n",
    "    "
   ]
  },
  {
   "cell_type": "code",
   "execution_count": 99,
   "metadata": {},
   "outputs": [],
   "source": [
    "# scoreを入れておこう\n",
    "y_scores = []\n",
    "for utt in sys_utt:\n",
    "    y_scores.append(sentence2score(utt, lm, N=n))\n",
    "# for utt in sys_utt:\n",
    "#     y_scores.append(lm.perplexity(utt))"
   ]
  },
  {
   "cell_type": "code",
   "execution_count": 107,
   "metadata": {},
   "outputs": [
    {
     "name": "stdout",
     "output_type": "stream",
     "text": [
      "KLM_phrase_nucc_n=3_noun2.pickle\n",
      "confusion matrix = \n",
      " [[1265  114]\n",
      " [   3    4]]\n",
      "accuracy =  0.9155844155844156\n",
      "precision =  0.03389830508474576\n",
      "recall =  0.5714285714285714\n",
      "f1 score =  0.06399999999999999\n"
     ]
    }
   ],
   "source": [
    "from sklearn import metrics\n",
    "from sklearn.metrics import confusion_matrix, accuracy_score, precision_score\n",
    "import numpy as np\n",
    "\n",
    "border = -7.4\n",
    "epoch = 1\n",
    "# y_pred = np.zeros(len(y)) + 1\n",
    "y_pred = np.zeros(len(y))\n",
    "max_precision = 0\n",
    "\n",
    "print(model_name)\n",
    "for e in range(epoch):\n",
    "    # y_pred = np.zeros(len(y))\n",
    "    y_pred = np.zeros(len(y))\n",
    "    for i, score in enumerate(y_scores):\n",
    "        # border 未満をエラーでとする\n",
    "        if score < border + 0.01*e :\n",
    "            y_pred[i] = 1\n",
    "            # print(sys_utt[i])\n",
    "        # precision = metrics.precision_score(y, y_pred)\n",
    "\n",
    "    # print('accuracy = ', accuracy_score(y_true=y, y_pred=y_pred))\n",
    "    # print(border + 0.01*e)\n",
    "    # print('confusion matrix = \\n', confusion_matrix(y_true=y, y_pred=y_pred))\n",
    "    # print()\n",
    "\n",
    "\n",
    "print('confusion matrix = \\n', confusion_matrix(y_true=y, y_pred=y_pred))\n",
    "print('accuracy = ', accuracy_score(y_true=y, y_pred=y_pred))\n",
    "print('precision = ', precision_score(y_true=y, y_pred=y_pred))\n",
    "print('recall = ', recall_score(y_true=y, y_pred=y_pred))\n",
    "print('f1 score = ', f1_score(y_true=y, y_pred=y_pred))"
   ]
  },
  {
   "cell_type": "markdown",
   "metadata": {},
   "source": [
    "- KLM_phrase_nucc_n=3_noun2.pickle\n",
    "   \n",
    "        confusion matrix = \n",
    "        [[1265  114]\n",
    "        [   3    4]]\n",
    "        accuracy =  0.9155844155844156\n",
    "        precision =  0.03389830508474576\n",
    "        recall =  0.5714285714285714\n",
    "        f1 score =  0.06399999999999999"
   ]
  },
  {
   "cell_type": "code",
   "execution_count": 109,
   "metadata": {},
   "outputs": [
    {
     "name": "stdout",
     "output_type": "stream",
     "text": [
      "きていんですか??計画が楽しいですね。\n",
      "同じ趣味のしらに人と出会えるのも楽しみに一つです。\n",
      "withha。\n"
     ]
    }
   ],
   "source": [
    "for p, y_ , utt in zip(y_pred, y, sys_utt):\n",
    "    if y_==1 and p==0:\n",
    "        print(utt)"
   ]
  },
  {
   "cell_type": "code",
   "execution_count": 110,
   "metadata": {},
   "outputs": [
    {
     "name": "stdout",
     "output_type": "stream",
     "text": [
      "context : ['FOS', 'FOS']|['き'] -> -14.372989270597252\n",
      "context : ['FOS', 'き']|['て'] -> -1.7369109714190176\n",
      "context : ['き', 'て']|['い'] -> -5.348313222938389\n",
      "\tcontext : ['き', 'て']| -> -5.348313222938389\n",
      "context : ['て', 'い']|['ん'] -> -13.66450839563922\n",
      "\tcontext : ['て', 'い']| -> -13.66450839563922\n",
      "context : ['い', 'ん']|['です'] -> -2.1643243780905967\n",
      "\tcontext : ['い', 'ん']| -> -2.1643243780905967\n",
      "context : ['ん', 'です']|['か'] -> -2.1426234312313257\n",
      "\tcontext : ['ん', 'です']| -> -2.1426234312313257\n",
      "context : ['です', 'か']|['?'] -> -0.7097668088494327\n",
      "\tcontext : ['です', 'か']| -> -0.7097668088494327\n",
      "context : ['か', '?']|['?'] -> -9.8675115895456\n",
      "\tcontext : ['か', '?']| -> -9.8675115895456\n",
      "context : ['?', '?']|['EOS'] -> -0.09791430824996442\n",
      "context : ['?', 'EOS']|['EOS'] -> 7.145530277973659e-06\n",
      "context : ['FOS', 'FOS']|['名詞-普通名詞-サ変可能'] -> -4.655485294568399\n",
      "context : ['FOS', '名詞-普通名詞-サ変可能']|['が'] -> -3.632449237407721\n",
      "context : ['名詞-普通名詞-サ変可能', 'が']|['楽しい'] -> -8.47367192922164\n",
      "\tcontext : ['名詞-普通名詞-サ変可能', 'が']| -> -8.47367192922164\n",
      "context : ['が', '楽しい']|['です'] -> -1.7012139117852136\n",
      "\tcontext : ['が', '楽しい']| -> -1.7012139117852136\n",
      "context : ['楽しい', 'です']|['ね'] -> -3.4022049834418233\n",
      "\tcontext : ['楽しい', 'です']| -> -3.4022049834418233\n",
      "context : ['です', 'ね']|['。'] -> -0.38510558544531576\n",
      "\tcontext : ['です', 'ね']| -> -0.38510558544531576\n",
      "context : ['ね', '。']|['EOS'] -> -0.004454080460209248\n",
      "\tcontext : ['ね', '。']| -> -0.004454080460209248\n",
      "context : ['。', 'EOS']|['EOS'] -> 1.0041833985722283e-05\n"
     ]
    },
    {
     "data": {
      "text/plain": [
       "-4.019968345084825"
      ]
     },
     "execution_count": 110,
     "metadata": {},
     "output_type": "execute_result"
    }
   ],
   "source": [
    "test = \"きていんですか??計画が楽しいですね。\"\n",
    "sentence2score_print(test, lm, N=n)"
   ]
  },
  {
   "cell_type": "code",
   "execution_count": null,
   "metadata": {},
   "outputs": [],
   "source": []
  },
  {
   "cell_type": "markdown",
   "metadata": {},
   "source": [
    "- corpus をゴガクルにした場合\n",
    "\n",
    "        confusion matrix = \n",
    "        [[1300   45]\n",
    "        [   2    2]]\n",
    "        confusion matrix = \n",
    "        [[1206  139]\n",
    "        [   2    2]]\n",
    "        confusion matrix = \n",
    "        [[961 384]\n",
    "        [  1   3]]\n",
    "        confusion matrix = \n",
    "        [[363 982]\n",
    "        [  0   4]]\n",
    "        confusion matrix = \n",
    "        [[  86 1259]\n",
    "        [   0    4]]"
   ]
  },
  {
   "cell_type": "markdown",
   "metadata": {},
   "source": [
    "- 助詞，助動詞の直後のみ\n",
    "\n",
    "        confusion matrix = \n",
    "        [[888 457]\n",
    "        [  3   1]]\n",
    "        confusion matrix = \n",
    "        [[1135  210]\n",
    "        [   4    0]]\n",
    "        confusion matrix = \n",
    "        [[1282   63]\n",
    "        [   4    0]]\n",
    "        confusion matrix = \n",
    "        [[1329   16]\n",
    "        [   4    0]]\n",
    "        confusion matrix = \n",
    "        [[1343    2]\n",
    "        [   4    0]]\n",
    "\n",
    "- 名詞を正規化\n",
    "\n",
    "        confusion matrix = \n",
    "        [[1175  170]\n",
    "        [   1    3]]\n",
    "        confusion matrix = \n",
    "        [[1127  218]\n",
    "        [   0    4]]\n",
    "        confusion matrix = \n",
    "        [[1041  304]\n",
    "        [   0    4]]\n",
    "        confusion matrix = \n",
    "        [[921 424]\n",
    "        [  0   4]]\n",
    "        confusion matrix = \n",
    "        [[765 580]\n",
    "        [  0   4]]\n",
    "        confusion matrix = \n",
    "        [[568 777]\n",
    "        [  0   4]]"
   ]
  },
  {
   "cell_type": "markdown",
   "metadata": {},
   "source": [
    "- KLM_phrase_nucc_n=3_noun.pickle / return func\n",
    "\n",
    "        confusion matrix = \n",
    "        [[1233  112]\n",
    "        [   2    2]]\n",
    "        confusion matrix = \n",
    "        [[1195  150]\n",
    "        [   0    4]]\n",
    "        confusion matrix = \n",
    "\n",
    "- border = -6.7 / KLM_phrase_nucc_n=3_noun.pickle\n",
    "\n",
    "        confusion matrix = \n",
    "        [[   4    0]\n",
    "        [ 126 1219]]\n",
    "        accuracy =  0.9065974796145293\n",
    "        precision =  1.0\n",
    "        recall =  0.9063197026022305\n",
    "        f1 score =  0.9508580343213728"
   ]
  },
  {
   "cell_type": "markdown",
   "metadata": {},
   "source": []
  },
  {
   "cell_type": "markdown",
   "metadata": {},
   "source": []
  }
 ],
 "metadata": {
  "interpreter": {
   "hash": "31f2aee4e71d21fbe5cf8b01ff0e069b9275f58929596ceb00d14d90e3e16cd6"
  },
  "kernelspec": {
   "display_name": "Python 3.6.9 64-bit",
   "language": "python",
   "name": "python3"
  },
  "language_info": {
   "codemirror_mode": {
    "name": "ipython",
    "version": 3
   },
   "file_extension": ".py",
   "mimetype": "text/x-python",
   "name": "python",
   "nbconvert_exporter": "python",
   "pygments_lexer": "ipython3",
   "version": "3.6.9"
  },
  "orig_nbformat": 4
 },
 "nbformat": 4,
 "nbformat_minor": 2
}
