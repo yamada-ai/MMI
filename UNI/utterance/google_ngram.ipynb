{
 "cells": [
  {
   "cell_type": "code",
   "execution_count": 1,
   "metadata": {},
   "outputs": [
    {
     "name": "stdout",
     "output_type": "stream",
     "text": [
      "/home/yamada/.local/lib/python3.6/site-packages/unidic/dicdir\n"
     ]
    },
    {
     "data": {
      "text/plain": [
       "<Swig Object of type 'MeCab::Tagger *' at 0x7f64f8eb7f10>"
      ]
     },
     "execution_count": 1,
     "metadata": {},
     "output_type": "execute_result"
    }
   ],
   "source": [
    "import MeCab\n",
    "import unidic\n",
    "print(unidic.DICDIR)\n",
    "MeCab.Tagger(\"-d\" + unidic.DICDIR)"
   ]
  },
  {
   "cell_type": "code",
   "execution_count": null,
   "metadata": {},
   "outputs": [],
   "source": []
  },
  {
   "cell_type": "markdown",
   "metadata": {},
   "source": [
    "- よくわからないもの\n",
    "\n",
    "    \n",
    "    "
   ]
  },
  {
   "cell_type": "code",
   "execution_count": 2,
   "metadata": {},
   "outputs": [],
   "source": [
    "import json\n",
    "import os\n",
    "import pandas as pd\n",
    "import numpy as np\n",
    "from pathlib import Path\n",
    "import collections\n",
    "from sklearn.model_selection import train_test_split\n",
    "from sklearn import metrics\n",
    "\n",
    "import sys\n",
    "sys.path.append(\"../\")\n",
    "from datatools.analyzer import *\n",
    "from utterance.error_tools import *\n",
    "\n",
    "from datatools.maneger import DataManager\n",
    "from datatools.preproc import Preprocessor"
   ]
  },
  {
   "cell_type": "code",
   "execution_count": 3,
   "metadata": {},
   "outputs": [],
   "source": [
    "ngram_path = \"../../corpus/google/3-gram/\""
   ]
  },
  {
   "cell_type": "code",
   "execution_count": 4,
   "metadata": {},
   "outputs": [],
   "source": [
    "key1_set = set( os.listdir(ngram_path) ) "
   ]
  },
  {
   "cell_type": "code",
   "execution_count": null,
   "metadata": {},
   "outputs": [],
   "source": []
  },
  {
   "cell_type": "code",
   "execution_count": 17,
   "metadata": {},
   "outputs": [],
   "source": [
    "path = \"../eval_labeled/\"\n",
    "datalist = ['DCM', 'DIT', 'IRS']\n",
    "convs = read_conv(path, datalist)\n",
    "\n",
    "error = \"Grammatical error\"\n",
    "errors = ['Grammatical error', \"Uninterpretable\"]\n",
    "errors = ['Semantic error', \"Wrong information\"]\n",
    "sys_utt = []\n",
    "y = []\n",
    "for conv in convs:\n",
    "    for ut in conv:\n",
    "        if ut.is_system() and ut.is_exist_error():\n",
    "            if not ut.utt[-1] in [\"？\", \"！\", \"。\", \"!\"]:\n",
    "                sys_utt.append( clean_text( ut.utt+\"。\" ))\n",
    "                # sys_utt.append(ut.utt)\n",
    "            else:   \n",
    "                sys_utt.append(ut.utt)\n",
    "            if ut.is_error_included(errors):\n",
    "                y.append(1)\n",
    "            else:\n",
    "                y.append(0)"
   ]
  },
  {
   "cell_type": "code",
   "execution_count": 6,
   "metadata": {},
   "outputs": [
    {
     "name": "stdout",
     "output_type": "stream",
     "text": [
      "len of y:1386, error '['Grammatical error', 'Uninterpretable']' counts:7\n"
     ]
    }
   ],
   "source": [
    "print(\"len of y:{0}, error '{1}' counts:{2}\".format(len(y), errors, y.count(1)))"
   ]
  },
  {
   "cell_type": "code",
   "execution_count": 7,
   "metadata": {},
   "outputs": [],
   "source": [
    "def load_dict(path, key1):\n",
    "    filename = key_formated(key1)\n",
    "    with open(path+filename, \"r\") as f:\n",
    "        key1_dict = json.load(f) \n",
    "    return key1_dict  "
   ]
  },
  {
   "cell_type": "code",
   "execution_count": 8,
   "metadata": {},
   "outputs": [],
   "source": [
    "def key_formated(key1):\n",
    "    return \"ngram_\"+key1+\".json\""
   ]
  },
  {
   "cell_type": "code",
   "execution_count": 9,
   "metadata": {},
   "outputs": [],
   "source": [
    "key2dict = dict()\n",
    "registerform_dict = dict()\n",
    "analyzer_unidic=  Analyzer(Tokenizer())"
   ]
  },
  {
   "cell_type": "code",
   "execution_count": 10,
   "metadata": {},
   "outputs": [],
   "source": [
    "#  を考慮\n",
    "# 何故か↑が出てくる\n",
    "def judge_key3(key1_dict, ngram):\n",
    "    key1 = ngram[0]\n",
    "    key2 = ngram[1]\n",
    "    key3 = ngram[2]\n",
    "\n",
    "    if key2 not in key1_dict[key1]:\n",
    "        # '\"'をkeyにして聞いてみる\n",
    "        if '\"' in key1_dict[key1] and key2 in key1_dict[key1]['\"']:\n",
    "            return True\n",
    "        if '、' in key1_dict[key1] and key2 in key1_dict[key1]['、']:\n",
    "            return True\n",
    "        return False\n",
    "    \n",
    "    if key3 not in key1_dict[key1][key2]:\n",
    "        return False\n",
    "\n",
    "    return True "
   ]
  },
  {
   "cell_type": "code",
   "execution_count": 11,
   "metadata": {},
   "outputs": [],
   "source": [
    "\n",
    "def search_registerforam(key, reading):\n",
    "    filename = key_formated(key)\n",
    "    if filename in key1_set:\n",
    "        return key\n",
    "    # 登録されていない\n",
    "    else:\n",
    "        for other in reading:\n",
    "            filename = key_formated(key)\n",
    "            if filename in key1_set:\n",
    "                registerform_dict[key] = other\n",
    "                return other\n",
    "        return key\n",
    "\n",
    "\n",
    "def sentence_judge(sentence, N=3):\n",
    "    \n",
    "    df = analyzer_unidic.analyze_with_dataframe(sentence)\n",
    "    \n",
    "    # 登録\n",
    "    sentence_ = \"\"\n",
    "    for txt, read in zip(df.surface, df.reading):\n",
    "        sentence_ += search_registerforam(txt, read)\n",
    "    sents = sentence2docs(sentence_, sents_span=True)\n",
    "    # print(sents)\n",
    "\n",
    "    # print(tokens)\n",
    "    ngram_text = []\n",
    "    ngram_pos = []\n",
    "\n",
    "    for sent in sents:\n",
    "        # 各文章 : sent\n",
    "        df = analyzer_unidic.analyze_with_dataframe(\"\".join([token.orth_ for token in sent]))\n",
    "        surfaces = []\n",
    "        poses = []\n",
    "        readings = []\n",
    "        for txt, p, read in zip(df.surface, df.part_of_speech, df.reading):\n",
    "            surfaces.append(txt)\n",
    "            readings.append(read)\n",
    "            poses.append(p)\n",
    "\n",
    "            for i in range(len(surfaces)-N+1):\n",
    "                # print(L[i:i+N])\n",
    "                ngram_text.append(surfaces[i:i+N])\n",
    "                ngram_pos.append(poses[i:i+N])\n",
    "                # ngram_reading.append(readings[i:i+N])\n",
    "    \n",
    "    # print(ngram_text)\n",
    "    # return\n",
    "    \n",
    "    for ngram, pgram in zip(ngram_text, ngram_pos):\n",
    "        # if \"助動詞\" in pgram[1] or \"助詞\" in pgram[1] or \"助動詞\" in pgram[0] or \"助詞\" in pgram[0]:\n",
    "        if \"助動詞\" in pgram[0] or \"助詞\" in pgram[0]:\n",
    "            # print(\"\\tcontext : {0}| ->\".format(ngram))\n",
    "\n",
    "            key1 = ngram[0]\n",
    "            if key_formated(key1) not in key1_set:\n",
    "                continue\n",
    "\n",
    "            if key1 in key2dict:\n",
    "                key1_dict = key2dict[key1]\n",
    "            else:\n",
    "                key1_dict = load_dict(ngram_path, key1)\n",
    "                key2dict[key1] = key1_dict\n",
    "\n",
    "            # チェック\n",
    "            if not judge_key3(key1_dict, ngram):\n",
    "                print(ngram)\n",
    "                # reading を調整\n",
    "                \n",
    "                # 見つかれば，その語彙を登録\n",
    "                return False\n",
    "    return True\n",
    "            \n"
   ]
  },
  {
   "cell_type": "code",
   "execution_count": 12,
   "metadata": {},
   "outputs": [
    {
     "name": "stderr",
     "output_type": "stream",
     "text": [
      "  0%|          | 2/1386 [00:14<2:42:10,  7.03s/it]"
     ]
    },
    {
     "name": "stdout",
     "output_type": "stream",
     "text": [
      "['の', '逆回り', 'は']\n"
     ]
    },
    {
     "name": "stderr",
     "output_type": "stream",
     "text": [
      "  0%|          | 3/1386 [00:19<2:28:23,  6.44s/it]"
     ]
    },
    {
     "name": "stdout",
     "output_type": "stream",
     "text": [
      "['と', '、', '頼り甲斐']\n"
     ]
    },
    {
     "name": "stderr",
     "output_type": "stream",
     "text": [
      "  1%|▏         | 20/1386 [00:32<11:07,  2.05it/s] "
     ]
    },
    {
     "name": "stdout",
     "output_type": "stream",
     "text": [
      "['の', 'ソウル', 'らしい']\n"
     ]
    },
    {
     "name": "stderr",
     "output_type": "stream",
     "text": [
      "  2%|▏         | 31/1386 [00:33<03:14,  6.97it/s]"
     ]
    },
    {
     "name": "stdout",
     "output_type": "stream",
     "text": [
      "['を', '受け', 'ましょう']\n"
     ]
    },
    {
     "name": "stderr",
     "output_type": "stream",
     "text": [
      "  4%|▍         | 53/1386 [00:35<02:02, 10.90it/s]"
     ]
    },
    {
     "name": "stdout",
     "output_type": "stream",
     "text": [
      "['を', '変え', 'ましょう']\n"
     ]
    },
    {
     "name": "stderr",
     "output_type": "stream",
     "text": [
      "  5%|▍         | 67/1386 [00:39<03:24,  6.46it/s]"
     ]
    },
    {
     "name": "stdout",
     "output_type": "stream",
     "text": [
      "['ね', '、', '渾名']\n",
      "['ね', '、', '渾名']\n"
     ]
    },
    {
     "name": "stderr",
     "output_type": "stream",
     "text": [
      "  6%|▋         | 88/1386 [00:40<01:21, 15.84it/s]"
     ]
    },
    {
     "name": "stdout",
     "output_type": "stream",
     "text": [
      "['は', '一人', 'が']\n",
      "['で', '御洒落', 'し']\n"
     ]
    },
    {
     "name": "stderr",
     "output_type": "stream",
     "text": [
      "  7%|▋         | 96/1386 [00:40<00:57, 22.29it/s]"
     ]
    },
    {
     "name": "stdout",
     "output_type": "stream",
     "text": [
      "['も', '頑張ろう', 'って']\n",
      "['ん', 'でしょう', 'か']\n"
     ]
    },
    {
     "name": "stderr",
     "output_type": "stream",
     "text": [
      "  8%|▊         | 112/1386 [00:40<00:41, 30.58it/s]"
     ]
    },
    {
     "name": "stdout",
     "output_type": "stream",
     "text": [
      "['で', '御洒落', 'し']\n",
      "['で', 'どんな', 'に']\n",
      "['に', '格好', '付き']\n"
     ]
    },
    {
     "name": "stderr",
     "output_type": "stream",
     "text": [
      "  8%|▊         | 116/1386 [00:41<01:03, 19.87it/s]"
     ]
    },
    {
     "name": "stdout",
     "output_type": "stream",
     "text": [
      "['なら', 'を', '使う']\n"
     ]
    },
    {
     "name": "stderr",
     "output_type": "stream",
     "text": [
      "  9%|▉         | 130/1386 [00:41<00:52, 24.08it/s]"
     ]
    },
    {
     "name": "stdout",
     "output_type": "stream",
     "text": [
      "['たい', 'ん', 'でしょう']\n"
     ]
    },
    {
     "name": "stderr",
     "output_type": "stream",
     "text": [
      " 10%|▉         | 138/1386 [00:42<00:44, 27.91it/s]"
     ]
    },
    {
     "name": "stdout",
     "output_type": "stream",
     "text": [
      "['てる', 'ん', 'でしょう']\n",
      "['を', '損ない', 'ましょう']\n"
     ]
    },
    {
     "name": "stderr",
     "output_type": "stream",
     "text": [
      " 12%|█▏        | 160/1386 [00:43<01:07, 18.18it/s]"
     ]
    },
    {
     "name": "stdout",
     "output_type": "stream",
     "text": [
      "['の', '朝御飯', 'メニュー']\n"
     ]
    },
    {
     "name": "stderr",
     "output_type": "stream",
     "text": [
      " 12%|█▏        | 163/1386 [00:43<01:43, 11.87it/s]"
     ]
    },
    {
     "name": "stdout",
     "output_type": "stream",
     "text": [
      "['より', '0', '打']\n"
     ]
    },
    {
     "name": "stderr",
     "output_type": "stream",
     "text": [
      " 13%|█▎        | 176/1386 [00:44<00:54, 22.28it/s]"
     ]
    },
    {
     "name": "stdout",
     "output_type": "stream",
     "text": [
      "['じゃあ', '漫画', 'も']\n",
      "['は', '辰年', 'です']\n",
      "['です', 'か', '…']\n"
     ]
    },
    {
     "name": "stderr",
     "output_type": "stream",
     "text": [
      " 14%|█▍        | 199/1386 [00:45<00:42, 28.13it/s]"
     ]
    },
    {
     "name": "stdout",
     "output_type": "stream",
     "text": [
      "['と', 'ホッと', 'する']\n"
     ]
    },
    {
     "name": "stderr",
     "output_type": "stream",
     "text": [
      " 15%|█▌        | 212/1386 [00:45<00:34, 34.45it/s]"
     ]
    },
    {
     "name": "stdout",
     "output_type": "stream",
     "text": [
      "['は', '食', '生活']\n"
     ]
    },
    {
     "name": "stderr",
     "output_type": "stream",
     "text": [
      " 16%|█▌        | 225/1386 [00:46<00:36, 31.50it/s]"
     ]
    },
    {
     "name": "stdout",
     "output_type": "stream",
     "text": [
      "['の', '大きい', '福耳']\n"
     ]
    },
    {
     "name": "stderr",
     "output_type": "stream",
     "text": [
      " 18%|█▊        | 246/1386 [00:47<00:39, 28.51it/s]"
     ]
    },
    {
     "name": "stdout",
     "output_type": "stream",
     "text": [
      "['の', 'お', '昼']\n"
     ]
    },
    {
     "name": "stderr",
     "output_type": "stream",
     "text": [
      " 18%|█▊        | 255/1386 [00:47<00:33, 33.69it/s]"
     ]
    },
    {
     "name": "stdout",
     "output_type": "stream",
     "text": [
      "['で', 'テレビ', 'ある']\n"
     ]
    },
    {
     "name": "stderr",
     "output_type": "stream",
     "text": [
      " 19%|█▉        | 268/1386 [00:47<00:33, 33.36it/s]"
     ]
    },
    {
     "name": "stdout",
     "output_type": "stream",
     "text": [
      "['は', '一人', 'で']\n",
      "['に', '欠かせ', 'て']\n",
      "['は', '不', '得意']\n"
     ]
    },
    {
     "name": "stderr",
     "output_type": "stream",
     "text": [
      " 22%|██▏       | 310/1386 [00:48<00:25, 42.57it/s]"
     ]
    },
    {
     "name": "stdout",
     "output_type": "stream",
     "text": [
      "['た', 'を', '仕入れる']\n",
      "['た', 'は', '鮮度']\n"
     ]
    },
    {
     "name": "stderr",
     "output_type": "stream",
     "text": [
      " 24%|██▍       | 339/1386 [00:49<00:26, 39.20it/s]"
     ]
    },
    {
     "name": "stdout",
     "output_type": "stream",
     "text": [
      "['で', 'iPhone', '0']\n",
      "['へん', 'せき', 'が']\n"
     ]
    },
    {
     "name": "stderr",
     "output_type": "stream",
     "text": [
      " 25%|██▌       | 347/1386 [00:49<00:30, 34.35it/s]"
     ]
    },
    {
     "name": "stdout",
     "output_type": "stream",
     "text": [
      "['て', 'いき', 'ましょう']\n",
      "['と', 'クリスマス', 'カード']\n"
     ]
    },
    {
     "name": "stderr",
     "output_type": "stream",
     "text": [
      " 27%|██▋       | 377/1386 [00:50<00:40, 24.81it/s]"
     ]
    },
    {
     "name": "stdout",
     "output_type": "stream",
     "text": [
      "['で', '御洒落', 'し']\n"
     ]
    },
    {
     "name": "stderr",
     "output_type": "stream",
     "text": [
      " 29%|██▊       | 398/1386 [00:51<00:32, 30.16it/s]"
     ]
    },
    {
     "name": "stdout",
     "output_type": "stream",
     "text": [
      "['から', '中', '学校']\n",
      "['迄', '旅行', 'に']\n"
     ]
    },
    {
     "name": "stderr",
     "output_type": "stream",
     "text": [
      " 29%|██▉       | 402/1386 [00:51<00:36, 27.30it/s]"
     ]
    },
    {
     "name": "stdout",
     "output_type": "stream",
     "text": [
      "['は', 'くま', 'もん']\n",
      "['と', 'いう', 'アイス']\n",
      "['の', 'ギョーザ', '等']\n",
      "['の', 'ウッ', 'チャン']\n"
     ]
    },
    {
     "name": "stderr",
     "output_type": "stream",
     "text": [
      " 30%|██▉       | 409/1386 [00:52<00:56, 17.22it/s]"
     ]
    },
    {
     "name": "stdout",
     "output_type": "stream",
     "text": [
      "['と', 'ハビエル', '・']\n",
      "['と', '八木', '竜一']\n",
      "['た', '映画', 'フォーブス']\n",
      "['は', '違和', '感']\n"
     ]
    },
    {
     "name": "stderr",
     "output_type": "stream",
     "text": [
      " 30%|██▉       | 415/1386 [00:52<00:50, 19.31it/s]"
     ]
    },
    {
     "name": "stdout",
     "output_type": "stream",
     "text": [
      "['た', 'ドトール', 'コーヒー']\n",
      "['で', 'ジャイアン', '選手']\n",
      "['で', '初めて', 'エボラ']\n"
     ]
    },
    {
     "name": "stderr",
     "output_type": "stream",
     "text": [
      " 30%|███       | 422/1386 [00:52<00:43, 22.24it/s]"
     ]
    },
    {
     "name": "stdout",
     "output_type": "stream",
     "text": [
      "['の', '笑点', 'は']\n",
      "['の', 'ファミリー', 'マート']\n",
      "['に', '住む', '大渕']\n",
      "['は', 'の', 'パンケーキ']\n",
      "['で', 'カフェ', '坂の下']\n"
     ]
    },
    {
     "name": "stderr",
     "output_type": "stream",
     "text": [
      " 31%|███       | 428/1386 [00:53<00:41, 22.82it/s]"
     ]
    },
    {
     "name": "stdout",
     "output_type": "stream",
     "text": [
      "['と', 'いう', '名護']\n",
      "['な', 'ゴーヤー', '等']\n"
     ]
    },
    {
     "name": "stderr",
     "output_type": "stream",
     "text": [
      " 31%|███▏      | 434/1386 [00:53<00:41, 22.84it/s]"
     ]
    },
    {
     "name": "stdout",
     "output_type": "stream",
     "text": [
      "['の', '御', '店']\n",
      "['の', '御', '店']\n",
      "['の', '振り掛け', '・']\n"
     ]
    },
    {
     "name": "stderr",
     "output_type": "stream",
     "text": [
      " 32%|███▏      | 440/1386 [00:53<00:39, 23.78it/s]"
     ]
    },
    {
     "name": "stdout",
     "output_type": "stream",
     "text": [
      "['ない', '物真似', '選手']\n",
      "['の', '海遊', '館']\n",
      "['た', '、', '蛸焼き']\n",
      "['の', 'で', '海遊']\n"
     ]
    },
    {
     "name": "stderr",
     "output_type": "stream",
     "text": [
      " 32%|███▏      | 446/1386 [00:53<00:39, 24.04it/s]"
     ]
    },
    {
     "name": "stdout",
     "output_type": "stream",
     "text": [
      "['から', '、', '海遊']\n",
      "['の', '高級', 'ポッキー']\n",
      "['の', '高級', 'ポッキー']\n",
      "['の', 'チョコレートラテポッキーブレンド', 'が']\n"
     ]
    },
    {
     "name": "stderr",
     "output_type": "stream",
     "text": [
      " 32%|███▏      | 449/1386 [00:54<00:42, 21.92it/s]"
     ]
    },
    {
     "name": "stdout",
     "output_type": "stream",
     "text": [
      "['が', '0', '数']\n",
      "['の', '子', '大粒']\n",
      "['から', 'でしょう', 'か']\n"
     ]
    },
    {
     "name": "stderr",
     "output_type": "stream",
     "text": [
      " 33%|███▎      | 452/1386 [00:54<00:42, 22.09it/s]"
     ]
    },
    {
     "name": "stdout",
     "output_type": "stream",
     "text": [
      "['は', 'コロ', 'プラ']\n",
      "['の', 'shall', 'ウィー']\n"
     ]
    },
    {
     "name": "stderr",
     "output_type": "stream",
     "text": [
      " 33%|███▎      | 457/1386 [00:55<01:36,  9.62it/s]"
     ]
    },
    {
     "name": "stdout",
     "output_type": "stream",
     "text": [
      "['の', 'で', 'ミスター']\n",
      "['の', 'は', '一握り']\n",
      "['で', 'の', '饂飩']\n",
      "['の', 'キャンデー', 'Microsoftband']\n"
     ]
    },
    {
     "name": "stderr",
     "output_type": "stream",
     "text": [
      " 33%|███▎      | 461/1386 [00:55<01:17, 11.88it/s]"
     ]
    },
    {
     "name": "stdout",
     "output_type": "stream",
     "text": [
      "['の', 'キャンデー', 'Microsoftband']\n",
      "['で', 'ある', 'Microsoftband']\n",
      "['の', '里田', 'まい']\n",
      "['で', 'ある', 'Microsoftband']\n"
     ]
    },
    {
     "name": "stderr",
     "output_type": "stream",
     "text": [
      " 34%|███▎      | 467/1386 [00:55<00:55, 16.45it/s]"
     ]
    },
    {
     "name": "stdout",
     "output_type": "stream",
     "text": [
      "['だ', 'から', '荒野']\n",
      "['タ', 'モリ', 'さん']\n",
      "['の', '町歩き', 'テレビ']\n",
      "['の', '町歩き', 'テレビ']\n"
     ]
    },
    {
     "name": "stderr",
     "output_type": "stream",
     "text": [
      " 34%|███▍      | 474/1386 [00:55<00:46, 19.77it/s]"
     ]
    },
    {
     "name": "stdout",
     "output_type": "stream",
     "text": [
      "['は', '、', 'ashtsujiguchi']\n",
      "['な', 'スイーツ', '・']\n",
      "['れる', 'ミディアム', '霊能']\n",
      "['た', 'お', '節']\n"
     ]
    },
    {
     "name": "stderr",
     "output_type": "stream",
     "text": [
      " 35%|███▍      | 480/1386 [00:56<00:39, 22.70it/s]"
     ]
    },
    {
     "name": "stdout",
     "output_type": "stream",
     "text": [
      "['が', '、', '糠床']\n",
      "['は', 'は', 'ハードル']\n",
      "['の', '御', '馳走']\n",
      "['の', '町歩き', 'テレビ']\n",
      "['タ', 'レント', 'の']\n"
     ]
    },
    {
     "name": "stderr",
     "output_type": "stream",
     "text": [
      " 35%|███▍      | 483/1386 [00:56<00:53, 16.87it/s]"
     ]
    },
    {
     "name": "stdout",
     "output_type": "stream",
     "text": [
      "['と', 'いう', 'ホール']\n",
      "['た', 'ワールド', 'カップ']\n",
      "['た', 'イングレス', 'の']\n",
      "['と', 'コンビニエンス', 'ストア']\n",
      "['の', '遠藤', '保仁']\n"
     ]
    },
    {
     "name": "stderr",
     "output_type": "stream",
     "text": [
      " 35%|███▌      | 489/1386 [00:56<00:48, 18.46it/s]"
     ]
    },
    {
     "name": "stdout",
     "output_type": "stream",
     "text": [
      "['から', 'はずれ', '淋しく']\n",
      "['の', '世界', 'ナゼ']\n",
      "['て', 'も', '仕方ない']\n",
      "['と', '遠刈田', '温泉']\n"
     ]
    },
    {
     "name": "stderr",
     "output_type": "stream",
     "text": [
      " 36%|███▌      | 495/1386 [00:57<00:41, 21.36it/s]"
     ]
    },
    {
     "name": "stdout",
     "output_type": "stream",
     "text": [
      "['タ', 'モリ', 'さん']\n",
      "['の', '町歩き', 'テレビ']\n"
     ]
    },
    {
     "name": "stderr",
     "output_type": "stream",
     "text": [
      " 36%|███▌      | 501/1386 [00:57<00:52, 16.92it/s]"
     ]
    },
    {
     "name": "stdout",
     "output_type": "stream",
     "text": [
      "['の', '八木', '竜']\n",
      "['の', '中華', 'まん']\n",
      "['の', 'ハイ', 'チュウ']\n",
      "['は', 'ヨーク', 'ベニマル']\n"
     ]
    },
    {
     "name": "stderr",
     "output_type": "stream",
     "text": [
      " 37%|███▋      | 507/1386 [00:57<00:42, 20.59it/s]"
     ]
    },
    {
     "name": "stdout",
     "output_type": "stream",
     "text": [
      "['は', '表', '参道']\n",
      "['に', '表', '参道']\n",
      "['の', '村上', '信五']\n",
      "['の', '村上', '信五']\n",
      "['が', '持つ', 'レギュラー']\n",
      "['は', '、', '牛タン']\n"
     ]
    },
    {
     "name": "stderr",
     "output_type": "stream",
     "text": [
      " 37%|███▋      | 513/1386 [00:57<00:40, 21.61it/s]"
     ]
    },
    {
     "name": "stdout",
     "output_type": "stream",
     "text": [
      "['は', '所々', 'たくさん']\n",
      "['と', '褌姿', 'は']\n",
      "['と', 'いう', 'ドラマ']\n",
      "['が', '、', '糠床']\n"
     ]
    },
    {
     "name": "stderr",
     "output_type": "stream",
     "text": [
      " 38%|███▊      | 520/1386 [00:58<00:33, 25.55it/s]"
     ]
    },
    {
     "name": "stdout",
     "output_type": "stream",
     "text": [
      "['だ', 'から', '荒野']\n",
      "['と', 'いう', '旅']\n",
      "['タ', 'レント', 'の']\n",
      "['の', 'ブラタモリ', 'で']\n",
      "['の', '閻', '涵']\n"
     ]
    },
    {
     "name": "stderr",
     "output_type": "stream",
     "text": [
      " 38%|███▊      | 529/1386 [00:58<00:33, 25.80it/s]"
     ]
    },
    {
     "name": "stdout",
     "output_type": "stream",
     "text": [
      "['の', 'や', '別ち']\n",
      "['と', '年末', '年始']\n",
      "['か', 'も', 'ん']\n"
     ]
    },
    {
     "name": "stderr",
     "output_type": "stream",
     "text": [
      " 39%|███▊      | 535/1386 [00:58<00:32, 26.16it/s]"
     ]
    },
    {
     "name": "stdout",
     "output_type": "stream",
     "text": [
      "['か', 'も', 'ん']\n",
      "['が', '、', '日清']\n",
      "['の', 'ソレデモシタイ', 'の']\n",
      "['と', '建て', '前編']\n"
     ]
    },
    {
     "name": "stderr",
     "output_type": "stream",
     "text": [
      " 39%|███▉      | 541/1386 [00:59<00:31, 26.81it/s]"
     ]
    },
    {
     "name": "stdout",
     "output_type": "stream",
     "text": [
      "['で', 'は', '日清']\n",
      "['の', '子', '大粒']\n",
      "['は', '結構', '太麺']\n",
      "['も', 'サッカー', 'オーストラリア']\n",
      "['が', 'シドニー', '球界']\n"
     ]
    },
    {
     "name": "stderr",
     "output_type": "stream",
     "text": [
      " 39%|███▉      | 544/1386 [00:59<00:30, 27.46it/s]"
     ]
    },
    {
     "name": "stdout",
     "output_type": "stream",
     "text": [
      "['の', 'シドニー', '球界']\n",
      "['が', 'シドニー', '代表']\n",
      "['は', 'サッポロ', 'ビール']\n"
     ]
    },
    {
     "name": "stderr",
     "output_type": "stream",
     "text": [
      " 40%|███▉      | 550/1386 [00:59<00:36, 22.81it/s]"
     ]
    },
    {
     "name": "stdout",
     "output_type": "stream",
     "text": [
      "['を', '約', '00000']\n",
      "['も', 'サッカー', 'オランダ']\n"
     ]
    },
    {
     "name": "stderr",
     "output_type": "stream",
     "text": [
      " 40%|████      | 556/1386 [00:59<00:36, 22.63it/s]"
     ]
    },
    {
     "name": "stdout",
     "output_type": "stream",
     "text": [
      "['は', 'ジャニーズ', 'の']\n",
      "['と', '有名', '人']\n",
      "['て', 'いる', 'ジャニーズ']\n",
      "['の', '忘年', '会']\n",
      "['と', 'ローリー', 'なら']\n"
     ]
    },
    {
     "name": "stderr",
     "output_type": "stream",
     "text": [
      " 41%|████      | 563/1386 [00:59<00:33, 24.36it/s]"
     ]
    },
    {
     "name": "stdout",
     "output_type": "stream",
     "text": [
      "['と', 'いう', 'スイーツ']\n",
      "['の', '御薩', 'スナック']\n",
      "['の', 'ちょい', '足し']\n",
      "['に', '印刷', '物']\n",
      "['と', 'いう', 'スイーツ']\n"
     ]
    },
    {
     "name": "stderr",
     "output_type": "stream",
     "text": [
      " 41%|████      | 569/1386 [01:00<00:33, 24.64it/s]"
     ]
    },
    {
     "name": "stdout",
     "output_type": "stream",
     "text": [
      "['の', '0', '週間']\n",
      "['を', '0', '名']\n",
      "['が', '和洋', '折衷']\n",
      "['の', 'かっぱ', '蝦煎']\n"
     ]
    },
    {
     "name": "stderr",
     "output_type": "stream",
     "text": [
      " 42%|████▏     | 579/1386 [01:00<00:30, 26.89it/s]"
     ]
    },
    {
     "name": "stdout",
     "output_type": "stream",
     "text": [
      "['が', '楽しい', 'でしょう']\n",
      "['よう', 'な', 'かば']\n",
      "['の', 'グランド', 'カルビー']\n",
      "['の', '力め', 'し']\n",
      "['と', 'いう', '円柱']\n"
     ]
    },
    {
     "name": "stderr",
     "output_type": "stream",
     "text": [
      " 42%|████▏     | 585/1386 [01:00<00:33, 23.87it/s]"
     ]
    },
    {
     "name": "stdout",
     "output_type": "stream",
     "text": [
      "['が', '桜ん坊', 'の']\n",
      "['の', '0', '県']\n",
      "['の', '0', '県']\n",
      "['に', '、', 'こて']\n"
     ]
    },
    {
     "name": "stderr",
     "output_type": "stream",
     "text": [
      " 42%|████▏     | 588/1386 [01:00<00:33, 23.53it/s]"
     ]
    },
    {
     "name": "stdout",
     "output_type": "stream",
     "text": [
      "['の', 'で', '滅多']\n",
      "['の', 'ハイ', 'チュウ']\n",
      "['の', '広島', '鉄']\n",
      "['たい', 'の', 'でしょう']\n",
      "['は', '美味しい', 'ナゴヤ']\n"
     ]
    },
    {
     "name": "stderr",
     "output_type": "stream",
     "text": [
      " 43%|████▎     | 595/1386 [01:01<00:32, 24.71it/s]"
     ]
    },
    {
     "name": "stdout",
     "output_type": "stream",
     "text": [
      "['の', '安納', '薯']\n",
      "['の', '安納', '薯']\n",
      "['の', 'ファミマ', 'プレミアム']\n",
      "['の', '、', 'ウォーズ']\n"
     ]
    },
    {
     "name": "stderr",
     "output_type": "stream",
     "text": [
      " 43%|████▎     | 601/1386 [01:01<00:32, 23.85it/s]"
     ]
    },
    {
     "name": "stdout",
     "output_type": "stream",
     "text": [
      "['は', 'メイ', 'トー']\n",
      "['の', '羽生', '結']\n",
      "['も', 'サッカー', 'オーストラリア']\n",
      "['で', 'アカデミー', '名誉']\n"
     ]
    },
    {
     "name": "stderr",
     "output_type": "stream",
     "text": [
      " 44%|████▍     | 607/1386 [01:01<00:33, 23.55it/s]"
     ]
    },
    {
     "name": "stdout",
     "output_type": "stream",
     "text": [
      "['の', 'サッカー', 'ホンジュラス']\n",
      "['の', '田中', '将大']\n",
      "['な', 'サンタ', 'クロース']\n",
      "['の', 'ミスター', 'クロワッサン']\n"
     ]
    },
    {
     "name": "stderr",
     "output_type": "stream",
     "text": [
      " 44%|████▍     | 613/1386 [01:01<00:30, 25.19it/s]"
     ]
    },
    {
     "name": "stdout",
     "output_type": "stream",
     "text": [
      "['の', 'ミスター', 'クロワッサン']\n",
      "['て', 'くれる', 'でしょう']\n",
      "['の', '子', '大粒']\n",
      "['れる', 'ウルトラ', 'ヒーロー']\n"
     ]
    },
    {
     "name": "stderr",
     "output_type": "stream",
     "text": [
      " 45%|████▍     | 619/1386 [01:02<00:29, 25.72it/s]"
     ]
    },
    {
     "name": "stdout",
     "output_type": "stream",
     "text": [
      "['の', '馬事', '公園']\n",
      "['の', 'で', '凄い']\n"
     ]
    },
    {
     "name": "stderr",
     "output_type": "stream",
     "text": [
      " 45%|████▍     | 622/1386 [01:02<00:47, 16.12it/s]"
     ]
    },
    {
     "name": "stdout",
     "output_type": "stream",
     "text": [
      "['の', 'フローズン', 'ファンタジー']\n",
      "['に', '日本', 'エレキテル']\n",
      "['で', 'ある', 'モンスターズ']\n",
      "['の', 'ハビエル', '・']\n"
     ]
    },
    {
     "name": "stderr",
     "output_type": "stream",
     "text": [
      " 45%|████▌     | 628/1386 [01:02<00:42, 17.91it/s]"
     ]
    },
    {
     "name": "stdout",
     "output_type": "stream",
     "text": [
      "['と', '0', 'FIFA']\n",
      "['から', 'はずれ', '淋しく']\n",
      "['の', 'サッカー', '横浜']\n",
      "['も', '0', '位']\n",
      "['の', 'じゃがりこ', '味']\n"
     ]
    },
    {
     "name": "stderr",
     "output_type": "stream",
     "text": [
      " 46%|████▌     | 635/1386 [01:03<00:35, 21.16it/s]"
     ]
    },
    {
     "name": "stdout",
     "output_type": "stream",
     "text": [
      "['な', '御', '店']\n",
      "['の', 'グランド', 'カルビー']\n",
      "['て', 'ハロー', 'キティー']\n",
      "['と', 'いう', 'テレビ']\n"
     ]
    },
    {
     "name": "stderr",
     "output_type": "stream",
     "text": [
      " 46%|████▌     | 638/1386 [01:03<00:34, 21.60it/s]"
     ]
    },
    {
     "name": "stdout",
     "output_type": "stream",
     "text": [
      "['と', 'いう', 'テレビ']\n",
      "['で', '年末', '年始']\n",
      "['の', 'ザ', 'manzai']\n",
      "['と', 'いう', 'ドラマ']\n",
      "['た', '0', 'g']\n"
     ]
    },
    {
     "name": "stderr",
     "output_type": "stream",
     "text": [
      " 46%|████▋     | 644/1386 [01:03<00:35, 20.84it/s]"
     ]
    },
    {
     "name": "stdout",
     "output_type": "stream",
     "text": [
      "['の', '痛快', '明石家']\n",
      "['と', 'ナインティー', 'ナイン']\n",
      "['たら', '本当', 'は']\n",
      "['と', 'マドリード', 'なら']\n"
     ]
    },
    {
     "name": "stderr",
     "output_type": "stream",
     "text": [
      " 47%|████▋     | 650/1386 [01:03<00:34, 21.41it/s]"
     ]
    },
    {
     "name": "stdout",
     "output_type": "stream",
     "text": [
      "['から', 'でしょう', 'か']\n",
      "['や', '田丸', '屋']\n",
      "['の', 'あまおう', 'の']\n",
      "['な', '0', '組']\n"
     ]
    },
    {
     "name": "stderr",
     "output_type": "stream",
     "text": [
      " 47%|████▋     | 656/1386 [01:04<00:32, 22.26it/s]"
     ]
    },
    {
     "name": "stdout",
     "output_type": "stream",
     "text": [
      "['れる', 'カバーアルバムキャンニュキープ', 'a']\n",
      "['を', '著名', 'アーチスト']\n",
      "['な', '0', '組']\n",
      "['など', 'が', 'You']\n",
      "['は', '現', '時点']\n",
      "['て', 'シンガポール', 'プロ']\n"
     ]
    },
    {
     "name": "stderr",
     "output_type": "stream",
     "text": [
      " 48%|████▊     | 662/1386 [01:04<00:30, 23.36it/s]"
     ]
    },
    {
     "name": "stdout",
     "output_type": "stream",
     "text": [
      "['が', 'シンガポール', '球界']\n",
      "['と', 'いう', 'ホテル']\n",
      "['は', 'とくに', '松坂']\n",
      "['の', 'カミング', 'アウト']\n",
      "['の', 'カミング', 'アウト']\n"
     ]
    },
    {
     "name": "stderr",
     "output_type": "stream",
     "text": [
      " 48%|████▊     | 665/1386 [01:04<00:29, 24.10it/s]"
     ]
    },
    {
     "name": "stdout",
     "output_type": "stream",
     "text": [
      "['の', '御', '店']\n",
      "['の', 'カミング', 'アウト']\n",
      "['の', '漆塗り', 'が']\n"
     ]
    },
    {
     "name": "stderr",
     "output_type": "stream",
     "text": [
      " 48%|████▊     | 671/1386 [01:04<00:30, 23.07it/s]"
     ]
    },
    {
     "name": "stdout",
     "output_type": "stream",
     "text": [
      "['は', 'もちろん', '付け麺']\n",
      "['で', 'は', '鸚哥']\n",
      "['の', '水族', '館']\n",
      "['て', 'から', 'ディフェンダー']\n"
     ]
    },
    {
     "name": "stderr",
     "output_type": "stream",
     "text": [
      " 49%|████▉     | 677/1386 [01:04<00:30, 23.20it/s]"
     ]
    },
    {
     "name": "stdout",
     "output_type": "stream",
     "text": [
      "['と', 'いう', 'ドイツ']\n",
      "['の', 'EU', '戦']\n",
      "['の', 'サッカー', 'コロンビア']\n"
     ]
    },
    {
     "name": "stderr",
     "output_type": "stream",
     "text": [
      " 49%|████▉     | 684/1386 [01:05<00:26, 26.50it/s]"
     ]
    },
    {
     "name": "stdout",
     "output_type": "stream",
     "text": [
      "['た', 'かば', '館']\n",
      "['の', '御', '店']\n",
      "['よう', 'な', 'かば']\n",
      "['の', '妖怪', 'ウォッチ']\n",
      "['の', 'フェルメール', 'さん']\n"
     ]
    },
    {
     "name": "stderr",
     "output_type": "stream",
     "text": [
      " 50%|████▉     | 691/1386 [01:05<00:26, 26.03it/s]"
     ]
    },
    {
     "name": "stdout",
     "output_type": "stream",
     "text": [
      "['や', 'ハビエル・アギーレ', 'など']\n",
      "['の', 'ココ', 'ロココ']\n",
      "['の', 'ココ', 'ロココ']\n",
      "['の', '世界', 'ナゼ']\n"
     ]
    },
    {
     "name": "stderr",
     "output_type": "stream",
     "text": [
      " 50%|█████     | 697/1386 [01:05<00:29, 23.28it/s]"
     ]
    },
    {
     "name": "stdout",
     "output_type": "stream",
     "text": [
      "['た', 'の', 'プラモデル']\n",
      "['の', 'BANDAI', 'ホビー']\n",
      "['の', 'BANDAI', 'ホビー']\n",
      "['と', 'いう', '炭酸']\n"
     ]
    },
    {
     "name": "stderr",
     "output_type": "stream",
     "text": [
      " 51%|█████     | 703/1386 [01:06<00:28, 23.89it/s]"
     ]
    },
    {
     "name": "stdout",
     "output_type": "stream",
     "text": [
      "['の', 'ドーナツ', '0']\n"
     ]
    },
    {
     "name": "stderr",
     "output_type": "stream",
     "text": [
      " 51%|█████     | 709/1386 [01:06<00:33, 20.32it/s]"
     ]
    },
    {
     "name": "stdout",
     "output_type": "stream",
     "text": [
      "['と', 'スペイン', 'なら']\n",
      "['の', '本田', '圭佑']\n",
      "['の', '本田', '圭佑']\n",
      "['が', '三都主', 'アレッサンドロ']\n"
     ]
    },
    {
     "name": "stderr",
     "output_type": "stream",
     "text": [
      " 52%|█████▏    | 715/1386 [01:06<00:31, 21.18it/s]"
     ]
    },
    {
     "name": "stdout",
     "output_type": "stream",
     "text": [
      "['の', 'リプトン', '・']\n",
      "['で', '銀', 'メダル']\n",
      "['まで', 'FIFA', 'ワールド']\n"
     ]
    },
    {
     "name": "stderr",
     "output_type": "stream",
     "text": [
      " 52%|█████▏    | 718/1386 [01:06<00:31, 21.17it/s]"
     ]
    },
    {
     "name": "stdout",
     "output_type": "stream",
     "text": [
      "['か', '鈴木', '明子']\n",
      "['で', 'ある', 'イングレス']\n",
      "['より', 'もう', '少し']\n",
      "['に', '島歌', 'と']\n"
     ]
    },
    {
     "name": "stderr",
     "output_type": "stream",
     "text": [
      " 52%|█████▏    | 723/1386 [01:07<00:43, 15.34it/s]"
     ]
    },
    {
     "name": "stdout",
     "output_type": "stream",
     "text": [
      "['で', '、', 'グラッチェ']\n",
      "['は', '映画', '煎']\n",
      "['は', '、', '数十']\n"
     ]
    },
    {
     "name": "stderr",
     "output_type": "stream",
     "text": [
      " 52%|█████▏    | 727/1386 [01:07<00:49, 13.21it/s]"
     ]
    },
    {
     "name": "stdout",
     "output_type": "stream",
     "text": [
      "['ながら', 'みけ', 'らん']\n",
      "['に', '御嶽', '山']\n",
      "['て', 'フジ', 'テレビ']\n"
     ]
    },
    {
     "name": "stderr",
     "output_type": "stream",
     "text": [
      " 53%|█████▎    | 733/1386 [01:07<00:36, 18.13it/s]"
     ]
    },
    {
     "name": "stdout",
     "output_type": "stream",
     "text": [
      "['で', '0', '月']\n",
      "['と', 'いう', 'ドラマ']\n",
      "['ない', '物真似', '選手']\n",
      "['は', 'なかなか', '漫才']\n",
      "['か', 'くま', 'もん']\n"
     ]
    },
    {
     "name": "stderr",
     "output_type": "stream",
     "text": [
      " 53%|█████▎    | 739/1386 [01:08<00:33, 19.08it/s]"
     ]
    },
    {
     "name": "stdout",
     "output_type": "stream",
     "text": [
      "['の', 'リプトン', '・']\n",
      "['の', 'ミッドフィルダー', '本田']\n",
      "['の', 'セレッソ', '大阪']\n",
      "['に', '遠藤', '保仁']\n",
      "['の', '長友', '佑都']\n"
     ]
    },
    {
     "name": "stderr",
     "output_type": "stream",
     "text": [
      " 54%|█████▍    | 745/1386 [01:08<00:30, 21.30it/s]"
     ]
    },
    {
     "name": "stdout",
     "output_type": "stream",
     "text": [
      "['も', '神', '様']\n",
      "['を', '蜂蜜', '0']\n"
     ]
    },
    {
     "name": "stderr",
     "output_type": "stream",
     "text": [
      " 54%|█████▍    | 752/1386 [01:08<00:27, 23.46it/s]"
     ]
    },
    {
     "name": "stdout",
     "output_type": "stream",
     "text": [
      "['の', 'ヒカ', 'キン']\n",
      "['の', 'が', 'ツイッター']\n",
      "['の', 'エイプリル', 'フール']\n",
      "['と', 'アムステルダム', 'なら']\n"
     ]
    },
    {
     "name": "stderr",
     "output_type": "stream",
     "text": [
      " 55%|█████▍    | 759/1386 [01:08<00:24, 25.78it/s]"
     ]
    },
    {
     "name": "stdout",
     "output_type": "stream",
     "text": [
      "['の', 'サザン', 'オール']\n",
      "['など', '茅ヶ崎', '地方']\n",
      "['は', 'ワールド', 'カップ']\n",
      "['も', 'ブラタモリ', '見']\n"
     ]
    },
    {
     "name": "stderr",
     "output_type": "stream",
     "text": [
      " 55%|█████▌    | 765/1386 [01:09<00:23, 26.23it/s]"
     ]
    },
    {
     "name": "stdout",
     "output_type": "stream",
     "text": [
      "['の', '町歩き', 'テレビ']\n",
      "['か', '森田', '芳光']\n",
      "['て', '致命', '傷']\n"
     ]
    },
    {
     "name": "stderr",
     "output_type": "stream",
     "text": [
      " 56%|█████▌    | 772/1386 [01:09<00:23, 25.81it/s]"
     ]
    },
    {
     "name": "stdout",
     "output_type": "stream",
     "text": [
      "['は', '海外', '力士']\n",
      "['が', 'いい', 'でしょう']\n",
      "['に', 'よる', '0']\n",
      "['なら', '燐', '・']\n"
     ]
    },
    {
     "name": "stderr",
     "output_type": "stream",
     "text": [
      " 56%|█████▌    | 778/1386 [01:09<00:23, 25.69it/s]"
     ]
    },
    {
     "name": "stdout",
     "output_type": "stream",
     "text": [
      "['も', '燐', '・']\n",
      "['の', '宮本', '恒靖']\n"
     ]
    },
    {
     "name": "stderr",
     "output_type": "stream",
     "text": [
      " 57%|█████▋    | 784/1386 [01:09<00:25, 24.00it/s]"
     ]
    },
    {
     "name": "stdout",
     "output_type": "stream",
     "text": [
      "['の', '宮本', '恒靖']\n",
      "['の', '川澄', '奈穂美']\n",
      "['の', 'ゴール', 'キーパー']\n",
      "['の', 'アンデルソン', '・']\n",
      "['は', 'ガンバ', '大阪']\n"
     ]
    },
    {
     "name": "stderr",
     "output_type": "stream",
     "text": [
      " 57%|█████▋    | 790/1386 [01:10<00:24, 24.59it/s]"
     ]
    },
    {
     "name": "stdout",
     "output_type": "stream",
     "text": [
      "['や', '高級', '焼き肉']\n",
      "['が', '総額', '000000000']\n",
      "['の', 'ソレデモシタイ', 'は']\n",
      "['の', 'バラード', 'SHOW']\n"
     ]
    },
    {
     "name": "stderr",
     "output_type": "stream",
     "text": [
      " 57%|█████▋    | 796/1386 [01:10<00:24, 23.61it/s]"
     ]
    },
    {
     "name": "stdout",
     "output_type": "stream",
     "text": [
      "['の', 'フィリピン', 'カレー']\n",
      "['と', 'いう', '音楽']\n",
      "['と', 'いう', 'サッカー']\n",
      "['の', '侭', 'は']\n"
     ]
    },
    {
     "name": "stderr",
     "output_type": "stream",
     "text": [
      " 58%|█████▊    | 802/1386 [01:10<00:23, 24.49it/s]"
     ]
    },
    {
     "name": "stdout",
     "output_type": "stream",
     "text": [
      "['は', 'テレビ', '朝日']\n",
      "['は', '、', 'ナインティー']\n",
      "['れる', 'レコ', 'チョク']\n",
      "['の', 'ぶー', '社']\n",
      "['の', 'ぶー', '社']\n",
      "['と', '国営', '備北']\n"
     ]
    },
    {
     "name": "stderr",
     "output_type": "stream",
     "text": [
      " 58%|█████▊    | 808/1386 [01:10<00:23, 24.61it/s]"
     ]
    },
    {
     "name": "stdout",
     "output_type": "stream",
     "text": [
      "['が', '桜ん坊', 'の']\n",
      "['くらい', 'フーズ', 'に']\n",
      "['くらい', 'フーズ', 'の']\n",
      "['の', 'ソントン', 'ホールディングス']\n",
      "['は', 'アイドル', 'グループス']\n"
     ]
    },
    {
     "name": "stderr",
     "output_type": "stream",
     "text": [
      " 59%|█████▊    | 814/1386 [01:11<00:22, 25.88it/s]"
     ]
    },
    {
     "name": "stdout",
     "output_type": "stream",
     "text": [
      "['も', 'とても', 'ヒット']\n",
      "['な', '0', '組']\n",
      "['な', '0', '組']\n",
      "['と', 'いう', 'CD']\n"
     ]
    },
    {
     "name": "stderr",
     "output_type": "stream",
     "text": [
      " 59%|█████▉    | 820/1386 [01:11<00:24, 22.93it/s]"
     ]
    },
    {
     "name": "stdout",
     "output_type": "stream",
     "text": [
      "['に', 'よる', '0']\n",
      "['を', '著名', 'アーチスト']\n",
      "['と', 'いう', 'CD']\n",
      "['で', '国営', '滝野']\n",
      "['から', '夜更かし', 'で']\n"
     ]
    },
    {
     "name": "stderr",
     "output_type": "stream",
     "text": [
      " 59%|█████▉    | 823/1386 [01:11<00:25, 22.17it/s]"
     ]
    },
    {
     "name": "stdout",
     "output_type": "stream",
     "text": [
      "['を', 'マツコ', 'の']\n",
      "['と', 'いう', '技']\n",
      "['の', '鸚哥', '味']\n",
      "['の', 'グランド', 'カルビー']\n"
     ]
    },
    {
     "name": "stderr",
     "output_type": "stream",
     "text": [
      " 60%|█████▉    | 830/1386 [01:11<00:21, 25.39it/s]"
     ]
    },
    {
     "name": "stdout",
     "output_type": "stream",
     "text": [
      "['の', 'ぐり', 'こ']\n",
      "['が', '少な', '目']\n",
      "['の', 'ジャイアントカプリコ', '苺味']\n",
      "['の', 'ジャイアントカプリコ', '苺味']\n",
      "['の', '広島', '鉄']\n"
     ]
    },
    {
     "name": "stderr",
     "output_type": "stream",
     "text": [
      " 61%|██████    | 839/1386 [01:12<00:22, 24.57it/s]"
     ]
    },
    {
     "name": "stdout",
     "output_type": "stream",
     "text": [
      "['なら', '、', '生チョコ']\n",
      "['に', 'ポテト', 'チップス']\n",
      "['の', 'スナック', '菓子']\n",
      "['で', 'アサヒ', 'ビール']\n",
      "['の', 'スナック', '菓子']\n"
     ]
    },
    {
     "name": "stderr",
     "output_type": "stream",
     "text": [
      " 61%|██████    | 842/1386 [01:12<00:21, 25.13it/s]"
     ]
    },
    {
     "name": "stdout",
     "output_type": "stream",
     "text": [
      "['の', 'かっぱ', '蝦煎']\n",
      "['の', '三都主', 'アレッサンドロ']\n",
      "['た', '国際', 'アンデルセン']\n"
     ]
    },
    {
     "name": "stderr",
     "output_type": "stream",
     "text": [
      " 61%|██████    | 848/1386 [01:12<00:30, 17.79it/s]"
     ]
    },
    {
     "name": "stdout",
     "output_type": "stream",
     "text": [
      "['と', 'いう', 'ポップコーン']\n"
     ]
    },
    {
     "name": "stderr",
     "output_type": "stream",
     "text": [
      " 62%|██████▏   | 854/1386 [01:12<00:24, 21.42it/s]"
     ]
    },
    {
     "name": "stdout",
     "output_type": "stream",
     "text": [
      "['や', '香川', '真司']\n",
      "['て', 'カミング', 'アウト']\n",
      "['も', '世界', '選手']\n",
      "['の', '漆塗り', 'が']\n"
     ]
    },
    {
     "name": "stderr",
     "output_type": "stream",
     "text": [
      " 62%|██████▏   | 860/1386 [01:13<00:22, 23.64it/s]"
     ]
    },
    {
     "name": "stdout",
     "output_type": "stream",
     "text": [
      "['の', 'ファミリー', 'マート']\n",
      "['な', 'コンビニエンス', 'ストア']\n",
      "['の', 'fukase', 'さん']\n"
     ]
    },
    {
     "name": "stderr",
     "output_type": "stream",
     "text": [
      " 63%|██████▎   | 867/1386 [01:13<00:18, 28.19it/s]"
     ]
    },
    {
     "name": "stdout",
     "output_type": "stream",
     "text": [
      "['は', 'まだ', 'エボラ']\n",
      "['に', '0', '週間']\n",
      "['ば', '、', 'letao']\n"
     ]
    },
    {
     "name": "stderr",
     "output_type": "stream",
     "text": [
      " 63%|██████▎   | 873/1386 [01:13<00:20, 25.19it/s]"
     ]
    },
    {
     "name": "stdout",
     "output_type": "stream",
     "text": [
      "['で', '下', '半身']\n",
      "['の', '0', '種類']\n"
     ]
    },
    {
     "name": "stderr",
     "output_type": "stream",
     "text": [
      " 63%|██████▎   | 879/1386 [01:13<00:20, 24.84it/s]"
     ]
    },
    {
     "name": "stdout",
     "output_type": "stream",
     "text": [
      "['が', '桜ん坊', 'の']\n",
      "['し', '、', 'グラッチェ']\n",
      "['だ', 'から', '荒野']\n"
     ]
    },
    {
     "name": "stderr",
     "output_type": "stream",
     "text": [
      " 64%|██████▍   | 885/1386 [01:14<00:19, 25.84it/s]"
     ]
    },
    {
     "name": "stdout",
     "output_type": "stream",
     "text": [
      "['と', 'ヨーロッパ', 'なら']\n",
      "['が', '鈴木', '章']\n",
      "['の', 'もやもや', 'さまぁ']\n"
     ]
    },
    {
     "name": "stderr",
     "output_type": "stream",
     "text": [
      " 65%|██████▍   | 895/1386 [01:14<00:19, 24.72it/s]"
     ]
    },
    {
     "name": "stdout",
     "output_type": "stream",
     "text": [
      "['に', '、', 'サザンアイルズ']\n",
      "['から', '、', 'サザンアイルズ']\n",
      "['乃', '逢', 'の']\n",
      "['は', '特に', 'pasco']\n",
      "['が', 'pasco', 'の']\n"
     ]
    },
    {
     "name": "stderr",
     "output_type": "stream",
     "text": [
      " 65%|██████▍   | 899/1386 [01:14<00:17, 27.34it/s]"
     ]
    },
    {
     "name": "stdout",
     "output_type": "stream",
     "text": [
      "['で', 'は', 'pasco']\n",
      "['の', '信長', '協奏']\n"
     ]
    },
    {
     "name": "stderr",
     "output_type": "stream",
     "text": [
      " 65%|██████▌   | 907/1386 [01:14<00:16, 28.57it/s]"
     ]
    },
    {
     "name": "stdout",
     "output_type": "stream",
     "text": [
      "['まで', 'なら', 'アナウンサー']\n",
      "['の', '鸚哥', '味']\n"
     ]
    },
    {
     "name": "stderr",
     "output_type": "stream",
     "text": [
      " 66%|██████▌   | 913/1386 [01:15<00:17, 26.49it/s]"
     ]
    },
    {
     "name": "stdout",
     "output_type": "stream",
     "text": [
      "['の', '鸚哥', '味']\n",
      "['の', '鸚哥', '味']\n",
      "['の', '鸚哥', '味']\n"
     ]
    },
    {
     "name": "stderr",
     "output_type": "stream",
     "text": [
      " 66%|██████▋   | 919/1386 [01:15<00:18, 25.14it/s]"
     ]
    },
    {
     "name": "stdout",
     "output_type": "stream",
     "text": [
      "['の', '生姜', 'チャイ']\n",
      "['の', '生姜', 'チャイ']\n",
      "['と', '愛媛', '地方']\n",
      "['て', 'いる', '町作り']\n",
      "['で', 'モ', 'スライス']\n"
     ]
    },
    {
     "name": "stderr",
     "output_type": "stream",
     "text": [
      " 67%|██████▋   | 925/1386 [01:15<00:19, 23.41it/s]"
     ]
    },
    {
     "name": "stdout",
     "output_type": "stream",
     "text": [
      "['も', 'MOS', 'バーガー']\n",
      "['の', 'フローズン', 'ファンタジー']\n",
      "['で', '恋', 'する']\n"
     ]
    },
    {
     "name": "stderr",
     "output_type": "stream",
     "text": [
      " 67%|██████▋   | 931/1386 [01:15<00:18, 25.04it/s]"
     ]
    },
    {
     "name": "stdout",
     "output_type": "stream",
     "text": [
      "['の', 'akb', '0']\n",
      "['の', '軍師', '官兵衛']\n",
      "['の', '軍師', '官兵衛']\n",
      "['で', '、', 'akb']\n",
      "['な', '岡崎', '慎司']\n",
      "['で', 'くつろぐ', '画像']\n"
     ]
    },
    {
     "name": "stderr",
     "output_type": "stream",
     "text": [
      " 68%|██████▊   | 938/1386 [01:16<00:15, 28.59it/s]"
     ]
    },
    {
     "name": "stdout",
     "output_type": "stream",
     "text": [
      "['が', '岡崎', '慎司']\n",
      "['の', 'で', '厄介']\n"
     ]
    },
    {
     "name": "stderr",
     "output_type": "stream",
     "text": [
      " 69%|██████▊   | 950/1386 [01:16<00:16, 27.11it/s]"
     ]
    },
    {
     "name": "stdout",
     "output_type": "stream",
     "text": [
      "['で', 'ぎりぎり', '何']\n",
      "['に', 'ある', '御洒落']\n",
      "['て', '、', '香り付け']\n",
      "['と', 'か', 'スープ']\n"
     ]
    },
    {
     "name": "stderr",
     "output_type": "stream",
     "text": [
      " 69%|██████▉   | 963/1386 [01:17<00:14, 29.52it/s]"
     ]
    },
    {
     "name": "stdout",
     "output_type": "stream",
     "text": [
      "['か', 'も', '必須']\n",
      "['です', 'ね', '一人']\n",
      "['と', 'か', '天国']\n"
     ]
    },
    {
     "name": "stderr",
     "output_type": "stream",
     "text": [
      " 70%|███████   | 971/1386 [01:17<00:13, 29.87it/s]"
     ]
    },
    {
     "name": "stdout",
     "output_type": "stream",
     "text": [
      "['か', '.', '牛タン']\n",
      "['や', '、', '学祭']\n"
     ]
    },
    {
     "name": "stderr",
     "output_type": "stream",
     "text": [
      " 71%|███████   | 979/1386 [01:17<00:13, 31.22it/s]"
     ]
    },
    {
     "name": "stdout",
     "output_type": "stream",
     "text": [
      "['ね', 'ー', 'ソフト']\n",
      "['ながら', 'お', 'しまい']\n",
      "['を', 'し', 'ましょう']\n"
     ]
    },
    {
     "name": "stderr",
     "output_type": "stream",
     "text": [
      " 71%|███████   | 987/1386 [01:17<00:12, 33.08it/s]"
     ]
    },
    {
     "name": "stdout",
     "output_type": "stream",
     "text": [
      "['と', 'か', 'いる']\n",
      "['に', '読む', '積もり']\n"
     ]
    },
    {
     "name": "stderr",
     "output_type": "stream",
     "text": [
      " 72%|███████▏  | 1000/1386 [01:18<00:10, 36.96it/s]"
     ]
    },
    {
     "name": "stdout",
     "output_type": "stream",
     "text": [
      "['と', 'か', '操作']\n",
      "['か', '…', 'どじ']\n",
      "['ず', 'タイピング', 'し']\n"
     ]
    },
    {
     "name": "stderr",
     "output_type": "stream",
     "text": [
      " 73%|███████▎  | 1009/1386 [01:18<00:10, 34.35it/s]"
     ]
    },
    {
     "name": "stdout",
     "output_type": "stream",
     "text": [
      "['と', '柴', '0']\n",
      "['と', '柴', '0']\n"
     ]
    },
    {
     "name": "stderr",
     "output_type": "stream",
     "text": [
      " 74%|███████▎  | 1021/1386 [01:18<00:10, 34.46it/s]"
     ]
    },
    {
     "name": "stdout",
     "output_type": "stream",
     "text": [
      "['か', '…', 'どじ']\n"
     ]
    },
    {
     "name": "stderr",
     "output_type": "stream",
     "text": [
      " 74%|███████▍  | 1025/1386 [01:18<00:10, 34.75it/s]"
     ]
    },
    {
     "name": "stdout",
     "output_type": "stream",
     "text": [
      "['ます', 'そう', 'いう']\n",
      "['てる', 'ん', 'でしょう']\n",
      "['が', '、', '何に']\n"
     ]
    },
    {
     "name": "stderr",
     "output_type": "stream",
     "text": [
      " 75%|███████▍  | 1034/1386 [01:19<00:10, 33.71it/s]"
     ]
    },
    {
     "name": "stdout",
     "output_type": "stream",
     "text": [
      "['です', 'か', '大晦日']\n",
      "['の', '0', '週間']\n"
     ]
    },
    {
     "name": "stderr",
     "output_type": "stream",
     "text": [
      " 75%|███████▌  | 1042/1386 [01:19<00:11, 30.58it/s]"
     ]
    },
    {
     "name": "stdout",
     "output_type": "stream",
     "text": [
      "['も', '0', '週間']\n",
      "['す', '…', '凄い']\n"
     ]
    },
    {
     "name": "stderr",
     "output_type": "stream",
     "text": [
      " 76%|███████▌  | 1054/1386 [01:19<00:10, 31.03it/s]"
     ]
    },
    {
     "name": "stdout",
     "output_type": "stream",
     "text": [
      "['は', 'やみつき', 'に']\n"
     ]
    },
    {
     "name": "stderr",
     "output_type": "stream",
     "text": [
      " 76%|███████▋  | 1058/1386 [01:20<00:13, 24.88it/s]"
     ]
    },
    {
     "name": "stdout",
     "output_type": "stream",
     "text": [
      "['た', 'くらい', 'でしょう']\n",
      "['を', '食べ', 'ましょう']\n"
     ]
    },
    {
     "name": "stderr",
     "output_type": "stream",
     "text": [
      " 77%|███████▋  | 1065/1386 [01:20<00:11, 27.50it/s]"
     ]
    },
    {
     "name": "stdout",
     "output_type": "stream",
     "text": [
      "['た', '「', 'あずみ']\n",
      "['です', 'かー', '。']\n"
     ]
    },
    {
     "name": "stderr",
     "output_type": "stream",
     "text": [
      " 78%|███████▊  | 1082/1386 [01:20<00:08, 34.36it/s]"
     ]
    },
    {
     "name": "stdout",
     "output_type": "stream",
     "text": [
      "['の', 'ジャズ', 'セクション']\n",
      "['と', 'か', '自然']\n",
      "['の', 'クライン', 'キー']\n",
      "['に', 'なろう', 'と']\n",
      "['と', 'か', '自然']\n"
     ]
    },
    {
     "name": "stderr",
     "output_type": "stream",
     "text": [
      " 79%|███████▉  | 1094/1386 [01:21<00:08, 32.69it/s]"
     ]
    },
    {
     "name": "stdout",
     "output_type": "stream",
     "text": [
      "['って', '陰', 'から']\n",
      "['でし', 'た', '…']\n",
      "['か', 'も', '必須']\n",
      "['か', 'が', 'ひどかっ']\n"
     ]
    },
    {
     "name": "stderr",
     "output_type": "stream",
     "text": [
      " 80%|███████▉  | 1102/1386 [01:21<00:08, 34.09it/s]"
     ]
    },
    {
     "name": "stdout",
     "output_type": "stream",
     "text": [
      "['は', '酎ハイ', '程度']\n",
      "['は', '酎ハイ', '程度']\n",
      "['じゃあ', 'あまり', 'お']\n",
      "['よ', 'ね', '…']\n"
     ]
    },
    {
     "name": "stderr",
     "output_type": "stream",
     "text": [
      " 80%|████████  | 1110/1386 [01:21<00:08, 31.66it/s]"
     ]
    },
    {
     "name": "stdout",
     "output_type": "stream",
     "text": [
      "['と', 'か', '表情']\n",
      "['が', '切磋', '琢磨']\n"
     ]
    },
    {
     "name": "stderr",
     "output_type": "stream",
     "text": [
      " 80%|████████  | 1115/1386 [01:21<00:07, 35.42it/s]"
     ]
    },
    {
     "name": "stdout",
     "output_type": "stream",
     "text": [
      "['に', '読む', '積もり']\n",
      "['の', '踏み場', 'は']\n"
     ]
    },
    {
     "name": "stderr",
     "output_type": "stream",
     "text": [
      " 82%|████████▏ | 1131/1386 [01:22<00:07, 32.04it/s]"
     ]
    },
    {
     "name": "stdout",
     "output_type": "stream",
     "text": [
      "['が', 'やたら', '粘る']\n",
      "['で', '忘年', '会']\n",
      "['です', '.', '。']\n"
     ]
    },
    {
     "name": "stderr",
     "output_type": "stream",
     "text": [
      " 82%|████████▏ | 1135/1386 [01:22<00:08, 30.93it/s]"
     ]
    },
    {
     "name": "stdout",
     "output_type": "stream",
     "text": [
      "['と', 'いう', '斬新']\n",
      "['が', '声高い', '子']\n"
     ]
    },
    {
     "name": "stderr",
     "output_type": "stream",
     "text": [
      " 83%|████████▎ | 1148/1386 [01:22<00:06, 35.85it/s]"
     ]
    },
    {
     "name": "stdout",
     "output_type": "stream",
     "text": [
      "['に', '瀕し', 'て']\n",
      "['てる', 'ん', 'でしょう']\n",
      "['な', 'ん', 'でしょう']\n"
     ]
    },
    {
     "name": "stderr",
     "output_type": "stream",
     "text": [
      " 84%|████████▎ | 1160/1386 [01:23<00:06, 35.55it/s]"
     ]
    },
    {
     "name": "stdout",
     "output_type": "stream",
     "text": [
      "['です', 'ね', '…']\n",
      "['と', 'か', '天国']\n"
     ]
    },
    {
     "name": "stderr",
     "output_type": "stream",
     "text": [
      " 85%|████████▍ | 1172/1386 [01:23<00:05, 36.38it/s]"
     ]
    },
    {
     "name": "stdout",
     "output_type": "stream",
     "text": [
      "['が', '若槻', 'っぽい']\n",
      "['ない', 'ん', 'でしょう']\n"
     ]
    },
    {
     "name": "stderr",
     "output_type": "stream",
     "text": [
      " 85%|████████▌ | 1180/1386 [01:23<00:05, 35.53it/s]"
     ]
    },
    {
     "name": "stdout",
     "output_type": "stream",
     "text": [
      "['て', '焦がし', 'たい']\n",
      "['の', '白土', '人']\n",
      "['から', 'そう', '急かす']\n"
     ]
    },
    {
     "name": "stderr",
     "output_type": "stream",
     "text": [
      " 87%|████████▋ | 1201/1386 [01:24<00:04, 37.22it/s]"
     ]
    },
    {
     "name": "stdout",
     "output_type": "stream",
     "text": [
      "['たら', '猫好き', 'に']\n"
     ]
    },
    {
     "name": "stderr",
     "output_type": "stream",
     "text": [
      " 87%|████████▋ | 1209/1386 [01:24<00:04, 36.03it/s]"
     ]
    },
    {
     "name": "stdout",
     "output_type": "stream",
     "text": [
      "['だ', 'か', '取り留め']\n",
      "['で', '済ま', 'せよう']\n",
      "['っけ', '、', '時代']\n",
      "['です', 'けど', '名店']\n"
     ]
    },
    {
     "name": "stderr",
     "output_type": "stream",
     "text": [
      " 88%|████████▊ | 1214/1386 [01:24<00:04, 38.04it/s]"
     ]
    },
    {
     "name": "stdout",
     "output_type": "stream",
     "text": [
      "['なんか', 'ダイソン', 'です']\n"
     ]
    },
    {
     "name": "stderr",
     "output_type": "stream",
     "text": [
      " 89%|████████▉ | 1235/1386 [01:25<00:04, 33.39it/s]"
     ]
    },
    {
     "name": "stdout",
     "output_type": "stream",
     "text": [
      "['は', '痛み', 'にく']\n",
      "['で', 'たまに', 'マージャン']\n"
     ]
    },
    {
     "name": "stderr",
     "output_type": "stream",
     "text": [
      " 90%|████████▉ | 1243/1386 [01:25<00:04, 31.97it/s]"
     ]
    },
    {
     "name": "stdout",
     "output_type": "stream",
     "text": [
      "['れる', 'こと', 'でしょう']\n",
      "['よっ', '笑い', '。']\n"
     ]
    },
    {
     "name": "stderr",
     "output_type": "stream",
     "text": [
      " 90%|█████████ | 1252/1386 [01:25<00:03, 33.62it/s]"
     ]
    },
    {
     "name": "stdout",
     "output_type": "stream",
     "text": [
      "['も', 'オリンピック', '書い']\n",
      "['す', 'っ', 'っ']\n",
      "['に', '一人', 'だけ']\n",
      "['と', '一人', 'で']\n"
     ]
    },
    {
     "name": "stderr",
     "output_type": "stream",
     "text": [
      " 91%|█████████ | 1260/1386 [01:26<00:03, 32.67it/s]"
     ]
    },
    {
     "name": "stdout",
     "output_type": "stream",
     "text": [
      "['と', 'か', '外']\n",
      "['て', '食べれ', 'ます']\n"
     ]
    },
    {
     "name": "stderr",
     "output_type": "stream",
     "text": [
      " 91%|█████████▏| 1268/1386 [01:26<00:03, 31.70it/s]"
     ]
    },
    {
     "name": "stdout",
     "output_type": "stream",
     "text": [
      "['の', 'で', '短所']\n",
      "['な', 'マスコット', 'キャラクター']\n"
     ]
    },
    {
     "name": "stderr",
     "output_type": "stream",
     "text": [
      " 93%|█████████▎| 1284/1386 [01:26<00:02, 34.55it/s]"
     ]
    },
    {
     "name": "stdout",
     "output_type": "stream",
     "text": [
      "['を', '0', 'くらい']\n",
      "['も', 'さっさと', '美味しい']\n",
      "['に', 'は', '敵い']\n",
      "['です', 'かー', '。']\n",
      "['です', 'か', '年始']\n"
     ]
    },
    {
     "name": "stderr",
     "output_type": "stream",
     "text": [
      " 93%|█████████▎| 1292/1386 [01:27<00:02, 33.80it/s]"
     ]
    },
    {
     "name": "stdout",
     "output_type": "stream",
     "text": [
      "['から', '段', 'ボール']\n",
      "['ほど', 'あり', '一気']\n",
      "['か', 'も', '必須']\n"
     ]
    },
    {
     "name": "stderr",
     "output_type": "stream",
     "text": [
      " 94%|█████████▍| 1300/1386 [01:27<00:02, 34.33it/s]"
     ]
    },
    {
     "name": "stdout",
     "output_type": "stream",
     "text": [
      "['と', 'か', '日本']\n",
      "['と', 'か', '絶対']\n"
     ]
    },
    {
     "name": "stderr",
     "output_type": "stream",
     "text": [
      " 94%|█████████▍| 1308/1386 [01:27<00:02, 33.00it/s]"
     ]
    },
    {
     "name": "stdout",
     "output_type": "stream",
     "text": [
      "['そう', 'す', 'ね']\n",
      "['へ', '通っ', 'てらっしゃる']\n",
      "['と', 'いう', 'オーストラリア']\n",
      "['が', '切磋', '琢磨']\n",
      "['ほど', '0', '年']\n"
     ]
    },
    {
     "name": "stderr",
     "output_type": "stream",
     "text": [
      " 95%|█████████▌| 1317/1386 [01:27<00:02, 33.68it/s]"
     ]
    },
    {
     "name": "stdout",
     "output_type": "stream",
     "text": [
      "['な', 'ん', 'でしょう']\n",
      "['が', '切磋', '琢磨']\n",
      "['みたい', 'に', 'かなう']\n",
      "['た', 'から', '…']\n"
     ]
    },
    {
     "name": "stderr",
     "output_type": "stream",
     "text": [
      " 96%|█████████▌| 1325/1386 [01:28<00:01, 33.56it/s]"
     ]
    },
    {
     "name": "stdout",
     "output_type": "stream",
     "text": [
      "['の', 'で', 'ガッツリ']\n",
      "['と', '黒猫', 'です']\n"
     ]
    },
    {
     "name": "stderr",
     "output_type": "stream",
     "text": [
      " 96%|█████████▌| 1333/1386 [01:28<00:01, 34.81it/s]"
     ]
    },
    {
     "name": "stdout",
     "output_type": "stream",
     "text": [
      "['も', 'ここ', '0']\n",
      "['は', '大変', 'でしょう']\n"
     ]
    },
    {
     "name": "stderr",
     "output_type": "stream",
     "text": [
      " 97%|█████████▋| 1345/1386 [01:28<00:01, 33.91it/s]"
     ]
    },
    {
     "name": "stdout",
     "output_type": "stream",
     "text": [
      "['みたい', 'に', 'かなう']\n",
      "['で', '…', '。']\n",
      "['か', 'は', '作り置き']\n"
     ]
    },
    {
     "name": "stderr",
     "output_type": "stream",
     "text": [
      " 98%|█████████▊| 1358/1386 [01:29<00:00, 32.56it/s]"
     ]
    },
    {
     "name": "stdout",
     "output_type": "stream",
     "text": [
      "['なら', '\"', '良い']\n",
      "['でし', 'た', '…']\n",
      "['た', 'くらい', 'でしょう']\n"
     ]
    },
    {
     "name": "stderr",
     "output_type": "stream",
     "text": [
      " 99%|█████████▊| 1366/1386 [01:29<00:00, 32.53it/s]"
     ]
    },
    {
     "name": "stdout",
     "output_type": "stream",
     "text": [
      "['が', '勉強', '学校']\n",
      "['なんて', '個人', 'も']\n",
      "['と', 'か', '暇']\n",
      "['の', '踏み場', 'は']\n"
     ]
    },
    {
     "name": "stderr",
     "output_type": "stream",
     "text": [
      " 99%|█████████▉| 1375/1386 [01:29<00:00, 35.23it/s]"
     ]
    },
    {
     "name": "stdout",
     "output_type": "stream",
     "text": [
      "['の', '踏み場', 'は']\n",
      "['は', '仕方ない', 'です']\n"
     ]
    },
    {
     "name": "stderr",
     "output_type": "stream",
     "text": [
      "100%|██████████| 1386/1386 [01:29<00:00, 15.42it/s]"
     ]
    },
    {
     "name": "stdout",
     "output_type": "stream",
     "text": [
      "['た', '飛行', '機']\n"
     ]
    },
    {
     "name": "stderr",
     "output_type": "stream",
     "text": [
      "\n"
     ]
    }
   ],
   "source": [
    "y_pred_2 = []\n",
    "for i, utt in enumerate( tqdm( sys_utt ) )  :\n",
    "    cleaned = clean_text(utt).replace(\"?\", \"。\").replace(\"!\", \"\")\n",
    "    # print(cleaned)\n",
    "    if sentence_judge(cleaned, N=3):\n",
    "        y_pred_2.append(0)\n",
    "    else:\n",
    "        y_pred_2.append(1)\n",
    "    # if i==35:\n",
    "    #     break"
   ]
  },
  {
   "cell_type": "code",
   "execution_count": 13,
   "metadata": {},
   "outputs": [
    {
     "data": {
      "text/plain": [
       "876"
      ]
     },
     "execution_count": 13,
     "metadata": {},
     "output_type": "execute_result"
    }
   ],
   "source": [
    "y_pred_2.count(0)"
   ]
  },
  {
   "cell_type": "code",
   "execution_count": 18,
   "metadata": {},
   "outputs": [
    {
     "name": "stdout",
     "output_type": "stream",
     "text": [
      "confusion matrix = \n",
      " [[758 225]\n",
      " [118 285]]\n",
      "accuracy =  0.7525252525252525\n",
      "precision =  0.5588235294117647\n",
      "recall =  0.707196029776675\n",
      "f1 score =  0.6243154435925521\n"
     ]
    }
   ],
   "source": [
    "score(y, y_pred_2)"
   ]
  },
  {
   "cell_type": "markdown",
   "metadata": {},
   "source": [
    "- 使い方が難しい\n",
    "\n",
    "        confusion matrix = \n",
    "        [[666 713]\n",
    "        [  6   1]]\n",
    "        accuracy =  0.48124098124098125\n",
    "        precision =  0.0014005602240896359\n",
    "        recall =  0.14285714285714285\n",
    "        f1 score =  0.0027739251040221915\n",
    "\n",
    "- ちょっと改善(プログラムミスを修正)\n",
    "\n",
    "        confusion matrix = \n",
    "        [[870 509]\n",
    "        [  6   1]]\n",
    "        accuracy =  0.6284271284271284\n",
    "        precision =  0.00196078431372549\n",
    "        recall =  0.14285714285714285\n",
    "        f1 score =  0.0038684719535783366\n",
    "\n",
    "    - 意外と普通っぽい ngram がない\n",
    "        - [\"を\", \"覚える\", *]\n",
    "\n",
    "    - スコア化はせず， ngram が存在しなければアウトと仮定した\n",
    "        - 先行研究のモデルで，そういったボーダーは存在しない\n",
    "\n",
    "- 用法エラー + 誤情報\n",
    "\n",
    "        confusion matrix = \n",
    "        [[758 225]\n",
    "        [118 285]]\n",
    "        accuracy =  0.7525252525252525\n",
    "        precision =  0.5588235294117647\n",
    "        recall =  0.707196029776675\n",
    "        f1 score =  0.6243154435925521\n",
    "    \n",
    "\n",
    "    "
   ]
  },
  {
   "cell_type": "code",
   "execution_count": 19,
   "metadata": {},
   "outputs": [
    {
     "name": "stdout",
     "output_type": "stream",
     "text": [
      "success save : ../X_y_data/base_y_pred/utt_content.pickle\n"
     ]
    }
   ],
   "source": [
    "data_path = \"../X_y_data/base_y_pred/\"\n",
    "# data_name = \"context_content.pickle\"\n",
    "data_name = \"utt_content.pickle\"\n",
    "dataM = DataManager(data_path)\n",
    "dataM.save_data(data_name, [y, y_pred_2])"
   ]
  },
  {
   "cell_type": "code",
   "execution_count": 16,
   "metadata": {},
   "outputs": [
    {
     "data": {
      "text/html": [
       "<div>\n",
       "<style scoped>\n",
       "    .dataframe tbody tr th:only-of-type {\n",
       "        vertical-align: middle;\n",
       "    }\n",
       "\n",
       "    .dataframe tbody tr th {\n",
       "        vertical-align: top;\n",
       "    }\n",
       "\n",
       "    .dataframe thead th {\n",
       "        text-align: right;\n",
       "    }\n",
       "</style>\n",
       "<table border=\"1\" class=\"dataframe\">\n",
       "  <thead>\n",
       "    <tr style=\"text-align: right;\">\n",
       "      <th></th>\n",
       "      <th>surface</th>\n",
       "      <th>part_of_speech</th>\n",
       "      <th>infl_type</th>\n",
       "      <th>infl_form</th>\n",
       "      <th>base_form</th>\n",
       "      <th>reading</th>\n",
       "      <th>phonetic</th>\n",
       "    </tr>\n",
       "  </thead>\n",
       "  <tbody>\n",
       "    <tr>\n",
       "      <th>0</th>\n",
       "      <td>頼りがい</td>\n",
       "      <td>名詞-普通名詞-一般-</td>\n",
       "      <td></td>\n",
       "      <td></td>\n",
       "      <td>タヨリガイ</td>\n",
       "      <td>[頼り甲斐, 頼りがい, タヨリガイ, 頼りがい, タヨリガイ]</td>\n",
       "      <td>*</td>\n",
       "    </tr>\n",
       "    <tr>\n",
       "      <th>1</th>\n",
       "      <td>の</td>\n",
       "      <td>助詞-格助詞--</td>\n",
       "      <td></td>\n",
       "      <td></td>\n",
       "      <td>ノ</td>\n",
       "      <td>[の, の, ノ, の, ノ]</td>\n",
       "      <td>*</td>\n",
       "    </tr>\n",
       "    <tr>\n",
       "      <th>2</th>\n",
       "      <td>あっ</td>\n",
       "      <td>動詞-非自立可能--</td>\n",
       "      <td>五段-ラ行</td>\n",
       "      <td>連用形-促音便</td>\n",
       "      <td>アル</td>\n",
       "      <td>[有る, あっ, アッ, ある, アル]</td>\n",
       "      <td>*</td>\n",
       "    </tr>\n",
       "    <tr>\n",
       "      <th>3</th>\n",
       "      <td>た</td>\n",
       "      <td>助動詞---</td>\n",
       "      <td>助動詞-タ</td>\n",
       "      <td>連体形-一般</td>\n",
       "      <td>タ</td>\n",
       "      <td>[た, た, タ, た, タ]</td>\n",
       "      <td>*</td>\n",
       "    </tr>\n",
       "    <tr>\n",
       "      <th>4</th>\n",
       "      <td>可愛く</td>\n",
       "      <td>形容詞-一般--</td>\n",
       "      <td>形容詞</td>\n",
       "      <td>連用形-一般</td>\n",
       "      <td>カワイイ</td>\n",
       "      <td>[可愛い, 可愛く, カワイク, 可愛い, カワイー]</td>\n",
       "      <td>*</td>\n",
       "    </tr>\n",
       "    <tr>\n",
       "      <th>5</th>\n",
       "      <td>ない</td>\n",
       "      <td>形容詞-非自立可能--</td>\n",
       "      <td>形容詞</td>\n",
       "      <td>連体形-一般</td>\n",
       "      <td>ナイ</td>\n",
       "      <td>[無い, ない, ナイ, ない, ナイ]</td>\n",
       "      <td>*</td>\n",
       "    </tr>\n",
       "    <tr>\n",
       "      <th>6</th>\n",
       "      <td>兄</td>\n",
       "      <td>名詞-普通名詞-一般-</td>\n",
       "      <td></td>\n",
       "      <td></td>\n",
       "      <td>アニ</td>\n",
       "      <td>[兄, 兄, アニ, 兄, アニ]</td>\n",
       "      <td>*</td>\n",
       "    </tr>\n",
       "    <tr>\n",
       "      <th>7</th>\n",
       "      <td>さん</td>\n",
       "      <td>接尾辞-名詞的-一般-</td>\n",
       "      <td></td>\n",
       "      <td></td>\n",
       "      <td>サン</td>\n",
       "      <td>[さん, さん, サン, さん, サン]</td>\n",
       "      <td>*</td>\n",
       "    </tr>\n",
       "    <tr>\n",
       "      <th>8</th>\n",
       "      <td>が</td>\n",
       "      <td>助詞-格助詞--</td>\n",
       "      <td></td>\n",
       "      <td></td>\n",
       "      <td>ガ</td>\n",
       "      <td>[が, が, ガ, が, ガ]</td>\n",
       "      <td>*</td>\n",
       "    </tr>\n",
       "    <tr>\n",
       "      <th>9</th>\n",
       "      <td>死ん</td>\n",
       "      <td>動詞-一般--</td>\n",
       "      <td>五段-ナ行</td>\n",
       "      <td>連用形-撥音便</td>\n",
       "      <td>シヌ</td>\n",
       "      <td>[死ぬ, 死ん, シン, 死ぬ, シヌ]</td>\n",
       "      <td>*</td>\n",
       "    </tr>\n",
       "    <tr>\n",
       "      <th>10</th>\n",
       "      <td>だ</td>\n",
       "      <td>助動詞---</td>\n",
       "      <td>助動詞-タ</td>\n",
       "      <td>連体形-一般</td>\n",
       "      <td>タ</td>\n",
       "      <td>[た, だ, ダ, だ, ダ]</td>\n",
       "      <td>*</td>\n",
       "    </tr>\n",
       "  </tbody>\n",
       "</table>\n",
       "</div>"
      ],
      "text/plain": [
       "   surface part_of_speech infl_type infl_form base_form  \\\n",
       "0     頼りがい    名詞-普通名詞-一般-                         タヨリガイ   \n",
       "1        の       助詞-格助詞--                             ノ   \n",
       "2       あっ     動詞-非自立可能--     五段-ラ行   連用形-促音便        アル   \n",
       "3        た         助動詞---     助動詞-タ    連体形-一般         タ   \n",
       "4      可愛く       形容詞-一般--       形容詞    連用形-一般      カワイイ   \n",
       "5       ない    形容詞-非自立可能--       形容詞    連体形-一般        ナイ   \n",
       "6        兄    名詞-普通名詞-一般-                            アニ   \n",
       "7       さん    接尾辞-名詞的-一般-                            サン   \n",
       "8        が       助詞-格助詞--                             ガ   \n",
       "9       死ん        動詞-一般--     五段-ナ行   連用形-撥音便        シヌ   \n",
       "10       だ         助動詞---     助動詞-タ    連体形-一般         タ   \n",
       "\n",
       "                             reading phonetic  \n",
       "0   [頼り甲斐, 頼りがい, タヨリガイ, 頼りがい, タヨリガイ]        *  \n",
       "1                    [の, の, ノ, の, ノ]        *  \n",
       "2               [有る, あっ, アッ, ある, アル]        *  \n",
       "3                    [た, た, タ, た, タ]        *  \n",
       "4        [可愛い, 可愛く, カワイク, 可愛い, カワイー]        *  \n",
       "5               [無い, ない, ナイ, ない, ナイ]        *  \n",
       "6                  [兄, 兄, アニ, 兄, アニ]        *  \n",
       "7               [さん, さん, サン, さん, サン]        *  \n",
       "8                    [が, が, ガ, が, ガ]        *  \n",
       "9               [死ぬ, 死ん, シン, 死ぬ, シヌ]        *  \n",
       "10                   [た, だ, ダ, だ, ダ]        *  "
      ]
     },
     "execution_count": 16,
     "metadata": {},
     "output_type": "execute_result"
    }
   ],
   "source": [
    "df = analyzer_unidic.analyze_with_dataframe(\"頼りがいのあった可愛くない兄さんが死んだ\")\n",
    "df"
   ]
  }
 ],
 "metadata": {
  "interpreter": {
   "hash": "31f2aee4e71d21fbe5cf8b01ff0e069b9275f58929596ceb00d14d90e3e16cd6"
  },
  "kernelspec": {
   "display_name": "Python 3.6.9 64-bit",
   "language": "python",
   "name": "python3"
  },
  "language_info": {
   "codemirror_mode": {
    "name": "ipython",
    "version": 3
   },
   "file_extension": ".py",
   "mimetype": "text/x-python",
   "name": "python",
   "nbconvert_exporter": "python",
   "pygments_lexer": "ipython3",
   "version": "3.6.9"
  },
  "orig_nbformat": 4
 },
 "nbformat": 4,
 "nbformat_minor": 2
}
