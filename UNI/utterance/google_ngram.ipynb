{
 "cells": [
  {
   "cell_type": "code",
   "execution_count": 1,
   "metadata": {},
   "outputs": [
    {
     "name": "stdout",
     "output_type": "stream",
     "text": [
      "/home/yamada/.local/lib/python3.6/site-packages/unidic/dicdir\n"
     ]
    },
    {
     "data": {
      "text/plain": [
       "<Swig Object of type 'MeCab::Tagger *' at 0x7f690827c6d0>"
      ]
     },
     "execution_count": 1,
     "metadata": {},
     "output_type": "execute_result"
    }
   ],
   "source": [
    "import MeCab\n",
    "import unidic\n",
    "print(unidic.DICDIR)\n",
    "MeCab.Tagger(\"-d\" + unidic.DICDIR)"
   ]
  },
  {
   "cell_type": "code",
   "execution_count": null,
   "metadata": {},
   "outputs": [],
   "source": []
  },
  {
   "cell_type": "markdown",
   "metadata": {},
   "source": [
    "- よくわからないもの\n",
    "\n",
    "    \n",
    "    "
   ]
  },
  {
   "cell_type": "code",
   "execution_count": 2,
   "metadata": {},
   "outputs": [],
   "source": [
    "import json\n",
    "import os\n",
    "import pandas as pd\n",
    "import numpy as np\n",
    "from pathlib import Path\n",
    "import collections\n",
    "from sklearn.model_selection import train_test_split\n",
    "from sklearn import metrics\n",
    "\n",
    "import sys\n",
    "sys.path.append(\"../\")\n",
    "from datatools.analyzer import *\n",
    "from utterance.error_tools import *\n",
    "\n",
    "from datatools.maneger import DataManager\n",
    "from datatools.preproc import Preprocessor"
   ]
  },
  {
   "cell_type": "code",
   "execution_count": 3,
   "metadata": {},
   "outputs": [],
   "source": [
    "ngram_path = \"../../corpus/google/3-gram/\""
   ]
  },
  {
   "cell_type": "code",
   "execution_count": 4,
   "metadata": {},
   "outputs": [],
   "source": [
    "key1_set = set( os.listdir(ngram_path) ) "
   ]
  },
  {
   "cell_type": "code",
   "execution_count": null,
   "metadata": {},
   "outputs": [],
   "source": []
  },
  {
   "cell_type": "code",
   "execution_count": 17,
   "metadata": {},
   "outputs": [],
   "source": [
    "path = \"../eval_labeled/\"\n",
    "datalist = ['DCM', 'DIT', 'IRS']\n",
    "convs = read_conv(path, datalist)\n",
    "\n",
    "error = \"Grammatical error\"\n",
    "# errors = ['Grammatical error', \"Uninterpretable\"]\n",
    "errors = ['Semantic error', \"Wrong information\"]\n",
    "sys_utt = []\n",
    "y = []\n",
    "for conv in convs:\n",
    "    for ut in conv:\n",
    "        if ut.is_system() and ut.is_exist_error():\n",
    "            if not ut.utt[-1] in [\"？\", \"！\", \"。\", \"!\"]:\n",
    "                sys_utt.append( clean_text( ut.utt+\"。\" ))\n",
    "                # sys_utt.append(ut.utt)\n",
    "            else:   \n",
    "                sys_utt.append(ut.utt)\n",
    "            if ut.is_error_included(errors):\n",
    "                y.append(1)\n",
    "            else:\n",
    "                y.append(0)"
   ]
  },
  {
   "cell_type": "code",
   "execution_count": 6,
   "metadata": {},
   "outputs": [
    {
     "name": "stdout",
     "output_type": "stream",
     "text": [
      "len of y:1386, error '['Grammatical error', 'Uninterpretable']' counts:7\n"
     ]
    }
   ],
   "source": [
    "print(\"len of y:{0}, error '{1}' counts:{2}\".format(len(y), errors, y.count(1)))"
   ]
  },
  {
   "cell_type": "code",
   "execution_count": 7,
   "metadata": {},
   "outputs": [],
   "source": [
    "def load_dict(path, key1):\n",
    "    filename = key_formated(key1)\n",
    "    with open(path+filename, \"r\") as f:\n",
    "        key1_dict = json.load(f) \n",
    "    return key1_dict  "
   ]
  },
  {
   "cell_type": "code",
   "execution_count": 8,
   "metadata": {},
   "outputs": [],
   "source": [
    "def key_formated(key1):\n",
    "    return \"ngram_\"+key1+\".json\""
   ]
  },
  {
   "cell_type": "code",
   "execution_count": 9,
   "metadata": {},
   "outputs": [],
   "source": [
    "key2dict = dict()\n",
    "registerform_dict = dict()\n",
    "analyzer_unidic=  Analyzer(Tokenizer())"
   ]
  },
  {
   "cell_type": "code",
   "execution_count": 10,
   "metadata": {},
   "outputs": [],
   "source": [
    "#  を考慮\n",
    "# 何故か↑が出てくる\n",
    "def judge_key3(key1_dict, ngram):\n",
    "    key1 = ngram[0]\n",
    "    key2 = ngram[1]\n",
    "    key3 = ngram[2]\n",
    "\n",
    "    if key2 not in key1_dict[key1]:\n",
    "        # '\"'をkeyにして聞いてみる\n",
    "        if '\"' in key1_dict[key1] and key2 in key1_dict[key1]['\"']:\n",
    "            return True\n",
    "        if '、' in key1_dict[key1] and key2 in key1_dict[key1]['、']:\n",
    "            return True\n",
    "        return False\n",
    "    \n",
    "    if key3 not in key1_dict[key1][key2]:\n",
    "        return False\n",
    "\n",
    "    return True "
   ]
  },
  {
   "cell_type": "code",
   "execution_count": 11,
   "metadata": {},
   "outputs": [],
   "source": [
    "\n",
    "def search_registerforam(key, reading):\n",
    "    filename = key_formated(key)\n",
    "    if filename in key1_set:\n",
    "        return key\n",
    "    # 登録されていない\n",
    "    else:\n",
    "        for other in reading:\n",
    "            filename = key_formated(key)\n",
    "            if filename in key1_set:\n",
    "                registerform_dict[key] = other\n",
    "                return other\n",
    "        return key\n",
    "\n",
    "\n",
    "def sentence_judge(sentence, N=3):\n",
    "    \n",
    "    df = analyzer_unidic.analyze_with_dataframe(sentence)\n",
    "    \n",
    "    # 登録\n",
    "    sentence_ = \"\"\n",
    "    for txt, read in zip(df.surface, df.reading):\n",
    "        sentence_ += search_registerforam(txt, read)\n",
    "    sents = sentence2docs(sentence_, sents_span=True)\n",
    "    # print(sents)\n",
    "\n",
    "    # print(tokens)\n",
    "    ngram_text = []\n",
    "    ngram_pos = []\n",
    "\n",
    "    for sent in sents:\n",
    "        # 各文章 : sent\n",
    "        df = analyzer_unidic.analyze_with_dataframe(\"\".join([token.orth_ for token in sent]))\n",
    "        surfaces = []\n",
    "        poses = []\n",
    "        readings = []\n",
    "        for txt, p, read in zip(df.surface, df.part_of_speech, df.reading):\n",
    "            surfaces.append(txt)\n",
    "            readings.append(read)\n",
    "            poses.append(p)\n",
    "\n",
    "            for i in range(len(surfaces)-N+1):\n",
    "                # print(L[i:i+N])\n",
    "                ngram_text.append(surfaces[i:i+N])\n",
    "                ngram_pos.append(poses[i:i+N])\n",
    "                # ngram_reading.append(readings[i:i+N])\n",
    "    \n",
    "    # print(ngram_text)\n",
    "    # return\n",
    "    \n",
    "    for ngram, pgram in zip(ngram_text, ngram_pos):\n",
    "        # if \"助動詞\" in pgram[1] or \"助詞\" in pgram[1] or \"助動詞\" in pgram[0] or \"助詞\" in pgram[0]:\n",
    "        # if \"助動詞\" in pgram[0] or \"助詞\" in pgram[0]:\n",
    "        if \"助詞\" in pgram[1]:\n",
    "            # print(\"\\tcontext : {0}| ->\".format(ngram))\n",
    "\n",
    "            key1 = ngram[0]\n",
    "            if key_formated(key1) not in key1_set:\n",
    "                continue\n",
    "\n",
    "            if key1 in key2dict:\n",
    "                key1_dict = key2dict[key1]\n",
    "            else:\n",
    "                key1_dict = load_dict(ngram_path, key1)\n",
    "                key2dict[key1] = key1_dict\n",
    "\n",
    "            # チェック\n",
    "            if not judge_key3(key1_dict, ngram):\n",
    "                print(ngram)\n",
    "                # reading を調整\n",
    "                \n",
    "                # 見つかれば，その語彙を登録\n",
    "                return False\n",
    "    return True\n",
    "            \n"
   ]
  },
  {
   "cell_type": "code",
   "execution_count": 12,
   "metadata": {},
   "outputs": [
    {
     "name": "stderr",
     "output_type": "stream",
     "text": [
      "  0%|          | 2/1386 [00:00<08:18,  2.78it/s]"
     ]
    },
    {
     "name": "stdout",
     "output_type": "stream",
     "text": [
      "['遍路', 'の', '逆回り']\n"
     ]
    },
    {
     "name": "stderr",
     "output_type": "stream",
     "text": [
      "  4%|▍         | 55/1386 [00:20<03:04,  7.20it/s] "
     ]
    },
    {
     "name": "stdout",
     "output_type": "stream",
     "text": [
      "['天麩羅', 'は', '食べる']\n",
      "['寿司', 'は', '縁側']\n",
      "['なん', 'と', '。']\n"
     ]
    },
    {
     "name": "stderr",
     "output_type": "stream",
     "text": [
      "  5%|▌         | 70/1386 [00:25<03:51,  5.68it/s]"
     ]
    },
    {
     "name": "stdout",
     "output_type": "stream",
     "text": [
      "['渾名', 'は', 'あり']\n",
      "['渾名', 'は', 'あり']\n",
      "['渾名', 'を', '持ち']\n",
      "['同僚', 'を', '渾名']\n",
      "['同僚', 'を', '渾名']\n"
     ]
    },
    {
     "name": "stderr",
     "output_type": "stream",
     "text": [
      "  5%|▌         | 74/1386 [00:25<02:36,  8.36it/s]"
     ]
    },
    {
     "name": "stdout",
     "output_type": "stream",
     "text": [
      "['掛け声', 'が', '出す']\n",
      "['掛け声', 'を', '覚える']\n",
      "['大声', 'で', '上げる']\n"
     ]
    },
    {
     "name": "stderr",
     "output_type": "stream",
     "text": [
      "  6%|▌         | 85/1386 [00:26<01:25, 15.21it/s]"
     ]
    },
    {
     "name": "stdout",
     "output_type": "stream",
     "text": [
      "['映画', 'は', '一人']\n"
     ]
    },
    {
     "name": "stderr",
     "output_type": "stream",
     "text": [
      "  6%|▋         | 88/1386 [00:26<01:25, 15.24it/s]"
     ]
    },
    {
     "name": "stdout",
     "output_type": "stream",
     "text": [
      "['位', 'ヶ', '岳']\n",
      "['位', 'ヶ', '岳']\n",
      "['デート', 'で', '御洒落']\n"
     ]
    },
    {
     "name": "stderr",
     "output_type": "stream",
     "text": [
      "  7%|▋         | 94/1386 [00:26<01:30, 14.26it/s]"
     ]
    },
    {
     "name": "stdout",
     "output_type": "stream",
     "text": [
      "['勉強', 'も', '頑張ろう']\n",
      "['フラワー', 'は', '手芸']\n"
     ]
    },
    {
     "name": "stderr",
     "output_type": "stream",
     "text": [
      "  7%|▋         | 97/1386 [00:26<01:18, 16.46it/s]"
     ]
    },
    {
     "name": "stdout",
     "output_type": "stream",
     "text": [
      "['感じる', 'ん', 'でしょう']\n"
     ]
    },
    {
     "name": "stderr",
     "output_type": "stream",
     "text": [
      "  8%|▊         | 104/1386 [00:27<01:09, 18.36it/s]"
     ]
    },
    {
     "name": "stdout",
     "output_type": "stream",
     "text": [
      "['外食', 'は', 'い']\n",
      "['独身', 'で', '0']\n",
      "['由紀恵', 'は', '怖い']\n"
     ]
    },
    {
     "name": "stderr",
     "output_type": "stream",
     "text": [
      "  8%|▊         | 110/1386 [00:31<08:17,  2.57it/s]"
     ]
    },
    {
     "name": "stdout",
     "output_type": "stream",
     "text": [
      "['デート', 'で', '御洒落']\n"
     ]
    },
    {
     "name": "stderr",
     "output_type": "stream",
     "text": [
      "  8%|▊         | 112/1386 [00:31<07:06,  2.99it/s]"
     ]
    },
    {
     "name": "stdout",
     "output_type": "stream",
     "text": [
      "['争い', 'が', '起ころう']\n"
     ]
    },
    {
     "name": "stderr",
     "output_type": "stream",
     "text": [
      "  8%|▊         | 114/1386 [00:33<11:26,  1.85it/s]"
     ]
    },
    {
     "name": "stdout",
     "output_type": "stream",
     "text": [
      "['と', 'か', '泣き']\n"
     ]
    },
    {
     "name": "stderr",
     "output_type": "stream",
     "text": [
      "  8%|▊         | 117/1386 [00:34<08:01,  2.64it/s]"
     ]
    },
    {
     "name": "stdout",
     "output_type": "stream",
     "text": [
      "['なら', 'を', '使う']\n",
      "['池', 'は', '寒い']\n"
     ]
    },
    {
     "name": "stderr",
     "output_type": "stream",
     "text": [
      "  9%|▉         | 126/1386 [00:34<02:49,  7.45it/s]"
     ]
    },
    {
     "name": "stdout",
     "output_type": "stream",
     "text": [
      "['たい', 'ん', 'でしょう']\n"
     ]
    },
    {
     "name": "stderr",
     "output_type": "stream",
     "text": [
      " 10%|▉         | 135/1386 [00:35<01:57, 10.63it/s]"
     ]
    },
    {
     "name": "stdout",
     "output_type": "stream",
     "text": [
      "['てる', 'ん', 'でしょう']\n",
      "['微熱', 'は', '多い']\n"
     ]
    },
    {
     "name": "stderr",
     "output_type": "stream",
     "text": [
      " 11%|█         | 149/1386 [00:37<02:06,  9.80it/s]"
     ]
    },
    {
     "name": "stdout",
     "output_type": "stream",
     "text": [
      "['汗', 'は', 'かっこ']\n"
     ]
    },
    {
     "name": "stderr",
     "output_type": "stream",
     "text": [
      " 11%|█▏        | 159/1386 [00:39<02:38,  7.74it/s]"
     ]
    },
    {
     "name": "stdout",
     "output_type": "stream",
     "text": [
      "['さん', 'の', '朝御飯']\n",
      "['宇宙', 'で', 'プレー']\n"
     ]
    },
    {
     "name": "stderr",
     "output_type": "stream",
     "text": [
      " 12%|█▏        | 161/1386 [00:39<02:16,  8.95it/s]"
     ]
    },
    {
     "name": "stdout",
     "output_type": "stream",
     "text": [
      "['パー', 'より', '0']\n"
     ]
    },
    {
     "name": "stderr",
     "output_type": "stream",
     "text": [
      " 12%|█▏        | 168/1386 [00:39<01:45, 11.50it/s]"
     ]
    },
    {
     "name": "stdout",
     "output_type": "stream",
     "text": [
      "['時期', 'から', '資格']\n"
     ]
    },
    {
     "name": "stderr",
     "output_type": "stream",
     "text": [
      " 13%|█▎        | 176/1386 [00:40<01:14, 16.19it/s]"
     ]
    },
    {
     "name": "stdout",
     "output_type": "stream",
     "text": [
      "['最近', 'じゃあ', '漫画']\n",
      "['干支', 'は', '辰年']\n",
      "['です', 'か', '…']\n"
     ]
    },
    {
     "name": "stderr",
     "output_type": "stream",
     "text": [
      " 13%|█▎        | 185/1386 [00:40<01:08, 17.63it/s]"
     ]
    },
    {
     "name": "stdout",
     "output_type": "stream",
     "text": [
      "['本当', 'に', 'ラーメン']\n",
      "['補給', 'は', '少ない']\n"
     ]
    },
    {
     "name": "stderr",
     "output_type": "stream",
     "text": [
      " 14%|█▍        | 193/1386 [00:41<00:54, 21.72it/s]"
     ]
    },
    {
     "name": "stdout",
     "output_type": "stream",
     "text": [
      "['料理', 'は', '手早い']\n"
     ]
    },
    {
     "name": "stderr",
     "output_type": "stream",
     "text": [
      " 14%|█▍        | 200/1386 [00:41<00:54, 21.91it/s]"
     ]
    },
    {
     "name": "stdout",
     "output_type": "stream",
     "text": [
      "['つける', 'と', 'ホッと']\n"
     ]
    },
    {
     "name": "stderr",
     "output_type": "stream",
     "text": [
      " 15%|█▌        | 208/1386 [00:41<00:43, 27.33it/s]"
     ]
    },
    {
     "name": "stdout",
     "output_type": "stream",
     "text": [
      "['料理', 'は', '手早い']\n",
      "['独り暮らし', 'は', '食']\n"
     ]
    },
    {
     "name": "stderr",
     "output_type": "stream",
     "text": [
      " 16%|█▌        | 218/1386 [00:42<00:48, 24.03it/s]"
     ]
    },
    {
     "name": "stdout",
     "output_type": "stream",
     "text": [
      "['手', 'を', '貯金']\n",
      "['手', 'を', '貯金']\n"
     ]
    },
    {
     "name": "stderr",
     "output_type": "stream",
     "text": [
      " 16%|█▌        | 225/1386 [00:42<00:55, 20.81it/s]"
     ]
    },
    {
     "name": "stdout",
     "output_type": "stream",
     "text": [
      "['頬', 'に', 'ピアス']\n",
      "['耳朶', 'の', '大きい']\n",
      "['金', 'は', '大き']\n",
      "['お', 'や', '、']\n"
     ]
    },
    {
     "name": "stderr",
     "output_type": "stream",
     "text": [
      " 17%|█▋        | 234/1386 [00:44<02:33,  7.49it/s]"
     ]
    },
    {
     "name": "stdout",
     "output_type": "stream",
     "text": [
      "['スイカ', 'は', '面白い']\n"
     ]
    },
    {
     "name": "stderr",
     "output_type": "stream",
     "text": [
      " 19%|█▊        | 257/1386 [00:45<00:48, 23.44it/s]"
     ]
    },
    {
     "name": "stdout",
     "output_type": "stream",
     "text": [
      "['料理', 'は', 'そろい']\n",
      "['一人', 'で', '食べる']\n"
     ]
    },
    {
     "name": "stderr",
     "output_type": "stream",
     "text": [
      " 20%|██        | 279/1386 [00:46<00:32, 34.18it/s]"
     ]
    },
    {
     "name": "stdout",
     "output_type": "stream",
     "text": [
      "['ウェブ', 'と', 'ホーム']\n",
      "['梅雨入り', 'は', 'いい']\n",
      "['カタ', 'を', '使い']\n"
     ]
    },
    {
     "name": "stderr",
     "output_type": "stream",
     "text": [
      " 21%|██        | 293/1386 [00:46<00:28, 38.05it/s]"
     ]
    },
    {
     "name": "stdout",
     "output_type": "stream",
     "text": [
      "['料理', 'は', '手早い']\n",
      "['泳ぐ', 'を', '覚える']\n",
      "['泳ぐ', 'を', '繰り返す']\n",
      "['泳ぐ', 'を', '覚え']\n",
      "['泳ぐ', 'を', '覚え']\n",
      "['泳ぐ', 'を', '覚える']\n"
     ]
    },
    {
     "name": "stderr",
     "output_type": "stream",
     "text": [
      " 22%|██▏       | 302/1386 [00:47<00:28, 38.21it/s]"
     ]
    },
    {
     "name": "stdout",
     "output_type": "stream",
     "text": [
      "['バニラ', 'は', '相性']\n",
      "['た', 'を', '仕入れる']\n"
     ]
    },
    {
     "name": "stderr",
     "output_type": "stream",
     "text": [
      " 23%|██▎       | 312/1386 [00:47<00:29, 36.86it/s]"
     ]
    },
    {
     "name": "stdout",
     "output_type": "stream",
     "text": [
      "['た', 'は', '鮮度']\n"
     ]
    },
    {
     "name": "stderr",
     "output_type": "stream",
     "text": [
      " 23%|██▎       | 320/1386 [00:47<00:32, 32.47it/s]"
     ]
    },
    {
     "name": "stdout",
     "output_type": "stream",
     "text": [
      "['嗽', 'で', '予防']\n",
      "['嗽', 'で', '予防']\n",
      "['心掛ける', 'か', 'も']\n"
     ]
    },
    {
     "name": "stderr",
     "output_type": "stream",
     "text": [
      " 24%|██▎       | 329/1386 [00:48<00:42, 24.67it/s]"
     ]
    },
    {
     "name": "stdout",
     "output_type": "stream",
     "text": [
      "['天辺', 'を', '軽く']\n",
      "['天辺', 'を', '軽く']\n",
      "['ID', 'に', '行き']\n",
      "['ID', 'に', '行き']\n"
     ]
    },
    {
     "name": "stderr",
     "output_type": "stream",
     "text": [
      " 24%|██▍       | 337/1386 [00:48<00:38, 27.33it/s]"
     ]
    },
    {
     "name": "stdout",
     "output_type": "stream",
     "text": [
      "['求める', 'か', 'も']\n",
      "['せき', 'が', '欲しい']\n",
      "['恋人', 'は', '重い']\n"
     ]
    },
    {
     "name": "stderr",
     "output_type": "stream",
     "text": [
      " 25%|██▍       | 341/1386 [00:48<00:46, 22.58it/s]"
     ]
    },
    {
     "name": "stdout",
     "output_type": "stream",
     "text": [
      "['本当', 'に', 'おもしろい']\n"
     ]
    },
    {
     "name": "stderr",
     "output_type": "stream",
     "text": [
      " 26%|██▌       | 356/1386 [00:49<00:50, 20.32it/s]"
     ]
    },
    {
     "name": "stdout",
     "output_type": "stream",
     "text": [
      "['天気', 'は', '恋しい']\n"
     ]
    },
    {
     "name": "stderr",
     "output_type": "stream",
     "text": [
      " 26%|██▌       | 362/1386 [00:49<00:52, 19.46it/s]"
     ]
    },
    {
     "name": "stdout",
     "output_type": "stream",
     "text": [
      "['教える', 'か', 'も']\n"
     ]
    },
    {
     "name": "stderr",
     "output_type": "stream",
     "text": [
      " 27%|██▋       | 371/1386 [00:50<00:58, 17.27it/s]"
     ]
    },
    {
     "name": "stdout",
     "output_type": "stream",
     "text": [
      "['摘み', 'は', 'おいしい']\n"
     ]
    },
    {
     "name": "stderr",
     "output_type": "stream",
     "text": [
      " 27%|██▋       | 378/1386 [00:50<00:52, 19.11it/s]"
     ]
    },
    {
     "name": "stdout",
     "output_type": "stream",
     "text": [
      "['感', 'って', 'すっきり']\n",
      "['感', 'って', 'すっきり']\n",
      "['デート', 'で', '御洒落']\n"
     ]
    },
    {
     "name": "stderr",
     "output_type": "stream",
     "text": [
      " 28%|██▊       | 385/1386 [00:51<01:00, 16.47it/s]"
     ]
    },
    {
     "name": "stdout",
     "output_type": "stream",
     "text": [
      "['アクセス', 'の', 'ステー']\n",
      "['アクセス', 'が', '都心']\n",
      "['日本', 'と', 'JR']\n"
     ]
    },
    {
     "name": "stderr",
     "output_type": "stream",
     "text": [
      " 28%|██▊       | 391/1386 [00:51<00:53, 18.55it/s]"
     ]
    },
    {
     "name": "stdout",
     "output_type": "stream",
     "text": [
      "['楽しむ', 'と', '花']\n"
     ]
    },
    {
     "name": "stderr",
     "output_type": "stream",
     "text": [
      " 29%|██▉       | 400/1386 [00:52<00:56, 17.34it/s]"
     ]
    },
    {
     "name": "stdout",
     "output_type": "stream",
     "text": [
      "['ハーバー', 'の', '0']\n",
      "['なっ', 'しー', 'が']\n"
     ]
    },
    {
     "name": "stderr",
     "output_type": "stream",
     "text": [
      " 29%|██▉       | 402/1386 [00:52<01:33, 10.53it/s]"
     ]
    },
    {
     "name": "stdout",
     "output_type": "stream",
     "text": [
      "['商品', 'に', '今日']\n",
      "['テレビ', 'は', 'サイド']\n"
     ]
    },
    {
     "name": "stderr",
     "output_type": "stream",
     "text": [
      " 29%|██▉       | 407/1386 [00:53<01:43,  9.44it/s]"
     ]
    },
    {
     "name": "stdout",
     "output_type": "stream",
     "text": [
      "['ジブリ', 'の', '踊る']\n",
      "['ジブリ', 'の', '隣り']\n",
      "['のぶ代', 'と', 'ハビエル']\n",
      "['男', 'を', '立体']\n"
     ]
    },
    {
     "name": "stderr",
     "output_type": "stream",
     "text": [
      " 30%|██▉       | 409/1386 [00:53<01:51,  8.79it/s]"
     ]
    },
    {
     "name": "stdout",
     "output_type": "stream",
     "text": [
      "['つとめ', 'て', '今年']\n",
      "['今', 'の', 'フォーブス']\n"
     ]
    },
    {
     "name": "stderr",
     "output_type": "stream",
     "text": [
      " 30%|██▉       | 411/1386 [00:53<01:54,  8.51it/s]"
     ]
    },
    {
     "name": "stdout",
     "output_type": "stream",
     "text": [
      "['熱', 'の', '緊急']\n",
      "['アメリカ', 'で', 'ジャイアン']\n"
     ]
    },
    {
     "name": "stderr",
     "output_type": "stream",
     "text": [
      " 30%|███       | 416/1386 [00:54<01:55,  8.39it/s]"
     ]
    },
    {
     "name": "stdout",
     "output_type": "stream",
     "text": [
      "['先行き', 'に', '対する']\n",
      "['IQ', 'と', 'いえ']\n",
      "['映画', 'の', 'You']\n",
      "['鎌倉', 'の', '全国']\n",
      "['鎌倉', 'の', '笑点']\n",
      "['鎌倉', 'の', 'ファミリー']\n"
     ]
    },
    {
     "name": "stderr",
     "output_type": "stream",
     "text": [
      " 30%|███       | 419/1386 [00:54<01:27, 11.04it/s]"
     ]
    },
    {
     "name": "stdout",
     "output_type": "stream",
     "text": [
      "['マート', 'が', '配送']\n",
      "['家', 'に', '中井']\n",
      "['鎌倉', 'の', '馬鹿']\n"
     ]
    },
    {
     "name": "stderr",
     "output_type": "stream",
     "text": [
      " 30%|███       | 422/1386 [00:55<01:21, 11.84it/s]"
     ]
    },
    {
     "name": "stdout",
     "output_type": "stream",
     "text": [
      "['サイト', 'の', 'ダビンチ']\n",
      "['サイト', 'の', 'あま']\n"
     ]
    },
    {
     "name": "stderr",
     "output_type": "stream",
     "text": [
      " 31%|███       | 433/1386 [00:57<02:10,  7.29it/s]"
     ]
    },
    {
     "name": "stdout",
     "output_type": "stream",
     "text": [
      "['饂飩', 'の', '御']\n",
      "['饂飩', 'の', '御']\n",
      "['金団', 'で', 'ソフト']\n",
      "['バンク', 'の', '大人']\n"
     ]
    },
    {
     "name": "stderr",
     "output_type": "stream",
     "text": [
      " 32%|███▏      | 438/1386 [00:57<01:26, 11.01it/s]"
     ]
    },
    {
     "name": "stdout",
     "output_type": "stream",
     "text": [
      "['ロボット', 'の', 's']\n",
      "['バンク', 'の', '家庭']\n",
      "['バンク', 'の', '家庭']\n",
      "['バンク', 'の', '家庭']\n",
      "['空輸', 'の', '話題']\n"
     ]
    },
    {
     "name": "stderr",
     "output_type": "stream",
     "text": [
      " 32%|███▏      | 442/1386 [00:58<01:28, 10.70it/s]"
     ]
    },
    {
     "name": "stdout",
     "output_type": "stream",
     "text": [
      "['山', 'の', '海遊']\n",
      "['海月', 'が', '大好き']\n",
      "['館内', 'の', '太陽']\n"
     ]
    },
    {
     "name": "stderr",
     "output_type": "stream",
     "text": [
      " 32%|███▏      | 447/1386 [00:58<01:10, 13.39it/s]"
     ]
    },
    {
     "name": "stdout",
     "output_type": "stream",
     "text": [
      "['ホワイト', 'と', 'カフェ']\n",
      "['パッケージ', 'も', '御洒落']\n",
      "['大阪', 'の', 'チョコレートラテポッキーブレンド']\n",
      "['ゲゲゲ', 'の', '女房']\n",
      "['ゲゲゲ', 'の', '女房']\n"
     ]
    },
    {
     "name": "stderr",
     "output_type": "stream",
     "text": [
      " 32%|███▏      | 449/1386 [00:58<01:08, 13.78it/s]"
     ]
    },
    {
     "name": "stdout",
     "output_type": "stream",
     "text": [
      "['保険', 'を', '観戦']\n",
      "['連盟', 'の', 'ギャグ']\n",
      "['菓子', 'の', '鶴']\n"
     ]
    },
    {
     "name": "stderr",
     "output_type": "stream",
     "text": [
      " 33%|███▎      | 453/1386 [00:58<01:12, 12.96it/s]"
     ]
    },
    {
     "name": "stdout",
     "output_type": "stream",
     "text": [
      "['旅', 'の', '指差し']\n",
      "['味', 'の', 'shall']\n"
     ]
    },
    {
     "name": "stderr",
     "output_type": "stream",
     "text": [
      " 33%|███▎      | 457/1386 [00:59<01:04, 14.32it/s]"
     ]
    },
    {
     "name": "stdout",
     "output_type": "stream",
     "text": [
      "['蜜柑', 'に', '比べ']\n",
      "['来年', 'に', 'プロ']\n",
      "['用', 'に', '饂飩']\n",
      "['ソックス', 'の', 'キャンデー']\n"
     ]
    },
    {
     "name": "stderr",
     "output_type": "stream",
     "text": [
      " 33%|███▎      | 459/1386 [00:59<01:04, 14.36it/s]"
     ]
    },
    {
     "name": "stdout",
     "output_type": "stream",
     "text": [
      "['ソックス', 'の', 'キャンデー']\n",
      "['野球', 'の', 'Microsoft']\n",
      "['Microsoft', 'の', '里田']\n"
     ]
    },
    {
     "name": "stderr",
     "output_type": "stream",
     "text": [
      " 33%|███▎      | 461/1386 [00:59<01:40,  9.21it/s]"
     ]
    },
    {
     "name": "stdout",
     "output_type": "stream",
     "text": [
      "['投手', 'が', '切っ掛け']\n",
      "['ウェンリー', 'と', 'いう']\n",
      "['だ', 'から', '荒野']\n"
     ]
    },
    {
     "name": "stderr",
     "output_type": "stream",
     "text": [
      " 33%|███▎      | 464/1386 [00:59<01:26, 10.61it/s]"
     ]
    },
    {
     "name": "stdout",
     "output_type": "stream",
     "text": [
      "['料理', 'を', '受賞']\n",
      "['街', 'に', 'NHK']\n"
     ]
    },
    {
     "name": "stderr",
     "output_type": "stream",
     "text": [
      " 34%|███▍      | 469/1386 [01:00<01:14, 12.23it/s]"
     ]
    },
    {
     "name": "stdout",
     "output_type": "stream",
     "text": [
      "['NHK', 'の', '町歩き']\n",
      "['レボリューション', 'は', 'NHK']\n"
     ]
    },
    {
     "name": "stderr",
     "output_type": "stream",
     "text": [
      " 34%|███▍      | 473/1386 [01:00<01:09, 13.08it/s]"
     ]
    },
    {
     "name": "stdout",
     "output_type": "stream",
     "text": [
      "['協会', 'など', '0']\n",
      "['デュボア', 'の', '授賞']\n",
      "['グランプリ', 'の', 'レプリカ']\n",
      "['ゲゲゲ', 'の', '女房']\n",
      "['ゲゲゲ', 'の', '女房']\n"
     ]
    },
    {
     "name": "stderr",
     "output_type": "stream",
     "text": [
      " 34%|███▍      | 476/1386 [01:05<09:06,  1.67it/s]"
     ]
    },
    {
     "name": "stdout",
     "output_type": "stream",
     "text": [
      "['は', 'は', 'ハードル']\n"
     ]
    },
    {
     "name": "stderr",
     "output_type": "stream",
     "text": [
      " 35%|███▍      | 481/1386 [01:05<04:49,  3.12it/s]"
     ]
    },
    {
     "name": "stdout",
     "output_type": "stream",
     "text": [
      "['NHK', 'の', '町歩き']\n",
      "['レント', 'の', '永作']\n",
      "['保険', 'が', '連載']\n"
     ]
    },
    {
     "name": "stderr",
     "output_type": "stream",
     "text": [
      " 35%|███▍      | 485/1386 [01:06<03:35,  4.19it/s]"
     ]
    },
    {
     "name": "stdout",
     "output_type": "stream",
     "text": [
      "['イングレス', 'の', 'レプリカ']\n",
      "['イングレス', 'と', 'コンビニエンス']\n",
      "['マクドナルド', 'の', '遠藤']\n"
     ]
    },
    {
     "name": "stderr",
     "output_type": "stream",
     "text": [
      " 35%|███▌      | 490/1386 [01:06<02:13,  6.73it/s]"
     ]
    },
    {
     "name": "stdout",
     "output_type": "stream",
     "text": [
      "['問題', 'で', 'マクドナルド']\n",
      "['マクドナルド', 'で', 'リング']\n",
      "['マクドナルド', 'の', 'リング']\n",
      "['公園', 'と', '遠刈田']\n",
      "['NHK', 'の', 'ローリー']\n"
     ]
    },
    {
     "name": "stderr",
     "output_type": "stream",
     "text": [
      " 36%|███▌      | 496/1386 [01:07<01:44,  8.50it/s]"
     ]
    },
    {
     "name": "stdout",
     "output_type": "stream",
     "text": [
      "['ゲゲゲ', 'の', '女房']\n",
      "['NHK', 'の', '町歩き']\n",
      "['実際', 'は', 'タモリ']\n",
      "['ランド', 'や', '東京']\n"
     ]
    },
    {
     "name": "stderr",
     "output_type": "stream",
     "text": [
      " 36%|███▌      | 502/1386 [01:07<01:08, 12.91it/s]"
     ]
    },
    {
     "name": "stdout",
     "output_type": "stream",
     "text": [
      "['バレーボール', 'の', '八木']\n",
      "['ディズニーシー', 'の', '職人']\n",
      "['なっ', 'しー', 'の']\n",
      "['チュウ', 'も', '使用']\n",
      "['最近', 'は', 'ヨーク']\n"
     ]
    },
    {
     "name": "stderr",
     "output_type": "stream",
     "text": [
      " 36%|███▋      | 505/1386 [01:07<01:00, 14.57it/s]"
     ]
    },
    {
     "name": "stdout",
     "output_type": "stream",
     "text": [
      "['ヒルズ', 'と', 'JR']\n",
      "['ヒルズ', 'から', 'さほど']\n",
      "['ヒルズ', 'で', '000000000']\n",
      "['アナウンサー', 'を', '御']\n",
      "['ダッシュ', 'など', '多く']\n"
     ]
    },
    {
     "name": "stderr",
     "output_type": "stream",
     "text": [
      " 37%|███▋      | 508/1386 [01:07<00:53, 16.51it/s]"
     ]
    },
    {
     "name": "stdout",
     "output_type": "stream",
     "text": [
      "['テレビ', 'の', '林家']\n"
     ]
    },
    {
     "name": "stderr",
     "output_type": "stream",
     "text": [
      " 37%|███▋      | 512/1386 [01:08<01:40,  8.67it/s]"
     ]
    },
    {
     "name": "stdout",
     "output_type": "stream",
     "text": [
      "['流れ', 'を', '関西']\n",
      "['NHK', 'の', 'ケーキ']\n"
     ]
    },
    {
     "name": "stderr",
     "output_type": "stream",
     "text": [
      " 37%|███▋      | 519/1386 [01:09<01:48,  8.00it/s]"
     ]
    },
    {
     "name": "stdout",
     "output_type": "stream",
     "text": [
      "['女子', 'の', 'ブーム']\n",
      "['だ', 'から', '荒野']\n",
      "['あっ', 'で', 'セアカゴケグモ']\n",
      "['レント', 'の', 'タモリ']\n"
     ]
    },
    {
     "name": "stderr",
     "output_type": "stream",
     "text": [
      " 38%|███▊      | 525/1386 [01:09<01:04, 13.30it/s]"
     ]
    },
    {
     "name": "stdout",
     "output_type": "stream",
     "text": [
      "['小説', 'の', 'ブラタモリ']\n",
      "['弦', 'は', '奈良']\n",
      "['奈良', 'の', '閻']\n",
      "['元気', 'や', 'を']\n",
      "['タイガー', 'の', 'や']\n",
      "['タイガー', 'の', 'デギュスタシオン']\n"
     ]
    },
    {
     "name": "stderr",
     "output_type": "stream",
     "text": [
      " 38%|███▊      | 528/1386 [01:09<00:58, 14.78it/s]"
     ]
    },
    {
     "name": "stdout",
     "output_type": "stream",
     "text": [
      "['スケート', 'の', '東京']\n",
      "['恵比寿', 'の', '画家']\n",
      "['年始', 'に', '泊まり']\n",
      "['野薔薇', 'か', 'も']\n",
      "['野薔薇', 'か', 'も']\n"
     ]
    },
    {
     "name": "stderr",
     "output_type": "stream",
     "text": [
      " 39%|███▊      | 534/1386 [01:10<00:51, 16.44it/s]"
     ]
    },
    {
     "name": "stdout",
     "output_type": "stream",
     "text": [
      "['野薔薇', 'か', 'もん']\n",
      "['シリーズ', 'に', 'カレー']\n",
      "['味', 'も', 'シーフード']\n"
     ]
    },
    {
     "name": "stderr",
     "output_type": "stream",
     "text": [
      " 39%|███▊      | 537/1386 [01:10<00:45, 18.59it/s]"
     ]
    },
    {
     "name": "stdout",
     "output_type": "stream",
     "text": [
      "['味', 'の', 'アムゼル']\n",
      "['で', 'は', '日清']\n",
      "['シリーズ', 'の', '濃厚']\n"
     ]
    },
    {
     "name": "stderr",
     "output_type": "stream",
     "text": [
      " 39%|███▉      | 543/1386 [01:10<00:57, 14.74it/s]"
     ]
    },
    {
     "name": "stdout",
     "output_type": "stream",
     "text": [
      "['戦', 'と', 'ホンジュラス']\n",
      "['プレー', 'が', 'シドニー']\n",
      "['パリーグ', 'に', '入団']\n",
      "['球団', 'の', 'パリーグ']\n",
      "['投手', 'の', 'シドニー']\n",
      "['球団', 'の', 'パシフィック']\n"
     ]
    },
    {
     "name": "stderr",
     "output_type": "stream",
     "text": [
      " 40%|███▉      | 549/1386 [01:11<01:01, 13.53it/s]"
     ]
    },
    {
     "name": "stdout",
     "output_type": "stream",
     "text": [
      "['シドニー', 'の', 'ベンチャー']\n",
      "['シドニー', 'の', '慣習']\n",
      "['コロッケ', 'が', '自動']\n",
      "['陽平', 'や', 'アルベルト']\n",
      "['オランダ', 'で', '展示']\n"
     ]
    },
    {
     "name": "stderr",
     "output_type": "stream",
     "text": [
      " 40%|███▉      | 554/1386 [01:11<00:51, 16.17it/s]"
     ]
    },
    {
     "name": "stdout",
     "output_type": "stream",
     "text": [
      "['代表', 'の', 'アムステルダム']\n",
      "['ポスト', 'の', 'joy']\n",
      "['車', 'と', '有名']\n",
      "['0', 'の', '木村']\n"
     ]
    },
    {
     "name": "stderr",
     "output_type": "stream",
     "text": [
      " 40%|████      | 558/1386 [01:12<01:06, 12.38it/s]"
     ]
    },
    {
     "name": "stdout",
     "output_type": "stream",
     "text": [
      "['クッキー', 'を', '踊り']\n",
      "['明子', 'と', 'ローリー']\n"
     ]
    },
    {
     "name": "stderr",
     "output_type": "stream",
     "text": [
      " 40%|████      | 560/1386 [01:12<01:01, 13.43it/s]"
     ]
    },
    {
     "name": "stdout",
     "output_type": "stream",
     "text": [
      "['薯', 'の', '御薩']\n",
      "['ポテト', 'の', 'ちょい']\n"
     ]
    },
    {
     "name": "stderr",
     "output_type": "stream",
     "text": [
      " 41%|████      | 566/1386 [01:12<01:04, 12.77it/s]"
     ]
    },
    {
     "name": "stdout",
     "output_type": "stream",
     "text": [
      "['スイーツ', 'は', 'どの']\n",
      "['0', 'の', 'ドラマ']\n"
     ]
    },
    {
     "name": "stderr",
     "output_type": "stream",
     "text": [
      " 41%|████      | 568/1386 [01:12<01:06, 12.22it/s]"
     ]
    },
    {
     "name": "stdout",
     "output_type": "stream",
     "text": [
      "['し', 'て', '000000000']\n",
      "['階', 'の', '劇団']\n"
     ]
    },
    {
     "name": "stderr",
     "output_type": "stream",
     "text": [
      " 41%|████▏     | 573/1386 [01:13<01:09, 11.73it/s]"
     ]
    },
    {
     "name": "stdout",
     "output_type": "stream",
     "text": [
      "['ミュージカル', 'は', '特別']\n",
      "['劇場', 'に', 'インスパイアー']\n",
      "['四季', 'の', '岩田']\n",
      "['四季', 'の', '朝日']\n",
      "['劇場', 'と', '旭山']\n"
     ]
    },
    {
     "name": "stderr",
     "output_type": "stream",
     "text": [
      " 42%|████▏     | 579/1386 [01:13<00:48, 16.75it/s]"
     ]
    },
    {
     "name": "stdout",
     "output_type": "stream",
     "text": [
      "['園', 'の', 'オーレ']\n",
      "['海豹', 'が', '好き']\n",
      "['カルビー', 'の', '海豹']\n",
      "['漁師', 'の', '力め']\n",
      "['園', 'の', 'チョコレート']\n",
      "['園', 'も', '大体']\n"
     ]
    },
    {
     "name": "stderr",
     "output_type": "stream",
     "text": [
      " 42%|████▏     | 582/1386 [01:13<00:47, 16.76it/s]"
     ]
    },
    {
     "name": "stdout",
     "output_type": "stream",
     "text": [
      "['県', 'が', '桜ん坊']\n",
      "['スシロー', 'は', '山形']\n",
      "['ソックス', 'は', '鶴岡']\n"
     ]
    },
    {
     "name": "stderr",
     "output_type": "stream",
     "text": [
      " 42%|████▏     | 586/1386 [01:14<00:50, 15.86it/s]"
     ]
    },
    {
     "name": "stdout",
     "output_type": "stream",
     "text": [
      "['内', 'で', 'ツキノワ']\n",
      "['暮らし', 'の', 'e']\n",
      "['チュウ', 'で', '送料']\n",
      "['グランプリ', 'で', '送料']\n"
     ]
    },
    {
     "name": "stderr",
     "output_type": "stream",
     "text": [
      " 43%|████▎     | 592/1386 [01:14<00:45, 17.38it/s]"
     ]
    },
    {
     "name": "stdout",
     "output_type": "stream",
     "text": [
      "['たい', 'の', 'でしょう']\n",
      "['公園', 'と', 'ナゴヤ']\n",
      "['グリコ', 'の', '名古屋']\n",
      "['グリコ', 'の', '安納']\n",
      "['グリコ', 'の', '安納']\n"
     ]
    },
    {
     "name": "stderr",
     "output_type": "stream",
     "text": [
      " 43%|████▎     | 598/1386 [01:14<00:40, 19.25it/s]"
     ]
    },
    {
     "name": "stdout",
     "output_type": "stream",
     "text": [
      "['ストップ', 'の', 'ファミマ']\n",
      "['ストップ', 'の', '筋肉']\n",
      "['ストップ', 'と', 'パステル']\n",
      "['クリーム', 'で', '思い出し']\n",
      "['流', 'の', '羽生']\n"
     ]
    },
    {
     "name": "stderr",
     "output_type": "stream",
     "text": [
      " 43%|████▎     | 601/1386 [01:14<00:41, 18.91it/s]"
     ]
    },
    {
     "name": "stdout",
     "output_type": "stream",
     "text": [
      "['戦', 'と', 'ホンジュラス']\n",
      "['MVP', 'は', '前']\n",
      "['さん', 'が', '二人']\n"
     ]
    },
    {
     "name": "stderr",
     "output_type": "stream",
     "text": [
      " 44%|████▎     | 606/1386 [01:15<00:59, 13.21it/s]"
     ]
    },
    {
     "name": "stdout",
     "output_type": "stream",
     "text": [
      "['投手', 'へ', 'メジャー']\n",
      "['投手', 'は', 'キリン']\n",
      "['キリン', 'の', 'サンタ']\n",
      "['クロース', 'の', '御']\n"
     ]
    },
    {
     "name": "stderr",
     "output_type": "stream",
     "text": [
      " 44%|████▍     | 609/1386 [01:15<00:58, 13.38it/s]"
     ]
    },
    {
     "name": "stdout",
     "output_type": "stream",
     "text": [
      "['映画', 'の', 'ミスター']\n",
      "['パリーグ', 'の', 'ミスター']\n",
      "['球場', 'まで', '駆け付け']\n"
     ]
    },
    {
     "name": "stderr",
     "output_type": "stream",
     "text": [
      " 44%|████▍     | 613/1386 [01:16<01:02, 12.41it/s]"
     ]
    },
    {
     "name": "stdout",
     "output_type": "stream",
     "text": [
      "['東京', 'で', '鶴']\n",
      "['ドール', 'に', '代表']\n",
      "['大阪', 'の', '馬事']\n"
     ]
    },
    {
     "name": "stderr",
     "output_type": "stream",
     "text": [
      " 45%|████▍     | 619/1386 [01:16<00:44, 17.25it/s]"
     ]
    },
    {
     "name": "stdout",
     "output_type": "stream",
     "text": [
      "['マニア', 'は', '東京']\n",
      "['春休み', 'で', 'とても']\n",
      "['連合', 'の', 'キャラクター']\n",
      "['連合', 'の', 'ギャグ']\n"
     ]
    },
    {
     "name": "stderr",
     "output_type": "stream",
     "text": [
      " 45%|████▍     | 622/1386 [01:16<01:03, 11.94it/s]"
     ]
    },
    {
     "name": "stdout",
     "output_type": "stream",
     "text": [
      "['シーク', 'に', 'ノミネート']\n",
      "['歌手', 'の', '明石家']\n",
      "['芸人', 'の', '大竹']\n",
      "['あなた', 'が', 'リオネル']\n",
      "['マリノス', 'の', 'リオネル']\n"
     ]
    },
    {
     "name": "stderr",
     "output_type": "stream",
     "text": [
      " 45%|████▌     | 625/1386 [01:16<00:55, 13.67it/s]"
     ]
    },
    {
     "name": "stdout",
     "output_type": "stream",
     "text": [
      "['泰幸', 'も', '現在']\n",
      "['マリノス', 'の', '今野']\n"
     ]
    },
    {
     "name": "stderr",
     "output_type": "stream",
     "text": [
      " 45%|████▌     | 630/1386 [01:17<00:51, 14.67it/s]"
     ]
    },
    {
     "name": "stdout",
     "output_type": "stream",
     "text": [
      "['マリノス', 'で', 'キャプテンシー']\n",
      "['ヤマザキ', 'は', '天皇']\n",
      "['静岡', 'の', 'じゃがりこ']\n",
      "['lush', 'は', '、']\n",
      "['lush', 'と', 'は']\n",
      "['宇治', 'で', '販売']\n"
     ]
    },
    {
     "name": "stderr",
     "output_type": "stream",
     "text": [
      " 46%|████▌     | 636/1386 [01:17<00:42, 17.58it/s]"
     ]
    },
    {
     "name": "stdout",
     "output_type": "stream",
     "text": [
      "['カルビー', 'の', '約']\n",
      "['立ち寄っ', 'て', 'ハロー']\n",
      "['系列', 'の', 'ずっと']\n",
      "['系列', 'の', 'ずっと']\n"
     ]
    },
    {
     "name": "stderr",
     "output_type": "stream",
     "text": [
      " 46%|████▌     | 640/1386 [01:17<00:47, 15.63it/s]"
     ]
    },
    {
     "name": "stdout",
     "output_type": "stream",
     "text": [
      "['プロポーズ', 'の', '年越し']\n",
      "['系列', 'の', 'ザ']\n",
      "['妻', 'を', '一筋']\n",
      "['番組', 'の', '御飯']\n"
     ]
    },
    {
     "name": "stderr",
     "output_type": "stream",
     "text": [
      " 46%|████▋     | 644/1386 [01:18<00:47, 15.71it/s]"
     ]
    },
    {
     "name": "stdout",
     "output_type": "stream",
     "text": [
      "['喜劇', 'で', '放送']\n",
      "['喜劇', 'の', '明石家']\n",
      "['本当', 'は', 'こんな']\n",
      "['さんま', 'の', '侭']\n"
     ]
    },
    {
     "name": "stderr",
     "output_type": "stream",
     "text": [
      " 47%|████▋     | 647/1386 [01:18<00:41, 17.82it/s]"
     ]
    },
    {
     "name": "stdout",
     "output_type": "stream",
     "text": [
      "['静岡', 'と', 'マドリード']\n",
      "['キー', 'の', '抹茶']\n",
      "['味', 'は', 'You']\n",
      "['静岡', 'の', '水曜']\n"
     ]
    },
    {
     "name": "stderr",
     "output_type": "stream",
     "text": [
      " 47%|████▋     | 649/1386 [01:18<00:42, 17.53it/s]"
     ]
    },
    {
     "name": "stdout",
     "output_type": "stream",
     "text": [
      "['土産', 'の', 'あまおう']\n",
      "['社', 'か', 'ループ']\n"
     ]
    },
    {
     "name": "stderr",
     "output_type": "stream",
     "text": [
      " 47%|████▋     | 651/1386 [01:18<00:51, 14.31it/s]"
     ]
    },
    {
     "name": "stdout",
     "output_type": "stream",
     "text": [
      "['。', 'の', '収録']\n",
      "['楽曲', 'を', '著名']\n"
     ]
    },
    {
     "name": "stderr",
     "output_type": "stream",
     "text": [
      " 47%|████▋     | 655/1386 [01:18<00:55, 13.21it/s]"
     ]
    },
    {
     "name": "stdout",
     "output_type": "stream",
     "text": [
      "['など', 'が', 'You']\n",
      "['ベースボール', 'に', '入団']\n",
      "['投手', 'が', 'シンガポール']\n"
     ]
    },
    {
     "name": "stderr",
     "output_type": "stream",
     "text": [
      " 48%|████▊     | 660/1386 [01:19<00:43, 16.63it/s]"
     ]
    },
    {
     "name": "stdout",
     "output_type": "stream",
     "text": [
      "['シンガポール', 'の', '東北']\n",
      "['東北', 'の', '松坂']\n"
     ]
    },
    {
     "name": "stderr",
     "output_type": "stream",
     "text": [
      " 48%|████▊     | 664/1386 [01:19<00:43, 16.79it/s]"
     ]
    },
    {
     "name": "stdout",
     "output_type": "stream",
     "text": [
      "['ライオンズ', 'の', 'カミング']\n",
      "['沖縄', 'の', 'カミング']\n",
      "['赤', 'の', '漆塗り']\n"
     ]
    },
    {
     "name": "stderr",
     "output_type": "stream",
     "text": [
      " 48%|████▊     | 668/1386 [01:19<00:45, 15.73it/s]"
     ]
    },
    {
     "name": "stdout",
     "output_type": "stream",
     "text": [
      "['安室', 'の', 'オリオン']\n",
      "['で', 'は', '鸚哥']\n"
     ]
    },
    {
     "name": "stderr",
     "output_type": "stream",
     "text": [
      " 49%|████▊     | 674/1386 [01:20<00:48, 14.54it/s]"
     ]
    },
    {
     "name": "stdout",
     "output_type": "stream",
     "text": [
      "['級', 'の', '水族']\n",
      "['リーズ', 'の', 'イエス']\n",
      "['アギーレ', 'の', '誕生']\n",
      "['代表', 'の', 'EU']\n"
     ]
    },
    {
     "name": "stderr",
     "output_type": "stream",
     "text": [
      " 49%|████▉     | 681/1386 [01:20<00:47, 14.87it/s]"
     ]
    },
    {
     "name": "stdout",
     "output_type": "stream",
     "text": [
      "['タイム', 'や', '冬']\n",
      "['パスポート', 'の', '海豹']\n"
     ]
    },
    {
     "name": "stderr",
     "output_type": "stream",
     "text": [
      " 49%|████▉     | 685/1386 [01:20<00:37, 18.93it/s]"
     ]
    },
    {
     "name": "stdout",
     "output_type": "stream",
     "text": [
      "['園', 'の', 'バター']\n",
      "['海豹', 'を', '間近']\n",
      "['ドラマ', 'の', '黄色い']\n",
      "['コロッケ', 'より', 'オランダ']\n"
     ]
    },
    {
     "name": "stderr",
     "output_type": "stream",
     "text": [
      " 50%|████▉     | 688/1386 [01:20<00:35, 19.94it/s]"
     ]
    },
    {
     "name": "stdout",
     "output_type": "stream",
     "text": [
      "['ゴッホ', 'や', 'ハビエル・アギーレ']\n",
      "['アギーレ', 'や', 'フェルメール']\n",
      "['味', 'の', 'ココ']\n"
     ]
    },
    {
     "name": "stderr",
     "output_type": "stream",
     "text": [
      " 50%|█████     | 694/1386 [01:21<00:44, 15.48it/s]"
     ]
    },
    {
     "name": "stdout",
     "output_type": "stream",
     "text": [
      "['情報', 'を', '御洒落']\n",
      "['オランダ', 'で', '展示']\n",
      "['テレビ', 'の', 'メロン']\n"
     ]
    },
    {
     "name": "stderr",
     "output_type": "stream",
     "text": [
      " 50%|█████     | 698/1386 [01:21<00:54, 12.73it/s]"
     ]
    },
    {
     "name": "stdout",
     "output_type": "stream",
     "text": [
      "['タイガース', 'の', 'BANDAI']\n",
      "['ファイターズ', 'の', 'BANDAI']\n",
      "['中止', 'で', '思い出し']\n",
      "['パン', 'は', 'スーパーマーケット']\n"
     ]
    },
    {
     "name": "stderr",
     "output_type": "stream",
     "text": [
      " 51%|█████     | 702/1386 [01:22<00:50, 13.54it/s]"
     ]
    },
    {
     "name": "stdout",
     "output_type": "stream",
     "text": [
      "['皮', 'より', '重量']\n"
     ]
    },
    {
     "name": "stderr",
     "output_type": "stream",
     "text": [
      " 51%|█████     | 706/1386 [01:23<01:52,  6.03it/s]"
     ]
    },
    {
     "name": "stdout",
     "output_type": "stream",
     "text": [
      "['受け取り', 'が', '元気']\n",
      "['ジャパン', 'の', 'ハンバーガー']\n",
      "['アナ', 'と', '雪']\n",
      "['州', 'と', 'スペイン']\n"
     ]
    },
    {
     "name": "stderr",
     "output_type": "stream",
     "text": [
      " 51%|█████     | 710/1386 [01:23<01:14,  9.10it/s]"
     ]
    },
    {
     "name": "stdout",
     "output_type": "stream",
     "text": [
      "['スペイン', 'や', 'マドリード']\n",
      "['ストア', 'の', '湘南']\n",
      "['ストア', 'の', '湘南']\n",
      "['菓子', 'の', 'リプトン']\n"
     ]
    },
    {
     "name": "stderr",
     "output_type": "stream",
     "text": [
      " 52%|█████▏    | 715/1386 [01:23<00:48, 13.91it/s]"
     ]
    },
    {
     "name": "stdout",
     "output_type": "stream",
     "text": [
      "['0', 'の', 'スキー']\n",
      "['選手', 'の', 'ドゥンガ']\n",
      "['チュウ', 'の', 'レプリカ']\n",
      "['未だ', 'に', 'アップル']\n"
     ]
    },
    {
     "name": "stderr",
     "output_type": "stream",
     "text": [
      " 52%|█████▏    | 721/1386 [01:23<00:36, 18.04it/s]"
     ]
    },
    {
     "name": "stdout",
     "output_type": "stream",
     "text": [
      "['八幡平', 'より', 'もう']\n",
      "['土産', 'に', '島歌']\n",
      "['ガーデン', 'の', '島歌']\n",
      "['今年', 'の', 'グラッチェ']\n"
     ]
    },
    {
     "name": "stderr",
     "output_type": "stream",
     "text": [
      " 52%|█████▏    | 724/1386 [01:24<00:37, 17.74it/s]"
     ]
    },
    {
     "name": "stdout",
     "output_type": "stream",
     "text": [
      "['種類', 'だけ', 'メニュー']\n",
      "['し', 'ながら', 'みけ']\n",
      "['台湾', 'と', '東北']\n",
      "['ソックス', 'の', '事故']\n"
     ]
    },
    {
     "name": "stderr",
     "output_type": "stream",
     "text": [
      " 53%|█████▎    | 730/1386 [01:24<00:38, 16.87it/s]"
     ]
    },
    {
     "name": "stdout",
     "output_type": "stream",
     "text": [
      "['時代', 'に', '御嶽']\n",
      "['とんねるず', 'の', '皆']\n",
      "['ノンストップ', 'も', '、']\n",
      "['テレビ', 'の', '博士']\n"
     ]
    },
    {
     "name": "stderr",
     "output_type": "stream",
     "text": [
      " 53%|█████▎    | 739/1386 [01:24<00:30, 21.40it/s]"
     ]
    },
    {
     "name": "stdout",
     "output_type": "stream",
     "text": [
      "['菓子', 'の', 'リプトン']\n",
      "['奈生子', 'の', '絵画']\n",
      "['大阪', 'の', 'ミッドフィルダー']\n",
      "['ストア', 'の', 'セレッソ']\n",
      "['大阪', 'は', '今期']\n",
      "['札幌', 'の', '長友']\n"
     ]
    },
    {
     "name": "stderr",
     "output_type": "stream",
     "text": [
      " 54%|█████▍    | 746/1386 [01:25<00:37, 16.90it/s]"
     ]
    },
    {
     "name": "stdout",
     "output_type": "stream",
     "text": [
      "['誠', 'が', 'コンサドーレ']\n",
      "['。', 'の', '他']\n",
      "['マート', 'の', 'リーダー']\n",
      "['半島', 'の', 'You']\n",
      "['←', 'の', 'You']\n"
     ]
    },
    {
     "name": "stderr",
     "output_type": "stream",
     "text": [
      " 54%|█████▍    | 749/1386 [01:25<00:38, 16.35it/s]"
     ]
    },
    {
     "name": "stdout",
     "output_type": "stream",
     "text": [
      "['キャンデー', 'で', '見']\n",
      "['俳優', 'の', 'ヒカ']\n",
      "['アーチスト', 'は', 'どんな']\n",
      "['の', 'が', 'ツイッター']\n",
      "['ツイッター', 'が', '漫画']\n"
     ]
    },
    {
     "name": "stderr",
     "output_type": "stream",
     "text": [
      " 54%|█████▍    | 755/1386 [01:25<00:32, 19.23it/s]"
     ]
    },
    {
     "name": "stdout",
     "output_type": "stream",
     "text": [
      "['フール', 'に', 'ツイッター']\n",
      "['茅ヶ崎', 'と', 'アムステルダム']\n",
      "['スターズ', 'の', '曲']\n",
      "['バンド', 'の', 'サザン']\n",
      "['FC', 'の', '楽曲']\n"
     ]
    },
    {
     "name": "stderr",
     "output_type": "stream",
     "text": [
      " 55%|█████▍    | 758/1386 [01:26<00:30, 20.66it/s]"
     ]
    },
    {
     "name": "stdout",
     "output_type": "stream",
     "text": [
      "['活躍', 'で', '茅ヶ崎']\n",
      "['FC', 'の', '楽曲']\n",
      "['ひろ子', 'と', '鉄拳']\n"
     ]
    },
    {
     "name": "stderr",
     "output_type": "stream",
     "text": [
      " 55%|█████▍    | 761/1386 [01:26<00:35, 17.60it/s]"
     ]
    },
    {
     "name": "stdout",
     "output_type": "stream",
     "text": [
      "['私', 'も', 'ブラタモリ']\n",
      "['NHK', 'の', '町歩き']\n"
     ]
    },
    {
     "name": "stderr",
     "output_type": "stream",
     "text": [
      " 55%|█████▌    | 767/1386 [01:26<00:37, 16.72it/s]"
     ]
    },
    {
     "name": "stdout",
     "output_type": "stream",
     "text": [
      "['ピッチング', 'の', '安心']\n",
      "['横綱', 'は', '海外']\n",
      "['さび', 'で', '考え']\n"
     ]
    },
    {
     "name": "stderr",
     "output_type": "stream",
     "text": [
      " 56%|█████▌    | 773/1386 [01:27<00:35, 17.20it/s]"
     ]
    },
    {
     "name": "stdout",
     "output_type": "stream",
     "text": [
      "['映画', 'の', '宇多田']\n",
      "['英', 'の', 'オーディション']\n",
      "['タレント', 'の', '収録']\n",
      "['台湾', 'の', '宇多田']\n"
     ]
    },
    {
     "name": "stderr",
     "output_type": "stream",
     "text": [
      " 56%|█████▌    | 776/1386 [01:27<00:32, 18.92it/s]"
     ]
    },
    {
     "name": "stdout",
     "output_type": "stream",
     "text": [
      "['サカナクション', 'の', '他']\n",
      "['トキオ', 'の', 'ライオン']\n",
      "['ボランチ', 'は', '栗原']\n"
     ]
    },
    {
     "name": "stderr",
     "output_type": "stream",
     "text": [
      " 56%|█████▋    | 782/1386 [01:27<00:32, 18.87it/s]"
     ]
    },
    {
     "name": "stdout",
     "output_type": "stream",
     "text": [
      "['料理', 'の', '牛蒡']\n",
      "['大阪', 'の', 'あさイチ']\n",
      "['サッカー', 'の', '川澄']\n",
      "['選手', 'の', '御陰']\n"
     ]
    },
    {
     "name": "stderr",
     "output_type": "stream",
     "text": [
      " 57%|█████▋    | 785/1386 [01:27<00:33, 18.12it/s]"
     ]
    },
    {
     "name": "stdout",
     "output_type": "stream",
     "text": [
      "['大阪', 'の', 'アンデルソン']\n",
      "['山形', 'も', '勢い']\n"
     ]
    },
    {
     "name": "stderr",
     "output_type": "stream",
     "text": [
      " 57%|█████▋    | 787/1386 [01:27<00:34, 17.28it/s]"
     ]
    },
    {
     "name": "stdout",
     "output_type": "stream",
     "text": [
      "['省', 'が', '総額']\n"
     ]
    },
    {
     "name": "stderr",
     "output_type": "stream",
     "text": [
      " 57%|█████▋    | 793/1386 [01:28<00:42, 14.11it/s]"
     ]
    },
    {
     "name": "stdout",
     "output_type": "stream",
     "text": [
      "['院', 'の', 'ソレデモシタイ']\n",
      "['院', 'の', 'バラード']\n",
      "['稼働', 'なんて', '、']\n"
     ]
    },
    {
     "name": "stderr",
     "output_type": "stream",
     "text": [
      " 57%|█████▋    | 795/1386 [01:28<00:41, 14.33it/s]"
     ]
    },
    {
     "name": "stdout",
     "output_type": "stream",
     "text": [
      "['朝日', 'の', '石井']\n",
      "['朝日', 'の', '出入']\n",
      "['系列', 'の', 'さんま']\n"
     ]
    },
    {
     "name": "stderr",
     "output_type": "stream",
     "text": [
      " 58%|█████▊    | 799/1386 [01:28<00:42, 13.84it/s]"
     ]
    },
    {
     "name": "stdout",
     "output_type": "stream",
     "text": [
      "['テニス', 'の', '矢部']\n",
      "['浩之', 'は', '人気']\n",
      "['ナイン', 'で', '放送']\n",
      "['番組', 'の', 'ぶー']\n",
      "['さん', 'の', 'ぶー']\n"
     ]
    },
    {
     "name": "stderr",
     "output_type": "stream",
     "text": [
      " 58%|█████▊    | 804/1386 [01:29<00:36, 15.90it/s]"
     ]
    },
    {
     "name": "stdout",
     "output_type": "stream",
     "text": [
      "['館', 'と', '国営']\n",
      "['県', 'が', '桜ん坊']\n",
      "['スーパーマーケット', 'の', 'や']\n"
     ]
    },
    {
     "name": "stderr",
     "output_type": "stream",
     "text": [
      " 58%|█████▊    | 807/1386 [01:29<00:31, 18.12it/s]"
     ]
    },
    {
     "name": "stdout",
     "output_type": "stream",
     "text": [
      "['フーズ', 'の', 'グループ']\n",
      "['年', 'の', 'ソントン']\n"
     ]
    },
    {
     "name": "stderr",
     "output_type": "stream",
     "text": [
      " 59%|█████▊    | 811/1386 [01:29<00:34, 16.53it/s]"
     ]
    },
    {
     "name": "stdout",
     "output_type": "stream",
     "text": [
      "['楽曲', 'の', 'タイムズ']\n",
      "['スマップ', 'の', '浜崎']\n",
      "['さん', 'か', '宇多田']\n",
      "['beta', 'に', '参加']\n"
     ]
    },
    {
     "name": "stderr",
     "output_type": "stream",
     "text": [
      " 59%|█████▉    | 820/1386 [01:30<00:53, 10.65it/s]"
     ]
    },
    {
     "name": "stdout",
     "output_type": "stream",
     "text": [
      "['楽曲', 'を', '著名']\n",
      "['Tube', 'の', 'プロモーション']\n",
      "['芸人', 'の', 'マツコ']\n",
      "['芸人', 'の', 'マツコ']\n"
     ]
    },
    {
     "name": "stderr",
     "output_type": "stream",
     "text": [
      " 59%|█████▉    | 823/1386 [01:30<00:44, 12.60it/s]"
     ]
    },
    {
     "name": "stdout",
     "output_type": "stream",
     "text": [
      "['商品', 'を', 'マツコ']\n",
      "['俳優', 'の', 'マツコ']\n",
      "['マツコ', 'の', '知ら']\n",
      "['俳優', 'の', 'マツコ']\n",
      "['グリコ', 'の', '鸚哥']\n"
     ]
    },
    {
     "name": "stderr",
     "output_type": "stream",
     "text": [
      " 60%|█████▉    | 828/1386 [01:30<00:35, 15.51it/s]"
     ]
    },
    {
     "name": "stdout",
     "output_type": "stream",
     "text": [
      "['グリコ', 'の', 'グランド']\n",
      "['グリコ', 'の', 'ぐり']\n",
      "['グリコ', 'の', '竹の子']\n",
      "['グリコ', 'の', '苺']\n"
     ]
    },
    {
     "name": "stderr",
     "output_type": "stream",
     "text": [
      " 60%|██████    | 834/1386 [01:31<00:28, 19.68it/s]"
     ]
    },
    {
     "name": "stdout",
     "output_type": "stream",
     "text": [
      "['ラインアップ', 'の', '中']\n",
      "['ポッキー', 'が', '大阪']\n",
      "['グリコ', 'の', '広島']\n",
      "['園', 'と', '横川']\n"
     ]
    },
    {
     "name": "stderr",
     "output_type": "stream",
     "text": [
      " 61%|██████    | 839/1386 [01:31<00:30, 18.23it/s]"
     ]
    },
    {
     "name": "stdout",
     "output_type": "stream",
     "text": [
      "['ビール', 'の', 'ハッピー']\n",
      "['ビール', 'の', 'スナック']\n",
      "['自宅', 'で', 'アサヒ']\n",
      "['ビール', 'の', 'スナック']\n",
      "['ビール', 'の', 'かっぱ']\n"
     ]
    },
    {
     "name": "stderr",
     "output_type": "stream",
     "text": [
      " 61%|██████    | 842/1386 [01:31<00:26, 20.25it/s]"
     ]
    },
    {
     "name": "stdout",
     "output_type": "stream",
     "text": [
      "['選手', 'の', '三都主']\n",
      "['レプリカ', 'が', '懸賞']\n",
      "['コロッケ', 'は', '自動']\n",
      "['日本', 'の', 'モンテディオ']\n"
     ]
    },
    {
     "name": "stderr",
     "output_type": "stream",
     "text": [
      " 61%|██████    | 848/1386 [01:31<00:28, 18.83it/s]"
     ]
    },
    {
     "name": "stdout",
     "output_type": "stream",
     "text": [
      "['コメ', 'を', 'ブラジル']\n",
      "['。', 'が', '世界']\n",
      "['タイガース', 'の', 'キャンデー']\n",
      "['ホールディングス', 'の', '話題']\n",
      "['ドーナツ', 'は', '量']\n"
     ]
    },
    {
     "name": "stderr",
     "output_type": "stream",
     "text": [
      " 61%|██████▏   | 851/1386 [01:32<00:28, 19.08it/s]"
     ]
    },
    {
     "name": "stdout",
     "output_type": "stream",
     "text": [
      "['中村', 'や', '香川']\n",
      "['し', 'て', 'カミング']\n",
      "['オランダ', 'も', '世界']\n",
      "['沖縄', 'の', 'オランダ']\n"
     ]
    },
    {
     "name": "stderr",
     "output_type": "stream",
     "text": [
      " 62%|██████▏   | 857/1386 [01:32<00:27, 19.31it/s]"
     ]
    },
    {
     "name": "stdout",
     "output_type": "stream",
     "text": [
      "['オランダ', 'で', '展示']\n",
      "['マート', 'の', '方々']\n",
      "['ストア', 'の', 'スイーツ']\n",
      "['声優', 'の', 'fukase']\n"
     ]
    },
    {
     "name": "stderr",
     "output_type": "stream",
     "text": [
      " 62%|██████▏   | 860/1386 [01:32<00:25, 20.30it/s]"
     ]
    },
    {
     "name": "stdout",
     "output_type": "stream",
     "text": [
      "['ロココ', 'を', '見る']\n"
     ]
    },
    {
     "name": "stderr",
     "output_type": "stream",
     "text": [
      " 62%|██████▏   | 865/1386 [01:32<00:35, 14.68it/s]"
     ]
    },
    {
     "name": "stdout",
     "output_type": "stream",
     "text": [
      "['院', 'が', '買う']\n"
     ]
    },
    {
     "name": "stderr",
     "output_type": "stream",
     "text": [
      " 63%|██████▎   | 868/1386 [01:33<00:30, 16.88it/s]"
     ]
    },
    {
     "name": "stdout",
     "output_type": "stream",
     "text": [
      "['letao', 'を', '応援']\n",
      "['年始', 'に', 'ヨーロッパ']\n"
     ]
    },
    {
     "name": "stderr",
     "output_type": "stream",
     "text": [
      " 63%|██████▎   | 875/1386 [01:33<00:38, 13.19it/s]"
     ]
    },
    {
     "name": "stdout",
     "output_type": "stream",
     "text": [
      "['グランパス', 'の', 'フレーバー']\n",
      "['女優', 'の', 'ジーコ']\n",
      "['インド', 'で', 'ジーコ']\n",
      "['イーグルス', 'の', '事故']\n"
     ]
    },
    {
     "name": "stderr",
     "output_type": "stream",
     "text": [
      " 63%|██████▎   | 878/1386 [01:33<00:33, 15.36it/s]"
     ]
    },
    {
     "name": "stdout",
     "output_type": "stream",
     "text": [
      "['東北', 'が', '桜ん坊']\n",
      "['ガーデン', 'の', '事故']\n",
      "['ガーデン', 'の', '鈴木']\n",
      "['ガーデン', 'の', '鈴木']\n"
     ]
    },
    {
     "name": "stderr",
     "output_type": "stream",
     "text": [
      " 64%|██████▎   | 881/1386 [01:34<00:28, 17.51it/s]"
     ]
    },
    {
     "name": "stdout",
     "output_type": "stream",
     "text": [
      "['ガーデン', 'の', '鈴木']\n"
     ]
    },
    {
     "name": "stderr",
     "output_type": "stream",
     "text": [
      " 64%|██████▍   | 887/1386 [01:34<00:27, 18.41it/s]"
     ]
    },
    {
     "name": "stdout",
     "output_type": "stream",
     "text": [
      "['孝之', 'の', '東京']\n",
      "['プロデューサー', 'に', 'テレビ']\n",
      "['東京', 'の', 'もやもや']\n"
     ]
    },
    {
     "name": "stderr",
     "output_type": "stream",
     "text": [
      " 65%|██████▍   | 896/1386 [01:34<00:22, 22.06it/s]"
     ]
    },
    {
     "name": "stdout",
     "output_type": "stream",
     "text": [
      "['アナ', 'と', 'エルサ']\n",
      "['逢', 'の', '話題']\n",
      "['pasco', 'の', 'ファン']\n",
      "['あなた', 'が', 'pasco']\n",
      "['で', 'は', 'pasco']\n"
     ]
    },
    {
     "name": "stderr",
     "output_type": "stream",
     "text": [
      " 65%|██████▌   | 903/1386 [01:35<00:21, 22.34it/s]"
     ]
    },
    {
     "name": "stdout",
     "output_type": "stream",
     "text": [
      "['司会', 'の', '信長']\n",
      "['。', 'の', '実写']\n",
      "['スマップ', 'の', 'アナウンサー']\n",
      "['スマップ', 'の', 'ファースト']\n"
     ]
    },
    {
     "name": "stderr",
     "output_type": "stream",
     "text": [
      " 66%|██████▌   | 910/1386 [01:35<00:18, 26.06it/s]"
     ]
    },
    {
     "name": "stdout",
     "output_type": "stream",
     "text": [
      "['神戸', 'と', '裏']\n",
      "['IKEA', 'は', 'ござい']\n",
      "['アンパンマンミュージアム', 'は', '神戸']\n",
      "['IKEA', 'の', '鸚哥']\n",
      "['IKEA', 'の', '鸚哥']\n",
      "['アンパンマンミュージアム', 'は', '神戸']\n",
      "['館', 'の', '鸚哥']\n"
     ]
    },
    {
     "name": "stderr",
     "output_type": "stream",
     "text": [
      " 66%|██████▌   | 916/1386 [01:35<00:18, 25.70it/s]"
     ]
    },
    {
     "name": "stdout",
     "output_type": "stream",
     "text": [
      "['神戸', 'の', '京都']\n",
      "['館', 'の', '鸚哥']\n",
      "['チャイ', 'は', '商品']\n",
      "['チャイ', 'は', 'どちら']\n",
      "['日本', 'と', '愛媛']\n"
     ]
    },
    {
     "name": "stderr",
     "output_type": "stream",
     "text": [
      " 67%|██████▋   | 922/1386 [01:35<00:18, 25.23it/s]"
     ]
    },
    {
     "name": "stdout",
     "output_type": "stream",
     "text": [
      "['日本', 'と', '四国']\n",
      "['ハンバーガー', 'で', 'モ']\n",
      "['年', 'も', 'MOS']\n",
      "['リゾート', 'と', '伊勢丹']\n"
     ]
    },
    {
     "name": "stderr",
     "output_type": "stream",
     "text": [
      " 67%|██████▋   | 925/1386 [01:35<00:20, 22.57it/s]"
     ]
    },
    {
     "name": "stdout",
     "output_type": "stream",
     "text": [
      "['アナ', 'と', 'エルサ']\n",
      "['吹き替え', 'や', '歌']\n",
      "['0', 'の', '恋']\n",
      "['グループ', 'の', 'akb']\n",
      "['0', 'の', '軍師']\n"
     ]
    },
    {
     "name": "stderr",
     "output_type": "stream",
     "text": [
      " 67%|██████▋   | 931/1386 [01:36<00:20, 22.63it/s]"
     ]
    },
    {
     "name": "stdout",
     "output_type": "stream",
     "text": [
      "['0', 'の', '軍師']\n",
      "['0', 'の', '国分']\n",
      "['制作', 'の', '天空']\n",
      "['選手', 'が', 'ルーム']\n"
     ]
    },
    {
     "name": "stderr",
     "output_type": "stream",
     "text": [
      " 67%|██████▋   | 934/1386 [01:36<00:19, 22.86it/s]"
     ]
    },
    {
     "name": "stdout",
     "output_type": "stream",
     "text": [
      "['ストア', 'の', 'ブンデスリーガ']\n",
      "['今', 'や', '洋食']\n"
     ]
    },
    {
     "name": "stderr",
     "output_type": "stream",
     "text": [
      " 68%|██████▊   | 945/1386 [01:36<00:18, 24.07it/s]"
     ]
    },
    {
     "name": "stdout",
     "output_type": "stream",
     "text": [
      "['ランチ', 'も', '食べれる']\n"
     ]
    },
    {
     "name": "stderr",
     "output_type": "stream",
     "text": [
      " 68%|██████▊   | 948/1386 [01:43<04:56,  1.48it/s]"
     ]
    },
    {
     "name": "stdout",
     "output_type": "stream",
     "text": [
      "['意外', 'と', '少なく']\n",
      "['と', 'か', 'スープ']\n"
     ]
    },
    {
     "name": "stderr",
     "output_type": "stream",
     "text": [
      " 69%|██████▉   | 963/1386 [01:44<01:02,  6.81it/s]"
     ]
    },
    {
     "name": "stdout",
     "output_type": "stream",
     "text": [
      "['か', 'も', '必須']\n",
      "['です', 'ね', '一人']\n",
      "['と', 'か', '天国']\n"
     ]
    },
    {
     "name": "stderr",
     "output_type": "stream",
     "text": [
      " 70%|██████▉   | 969/1386 [01:44<00:41, 10.06it/s]"
     ]
    },
    {
     "name": "stdout",
     "output_type": "stream",
     "text": [
      "['なん', 'か', 'サークル']\n"
     ]
    },
    {
     "name": "stderr",
     "output_type": "stream",
     "text": [
      " 71%|███████   | 978/1386 [01:45<00:27, 14.98it/s]"
     ]
    },
    {
     "name": "stdout",
     "output_type": "stream",
     "text": [
      "['バンク', 'の', 'ゼロ']\n"
     ]
    },
    {
     "name": "stderr",
     "output_type": "stream",
     "text": [
      " 71%|███████   | 984/1386 [01:45<00:22, 17.85it/s]"
     ]
    },
    {
     "name": "stdout",
     "output_type": "stream",
     "text": [
      "['なん', 'か', '響き']\n"
     ]
    },
    {
     "name": "stderr",
     "output_type": "stream",
     "text": [
      " 72%|███████▏  | 992/1386 [01:46<00:22, 17.69it/s]"
     ]
    },
    {
     "name": "stdout",
     "output_type": "stream",
     "text": [
      "['しよう', 'かしら', '。']\n",
      "['深海', 'を', '操作']\n",
      "['マニピュレーター', 'と', 'か']\n"
     ]
    },
    {
     "name": "stderr",
     "output_type": "stream",
     "text": [
      " 72%|███████▏  | 999/1386 [01:46<00:18, 20.76it/s]"
     ]
    },
    {
     "name": "stdout",
     "output_type": "stream",
     "text": [
      "['いう', 'か', '…']\n"
     ]
    },
    {
     "name": "stderr",
     "output_type": "stream",
     "text": [
      " 73%|███████▎  | 1007/1386 [01:46<00:13, 27.43it/s]"
     ]
    },
    {
     "name": "stdout",
     "output_type": "stream",
     "text": [
      "['柴犬', 'や', 'と']\n",
      "['レトリーバー', 'と', '柴']\n",
      "['レトリーバー', 'と', '柴']\n",
      "['のばし', 'ちゃ', '駄目']\n"
     ]
    },
    {
     "name": "stderr",
     "output_type": "stream",
     "text": [
      " 74%|███████▎  | 1019/1386 [01:47<00:14, 26.19it/s]"
     ]
    },
    {
     "name": "stdout",
     "output_type": "stream",
     "text": [
      "['いう', 'か', '…']\n"
     ]
    },
    {
     "name": "stderr",
     "output_type": "stream",
     "text": [
      " 74%|███████▍  | 1028/1386 [01:47<00:15, 23.16it/s]"
     ]
    },
    {
     "name": "stdout",
     "output_type": "stream",
     "text": [
      "['編集', 'と', 'か']\n",
      "['てる', 'ん', 'でしょう']\n",
      "['遣い', 'ながら', '吸い']\n",
      "['です', 'か', '大晦日']\n"
     ]
    },
    {
     "name": "stderr",
     "output_type": "stream",
     "text": [
      " 75%|███████▍  | 1038/1386 [01:48<00:21, 15.99it/s]"
     ]
    },
    {
     "name": "stdout",
     "output_type": "stream",
     "text": [
      "['年始', 'も', '0']\n",
      "['N', 'を', 'y']\n",
      "['度', 'と', '競演']\n"
     ]
    },
    {
     "name": "stderr",
     "output_type": "stream",
     "text": [
      " 75%|███████▌  | 1044/1386 [01:48<00:19, 17.56it/s]"
     ]
    },
    {
     "name": "stdout",
     "output_type": "stream",
     "text": [
      "['夜行', 'も', '面白い']\n",
      "['グッド', 'だけ', 'です']\n"
     ]
    },
    {
     "name": "stderr",
     "output_type": "stream",
     "text": [
      " 76%|███████▌  | 1053/1386 [01:48<00:15, 21.80it/s]"
     ]
    },
    {
     "name": "stdout",
     "output_type": "stream",
     "text": [
      "['因み', 'に', '昨日']\n"
     ]
    },
    {
     "name": "stderr",
     "output_type": "stream",
     "text": [
      " 76%|███████▋  | 1059/1386 [01:49<00:17, 18.37it/s]"
     ]
    },
    {
     "name": "stdout",
     "output_type": "stream",
     "text": [
      "['た', 'くらい', 'でしょう']\n"
     ]
    },
    {
     "name": "stderr",
     "output_type": "stream",
     "text": [
      " 77%|███████▋  | 1070/1386 [01:49<00:11, 26.54it/s]"
     ]
    },
    {
     "name": "stdout",
     "output_type": "stream",
     "text": [
      "['因み', 'に', 'あなた']\n",
      "['です', 'かー', '。']\n",
      "['いつ', 'も', '家']\n",
      "['暗く', 'まで', 'なり']\n"
     ]
    },
    {
     "name": "stderr",
     "output_type": "stream",
     "text": [
      " 77%|███████▋  | 1074/1386 [01:49<00:10, 29.21it/s]"
     ]
    },
    {
     "name": "stdout",
     "output_type": "stream",
     "text": [
      "['一人', 'の', '時']\n",
      "['意外', 'と', '地味']\n"
     ]
    },
    {
     "name": "stderr",
     "output_type": "stream",
     "text": [
      " 78%|███████▊  | 1081/1386 [01:49<00:12, 23.73it/s]"
     ]
    },
    {
     "name": "stdout",
     "output_type": "stream",
     "text": [
      "['と', 'か', '自然']\n",
      "['定番', 'の', 'クライン']\n",
      "['ガルボ', 'って', 'しっ']\n",
      "['プロ', 'に', 'なろう']\n",
      "['と', 'か', '自然']\n"
     ]
    },
    {
     "name": "stderr",
     "output_type": "stream",
     "text": [
      " 78%|███████▊  | 1088/1386 [01:50<00:13, 22.17it/s]"
     ]
    },
    {
     "name": "stdout",
     "output_type": "stream",
     "text": [
      "['大物', 'か', 'も']\n",
      "['て', 'から', '声掛け']\n"
     ]
    },
    {
     "name": "stderr",
     "output_type": "stream",
     "text": [
      " 79%|███████▊  | 1091/1386 [01:50<00:13, 21.61it/s]"
     ]
    },
    {
     "name": "stdout",
     "output_type": "stream",
     "text": [
      "['互い', 'に', '見']\n",
      "['ん', 'が', '…']\n",
      "['か', 'も', '必須']\n",
      "['か', 'が', 'ひどかっ']\n"
     ]
    },
    {
     "name": "stderr",
     "output_type": "stream",
     "text": [
      " 80%|███████▉  | 1102/1386 [01:50<00:11, 24.60it/s]"
     ]
    },
    {
     "name": "stdout",
     "output_type": "stream",
     "text": [
      "['酒', 'は', '酎ハイ']\n",
      "['酒', 'は', '酎ハイ']\n",
      "['一人', 'の', '方']\n"
     ]
    },
    {
     "name": "stderr",
     "output_type": "stream",
     "text": [
      " 80%|███████▉  | 1108/1386 [01:51<00:11, 24.23it/s]"
     ]
    },
    {
     "name": "stdout",
     "output_type": "stream",
     "text": [
      "['指定', 'の', 'かっぱ']\n",
      "['と', 'か', '表情']\n",
      "['言葉', 'が', '切磋']\n",
      "['一人', 'の', '方']\n",
      "['御陰', 'で', '気づい']\n"
     ]
    },
    {
     "name": "stderr",
     "output_type": "stream",
     "text": [
      " 81%|████████  | 1125/1386 [01:51<00:09, 28.55it/s]"
     ]
    },
    {
     "name": "stdout",
     "output_type": "stream",
     "text": [
      "['因み', 'に', '足']\n",
      "['同士', 'で', '忘年']\n"
     ]
    },
    {
     "name": "stderr",
     "output_type": "stream",
     "text": [
      " 82%|████████▏ | 1133/1386 [01:52<00:08, 28.66it/s]"
     ]
    },
    {
     "name": "stdout",
     "output_type": "stream",
     "text": [
      "['なん', 'か', 'サークル']\n",
      "['手伝い', 'すら', 'ろくに']\n"
     ]
    },
    {
     "name": "stderr",
     "output_type": "stream",
     "text": [
      " 82%|████████▏ | 1141/1386 [01:52<00:07, 32.16it/s]"
     ]
    },
    {
     "name": "stdout",
     "output_type": "stream",
     "text": [
      "['ウインズ', 'って', 'あの']\n",
      "['瀕し', 'て', '手術']\n"
     ]
    },
    {
     "name": "stderr",
     "output_type": "stream",
     "text": [
      " 83%|████████▎ | 1149/1386 [01:52<00:07, 33.79it/s]"
     ]
    },
    {
     "name": "stdout",
     "output_type": "stream",
     "text": [
      "['てる', 'ん', 'でしょう']\n",
      "['な', 'ん', 'でしょう']\n"
     ]
    },
    {
     "name": "stderr",
     "output_type": "stream",
     "text": [
      " 83%|████████▎ | 1157/1386 [01:52<00:07, 32.71it/s]"
     ]
    },
    {
     "name": "stdout",
     "output_type": "stream",
     "text": [
      "['け', 'で', '掃除']\n",
      "['机', 'なんて', '論外']\n",
      "['と', 'か', '天国']\n"
     ]
    },
    {
     "name": "stderr",
     "output_type": "stream",
     "text": [
      " 84%|████████▍ | 1171/1386 [01:53<00:09, 23.18it/s]"
     ]
    },
    {
     "name": "stdout",
     "output_type": "stream",
     "text": [
      "['すみこ', 'の', 'メーク']\n",
      "['ない', 'ん', 'でしょう']\n"
     ]
    },
    {
     "name": "stderr",
     "output_type": "stream",
     "text": [
      " 85%|████████▌ | 1182/1386 [01:53<00:07, 27.32it/s]"
     ]
    },
    {
     "name": "stdout",
     "output_type": "stream",
     "text": [
      "['趣味', 'の', '白土']\n",
      "['モード', 'の', 'なれ']\n",
      "['機会', 'と', '気合い']\n"
     ]
    },
    {
     "name": "stderr",
     "output_type": "stream",
     "text": [
      " 87%|████████▋ | 1201/1386 [01:54<00:06, 27.17it/s]"
     ]
    },
    {
     "name": "stdout",
     "output_type": "stream",
     "text": [
      "['割', 'も', '夏']\n"
     ]
    },
    {
     "name": "stderr",
     "output_type": "stream",
     "text": [
      " 87%|████████▋ | 1205/1386 [01:54<00:07, 25.26it/s]"
     ]
    },
    {
     "name": "stdout",
     "output_type": "stream",
     "text": [
      "['だ', 'か', '取り留め']\n",
      "['麺類', 'で', '済ま']\n"
     ]
    },
    {
     "name": "stderr",
     "output_type": "stream",
     "text": [
      " 88%|████████▊ | 1214/1386 [01:54<00:05, 32.12it/s]"
     ]
    },
    {
     "name": "stdout",
     "output_type": "stream",
     "text": [
      "['です', 'けど', '名店']\n",
      "['ダンク', 'は', '好き']\n",
      "['き', 'て', '院生']\n",
      "['機', 'なんか', 'ダイソン']\n"
     ]
    },
    {
     "name": "stderr",
     "output_type": "stream",
     "text": [
      " 89%|████████▉ | 1235/1386 [01:55<00:06, 23.15it/s]"
     ]
    },
    {
     "name": "stdout",
     "output_type": "stream",
     "text": [
      "['対策', 'と', 'か']\n",
      "['だ', 'と', 'ぼろ負け']\n"
     ]
    },
    {
     "name": "stderr",
     "output_type": "stream",
     "text": [
      " 89%|████████▉ | 1238/1386 [01:56<00:07, 18.57it/s]"
     ]
    },
    {
     "name": "stdout",
     "output_type": "stream",
     "text": [
      "['どう', 'か', '分かり']\n",
      "['しまえ', 'ば', '規則']\n"
     ]
    },
    {
     "name": "stderr",
     "output_type": "stream",
     "text": [
      " 91%|█████████ | 1258/1386 [01:56<00:04, 27.88it/s]"
     ]
    },
    {
     "name": "stdout",
     "output_type": "stream",
     "text": [
      "['人類', 'に', '一人']\n",
      "['いう', 'と', '一人']\n",
      "['と', 'か', '外']\n",
      "['飲め', 'て', '食べれ']\n"
     ]
    },
    {
     "name": "stderr",
     "output_type": "stream",
     "text": [
      " 91%|█████████▏| 1266/1386 [01:57<00:04, 29.25it/s]"
     ]
    },
    {
     "name": "stdout",
     "output_type": "stream",
     "text": [
      "['対し', 'て', '好き嫌い']\n"
     ]
    },
    {
     "name": "stderr",
     "output_type": "stream",
     "text": [
      " 92%|█████████▏| 1276/1386 [01:57<00:04, 27.36it/s]"
     ]
    },
    {
     "name": "stdout",
     "output_type": "stream",
     "text": [
      "['オー', 'と', 'か']\n"
     ]
    },
    {
     "name": "stderr",
     "output_type": "stream",
     "text": [
      " 93%|█████████▎| 1283/1386 [01:57<00:03, 28.42it/s]"
     ]
    },
    {
     "name": "stdout",
     "output_type": "stream",
     "text": [
      "['味醂', 'を', '0']\n",
      "['料理', 'も', 'さっさと']\n",
      "['に', 'は', '敵い']\n",
      "['です', 'かー', '。']\n"
     ]
    },
    {
     "name": "stderr",
     "output_type": "stream",
     "text": [
      " 93%|█████████▎| 1287/1386 [01:57<00:03, 28.10it/s]"
     ]
    },
    {
     "name": "stdout",
     "output_type": "stream",
     "text": [
      "['です', 'か', '年始']\n",
      "['ボール', 'は', '食え']\n",
      "['雑誌', 'が', '0']\n"
     ]
    },
    {
     "name": "stderr",
     "output_type": "stream",
     "text": [
      " 94%|█████████▎| 1298/1386 [01:58<00:03, 28.66it/s]"
     ]
    },
    {
     "name": "stdout",
     "output_type": "stream",
     "text": [
      "['か', 'も', '必須']\n",
      "['と', 'か', '日本']\n",
      "['部活', 'から', 'ずっと']\n"
     ]
    },
    {
     "name": "stderr",
     "output_type": "stream",
     "text": [
      " 94%|█████████▍| 1304/1386 [01:58<00:02, 27.44it/s]"
     ]
    },
    {
     "name": "stdout",
     "output_type": "stream",
     "text": [
      "['練習', 'と', 'か']\n",
      "['特番', 'で', '長かっ']\n",
      "['因み', 'に', '何']\n",
      "['鴨の嘴', 'と', 'いう']\n"
     ]
    },
    {
     "name": "stderr",
     "output_type": "stream",
     "text": [
      " 95%|█████████▍| 1311/1386 [01:58<00:02, 28.68it/s]"
     ]
    },
    {
     "name": "stdout",
     "output_type": "stream",
     "text": [
      "['かい', 'の', '時期']\n",
      "['言葉', 'が', '切磋']\n"
     ]
    },
    {
     "name": "stderr",
     "output_type": "stream",
     "text": [
      " 95%|█████████▌| 1317/1386 [01:58<00:02, 28.06it/s]"
     ]
    },
    {
     "name": "stdout",
     "output_type": "stream",
     "text": [
      "['な', 'ん', 'でしょう']\n",
      "['言葉', 'が', '切磋']\n",
      "['た', 'から', '…']\n"
     ]
    },
    {
     "name": "stderr",
     "output_type": "stream",
     "text": [
      " 96%|█████████▌| 1327/1386 [01:59<00:02, 28.67it/s]"
     ]
    },
    {
     "name": "stdout",
     "output_type": "stream",
     "text": [
      "['時代', 'だけ', 'バス']\n",
      "['虎', 'と', '黒猫']\n"
     ]
    },
    {
     "name": "stderr",
     "output_type": "stream",
     "text": [
      " 96%|█████████▌| 1333/1386 [01:59<00:02, 24.32it/s]"
     ]
    },
    {
     "name": "stdout",
     "output_type": "stream",
     "text": [
      "['ゼミ', 'に', '外国']\n"
     ]
    },
    {
     "name": "stderr",
     "output_type": "stream",
     "text": [
      " 97%|█████████▋| 1340/1386 [01:59<00:01, 27.32it/s]"
     ]
    },
    {
     "name": "stdout",
     "output_type": "stream",
     "text": [
      "['相乗り', 'と', 'か']\n"
     ]
    },
    {
     "name": "stderr",
     "output_type": "stream",
     "text": [
      " 97%|█████████▋| 1348/1386 [02:00<00:01, 31.59it/s]"
     ]
    },
    {
     "name": "stdout",
     "output_type": "stream",
     "text": [
      "['か', 'は', '作り置き']\n",
      "['何', 'の', 'アンコール']\n"
     ]
    },
    {
     "name": "stderr",
     "output_type": "stream",
     "text": [
      " 98%|█████████▊| 1356/1386 [02:00<00:01, 24.18it/s]"
     ]
    },
    {
     "name": "stdout",
     "output_type": "stream",
     "text": [
      "['さん', 'で', '育た']\n",
      "['デジカメ', 'は', 'もと']\n",
      "['た', 'くらい', 'でしょう']\n"
     ]
    },
    {
     "name": "stderr",
     "output_type": "stream",
     "text": [
      " 98%|█████████▊| 1363/1386 [02:00<00:00, 24.24it/s]"
     ]
    },
    {
     "name": "stdout",
     "output_type": "stream",
     "text": [
      "['送迎', 'に', '親']\n",
      "['昼間', 'と', 'か']\n"
     ]
    },
    {
     "name": "stderr",
     "output_type": "stream",
     "text": [
      " 99%|█████████▉| 1371/1386 [02:00<00:00, 29.57it/s]"
     ]
    },
    {
     "name": "stdout",
     "output_type": "stream",
     "text": [
      "['因み', 'に', '足']\n",
      "['因み', 'に', '足']\n"
     ]
    },
    {
     "name": "stderr",
     "output_type": "stream",
     "text": [
      " 99%|█████████▉| 1375/1386 [02:01<00:00, 30.17it/s]"
     ]
    },
    {
     "name": "stdout",
     "output_type": "stream",
     "text": [
      "['それ', 'は', '仕方ない']\n",
      "['作っ', 'て', 'いやいや']\n"
     ]
    },
    {
     "name": "stderr",
     "output_type": "stream",
     "text": [
      "100%|██████████| 1386/1386 [02:01<00:00, 11.40it/s]"
     ]
    },
    {
     "name": "stdout",
     "output_type": "stream",
     "text": [
      "['実', 'は', '。']\n"
     ]
    },
    {
     "name": "stderr",
     "output_type": "stream",
     "text": [
      "\n"
     ]
    }
   ],
   "source": [
    "y_pred_2 = []\n",
    "for i, utt in enumerate( tqdm( sys_utt ) )  :\n",
    "    cleaned = clean_text(utt).replace(\"?\", \"。\").replace(\"!\", \"\")\n",
    "    # print(cleaned)\n",
    "    if sentence_judge(cleaned, N=3):\n",
    "        y_pred_2.append(0)\n",
    "    else:\n",
    "        y_pred_2.append(1)\n",
    "    # if i==35:\n",
    "    #     break"
   ]
  },
  {
   "cell_type": "code",
   "execution_count": 19,
   "metadata": {},
   "outputs": [
    {
     "data": {
      "text/plain": [
       "754"
      ]
     },
     "execution_count": 19,
     "metadata": {},
     "output_type": "execute_result"
    }
   ],
   "source": [
    "y_pred_2.count(0)"
   ]
  },
  {
   "cell_type": "code",
   "execution_count": 20,
   "metadata": {},
   "outputs": [
    {
     "name": "stdout",
     "output_type": "stream",
     "text": [
      "confusion matrix = \n",
      " [[691 292]\n",
      " [ 63 340]]\n",
      "accuracy =  0.7438672438672439\n",
      "precision =  0.5379746835443038\n",
      "recall =  0.8436724565756824\n",
      "f1 score =  0.6570048309178744\n"
     ]
    }
   ],
   "source": [
    "score(y, y_pred_2)"
   ]
  },
  {
   "cell_type": "markdown",
   "metadata": {},
   "source": [
    "- 使い方が難しい\n",
    "\n",
    "        confusion matrix = \n",
    "        [[666 713]\n",
    "        [  6   1]]\n",
    "        accuracy =  0.48124098124098125\n",
    "        precision =  0.0014005602240896359\n",
    "        recall =  0.14285714285714285\n",
    "        f1 score =  0.0027739251040221915\n",
    "\n",
    "- ちょっと改善(プログラムミスを修正)\n",
    "\n",
    "        confusion matrix = \n",
    "        [[870 509]\n",
    "        [  6   1]]\n",
    "        accuracy =  0.6284271284271284\n",
    "        precision =  0.00196078431372549\n",
    "        recall =  0.14285714285714285\n",
    "        f1 score =  0.0038684719535783366\n",
    "\n",
    "    - 意外と普通っぽい ngram がない\n",
    "        - [\"を\", \"覚える\", *]\n",
    "\n",
    "    - スコア化はせず， ngram が存在しなければアウトと仮定した\n",
    "        - 先行研究のモデルで，そういったボーダーは存在しない\n",
    "\n",
    "- 用法エラー + 誤情報\n",
    "\n",
    "        confusion matrix = \n",
    "        [[758 225]\n",
    "        [118 285]]\n",
    "        accuracy =  0.7525252525252525\n",
    "        precision =  0.5588235294117647\n",
    "        recall =  0.707196029776675\n",
    "        f1 score =  0.6243154435925521\n",
    "    \n",
    "\n",
    "    "
   ]
  },
  {
   "cell_type": "code",
   "execution_count": 21,
   "metadata": {},
   "outputs": [
    {
     "name": "stdout",
     "output_type": "stream",
     "text": [
      "success save : ../X_y_data/base_y_pred/utt_content.pickle\n"
     ]
    }
   ],
   "source": [
    "data_path = \"../X_y_data/base_y_pred/\"\n",
    "# data_name = \"utt_form.pickle\"\n",
    "data_name = \"utt_content.pickle\"\n",
    "dataM = DataManager(data_path)\n",
    "dataM.save_data(data_name, [y, y_pred_2])"
   ]
  },
  {
   "cell_type": "code",
   "execution_count": 16,
   "metadata": {},
   "outputs": [
    {
     "data": {
      "text/html": [
       "<div>\n",
       "<style scoped>\n",
       "    .dataframe tbody tr th:only-of-type {\n",
       "        vertical-align: middle;\n",
       "    }\n",
       "\n",
       "    .dataframe tbody tr th {\n",
       "        vertical-align: top;\n",
       "    }\n",
       "\n",
       "    .dataframe thead th {\n",
       "        text-align: right;\n",
       "    }\n",
       "</style>\n",
       "<table border=\"1\" class=\"dataframe\">\n",
       "  <thead>\n",
       "    <tr style=\"text-align: right;\">\n",
       "      <th></th>\n",
       "      <th>surface</th>\n",
       "      <th>part_of_speech</th>\n",
       "      <th>infl_type</th>\n",
       "      <th>infl_form</th>\n",
       "      <th>base_form</th>\n",
       "      <th>reading</th>\n",
       "      <th>phonetic</th>\n",
       "    </tr>\n",
       "  </thead>\n",
       "  <tbody>\n",
       "    <tr>\n",
       "      <th>0</th>\n",
       "      <td>頼りがい</td>\n",
       "      <td>名詞-普通名詞-一般-</td>\n",
       "      <td></td>\n",
       "      <td></td>\n",
       "      <td>タヨリガイ</td>\n",
       "      <td>[頼り甲斐, 頼りがい, タヨリガイ, 頼りがい, タヨリガイ]</td>\n",
       "      <td>*</td>\n",
       "    </tr>\n",
       "    <tr>\n",
       "      <th>1</th>\n",
       "      <td>の</td>\n",
       "      <td>助詞-格助詞--</td>\n",
       "      <td></td>\n",
       "      <td></td>\n",
       "      <td>ノ</td>\n",
       "      <td>[の, の, ノ, の, ノ]</td>\n",
       "      <td>*</td>\n",
       "    </tr>\n",
       "    <tr>\n",
       "      <th>2</th>\n",
       "      <td>あっ</td>\n",
       "      <td>動詞-非自立可能--</td>\n",
       "      <td>五段-ラ行</td>\n",
       "      <td>連用形-促音便</td>\n",
       "      <td>アル</td>\n",
       "      <td>[有る, あっ, アッ, ある, アル]</td>\n",
       "      <td>*</td>\n",
       "    </tr>\n",
       "    <tr>\n",
       "      <th>3</th>\n",
       "      <td>た</td>\n",
       "      <td>助動詞---</td>\n",
       "      <td>助動詞-タ</td>\n",
       "      <td>連体形-一般</td>\n",
       "      <td>タ</td>\n",
       "      <td>[た, た, タ, た, タ]</td>\n",
       "      <td>*</td>\n",
       "    </tr>\n",
       "    <tr>\n",
       "      <th>4</th>\n",
       "      <td>可愛く</td>\n",
       "      <td>形容詞-一般--</td>\n",
       "      <td>形容詞</td>\n",
       "      <td>連用形-一般</td>\n",
       "      <td>カワイイ</td>\n",
       "      <td>[可愛い, 可愛く, カワイク, 可愛い, カワイー]</td>\n",
       "      <td>*</td>\n",
       "    </tr>\n",
       "    <tr>\n",
       "      <th>5</th>\n",
       "      <td>ない</td>\n",
       "      <td>形容詞-非自立可能--</td>\n",
       "      <td>形容詞</td>\n",
       "      <td>連体形-一般</td>\n",
       "      <td>ナイ</td>\n",
       "      <td>[無い, ない, ナイ, ない, ナイ]</td>\n",
       "      <td>*</td>\n",
       "    </tr>\n",
       "    <tr>\n",
       "      <th>6</th>\n",
       "      <td>兄</td>\n",
       "      <td>名詞-普通名詞-一般-</td>\n",
       "      <td></td>\n",
       "      <td></td>\n",
       "      <td>アニ</td>\n",
       "      <td>[兄, 兄, アニ, 兄, アニ]</td>\n",
       "      <td>*</td>\n",
       "    </tr>\n",
       "    <tr>\n",
       "      <th>7</th>\n",
       "      <td>さん</td>\n",
       "      <td>接尾辞-名詞的-一般-</td>\n",
       "      <td></td>\n",
       "      <td></td>\n",
       "      <td>サン</td>\n",
       "      <td>[さん, さん, サン, さん, サン]</td>\n",
       "      <td>*</td>\n",
       "    </tr>\n",
       "    <tr>\n",
       "      <th>8</th>\n",
       "      <td>が</td>\n",
       "      <td>助詞-格助詞--</td>\n",
       "      <td></td>\n",
       "      <td></td>\n",
       "      <td>ガ</td>\n",
       "      <td>[が, が, ガ, が, ガ]</td>\n",
       "      <td>*</td>\n",
       "    </tr>\n",
       "    <tr>\n",
       "      <th>9</th>\n",
       "      <td>死ん</td>\n",
       "      <td>動詞-一般--</td>\n",
       "      <td>五段-ナ行</td>\n",
       "      <td>連用形-撥音便</td>\n",
       "      <td>シヌ</td>\n",
       "      <td>[死ぬ, 死ん, シン, 死ぬ, シヌ]</td>\n",
       "      <td>*</td>\n",
       "    </tr>\n",
       "    <tr>\n",
       "      <th>10</th>\n",
       "      <td>だ</td>\n",
       "      <td>助動詞---</td>\n",
       "      <td>助動詞-タ</td>\n",
       "      <td>連体形-一般</td>\n",
       "      <td>タ</td>\n",
       "      <td>[た, だ, ダ, だ, ダ]</td>\n",
       "      <td>*</td>\n",
       "    </tr>\n",
       "  </tbody>\n",
       "</table>\n",
       "</div>"
      ],
      "text/plain": [
       "   surface part_of_speech infl_type infl_form base_form  \\\n",
       "0     頼りがい    名詞-普通名詞-一般-                         タヨリガイ   \n",
       "1        の       助詞-格助詞--                             ノ   \n",
       "2       あっ     動詞-非自立可能--     五段-ラ行   連用形-促音便        アル   \n",
       "3        た         助動詞---     助動詞-タ    連体形-一般         タ   \n",
       "4      可愛く       形容詞-一般--       形容詞    連用形-一般      カワイイ   \n",
       "5       ない    形容詞-非自立可能--       形容詞    連体形-一般        ナイ   \n",
       "6        兄    名詞-普通名詞-一般-                            アニ   \n",
       "7       さん    接尾辞-名詞的-一般-                            サン   \n",
       "8        が       助詞-格助詞--                             ガ   \n",
       "9       死ん        動詞-一般--     五段-ナ行   連用形-撥音便        シヌ   \n",
       "10       だ         助動詞---     助動詞-タ    連体形-一般         タ   \n",
       "\n",
       "                             reading phonetic  \n",
       "0   [頼り甲斐, 頼りがい, タヨリガイ, 頼りがい, タヨリガイ]        *  \n",
       "1                    [の, の, ノ, の, ノ]        *  \n",
       "2               [有る, あっ, アッ, ある, アル]        *  \n",
       "3                    [た, た, タ, た, タ]        *  \n",
       "4        [可愛い, 可愛く, カワイク, 可愛い, カワイー]        *  \n",
       "5               [無い, ない, ナイ, ない, ナイ]        *  \n",
       "6                  [兄, 兄, アニ, 兄, アニ]        *  \n",
       "7               [さん, さん, サン, さん, サン]        *  \n",
       "8                    [が, が, ガ, が, ガ]        *  \n",
       "9               [死ぬ, 死ん, シン, 死ぬ, シヌ]        *  \n",
       "10                   [た, だ, ダ, だ, ダ]        *  "
      ]
     },
     "execution_count": 16,
     "metadata": {},
     "output_type": "execute_result"
    }
   ],
   "source": [
    "df = analyzer_unidic.analyze_with_dataframe(\"頼りがいのあった可愛くない兄さんが死んだ\")\n",
    "df"
   ]
  }
 ],
 "metadata": {
  "interpreter": {
   "hash": "31f2aee4e71d21fbe5cf8b01ff0e069b9275f58929596ceb00d14d90e3e16cd6"
  },
  "kernelspec": {
   "display_name": "Python 3.6.9 64-bit",
   "language": "python",
   "name": "python3"
  },
  "language_info": {
   "codemirror_mode": {
    "name": "ipython",
    "version": 3
   },
   "file_extension": ".py",
   "mimetype": "text/x-python",
   "name": "python",
   "nbconvert_exporter": "python",
   "pygments_lexer": "ipython3",
   "version": "3.6.9"
  },
  "orig_nbformat": 4
 },
 "nbformat": 4,
 "nbformat_minor": 2
}
