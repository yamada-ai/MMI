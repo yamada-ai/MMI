{
 "cells": [
  {
   "cell_type": "code",
   "execution_count": 1,
   "metadata": {},
   "outputs": [],
   "source": [
    "import json\n",
    "import os\n",
    "import pandas as pd\n",
    "import numpy as np\n",
    "from pathlib import Path\n",
    "import collections\n",
    "from sklearn.model_selection import train_test_split\n",
    "from sklearn import metrics\n",
    "\n",
    "import sys\n",
    "sys.path.append(\"../\")\n",
    "from datatools.analyzer import *\n",
    "from utterance.error_tools import *\n",
    "\n",
    "from datatools.maneger import DataManager\n",
    "from datatools.preproc import Preprocessor"
   ]
  },
  {
   "cell_type": "code",
   "execution_count": 2,
   "metadata": {},
   "outputs": [],
   "source": [
    "import torch\n",
    "import torch.nn as nn\n",
    "import torch.nn.functional as F\n",
    "from torch.nn.modules import loss\n",
    "import torch.optim as optim"
   ]
  },
  {
   "cell_type": "code",
   "execution_count": 3,
   "metadata": {},
   "outputs": [],
   "source": [
    "class CaseModel(nn.Module):\n",
    "    def __init__(self, embedding_dim, tagset_size):\n",
    "        # 親クラスのコンストラクタ。決まり文句\n",
    "        super(CaseModel, self).__init__()    \n",
    "        self.embedding_dim = embedding_dim\n",
    "        self.hid1= embedding_dim*2\n",
    "        self.hid2 = embedding_dim//2\n",
    "        self.fc1 = nn.Linear(self.embedding_dim, self.hid1)\n",
    "        self.fc2 = nn.Linear(self.hid1, self.hid2)\n",
    "        self.hidden2tag = nn.Linear(self.hid2, tagset_size)\n",
    "    \n",
    "    def forward(self, x):\n",
    "        y = F.relu(self.fc1(x))\n",
    "        y = F.relu(self.fc2(y))\n",
    "        y = self.hidden2tag( y )\n",
    "        y = F.log_softmax(y, dim=1)\n",
    "        return y"
   ]
  },
  {
   "cell_type": "code",
   "execution_count": 4,
   "metadata": {},
   "outputs": [],
   "source": [
    "border=0.8"
   ]
  },
  {
   "cell_type": "code",
   "execution_count": 5,
   "metadata": {},
   "outputs": [
    {
     "name": "stdout",
     "output_type": "stream",
     "text": [
      "success load : ../models/utterance/group_border=0.8_2.pickle\n"
     ]
    }
   ],
   "source": [
    "dict_path = \"../models/utterance/\"\n",
    "dict_name = \"group_border={0}_2.pickle\".format(border)\n",
    "dictM = DataManager(dict_path)\n",
    "group_dict = dictM.load_data(dict_name)"
   ]
  },
  {
   "cell_type": "code",
   "execution_count": 6,
   "metadata": {},
   "outputs": [],
   "source": [
    "def search_word(word):\n",
    "    word = clean_text(word)\n",
    "    found_list = []\n",
    "    for group_key in group_dict.keys():\n",
    "        if word in group_dict[group_key]:\n",
    "            found_list.append(group_key)\n",
    "    return found_list"
   ]
  },
  {
   "cell_type": "code",
   "execution_count": 7,
   "metadata": {},
   "outputs": [
    {
     "name": "stderr",
     "output_type": "stream",
     "text": [
      "[4775] 2022-01-26 20:02:58,674 Info gensim.models.keyedvectors :loading projection weights from ../../corpus/w2v/model.vec\n",
      "[4775] 2022-01-26 20:04:01,056 Info gensim.utils :KeyedVectors lifecycle event {'msg': 'loaded (351122, 300) matrix of type float32 from ../../corpus/w2v/model.vec', 'binary': False, 'encoding': 'utf8', 'datetime': '2022-01-26T20:04:01.056382', 'gensim': '4.0.1', 'python': '3.6.9 (default, Jan 26 2021, 15:33:00) \\n[GCC 8.4.0]', 'platform': 'Linux-5.4.72-microsoft-standard-WSL2-x86_64-with-Ubuntu-18.04-bionic', 'event': 'load_word2vec_format'}\n"
     ]
    }
   ],
   "source": [
    "from gensim.models import KeyedVectors\n",
    "w2v_path = \"../../corpus/w2v/\"\n",
    "# fasttext\n",
    "# https://qiita.com/Hironsan/items/513b9f93752ecee9e670\n",
    "# w2v_name =  \"dep-ja-300dim\"\n",
    "w2v_name =  \"model.vec\"\n",
    "w2v_model = KeyedVectors.load_word2vec_format(w2v_path+w2v_name)"
   ]
  },
  {
   "cell_type": "code",
   "execution_count": 8,
   "metadata": {},
   "outputs": [],
   "source": [
    "group2index = dict(zip( group_dict.keys(), range(len(group_dict.keys())) ))\n",
    "index2group = dict(zip(range(len(group_dict.keys())), group_dict.keys() ))"
   ]
  },
  {
   "cell_type": "code",
   "execution_count": 9,
   "metadata": {},
   "outputs": [
    {
     "name": "stdout",
     "output_type": "stream",
     "text": [
      "success load : ../models/utterance/case_frame_0.8_2.pickle\n"
     ]
    }
   ],
   "source": [
    "model_path = \"../models/utterance/\"\n",
    "model_name = \"case_frame_{0}_2.pickle\".format(border)\n",
    "modelM = DataManager(model_path)\n",
    "cmodel = modelM.load_data(model_name)"
   ]
  },
  {
   "cell_type": "code",
   "execution_count": 10,
   "metadata": {},
   "outputs": [],
   "source": [
    "classify_border=0.75\n",
    "def classify_word(word, mode=\"judge\"):\n",
    "    # word = clean_text(word)\n",
    "    if word not in w2v_model:\n",
    "        return \"\"\n",
    "    with torch.no_grad():\n",
    "        vector = torch.tensor([w2v_model[word]]).cuda()\n",
    "        pred = np.exp(np.array(cmodel(vector).cpu()))\n",
    "        p_argmax = pred.argmax()\n",
    "        # print(pred[0][p_argmax])\n",
    "        if mode==\"register\":\n",
    "            if pred[0][p_argmax] < classify_border:\n",
    "                return \"\"\n",
    "    return index2group[p_argmax]"
   ]
  },
  {
   "cell_type": "code",
   "execution_count": 11,
   "metadata": {},
   "outputs": [
    {
     "data": {
      "text/plain": [
       "'<もの>'"
      ]
     },
     "execution_count": 11,
     "metadata": {},
     "output_type": "execute_result"
    }
   ],
   "source": [
    "word =  \"デジカメ\"\n",
    "classify_word(word)"
   ]
  },
  {
   "cell_type": "code",
   "execution_count": 12,
   "metadata": {},
   "outputs": [],
   "source": [
    "def register_triple(case_frame:dict, V, C, Noun):\n",
    "    # 動詞の確認\n",
    "    if V not in case_frame:\n",
    "        case_frame[V] = dict()\n",
    "\n",
    "    # 格の確認\n",
    "    if C not in case_frame[V]:\n",
    "        case_frame[V][C] = set()\n",
    "    \n",
    "    # 名詞の登録\n",
    "    case_frame[V][C].add(Noun)"
   ]
  },
  {
   "cell_type": "code",
   "execution_count": 13,
   "metadata": {},
   "outputs": [],
   "source": [
    "def compound_noun(token):\n",
    "    base = token.lemma_\n",
    "    for child in token.children:\n",
    "        if child.dep_ == \"compound\":\n",
    "           base = child.lemma_ + base\n",
    "    return base"
   ]
  },
  {
   "cell_type": "code",
   "execution_count": 14,
   "metadata": {},
   "outputs": [],
   "source": [
    "case_set = set(\"は　が　を　に　で\")\n",
    "\n",
    "def extract_RDF_triple(text, clean_=True):\n",
    "    if clean_:\n",
    "        text = clean_text(text)\n",
    "    doc = nlp(text)\n",
    "    triple_list = []\n",
    "    for _, token in enumerate( doc ):\n",
    "        if token.pos_ in [\"VERB\", \"ADJ\"]:\n",
    "        # if token.pos_==\"VERB\":\n",
    "        # if is_declinable(token):\n",
    "            for c in token.children:\n",
    "                if c.dep_ in [\"nsubj\", \"obj\", \"obl\"]:\n",
    "                    noun = c.lemma_\n",
    "                    for c2 in c.children:\n",
    "                        if c2.dep_ == \"case\" and c2.orth_ in case_set:\n",
    "                        # if c2.dep_ == \"case\":\n",
    "                            case = c2.orth_\n",
    "                            if case == \"は\":\n",
    "                                case = \"が\"\n",
    "                            triple_list.append( (token.lemma_, case, noun) )\n",
    "    return triple_list"
   ]
  },
  {
   "cell_type": "code",
   "execution_count": 15,
   "metadata": {},
   "outputs": [],
   "source": [
    "path = \"../hand_labeled/\"\n",
    "datalist = ['DCM', 'DIT', 'IRS']\n",
    "convs = read_conv(path, datalist)"
   ]
  },
  {
   "cell_type": "code",
   "execution_count": 16,
   "metadata": {},
   "outputs": [],
   "source": [
    "error = \"Semantic error\"\n",
    "sys_utt = []\n",
    "y = []\n",
    "for conv in convs:\n",
    "    for ut in conv:\n",
    "        # if ut.is_system() and ut.is_exist_error():\n",
    "        if not ut.is_exist_error():\n",
    "            sys_utt.append(ut.utt)\n",
    "            if ut.is_error_included(error):\n",
    "                y.append(1)\n",
    "            else:\n",
    "                y.append(0)"
   ]
  },
  {
   "cell_type": "code",
   "execution_count": 17,
   "metadata": {},
   "outputs": [],
   "source": [
    "# with open(\"../../corpus/NTT/persona.json\", \"r\", encoding=\"utf-8\") as f:\n",
    "#     convs = json.load(f)\n",
    "# all_utt = []\n",
    "# for did in tqdm( convs[\"convs\"] ) :\n",
    "#     dids = list( did.keys() )[0]\n",
    "#     all_utt += did[dids]"
   ]
  },
  {
   "cell_type": "code",
   "execution_count": 18,
   "metadata": {},
   "outputs": [],
   "source": [
    "# all_utt = sys_utt + all_utt\n",
    "# len(all_utt)"
   ]
  },
  {
   "cell_type": "code",
   "execution_count": 19,
   "metadata": {},
   "outputs": [],
   "source": [
    "def read_file(filename, batch_size=10000) -> list:\n",
    "    f = open(filename, 'r', encoding='UTF-8')\n",
    "    text_list = [  ]\n",
    "    concated = \"\"\n",
    "    for i, line in enumerate( f.readlines() ):\n",
    "        concated += line.rstrip('\\n')\n",
    "        if (i+1) % batch_size == 0:\n",
    "            text_list.append(concated)\n",
    "            concated = \"\"\n",
    "    text_list.append(concated)\n",
    "    f.close()\n",
    "    return text_list"
   ]
  },
  {
   "cell_type": "code",
   "execution_count": 20,
   "metadata": {},
   "outputs": [
    {
     "ename": "KeyboardInterrupt",
     "evalue": "",
     "output_type": "error",
     "traceback": [
      "\u001b[0;31m---------------------------------------------------------------------------\u001b[0m",
      "\u001b[0;31mKeyboardInterrupt\u001b[0m                         Traceback (most recent call last)",
      "\u001b[0;32m<ipython-input-20-d37f4baadb3b>\u001b[0m in \u001b[0;36m<module>\u001b[0;34m\u001b[0m\n\u001b[1;32m      2\u001b[0m \u001b[0mfilename\u001b[0m \u001b[0;34m=\u001b[0m \u001b[0;34m\"../../corpus/wiki/wiki_40b_train_normal.txt\"\u001b[0m\u001b[0;34m\u001b[0m\u001b[0;34m\u001b[0m\u001b[0m\n\u001b[1;32m      3\u001b[0m \u001b[0;31m# filename = \"plain.txt\"\u001b[0m\u001b[0;34m\u001b[0m\u001b[0;34m\u001b[0m\u001b[0;34m\u001b[0m\u001b[0m\n\u001b[0;32m----> 4\u001b[0;31m \u001b[0mall_list\u001b[0m \u001b[0;34m=\u001b[0m \u001b[0mread_file\u001b[0m\u001b[0;34m(\u001b[0m\u001b[0mfilename\u001b[0m\u001b[0;34m,\u001b[0m \u001b[0mbatch_size\u001b[0m\u001b[0;34m=\u001b[0m\u001b[0;36m100\u001b[0m\u001b[0;34m)\u001b[0m\u001b[0;34m\u001b[0m\u001b[0;34m\u001b[0m\u001b[0m\n\u001b[0m\u001b[1;32m      5\u001b[0m \u001b[0mprint\u001b[0m\u001b[0;34m(\u001b[0m\u001b[0;34m\"len of text_list :\"\u001b[0m\u001b[0;34m,\u001b[0m \u001b[0mlen\u001b[0m\u001b[0;34m(\u001b[0m\u001b[0mall_list\u001b[0m\u001b[0;34m)\u001b[0m\u001b[0;34m)\u001b[0m\u001b[0;34m\u001b[0m\u001b[0;34m\u001b[0m\u001b[0m\n",
      "\u001b[0;32m<ipython-input-19-6b554c9977f7>\u001b[0m in \u001b[0;36mread_file\u001b[0;34m(filename, batch_size)\u001b[0m\n\u001b[1;32m      3\u001b[0m     \u001b[0mtext_list\u001b[0m \u001b[0;34m=\u001b[0m \u001b[0;34m[\u001b[0m  \u001b[0;34m]\u001b[0m\u001b[0;34m\u001b[0m\u001b[0;34m\u001b[0m\u001b[0m\n\u001b[1;32m      4\u001b[0m     \u001b[0mconcated\u001b[0m \u001b[0;34m=\u001b[0m \u001b[0;34m\"\"\u001b[0m\u001b[0;34m\u001b[0m\u001b[0;34m\u001b[0m\u001b[0m\n\u001b[0;32m----> 5\u001b[0;31m     \u001b[0;32mfor\u001b[0m \u001b[0mi\u001b[0m\u001b[0;34m,\u001b[0m \u001b[0mline\u001b[0m \u001b[0;32min\u001b[0m \u001b[0menumerate\u001b[0m\u001b[0;34m(\u001b[0m \u001b[0mf\u001b[0m\u001b[0;34m.\u001b[0m\u001b[0mreadlines\u001b[0m\u001b[0;34m(\u001b[0m\u001b[0;34m)\u001b[0m \u001b[0;34m)\u001b[0m\u001b[0;34m:\u001b[0m\u001b[0;34m\u001b[0m\u001b[0;34m\u001b[0m\u001b[0m\n\u001b[0m\u001b[1;32m      6\u001b[0m         \u001b[0mconcated\u001b[0m \u001b[0;34m+=\u001b[0m \u001b[0mline\u001b[0m\u001b[0;34m.\u001b[0m\u001b[0mrstrip\u001b[0m\u001b[0;34m(\u001b[0m\u001b[0;34m'\\n'\u001b[0m\u001b[0;34m)\u001b[0m\u001b[0;34m\u001b[0m\u001b[0;34m\u001b[0m\u001b[0m\n\u001b[1;32m      7\u001b[0m         \u001b[0;32mif\u001b[0m \u001b[0;34m(\u001b[0m\u001b[0mi\u001b[0m\u001b[0;34m+\u001b[0m\u001b[0;36m1\u001b[0m\u001b[0;34m)\u001b[0m \u001b[0;34m%\u001b[0m \u001b[0mbatch_size\u001b[0m \u001b[0;34m==\u001b[0m \u001b[0;36m0\u001b[0m\u001b[0;34m:\u001b[0m\u001b[0;34m\u001b[0m\u001b[0;34m\u001b[0m\u001b[0m\n",
      "\u001b[0;32m/usr/lib/python3.6/codecs.py\u001b[0m in \u001b[0;36mdecode\u001b[0;34m(self, input, final)\u001b[0m\n\u001b[1;32m    319\u001b[0m         \u001b[0;31m# decode input (taking the buffer into account)\u001b[0m\u001b[0;34m\u001b[0m\u001b[0;34m\u001b[0m\u001b[0;34m\u001b[0m\u001b[0m\n\u001b[1;32m    320\u001b[0m         \u001b[0mdata\u001b[0m \u001b[0;34m=\u001b[0m \u001b[0mself\u001b[0m\u001b[0;34m.\u001b[0m\u001b[0mbuffer\u001b[0m \u001b[0;34m+\u001b[0m \u001b[0minput\u001b[0m\u001b[0;34m\u001b[0m\u001b[0;34m\u001b[0m\u001b[0m\n\u001b[0;32m--> 321\u001b[0;31m         \u001b[0;34m(\u001b[0m\u001b[0mresult\u001b[0m\u001b[0;34m,\u001b[0m \u001b[0mconsumed\u001b[0m\u001b[0;34m)\u001b[0m \u001b[0;34m=\u001b[0m \u001b[0mself\u001b[0m\u001b[0;34m.\u001b[0m\u001b[0m_buffer_decode\u001b[0m\u001b[0;34m(\u001b[0m\u001b[0mdata\u001b[0m\u001b[0;34m,\u001b[0m \u001b[0mself\u001b[0m\u001b[0;34m.\u001b[0m\u001b[0merrors\u001b[0m\u001b[0;34m,\u001b[0m \u001b[0mfinal\u001b[0m\u001b[0;34m)\u001b[0m\u001b[0;34m\u001b[0m\u001b[0;34m\u001b[0m\u001b[0m\n\u001b[0m\u001b[1;32m    322\u001b[0m         \u001b[0;31m# keep undecoded input until the next call\u001b[0m\u001b[0;34m\u001b[0m\u001b[0;34m\u001b[0m\u001b[0;34m\u001b[0m\u001b[0m\n\u001b[1;32m    323\u001b[0m         \u001b[0mself\u001b[0m\u001b[0;34m.\u001b[0m\u001b[0mbuffer\u001b[0m \u001b[0;34m=\u001b[0m \u001b[0mdata\u001b[0m\u001b[0;34m[\u001b[0m\u001b[0mconsumed\u001b[0m\u001b[0;34m:\u001b[0m\u001b[0;34m]\u001b[0m\u001b[0;34m\u001b[0m\u001b[0;34m\u001b[0m\u001b[0m\n",
      "\u001b[0;31mKeyboardInterrupt\u001b[0m: "
     ]
    }
   ],
   "source": [
    "filename = \"../../corpus/wiki/wiki_normalized.txt\"\n",
    "filename = \"../../corpus/wiki/wiki_40b_train_normal.txt\"\n",
    "# filename = \"plain.txt\"\n",
    "all_list = read_file(filename, batch_size=100)\n",
    "print(\"len of text_list :\", len(all_list))"
   ]
  },
  {
   "cell_type": "code",
   "execution_count": null,
   "metadata": {},
   "outputs": [],
   "source": [
    "all_utt = all_list[::10]"
   ]
  },
  {
   "cell_type": "code",
   "execution_count": null,
   "metadata": {},
   "outputs": [],
   "source": [
    "case_frame = dict()"
   ]
  },
  {
   "cell_type": "code",
   "execution_count": null,
   "metadata": {},
   "outputs": [
    {
     "data": {
      "text/plain": [
       "51.87222222222223"
      ]
     },
     "execution_count": 23,
     "metadata": {},
     "output_type": "execute_result"
    }
   ],
   "source": [
    "18674/6/60"
   ]
  },
  {
   "cell_type": "code",
   "execution_count": null,
   "metadata": {},
   "outputs": [
    {
     "name": "stderr",
     "output_type": "stream",
     "text": [
      "  1%|          | 19/1868 [02:42<4:23:59,  8.57s/it]\n"
     ]
    },
    {
     "ename": "KeyboardInterrupt",
     "evalue": "",
     "output_type": "error",
     "traceback": [
      "\u001b[0;31m---------------------------------------------------------------------------\u001b[0m",
      "\u001b[0;31mKeyboardInterrupt\u001b[0m                         Traceback (most recent call last)",
      "\u001b[0;32m<ipython-input-24-3d3d99fa8d3c>\u001b[0m in \u001b[0;36m<module>\u001b[0;34m\u001b[0m\n\u001b[1;32m     13\u001b[0m                     \u001b[0mregister_triple\u001b[0m\u001b[0;34m(\u001b[0m\u001b[0mcase_frame\u001b[0m\u001b[0;34m,\u001b[0m \u001b[0mV\u001b[0m\u001b[0;34m,\u001b[0m \u001b[0mC\u001b[0m\u001b[0;34m,\u001b[0m \u001b[0mgroup\u001b[0m\u001b[0;34m)\u001b[0m\u001b[0;34m\u001b[0m\u001b[0;34m\u001b[0m\u001b[0m\n\u001b[1;32m     14\u001b[0m             \u001b[0;32melse\u001b[0m\u001b[0;34m:\u001b[0m\u001b[0;34m\u001b[0m\u001b[0;34m\u001b[0m\u001b[0m\n\u001b[0;32m---> 15\u001b[0;31m                 \u001b[0mgroup\u001b[0m \u001b[0;34m=\u001b[0m \u001b[0mclassify_word\u001b[0m\u001b[0;34m(\u001b[0m\u001b[0mnoun\u001b[0m\u001b[0;34m,\u001b[0m \u001b[0mmode\u001b[0m\u001b[0;34m=\u001b[0m\u001b[0;34m\"register\"\u001b[0m\u001b[0;34m)\u001b[0m\u001b[0;34m\u001b[0m\u001b[0;34m\u001b[0m\u001b[0m\n\u001b[0m\u001b[1;32m     16\u001b[0m                 \u001b[0;31m# ないなら登録するな\u001b[0m\u001b[0;34m\u001b[0m\u001b[0;34m\u001b[0m\u001b[0;34m\u001b[0m\u001b[0m\n\u001b[1;32m     17\u001b[0m                 \u001b[0;32mif\u001b[0m \u001b[0mgroup\u001b[0m \u001b[0;34m!=\u001b[0m \u001b[0;34m\"\"\u001b[0m\u001b[0;34m:\u001b[0m\u001b[0;34m\u001b[0m\u001b[0;34m\u001b[0m\u001b[0m\n",
      "\u001b[0;32m<ipython-input-10-faeec9399908>\u001b[0m in \u001b[0;36mclassify_word\u001b[0;34m(word, mode)\u001b[0m\n\u001b[1;32m      6\u001b[0m     \u001b[0;32mwith\u001b[0m \u001b[0mtorch\u001b[0m\u001b[0;34m.\u001b[0m\u001b[0mno_grad\u001b[0m\u001b[0;34m(\u001b[0m\u001b[0;34m)\u001b[0m\u001b[0;34m:\u001b[0m\u001b[0;34m\u001b[0m\u001b[0;34m\u001b[0m\u001b[0m\n\u001b[1;32m      7\u001b[0m         \u001b[0mvector\u001b[0m \u001b[0;34m=\u001b[0m \u001b[0mtorch\u001b[0m\u001b[0;34m.\u001b[0m\u001b[0mtensor\u001b[0m\u001b[0;34m(\u001b[0m\u001b[0;34m[\u001b[0m\u001b[0mw2v_model\u001b[0m\u001b[0;34m[\u001b[0m\u001b[0mword\u001b[0m\u001b[0;34m]\u001b[0m\u001b[0;34m]\u001b[0m\u001b[0;34m)\u001b[0m\u001b[0;34m.\u001b[0m\u001b[0mcuda\u001b[0m\u001b[0;34m(\u001b[0m\u001b[0;34m)\u001b[0m\u001b[0;34m\u001b[0m\u001b[0;34m\u001b[0m\u001b[0m\n\u001b[0;32m----> 8\u001b[0;31m         \u001b[0mpred\u001b[0m \u001b[0;34m=\u001b[0m \u001b[0mnp\u001b[0m\u001b[0;34m.\u001b[0m\u001b[0mexp\u001b[0m\u001b[0;34m(\u001b[0m\u001b[0mnp\u001b[0m\u001b[0;34m.\u001b[0m\u001b[0marray\u001b[0m\u001b[0;34m(\u001b[0m\u001b[0mcmodel\u001b[0m\u001b[0;34m(\u001b[0m\u001b[0mvector\u001b[0m\u001b[0;34m)\u001b[0m\u001b[0;34m.\u001b[0m\u001b[0mcpu\u001b[0m\u001b[0;34m(\u001b[0m\u001b[0;34m)\u001b[0m\u001b[0;34m)\u001b[0m\u001b[0;34m)\u001b[0m\u001b[0;34m\u001b[0m\u001b[0;34m\u001b[0m\u001b[0m\n\u001b[0m\u001b[1;32m      9\u001b[0m         \u001b[0mp_argmax\u001b[0m \u001b[0;34m=\u001b[0m \u001b[0mpred\u001b[0m\u001b[0;34m.\u001b[0m\u001b[0margmax\u001b[0m\u001b[0;34m(\u001b[0m\u001b[0;34m)\u001b[0m\u001b[0;34m\u001b[0m\u001b[0;34m\u001b[0m\u001b[0m\n\u001b[1;32m     10\u001b[0m         \u001b[0;31m# print(pred[0][p_argmax])\u001b[0m\u001b[0;34m\u001b[0m\u001b[0;34m\u001b[0m\u001b[0;34m\u001b[0m\u001b[0m\n",
      "\u001b[0;32m~/.local/lib/python3.6/site-packages/torch/nn/modules/module.py\u001b[0m in \u001b[0;36m_call_impl\u001b[0;34m(self, *input, **kwargs)\u001b[0m\n\u001b[1;32m    887\u001b[0m             \u001b[0mresult\u001b[0m \u001b[0;34m=\u001b[0m \u001b[0mself\u001b[0m\u001b[0;34m.\u001b[0m\u001b[0m_slow_forward\u001b[0m\u001b[0;34m(\u001b[0m\u001b[0;34m*\u001b[0m\u001b[0minput\u001b[0m\u001b[0;34m,\u001b[0m \u001b[0;34m**\u001b[0m\u001b[0mkwargs\u001b[0m\u001b[0;34m)\u001b[0m\u001b[0;34m\u001b[0m\u001b[0;34m\u001b[0m\u001b[0m\n\u001b[1;32m    888\u001b[0m         \u001b[0;32melse\u001b[0m\u001b[0;34m:\u001b[0m\u001b[0;34m\u001b[0m\u001b[0;34m\u001b[0m\u001b[0m\n\u001b[0;32m--> 889\u001b[0;31m             \u001b[0mresult\u001b[0m \u001b[0;34m=\u001b[0m \u001b[0mself\u001b[0m\u001b[0;34m.\u001b[0m\u001b[0mforward\u001b[0m\u001b[0;34m(\u001b[0m\u001b[0;34m*\u001b[0m\u001b[0minput\u001b[0m\u001b[0;34m,\u001b[0m \u001b[0;34m**\u001b[0m\u001b[0mkwargs\u001b[0m\u001b[0;34m)\u001b[0m\u001b[0;34m\u001b[0m\u001b[0;34m\u001b[0m\u001b[0m\n\u001b[0m\u001b[1;32m    890\u001b[0m         for hook in itertools.chain(\n\u001b[1;32m    891\u001b[0m                 \u001b[0m_global_forward_hooks\u001b[0m\u001b[0;34m.\u001b[0m\u001b[0mvalues\u001b[0m\u001b[0;34m(\u001b[0m\u001b[0;34m)\u001b[0m\u001b[0;34m,\u001b[0m\u001b[0;34m\u001b[0m\u001b[0;34m\u001b[0m\u001b[0m\n",
      "\u001b[0;32m<ipython-input-3-27c917e737b0>\u001b[0m in \u001b[0;36mforward\u001b[0;34m(self, x)\u001b[0m\n\u001b[1;32m     11\u001b[0m \u001b[0;34m\u001b[0m\u001b[0m\n\u001b[1;32m     12\u001b[0m     \u001b[0;32mdef\u001b[0m \u001b[0mforward\u001b[0m\u001b[0;34m(\u001b[0m\u001b[0mself\u001b[0m\u001b[0;34m,\u001b[0m \u001b[0mx\u001b[0m\u001b[0;34m)\u001b[0m\u001b[0;34m:\u001b[0m\u001b[0;34m\u001b[0m\u001b[0;34m\u001b[0m\u001b[0m\n\u001b[0;32m---> 13\u001b[0;31m         \u001b[0my\u001b[0m \u001b[0;34m=\u001b[0m \u001b[0mF\u001b[0m\u001b[0;34m.\u001b[0m\u001b[0mrelu\u001b[0m\u001b[0;34m(\u001b[0m\u001b[0mself\u001b[0m\u001b[0;34m.\u001b[0m\u001b[0mfc1\u001b[0m\u001b[0;34m(\u001b[0m\u001b[0mx\u001b[0m\u001b[0;34m)\u001b[0m\u001b[0;34m)\u001b[0m\u001b[0;34m\u001b[0m\u001b[0;34m\u001b[0m\u001b[0m\n\u001b[0m\u001b[1;32m     14\u001b[0m         \u001b[0my\u001b[0m \u001b[0;34m=\u001b[0m \u001b[0mF\u001b[0m\u001b[0;34m.\u001b[0m\u001b[0mrelu\u001b[0m\u001b[0;34m(\u001b[0m\u001b[0mself\u001b[0m\u001b[0;34m.\u001b[0m\u001b[0mfc2\u001b[0m\u001b[0;34m(\u001b[0m\u001b[0my\u001b[0m\u001b[0;34m)\u001b[0m\u001b[0;34m)\u001b[0m\u001b[0;34m\u001b[0m\u001b[0;34m\u001b[0m\u001b[0m\n\u001b[1;32m     15\u001b[0m         \u001b[0my\u001b[0m \u001b[0;34m=\u001b[0m \u001b[0mself\u001b[0m\u001b[0;34m.\u001b[0m\u001b[0mhidden2tag\u001b[0m\u001b[0;34m(\u001b[0m \u001b[0my\u001b[0m \u001b[0;34m)\u001b[0m\u001b[0;34m\u001b[0m\u001b[0;34m\u001b[0m\u001b[0m\n",
      "\u001b[0;32m~/.local/lib/python3.6/site-packages/torch/nn/modules/module.py\u001b[0m in \u001b[0;36m_call_impl\u001b[0;34m(self, *input, **kwargs)\u001b[0m\n\u001b[1;32m    887\u001b[0m             \u001b[0mresult\u001b[0m \u001b[0;34m=\u001b[0m \u001b[0mself\u001b[0m\u001b[0;34m.\u001b[0m\u001b[0m_slow_forward\u001b[0m\u001b[0;34m(\u001b[0m\u001b[0;34m*\u001b[0m\u001b[0minput\u001b[0m\u001b[0;34m,\u001b[0m \u001b[0;34m**\u001b[0m\u001b[0mkwargs\u001b[0m\u001b[0;34m)\u001b[0m\u001b[0;34m\u001b[0m\u001b[0;34m\u001b[0m\u001b[0m\n\u001b[1;32m    888\u001b[0m         \u001b[0;32melse\u001b[0m\u001b[0;34m:\u001b[0m\u001b[0;34m\u001b[0m\u001b[0;34m\u001b[0m\u001b[0m\n\u001b[0;32m--> 889\u001b[0;31m             \u001b[0mresult\u001b[0m \u001b[0;34m=\u001b[0m \u001b[0mself\u001b[0m\u001b[0;34m.\u001b[0m\u001b[0mforward\u001b[0m\u001b[0;34m(\u001b[0m\u001b[0;34m*\u001b[0m\u001b[0minput\u001b[0m\u001b[0;34m,\u001b[0m \u001b[0;34m**\u001b[0m\u001b[0mkwargs\u001b[0m\u001b[0;34m)\u001b[0m\u001b[0;34m\u001b[0m\u001b[0;34m\u001b[0m\u001b[0m\n\u001b[0m\u001b[1;32m    890\u001b[0m         for hook in itertools.chain(\n\u001b[1;32m    891\u001b[0m                 \u001b[0m_global_forward_hooks\u001b[0m\u001b[0;34m.\u001b[0m\u001b[0mvalues\u001b[0m\u001b[0;34m(\u001b[0m\u001b[0;34m)\u001b[0m\u001b[0;34m,\u001b[0m\u001b[0;34m\u001b[0m\u001b[0;34m\u001b[0m\u001b[0m\n",
      "\u001b[0;32m~/.local/lib/python3.6/site-packages/torch/nn/modules/linear.py\u001b[0m in \u001b[0;36mforward\u001b[0;34m(self, input)\u001b[0m\n\u001b[1;32m     92\u001b[0m \u001b[0;34m\u001b[0m\u001b[0m\n\u001b[1;32m     93\u001b[0m     \u001b[0;32mdef\u001b[0m \u001b[0mforward\u001b[0m\u001b[0;34m(\u001b[0m\u001b[0mself\u001b[0m\u001b[0;34m,\u001b[0m \u001b[0minput\u001b[0m\u001b[0;34m:\u001b[0m \u001b[0mTensor\u001b[0m\u001b[0;34m)\u001b[0m \u001b[0;34m->\u001b[0m \u001b[0mTensor\u001b[0m\u001b[0;34m:\u001b[0m\u001b[0;34m\u001b[0m\u001b[0;34m\u001b[0m\u001b[0m\n\u001b[0;32m---> 94\u001b[0;31m         \u001b[0;32mreturn\u001b[0m \u001b[0mF\u001b[0m\u001b[0;34m.\u001b[0m\u001b[0mlinear\u001b[0m\u001b[0;34m(\u001b[0m\u001b[0minput\u001b[0m\u001b[0;34m,\u001b[0m \u001b[0mself\u001b[0m\u001b[0;34m.\u001b[0m\u001b[0mweight\u001b[0m\u001b[0;34m,\u001b[0m \u001b[0mself\u001b[0m\u001b[0;34m.\u001b[0m\u001b[0mbias\u001b[0m\u001b[0;34m)\u001b[0m\u001b[0;34m\u001b[0m\u001b[0;34m\u001b[0m\u001b[0m\n\u001b[0m\u001b[1;32m     95\u001b[0m \u001b[0;34m\u001b[0m\u001b[0m\n\u001b[1;32m     96\u001b[0m     \u001b[0;32mdef\u001b[0m \u001b[0mextra_repr\u001b[0m\u001b[0;34m(\u001b[0m\u001b[0mself\u001b[0m\u001b[0;34m)\u001b[0m \u001b[0;34m->\u001b[0m \u001b[0mstr\u001b[0m\u001b[0;34m:\u001b[0m\u001b[0;34m\u001b[0m\u001b[0;34m\u001b[0m\u001b[0m\n",
      "\u001b[0;32m~/.local/lib/python3.6/site-packages/torch/nn/functional.py\u001b[0m in \u001b[0;36mlinear\u001b[0;34m(input, weight, bias)\u001b[0m\n\u001b[1;32m   1751\u001b[0m     \u001b[0;32mif\u001b[0m \u001b[0mhas_torch_function_variadic\u001b[0m\u001b[0;34m(\u001b[0m\u001b[0minput\u001b[0m\u001b[0;34m,\u001b[0m \u001b[0mweight\u001b[0m\u001b[0;34m)\u001b[0m\u001b[0;34m:\u001b[0m\u001b[0;34m\u001b[0m\u001b[0;34m\u001b[0m\u001b[0m\n\u001b[1;32m   1752\u001b[0m         \u001b[0;32mreturn\u001b[0m \u001b[0mhandle_torch_function\u001b[0m\u001b[0;34m(\u001b[0m\u001b[0mlinear\u001b[0m\u001b[0;34m,\u001b[0m \u001b[0;34m(\u001b[0m\u001b[0minput\u001b[0m\u001b[0;34m,\u001b[0m \u001b[0mweight\u001b[0m\u001b[0;34m)\u001b[0m\u001b[0;34m,\u001b[0m \u001b[0minput\u001b[0m\u001b[0;34m,\u001b[0m \u001b[0mweight\u001b[0m\u001b[0;34m,\u001b[0m \u001b[0mbias\u001b[0m\u001b[0;34m=\u001b[0m\u001b[0mbias\u001b[0m\u001b[0;34m)\u001b[0m\u001b[0;34m\u001b[0m\u001b[0;34m\u001b[0m\u001b[0m\n\u001b[0;32m-> 1753\u001b[0;31m     \u001b[0;32mreturn\u001b[0m \u001b[0mtorch\u001b[0m\u001b[0;34m.\u001b[0m\u001b[0m_C\u001b[0m\u001b[0;34m.\u001b[0m\u001b[0m_nn\u001b[0m\u001b[0;34m.\u001b[0m\u001b[0mlinear\u001b[0m\u001b[0;34m(\u001b[0m\u001b[0minput\u001b[0m\u001b[0;34m,\u001b[0m \u001b[0mweight\u001b[0m\u001b[0;34m,\u001b[0m \u001b[0mbias\u001b[0m\u001b[0;34m)\u001b[0m\u001b[0;34m\u001b[0m\u001b[0;34m\u001b[0m\u001b[0m\n\u001b[0m\u001b[1;32m   1754\u001b[0m \u001b[0;34m\u001b[0m\u001b[0m\n\u001b[1;32m   1755\u001b[0m \u001b[0;34m\u001b[0m\u001b[0m\n",
      "\u001b[0;31mKeyboardInterrupt\u001b[0m: "
     ]
    }
   ],
   "source": [
    "\n",
    "for utt in tqdm( all_utt ):\n",
    "    is_valid = True\n",
    "\n",
    "    triples = extract_RDF_triple(utt, clean_=False)\n",
    "    if len(triples)>0:\n",
    "        for triple in triples:\n",
    "            V = triple[0]\n",
    "            C = triple[1]\n",
    "            noun = triple[2]\n",
    "            group_ = search_word(noun)\n",
    "            if len(group_) > 0:\n",
    "                for group in group_:\n",
    "                    register_triple(case_frame, V, C, group)\n",
    "            else:\n",
    "                group = classify_word(noun, mode=\"register\")\n",
    "                # ないなら登録するな\n",
    "                if group != \"\":\n",
    "                    register_triple(case_frame, V, C, group)\n",
    "\n",
    "            register_triple(case_frame, V, C, noun)\n"
   ]
  },
  {
   "cell_type": "code",
   "execution_count": 21,
   "metadata": {},
   "outputs": [],
   "source": [
    "case_frame_name = \"case_frame_wiki40B_border={}.pickle\".format(classify_border)\n",
    "data_path = \"../X_y_data/utterance/\""
   ]
  },
  {
   "cell_type": "code",
   "execution_count": 22,
   "metadata": {},
   "outputs": [],
   "source": [
    "# dataM = DataManager(data_path)\n",
    "# dataM.save_data(case_frame_name, case_frame)"
   ]
  },
  {
   "cell_type": "code",
   "execution_count": 23,
   "metadata": {},
   "outputs": [
    {
     "name": "stdout",
     "output_type": "stream",
     "text": [
      "success load : ../X_y_data/utterance/case_frame_wiki40B_border=0.75.pickle\n"
     ]
    }
   ],
   "source": [
    "dataM = DataManager(data_path)\n",
    "case_frame = dataM.load_data(case_frame_name)"
   ]
  },
  {
   "cell_type": "code",
   "execution_count": 24,
   "metadata": {},
   "outputs": [],
   "source": [
    "def search_triple(V, C, N):\n",
    "    if N in case_frame[V][C]:\n",
    "        return True\n",
    "    else:\n",
    "        return False\n",
    "\n",
    "# True : 用法は問題ない\n",
    "# False : 問題あり\n",
    "def judge_triple(triple):\n",
    "    V = triple[0]\n",
    "    C = triple[1]\n",
    "    noun = triple[2]\n",
    "\n",
    "    # Vが登録されていないならパスしておくかな(一旦)\n",
    "    if V not in case_frame:\n",
    "        # print(\"not registered V :\", V)\n",
    "        return True\n",
    "    \n",
    "    # C が登録されていないなら，アウト\n",
    "    if C not in case_frame[V]:\n",
    "        print(\"not registered V, C :\", V, C)\n",
    "        return False\n",
    "    \n",
    "    # そのままの名詞で検索 -> 発見なら正例\n",
    "    if search_triple(V, C, noun):\n",
    "        return True\n",
    "\n",
    "    # 名詞がどこかのグループに属する\n",
    "    group_ = search_word(noun)\n",
    "    if len(group_) > 0:\n",
    "        # 1つでも引っかかればOK\n",
    "        for group in group_:\n",
    "            if search_triple(V, C, group):\n",
    "                return True\n",
    "        return False\n",
    "    # グループを推定\n",
    "    else:\n",
    "        group = classify_word(noun) \n",
    "        return search_triple(V, C, group)"
   ]
  },
  {
   "cell_type": "code",
   "execution_count": 25,
   "metadata": {},
   "outputs": [],
   "source": [
    "path = \"../eval_labeled/\"\n",
    "datalist = ['DCM', 'DIT', 'IRS']\n",
    "convs = read_conv(path, datalist)\n",
    "\n",
    "error = \"Semantic error\"\n",
    "sys_utt = []\n",
    "y = []\n",
    "for conv in convs:\n",
    "    for ut in conv:\n",
    "        if ut.is_system() and ut.is_exist_error():\n",
    "            sys_utt.append(ut.utt)\n",
    "            if ut.is_error_included(error):\n",
    "                y.append(1)\n",
    "            else:\n",
    "                y.append(0)"
   ]
  },
  {
   "cell_type": "code",
   "execution_count": 26,
   "metadata": {},
   "outputs": [
    {
     "name": "stderr",
     "output_type": "stream",
     "text": [
      "  1%|          | 15/1386 [00:00<00:19, 71.69it/s]"
     ]
    },
    {
     "name": "stdout",
     "output_type": "stream",
     "text": [
      "('生まれる', 'に', 'お兄さん')\n",
      "('見る', 'を', '好き')\n"
     ]
    },
    {
     "name": "stderr",
     "output_type": "stream",
     "text": [
      "  3%|▎         | 42/1386 [00:00<00:16, 79.66it/s]"
     ]
    },
    {
     "name": "stdout",
     "output_type": "stream",
     "text": [
      "('ほしい', 'が', '帽子')\n",
      "('大好き', 'が', '帽子')\n",
      "('得意', 'が', 'クロール')\n",
      "('泳ぐ', 'で', 'スイミング')\n",
      "('楽しい', 'が', 'スイミング')\n"
     ]
    },
    {
     "name": "stderr",
     "output_type": "stream",
     "text": [
      "  4%|▍         | 58/1386 [00:00<00:17, 76.00it/s]"
     ]
    },
    {
     "name": "stdout",
     "output_type": "stream",
     "text": [
      "('演奏', 'で', '御自分')\n",
      "('とれる', 'で', '言葉')\n",
      "('えらぶ', 'を', '服')\n",
      "('好き', 'が', '縁側')\n"
     ]
    },
    {
     "name": "stderr",
     "output_type": "stream",
     "text": [
      "  7%|▋         | 93/1386 [00:01<00:16, 79.08it/s]"
     ]
    },
    {
     "name": "stdout",
     "output_type": "stream",
     "text": [
      "('好き', 'が', '御菓子')\n",
      "('元気', 'が', '映画')\n"
     ]
    },
    {
     "name": "stderr",
     "output_type": "stream",
     "text": [
      "  8%|▊         | 109/1386 [00:01<00:17, 74.30it/s]"
     ]
    },
    {
     "name": "stdout",
     "output_type": "stream",
     "text": [
      "('いる', 'が', '外食')\n",
      "('怖い', 'が', '由紀恵')\n",
      "('美しい', 'が', '由紀恵')\n"
     ]
    },
    {
     "name": "stderr",
     "output_type": "stream",
     "text": [
      "  9%|▉         | 126/1386 [00:01<00:17, 73.47it/s]"
     ]
    },
    {
     "name": "stdout",
     "output_type": "stream",
     "text": [
      "('平和', 'が', '南極')\n",
      "not registered V, C : 笑い で\n",
      "('笑い', 'で', '付き')\n",
      "('暑い', 'が', '暑い')\n"
     ]
    },
    {
     "name": "stderr",
     "output_type": "stream",
     "text": [
      " 11%|█         | 151/1386 [00:02<00:16, 76.22it/s]"
     ]
    },
    {
     "name": "stdout",
     "output_type": "stream",
     "text": [
      "('心配', 'が', '熱中症')\n",
      "('かっこいい', 'が', '汗')\n"
     ]
    },
    {
     "name": "stderr",
     "output_type": "stream",
     "text": [
      " 12%|█▏        | 167/1386 [00:02<00:18, 67.34it/s]"
     ]
    },
    {
     "name": "stdout",
     "output_type": "stream",
     "text": [
      "('おいしい', 'が', 'メニュー')\n",
      "('伺う', 'で', '所')\n"
     ]
    },
    {
     "name": "stderr",
     "output_type": "stream",
     "text": [
      " 13%|█▎        | 184/1386 [00:02<00:16, 71.57it/s]"
     ]
    },
    {
     "name": "stdout",
     "output_type": "stream",
     "text": [
      "('読める', 'で', 'スマホ')\n",
      "('いい', 'が', 'エネループ')\n",
      "('好き', 'で', '所')\n",
      "('うるさい', 'が', '選挙')\n",
      "('ほしい', 'が', '自動販売機')\n"
     ]
    },
    {
     "name": "stderr",
     "output_type": "stream",
     "text": [
      " 15%|█▌        | 210/1386 [00:02<00:15, 77.77it/s]"
     ]
    },
    {
     "name": "stdout",
     "output_type": "stream",
     "text": [
      "('大切', 'が', 'テレビ')\n",
      "('大好き', 'が', 'イタリア料理')\n",
      "('有名', 'で', 'イタリア料理')\n"
     ]
    },
    {
     "name": "stderr",
     "output_type": "stream",
     "text": [
      " 16%|█▋        | 227/1386 [00:03<00:14, 77.81it/s]"
     ]
    },
    {
     "name": "stdout",
     "output_type": "stream",
     "text": [
      "('おいしい', 'が', '炊き立て')\n",
      "('やめる', 'が', '夜')\n",
      "('面白い', 'が', 'スイカ')\n"
     ]
    },
    {
     "name": "stderr",
     "output_type": "stream",
     "text": [
      " 18%|█▊        | 244/1386 [00:03<00:14, 76.37it/s]"
     ]
    },
    {
     "name": "stdout",
     "output_type": "stream",
     "text": [
      "not registered V, C : 清楚 が\n",
      "('清楚', 'が', '見た目')\n",
      "('大好き', 'が', 'テレビ')\n"
     ]
    },
    {
     "name": "stderr",
     "output_type": "stream",
     "text": [
      " 19%|█▉        | 262/1386 [00:03<00:13, 81.49it/s]"
     ]
    },
    {
     "name": "stdout",
     "output_type": "stream",
     "text": [
      "('いい', 'が', 'シャープ')\n",
      "('目指す', 'を', '健康美')\n",
      "('食べる', 'が', '朝御飯')\n"
     ]
    },
    {
     "name": "stderr",
     "output_type": "stream",
     "text": [
      " 22%|██▏       | 307/1386 [00:04<00:15, 70.41it/s]"
     ]
    },
    {
     "name": "stdout",
     "output_type": "stream",
     "text": [
      "('大好き', 'が', 'チョコレート')\n",
      "('はまる', 'に', 'アイスクリーム')\n",
      "('うまい', 'が', 'スイカ')\n",
      "('美味しい', 'が', '尻尾')\n",
      "('美味しい', 'が', 'ねた')\n",
      "('仕入れる', 'を', 'ねた')\n"
     ]
    },
    {
     "name": "stderr",
     "output_type": "stream",
     "text": [
      " 23%|██▎       | 323/1386 [00:04<00:15, 69.29it/s]"
     ]
    },
    {
     "name": "stdout",
     "output_type": "stream",
     "text": [
      "('大切', 'で', '嗽')\n",
      "('大切', 'で', '嗽')\n",
      "('心掛ける', 'を', '予防')\n",
      "('重い', 'で', '寝不足')\n",
      "('痛い', 'で', '寝不足')\n"
     ]
    },
    {
     "name": "stderr",
     "output_type": "stream",
     "text": [
      " 25%|██▍       | 346/1386 [00:04<00:15, 68.60it/s]"
     ]
    },
    {
     "name": "stdout",
     "output_type": "stream",
     "text": [
      "('使える', 'で', 'ドコモ')\n",
      "('わかる', 'で', '逆子')\n",
      "not registered V, C : おもしろい に\n",
      "('おもしろい', 'に', '本当')\n",
      "('持つ', 'を', '御土産')\n",
      "('検索', 'を', '足')\n"
     ]
    },
    {
     "name": "stderr",
     "output_type": "stream",
     "text": [
      " 26%|██▌       | 363/1386 [00:04<00:13, 74.17it/s]"
     ]
    },
    {
     "name": "stdout",
     "output_type": "stream",
     "text": [
      "('恋しい', 'が', '天気')\n",
      "('怪しい', 'が', '天気')\n",
      "('見せる', 'に', 'メロン')\n"
     ]
    },
    {
     "name": "stderr",
     "output_type": "stream",
     "text": [
      " 29%|██▊       | 396/1386 [00:05<00:13, 74.70it/s]"
     ]
    },
    {
     "name": "stdout",
     "output_type": "stream",
     "text": [
      "('可憐', 'が', '花言葉')\n",
      "('特殊', 'が', '学校')\n",
      "('安全', 'が', '学校')\n",
      "('誕生', 'が', 'ななつ星')\n",
      "('大成功', 'が', '熊本県')\n"
     ]
    },
    {
     "name": "stderr",
     "output_type": "stream",
     "text": [
      " 29%|██▉       | 404/1386 [00:05<00:15, 62.36it/s]"
     ]
    },
    {
     "name": "stdout",
     "output_type": "stream",
     "text": [
      "('みつける', 'に', '夏')\n"
     ]
    },
    {
     "name": "stderr",
     "output_type": "stream",
     "text": [
      " 30%|███       | 417/1386 [00:05<00:18, 51.65it/s]"
     ]
    },
    {
     "name": "stdout",
     "output_type": "stream",
     "text": [
      "('連覇', 'で', 'アメリカ')\n",
      "('確認', 'が', '感染者')\n",
      "('美味しい', 'に', '本当')\n",
      "('行う', 'が', 'boon')\n",
      "('引っ越す', 'が', '和平')\n"
     ]
    },
    {
     "name": "stderr",
     "output_type": "stream",
     "text": [
      " 31%|███       | 423/1386 [00:05<00:19, 49.74it/s]"
     ]
    },
    {
     "name": "stdout",
     "output_type": "stream",
     "text": [
      "('検索', 'で', 'ダビンチ')\n"
     ]
    },
    {
     "name": "stderr",
     "output_type": "stream",
     "text": [
      " 31%|███       | 429/1386 [00:06<00:28, 33.83it/s]"
     ]
    },
    {
     "name": "stdout",
     "output_type": "stream",
     "text": [
      "('ある', 'が', '御店')\n",
      "('コーティング', 'が', '食材')\n",
      "('可愛らしい', 'が', '飴')\n",
      "not registered V, C : 健康的 で\n",
      "('健康的', 'で', '沖縄')\n",
      "('想像', 'を', '味')\n",
      "('する', 'で', '金団')\n"
     ]
    },
    {
     "name": "stderr",
     "output_type": "stream",
     "text": [
      " 32%|███▏      | 439/1386 [00:06<00:24, 38.10it/s]"
     ]
    },
    {
     "name": "stdout",
     "output_type": "stream",
     "text": [
      "('披露', 'が', 'ロボットニットデニムブーツカットパンツ')\n",
      "('会話', 'が', '選手権')\n",
      "('買う', 'に', '御土産')\n"
     ]
    },
    {
     "name": "stderr",
     "output_type": "stream",
     "text": [
      " 32%|███▏      | 449/1386 [00:06<00:24, 38.49it/s]"
     ]
    },
    {
     "name": "stdout",
     "output_type": "stream",
     "text": [
      "('大好き', 'が', 'チョコレートラテポッキーブレンド')\n",
      "('転げ落ちる', 'に', '末')\n",
      "('観戦', 'を', '保険')\n",
      "('買う', 'に', '御土産')\n",
      "('ある', 'が', '御店')\n"
     ]
    },
    {
     "name": "stderr",
     "output_type": "stream",
     "text": [
      " 33%|███▎      | 459/1386 [00:07<00:26, 34.95it/s]"
     ]
    },
    {
     "name": "stdout",
     "output_type": "stream",
     "text": [
      "('ささやく', 'に', '来年')\n",
      "('提供', 'で', 'マラソン')\n"
     ]
    },
    {
     "name": "stderr",
     "output_type": "stream",
     "text": [
      " 34%|███▍      | 473/1386 [00:07<00:22, 39.99it/s]"
     ]
    },
    {
     "name": "stdout",
     "output_type": "stream",
     "text": [
      "('イメージ', 'が', '歴史')\n",
      "('指導', 'で', '女房')\n"
     ]
    },
    {
     "name": "stderr",
     "output_type": "stream",
     "text": [
      " 35%|███▍      | 483/1386 [00:07<00:23, 38.02it/s]"
     ]
    },
    {
     "name": "stdout",
     "output_type": "stream",
     "text": [
      "('見る', 'を', 'お節料理')\n",
      "('召し上がる', 'を', 'さん')\n",
      "('添う', 'に', '地図')\n",
      "('連載', 'が', '保険')\n"
     ]
    },
    {
     "name": "stderr",
     "output_type": "stream",
     "text": [
      " 35%|███▌      | 492/1386 [00:07<00:23, 38.28it/s]"
     ]
    },
    {
     "name": "stdout",
     "output_type": "stream",
     "text": [
      "('食べる', 'を', 'リング')\n",
      "('視聴', 'が', '卵')\n",
      "('革新', 'が', '理由')\n"
     ]
    },
    {
     "name": "stderr",
     "output_type": "stream",
     "text": [
      " 36%|███▋      | 504/1386 [00:08<00:23, 38.06it/s]"
     ]
    },
    {
     "name": "stdout",
     "output_type": "stream",
     "text": [
      "('好き', 'が', '天下一品')\n",
      "('発売', 'が', 'ベニマル')\n",
      "('利用', 'で', 'ベニマル')\n"
     ]
    },
    {
     "name": "stderr",
     "output_type": "stream",
     "text": [
      " 37%|███▋      | 514/1386 [00:08<00:20, 42.97it/s]"
     ]
    },
    {
     "name": "stdout",
     "output_type": "stream",
     "text": [
      "('食べる', 'を', '刺し身')\n",
      "('驚愕', 'に', '寿司')\n",
      "('みる', 'を', '特集番組')\n"
     ]
    },
    {
     "name": "stderr",
     "output_type": "stream",
     "text": [
      " 38%|███▊      | 526/1386 [00:08<00:17, 48.48it/s]"
     ]
    },
    {
     "name": "stdout",
     "output_type": "stream",
     "text": [
      "('する', 'が', '結弦')\n",
      "('応援', 'を', '元気')\n",
      "('焼く', 'で', 'デギュスタシオン')\n",
      "('掛ける', 'が', 'デリ')\n",
      "('泊まる', 'に', '年末年始')\n"
     ]
    },
    {
     "name": "stderr",
     "output_type": "stream",
     "text": [
      " 39%|███▊      | 536/1386 [00:08<00:18, 46.01it/s]"
     ]
    },
    {
     "name": "stdout",
     "output_type": "stream",
     "text": [
      "('マッチ', 'に', '場合')\n",
      "('試す', 'を', 'スパイス')\n",
      "('好き', 'で', 'ラーメン')\n"
     ]
    },
    {
     "name": "stderr",
     "output_type": "stream",
     "text": [
      " 40%|███▉      | 551/1386 [00:09<00:19, 42.14it/s]"
     ]
    },
    {
     "name": "stdout",
     "output_type": "stream",
     "text": [
      "('高まる', 'に', '今後')\n"
     ]
    },
    {
     "name": "stderr",
     "output_type": "stream",
     "text": [
      " 40%|████      | 561/1386 [00:09<00:20, 40.53it/s]"
     ]
    },
    {
     "name": "stdout",
     "output_type": "stream",
     "text": [
      "('踊る', 'を', 'クッキー')\n",
      "('購入', 'で', 'イレブン')\n",
      "('美味しい', 'が', 'スナック')\n",
      "('利用', 'を', 'コピー機')\n"
     ]
    },
    {
     "name": "stderr",
     "output_type": "stream",
     "text": [
      " 41%|████      | 571/1386 [00:09<00:19, 41.03it/s]"
     ]
    },
    {
     "name": "stdout",
     "output_type": "stream",
     "text": [
      "('嬉しい', 'が', '組み合わせ')\n",
      "('誘う', 'を', '蝦煎')\n",
      "('なる', 'が', '蝦煎')\n"
     ]
    },
    {
     "name": "stderr",
     "output_type": "stream",
     "text": [
      " 42%|████▏     | 582/1386 [00:10<00:20, 39.35it/s]"
     ]
    },
    {
     "name": "stdout",
     "output_type": "stream",
     "text": [
      "('好き', 'が', '海豹')\n",
      "('泳ぐ', 'を', '水槽')\n"
     ]
    },
    {
     "name": "stderr",
     "output_type": "stream",
     "text": [
      " 43%|████▎     | 592/1386 [00:10<00:19, 40.82it/s]"
     ]
    },
    {
     "name": "stdout",
     "output_type": "stream",
     "text": [
      "('使う', 'を', '料理器具')\n",
      "('購入', 'で', 'グランプリ')\n",
      "('ある', 'が', '御店')\n",
      "('温める', 'を', 'スライスチーズ')\n"
     ]
    },
    {
     "name": "stderr",
     "output_type": "stream",
     "text": [
      " 43%|████▎     | 601/1386 [00:10<00:20, 38.24it/s]"
     ]
    },
    {
     "name": "stdout",
     "output_type": "stream",
     "text": [
      "('食べる', 'を', '味')\n",
      "('見かける', 'で', '棚')\n",
      "('コラボレーション', 'が', 'パステル')\n",
      "('思い出す', 'で', 'ソフトクリーム')\n",
      "('二人目', 'が', 'さん')\n"
     ]
    },
    {
     "name": "stderr",
     "output_type": "stream",
     "text": [
      " 44%|████▍     | 611/1386 [00:10<00:19, 40.70it/s]"
     ]
    },
    {
     "name": "stdout",
     "output_type": "stream",
     "text": [
      "('見る', 'を', '納豆')\n",
      "('きつい', 'で', '味')\n",
      "('観戦', 'を', '賞')\n",
      "('登場', 'で', 'akiba')\n"
     ]
    },
    {
     "name": "stderr",
     "output_type": "stream",
     "text": [
      " 45%|████▌     | 625/1386 [00:11<00:20, 37.76it/s]"
     ]
    },
    {
     "name": "stdout",
     "output_type": "stream",
     "text": [
      "('抑える', 'を', 'oriconstyle')\n",
      "('ノミネート', 'に', 'ゴーシーク')\n",
      "('無理', 'が', '優勝')\n"
     ]
    },
    {
     "name": "stderr",
     "output_type": "stream",
     "text": [
      " 46%|████▌     | 634/1386 [00:11<00:19, 38.79it/s]"
     ]
    },
    {
     "name": "stdout",
     "output_type": "stream",
     "text": [
      "('勝ち進む', 'が', 'ヤマザキ')\n",
      "('販売', 'が', '保険')\n",
      "('選ぶ', 'で', 'キティー')\n",
      "('販売', 'が', '雲月')\n",
      "('販売', 'が', '雲月')\n"
     ]
    },
    {
     "name": "stderr",
     "output_type": "stream",
     "text": [
      " 46%|████▋     | 642/1386 [00:11<00:20, 36.17it/s]"
     ]
    },
    {
     "name": "stdout",
     "output_type": "stream",
     "text": [
      "('観覧', 'に', '君')\n",
      "('行く', 'が', 'クリスマス')\n"
     ]
    },
    {
     "name": "stderr",
     "output_type": "stream",
     "text": [
      " 47%|████▋     | 647/1386 [00:11<00:18, 39.16it/s]"
     ]
    },
    {
     "name": "stdout",
     "output_type": "stream",
     "text": [
      "('食べる', 'に', '解釈')\n"
     ]
    },
    {
     "name": "stderr",
     "output_type": "stream",
     "text": [
      " 48%|████▊     | 659/1386 [00:12<00:24, 29.69it/s]"
     ]
    },
    {
     "name": "stdout",
     "output_type": "stream",
     "text": [
      "('活躍', 'で', '現時点')\n",
      "('外せる', 'が', '御店')\n"
     ]
    },
    {
     "name": "stderr",
     "output_type": "stream",
     "text": [
      " 48%|████▊     | 669/1386 [00:12<00:19, 36.64it/s]"
     ]
    },
    {
     "name": "stdout",
     "output_type": "stream",
     "text": [
      "('施す', 'が', '漆塗り')\n",
      "('アップ', 'に', '飛躍的')\n"
     ]
    },
    {
     "name": "stderr",
     "output_type": "stream",
     "text": [
      " 50%|████▉     | 689/1386 [00:12<00:15, 44.56it/s]"
     ]
    },
    {
     "name": "stdout",
     "output_type": "stream",
     "text": [
      "('多い', 'が', '御店')\n",
      "('魅力的', 'が', '見る')\n",
      "('ハマる', 'が', 'さん')\n",
      "('好き', 'が', 'リング')\n",
      "('おいしい', 'が', '方')\n",
      "('ある', 'が', 'ココロココ')\n"
     ]
    },
    {
     "name": "stderr",
     "output_type": "stream",
     "text": [
      " 50%|█████     | 694/1386 [00:13<00:16, 42.94it/s]"
     ]
    },
    {
     "name": "stdout",
     "output_type": "stream",
     "text": [
      "('載せる', 'で', 'ココロココ')\n",
      "('思い出す', 'で', '中止')\n"
     ]
    },
    {
     "name": "stderr",
     "output_type": "stream",
     "text": [
      " 51%|█████     | 704/1386 [00:13<00:17, 39.64it/s]"
     ]
    },
    {
     "name": "stdout",
     "output_type": "stream",
     "text": [
      "('宣伝', 'が', 'パン')\n",
      "('始まる', 'で', '元気')\n",
      "('元気', 'が', '受け取り')\n"
     ]
    },
    {
     "name": "stderr",
     "output_type": "stream",
     "text": [
      " 52%|█████▏    | 714/1386 [00:13<00:16, 41.12it/s]"
     ]
    },
    {
     "name": "stdout",
     "output_type": "stream",
     "text": [
      "('渡り歩く', 'が', '選手')\n",
      "('見つける', 'で', 'ブラジル')\n",
      "('獲る', 'で', '若い')\n"
     ]
    },
    {
     "name": "stderr",
     "output_type": "stream",
     "text": [
      " 52%|█████▏    | 725/1386 [00:13<00:15, 42.92it/s]"
     ]
    },
    {
     "name": "stdout",
     "output_type": "stream",
     "text": [
      "('ない', 'で', 'イングレス')\n",
      "('買う', 'で', '島歌')\n",
      "('出場', 'に', '島歌')\n"
     ]
    },
    {
     "name": "stderr",
     "output_type": "stream",
     "text": [
      " 53%|█████▎    | 740/1386 [00:14<00:15, 42.71it/s]"
     ]
    },
    {
     "name": "stdout",
     "output_type": "stream",
     "text": [
      "('する', 'を', 'manzai')\n",
      "('買う', 'に', '御土産')\n",
      "('出場', 'が', '今年')\n",
      "('急上昇', 'が', '株')\n",
      "('残念', 'で', 'こと')\n"
     ]
    },
    {
     "name": "stderr",
     "output_type": "stream",
     "text": [
      " 54%|█████▍    | 750/1386 [00:14<00:15, 41.55it/s]"
     ]
    },
    {
     "name": "stdout",
     "output_type": "stream",
     "text": [
      "('美味しい', 'に', '本当')\n",
      "('アップロード', 'に', 'キャンデー')\n",
      "('発売', 'を', 'tweetbot')\n"
     ]
    },
    {
     "name": "stderr",
     "output_type": "stream",
     "text": [
      " 55%|█████▌    | 766/1386 [00:14<00:13, 46.51it/s]"
     ]
    },
    {
     "name": "stdout",
     "output_type": "stream",
     "text": [
      "('破れる', 'で', 'ワールドカップ')\n",
      "('好き', 'で', 'FC')\n",
      "('致命傷', 'に', '投手')\n"
     ]
    },
    {
     "name": "stderr",
     "output_type": "stream",
     "text": [
      " 56%|█████▋    | 781/1386 [00:15<00:13, 44.89it/s]"
     ]
    },
    {
     "name": "stdout",
     "output_type": "stream",
     "text": [
      "('望ましい', 'で', 'カップ')\n",
      "('指導', 'で', 'イチ')\n",
      "('伸ばせる', 'で', '御陰')\n"
     ]
    },
    {
     "name": "stderr",
     "output_type": "stream",
     "text": [
      " 57%|█████▋    | 791/1386 [00:15<00:14, 40.89it/s]"
     ]
    },
    {
     "name": "stdout",
     "output_type": "stream",
     "text": [
      "('大事', 'が', '信用')\n",
      "('アレンジ', 'を', 'マッサマンカレー')\n"
     ]
    },
    {
     "name": "stderr",
     "output_type": "stream",
     "text": [
      " 58%|█████▊    | 806/1386 [00:15<00:14, 41.25it/s]"
     ]
    },
    {
     "name": "stdout",
     "output_type": "stream",
     "text": [
      "('決める', 'に', '快挙')\n",
      "('売り切れる', 'で', '人気')\n",
      "('発売', 'を', '歌謡祭')\n"
     ]
    },
    {
     "name": "stderr",
     "output_type": "stream",
     "text": [
      " 59%|█████▉    | 816/1386 [00:15<00:13, 41.88it/s]"
     ]
    },
    {
     "name": "stdout",
     "output_type": "stream",
     "text": [
      "('歌う', 'が', 'フーズ')\n"
     ]
    },
    {
     "name": "stderr",
     "output_type": "stream",
     "text": [
      " 59%|█████▉    | 821/1386 [00:16<00:15, 37.00it/s]"
     ]
    },
    {
     "name": "stdout",
     "output_type": "stream",
     "text": [
      "('楽しめる', 'で', 'これ')\n",
      "('見かける', 'を', 'エピソード')\n",
      "('切り離す', 'を', '気持ち')\n"
     ]
    },
    {
     "name": "stderr",
     "output_type": "stream",
     "text": [
      " 60%|██████    | 836/1386 [00:16<00:13, 42.29it/s]"
     ]
    },
    {
     "name": "stdout",
     "output_type": "stream",
     "text": [
      "('食べる', 'を', '味')\n",
      "('大人気', 'が', '最近')\n",
      "('美味しい', 'に', '他')\n",
      "('コーティング', 'に', 'ポテトチップス')\n",
      "('トッピング', 'に', '卵')\n"
     ]
    },
    {
     "name": "stderr",
     "output_type": "stream",
     "text": [
      " 61%|██████    | 846/1386 [00:16<00:14, 38.19it/s]"
     ]
    },
    {
     "name": "stdout",
     "output_type": "stream",
     "text": [
      "('食べる', 'を', '蝦煎')\n",
      "('つく', 'で', 'ブラジル')\n",
      "('出店', 'が', '御店')\n"
     ]
    },
    {
     "name": "stderr",
     "output_type": "stream",
     "text": [
      " 62%|██████▏   | 859/1386 [00:17<00:13, 38.85it/s]"
     ]
    },
    {
     "name": "stdout",
     "output_type": "stream",
     "text": [
      "('優勝', 'が', '次回')\n",
      "('施す', 'が', '漆塗り')\n",
      "('有名', 'で', '肉饅')\n"
     ]
    },
    {
     "name": "stderr",
     "output_type": "stream",
     "text": [
      " 63%|██████▎   | 875/1386 [00:17<00:11, 45.00it/s]"
     ]
    },
    {
     "name": "stdout",
     "output_type": "stream",
     "text": [
      "('見る', 'を', 'ココロココ')\n",
      "('する', 'が', '啓江')\n",
      "('応援', 'を', 'letao')\n",
      "('開発', 'を', '試作品')\n",
      "('読む', 'を', 'カンタビ')\n"
     ]
    },
    {
     "name": "stderr",
     "output_type": "stream",
     "text": [
      " 64%|██████▍   | 891/1386 [00:17<00:10, 47.94it/s]"
     ]
    },
    {
     "name": "stdout",
     "output_type": "stream",
     "text": [
      "('実演', 'で', '番組')\n",
      "('直撃', 'に', '今後')\n"
     ]
    },
    {
     "name": "stderr",
     "output_type": "stream",
     "text": [
      " 65%|██████▌   | 901/1386 [00:17<00:10, 45.80it/s]"
     ]
    },
    {
     "name": "stdout",
     "output_type": "stream",
     "text": [
      "('続出', 'が', 'リピーター')\n",
      "('浸透', 'が', '乃逢')\n",
      "('買う', 'で', 'パン')\n",
      "('観る', 'に', '他')\n",
      "('絡む', 'が', '蒟蒻')\n"
     ]
    },
    {
     "name": "stderr",
     "output_type": "stream",
     "text": [
      " 66%|██████▌   | 911/1386 [00:18<00:10, 46.34it/s]"
     ]
    },
    {
     "name": "stdout",
     "output_type": "stream",
     "text": [
      "('休む', 'が', '今日')\n",
      "('ござる', 'に', '所')\n",
      "('かかる', 'が', 'トッピング')\n"
     ]
    },
    {
     "name": "stderr",
     "output_type": "stream",
     "text": [
      " 67%|██████▋   | 927/1386 [00:18<00:12, 36.84it/s]"
     ]
    },
    {
     "name": "stdout",
     "output_type": "stream",
     "text": [
      "('またがる', 'が', '町作り')\n",
      "('好き', 'で', 'ハンバーガー')\n",
      "('シンプル', 'が', 'クッキー')\n",
      "not registered V, C : 恋 で\n",
      "('恋', 'で', '番組')\n"
     ]
    },
    {
     "name": "stderr",
     "output_type": "stream",
     "text": [
      " 68%|██████▊   | 938/1386 [00:18<00:10, 42.99it/s]"
     ]
    },
    {
     "name": "stdout",
     "output_type": "stream",
     "text": [
      "('実演', 'で', '番組')\n",
      "('消える', 'で', '代')\n"
     ]
    },
    {
     "name": "stderr",
     "output_type": "stream",
     "text": [
      " 69%|██████▉   | 961/1386 [00:19<00:07, 59.74it/s]"
     ]
    },
    {
     "name": "stdout",
     "output_type": "stream",
     "text": [
      "('高い', 'が', '通行料金')\n"
     ]
    },
    {
     "name": "stderr",
     "output_type": "stream",
     "text": [
      " 71%|███████▏  | 990/1386 [00:19<00:06, 64.31it/s]"
     ]
    },
    {
     "name": "stdout",
     "output_type": "stream",
     "text": [
      "('汚れる', 'が', '部屋')\n"
     ]
    },
    {
     "name": "stderr",
     "output_type": "stream",
     "text": [
      " 72%|███████▏  | 1004/1386 [00:19<00:05, 63.92it/s]"
     ]
    },
    {
     "name": "stdout",
     "output_type": "stream",
     "text": [
      "('高い', 'が', '冬服')\n",
      "('いい', 'で', 'どっち')\n",
      "('おもしろい', 'が', '間')\n"
     ]
    },
    {
     "name": "stderr",
     "output_type": "stream",
     "text": [
      " 75%|███████▍  | 1034/1386 [00:20<00:05, 61.56it/s]"
     ]
    },
    {
     "name": "stdout",
     "output_type": "stream",
     "text": [
      "('整理', 'が', '上')\n"
     ]
    },
    {
     "name": "stderr",
     "output_type": "stream",
     "text": [
      " 76%|███████▌  | 1049/1386 [00:20<00:05, 64.33it/s]"
     ]
    },
    {
     "name": "stdout",
     "output_type": "stream",
     "text": [
      "('怪しい', 'が', '週間')\n",
      "('出せる', 'で', 'それ')\n",
      "('弾く', 'に', '他')\n",
      "('なる', 'に', 'お出掛け')\n",
      "('グッド', 'が', '今')\n"
     ]
    },
    {
     "name": "stderr",
     "output_type": "stream",
     "text": [
      " 77%|███████▋  | 1063/1386 [00:20<00:04, 64.83it/s]"
     ]
    },
    {
     "name": "stdout",
     "output_type": "stream",
     "text": [
      "('うろつく', 'で', '大須')\n",
      "('いける', 'に', '外')\n",
      "('おいしい', 'に', '割')\n",
      "('食べる', 'を', 'なに')\n",
      "('整理', 'が', '上')\n"
     ]
    },
    {
     "name": "stderr",
     "output_type": "stream",
     "text": [
      " 78%|███████▊  | 1085/1386 [00:21<00:04, 64.07it/s]"
     ]
    },
    {
     "name": "stdout",
     "output_type": "stream",
     "text": [
      "('撮る', 'を', '枚')\n",
      "('撮る', 'を', '枚')\n",
      "('特殊', 'が', '時')\n"
     ]
    },
    {
     "name": "stderr",
     "output_type": "stream",
     "text": [
      " 80%|████████  | 1114/1386 [00:21<00:04, 64.06it/s]"
     ]
    },
    {
     "name": "stdout",
     "output_type": "stream",
     "text": [
      "('苦手', 'が', '席')\n",
      "('装備', 'を', 'かっぱ')\n",
      "('気づく', 'で', '御陰')\n",
      "('暑い', 'が', 'ここ')\n",
      "('暑い', 'が', 'ここ')\n",
      "('きく', 'が', 'クーラー')\n"
     ]
    },
    {
     "name": "stderr",
     "output_type": "stream",
     "text": [
      " 82%|████████▏ | 1130/1386 [00:21<00:03, 69.35it/s]"
     ]
    },
    {
     "name": "stdout",
     "output_type": "stream",
     "text": [
      "('整理', 'が', '上')\n",
      "('確保', 'が', '踏み場')\n",
      "('粘る', 'が', '和布蕪')\n",
      "('のる', 'に', '上')\n"
     ]
    },
    {
     "name": "stderr",
     "output_type": "stream",
     "text": [
      " 83%|████████▎ | 1146/1386 [00:22<00:03, 69.14it/s]"
     ]
    },
    {
     "name": "stdout",
     "output_type": "stream",
     "text": [
      "('整理', 'が', '上')\n",
      "('利用', 'が', '目覚まし')\n",
      "('かわいそう', 'が', 'それ')\n",
      "('買い物', 'で', '携帯')\n"
     ]
    },
    {
     "name": "stderr",
     "output_type": "stream",
     "text": [
      " 84%|████████▍ | 1162/1386 [00:22<00:03, 71.52it/s]"
     ]
    },
    {
     "name": "stdout",
     "output_type": "stream",
     "text": [
      "('整理', 'が', '上')\n"
     ]
    },
    {
     "name": "stderr",
     "output_type": "stream",
     "text": [
      " 86%|████████▌ | 1186/1386 [00:22<00:02, 71.28it/s]"
     ]
    },
    {
     "name": "stdout",
     "output_type": "stream",
     "text": [
      "('聞く', 'が', '本当')\n",
      "('駄目', 'が', 'プール')\n"
     ]
    },
    {
     "name": "stderr",
     "output_type": "stream",
     "text": [
      " 87%|████████▋ | 1202/1386 [00:22<00:02, 72.21it/s]"
     ]
    },
    {
     "name": "stdout",
     "output_type": "stream",
     "text": [
      "('見習う', 'が', '所')\n",
      "('好き', 'が', '玄米茶')\n",
      "('かわいい', 'が', '犬')\n",
      "('なる', 'に', '猫好き')\n",
      "('入る', 'が', 'ペペロンチーノ')\n"
     ]
    },
    {
     "name": "stderr",
     "output_type": "stream",
     "text": [
      " 88%|████████▊ | 1218/1386 [00:23<00:02, 69.54it/s]"
     ]
    },
    {
     "name": "stdout",
     "output_type": "stream",
     "text": [
      "('好き', 'が', 'ダンク')\n",
      "('整理', 'が', '上')\n"
     ]
    },
    {
     "name": "stderr",
     "output_type": "stream",
     "text": [
      " 89%|████████▉ | 1235/1386 [00:23<00:02, 73.92it/s]"
     ]
    },
    {
     "name": "stdout",
     "output_type": "stream",
     "text": [
      "('高い', 'が', '冬服')\n",
      "('ある', 'が', 'あんなん')\n",
      "('高い', 'が', '野菜')\n",
      "('すむ', 'で', '情報')\n",
      "('かっこいい', 'が', '人')\n"
     ]
    },
    {
     "name": "stderr",
     "output_type": "stream",
     "text": [
      " 91%|█████████ | 1258/1386 [00:23<00:02, 62.01it/s]"
     ]
    },
    {
     "name": "stdout",
     "output_type": "stream",
     "text": [
      "('観る', 'で', 'それ')\n",
      "('飲める', 'で', '何')\n"
     ]
    },
    {
     "name": "stderr",
     "output_type": "stream",
     "text": [
      " 92%|█████████▏| 1272/1386 [00:23<00:01, 61.29it/s]"
     ]
    },
    {
     "name": "stdout",
     "output_type": "stream",
     "text": [
      "('いく', 'に', '平日')\n",
      "('買う', 'に', '御店')\n"
     ]
    },
    {
     "name": "stderr",
     "output_type": "stream",
     "text": [
      " 93%|█████████▎| 1287/1386 [00:24<00:01, 63.46it/s]"
     ]
    },
    {
     "name": "stdout",
     "output_type": "stream",
     "text": [
      "('羨ましい', 'が', '人')\n",
      "('ゆでる', 'で', '鍋')\n",
      "('食える', 'が', 'ボール')\n"
     ]
    },
    {
     "name": "stderr",
     "output_type": "stream",
     "text": [
      " 94%|█████████▍| 1309/1386 [00:24<00:01, 63.46it/s]"
     ]
    },
    {
     "name": "stdout",
     "output_type": "stream",
     "text": [
      "('休める', 'に', '絶対')\n",
      "('同じ', 'で', '－')\n",
      "('勉強', 'が', '最近')\n",
      "('好き', 'が', 'ピンク')\n"
     ]
    },
    {
     "name": "stderr",
     "output_type": "stream",
     "text": [
      " 96%|█████████▌| 1331/1386 [00:24<00:00, 66.92it/s]"
     ]
    },
    {
     "name": "stdout",
     "output_type": "stream",
     "text": [
      "('ゆずる', 'を', '席')\n",
      "('好き', 'が', '玄米茶')\n",
      "('見る', 'を', 'アイアムレジェンド')\n",
      "('使いこなせる', 'で', '感じ')\n"
     ]
    },
    {
     "name": "stderr",
     "output_type": "stream",
     "text": [
      " 97%|█████████▋| 1348/1386 [00:25<00:00, 70.62it/s]"
     ]
    },
    {
     "name": "stdout",
     "output_type": "stream",
     "text": [
      "('思い出せる', 'が', '名前')\n",
      "('不便', 'が', '手汗')\n",
      "('高い', 'が', '冬服')\n"
     ]
    },
    {
     "name": "stderr",
     "output_type": "stream",
     "text": [
      " 98%|█████████▊| 1363/1386 [00:25<00:00, 62.79it/s]"
     ]
    },
    {
     "name": "stdout",
     "output_type": "stream",
     "text": [
      "('育つ', 'で', 'さん')\n",
      "('整理', 'が', '上')\n"
     ]
    },
    {
     "name": "stderr",
     "output_type": "stream",
     "text": [
      " 99%|█████████▉| 1377/1386 [00:25<00:00, 64.18it/s]"
     ]
    },
    {
     "name": "stdout",
     "output_type": "stream",
     "text": [
      "('確保', 'が', '踏み場')\n",
      "('整理', 'が', '上')\n",
      "('確保', 'が', '踏み場')\n",
      "('みかける', 'で', '図書館')\n"
     ]
    },
    {
     "name": "stderr",
     "output_type": "stream",
     "text": [
      "100%|██████████| 1386/1386 [00:25<00:00, 54.00it/s]"
     ]
    },
    {
     "name": "stdout",
     "output_type": "stream",
     "text": [
      "('経つ', 'に', 'たち')\n"
     ]
    },
    {
     "name": "stderr",
     "output_type": "stream",
     "text": [
      "\n"
     ]
    }
   ],
   "source": [
    "y_pred = []\n",
    "for utt in tqdm(sys_utt):\n",
    "    is_valid = True\n",
    "\n",
    "    triples = extract_RDF_triple(utt)\n",
    "    for triple in triples:\n",
    "        if not judge_triple(triple):\n",
    "            print(triple)\n",
    "            is_valid = False\n",
    "            break\n",
    "    if is_valid:\n",
    "        y_pred.append(0)\n",
    "    else:\n",
    "        y_pred.append(1)"
   ]
  },
  {
   "cell_type": "code",
   "execution_count": 32,
   "metadata": {},
   "outputs": [
    {
     "name": "stdout",
     "output_type": "stream",
     "text": [
      "confusion matrix = \n",
      " [[1088  290]\n",
      " [   6    2]]\n",
      "accuracy =  0.7864357864357865\n",
      "precision =  0.00684931506849315\n",
      "recall =  0.25\n",
      "f1 score =  0.01333333333333333\n"
     ]
    }
   ],
   "source": [
    "score(y, y_pred)"
   ]
  },
  {
   "cell_type": "code",
   "execution_count": 28,
   "metadata": {},
   "outputs": [
    {
     "name": "stdout",
     "output_type": "stream",
     "text": [
      "group <ヒト（数）>\n",
      "True\n"
     ]
    }
   ],
   "source": [
    "word = \"一人\"\n",
    "print(\"group \"+classify_word(word))\n",
    "print(word in w2v_model)"
   ]
  },
  {
   "cell_type": "markdown",
   "metadata": {},
   "source": [
    "- 学習データのみでやってみた\n",
    "\n",
    "        confusion matrix = \n",
    "        [[716 662]\n",
    "        [  1   7]]\n",
    "        accuracy =  0.5216450216450217\n",
    "        precision =  0.01046337817638266\n",
    "        recall =  0.875\n",
    "        f1 score =  0.020679468242245203\n",
    "\n",
    "    - 再現率は良い！"
   ]
  },
  {
   "cell_type": "code",
   "execution_count": 30,
   "metadata": {},
   "outputs": [],
   "source": [
    "def judge_triple(triple):\n",
    "    V = triple[0]\n",
    "    C = triple[1]\n",
    "    noun = triple[2]\n",
    "\n",
    "    # Vが登録されていないならパスしておくかな(一旦)\n",
    "    if V not in case_frame:\n",
    "        # print(\"not registered V :\", V)\n",
    "        return True\n",
    "    \n",
    "    # C が登録されていないなら，アウト\n",
    "    if C not in case_frame[V]:\n",
    "        # print(\"not registered V, C :\", V, C)\n",
    "        return False\n",
    "    \n",
    "    # そのままの名詞で検索 -> 発見なら正例\n",
    "    if search_triple(V, C, noun):\n",
    "        # print(\"\\tfound\", V, C, noun)\n",
    "        return True\n",
    "\n",
    "    # 名詞がどこかのグループに属する\n",
    "    group_ = search_word(noun)\n",
    "    if len(group_) > 0:\n",
    "        # 1つでも引っかかればOK\n",
    "        for group in group_:\n",
    "            if search_triple(V, C, group):\n",
    "                return True\n",
    "        return False\n",
    "    # グループを推定\n",
    "    else:\n",
    "        group = classify_word(noun) \n",
    "        return search_triple(V, C, group)"
   ]
  },
  {
   "cell_type": "markdown",
   "metadata": {},
   "source": []
  },
  {
   "cell_type": "code",
   "execution_count": 31,
   "metadata": {},
   "outputs": [
    {
     "name": "stdout",
     "output_type": "stream",
     "text": [
      "元気ですかは元気です\n",
      "--------\n",
      "好きだを見ますよねー\n",
      "('見る', 'を', '好き')\n",
      "False\n",
      "--------\n",
      "病院は治療を受けましょう\n",
      "('受ける', 'が', '病院')\n",
      "True\n",
      "('受ける', 'を', '治療')\n",
      "True\n",
      "--------\n",
      "好きだは好きですか。お寿司はエンガワが好きですね\n",
      "('好き', 'が', '縁側')\n",
      "False\n",
      "--------\n",
      "時期から資格を取りますねぇ\n",
      "('取る', 'を', '資格')\n",
      "True\n",
      "--------\n",
      "手を貯金に出しますねぇ\n",
      "('出す', 'を', '手')\n",
      "True\n",
      "('出す', 'に', '貯金')\n",
      "True\n",
      "--------\n",
      "ところで、テレビでテレビあるって言ってましたが、テレビは民主党支持が多いですね\n",
      "('ある', 'で', 'テレビ')\n",
      "True\n",
      "('言う', 'で', '所')\n",
      "True\n",
      "('多い', 'が', '支持')\n",
      "True\n",
      "--------\n",
      "旬ですねぇ。自分もオリンピック書いたし。\n",
      "--------\n"
     ]
    }
   ],
   "source": [
    "for yt, yp, utt in zip(y, y_pred, sys_utt):\n",
    "    if yt==1:\n",
    "        print(utt)\n",
    "        triples = extract_RDF_triple(utt)\n",
    "        for triple in triples:\n",
    "            print(triple)\n",
    "            print( judge_triple(triple) )\n",
    "        print(\"--------\")"
   ]
  },
  {
   "cell_type": "code",
   "execution_count": 33,
   "metadata": {},
   "outputs": [
    {
     "name": "stdout",
     "output_type": "stream",
     "text": [
      "success save : ../X_y_data/y_pred/caseFrame.pickle\n"
     ]
    }
   ],
   "source": [
    "data_path = \"../X_y_data/y_pred/\"\n",
    "data_name = \"caseFrame.pickle\"\n",
    "dataM = DataManager(data_path)\n",
    "dataM.save_data(data_name, [y, y_pred])"
   ]
  }
 ],
 "metadata": {
  "interpreter": {
   "hash": "31f2aee4e71d21fbe5cf8b01ff0e069b9275f58929596ceb00d14d90e3e16cd6"
  },
  "kernelspec": {
   "display_name": "Python 3.6.9 64-bit",
   "language": "python",
   "name": "python3"
  },
  "language_info": {
   "codemirror_mode": {
    "name": "ipython",
    "version": 3
   },
   "file_extension": ".py",
   "mimetype": "text/x-python",
   "name": "python",
   "nbconvert_exporter": "python",
   "pygments_lexer": "ipython3",
   "version": "3.6.9"
  },
  "orig_nbformat": 4
 },
 "nbformat": 4,
 "nbformat_minor": 2
}
