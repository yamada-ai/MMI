{
 "cells": [
  {
   "cell_type": "code",
   "execution_count": 1,
   "metadata": {},
   "outputs": [],
   "source": [
    "import json\n",
    "import os\n",
    "import pandas as pd\n",
    "import numpy as np\n",
    "from pathlib import Path\n",
    "import collections\n",
    "from sklearn.model_selection import train_test_split\n",
    "from sklearn import metrics\n",
    "\n",
    "import sys\n",
    "sys.path.append(\"../\")\n",
    "from datatools.analyzer import *\n",
    "from utterance.error_tools import *\n",
    "\n",
    "from datatools.maneger import DataManager\n",
    "from datatools.preproc import Preprocessor"
   ]
  },
  {
   "cell_type": "code",
   "execution_count": 2,
   "metadata": {},
   "outputs": [],
   "source": [
    "import torch\n",
    "import torch.nn as nn\n",
    "import torch.nn.functional as F\n",
    "from torch.nn.modules import loss\n",
    "import torch.optim as optim"
   ]
  },
  {
   "cell_type": "code",
   "execution_count": 3,
   "metadata": {},
   "outputs": [],
   "source": [
    "class CaseModel(nn.Module):\n",
    "    def __init__(self, embedding_dim, tagset_size):\n",
    "        # 親クラスのコンストラクタ。決まり文句\n",
    "        super(CaseModel, self).__init__()    \n",
    "        self.embedding_dim = embedding_dim\n",
    "        self.hid1= embedding_dim*2\n",
    "        self.hid2 = embedding_dim//2\n",
    "        self.fc1 = nn.Linear(self.embedding_dim, self.hid1)\n",
    "        self.fc2 = nn.Linear(self.hid1, self.hid2)\n",
    "        self.hidden2tag = nn.Linear(self.hid2, tagset_size)\n",
    "    \n",
    "    def forward(self, x):\n",
    "        y = F.relu(self.fc1(x))\n",
    "        y = F.relu(self.fc2(y))\n",
    "        y = self.hidden2tag( y )\n",
    "        y = F.log_softmax(y, dim=1)\n",
    "        return y"
   ]
  },
  {
   "cell_type": "code",
   "execution_count": 4,
   "metadata": {},
   "outputs": [],
   "source": [
    "border=0.8"
   ]
  },
  {
   "cell_type": "code",
   "execution_count": 5,
   "metadata": {},
   "outputs": [
    {
     "name": "stdout",
     "output_type": "stream",
     "text": [
      "success load : ../models/utterance/group_border=0.8_2.pickle\n"
     ]
    }
   ],
   "source": [
    "dict_path = \"../models/utterance/\"\n",
    "dict_name = \"group_border={0}_2.pickle\".format(border)\n",
    "dictM = DataManager(dict_path)\n",
    "group_dict = dictM.load_data(dict_name)"
   ]
  },
  {
   "cell_type": "code",
   "execution_count": 6,
   "metadata": {},
   "outputs": [],
   "source": [
    "def search_word(word):\n",
    "    word = clean_text(word)\n",
    "    found_list = []\n",
    "    for group_key in group_dict.keys():\n",
    "        if word in group_dict[group_key]:\n",
    "            found_list.append(group_key)\n",
    "    return found_list"
   ]
  },
  {
   "cell_type": "code",
   "execution_count": 7,
   "metadata": {},
   "outputs": [
    {
     "name": "stderr",
     "output_type": "stream",
     "text": [
      "[5437] 2022-01-12 19:40:18,335 Info gensim.models.keyedvectors :loading projection weights from ../../corpus/w2v/model.vec\n",
      "[5437] 2022-01-12 19:41:19,089 Info gensim.utils :KeyedVectors lifecycle event {'msg': 'loaded (351122, 300) matrix of type float32 from ../../corpus/w2v/model.vec', 'binary': False, 'encoding': 'utf8', 'datetime': '2022-01-12T19:41:19.088960', 'gensim': '4.0.1', 'python': '3.6.9 (default, Jan 26 2021, 15:33:00) \\n[GCC 8.4.0]', 'platform': 'Linux-5.4.72-microsoft-standard-WSL2-x86_64-with-Ubuntu-18.04-bionic', 'event': 'load_word2vec_format'}\n"
     ]
    }
   ],
   "source": [
    "from gensim.models import KeyedVectors\n",
    "w2v_path = \"../../corpus/w2v/\"\n",
    "# fasttext\n",
    "# https://qiita.com/Hironsan/items/513b9f93752ecee9e670\n",
    "# w2v_name =  \"dep-ja-300dim\"\n",
    "w2v_name =  \"model.vec\"\n",
    "w2v_model = KeyedVectors.load_word2vec_format(w2v_path+w2v_name)"
   ]
  },
  {
   "cell_type": "code",
   "execution_count": 8,
   "metadata": {},
   "outputs": [],
   "source": [
    "group2index = dict(zip( group_dict.keys(), range(len(group_dict.keys())) ))\n",
    "index2group = dict(zip(range(len(group_dict.keys())), group_dict.keys() ))"
   ]
  },
  {
   "cell_type": "code",
   "execution_count": 9,
   "metadata": {},
   "outputs": [
    {
     "name": "stdout",
     "output_type": "stream",
     "text": [
      "success load : ../models/utterance/case_frame_0.8_2.pickle\n"
     ]
    }
   ],
   "source": [
    "model_path = \"../models/utterance/\"\n",
    "model_name = \"case_frame_{0}_2.pickle\".format(border)\n",
    "modelM = DataManager(model_path)\n",
    "cmodel = modelM.load_data(model_name)"
   ]
  },
  {
   "cell_type": "code",
   "execution_count": 10,
   "metadata": {},
   "outputs": [],
   "source": [
    "classify_border=0.75\n",
    "def classify_word(word, mode=\"judge\"):\n",
    "    # word = clean_text(word)\n",
    "    if word not in w2v_model:\n",
    "        return \"\"\n",
    "    with torch.no_grad():\n",
    "        vector = torch.tensor([w2v_model[word]]).cuda()\n",
    "        pred = np.exp(np.array(cmodel(vector).cpu()))\n",
    "        p_argmax = pred.argmax()\n",
    "        # print(pred[0][p_argmax])\n",
    "        if mode==\"register\":\n",
    "            if pred[0][p_argmax] < classify_border:\n",
    "                return \"\"\n",
    "    return index2group[p_argmax]"
   ]
  },
  {
   "cell_type": "code",
   "execution_count": 11,
   "metadata": {},
   "outputs": [
    {
     "data": {
      "text/plain": [
       "'<もの>'"
      ]
     },
     "execution_count": 11,
     "metadata": {},
     "output_type": "execute_result"
    }
   ],
   "source": [
    "word =  \"デジカメ\"\n",
    "classify_word(word)"
   ]
  },
  {
   "cell_type": "code",
   "execution_count": 12,
   "metadata": {},
   "outputs": [],
   "source": [
    "def register_triple(case_frame:dict, V, C, Noun):\n",
    "    # 動詞の確認\n",
    "    if V not in case_frame:\n",
    "        case_frame[V] = dict()\n",
    "\n",
    "    # 格の確認\n",
    "    if C not in case_frame[V]:\n",
    "        case_frame[V][C] = set()\n",
    "    \n",
    "    # 名詞の登録\n",
    "    case_frame[V][C].add(Noun)"
   ]
  },
  {
   "cell_type": "code",
   "execution_count": 13,
   "metadata": {},
   "outputs": [],
   "source": [
    "def compound_noun(token):\n",
    "    base = token.lemma_\n",
    "    for child in token.children:\n",
    "        if child.dep_ == \"compound\":\n",
    "           base = child.lemma_ + base\n",
    "    return base"
   ]
  },
  {
   "cell_type": "code",
   "execution_count": 14,
   "metadata": {},
   "outputs": [],
   "source": [
    "case_set = set(\"は　が　を　に　で\")\n",
    "\n",
    "def extract_RDF_triple(text, clean_=True):\n",
    "    if clean_:\n",
    "        text = clean_text(text)\n",
    "    doc = nlp(text)\n",
    "    triple_list = []\n",
    "    for _, token in enumerate( doc ):\n",
    "        if token.pos_ in [\"VERB\", \"ADJ\"]:\n",
    "        # if token.pos_==\"VERB\":\n",
    "        # if is_declinable(token):\n",
    "            for c in token.children:\n",
    "                if c.dep_ in [\"nsubj\", \"obj\", \"obl\"]:\n",
    "                    noun = c.lemma_\n",
    "                    for c2 in c.children:\n",
    "                        if c2.dep_ == \"case\" and c2.orth_ in case_set:\n",
    "                        # if c2.dep_ == \"case\":\n",
    "                            case = c2.orth_\n",
    "                            if case == \"は\":\n",
    "                                case = \"が\"\n",
    "                            triple_list.append( (token.lemma_, case, noun) )\n",
    "    return triple_list"
   ]
  },
  {
   "cell_type": "code",
   "execution_count": 15,
   "metadata": {},
   "outputs": [],
   "source": [
    "path = \"../hand_labeled/\"\n",
    "datalist = ['DCM', 'DIT', 'IRS']\n",
    "convs = read_conv(path, datalist)"
   ]
  },
  {
   "cell_type": "code",
   "execution_count": 16,
   "metadata": {},
   "outputs": [],
   "source": [
    "error = \"Semantic error\"\n",
    "sys_utt = []\n",
    "y = []\n",
    "for conv in convs:\n",
    "    for ut in conv:\n",
    "        # if ut.is_system() and ut.is_exist_error():\n",
    "        if not ut.is_exist_error():\n",
    "            sys_utt.append(ut.utt)\n",
    "            if ut.is_error_included(error):\n",
    "                y.append(1)\n",
    "            else:\n",
    "                y.append(0)"
   ]
  },
  {
   "cell_type": "code",
   "execution_count": 17,
   "metadata": {},
   "outputs": [],
   "source": [
    "# with open(\"../../corpus/NTT/persona.json\", \"r\", encoding=\"utf-8\") as f:\n",
    "#     convs = json.load(f)\n",
    "# all_utt = []\n",
    "# for did in tqdm( convs[\"convs\"] ) :\n",
    "#     dids = list( did.keys() )[0]\n",
    "#     all_utt += did[dids]"
   ]
  },
  {
   "cell_type": "code",
   "execution_count": 18,
   "metadata": {},
   "outputs": [],
   "source": [
    "# all_utt = sys_utt + all_utt\n",
    "# len(all_utt)"
   ]
  },
  {
   "cell_type": "code",
   "execution_count": 19,
   "metadata": {},
   "outputs": [],
   "source": [
    "def read_file(filename, batch_size=10000) -> list:\n",
    "    f = open(filename, 'r', encoding='UTF-8')\n",
    "    text_list = [  ]\n",
    "    concated = \"\"\n",
    "    for i, line in enumerate( f.readlines() ):\n",
    "        concated += line.rstrip('\\n')\n",
    "        if (i+1) % batch_size == 0:\n",
    "            text_list.append(concated)\n",
    "            concated = \"\"\n",
    "    text_list.append(concated)\n",
    "    f.close()\n",
    "    return text_list"
   ]
  },
  {
   "cell_type": "code",
   "execution_count": 22,
   "metadata": {},
   "outputs": [
    {
     "name": "stdout",
     "output_type": "stream",
     "text": [
      "len of text_list : 18674\n"
     ]
    }
   ],
   "source": [
    "filename = \"../../corpus/wiki/wiki_normalized.txt\"\n",
    "filename = \"../../corpus/wiki/wiki_40b_train_normal.txt\"\n",
    "# filename = \"plain.txt\"\n",
    "all_list = read_file(filename, batch_size=100)\n",
    "print(\"len of text_list :\", len(all_list))"
   ]
  },
  {
   "cell_type": "code",
   "execution_count": 30,
   "metadata": {},
   "outputs": [],
   "source": [
    "all_utt = all_list[::10]"
   ]
  },
  {
   "cell_type": "code",
   "execution_count": 31,
   "metadata": {},
   "outputs": [],
   "source": [
    "case_frame = dict()"
   ]
  },
  {
   "cell_type": "code",
   "execution_count": 32,
   "metadata": {},
   "outputs": [
    {
     "data": {
      "text/plain": [
       "51.87222222222223"
      ]
     },
     "execution_count": 32,
     "metadata": {},
     "output_type": "execute_result"
    }
   ],
   "source": [
    "18674/6/60"
   ]
  },
  {
   "cell_type": "code",
   "execution_count": 33,
   "metadata": {},
   "outputs": [
    {
     "name": "stderr",
     "output_type": "stream",
     "text": [
      "100%|██████████| 1868/1868 [4:35:40<00:00,  8.85s/it]  \n"
     ]
    }
   ],
   "source": [
    "\n",
    "for utt in tqdm( all_utt ):\n",
    "    is_valid = True\n",
    "\n",
    "    triples = extract_RDF_triple(utt, clean_=False)\n",
    "    if len(triples)>0:\n",
    "        for triple in triples:\n",
    "            V = triple[0]\n",
    "            C = triple[1]\n",
    "            noun = triple[2]\n",
    "            group_ = search_word(noun)\n",
    "            if len(group_) > 0:\n",
    "                for group in group_:\n",
    "                    register_triple(case_frame, V, C, group)\n",
    "            else:\n",
    "                group = classify_word(noun, mode=\"register\")\n",
    "                # ないなら登録するな\n",
    "                if group != \"\":\n",
    "                    register_triple(case_frame, V, C, group)\n",
    "\n",
    "            register_triple(case_frame, V, C, noun)\n"
   ]
  },
  {
   "cell_type": "code",
   "execution_count": 34,
   "metadata": {},
   "outputs": [],
   "source": [
    "case_frame_name = \"case_frame_wiki40B_border={}.pickle\".format(classify_border)\n",
    "data_path = \"../X_y_data/utterance/\""
   ]
  },
  {
   "cell_type": "code",
   "execution_count": 35,
   "metadata": {},
   "outputs": [
    {
     "name": "stdout",
     "output_type": "stream",
     "text": [
      "success save : ../X_y_data/utterance/case_frame_wiki40B_border=0.75.pickle\n"
     ]
    }
   ],
   "source": [
    "dataM = DataManager(data_path)\n",
    "dataM.save_data(case_frame_name, case_frame)"
   ]
  },
  {
   "cell_type": "code",
   "execution_count": 36,
   "metadata": {},
   "outputs": [
    {
     "name": "stdout",
     "output_type": "stream",
     "text": [
      "success load : ../X_y_data/utterance/case_frame_wiki40B_border=0.75.pickle\n"
     ]
    }
   ],
   "source": [
    "dataM = DataManager(data_path)\n",
    "case_frame = dataM.load_data(case_frame_name)"
   ]
  },
  {
   "cell_type": "code",
   "execution_count": 37,
   "metadata": {},
   "outputs": [],
   "source": [
    "def search_triple(V, C, N):\n",
    "    if N in case_frame[V][C]:\n",
    "        return True\n",
    "    else:\n",
    "        return False\n",
    "\n",
    "# True : 用法は問題ない\n",
    "# False : 問題あり\n",
    "def judge_triple(triple):\n",
    "    V = triple[0]\n",
    "    C = triple[1]\n",
    "    noun = triple[2]\n",
    "\n",
    "    # Vが登録されていないならパスしておくかな(一旦)\n",
    "    if V not in case_frame:\n",
    "        # print(\"not registered V :\", V)\n",
    "        return True\n",
    "    \n",
    "    # C が登録されていないなら，アウト\n",
    "    if C not in case_frame[V]:\n",
    "        print(\"not registered V, C :\", V, C)\n",
    "        return False\n",
    "    \n",
    "    # そのままの名詞で検索 -> 発見なら正例\n",
    "    if search_triple(V, C, noun):\n",
    "        return True\n",
    "\n",
    "    # 名詞がどこかのグループに属する\n",
    "    group_ = search_word(noun)\n",
    "    if len(group_) > 0:\n",
    "        # 1つでも引っかかればOK\n",
    "        for group in group_:\n",
    "            if search_triple(V, C, group):\n",
    "                return True\n",
    "        return False\n",
    "    # グループを推定\n",
    "    else:\n",
    "        group = classify_word(noun) \n",
    "        return search_triple(V, C, group)"
   ]
  },
  {
   "cell_type": "code",
   "execution_count": 38,
   "metadata": {},
   "outputs": [],
   "source": [
    "path = \"../eval_labeled/\"\n",
    "datalist = ['DCM', 'DIT', 'IRS']\n",
    "convs = read_conv(path, datalist)\n",
    "\n",
    "error = \"Semantic error\"\n",
    "sys_utt = []\n",
    "y = []\n",
    "for conv in convs:\n",
    "    for ut in conv:\n",
    "        if ut.is_system() and ut.is_exist_error():\n",
    "            sys_utt.append(ut.utt)\n",
    "            if ut.is_error_included(error):\n",
    "                y.append(1)\n",
    "            else:\n",
    "                y.append(0)"
   ]
  },
  {
   "cell_type": "code",
   "execution_count": 39,
   "metadata": {},
   "outputs": [
    {
     "name": "stderr",
     "output_type": "stream",
     "text": [
      "  0%|          | 0/1386 [00:00<?, ?it/s]"
     ]
    },
    {
     "name": "stdout",
     "output_type": "stream",
     "text": [
      "('生まれる', 'に', 'お兄さん')\n"
     ]
    },
    {
     "name": "stderr",
     "output_type": "stream",
     "text": [
      "  1%|          | 16/1386 [00:00<00:17, 77.84it/s]"
     ]
    },
    {
     "name": "stdout",
     "output_type": "stream",
     "text": [
      "('見る', 'を', '好き')\n"
     ]
    },
    {
     "name": "stderr",
     "output_type": "stream",
     "text": [
      "  3%|▎         | 35/1386 [00:00<00:16, 83.00it/s]"
     ]
    },
    {
     "name": "stdout",
     "output_type": "stream",
     "text": [
      "('ほしい', 'が', '帽子')\n",
      "('大好き', 'が', '帽子')\n",
      "('得意', 'が', 'クロール')\n",
      "('泳ぐ', 'で', 'スイミング')\n",
      "('楽しい', 'が', 'スイミング')\n"
     ]
    },
    {
     "name": "stderr",
     "output_type": "stream",
     "text": [
      "  4%|▍         | 60/1386 [00:00<00:18, 73.14it/s]"
     ]
    },
    {
     "name": "stdout",
     "output_type": "stream",
     "text": [
      "('演奏', 'で', '御自分')\n",
      "('とれる', 'で', '言葉')\n",
      "('えらぶ', 'を', '服')\n",
      "('好き', 'が', '縁側')\n"
     ]
    },
    {
     "name": "stderr",
     "output_type": "stream",
     "text": [
      "  6%|▌         | 85/1386 [00:01<00:16, 77.93it/s]"
     ]
    },
    {
     "name": "stdout",
     "output_type": "stream",
     "text": [
      "('好き', 'が', '御菓子')\n",
      "('元気', 'が', '映画')\n"
     ]
    },
    {
     "name": "stderr",
     "output_type": "stream",
     "text": [
      "  8%|▊         | 112/1386 [00:01<00:16, 78.21it/s]"
     ]
    },
    {
     "name": "stdout",
     "output_type": "stream",
     "text": [
      "('いる', 'が', '外食')\n",
      "('怖い', 'が', '由紀恵')\n",
      "('美しい', 'が', '由紀恵')\n",
      "('平和', 'が', '南極')\n"
     ]
    },
    {
     "name": "stderr",
     "output_type": "stream",
     "text": [
      "  9%|▉         | 128/1386 [00:01<00:16, 77.85it/s]"
     ]
    },
    {
     "name": "stdout",
     "output_type": "stream",
     "text": [
      "not registered V, C : 笑い で\n",
      "('笑い', 'で', '付き')\n",
      "('暑い', 'が', '暑い')\n"
     ]
    },
    {
     "name": "stderr",
     "output_type": "stream",
     "text": [
      " 10%|█         | 144/1386 [00:01<00:16, 76.55it/s]"
     ]
    },
    {
     "name": "stdout",
     "output_type": "stream",
     "text": [
      "('心配', 'が', '熱中症')\n",
      "('かっこいい', 'が', '汗')\n"
     ]
    },
    {
     "name": "stderr",
     "output_type": "stream",
     "text": [
      " 12%|█▏        | 169/1386 [00:02<00:16, 72.69it/s]"
     ]
    },
    {
     "name": "stdout",
     "output_type": "stream",
     "text": [
      "('おいしい', 'が', 'メニュー')\n",
      "('伺う', 'で', '所')\n"
     ]
    },
    {
     "name": "stderr",
     "output_type": "stream",
     "text": [
      " 13%|█▎        | 185/1386 [00:02<00:16, 72.61it/s]"
     ]
    },
    {
     "name": "stdout",
     "output_type": "stream",
     "text": [
      "('読める', 'で', 'スマホ')\n",
      "('いい', 'が', 'エネループ')\n",
      "('好き', 'で', '所')\n",
      "('うるさい', 'が', '選挙')\n",
      "('ほしい', 'が', '自動販売機')\n"
     ]
    },
    {
     "name": "stderr",
     "output_type": "stream",
     "text": [
      " 15%|█▍        | 201/1386 [00:02<00:16, 70.48it/s]"
     ]
    },
    {
     "name": "stdout",
     "output_type": "stream",
     "text": [
      "('大切', 'が', 'テレビ')\n",
      "('大好き', 'が', 'イタリア料理')\n",
      "('有名', 'で', 'イタリア料理')\n"
     ]
    },
    {
     "name": "stderr",
     "output_type": "stream",
     "text": [
      " 16%|█▋        | 226/1386 [00:02<00:15, 74.46it/s]"
     ]
    },
    {
     "name": "stdout",
     "output_type": "stream",
     "text": [
      "('おいしい', 'が', '炊き立て')\n",
      "('やめる', 'が', '夜')\n"
     ]
    },
    {
     "name": "stderr",
     "output_type": "stream",
     "text": [
      " 18%|█▊        | 243/1386 [00:03<00:15, 76.00it/s]"
     ]
    },
    {
     "name": "stdout",
     "output_type": "stream",
     "text": [
      "('面白い', 'が', 'スイカ')\n",
      "not registered V, C : 清楚 が\n",
      "('清楚', 'が', '見た目')\n",
      "('大好き', 'が', 'テレビ')\n"
     ]
    },
    {
     "name": "stderr",
     "output_type": "stream",
     "text": [
      " 19%|█▉        | 261/1386 [00:03<00:13, 81.11it/s]"
     ]
    },
    {
     "name": "stdout",
     "output_type": "stream",
     "text": [
      "('いい', 'が', 'シャープ')\n",
      "('目指す', 'を', '健康美')\n",
      "('食べる', 'が', '朝御飯')\n"
     ]
    },
    {
     "name": "stderr",
     "output_type": "stream",
     "text": [
      " 22%|██▏       | 307/1386 [00:04<00:14, 75.80it/s]"
     ]
    },
    {
     "name": "stdout",
     "output_type": "stream",
     "text": [
      "('大好き', 'が', 'チョコレート')\n",
      "('はまる', 'に', 'アイスクリーム')\n",
      "('うまい', 'が', 'スイカ')\n",
      "('美味しい', 'が', '尻尾')\n",
      "('美味しい', 'が', 'ねた')\n",
      "('仕入れる', 'を', 'ねた')\n"
     ]
    },
    {
     "name": "stderr",
     "output_type": "stream",
     "text": [
      " 24%|██▍       | 331/1386 [00:04<00:14, 71.87it/s]"
     ]
    },
    {
     "name": "stdout",
     "output_type": "stream",
     "text": [
      "('大切', 'で', '嗽')\n",
      "('大切', 'で', '嗽')\n",
      "('心掛ける', 'を', '予防')\n",
      "('重い', 'で', '寝不足')\n",
      "('痛い', 'で', '寝不足')\n"
     ]
    },
    {
     "name": "stderr",
     "output_type": "stream",
     "text": [
      " 25%|██▌       | 347/1386 [00:04<00:14, 72.10it/s]"
     ]
    },
    {
     "name": "stdout",
     "output_type": "stream",
     "text": [
      "('使える', 'で', 'ドコモ')\n",
      "('わかる', 'で', '逆子')\n",
      "not registered V, C : おもしろい に\n",
      "('おもしろい', 'に', '本当')\n",
      "('持つ', 'を', '御土産')\n",
      "('検索', 'を', '足')\n"
     ]
    },
    {
     "name": "stderr",
     "output_type": "stream",
     "text": [
      " 26%|██▌       | 357/1386 [00:04<00:13, 77.26it/s]"
     ]
    },
    {
     "name": "stdout",
     "output_type": "stream",
     "text": [
      "('恋しい', 'が', '天気')\n",
      "('怪しい', 'が', '天気')\n",
      "('見せる', 'に', 'メロン')\n"
     ]
    },
    {
     "name": "stderr",
     "output_type": "stream",
     "text": [
      " 29%|██▊       | 397/1386 [00:05<00:13, 73.12it/s]"
     ]
    },
    {
     "name": "stdout",
     "output_type": "stream",
     "text": [
      "('可憐', 'が', '花言葉')\n",
      "('特殊', 'が', '学校')\n",
      "('安全', 'が', '学校')\n",
      "('誕生', 'が', 'ななつ星')\n"
     ]
    },
    {
     "name": "stderr",
     "output_type": "stream",
     "text": [
      " 29%|██▉       | 405/1386 [00:05<00:15, 61.46it/s]"
     ]
    },
    {
     "name": "stdout",
     "output_type": "stream",
     "text": [
      "('大成功', 'が', '熊本県')\n",
      "('みつける', 'に', '夏')\n"
     ]
    },
    {
     "name": "stderr",
     "output_type": "stream",
     "text": [
      " 30%|███       | 418/1386 [00:05<00:17, 54.59it/s]"
     ]
    },
    {
     "name": "stdout",
     "output_type": "stream",
     "text": [
      "('連覇', 'で', 'アメリカ')\n",
      "('確認', 'が', '感染者')\n",
      "('美味しい', 'に', '本当')\n",
      "('行う', 'が', 'boon')\n",
      "('引っ越す', 'が', '和平')\n"
     ]
    },
    {
     "name": "stderr",
     "output_type": "stream",
     "text": [
      " 31%|███       | 430/1386 [00:05<00:20, 47.38it/s]"
     ]
    },
    {
     "name": "stdout",
     "output_type": "stream",
     "text": [
      "('検索', 'で', 'ダビンチ')\n",
      "('ある', 'が', '御店')\n",
      "('コーティング', 'が', '食材')\n",
      "('可愛らしい', 'が', '飴')\n",
      "not registered V, C : 健康的 で\n",
      "('健康的', 'で', '沖縄')\n",
      "('想像', 'を', '味')\n",
      "('する', 'で', '金団')\n"
     ]
    },
    {
     "name": "stderr",
     "output_type": "stream",
     "text": [
      " 32%|███▏      | 440/1386 [00:06<00:20, 45.68it/s]"
     ]
    },
    {
     "name": "stdout",
     "output_type": "stream",
     "text": [
      "('披露', 'が', 'ロボットニットデニムブーツカットパンツ')\n",
      "('会話', 'が', '選手権')\n",
      "('買う', 'に', '御土産')\n"
     ]
    },
    {
     "name": "stderr",
     "output_type": "stream",
     "text": [
      " 32%|███▏      | 450/1386 [00:06<00:21, 43.17it/s]"
     ]
    },
    {
     "name": "stdout",
     "output_type": "stream",
     "text": [
      "('大好き', 'が', 'チョコレートラテポッキーブレンド')\n",
      "('転げ落ちる', 'に', '末')\n",
      "('観戦', 'を', '保険')\n",
      "('買う', 'に', '御土産')\n",
      "('ある', 'が', '御店')\n"
     ]
    },
    {
     "name": "stderr",
     "output_type": "stream",
     "text": [
      " 33%|███▎      | 460/1386 [00:06<00:25, 36.39it/s]"
     ]
    },
    {
     "name": "stdout",
     "output_type": "stream",
     "text": [
      "('ささやく', 'に', '来年')\n",
      "('提供', 'で', 'マラソン')\n"
     ]
    },
    {
     "name": "stderr",
     "output_type": "stream",
     "text": [
      " 34%|███▍      | 474/1386 [00:07<00:22, 39.81it/s]"
     ]
    },
    {
     "name": "stdout",
     "output_type": "stream",
     "text": [
      "('イメージ', 'が', '歴史')\n",
      "('指導', 'で', '女房')\n",
      "('見る', 'を', 'お節料理')\n"
     ]
    },
    {
     "name": "stderr",
     "output_type": "stream",
     "text": [
      " 35%|███▍      | 485/1386 [00:07<00:22, 40.01it/s]"
     ]
    },
    {
     "name": "stdout",
     "output_type": "stream",
     "text": [
      "('召し上がる', 'を', 'さん')\n",
      "('添う', 'に', '地図')\n",
      "('連載', 'が', '保険')\n"
     ]
    },
    {
     "name": "stderr",
     "output_type": "stream",
     "text": [
      " 36%|███▌      | 495/1386 [00:07<00:21, 41.73it/s]"
     ]
    },
    {
     "name": "stdout",
     "output_type": "stream",
     "text": [
      "('食べる', 'を', 'リング')\n",
      "('視聴', 'が', '卵')\n",
      "('革新', 'が', '理由')\n"
     ]
    },
    {
     "name": "stderr",
     "output_type": "stream",
     "text": [
      " 36%|███▋      | 504/1386 [00:07<00:22, 39.22it/s]"
     ]
    },
    {
     "name": "stdout",
     "output_type": "stream",
     "text": [
      "('好き', 'が', '天下一品')\n",
      "('発売', 'が', 'ベニマル')\n",
      "('利用', 'で', 'ベニマル')\n"
     ]
    },
    {
     "name": "stderr",
     "output_type": "stream",
     "text": [
      " 37%|███▋      | 514/1386 [00:08<00:20, 42.88it/s]"
     ]
    },
    {
     "name": "stdout",
     "output_type": "stream",
     "text": [
      "('食べる', 'を', '刺し身')\n",
      "('驚愕', 'に', '寿司')\n",
      "('みる', 'を', '特集番組')\n"
     ]
    },
    {
     "name": "stderr",
     "output_type": "stream",
     "text": [
      " 38%|███▊      | 527/1386 [00:08<00:17, 49.64it/s]"
     ]
    },
    {
     "name": "stdout",
     "output_type": "stream",
     "text": [
      "('する', 'が', '結弦')\n",
      "('応援', 'を', '元気')\n",
      "('焼く', 'で', 'デギュスタシオン')\n",
      "('掛ける', 'が', 'デリ')\n",
      "('泊まる', 'に', '年末年始')\n",
      "('マッチ', 'に', '場合')\n"
     ]
    },
    {
     "name": "stderr",
     "output_type": "stream",
     "text": [
      " 39%|███▉      | 538/1386 [00:08<00:17, 49.54it/s]"
     ]
    },
    {
     "name": "stdout",
     "output_type": "stream",
     "text": [
      "('試す', 'を', 'スパイス')\n",
      "('好き', 'で', 'ラーメン')\n"
     ]
    },
    {
     "name": "stderr",
     "output_type": "stream",
     "text": [
      " 40%|███▉      | 548/1386 [00:08<00:18, 45.37it/s]"
     ]
    },
    {
     "name": "stdout",
     "output_type": "stream",
     "text": [
      "('高まる', 'に', '今後')\n"
     ]
    },
    {
     "name": "stderr",
     "output_type": "stream",
     "text": [
      " 41%|████      | 563/1386 [00:09<00:20, 40.99it/s]"
     ]
    },
    {
     "name": "stdout",
     "output_type": "stream",
     "text": [
      "('踊る', 'を', 'クッキー')\n",
      "('購入', 'で', 'イレブン')\n",
      "('美味しい', 'が', 'スナック')\n",
      "('利用', 'を', 'コピー機')\n"
     ]
    },
    {
     "name": "stderr",
     "output_type": "stream",
     "text": [
      " 41%|████▏     | 573/1386 [00:09<00:19, 41.97it/s]"
     ]
    },
    {
     "name": "stdout",
     "output_type": "stream",
     "text": [
      "('嬉しい', 'が', '組み合わせ')\n",
      "('誘う', 'を', '蝦煎')\n",
      "('なる', 'が', '蝦煎')\n"
     ]
    },
    {
     "name": "stderr",
     "output_type": "stream",
     "text": [
      " 42%|████▏     | 583/1386 [00:09<00:19, 40.51it/s]"
     ]
    },
    {
     "name": "stdout",
     "output_type": "stream",
     "text": [
      "('好き', 'が', '海豹')\n",
      "('泳ぐ', 'を', '水槽')\n"
     ]
    },
    {
     "name": "stderr",
     "output_type": "stream",
     "text": [
      " 43%|████▎     | 594/1386 [00:09<00:18, 43.37it/s]"
     ]
    },
    {
     "name": "stdout",
     "output_type": "stream",
     "text": [
      "('使う', 'を', '料理器具')\n",
      "('購入', 'で', 'グランプリ')\n",
      "('ある', 'が', '御店')\n",
      "('温める', 'を', 'スライスチーズ')\n",
      "('食べる', 'を', '味')\n"
     ]
    },
    {
     "name": "stderr",
     "output_type": "stream",
     "text": [
      " 43%|████▎     | 599/1386 [00:09<00:19, 40.61it/s]"
     ]
    },
    {
     "name": "stdout",
     "output_type": "stream",
     "text": [
      "('見かける', 'で', '棚')\n",
      "('コラボレーション', 'が', 'パステル')\n",
      "('思い出す', 'で', 'ソフトクリーム')\n",
      "('二人目', 'が', 'さん')\n"
     ]
    },
    {
     "name": "stderr",
     "output_type": "stream",
     "text": [
      " 44%|████▍     | 614/1386 [00:10<00:19, 39.40it/s]"
     ]
    },
    {
     "name": "stdout",
     "output_type": "stream",
     "text": [
      "('見る', 'を', '納豆')\n",
      "('きつい', 'で', '味')\n",
      "('観戦', 'を', '賞')\n",
      "('登場', 'で', 'akiba')\n"
     ]
    },
    {
     "name": "stderr",
     "output_type": "stream",
     "text": [
      " 45%|████▌     | 624/1386 [00:10<00:19, 38.63it/s]"
     ]
    },
    {
     "name": "stdout",
     "output_type": "stream",
     "text": [
      "('抑える', 'を', 'oriconstyle')\n",
      "('ノミネート', 'に', 'ゴーシーク')\n",
      "('無理', 'が', '優勝')\n"
     ]
    },
    {
     "name": "stderr",
     "output_type": "stream",
     "text": [
      " 46%|████▌     | 633/1386 [00:10<00:19, 39.07it/s]"
     ]
    },
    {
     "name": "stdout",
     "output_type": "stream",
     "text": [
      "('勝ち進む', 'が', 'ヤマザキ')\n",
      "('販売', 'が', '保険')\n",
      "('選ぶ', 'で', 'キティー')\n",
      "('販売', 'が', '雲月')\n",
      "('販売', 'が', '雲月')\n"
     ]
    },
    {
     "name": "stderr",
     "output_type": "stream",
     "text": [
      " 46%|████▌     | 638/1386 [00:11<00:21, 35.59it/s]"
     ]
    },
    {
     "name": "stdout",
     "output_type": "stream",
     "text": [
      "('観覧', 'に', '君')\n"
     ]
    },
    {
     "name": "stderr",
     "output_type": "stream",
     "text": [
      " 47%|████▋     | 647/1386 [00:11<00:31, 23.21it/s]"
     ]
    },
    {
     "name": "stdout",
     "output_type": "stream",
     "text": [
      "('行く', 'が', 'クリスマス')\n",
      "('食べる', 'に', '解釈')\n"
     ]
    },
    {
     "name": "stderr",
     "output_type": "stream",
     "text": [
      " 48%|████▊     | 659/1386 [00:11<00:23, 30.33it/s]"
     ]
    },
    {
     "name": "stdout",
     "output_type": "stream",
     "text": [
      "('活躍', 'で', '現時点')\n",
      "('外せる', 'が', '御店')\n"
     ]
    },
    {
     "name": "stderr",
     "output_type": "stream",
     "text": [
      " 49%|████▊     | 674/1386 [00:12<00:18, 39.06it/s]"
     ]
    },
    {
     "name": "stdout",
     "output_type": "stream",
     "text": [
      "('施す', 'が', '漆塗り')\n",
      "('アップ', 'に', '飛躍的')\n"
     ]
    },
    {
     "name": "stderr",
     "output_type": "stream",
     "text": [
      " 49%|████▉     | 686/1386 [00:12<00:15, 46.14it/s]"
     ]
    },
    {
     "name": "stdout",
     "output_type": "stream",
     "text": [
      "('多い', 'が', '御店')\n",
      "('魅力的', 'が', '見る')\n",
      "('ハマる', 'が', 'さん')\n",
      "('好き', 'が', 'リング')\n",
      "('おいしい', 'が', '方')\n",
      "('ある', 'が', 'ココロココ')\n",
      "('載せる', 'で', 'ココロココ')\n"
     ]
    },
    {
     "name": "stderr",
     "output_type": "stream",
     "text": [
      " 51%|█████     | 707/1386 [00:12<00:14, 46.07it/s]"
     ]
    },
    {
     "name": "stdout",
     "output_type": "stream",
     "text": [
      "('思い出す', 'で', '中止')\n",
      "('宣伝', 'が', 'パン')\n",
      "('始まる', 'で', '元気')\n",
      "('元気', 'が', '受け取り')\n"
     ]
    },
    {
     "name": "stderr",
     "output_type": "stream",
     "text": [
      " 52%|█████▏    | 717/1386 [00:13<00:15, 44.14it/s]"
     ]
    },
    {
     "name": "stdout",
     "output_type": "stream",
     "text": [
      "('渡り歩く', 'が', '選手')\n",
      "('見つける', 'で', 'ブラジル')\n",
      "('獲る', 'で', '若い')\n",
      "('ない', 'で', 'イングレス')\n"
     ]
    },
    {
     "name": "stderr",
     "output_type": "stream",
     "text": [
      " 53%|█████▎    | 728/1386 [00:13<00:14, 45.16it/s]"
     ]
    },
    {
     "name": "stdout",
     "output_type": "stream",
     "text": [
      "('買う', 'で', '島歌')\n",
      "('出場', 'に', '島歌')\n"
     ]
    },
    {
     "name": "stderr",
     "output_type": "stream",
     "text": [
      " 53%|█████▎    | 739/1386 [00:13<00:14, 45.04it/s]"
     ]
    },
    {
     "name": "stdout",
     "output_type": "stream",
     "text": [
      "('する', 'を', 'manzai')\n",
      "('買う', 'に', '御土産')\n",
      "('出場', 'が', '今年')\n",
      "('急上昇', 'が', '株')\n",
      "('残念', 'で', 'こと')\n"
     ]
    },
    {
     "name": "stderr",
     "output_type": "stream",
     "text": [
      " 54%|█████▍    | 755/1386 [00:14<00:13, 48.24it/s]"
     ]
    },
    {
     "name": "stdout",
     "output_type": "stream",
     "text": [
      "('美味しい', 'に', '本当')\n",
      "('アップロード', 'に', 'キャンデー')\n",
      "('発売', 'を', 'tweetbot')\n"
     ]
    },
    {
     "name": "stderr",
     "output_type": "stream",
     "text": [
      " 55%|█████▌    | 766/1386 [00:14<00:12, 50.55it/s]"
     ]
    },
    {
     "name": "stdout",
     "output_type": "stream",
     "text": [
      "('破れる', 'で', 'ワールドカップ')\n",
      "('好き', 'で', 'FC')\n",
      "('致命傷', 'に', '投手')\n"
     ]
    },
    {
     "name": "stderr",
     "output_type": "stream",
     "text": [
      " 56%|█████▋    | 783/1386 [00:14<00:13, 45.15it/s]"
     ]
    },
    {
     "name": "stdout",
     "output_type": "stream",
     "text": [
      "('望ましい', 'で', 'カップ')\n",
      "('指導', 'で', 'イチ')\n",
      "('伸ばせる', 'で', '御陰')\n"
     ]
    },
    {
     "name": "stderr",
     "output_type": "stream",
     "text": [
      " 57%|█████▋    | 793/1386 [00:14<00:13, 43.45it/s]"
     ]
    },
    {
     "name": "stdout",
     "output_type": "stream",
     "text": [
      "('大事', 'が', '信用')\n",
      "('アレンジ', 'を', 'マッサマンカレー')\n"
     ]
    },
    {
     "name": "stderr",
     "output_type": "stream",
     "text": [
      " 58%|█████▊    | 803/1386 [00:15<00:13, 42.45it/s]"
     ]
    },
    {
     "name": "stdout",
     "output_type": "stream",
     "text": [
      "('決める', 'に', '快挙')\n",
      "('売り切れる', 'で', '人気')\n",
      "('発売', 'を', '歌謡祭')\n"
     ]
    },
    {
     "name": "stderr",
     "output_type": "stream",
     "text": [
      " 59%|█████▊    | 814/1386 [00:15<00:12, 44.17it/s]"
     ]
    },
    {
     "name": "stdout",
     "output_type": "stream",
     "text": [
      "('歌う', 'が', 'フーズ')\n"
     ]
    },
    {
     "name": "stderr",
     "output_type": "stream",
     "text": [
      " 59%|█████▉    | 824/1386 [00:15<00:13, 40.40it/s]"
     ]
    },
    {
     "name": "stdout",
     "output_type": "stream",
     "text": [
      "('楽しめる', 'で', 'これ')\n",
      "('見かける', 'を', 'エピソード')\n",
      "('切り離す', 'を', '気持ち')\n"
     ]
    },
    {
     "name": "stderr",
     "output_type": "stream",
     "text": [
      " 60%|██████    | 836/1386 [00:15<00:11, 46.15it/s]"
     ]
    },
    {
     "name": "stdout",
     "output_type": "stream",
     "text": [
      "('食べる', 'を', '味')\n",
      "('大人気', 'が', '最近')\n",
      "('美味しい', 'に', '他')\n",
      "('コーティング', 'に', 'ポテトチップス')\n",
      "('トッピング', 'に', '卵')\n"
     ]
    },
    {
     "name": "stderr",
     "output_type": "stream",
     "text": [
      " 61%|██████    | 846/1386 [00:16<00:13, 40.27it/s]"
     ]
    },
    {
     "name": "stdout",
     "output_type": "stream",
     "text": [
      "('食べる', 'を', '蝦煎')\n",
      "('つく', 'で', 'ブラジル')\n",
      "('出店', 'が', '御店')\n"
     ]
    },
    {
     "name": "stderr",
     "output_type": "stream",
     "text": [
      " 62%|██████▏   | 861/1386 [00:16<00:12, 41.96it/s]"
     ]
    },
    {
     "name": "stdout",
     "output_type": "stream",
     "text": [
      "('優勝', 'が', '次回')\n",
      "('施す', 'が', '漆塗り')\n",
      "('有名', 'で', '肉饅')\n",
      "('見る', 'を', 'ココロココ')\n"
     ]
    },
    {
     "name": "stderr",
     "output_type": "stream",
     "text": [
      " 63%|██████▎   | 873/1386 [00:16<00:11, 46.13it/s]"
     ]
    },
    {
     "name": "stdout",
     "output_type": "stream",
     "text": [
      "('する', 'が', '啓江')\n",
      "('応援', 'を', 'letao')\n",
      "('開発', 'を', '試作品')\n",
      "('読む', 'を', 'カンタビ')\n"
     ]
    },
    {
     "name": "stderr",
     "output_type": "stream",
     "text": [
      " 64%|██████▍   | 890/1386 [00:17<00:10, 48.56it/s]"
     ]
    },
    {
     "name": "stdout",
     "output_type": "stream",
     "text": [
      "('実演', 'で', '番組')\n",
      "('直撃', 'に', '今後')\n"
     ]
    },
    {
     "name": "stderr",
     "output_type": "stream",
     "text": [
      " 65%|██████▌   | 901/1386 [00:17<00:10, 48.49it/s]"
     ]
    },
    {
     "name": "stdout",
     "output_type": "stream",
     "text": [
      "('続出', 'が', 'リピーター')\n",
      "('浸透', 'が', '乃逢')\n",
      "('買う', 'で', 'パン')\n",
      "('観る', 'に', '他')\n",
      "('絡む', 'が', '蒟蒻')\n",
      "('休む', 'が', '今日')\n"
     ]
    },
    {
     "name": "stderr",
     "output_type": "stream",
     "text": [
      " 66%|██████▌   | 913/1386 [00:17<00:09, 50.37it/s]"
     ]
    },
    {
     "name": "stdout",
     "output_type": "stream",
     "text": [
      "('ござる', 'に', '所')\n",
      "('かかる', 'が', 'トッピング')\n"
     ]
    },
    {
     "name": "stderr",
     "output_type": "stream",
     "text": [
      " 67%|██████▋   | 925/1386 [00:17<00:09, 49.17it/s]"
     ]
    },
    {
     "name": "stdout",
     "output_type": "stream",
     "text": [
      "('またがる', 'が', '町作り')\n",
      "('好き', 'で', 'ハンバーガー')\n",
      "('シンプル', 'が', 'クッキー')\n",
      "not registered V, C : 恋 で\n",
      "('恋', 'で', '番組')\n"
     ]
    },
    {
     "name": "stderr",
     "output_type": "stream",
     "text": [
      " 67%|██████▋   | 935/1386 [00:18<00:09, 47.91it/s]"
     ]
    },
    {
     "name": "stdout",
     "output_type": "stream",
     "text": [
      "('実演', 'で', '番組')\n",
      "('消える', 'で', '代')\n"
     ]
    },
    {
     "name": "stderr",
     "output_type": "stream",
     "text": [
      " 69%|██████▉   | 961/1386 [00:18<00:06, 68.28it/s]"
     ]
    },
    {
     "name": "stdout",
     "output_type": "stream",
     "text": [
      "('高い', 'が', '通行料金')\n"
     ]
    },
    {
     "name": "stderr",
     "output_type": "stream",
     "text": [
      " 71%|███████   | 985/1386 [00:18<00:05, 73.25it/s]"
     ]
    },
    {
     "name": "stdout",
     "output_type": "stream",
     "text": [
      "('汚れる', 'が', '部屋')\n"
     ]
    },
    {
     "name": "stderr",
     "output_type": "stream",
     "text": [
      " 73%|███████▎  | 1010/1386 [00:18<00:04, 78.97it/s]"
     ]
    },
    {
     "name": "stdout",
     "output_type": "stream",
     "text": [
      "('高い', 'が', '冬服')\n",
      "('いい', 'で', 'どっち')\n",
      "('おもしろい', 'が', '間')\n"
     ]
    },
    {
     "name": "stderr",
     "output_type": "stream",
     "text": [
      " 75%|███████▍  | 1034/1386 [00:19<00:04, 75.84it/s]"
     ]
    },
    {
     "name": "stdout",
     "output_type": "stream",
     "text": [
      "('整理', 'が', '上')\n",
      "('怪しい', 'が', '週間')\n",
      "('出せる', 'で', 'それ')\n"
     ]
    },
    {
     "name": "stderr",
     "output_type": "stream",
     "text": [
      " 76%|███████▌  | 1050/1386 [00:19<00:04, 73.00it/s]"
     ]
    },
    {
     "name": "stdout",
     "output_type": "stream",
     "text": [
      "('弾く', 'に', '他')\n",
      "('なる', 'に', 'お出掛け')\n",
      "('グッド', 'が', '今')\n",
      "('うろつく', 'で', '大須')\n",
      "('いける', 'に', '外')\n"
     ]
    },
    {
     "name": "stderr",
     "output_type": "stream",
     "text": [
      " 77%|███████▋  | 1066/1386 [00:19<00:04, 70.87it/s]"
     ]
    },
    {
     "name": "stdout",
     "output_type": "stream",
     "text": [
      "('おいしい', 'に', '割')\n",
      "('食べる', 'を', 'なに')\n",
      "('整理', 'が', '上')\n"
     ]
    },
    {
     "name": "stderr",
     "output_type": "stream",
     "text": [
      " 79%|███████▊  | 1091/1386 [00:20<00:04, 72.68it/s]"
     ]
    },
    {
     "name": "stdout",
     "output_type": "stream",
     "text": [
      "('撮る', 'を', '枚')\n",
      "('撮る', 'を', '枚')\n",
      "('特殊', 'が', '時')\n"
     ]
    },
    {
     "name": "stderr",
     "output_type": "stream",
     "text": [
      " 80%|███████▉  | 1107/1386 [00:20<00:04, 65.26it/s]"
     ]
    },
    {
     "name": "stdout",
     "output_type": "stream",
     "text": [
      "('苦手', 'が', '席')\n",
      "('装備', 'を', 'かっぱ')\n",
      "('気づく', 'で', '御陰')\n",
      "('暑い', 'が', 'ここ')\n",
      "('暑い', 'が', 'ここ')\n",
      "('きく', 'が', 'クーラー')\n"
     ]
    },
    {
     "name": "stderr",
     "output_type": "stream",
     "text": [
      " 82%|████████▏ | 1132/1386 [00:20<00:03, 73.58it/s]"
     ]
    },
    {
     "name": "stdout",
     "output_type": "stream",
     "text": [
      "('整理', 'が', '上')\n",
      "('確保', 'が', '踏み場')\n",
      "('粘る', 'が', '和布蕪')\n",
      "('のる', 'に', '上')\n"
     ]
    },
    {
     "name": "stderr",
     "output_type": "stream",
     "text": [
      " 83%|████████▎ | 1149/1386 [00:20<00:03, 76.42it/s]"
     ]
    },
    {
     "name": "stdout",
     "output_type": "stream",
     "text": [
      "('整理', 'が', '上')\n",
      "('利用', 'が', '目覚まし')\n",
      "('かわいそう', 'が', 'それ')\n",
      "('買い物', 'で', '携帯')\n"
     ]
    },
    {
     "name": "stderr",
     "output_type": "stream",
     "text": [
      " 84%|████████▍ | 1167/1386 [00:21<00:02, 78.81it/s]"
     ]
    },
    {
     "name": "stdout",
     "output_type": "stream",
     "text": [
      "('整理', 'が', '上')\n"
     ]
    },
    {
     "name": "stderr",
     "output_type": "stream",
     "text": [
      " 85%|████████▌ | 1183/1386 [00:21<00:02, 77.26it/s]"
     ]
    },
    {
     "name": "stdout",
     "output_type": "stream",
     "text": [
      "('聞く', 'が', '本当')\n",
      "('駄目', 'が', 'プール')\n"
     ]
    },
    {
     "name": "stderr",
     "output_type": "stream",
     "text": [
      " 87%|████████▋ | 1199/1386 [00:21<00:02, 78.08it/s]"
     ]
    },
    {
     "name": "stdout",
     "output_type": "stream",
     "text": [
      "('見習う', 'が', '所')\n",
      "('好き', 'が', '玄米茶')\n",
      "('かわいい', 'が', '犬')\n",
      "('なる', 'に', '猫好き')\n",
      "('入る', 'が', 'ペペロンチーノ')\n"
     ]
    },
    {
     "name": "stderr",
     "output_type": "stream",
     "text": [
      " 88%|████████▊ | 1226/1386 [00:21<00:01, 82.67it/s]"
     ]
    },
    {
     "name": "stdout",
     "output_type": "stream",
     "text": [
      "('好き', 'が', 'ダンク')\n",
      "('整理', 'が', '上')\n"
     ]
    },
    {
     "name": "stderr",
     "output_type": "stream",
     "text": [
      " 89%|████████▉ | 1235/1386 [00:21<00:01, 80.42it/s]"
     ]
    },
    {
     "name": "stdout",
     "output_type": "stream",
     "text": [
      "('高い', 'が', '冬服')\n",
      "('ある', 'が', 'あんなん')\n",
      "('すむ', 'で', '情報')\n"
     ]
    },
    {
     "name": "stderr",
     "output_type": "stream",
     "text": [
      " 90%|█████████ | 1252/1386 [00:22<00:01, 70.26it/s]"
     ]
    },
    {
     "name": "stdout",
     "output_type": "stream",
     "text": [
      "('かっこいい', 'が', '人')\n",
      "('観る', 'で', 'それ')\n"
     ]
    },
    {
     "name": "stderr",
     "output_type": "stream",
     "text": [
      " 91%|█████████▏| 1268/1386 [00:22<00:01, 68.82it/s]"
     ]
    },
    {
     "name": "stdout",
     "output_type": "stream",
     "text": [
      "('飲める', 'で', '何')\n",
      "('いく', 'に', '平日')\n"
     ]
    },
    {
     "name": "stderr",
     "output_type": "stream",
     "text": [
      " 93%|█████████▎| 1284/1386 [00:22<00:01, 70.37it/s]"
     ]
    },
    {
     "name": "stdout",
     "output_type": "stream",
     "text": [
      "('買う', 'に', '御店')\n",
      "('羨ましい', 'が', '人')\n",
      "('ゆでる', 'で', '鍋')\n",
      "('食える', 'が', 'ボール')\n"
     ]
    },
    {
     "name": "stderr",
     "output_type": "stream",
     "text": [
      " 94%|█████████▍| 1308/1386 [00:23<00:01, 68.30it/s]"
     ]
    },
    {
     "name": "stdout",
     "output_type": "stream",
     "text": [
      "('休める', 'に', '絶対')\n",
      "('同じ', 'で', '－')\n",
      "('勉強', 'が', '最近')\n",
      "('好き', 'が', 'ピンク')\n"
     ]
    },
    {
     "name": "stderr",
     "output_type": "stream",
     "text": [
      " 96%|█████████▌| 1330/1386 [00:23<00:00, 69.11it/s]"
     ]
    },
    {
     "name": "stdout",
     "output_type": "stream",
     "text": [
      "('ゆずる', 'を', '席')\n",
      "('好き', 'が', '玄米茶')\n",
      "('見る', 'を', 'アイアムレジェンド')\n",
      "('使いこなせる', 'で', '感じ')\n"
     ]
    },
    {
     "name": "stderr",
     "output_type": "stream",
     "text": [
      " 97%|█████████▋| 1346/1386 [00:23<00:00, 70.89it/s]"
     ]
    },
    {
     "name": "stdout",
     "output_type": "stream",
     "text": [
      "('思い出せる', 'が', '名前')\n",
      "('不便', 'が', '手汗')\n",
      "('高い', 'が', '冬服')\n"
     ]
    },
    {
     "name": "stderr",
     "output_type": "stream",
     "text": [
      " 98%|█████████▊| 1362/1386 [00:23<00:00, 66.92it/s]"
     ]
    },
    {
     "name": "stdout",
     "output_type": "stream",
     "text": [
      "('育つ', 'で', 'さん')\n",
      "('整理', 'が', '上')\n",
      "('確保', 'が', '踏み場')\n"
     ]
    },
    {
     "name": "stderr",
     "output_type": "stream",
     "text": [
      " 99%|█████████▉| 1376/1386 [00:24<00:00, 66.00it/s]"
     ]
    },
    {
     "name": "stdout",
     "output_type": "stream",
     "text": [
      "('整理', 'が', '上')\n",
      "('確保', 'が', '踏み場')\n",
      "('みかける', 'で', '図書館')\n"
     ]
    },
    {
     "name": "stderr",
     "output_type": "stream",
     "text": [
      "100%|██████████| 1386/1386 [00:24<00:00, 57.23it/s]"
     ]
    },
    {
     "name": "stdout",
     "output_type": "stream",
     "text": [
      "('経つ', 'に', 'たち')\n"
     ]
    },
    {
     "name": "stderr",
     "output_type": "stream",
     "text": [
      "\n"
     ]
    }
   ],
   "source": [
    "y_pred = []\n",
    "for utt in tqdm(sys_utt):\n",
    "    is_valid = True\n",
    "\n",
    "    triples = extract_RDF_triple(utt)\n",
    "    for triple in triples:\n",
    "        if not judge_triple(triple):\n",
    "            print(triple)\n",
    "            is_valid = False\n",
    "            break\n",
    "    if is_valid:\n",
    "        y_pred.append(0)\n",
    "    else:\n",
    "        y_pred.append(1)"
   ]
  },
  {
   "cell_type": "code",
   "execution_count": 40,
   "metadata": {},
   "outputs": [
    {
     "name": "stdout",
     "output_type": "stream",
     "text": [
      "confusion matrix = \n",
      " [[1089  289]\n",
      " [   6    2]]\n",
      "accuracy =  0.7871572871572872\n",
      "precision =  0.006872852233676976\n",
      "recall =  0.25\n",
      "f1 score =  0.013377926421404684\n"
     ]
    }
   ],
   "source": [
    "score(y, y_pred)"
   ]
  },
  {
   "cell_type": "code",
   "execution_count": 41,
   "metadata": {},
   "outputs": [
    {
     "name": "stdout",
     "output_type": "stream",
     "text": [
      "group <ヒト（数）>\n",
      "True\n"
     ]
    }
   ],
   "source": [
    "word = \"一人\"\n",
    "print(\"group \"+classify_word(word))\n",
    "print(word in w2v_model)"
   ]
  },
  {
   "cell_type": "code",
   "execution_count": 42,
   "metadata": {},
   "outputs": [
    {
     "data": {
      "text/plain": [
       "{'が': {'<もの>',\n",
       "  '<イベント>',\n",
       "  '<ヒト>',\n",
       "  '<ヒト（役割）>',\n",
       "  '<ヒト（数）>',\n",
       "  '<傾向>',\n",
       "  '<副詞>',\n",
       "  '<単位>',\n",
       "  '<場所>',\n",
       "  '<敬称>',\n",
       "  '<時間表現>',\n",
       "  '<時間（単位）>',\n",
       "  '<病気>',\n",
       "  '<道具>',\n",
       "  '<食べ物（材料）>',\n",
       "  'Gb',\n",
       "  'ら',\n",
       "  'イギリス',\n",
       "  'ガルベス',\n",
       "  'グランプリ',\n",
       "  'グルイヤール',\n",
       "  'サラザン',\n",
       "  'シーズン',\n",
       "  'ジャコメリ',\n",
       "  'ジャリエ',\n",
       "  'セベール',\n",
       "  'ゾルジ',\n",
       "  'トロフィー',\n",
       "  'ドライバー',\n",
       "  'ビルイェル',\n",
       "  'フォンランテン',\n",
       "  'フラミニ',\n",
       "  'ブイヨン',\n",
       "  'ブランビラ',\n",
       "  'ベシェ',\n",
       "  'ベテラン',\n",
       "  'マギー',\n",
       "  'マクニッシュ',\n",
       "  'メディア',\n",
       "  'メルツァリオ',\n",
       "  'ライン',\n",
       "  'ラニョッティ',\n",
       "  'ラピエール',\n",
       "  'ルッセル',\n",
       "  'レブソン',\n",
       "  'レート',\n",
       "  'ロバンペラ',\n",
       "  '一貴',\n",
       "  '主人公',\n",
       "  '人',\n",
       "  '人組',\n",
       "  '以降',\n",
       "  '名',\n",
       "  '実際',\n",
       "  '年',\n",
       "  '当時',\n",
       "  '彼',\n",
       "  '戦',\n",
       "  '星野',\n",
       "  '村松',\n",
       "  '正美',\n",
       "  '男性'},\n",
       " 'で': {'1人',\n",
       "  '<もの>',\n",
       "  '<イベント>',\n",
       "  '<ヒト（役割）>',\n",
       "  '<ヒト（数）>',\n",
       "  '<ヒト（組織）>',\n",
       "  '<乗り物>',\n",
       "  '<単位>',\n",
       "  '<場所>',\n",
       "  'Gb',\n",
       "  'イギリス',\n",
       "  'イベント',\n",
       "  'グランプリ',\n",
       "  'チャレンジ',\n",
       "  'チーム',\n",
       "  'トロフィー',\n",
       "  'バトル',\n",
       "  'ムラーノ',\n",
       "  'ラリー',\n",
       "  '単位',\n",
       "  '戦',\n",
       "  '車',\n",
       "  '部門'},\n",
       " 'を': {'0',\n",
       "  '<イベント>',\n",
       "  '<ヒト（役割）>',\n",
       "  '<乗り物>',\n",
       "  '<乗り物（要素）>',\n",
       "  '<単位>',\n",
       "  '<場所>',\n",
       "  '<数字>',\n",
       "  '<視覚>',\n",
       "  'GCM',\n",
       "  'WRC',\n",
       "  'c',\n",
       "  'x',\n",
       "  'お店',\n",
       "  'イベント',\n",
       "  'インプレッサ',\n",
       "  'エスコート',\n",
       "  'カカデュタ',\n",
       "  'クリス',\n",
       "  'クーパー',\n",
       "  'ゴルディーニ',\n",
       "  'セリカ',\n",
       "  'ダッジ',\n",
       "  'フォーカス',\n",
       "  'フォーミュラカー',\n",
       "  'ホンダ',\n",
       "  'ホールデン',\n",
       "  'マシン',\n",
       "  'マセラティ',\n",
       "  'ランチア',\n",
       "  'ルノー',\n",
       "  '改',\n",
       "  '新車',\n",
       "  '浜',\n",
       "  '車',\n",
       "  '都市'},\n",
       " 'に': {'<位置>',\n",
       "  '<時期>',\n",
       "  '<時間（単位）>',\n",
       "  '<様子>',\n",
       "  '<複文>',\n",
       "  '<量>',\n",
       "  '一緒',\n",
       "  '共',\n",
       "  '前',\n",
       "  '年',\n",
       "  '次'}}"
      ]
     },
     "execution_count": 42,
     "metadata": {},
     "output_type": "execute_result"
    }
   ],
   "source": [
    "case_frame[\"ドライブ\"]"
   ]
  },
  {
   "cell_type": "markdown",
   "metadata": {},
   "source": [
    "- 学習データのみでやってみた\n",
    "\n",
    "        confusion matrix = \n",
    "        [[716 662]\n",
    "        [  1   7]]\n",
    "        accuracy =  0.5216450216450217\n",
    "        precision =  0.01046337817638266\n",
    "        recall =  0.875\n",
    "        f1 score =  0.020679468242245203\n",
    "\n",
    "    - 再現率は良い！"
   ]
  },
  {
   "cell_type": "code",
   "execution_count": 43,
   "metadata": {},
   "outputs": [],
   "source": [
    "def judge_triple(triple):\n",
    "    V = triple[0]\n",
    "    C = triple[1]\n",
    "    noun = triple[2]\n",
    "\n",
    "    # Vが登録されていないならパスしておくかな(一旦)\n",
    "    if V not in case_frame:\n",
    "        # print(\"not registered V :\", V)\n",
    "        return True\n",
    "    \n",
    "    # C が登録されていないなら，アウト\n",
    "    if C not in case_frame[V]:\n",
    "        # print(\"not registered V, C :\", V, C)\n",
    "        return False\n",
    "    \n",
    "    # そのままの名詞で検索 -> 発見なら正例\n",
    "    if search_triple(V, C, noun):\n",
    "        # print(\"\\tfound\", V, C, noun)\n",
    "        return True\n",
    "\n",
    "    # 名詞がどこかのグループに属する\n",
    "    group_ = search_word(noun)\n",
    "    if len(group_) > 0:\n",
    "        # 1つでも引っかかればOK\n",
    "        for group in group_:\n",
    "            if search_triple(V, C, group):\n",
    "                return True\n",
    "        return False\n",
    "    # グループを推定\n",
    "    else:\n",
    "        group = classify_word(noun) \n",
    "        return search_triple(V, C, group)"
   ]
  },
  {
   "cell_type": "markdown",
   "metadata": {},
   "source": []
  },
  {
   "cell_type": "code",
   "execution_count": 44,
   "metadata": {},
   "outputs": [
    {
     "name": "stdout",
     "output_type": "stream",
     "text": [
      "元気ですかは元気です\n",
      "--------\n",
      "好きだを見ますよねー\n",
      "('見る', 'を', '好き')\n",
      "False\n",
      "--------\n",
      "病院は治療を受けましょう\n",
      "('受ける', 'が', '病院')\n",
      "True\n",
      "('受ける', 'を', '治療')\n",
      "True\n",
      "--------\n",
      "好きだは好きですか。お寿司はエンガワが好きですね\n",
      "('好き', 'が', '縁側')\n",
      "False\n",
      "--------\n",
      "時期から資格を取りますねぇ\n",
      "('取る', 'を', '資格')\n",
      "True\n",
      "--------\n",
      "手を貯金に出しますねぇ\n",
      "('出す', 'を', '手')\n",
      "True\n",
      "('出す', 'に', '貯金')\n",
      "True\n",
      "--------\n",
      "ところで、テレビでテレビあるって言ってましたが、テレビは民主党支持が多いですね\n",
      "('ある', 'で', 'テレビ')\n",
      "True\n",
      "('言う', 'で', '所')\n",
      "True\n",
      "('多い', 'が', '支持')\n",
      "True\n",
      "--------\n",
      "旬ですねぇ。自分もオリンピック書いたし。\n",
      "--------\n"
     ]
    }
   ],
   "source": [
    "for t, p, utt in zip(y, y_pred, sys_utt):\n",
    "    if t==1:\n",
    "        print(utt)\n",
    "        triples = extract_RDF_triple(utt)\n",
    "        for triple in triples:\n",
    "            print(triple)\n",
    "            print( judge_triple(triple) )\n",
    "        print(\"--------\")"
   ]
  },
  {
   "cell_type": "code",
   "execution_count": null,
   "metadata": {},
   "outputs": [],
   "source": []
  }
 ],
 "metadata": {
  "interpreter": {
   "hash": "31f2aee4e71d21fbe5cf8b01ff0e069b9275f58929596ceb00d14d90e3e16cd6"
  },
  "kernelspec": {
   "display_name": "Python 3.6.9 64-bit",
   "language": "python",
   "name": "python3"
  },
  "language_info": {
   "codemirror_mode": {
    "name": "ipython",
    "version": 3
   },
   "file_extension": ".py",
   "mimetype": "text/x-python",
   "name": "python",
   "nbconvert_exporter": "python",
   "pygments_lexer": "ipython3",
   "version": "3.6.9"
  },
  "orig_nbformat": 4
 },
 "nbformat": 4,
 "nbformat_minor": 2
}
