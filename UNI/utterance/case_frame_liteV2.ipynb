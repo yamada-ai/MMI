{
 "cells": [
  {
   "cell_type": "code",
   "execution_count": 1,
   "metadata": {},
   "outputs": [],
   "source": [
    "import json\n",
    "import os\n",
    "import pandas as pd\n",
    "import numpy as np\n",
    "from pathlib import Path\n",
    "import collections\n",
    "from sklearn.model_selection import train_test_split\n",
    "from sklearn import metrics\n",
    "\n",
    "import sys\n",
    "sys.path.append(\"../\")\n",
    "from datatools.analyzer import *\n",
    "from utterance.error_tools import *\n",
    "\n",
    "from datatools.maneger import DataManager\n",
    "from datatools.preproc import Preprocessor"
   ]
  },
  {
   "cell_type": "code",
   "execution_count": 2,
   "metadata": {},
   "outputs": [],
   "source": [
    "import torch\n",
    "import torch.nn as nn\n",
    "import torch.nn.functional as F\n",
    "from torch.nn.modules import loss\n",
    "import torch.optim as optim"
   ]
  },
  {
   "cell_type": "code",
   "execution_count": 3,
   "metadata": {},
   "outputs": [],
   "source": [
    "class CaseModel(nn.Module):\n",
    "    def __init__(self, embedding_dim, tagset_size):\n",
    "        # 親クラスのコンストラクタ。決まり文句\n",
    "        super(CaseModel, self).__init__()    \n",
    "        self.embedding_dim = embedding_dim\n",
    "        self.hid1= embedding_dim*2\n",
    "        self.hid2 = embedding_dim//2\n",
    "        self.fc1 = nn.Linear(self.embedding_dim, self.hid1)\n",
    "        self.fc2 = nn.Linear(self.hid1, self.hid2)\n",
    "        self.hidden2tag = nn.Linear(self.hid2, tagset_size)\n",
    "    \n",
    "    def forward(self, x):\n",
    "        y = F.relu(self.fc1(x))\n",
    "        y = F.relu(self.fc2(y))\n",
    "        y = self.hidden2tag( y )\n",
    "        y = F.log_softmax(y, dim=1)\n",
    "        return y"
   ]
  },
  {
   "cell_type": "code",
   "execution_count": 4,
   "metadata": {},
   "outputs": [],
   "source": [
    "border=0.8"
   ]
  },
  {
   "cell_type": "code",
   "execution_count": 5,
   "metadata": {},
   "outputs": [
    {
     "name": "stdout",
     "output_type": "stream",
     "text": [
      "success load : ../models/utterance/group_border=0.8_2.pickle\n"
     ]
    }
   ],
   "source": [
    "dict_path = \"../models/utterance/\"\n",
    "dict_name = \"group_border={0}_2.pickle\".format(border)\n",
    "dictM = DataManager(dict_path)\n",
    "group_dict = dictM.load_data(dict_name)"
   ]
  },
  {
   "cell_type": "code",
   "execution_count": 6,
   "metadata": {},
   "outputs": [],
   "source": [
    "def search_word(word):\n",
    "    word = clean_text(word)\n",
    "    found_list = []\n",
    "    for group_key in group_dict.keys():\n",
    "        if word in group_dict[group_key]:\n",
    "            found_list.append(group_key)\n",
    "    return found_list"
   ]
  },
  {
   "cell_type": "code",
   "execution_count": 7,
   "metadata": {},
   "outputs": [
    {
     "name": "stderr",
     "output_type": "stream",
     "text": [
      "[514] 2022-01-11 15:20:34,083 Info gensim.models.keyedvectors :loading projection weights from ../../corpus/w2v/model.vec\n",
      "[514] 2022-01-11 15:21:35,907 Info gensim.utils :KeyedVectors lifecycle event {'msg': 'loaded (351122, 300) matrix of type float32 from ../../corpus/w2v/model.vec', 'binary': False, 'encoding': 'utf8', 'datetime': '2022-01-11T15:21:35.907111', 'gensim': '4.0.1', 'python': '3.6.9 (default, Jan 26 2021, 15:33:00) \\n[GCC 8.4.0]', 'platform': 'Linux-5.4.72-microsoft-standard-WSL2-x86_64-with-Ubuntu-18.04-bionic', 'event': 'load_word2vec_format'}\n"
     ]
    }
   ],
   "source": [
    "from gensim.models import KeyedVectors\n",
    "w2v_path = \"../../corpus/w2v/\"\n",
    "# fasttext\n",
    "# https://qiita.com/Hironsan/items/513b9f93752ecee9e670\n",
    "# w2v_name =  \"dep-ja-300dim\"\n",
    "w2v_name =  \"model.vec\"\n",
    "w2v_model = KeyedVectors.load_word2vec_format(w2v_path+w2v_name)"
   ]
  },
  {
   "cell_type": "code",
   "execution_count": 8,
   "metadata": {},
   "outputs": [],
   "source": [
    "group2index = dict(zip( group_dict.keys(), range(len(group_dict.keys())) ))\n",
    "index2group = dict(zip(range(len(group_dict.keys())), group_dict.keys() ))"
   ]
  },
  {
   "cell_type": "code",
   "execution_count": 9,
   "metadata": {},
   "outputs": [
    {
     "name": "stdout",
     "output_type": "stream",
     "text": [
      "success load : ../models/utterance/case_frame_0.8_2.pickle\n"
     ]
    }
   ],
   "source": [
    "model_path = \"../models/utterance/\"\n",
    "model_name = \"case_frame_{0}_2.pickle\".format(border)\n",
    "modelM = DataManager(model_path)\n",
    "cmodel = modelM.load_data(model_name)"
   ]
  },
  {
   "cell_type": "code",
   "execution_count": 95,
   "metadata": {},
   "outputs": [],
   "source": [
    "classify_border=0.75\n",
    "def classify_word(word, mode=\"judge\"):\n",
    "    # word = clean_text(word)\n",
    "    if word not in w2v_model:\n",
    "        return \"\"\n",
    "    with torch.no_grad():\n",
    "        vector = torch.tensor([w2v_model[word]]).cuda()\n",
    "        pred = np.exp(np.array(cmodel(vector).cpu()))\n",
    "        p_argmax = pred.argmax()\n",
    "        # print(pred[0][p_argmax])\n",
    "        if mode==\"register\":\n",
    "            if pred[0][p_argmax] < classify_border:\n",
    "                return \"\"\n",
    "    return index2group[p_argmax]"
   ]
  },
  {
   "cell_type": "code",
   "execution_count": 96,
   "metadata": {},
   "outputs": [
    {
     "data": {
      "text/plain": [
       "'<もの>'"
      ]
     },
     "execution_count": 96,
     "metadata": {},
     "output_type": "execute_result"
    }
   ],
   "source": [
    "word =  \"デジカメ\"\n",
    "classify_word(word)"
   ]
  },
  {
   "cell_type": "code",
   "execution_count": 12,
   "metadata": {},
   "outputs": [],
   "source": [
    "def register_triple(case_frame:dict, V, C, Noun):\n",
    "    # 動詞の確認\n",
    "    if V not in case_frame:\n",
    "        case_frame[V] = dict()\n",
    "\n",
    "    # 格の確認\n",
    "    if C not in case_frame[V]:\n",
    "        case_frame[V][C] = set()\n",
    "    \n",
    "    # 名詞の登録\n",
    "    case_frame[V][C].add(Noun)"
   ]
  },
  {
   "cell_type": "code",
   "execution_count": 13,
   "metadata": {},
   "outputs": [],
   "source": [
    "def compound_noun(token):\n",
    "    base = token.lemma_\n",
    "    for child in token.children:\n",
    "        if child.dep_ == \"compound\":\n",
    "           base = child.lemma_ + base\n",
    "    return base"
   ]
  },
  {
   "cell_type": "code",
   "execution_count": 42,
   "metadata": {},
   "outputs": [],
   "source": [
    "case_set = set(\"は　が　を　に　で\")\n",
    "\n",
    "def extract_RDF_triple(text, clean_=True):\n",
    "    if clean_:\n",
    "        text = clean_text(text)\n",
    "    doc = nlp(text)\n",
    "    triple_list = []\n",
    "    for _, token in enumerate( doc ):\n",
    "        if token.pos_ in [\"VERB\", \"ADJ\"]:\n",
    "        # if token.pos_==\"VERB\":\n",
    "        # if is_declinable(token):\n",
    "            for c in token.children:\n",
    "                if c.dep_ in [\"nsubj\", \"obj\", \"obl\"]:\n",
    "                    noun = c.lemma_\n",
    "                    for c2 in c.children:\n",
    "                        if c2.dep_ == \"case\" and c2.orth_ in case_set:\n",
    "                        # if c2.dep_ == \"case\":\n",
    "                            case = c2.orth_\n",
    "                            if case == \"は\":\n",
    "                                case = \"が\"\n",
    "                            triple_list.append( (token.lemma_, case, noun) )\n",
    "    return triple_list"
   ]
  },
  {
   "cell_type": "code",
   "execution_count": 15,
   "metadata": {},
   "outputs": [],
   "source": [
    "path = \"../hand_labeled/\"\n",
    "datalist = ['DCM', 'DIT', 'IRS']\n",
    "convs = read_conv(path, datalist)"
   ]
  },
  {
   "cell_type": "code",
   "execution_count": 16,
   "metadata": {},
   "outputs": [],
   "source": [
    "error = \"Semantic error\"\n",
    "sys_utt = []\n",
    "y = []\n",
    "for conv in convs:\n",
    "    for ut in conv:\n",
    "        # if ut.is_system() and ut.is_exist_error():\n",
    "        if not ut.is_exist_error():\n",
    "            sys_utt.append(ut.utt)\n",
    "            if ut.is_error_included(error):\n",
    "                y.append(1)\n",
    "            else:\n",
    "                y.append(0)"
   ]
  },
  {
   "cell_type": "code",
   "execution_count": 98,
   "metadata": {},
   "outputs": [
    {
     "name": "stderr",
     "output_type": "stream",
     "text": [
      "100%|██████████| 5016/5016 [00:00<00:00, 1020450.54it/s]\n"
     ]
    }
   ],
   "source": [
    "with open(\"../../corpus/NTT/persona.json\", \"r\", encoding=\"utf-8\") as f:\n",
    "    convs = json.load(f)\n",
    "all_utt = []\n",
    "for did in tqdm( convs[\"convs\"] ) :\n",
    "    dids = list( did.keys() )[0]\n",
    "    all_utt += did[dids]"
   ]
  },
  {
   "cell_type": "code",
   "execution_count": 18,
   "metadata": {},
   "outputs": [],
   "source": [
    "# all_utt = sys_utt + all_utt\n",
    "# len(all_utt)"
   ]
  },
  {
   "cell_type": "code",
   "execution_count": 19,
   "metadata": {},
   "outputs": [],
   "source": [
    "# def read_file(filename, batch_size=10000) -> list:\n",
    "#     f = open(filename, 'r', encoding='UTF-8')\n",
    "#     text_list = [  ]\n",
    "#     concated = \"\"\n",
    "#     for i, line in enumerate( f.readlines() ):\n",
    "#         concated += line.rstrip('\\n')\n",
    "#         if (i+1) % batch_size == 0:\n",
    "#             text_list.append(concated)\n",
    "#             concated = \"\"\n",
    "#     text_list.append(concated)\n",
    "#     f.close()\n",
    "#     return text_list"
   ]
  },
  {
   "cell_type": "code",
   "execution_count": 20,
   "metadata": {},
   "outputs": [
    {
     "name": "stdout",
     "output_type": "stream",
     "text": [
      "len of text_list : 19060\n"
     ]
    }
   ],
   "source": [
    "# filename = \"../../corpus/wiki/wiki_normalized.txt\"\n",
    "# # filename = \"plain.txt\"\n",
    "# all_list = read_file(filename, batch_size=100)\n",
    "# print(\"len of text_list :\", len(all_list))"
   ]
  },
  {
   "cell_type": "code",
   "execution_count": 30,
   "metadata": {},
   "outputs": [],
   "source": [
    "# all_utt = all_list[::50]"
   ]
  },
  {
   "cell_type": "code",
   "execution_count": null,
   "metadata": {},
   "outputs": [],
   "source": [
    "case_frame = dict()"
   ]
  },
  {
   "cell_type": "code",
   "execution_count": 99,
   "metadata": {},
   "outputs": [
    {
     "name": "stderr",
     "output_type": "stream",
     "text": [
      "100%|██████████| 61781/61781 [17:18<00:00, 59.50it/s]\n"
     ]
    }
   ],
   "source": [
    "\n",
    "for utt in tqdm( all_utt ):\n",
    "    is_valid = True\n",
    "\n",
    "    triples = extract_RDF_triple(utt, clean_=False)\n",
    "    if len(triples)>0:\n",
    "        for triple in triples:\n",
    "            V = triple[0]\n",
    "            C = triple[1]\n",
    "            noun = triple[2]\n",
    "            group_ = search_word(noun)\n",
    "            if len(group_) > 0:\n",
    "                for group in group_:\n",
    "                    register_triple(case_frame, V, C, group)\n",
    "            else:\n",
    "                group = classify_word(noun, mode=\"register\")\n",
    "                # ないなら登録するな\n",
    "                if group != \"\":\n",
    "                    register_triple(case_frame, V, C, group)\n",
    "\n",
    "            register_triple(case_frame, V, C, noun)\n"
   ]
  },
  {
   "cell_type": "code",
   "execution_count": 100,
   "metadata": {},
   "outputs": [],
   "source": [
    "case_frame_name = \"case_frame_ntt_border={}.pickle\".format(classify_border)\n",
    "data_path = \"../X_y_data/utterance/\""
   ]
  },
  {
   "cell_type": "code",
   "execution_count": 101,
   "metadata": {},
   "outputs": [
    {
     "name": "stdout",
     "output_type": "stream",
     "text": [
      "success save : ../X_y_data/utterance/case_frame_ntt_border=0.75.pickle\n"
     ]
    }
   ],
   "source": [
    "dataM = DataManager(data_path)\n",
    "dataM.save_data(case_frame_name, case_frame)"
   ]
  },
  {
   "cell_type": "code",
   "execution_count": 102,
   "metadata": {},
   "outputs": [
    {
     "name": "stdout",
     "output_type": "stream",
     "text": [
      "success load : ../X_y_data/utterance/case_frame_ntt_border=0.75.pickle\n"
     ]
    }
   ],
   "source": [
    "dataM = DataManager(data_path)\n",
    "case_frame = dataM.load_data(case_frame_name)"
   ]
  },
  {
   "cell_type": "code",
   "execution_count": 111,
   "metadata": {},
   "outputs": [],
   "source": [
    "def search_triple(V, C, N):\n",
    "    if N in case_frame[V][C]:\n",
    "        return True\n",
    "    else:\n",
    "        return False\n",
    "\n",
    "# True : 用法は問題ない\n",
    "# False : 問題あり\n",
    "def judge_triple(triple):\n",
    "    V = triple[0]\n",
    "    C = triple[1]\n",
    "    noun = triple[2]\n",
    "\n",
    "    # Vが登録されていないならパスしておくかな(一旦)\n",
    "    if V not in case_frame:\n",
    "        # print(\"not registered V :\", V)\n",
    "        return True\n",
    "    \n",
    "    # C が登録されていないなら，アウト\n",
    "    if C not in case_frame[V]:\n",
    "        print(\"not registered V, C :\", V, C)\n",
    "        return False\n",
    "    \n",
    "    # そのままの名詞で検索 -> 発見なら正例\n",
    "    if search_triple(V, C, noun):\n",
    "        return True\n",
    "\n",
    "    # 名詞がどこかのグループに属する\n",
    "    group_ = search_word(noun)\n",
    "    if len(group_) > 0:\n",
    "        # 1つでも引っかかればOK\n",
    "        for group in group_:\n",
    "            if search_triple(V, C, group):\n",
    "                return True\n",
    "        return False\n",
    "    # グループを推定\n",
    "    else:\n",
    "        group = classify_word(noun) \n",
    "        return search_triple(V, C, group)"
   ]
  },
  {
   "cell_type": "code",
   "execution_count": 104,
   "metadata": {},
   "outputs": [],
   "source": [
    "path = \"../eval_labeled/\"\n",
    "datalist = ['DCM', 'DIT', 'IRS']\n",
    "convs = read_conv(path, datalist)\n",
    "\n",
    "error = \"Semantic error\"\n",
    "sys_utt = []\n",
    "y = []\n",
    "for conv in convs:\n",
    "    for ut in conv:\n",
    "        if ut.is_system() and ut.is_exist_error():\n",
    "            sys_utt.append(ut.utt)\n",
    "            if ut.is_error_included(error):\n",
    "                y.append(1)\n",
    "            else:\n",
    "                y.append(0)"
   ]
  },
  {
   "cell_type": "code",
   "execution_count": 112,
   "metadata": {},
   "outputs": [
    {
     "name": "stderr",
     "output_type": "stream",
     "text": [
      "  1%|          | 15/1386 [00:00<00:19, 71.45it/s]"
     ]
    },
    {
     "name": "stdout",
     "output_type": "stream",
     "text": [
      "('生まれる', 'に', 'お兄さん')\n",
      "('見る', 'を', '好き')\n",
      "('深める', 'を', '人間関係')\n"
     ]
    },
    {
     "name": "stderr",
     "output_type": "stream",
     "text": [
      "  3%|▎         | 39/1386 [00:00<00:18, 74.37it/s]"
     ]
    },
    {
     "name": "stdout",
     "output_type": "stream",
     "text": [
      "('受ける', 'が', '病院')\n",
      "('ほしい', 'が', '帽子')\n",
      "('欲しい', 'が', '帽子')\n",
      "('泳ぐ', 'で', 'スイミング')\n"
     ]
    },
    {
     "name": "stderr",
     "output_type": "stream",
     "text": [
      "  3%|▎         | 47/1386 [00:00<00:18, 72.70it/s]"
     ]
    },
    {
     "name": "stdout",
     "output_type": "stream",
     "text": [
      "not registered V, C : ヘルシー で\n",
      "('ヘルシー', 'で', '和食')\n",
      "('落ち着く', 'が', '問題')\n",
      "not registered V, C : 進める が\n",
      "('進める', 'が', '北朝鮮')\n",
      "not registered V, C : 進める が\n",
      "('進める', 'が', '北朝鮮')\n",
      "('演奏', 'で', '御自分')\n"
     ]
    },
    {
     "name": "stderr",
     "output_type": "stream",
     "text": [
      "  5%|▍         | 69/1386 [00:00<00:19, 66.95it/s]"
     ]
    },
    {
     "name": "stdout",
     "output_type": "stream",
     "text": [
      "('指す', 'で', '日本')\n",
      "('決める', 'で', '法律')\n",
      "('生まれる', 'で', '沖縄')\n",
      "('成り立つ', 'が', '沖縄県')\n",
      "('取る', 'に', '一緒')\n",
      "('呼ぶ', 'で', '職場')\n",
      "('呼ぶ', 'で', '職場')\n",
      "('だす', 'を', '掛け声')\n"
     ]
    },
    {
     "name": "stderr",
     "output_type": "stream",
     "text": [
      "  6%|▋         | 87/1386 [00:01<00:17, 76.01it/s]"
     ]
    },
    {
     "name": "stdout",
     "output_type": "stream",
     "text": [
      "('出す', 'が', '掛け声')\n",
      "('あげる', 'を', '掛け声')\n",
      "('上げる', 'で', '大声')\n",
      "('好き', 'が', '御菓子')\n",
      "('元気', 'が', '映画')\n"
     ]
    },
    {
     "name": "stderr",
     "output_type": "stream",
     "text": [
      "  8%|▊         | 105/1386 [00:01<00:15, 80.56it/s]"
     ]
    },
    {
     "name": "stdout",
     "output_type": "stream",
     "text": [
      "('飾る', 'に', '上')\n",
      "('感ずる', 'が', '潮風')\n",
      "('感じる', 'に', '肌')\n",
      "('いる', 'が', '外食')\n",
      "('着る', 'が', '普段')\n",
      "('怖い', 'が', '由紀恵')\n",
      "('美しい', 'が', '由紀恵')\n"
     ]
    },
    {
     "name": "stderr",
     "output_type": "stream",
     "text": [
      "  9%|▉         | 122/1386 [00:01<00:16, 75.46it/s]"
     ]
    },
    {
     "name": "stdout",
     "output_type": "stream",
     "text": [
      "('こだわる', 'に', 'フライパン')\n",
      "('進む', 'が', '温暖化')\n",
      "not registered V, C : 起こる で\n",
      "('起こる', 'で', '世界')\n",
      "('兼ねる', 'が', '池')\n"
     ]
    },
    {
     "name": "stderr",
     "output_type": "stream",
     "text": [
      " 10%|█         | 139/1386 [00:01<00:16, 77.02it/s]"
     ]
    },
    {
     "name": "stdout",
     "output_type": "stream",
     "text": [
      "('暑い', 'が', '暑い')\n",
      "('飛ばす', 'を', '機')\n",
      "('出来る', 'が', '西瓜')\n",
      "('心配', 'が', '熱中症')\n",
      "('動く', 'に', '左右')\n",
      "('振る', 'に', '左右')\n"
     ]
    },
    {
     "name": "stderr",
     "output_type": "stream",
     "text": [
      " 11%|█▏        | 158/1386 [00:02<00:15, 78.73it/s]"
     ]
    },
    {
     "name": "stdout",
     "output_type": "stream",
     "text": [
      "('かっこいい', 'が', '汗')\n",
      "not registered V, C : 答える が\n",
      "('答える', 'が', '今')\n",
      "('出る', 'で', 'それ')\n",
      "('おいしい', 'が', 'メニュー')\n",
      "('プレー', 'が', '人類')\n",
      "('少ない', 'が', '確率')\n",
      "('乗る', 'で', '内')\n"
     ]
    },
    {
     "name": "stderr",
     "output_type": "stream",
     "text": [
      " 13%|█▎        | 175/1386 [00:02<00:15, 77.11it/s]"
     ]
    },
    {
     "name": "stdout",
     "output_type": "stream",
     "text": [
      "('とれる', 'で', '英語')\n",
      "('伺う', 'で', '所')\n",
      "('読める', 'で', 'スマホ')\n",
      "('いい', 'が', 'エネループ')\n",
      "('うるさい', 'が', '選挙')\n",
      "('開発', 'を', '種類')\n"
     ]
    },
    {
     "name": "stderr",
     "output_type": "stream",
     "text": [
      " 14%|█▍        | 192/1386 [00:02<00:15, 77.79it/s]"
     ]
    },
    {
     "name": "stdout",
     "output_type": "stream",
     "text": [
      "('少ない', 'が', '補給')\n",
      "('取る', 'で', 'コンビニ')\n",
      "('大切', 'が', '予防')\n",
      "('こだわる', 'に', 'フライパン')\n",
      "('出来上がる', 'が', '料理')\n",
      "('つける', 'を', 'テレビ')\n",
      "('大切', 'が', 'テレビ')\n",
      "('つける', 'を', 'テレビ')\n",
      "('有名', 'で', 'スイカ')\n"
     ]
    },
    {
     "name": "stderr",
     "output_type": "stream",
     "text": [
      " 16%|█▌        | 218/1386 [00:02<00:14, 80.29it/s]"
     ]
    },
    {
     "name": "stdout",
     "output_type": "stream",
     "text": [
      "('偏る', 'が', '食生活')\n",
      "('おいしい', 'が', '炊き立て')\n"
     ]
    },
    {
     "name": "stderr",
     "output_type": "stream",
     "text": [
      " 18%|█▊        | 245/1386 [00:03<00:13, 82.97it/s]"
     ]
    },
    {
     "name": "stdout",
     "output_type": "stream",
     "text": [
      "('やめる', 'が', '夜')\n",
      "('面白い', 'が', 'スイカ')\n",
      "('クール', 'が', '見た目')\n",
      "('有名', 'で', '小説')\n",
      "('大好き', 'が', 'テレビ')\n"
     ]
    },
    {
     "name": "stderr",
     "output_type": "stream",
     "text": [
      " 19%|█▉        | 264/1386 [00:03<00:12, 86.49it/s]"
     ]
    },
    {
     "name": "stdout",
     "output_type": "stream",
     "text": [
      "('言う', 'で', '所')\n",
      "('目指す', 'を', '健康美')\n",
      "('そろう', 'が', '料理')\n",
      "('有名', 'で', 'スイカ')\n",
      "('食べる', 'が', '朝御飯')\n",
      "('欠かせる', 'に', '料理')\n",
      "('素晴らしい', 'が', '料理')\n",
      "('素晴らしい', 'が', '料理')\n"
     ]
    },
    {
     "name": "stderr",
     "output_type": "stream",
     "text": [
      " 21%|██        | 285/1386 [00:03<00:13, 79.23it/s]"
     ]
    },
    {
     "name": "stdout",
     "output_type": "stream",
     "text": [
      "('嫌', 'が', '梅雨入り')\n",
      "('不足', 'が', '湿度')\n",
      "('する', 'が', '塩分')\n",
      "('つける', 'に', '塩分')\n",
      "('こだわる', 'に', 'フライパン')\n",
      "('有名', 'で', 'スイカ')\n",
      "('有名', 'で', 'スイカ')\n"
     ]
    },
    {
     "name": "stderr",
     "output_type": "stream",
     "text": [
      " 23%|██▎       | 313/1386 [00:04<00:13, 79.99it/s]"
     ]
    },
    {
     "name": "stdout",
     "output_type": "stream",
     "text": [
      "('美味しい', 'が', '尻尾')\n",
      "('仕入れる', 'を', 'ねた')\n",
      "('落ちる', 'が', '鮮度')\n",
      "('続く', 'が', '楽しみ')\n",
      "('有名', 'で', 'スイカ')\n"
     ]
    },
    {
     "name": "stderr",
     "output_type": "stream",
     "text": [
      " 24%|██▍       | 330/1386 [00:04<00:13, 78.56it/s]"
     ]
    },
    {
     "name": "stdout",
     "output_type": "stream",
     "text": [
      "('大切', 'で', '嗽')\n",
      "('兼ねる', 'を', '予防')\n",
      "('大切', 'で', '嗽')\n",
      "('怠る', 'を', '予防')\n",
      "('押す', 'が', '時')\n",
      "('押す', 'が', '時')\n",
      "not registered V, C : 重い で\n",
      "('重い', 'で', '寝不足')\n",
      "('痛い', 'で', '寝不足')\n",
      "('使う', 'を', 'ID')\n"
     ]
    },
    {
     "name": "stderr",
     "output_type": "stream",
     "text": [
      " 25%|██▍       | 346/1386 [00:04<00:13, 76.21it/s]"
     ]
    },
    {
     "name": "stdout",
     "output_type": "stream",
     "text": [
      "('使える', 'が', '0')\n",
      "('使える', 'で', 'iPhone')\n",
      "('わかる', 'で', '逆子')\n",
      "('求める', 'を', '恋人')\n",
      "('重い', 'が', '恋人')\n",
      "('持つ', 'を', '御土産')\n",
      "not registered V, C : 検索 を\n",
      "('検索', 'を', '足')\n"
     ]
    },
    {
     "name": "stderr",
     "output_type": "stream",
     "text": [
      " 26%|██▌       | 362/1386 [00:04<00:13, 73.20it/s]"
     ]
    },
    {
     "name": "stdout",
     "output_type": "stream",
     "text": [
      "('恋しい', 'が', '天気')\n",
      "('怪しい', 'が', '天気')\n",
      "('見せる', 'に', 'メロン')\n",
      "('教える', 'で', '韓国語')\n"
     ]
    },
    {
     "name": "stderr",
     "output_type": "stream",
     "text": [
      " 27%|██▋       | 378/1386 [00:04<00:13, 72.99it/s]"
     ]
    },
    {
     "name": "stdout",
     "output_type": "stream",
     "text": [
      "('絞る', 'を', 'ポイント')\n",
      "('有名', 'で', 'スイカ')\n"
     ]
    },
    {
     "name": "stderr",
     "output_type": "stream",
     "text": [
      " 28%|██▊       | 395/1386 [00:05<00:13, 72.98it/s]"
     ]
    },
    {
     "name": "stdout",
     "output_type": "stream",
     "text": [
      "not registered V, C : 検索 を\n",
      "('検索', 'を', '物')\n",
      "('増やせる', 'を', 'アクセス')\n",
      "not registered V, C : 特殊 が\n",
      "('特殊', 'が', '学校')\n",
      "('安全', 'が', '学校')\n"
     ]
    },
    {
     "name": "stderr",
     "output_type": "stream",
     "text": [
      " 29%|██▉       | 403/1386 [00:05<00:15, 62.66it/s]"
     ]
    },
    {
     "name": "stdout",
     "output_type": "stream",
     "text": [
      "('愛す', 'に', '方々')\n",
      "('訪れる', 'に', '旅行')\n",
      "not registered V, C : 表現 が\n",
      "('表現', 'が', '0')\n",
      "not registered V, C : みつける に\n",
      "('みつける', 'に', '夏')\n",
      "('ない', 'で', 'サイドメニュー')\n",
      "not registered V, C : 演ずる が\n",
      "('演ずる', 'が', 'さん')\n",
      "('出演', 'に', 'トトロ')\n"
     ]
    },
    {
     "name": "stderr",
     "output_type": "stream",
     "text": [
      " 30%|███       | 416/1386 [00:05<00:18, 51.30it/s]"
     ]
    },
    {
     "name": "stdout",
     "output_type": "stream",
     "text": [
      "('素晴らしい', 'が', '作品')\n",
      "not registered V, C : 創設 が\n",
      "('創設', 'が', '氏')\n",
      "not registered V, C : 確認 で\n",
      "('確認', 'で', 'アメリカ')\n",
      "('待つ', 'が', '結末')\n"
     ]
    },
    {
     "name": "stderr",
     "output_type": "stream",
     "text": [
      " 30%|███       | 422/1386 [00:05<00:19, 50.48it/s]"
     ]
    },
    {
     "name": "stdout",
     "output_type": "stream",
     "text": [
      "('行う', 'が', 'boon')\n",
      "('演じる', 'が', 'さん')\n",
      "('検索', 'で', 'ダビンチ')\n",
      "('載る', 'に', 'ちゃん')\n",
      "('ある', 'が', '御店')\n",
      "('有名', 'で', '沖縄')\n",
      "('可愛らしい', 'が', '飴')\n"
     ]
    },
    {
     "name": "stderr",
     "output_type": "stream",
     "text": [
      " 31%|███       | 433/1386 [00:06<00:19, 48.34it/s]"
     ]
    },
    {
     "name": "stdout",
     "output_type": "stream",
     "text": [
      "not registered V, C : 健康的 で\n",
      "('健康的', 'で', '沖縄')\n",
      "('とれる', 'を', '野菜')\n",
      "('選ぶ', 'を', '量')\n",
      "('する', 'で', '金団')\n",
      "not registered V, C : 披露 が\n",
      "('披露', 'が', 'ロボットニットデニムブーツカットパンツ')\n",
      "not registered V, C : 会話 が\n",
      "('会話', 'が', '選手権')\n"
     ]
    },
    {
     "name": "stderr",
     "output_type": "stream",
     "text": [
      " 32%|███▏      | 443/1386 [00:06<00:21, 43.60it/s]"
     ]
    },
    {
     "name": "stdout",
     "output_type": "stream",
     "text": [
      "('計画', 'に', '月')\n",
      "('買う', 'に', '御土産')\n",
      "('行う', 'で', '館')\n",
      "('発売', 'が', '大阪')\n",
      "('大好き', 'が', 'チョコレートラテポッキーブレンド')\n",
      "not registered V, C : 出演 が\n",
      "('出演', 'が', 'さん')\n"
     ]
    },
    {
     "name": "stderr",
     "output_type": "stream",
     "text": [
      " 33%|███▎      | 453/1386 [00:06<00:22, 41.99it/s]"
     ]
    },
    {
     "name": "stdout",
     "output_type": "stream",
     "text": [
      "not registered V, C : 観戦 を\n",
      "('観戦', 'を', '保険')\n",
      "('買う', 'に', '御土産')\n",
      "('ある', 'が', '御店')\n",
      "('販売', 'で', '限定')\n"
     ]
    },
    {
     "name": "stderr",
     "output_type": "stream",
     "text": [
      " 33%|███▎      | 458/1386 [00:06<00:26, 35.48it/s]"
     ]
    },
    {
     "name": "stdout",
     "output_type": "stream",
     "text": [
      "not registered V, C : 提供 で\n",
      "('提供', 'で', 'マラソン')\n",
      "('広げる', 'で', '福岡市')\n",
      "('所属', 'に', 'Microsoft')\n",
      "('調べる', 'に', 'ニュース')\n"
     ]
    },
    {
     "name": "stderr",
     "output_type": "stream",
     "text": [
      " 34%|███▍      | 472/1386 [00:07<00:23, 38.59it/s]"
     ]
    },
    {
     "name": "stdout",
     "output_type": "stream",
     "text": [
      "('挙げる', 'が', 'さん')\n",
      "('存在', 'に', '街')\n",
      "('使う', 'が', '石鹸')\n",
      "('考える', 'が', '姿')\n",
      "not registered V, C : リリース が\n",
      "('リリース', 'が', '会社')\n",
      "('贈る', 'に', '人')\n"
     ]
    },
    {
     "name": "stderr",
     "output_type": "stream",
     "text": [
      " 35%|███▍      | 481/1386 [00:07<00:22, 40.58it/s]"
     ]
    },
    {
     "name": "stdout",
     "output_type": "stream",
     "text": [
      "('当選', 'が', 'レプリカ')\n",
      "('指導', 'で', '女房')\n",
      "not registered V, C : 提案 が\n",
      "('提案', 'が', 'さん')\n",
      "('召し上がる', 'を', 'さん')\n",
      "('連載', 'が', '保険')\n"
     ]
    },
    {
     "name": "stderr",
     "output_type": "stream",
     "text": [
      " 35%|███▌      | 491/1386 [00:07<00:21, 41.04it/s]"
     ]
    },
    {
     "name": "stdout",
     "output_type": "stream",
     "text": [
      "('開催', 'で', 'アルゼンチン')\n",
      "not registered V, C : 当選 で\n",
      "('当選', 'で', '大会')\n",
      "not registered V, C : 提供 が\n",
      "('提供', 'が', 'Yahoo!')\n",
      "not registered V, C : 進化 で\n",
      "('進化', 'で', 'こと')\n",
      "not registered V, C : 利用 で\n",
      "('利用', 'で', '問題')\n",
      "('食べる', 'を', 'リング')\n",
      "not registered V, C : 出演 が\n",
      "('出演', 'が', '以前')\n"
     ]
    },
    {
     "name": "stderr",
     "output_type": "stream",
     "text": [
      " 36%|███▌      | 496/1386 [00:07<00:22, 40.33it/s]"
     ]
    },
    {
     "name": "stdout",
     "output_type": "stream",
     "text": [
      "('利用', 'を', '熱')\n",
      "('視聴', 'で', '番組')\n",
      "('行う', 'で', '街')\n",
      "('迎える', 'が', 'さん')\n",
      "('発売', 'を', 'ランドセル')\n"
     ]
    },
    {
     "name": "stderr",
     "output_type": "stream",
     "text": [
      " 37%|███▋      | 506/1386 [00:07<00:21, 41.19it/s]"
     ]
    },
    {
     "name": "stdout",
     "output_type": "stream",
     "text": [
      "('発売', 'が', 'ベニマル')\n",
      "not registered V, C : 利用 で\n",
      "('利用', 'で', 'ベニマル')\n",
      "('提供', 'を', '商品')\n",
      "('選ぶ', 'に', '首位')\n",
      "('行く', 'が', '以北')\n"
     ]
    },
    {
     "name": "stderr",
     "output_type": "stream",
     "text": [
      " 37%|███▋      | 518/1386 [00:08<00:18, 46.86it/s]"
     ]
    },
    {
     "name": "stdout",
     "output_type": "stream",
     "text": [
      "('ない', 'に', '北')\n",
      "('組む', 'が', 'さん')\n",
      "('大きい', 'が', 'ケーキ')\n",
      "('放送', 'が', '回')\n",
      "('放送', 'が', '回')\n",
      "not registered V, C : 放送 で\n",
      "('放送', 'で', 'NHK')\n",
      "('みる', 'を', '特集番組')\n",
      "('する', 'が', '結弦')\n"
     ]
    },
    {
     "name": "stderr",
     "output_type": "stream",
     "text": [
      " 38%|███▊      | 529/1386 [00:08<00:18, 45.97it/s]"
     ]
    },
    {
     "name": "stdout",
     "output_type": "stream",
     "text": [
      "('応援', 'を', '元気')\n",
      "('楽しめる', 'が', 'パン')\n",
      "('焼く', 'で', 'デギュスタシオン')\n",
      "('掛ける', 'が', 'デリ')\n",
      "('泊まる', 'に', '年末年始')\n",
      "not registered V, C : マッチ に\n",
      "('マッチ', 'に', '場合')\n"
     ]
    },
    {
     "name": "stderr",
     "output_type": "stream",
     "text": [
      " 39%|███▉      | 539/1386 [00:08<00:19, 43.56it/s]"
     ]
    },
    {
     "name": "stdout",
     "output_type": "stream",
     "text": [
      "('試す', 'を', 'スパイス')\n",
      "not registered V, C : 出演 が\n",
      "('出演', 'が', '日清')\n",
      "('好き', 'で', 'ラーメン')\n"
     ]
    },
    {
     "name": "stderr",
     "output_type": "stream",
     "text": [
      " 40%|███▉      | 549/1386 [00:08<00:20, 41.31it/s]"
     ]
    },
    {
     "name": "stdout",
     "output_type": "stream",
     "text": [
      "('復帰', 'が', '投手')\n",
      "('思う', 'に', '復帰')\n",
      "('選ぶ', 'が', '選手')\n",
      "('開催', 'で', '日')\n",
      "('走る', 'で', '道路')\n",
      "('開発', 'が', 'ベンチャー企業')\n",
      "('出る', 'が', '雰囲気')\n",
      "('売る', 'が', 'コロッケ')\n"
     ]
    },
    {
     "name": "stderr",
     "output_type": "stream",
     "text": [
      " 40%|████      | 559/1386 [00:09<00:20, 40.59it/s]"
     ]
    },
    {
     "name": "stdout",
     "output_type": "stream",
     "text": [
      "('調査', 'が', 'ジャニーズ')\n",
      "('卒業', 'が', 'さん')\n",
      "('踊る', 'が', '忘年会')\n",
      "('なくなる', 'が', '機会')\n",
      "('購入', 'で', 'イレブン')\n",
      "('売る', 'で', 'イレブン')\n",
      "('利用', 'を', 'コピー機')\n"
     ]
    },
    {
     "name": "stderr",
     "output_type": "stream",
     "text": [
      " 41%|████      | 569/1386 [00:09<00:20, 40.37it/s]"
     ]
    },
    {
     "name": "stdout",
     "output_type": "stream",
     "text": [
      "('買う', 'が', '中')\n",
      "('嬉しい', 'が', '組み合わせ')\n",
      "not registered V, C : 登場 に\n",
      "('登場', 'に', 'ドラマ')\n",
      "('販売', 'が', '店')\n",
      "('販売', 'が', '四季')\n",
      "('歌う', 'で', '途中')\n",
      "('誘う', 'を', '蝦煎')\n",
      "('なる', 'が', '蝦煎')\n"
     ]
    },
    {
     "name": "stderr",
     "output_type": "stream",
     "text": [
      " 42%|████▏     | 579/1386 [00:09<00:19, 41.57it/s]"
     ]
    },
    {
     "name": "stdout",
     "output_type": "stream",
     "text": [
      "('見る', 'が', 'オーレ')\n",
      "('好き', 'が', '海豹')\n",
      "('泳ぐ', 'を', '水槽')\n",
      "('見せる', 'が', '動物園')\n",
      "not registered V, C : 展開 に\n",
      "('展開', 'に', '中心')\n",
      "not registered V, C : 展開 に\n",
      "('展開', 'に', '県')\n"
     ]
    },
    {
     "name": "stderr",
     "output_type": "stream",
     "text": [
      " 42%|████▏     | 589/1386 [00:09<00:19, 41.10it/s]"
     ]
    },
    {
     "name": "stdout",
     "output_type": "stream",
     "text": [
      "('使う', 'を', '料理器具')\n",
      "('増える', 'で', '内')\n",
      "('かかる', 'で', '車')\n",
      "not registered V, C : 購入 に\n",
      "('購入', 'に', '以前')\n",
      "not registered V, C : 購入 に\n",
      "('購入', 'に', '以前')\n",
      "('終える', 'が', '選手')\n",
      "('ある', 'が', '御店')\n",
      "('温める', 'を', 'スライスチーズ')\n",
      "('似る', 'が', 'ソフト')\n"
     ]
    },
    {
     "name": "stderr",
     "output_type": "stream",
     "text": [
      " 43%|████▎     | 599/1386 [00:10<00:19, 40.78it/s]"
     ]
    },
    {
     "name": "stdout",
     "output_type": "stream",
     "text": [
      "('濃厚', 'が', '味')\n",
      "('合わせる', 'を', 'ソフトクリーム')\n",
      "not registered V, C : 発売 で\n",
      "('発売', 'で', 'ミニストップ')\n",
      "('集める', 'が', '選手')\n",
      "not registered V, C : 受賞 で\n",
      "('受賞', 'で', '人')\n"
     ]
    },
    {
     "name": "stderr",
     "output_type": "stream",
     "text": [
      " 44%|████▍     | 609/1386 [00:10<00:19, 40.82it/s]"
     ]
    },
    {
     "name": "stdout",
     "output_type": "stream",
     "text": [
      "('取る', 'が', '戦')\n",
      "('届ける', 'を', '球')\n",
      "('貢献', 'に', '1')\n",
      "('出現', 'が', '御家')\n",
      "('集まる', 'が', 'メンバー')\n",
      "('きつい', 'で', '味')\n",
      "('復帰', 'に', '野球')\n",
      "not registered V, C : 観戦 を\n",
      "('観戦', 'を', '賞')\n",
      "not registered V, C : 開催 に\n",
      "('開催', 'に', '年')\n"
     ]
    },
    {
     "name": "stderr",
     "output_type": "stream",
     "text": [
      " 45%|████▍     | 619/1386 [00:10<00:17, 43.42it/s]"
     ]
    },
    {
     "name": "stdout",
     "output_type": "stream",
     "text": [
      "('浸透', 'が', '話題')\n",
      "('開催', 'が', '日本中央競馬会')\n",
      "('利用', 'を', 'マニア')\n",
      "('下がる', 'が', '人気')\n",
      "('抑える', 'を', 'oriconstyle')\n",
      "('ノミネート', 'に', 'ゴーシーク')\n"
     ]
    },
    {
     "name": "stderr",
     "output_type": "stream",
     "text": [
      " 45%|████▌     | 624/1386 [00:10<00:18, 40.51it/s]"
     ]
    },
    {
     "name": "stdout",
     "output_type": "stream",
     "text": [
      "not registered V, C : 出場 で\n",
      "('出場', 'で', '枠')\n",
      "not registered V, C : 盛り上げる が\n",
      "('盛り上げる', 'が', 'ゲスト')\n",
      "not registered V, C : 優勝 が\n",
      "('優勝', 'が', '代表')\n",
      "('期待', 'に', '選手')\n",
      "('無理', 'が', '優勝')\n",
      "not registered V, C : 進化 で\n",
      "('進化', 'で', 'こと')\n"
     ]
    },
    {
     "name": "stderr",
     "output_type": "stream",
     "text": [
      " 46%|████▌     | 635/1386 [00:10<00:18, 40.29it/s]"
     ]
    },
    {
     "name": "stdout",
     "output_type": "stream",
     "text": [
      "('つける', 'で', 'リーグ')\n",
      "('販売', 'が', '保険')\n",
      "('販売', 'で', '宇治')\n",
      "('選ぶ', 'で', 'キティー')\n",
      "('販売', 'が', '雲月')\n",
      "('販売', 'が', '雲月')\n"
     ]
    },
    {
     "name": "stderr",
     "output_type": "stream",
     "text": [
      " 46%|████▋     | 644/1386 [00:11<00:19, 37.77it/s]"
     ]
    },
    {
     "name": "stdout",
     "output_type": "stream",
     "text": [
      "('決まる', 'が', '位')\n",
      "('演ずる', 'を', '役')\n",
      "('決める', 'を', '位')\n",
      "not registered V, C : 放送 で\n",
      "('放送', 'で', '喜劇')\n",
      "not registered V, C : 出演 が\n",
      "('出演', 'が', 'さん')\n",
      "('行く', 'が', 'クリスマス')\n",
      "('応募', 'に', '侭')\n"
     ]
    },
    {
     "name": "stderr",
     "output_type": "stream",
     "text": [
      " 47%|████▋     | 653/1386 [00:11<00:18, 38.85it/s]"
     ]
    },
    {
     "name": "stdout",
     "output_type": "stream",
     "text": [
      "('食べる', 'に', '解釈')\n",
      "('参加', 'に', 'ループ')\n",
      "not registered V, C : 発売 に\n",
      "('発売', 'に', '日')\n",
      "('カバー', 'を', '楽曲')\n",
      "('参加', 'に', '道')\n",
      "not registered V, C : 受賞 が\n",
      "('受賞', 'が', 'さん')\n",
      "('所属', 'が', '選手')\n",
      "not registered V, C : 盛り上げる に\n",
      "('盛り上げる', 'に', '投手')\n",
      "('復帰', 'が', '投手')\n"
     ]
    },
    {
     "name": "stderr",
     "output_type": "stream",
     "text": [
      " 48%|████▊     | 663/1386 [00:11<00:17, 41.32it/s]"
     ]
    },
    {
     "name": "stdout",
     "output_type": "stream",
     "text": [
      "('抜ける', 'が', '投手')\n",
      "('応援', 'で', '東北楽天ゴールデンイーグルス')\n",
      "('迎える', 'が', 'ミステリー')\n",
      "('外せる', 'が', '御店')\n",
      "('わかる', 'が', '大きさ')\n",
      "not registered V, C : 購入 に\n",
      "('購入', 'に', '時')\n"
     ]
    },
    {
     "name": "stderr",
     "output_type": "stream",
     "text": [
      " 49%|████▊     | 673/1386 [00:11<00:17, 41.78it/s]"
     ]
    },
    {
     "name": "stdout",
     "output_type": "stream",
     "text": [
      "('売る', 'が', 'アイスクリーム')\n",
      "('開催', 'で', '神戸')\n",
      "not registered V, C : 渡る に\n",
      "('渡る', 'に', 'ドイツ')\n",
      "('似る', 'が', 'パン')\n",
      "('取る', 'が', '戦')\n",
      "('入る', 'で', '中')\n",
      "('行う', 'に', '冬')\n"
     ]
    },
    {
     "name": "stderr",
     "output_type": "stream",
     "text": [
      " 50%|████▉     | 688/1386 [00:12<00:15, 45.41it/s]"
     ]
    },
    {
     "name": "stdout",
     "output_type": "stream",
     "text": [
      "('食べる', 'で', 'カウンター')\n",
      "('見る', 'で', 'ビール')\n",
      "('見る', 'を', '海豹')\n",
      "('ハマる', 'が', 'さん')\n",
      "('ある', 'が', 'ココロココ')\n"
     ]
    },
    {
     "name": "stderr",
     "output_type": "stream",
     "text": [
      " 50%|█████     | 698/1386 [00:12<00:16, 41.26it/s]"
     ]
    },
    {
     "name": "stdout",
     "output_type": "stream",
     "text": [
      "('載せる', 'で', 'ココロココ')\n",
      "('連れる', 'に', 'センター')\n",
      "('思い出す', 'で', '中止')\n"
     ]
    },
    {
     "name": "stderr",
     "output_type": "stream",
     "text": [
      " 51%|█████     | 708/1386 [00:12<00:15, 44.52it/s]"
     ]
    },
    {
     "name": "stdout",
     "output_type": "stream",
     "text": [
      "not registered V, C : 宣伝 が\n",
      "('宣伝', 'が', 'パン')\n",
      "('ある', 'が', '重量感')\n",
      "not registered V, C : 始まる で\n",
      "('始まる', 'で', '元気')\n",
      "('元気', 'が', '受け取り')\n"
     ]
    },
    {
     "name": "stderr",
     "output_type": "stream",
     "text": [
      " 52%|█████▏    | 718/1386 [00:12<00:14, 44.68it/s]"
     ]
    },
    {
     "name": "stdout",
     "output_type": "stream",
     "text": [
      "('見つける', 'で', 'ブラジル')\n",
      "('獲る', 'が', '選手')\n",
      "('購入', 'を', '音楽')\n",
      "('買う', 'で', '島歌')\n"
     ]
    },
    {
     "name": "stderr",
     "output_type": "stream",
     "text": [
      " 53%|█████▎    | 728/1386 [00:13<00:15, 41.16it/s]"
     ]
    },
    {
     "name": "stdout",
     "output_type": "stream",
     "text": [
      "('出場', 'に', '島歌')\n",
      "('選ぶ', 'で', 'ガーデン')\n",
      "('やる', 'を', 'けり')\n",
      "not registered V, C : 栄える で\n",
      "('栄える', 'で', '町')\n"
     ]
    },
    {
     "name": "stderr",
     "output_type": "stream",
     "text": [
      " 53%|█████▎    | 733/1386 [00:13<00:15, 41.83it/s]"
     ]
    },
    {
     "name": "stdout",
     "output_type": "stream",
     "text": [
      "not registered V, C : 放送 で\n",
      "('放送', 'で', 'フジテレビ')\n",
      "not registered V, C : 放送 に\n",
      "('放送', 'に', '火曜日')\n",
      "not registered V, C : 放送 で\n",
      "('放送', 'で', '系列')\n",
      "('見つける', 'を', 'パンチ')\n",
      "not registered V, C : 出場 で\n",
      "('出場', 'で', 'フィギュアスケート')\n"
     ]
    },
    {
     "name": "stderr",
     "output_type": "stream",
     "text": [
      " 54%|█████▍    | 748/1386 [00:13<00:14, 42.57it/s]"
     ]
    },
    {
     "name": "stdout",
     "output_type": "stream",
     "text": [
      "('挙げる', 'に', '候補')\n",
      "('整える', 'に', '教訓')\n",
      "not registered V, C : プレー で\n",
      "('プレー', 'で', '世界')\n",
      "('有名', 'に', '他')\n",
      "('行う', 'が', 'さん')\n",
      "('アップロード', 'が', 'YouTube')\n"
     ]
    },
    {
     "name": "stderr",
     "output_type": "stream",
     "text": [
      " 54%|█████▍    | 754/1386 [00:13<00:13, 45.63it/s]"
     ]
    },
    {
     "name": "stdout",
     "output_type": "stream",
     "text": [
      "('受ける', 'に', 'さん')\n",
      "('歌う', 'が', 'さん')\n",
      "('発売', 'が', 'ツイッター')\n",
      "('発売', 'が', '株式会社')\n",
      "('好き', 'で', '曲')\n",
      "not registered V, C : 出場 が\n",
      "('出場', 'が', 'スターズ')\n",
      "('する', 'で', '活躍')\n",
      "('出る', 'が', '地名')\n"
     ]
    },
    {
     "name": "stderr",
     "output_type": "stream",
     "text": [
      " 55%|█████▌    | 765/1386 [00:14<00:13, 47.58it/s]"
     ]
    },
    {
     "name": "stdout",
     "output_type": "stream",
     "text": [
      "('好き', 'で', 'FC')\n",
      "('貢献', 'が', '投手')\n",
      "('致命傷', 'が', '怪我')\n",
      "('出る', 'で', '日本人')\n",
      "('考える', 'で', 'さび')\n"
     ]
    },
    {
     "name": "stderr",
     "output_type": "stream",
     "text": [
      " 56%|█████▌    | 771/1386 [00:14<00:12, 48.81it/s]"
     ]
    },
    {
     "name": "stdout",
     "output_type": "stream",
     "text": [
      "not registered V, C : 果たす に\n",
      "('果たす', 'に', '後')\n"
     ]
    },
    {
     "name": "stderr",
     "output_type": "stream",
     "text": [
      " 56%|█████▋    | 781/1386 [00:14<00:18, 33.52it/s]"
     ]
    },
    {
     "name": "stdout",
     "output_type": "stream",
     "text": [
      "not registered V, C : 発売 に\n",
      "('発売', 'に', '日')\n",
      "('出演', 'に', 'コーナー')\n",
      "('踊る', 'に', '人')\n",
      "('チェック', 'が', 'ブログ')\n",
      "not registered V, C : 提案 が\n",
      "('提案', 'が', 'さん')\n",
      "('指導', 'で', 'イチ')\n",
      "not registered V, C : 得る が\n",
      "('得る', 'が', '選手')\n"
     ]
    },
    {
     "name": "stderr",
     "output_type": "stream",
     "text": [
      " 57%|█████▋    | 791/1386 [00:14<00:15, 37.53it/s]"
     ]
    },
    {
     "name": "stdout",
     "output_type": "stream",
     "text": [
      "('とれる', 'が', '0')\n",
      "('やる', 'で', '年齢')\n",
      "('有利', 'が', '大阪')\n",
      "('使う', 'を', '資金')\n",
      "('出す', 'に', '年')\n",
      "('アレンジ', 'を', 'マッサマンカレー')\n"
     ]
    },
    {
     "name": "stderr",
     "output_type": "stream",
     "text": [
      " 58%|█████▊    | 801/1386 [00:15<00:14, 39.26it/s]"
     ]
    },
    {
     "name": "stdout",
     "output_type": "stream",
     "text": [
      "('始める', 'を', '磐梯')\n",
      "('出演', 'に', '番組')\n",
      "('勝つ', 'が', 'さん')\n",
      "not registered V, C : 予定 が\n",
      "('予定', 'が', '朝日')\n",
      "('発売', 'が', 'さん')\n",
      "('行う', 'で', 'ループ')\n",
      "('カバー', 'が', 'アーチスト')\n"
     ]
    },
    {
     "name": "stderr",
     "output_type": "stream",
     "text": [
      " 59%|█████▊    | 811/1386 [00:15<00:13, 42.96it/s]"
     ]
    },
    {
     "name": "stdout",
     "output_type": "stream",
     "text": [
      "('使う', 'を', 'かき')\n",
      "not registered V, C : 放送 で\n",
      "('放送', 'で', 'ホールディングス')\n",
      "not registered V, C : 貫く で\n",
      "('貫く', 'で', '時')\n",
      "not registered V, C : 出演 が\n",
      "('出演', 'が', 'さん')\n",
      "('参加', 'に', 'beta')\n",
      "('参加', 'に', 'くま')\n"
     ]
    },
    {
     "name": "stderr",
     "output_type": "stream",
     "text": [
      " 59%|█████▉    | 821/1386 [00:15<00:14, 39.04it/s]"
     ]
    },
    {
     "name": "stdout",
     "output_type": "stream",
     "text": [
      "('カバー', 'を', '楽曲')\n",
      "('歌う', 'が', 'さん')\n",
      "not registered V, C : 割る に\n",
      "('割る', 'に', '時')\n",
      "('プレゼント', 'に', '視聴者')\n",
      "not registered V, C : 演じる で\n",
      "('演じる', 'で', '俳優')\n",
      "('夢中', 'に', '時')\n"
     ]
    },
    {
     "name": "stderr",
     "output_type": "stream",
     "text": [
      " 60%|██████    | 838/1386 [00:15<00:11, 46.35it/s]"
     ]
    },
    {
     "name": "stdout",
     "output_type": "stream",
     "text": [
      "('大人気', 'が', '最近')\n",
      "('購入', 'を', '菓子')\n",
      "('感心', 'が', '人')\n",
      "('トッピング', 'に', '卵')\n",
      "('食べる', 'を', '蝦煎')\n"
     ]
    },
    {
     "name": "stderr",
     "output_type": "stream",
     "text": [
      " 61%|██████    | 848/1386 [00:16<00:12, 42.20it/s]"
     ]
    },
    {
     "name": "stdout",
     "output_type": "stream",
     "text": [
      "not registered V, C : 当選 で\n",
      "('当選', 'で', '大会')\n",
      "('販売', 'が', 'コロッケ')\n",
      "not registered V, C : 出店 に\n",
      "('出店', 'に', 'モール')\n",
      "('広がる', 'が', '技術')\n",
      "not registered V, C : 注目 で\n",
      "('注目', 'で', '最近')\n",
      "('結ぶ', 'が', '人気')\n"
     ]
    },
    {
     "name": "stderr",
     "output_type": "stream",
     "text": [
      " 62%|██████▏   | 859/1386 [00:16<00:11, 44.74it/s]"
     ]
    },
    {
     "name": "stdout",
     "output_type": "stream",
     "text": [
      "not registered V, C : 活躍 に\n",
      "('活躍', 'に', '早々')\n",
      "not registered V, C : 優勝 が\n",
      "('優勝', 'が', '次回')\n",
      "('いる', 'が', '上着')\n",
      "('販売', 'が', 'わたし')\n",
      "('出る', 'が', 'ファミリーマート')\n",
      "('有名', 'で', '肉饅')\n",
      "('見る', 'を', 'ココロココ')\n"
     ]
    },
    {
     "name": "stderr",
     "output_type": "stream",
     "text": [
      " 63%|██████▎   | 871/1386 [00:16<00:11, 46.39it/s]"
     ]
    },
    {
     "name": "stdout",
     "output_type": "stream",
     "text": [
      "('当たり前', 'で', '病院')\n",
      "('する', 'が', '啓江')\n",
      "('応援', 'を', 'letao')\n",
      "('開発', 'が', '男性')\n",
      "('楽しめる', 'に', 'ベース')\n",
      "('読む', 'を', 'カンタビ')\n"
     ]
    },
    {
     "name": "stderr",
     "output_type": "stream",
     "text": [
      " 64%|██████▎   | 881/1386 [00:16<00:11, 44.99it/s]"
     ]
    },
    {
     "name": "stdout",
     "output_type": "stream",
     "text": [
      "('経験', 'を', 'ボランティア')\n",
      "('始める', 'を', '御嶽山')\n",
      "('書く', 'が', 'さん')\n",
      "not registered V, C : 拡大 が\n",
      "('拡大', 'が', 'テレビ東京')\n"
     ]
    },
    {
     "name": "stderr",
     "output_type": "stream",
     "text": [
      " 64%|██████▍   | 892/1386 [00:17<00:10, 46.17it/s]"
     ]
    },
    {
     "name": "stdout",
     "output_type": "stream",
     "text": [
      "('書く', 'が', 'さん')\n",
      "('見る', 'で', '他')\n",
      "('直撃', 'が', '監督')\n",
      "('見る', 'で', '他')\n",
      "('訪れる', 'に', '時期')\n",
      "('行う', 'で', '王国')\n",
      "('浸透', 'が', '乃逢')\n"
     ]
    },
    {
     "name": "stderr",
     "output_type": "stream",
     "text": [
      " 65%|██████▌   | 903/1386 [00:17<00:10, 47.67it/s]"
     ]
    },
    {
     "name": "stdout",
     "output_type": "stream",
     "text": [
      "('観る', 'に', '他')\n",
      "not registered V, C : 放送 で\n",
      "('放送', 'で', 'ハリウッド')\n",
      "('絡む', 'に', '蒟蒻')\n",
      "('休む', 'が', 'さん')\n",
      "('ござる', 'に', '所')\n"
     ]
    },
    {
     "name": "stderr",
     "output_type": "stream",
     "text": [
      " 66%|██████▌   | 916/1386 [00:17<00:09, 50.07it/s]"
     ]
    },
    {
     "name": "stdout",
     "output_type": "stream",
     "text": [
      "('かかる', 'が', 'トッピング')\n",
      "('開催', 'で', '京都')\n",
      "('できる', 'で', '店頭')\n",
      "not registered V, C : 提案 が\n",
      "('提案', 'が', '私')\n",
      "('知り合う', 'で', 'バー')\n",
      "('好き', 'で', 'ハンバーガー')\n"
     ]
    },
    {
     "name": "stderr",
     "output_type": "stream",
     "text": [
      " 67%|██████▋   | 928/1386 [00:17<00:10, 44.16it/s]"
     ]
    },
    {
     "name": "stdout",
     "output_type": "stream",
     "text": [
      "('遠のく', 'が', '足')\n",
      "('ランクイン', 'で', 'ランキング')\n",
      "('素晴らしい', 'が', '歌')\n",
      "not registered V, C : 恋 で\n",
      "('恋', 'で', '番組')\n",
      "('ある', 'に', '0')\n"
     ]
    },
    {
     "name": "stderr",
     "output_type": "stream",
     "text": [
      " 68%|██████▊   | 941/1386 [00:18<00:08, 52.64it/s]"
     ]
    },
    {
     "name": "stdout",
     "output_type": "stream",
     "text": [
      "('取得', 'が', '太一')\n",
      "('くつろぐ', 'で', '部屋')\n",
      "not registered V, C : 普及 で\n",
      "('普及', 'で', '日本')\n",
      "('消える', 'で', '代')\n"
     ]
    },
    {
     "name": "stderr",
     "output_type": "stream",
     "text": [
      " 69%|██████▉   | 955/1386 [00:18<00:07, 58.90it/s]"
     ]
    },
    {
     "name": "stdout",
     "output_type": "stream",
     "text": [
      "('なる', 'で', 'バイト')\n",
      "('言う', 'を', 'スープ')\n",
      "not registered V, C : 渡る に\n",
      "('渡る', 'に', '四国')\n",
      "('下がる', 'が', '年齢')\n"
     ]
    },
    {
     "name": "stderr",
     "output_type": "stream",
     "text": [
      " 70%|██████▉   | 970/1386 [00:18<00:06, 64.09it/s]"
     ]
    },
    {
     "name": "stdout",
     "output_type": "stream",
     "text": [
      "('ある', 'で', '名前')\n",
      "not registered V, C : ドライブ で\n",
      "('ドライブ', 'で', '一人')\n",
      "not registered V, C : 描ける で\n",
      "('描ける', 'で', 'どこ')\n",
      "('無い', 'が', '円')\n"
     ]
    },
    {
     "name": "stderr",
     "output_type": "stream",
     "text": [
      " 72%|███████▏  | 1001/1386 [00:18<00:05, 69.41it/s]"
     ]
    },
    {
     "name": "stdout",
     "output_type": "stream",
     "text": [
      "('使う', 'を', 'スマホ')\n",
      "('高い', 'が', '冬服')\n",
      "('いい', 'で', 'どっち')\n",
      "('みる', 'が', '天気予報')\n"
     ]
    },
    {
     "name": "stderr",
     "output_type": "stream",
     "text": [
      " 73%|███████▎  | 1017/1386 [00:19<00:05, 72.84it/s]"
     ]
    },
    {
     "name": "stdout",
     "output_type": "stream",
     "text": [
      "('受ける', 'を', '誤解')\n",
      "('使える', 'で', 'デジカメ')\n",
      "('ある', 'で', '名前')\n",
      "('整理', 'が', '上')\n"
     ]
    },
    {
     "name": "stderr",
     "output_type": "stream",
     "text": [
      " 75%|███████▍  | 1033/1386 [00:19<00:05, 64.97it/s]"
     ]
    },
    {
     "name": "stdout",
     "output_type": "stream",
     "text": [
      "('大事', 'で', 'こと')\n",
      "('進む', 'に', '頃')\n",
      "('怪しい', 'が', '週間')\n"
     ]
    },
    {
     "name": "stderr",
     "output_type": "stream",
     "text": [
      " 76%|███████▌  | 1047/1386 [00:19<00:05, 62.18it/s]"
     ]
    },
    {
     "name": "stdout",
     "output_type": "stream",
     "text": [
      "('出せる', 'で', 'それ')\n",
      "('呼ぶ', 'を', 'N')\n",
      "('違う', 'が', '本')\n",
      "not registered V, C : 弾く に\n",
      "('弾く', 'に', '他')\n",
      "('なる', 'に', 'お出掛け')\n",
      "('なる', 'に', 'やみつく')\n"
     ]
    },
    {
     "name": "stderr",
     "output_type": "stream",
     "text": [
      " 77%|███████▋  | 1061/1386 [00:19<00:04, 65.26it/s]"
     ]
    },
    {
     "name": "stdout",
     "output_type": "stream",
     "text": [
      "('聴く', 'を', 'ジャンル')\n",
      "('正しい', 'が', '番組')\n",
      "('おいしい', 'に', '割')\n",
      "('整理', 'が', '上')\n"
     ]
    },
    {
     "name": "stderr",
     "output_type": "stream",
     "text": [
      " 78%|███████▊  | 1077/1386 [00:20<00:04, 70.71it/s]"
     ]
    },
    {
     "name": "stdout",
     "output_type": "stream",
     "text": [
      "not registered V, C : 設定 が\n",
      "('設定', 'が', '目的地')\n",
      "('撮る', 'を', '枚')\n",
      "('思う', 'に', '最後')\n",
      "('撮る', 'を', '枚')\n"
     ]
    },
    {
     "name": "stderr",
     "output_type": "stream",
     "text": [
      " 79%|███████▉  | 1101/1386 [00:20<00:04, 70.73it/s]"
     ]
    },
    {
     "name": "stdout",
     "output_type": "stream",
     "text": [
      "not registered V, C : 特殊 が\n",
      "('特殊', 'が', '時')\n",
      "('下手', 'が', '方')\n",
      "('ひどい', 'が', '記')\n"
     ]
    },
    {
     "name": "stderr",
     "output_type": "stream",
     "text": [
      " 81%|████████  | 1118/1386 [00:20<00:03, 69.62it/s]"
     ]
    },
    {
     "name": "stdout",
     "output_type": "stream",
     "text": [
      "('無い', 'が', '仕様')\n",
      "('描く', 'が', '角度')\n",
      "('気づく', 'で', '御陰')\n",
      "('きく', 'が', 'クーラー')\n",
      "('整理', 'が', '上')\n",
      "('確保', 'が', '踏み場')\n"
     ]
    },
    {
     "name": "stderr",
     "output_type": "stream",
     "text": [
      " 81%|████████▏ | 1127/1386 [00:20<00:03, 73.42it/s]"
     ]
    },
    {
     "name": "stdout",
     "output_type": "stream",
     "text": [
      "not registered V, C : もりあがる が\n",
      "('もりあがる', 'が', '冬')\n",
      "('なくなる', 'が', '余裕')\n",
      "('のる', 'が', 'ハンバーグ')\n",
      "('整理', 'が', '上')\n"
     ]
    },
    {
     "name": "stderr",
     "output_type": "stream",
     "text": [
      " 83%|████████▎ | 1144/1386 [00:20<00:03, 73.87it/s]"
     ]
    },
    {
     "name": "stdout",
     "output_type": "stream",
     "text": [
      "('利用', 'が', '目覚まし')\n",
      "('買い物', 'で', '携帯')\n"
     ]
    },
    {
     "name": "stderr",
     "output_type": "stream",
     "text": [
      " 84%|████████▍ | 1161/1386 [00:21<00:02, 77.05it/s]"
     ]
    },
    {
     "name": "stdout",
     "output_type": "stream",
     "text": [
      "('整理', 'が', '上')\n"
     ]
    },
    {
     "name": "stderr",
     "output_type": "stream",
     "text": [
      " 85%|████████▌ | 1180/1386 [00:21<00:02, 78.59it/s]"
     ]
    },
    {
     "name": "stdout",
     "output_type": "stream",
     "text": [
      "('もつ', 'を', 'CD')\n",
      "('組む', 'で', '何人')\n",
      "('駄目', 'が', 'プール')\n"
     ]
    },
    {
     "name": "stderr",
     "output_type": "stream",
     "text": [
      " 86%|████████▋ | 1198/1386 [00:21<00:02, 80.89it/s]"
     ]
    },
    {
     "name": "stdout",
     "output_type": "stream",
     "text": [
      "('好き', 'が', '玄米茶')\n",
      "('なる', 'に', '猫好き')\n",
      "('入る', 'が', 'ペペロンチーノ')\n",
      "('食べる', 'に', '度')\n",
      "('済む', 'で', '麺類')\n"
     ]
    },
    {
     "name": "stderr",
     "output_type": "stream",
     "text": [
      " 88%|████████▊ | 1225/1386 [00:21<00:01, 82.78it/s]"
     ]
    },
    {
     "name": "stdout",
     "output_type": "stream",
     "text": [
      "('食べる', 'で', '室')\n",
      "('整理', 'が', '上')\n",
      "('向かう', 'に', '南')\n"
     ]
    },
    {
     "name": "stderr",
     "output_type": "stream",
     "text": [
      " 89%|████████▉ | 1234/1386 [00:22<00:01, 82.78it/s]"
     ]
    },
    {
     "name": "stdout",
     "output_type": "stream",
     "text": [
      "('高い', 'が', '冬服')\n",
      "('ある', 'が', 'あんなん')\n",
      "('買う', 'に', '前')\n",
      "('すむ', 'で', '情報')\n",
      "('分かる', 'が', '頭')\n"
     ]
    },
    {
     "name": "stderr",
     "output_type": "stream",
     "text": [
      " 91%|█████████ | 1259/1386 [00:22<00:01, 70.24it/s]"
     ]
    },
    {
     "name": "stdout",
     "output_type": "stream",
     "text": [
      "('観る', 'で', 'それ')\n",
      "('残す', 'に', '人類')\n",
      "('必要', 'が', 'クラブ')\n",
      "('飲める', 'で', '何')\n"
     ]
    },
    {
     "name": "stderr",
     "output_type": "stream",
     "text": [
      " 92%|█████████▏| 1275/1386 [00:22<00:01, 68.19it/s]"
     ]
    },
    {
     "name": "stdout",
     "output_type": "stream",
     "text": [
      "('いく', 'に', '平日')\n",
      "('乗る', 'に', '流れ星')\n",
      "('足りる', 'が', '自覚')\n",
      "('買う', 'に', '御店')\n",
      "('必要', 'が', 'それ')\n",
      "('重要', 'が', 'こと')\n",
      "not registered V, C : 浸る が\n",
      "('浸る', 'が', '鶏肉')\n"
     ]
    },
    {
     "name": "stderr",
     "output_type": "stream",
     "text": [
      " 94%|█████████▎| 1297/1386 [00:23<00:01, 70.44it/s]"
     ]
    },
    {
     "name": "stdout",
     "output_type": "stream",
     "text": [
      "('食える', 'が', 'ボール')\n",
      "('出す', 'に', '一気')\n",
      "not registered V, C : 休める に\n",
      "('休める', 'に', '絶対')\n",
      "('長い', 'が', '回')\n",
      "('まわる', 'に', '時')\n"
     ]
    },
    {
     "name": "stderr",
     "output_type": "stream",
     "text": [
      " 95%|█████████▍| 1312/1386 [00:23<00:01, 67.63it/s]"
     ]
    },
    {
     "name": "stdout",
     "output_type": "stream",
     "text": [
      "('通う', 'が', 'そちら')\n",
      "('同じ', 'で', '－')\n",
      "('勉強', 'に', '株式')\n",
      "('好き', 'が', 'ピンク')\n"
     ]
    },
    {
     "name": "stderr",
     "output_type": "stream",
     "text": [
      " 96%|█████████▋| 1335/1386 [00:23<00:00, 70.77it/s]"
     ]
    },
    {
     "name": "stdout",
     "output_type": "stream",
     "text": [
      "('取れる', 'が', '身動き')\n",
      "('好き', 'が', '玄米茶')\n",
      "('見る', 'を', 'アイアムレジェンド')\n",
      "('使いこなせる', 'で', '感じ')\n",
      "('利用', 'を', 'サイト')\n"
     ]
    },
    {
     "name": "stderr",
     "output_type": "stream",
     "text": [
      " 97%|█████████▋| 1351/1386 [00:23<00:00, 71.28it/s]"
     ]
    },
    {
     "name": "stdout",
     "output_type": "stream",
     "text": [
      "('不便', 'が', '手汗')\n",
      "('作り置き', 'が', '具')\n",
      "('高い', 'が', '冬服')\n"
     ]
    },
    {
     "name": "stderr",
     "output_type": "stream",
     "text": [
      " 98%|█████████▊| 1359/1386 [00:23<00:00, 61.96it/s]"
     ]
    },
    {
     "name": "stdout",
     "output_type": "stream",
     "text": [
      "('撮る', 'で', 'デジカメ')\n",
      "('育つ', 'で', 'さん')\n",
      "('小さい', 'が', 'デジカメ')\n"
     ]
    },
    {
     "name": "stderr",
     "output_type": "stream",
     "text": [
      " 99%|█████████▉| 1373/1386 [00:24<00:00, 63.68it/s]"
     ]
    },
    {
     "name": "stdout",
     "output_type": "stream",
     "text": [
      "('整理', 'が', '上')\n",
      "('確保', 'が', '踏み場')\n",
      "('整理', 'が', '上')\n",
      "('確保', 'が', '踏み場')\n",
      "('みかける', 'で', '図書館')\n"
     ]
    },
    {
     "name": "stderr",
     "output_type": "stream",
     "text": [
      "100%|██████████| 1386/1386 [00:24<00:00, 56.88it/s]"
     ]
    },
    {
     "name": "stdout",
     "output_type": "stream",
     "text": [
      "('現れる', 'が', '飛行機')\n"
     ]
    },
    {
     "name": "stderr",
     "output_type": "stream",
     "text": [
      "\n"
     ]
    }
   ],
   "source": [
    "y_pred = []\n",
    "for utt in tqdm(sys_utt):\n",
    "    is_valid = True\n",
    "\n",
    "    triples = extract_RDF_triple(utt)\n",
    "    for triple in triples:\n",
    "        if not judge_triple(triple):\n",
    "            print(triple)\n",
    "            is_valid = False\n",
    "            break\n",
    "    if is_valid:\n",
    "        y_pred.append(0)\n",
    "    else:\n",
    "        y_pred.append(1)"
   ]
  },
  {
   "cell_type": "code",
   "execution_count": 106,
   "metadata": {},
   "outputs": [
    {
     "name": "stdout",
     "output_type": "stream",
     "text": [
      "confusion matrix = \n",
      " [[848 530]\n",
      " [  5   3]]\n",
      "accuracy =  0.613997113997114\n",
      "precision =  0.005628517823639775\n",
      "recall =  0.375\n",
      "f1 score =  0.011090573012939003\n"
     ]
    }
   ],
   "source": [
    "score(y, y_pred)"
   ]
  },
  {
   "cell_type": "code",
   "execution_count": 107,
   "metadata": {},
   "outputs": [
    {
     "name": "stdout",
     "output_type": "stream",
     "text": [
      "group <ヒト（数）>\n",
      "True\n"
     ]
    }
   ],
   "source": [
    "word = \"一人\"\n",
    "print(\"group \"+classify_word(word))\n",
    "print(word in w2v_model)"
   ]
  },
  {
   "cell_type": "code",
   "execution_count": 108,
   "metadata": {},
   "outputs": [
    {
     "data": {
      "text/plain": [
       "{'を': {'<場所>', '<状況>', '四国', '景色'},\n",
       " 'に': {'<ヒト（役割）>', '<場所>', 'バック', '気晴らし', '温泉'},\n",
       " 'が': {'<位置>', '<太陽>', '<時期>', '<時間（単位）>', '前', '日'}}"
      ]
     },
     "execution_count": 108,
     "metadata": {},
     "output_type": "execute_result"
    }
   ],
   "source": [
    "case_frame[\"ドライブ\"]"
   ]
  },
  {
   "cell_type": "markdown",
   "metadata": {},
   "source": [
    "- 学習データのみでやってみた\n",
    "\n",
    "        confusion matrix = \n",
    "        [[716 662]\n",
    "        [  1   7]]\n",
    "        accuracy =  0.5216450216450217\n",
    "        precision =  0.01046337817638266\n",
    "        recall =  0.875\n",
    "        f1 score =  0.020679468242245203\n",
    "\n",
    "    - 再現率は良い！"
   ]
  },
  {
   "cell_type": "code",
   "execution_count": 109,
   "metadata": {},
   "outputs": [],
   "source": [
    "def judge_triple(triple):\n",
    "    V = triple[0]\n",
    "    C = triple[1]\n",
    "    noun = triple[2]\n",
    "\n",
    "    # Vが登録されていないならパスしておくかな(一旦)\n",
    "    if V not in case_frame:\n",
    "        # print(\"not registered V :\", V)\n",
    "        return True\n",
    "    \n",
    "    # C が登録されていないなら，アウト\n",
    "    if C not in case_frame[V]:\n",
    "        # print(\"not registered V, C :\", V, C)\n",
    "        return False\n",
    "    \n",
    "    # そのままの名詞で検索 -> 発見なら正例\n",
    "    if search_triple(V, C, noun):\n",
    "        # print(\"\\tfound\", V, C, noun)\n",
    "        return True\n",
    "\n",
    "    # 名詞がどこかのグループに属する\n",
    "    group_ = search_word(noun)\n",
    "    if len(group_) > 0:\n",
    "        # 1つでも引っかかればOK\n",
    "        for group in group_:\n",
    "            if search_triple(V, C, group):\n",
    "                return True\n",
    "        return False\n",
    "    # グループを推定\n",
    "    else:\n",
    "        group = classify_word(noun) \n",
    "        return search_triple(V, C, group)"
   ]
  },
  {
   "cell_type": "markdown",
   "metadata": {},
   "source": []
  },
  {
   "cell_type": "code",
   "execution_count": 110,
   "metadata": {},
   "outputs": [
    {
     "name": "stdout",
     "output_type": "stream",
     "text": [
      "元気ですかは元気です\n",
      "--------\n",
      "好きだを見ますよねー\n",
      "('見る', 'を', '好き')\n",
      "False\n",
      "--------\n",
      "病院は治療を受けましょう\n",
      "('受ける', 'が', '病院')\n",
      "False\n",
      "('受ける', 'を', '治療')\n",
      "True\n",
      "--------\n",
      "好きだは好きですか。お寿司はエンガワが好きですね\n",
      "('好き', 'が', '縁側')\n",
      "True\n",
      "--------\n",
      "時期から資格を取りますねぇ\n",
      "('取る', 'を', '資格')\n",
      "True\n",
      "--------\n",
      "手を貯金に出しますねぇ\n",
      "('出す', 'を', '手')\n",
      "True\n",
      "('出す', 'に', '貯金')\n",
      "True\n",
      "--------\n",
      "ところで、テレビでテレビあるって言ってましたが、テレビは民主党支持が多いですね\n",
      "('ある', 'で', 'テレビ')\n",
      "True\n",
      "('言う', 'で', '所')\n",
      "False\n",
      "('多い', 'が', '支持')\n",
      "True\n",
      "--------\n",
      "旬ですねぇ。自分もオリンピック書いたし。\n",
      "--------\n"
     ]
    }
   ],
   "source": [
    "for t, p, utt in zip(y, y_pred, sys_utt):\n",
    "    if t==1:\n",
    "        print(utt)\n",
    "        triples = extract_RDF_triple(utt)\n",
    "        for triple in triples:\n",
    "            print(triple)\n",
    "            print( judge_triple(triple) )\n",
    "        print(\"--------\")"
   ]
  },
  {
   "cell_type": "code",
   "execution_count": null,
   "metadata": {},
   "outputs": [],
   "source": []
  }
 ],
 "metadata": {
  "interpreter": {
   "hash": "31f2aee4e71d21fbe5cf8b01ff0e069b9275f58929596ceb00d14d90e3e16cd6"
  },
  "kernelspec": {
   "display_name": "Python 3.6.9 64-bit",
   "language": "python",
   "name": "python3"
  },
  "language_info": {
   "codemirror_mode": {
    "name": "ipython",
    "version": 3
   },
   "file_extension": ".py",
   "mimetype": "text/x-python",
   "name": "python",
   "nbconvert_exporter": "python",
   "pygments_lexer": "ipython3",
   "version": "3.6.9"
  },
  "orig_nbformat": 4
 },
 "nbformat": 4,
 "nbformat_minor": 2
}
