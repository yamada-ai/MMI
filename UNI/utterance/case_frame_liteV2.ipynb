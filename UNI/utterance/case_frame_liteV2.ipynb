{
 "cells": [
  {
   "cell_type": "code",
   "execution_count": 1,
   "metadata": {},
   "outputs": [],
   "source": [
    "import json\n",
    "import os\n",
    "import pandas as pd\n",
    "import numpy as np\n",
    "from pathlib import Path\n",
    "import collections\n",
    "from sklearn.model_selection import train_test_split\n",
    "from sklearn import metrics\n",
    "\n",
    "import sys\n",
    "sys.path.append(\"../\")\n",
    "from datatools.analyzer import *\n",
    "from utterance.error_tools import *\n",
    "\n",
    "from datatools.maneger import DataManager\n",
    "from datatools.preproc import Preprocessor"
   ]
  },
  {
   "cell_type": "code",
   "execution_count": 2,
   "metadata": {},
   "outputs": [],
   "source": [
    "import torch\n",
    "import torch.nn as nn\n",
    "import torch.nn.functional as F\n",
    "from torch.nn.modules import loss\n",
    "import torch.optim as optim"
   ]
  },
  {
   "cell_type": "code",
   "execution_count": 3,
   "metadata": {},
   "outputs": [],
   "source": [
    "class CaseModel(nn.Module):\n",
    "    def __init__(self, embedding_dim, tagset_size):\n",
    "        # 親クラスのコンストラクタ。決まり文句\n",
    "        super(CaseModel, self).__init__()    \n",
    "        self.embedding_dim = embedding_dim\n",
    "        self.hid1= embedding_dim*2\n",
    "        self.hid2 = embedding_dim//2\n",
    "        self.fc1 = nn.Linear(self.embedding_dim, self.hid1)\n",
    "        self.fc2 = nn.Linear(self.hid1, self.hid2)\n",
    "        self.hidden2tag = nn.Linear(self.hid2, tagset_size)\n",
    "    \n",
    "    def forward(self, x):\n",
    "        y = F.relu(self.fc1(x))\n",
    "        y = F.relu(self.fc2(y))\n",
    "        y = self.hidden2tag( y )\n",
    "        y = F.log_softmax(y, dim=1)\n",
    "        return y"
   ]
  },
  {
   "cell_type": "code",
   "execution_count": 4,
   "metadata": {},
   "outputs": [],
   "source": [
    "border=0.8"
   ]
  },
  {
   "cell_type": "code",
   "execution_count": 5,
   "metadata": {},
   "outputs": [
    {
     "name": "stdout",
     "output_type": "stream",
     "text": [
      "success load : ../models/utterance/group_border=0.8_2.pickle\n"
     ]
    }
   ],
   "source": [
    "dict_path = \"../models/utterance/\"\n",
    "dict_name = \"group_border={0}_2.pickle\".format(border)\n",
    "dictM = DataManager(dict_path)\n",
    "group_dict = dictM.load_data(dict_name)"
   ]
  },
  {
   "cell_type": "code",
   "execution_count": 6,
   "metadata": {},
   "outputs": [],
   "source": [
    "def search_word(word):\n",
    "    word = clean_text(word)\n",
    "    found_list = []\n",
    "    for group_key in group_dict.keys():\n",
    "        if word in group_dict[group_key]:\n",
    "            found_list.append(group_key)\n",
    "    return found_list"
   ]
  },
  {
   "cell_type": "code",
   "execution_count": 7,
   "metadata": {},
   "outputs": [
    {
     "name": "stderr",
     "output_type": "stream",
     "text": [
      "[8692] 2022-01-21 17:19:55,240 Info gensim.models.keyedvectors :loading projection weights from ../../corpus/w2v/model.vec\n",
      "[8692] 2022-01-21 17:20:55,927 Info gensim.utils :KeyedVectors lifecycle event {'msg': 'loaded (351122, 300) matrix of type float32 from ../../corpus/w2v/model.vec', 'binary': False, 'encoding': 'utf8', 'datetime': '2022-01-21T17:20:55.926958', 'gensim': '4.0.1', 'python': '3.6.9 (default, Jan 26 2021, 15:33:00) \\n[GCC 8.4.0]', 'platform': 'Linux-5.4.72-microsoft-standard-WSL2-x86_64-with-Ubuntu-18.04-bionic', 'event': 'load_word2vec_format'}\n"
     ]
    }
   ],
   "source": [
    "from gensim.models import KeyedVectors\n",
    "w2v_path = \"../../corpus/w2v/\"\n",
    "# fasttext\n",
    "# https://qiita.com/Hironsan/items/513b9f93752ecee9e670\n",
    "# w2v_name =  \"dep-ja-300dim\"\n",
    "w2v_name =  \"model.vec\"\n",
    "w2v_model = KeyedVectors.load_word2vec_format(w2v_path+w2v_name)"
   ]
  },
  {
   "cell_type": "code",
   "execution_count": 8,
   "metadata": {},
   "outputs": [],
   "source": [
    "group2index = dict(zip( group_dict.keys(), range(len(group_dict.keys())) ))\n",
    "index2group = dict(zip(range(len(group_dict.keys())), group_dict.keys() ))"
   ]
  },
  {
   "cell_type": "code",
   "execution_count": 9,
   "metadata": {},
   "outputs": [
    {
     "name": "stdout",
     "output_type": "stream",
     "text": [
      "success load : ../models/utterance/case_frame_0.8_2.pickle\n"
     ]
    }
   ],
   "source": [
    "model_path = \"../models/utterance/\"\n",
    "model_name = \"case_frame_{0}_2.pickle\".format(border)\n",
    "modelM = DataManager(model_path)\n",
    "cmodel = modelM.load_data(model_name)"
   ]
  },
  {
   "cell_type": "code",
   "execution_count": 10,
   "metadata": {},
   "outputs": [],
   "source": [
    "classify_border=0.75\n",
    "def classify_word(word, mode=\"judge\"):\n",
    "    # word = clean_text(word)\n",
    "    if word not in w2v_model:\n",
    "        return \"\"\n",
    "    with torch.no_grad():\n",
    "        vector = torch.tensor([w2v_model[word]]).cuda()\n",
    "        pred = np.exp(np.array(cmodel(vector).cpu()))\n",
    "        p_argmax = pred.argmax()\n",
    "        # print(pred[0][p_argmax])\n",
    "        if mode==\"register\":\n",
    "            if pred[0][p_argmax] < classify_border:\n",
    "                return \"\"\n",
    "    return index2group[p_argmax]"
   ]
  },
  {
   "cell_type": "code",
   "execution_count": 11,
   "metadata": {},
   "outputs": [
    {
     "data": {
      "text/plain": [
       "'<もの>'"
      ]
     },
     "execution_count": 11,
     "metadata": {},
     "output_type": "execute_result"
    }
   ],
   "source": [
    "word =  \"デジカメ\"\n",
    "classify_word(word)"
   ]
  },
  {
   "cell_type": "code",
   "execution_count": 12,
   "metadata": {},
   "outputs": [],
   "source": [
    "def register_triple(case_frame:dict, V, C, Noun):\n",
    "    # 動詞の確認\n",
    "    if V not in case_frame:\n",
    "        case_frame[V] = dict()\n",
    "\n",
    "    # 格の確認\n",
    "    if C not in case_frame[V]:\n",
    "        case_frame[V][C] = set()\n",
    "    \n",
    "    # 名詞の登録\n",
    "    case_frame[V][C].add(Noun)"
   ]
  },
  {
   "cell_type": "code",
   "execution_count": 13,
   "metadata": {},
   "outputs": [],
   "source": [
    "def compound_noun(token):\n",
    "    base = token.lemma_\n",
    "    for child in token.children:\n",
    "        if child.dep_ == \"compound\":\n",
    "           base = child.lemma_ + base\n",
    "    return base"
   ]
  },
  {
   "cell_type": "code",
   "execution_count": 14,
   "metadata": {},
   "outputs": [],
   "source": [
    "case_set = set(\"は　が　を　に　で\")\n",
    "\n",
    "def extract_RDF_triple(text, clean_=True):\n",
    "    if clean_:\n",
    "        text = clean_text(text)\n",
    "    doc = nlp(text)\n",
    "    triple_list = []\n",
    "    for _, token in enumerate( doc ):\n",
    "        if token.pos_ in [\"VERB\", \"ADJ\"]:\n",
    "        # if token.pos_==\"VERB\":\n",
    "        # if is_declinable(token):\n",
    "            for c in token.children:\n",
    "                if c.dep_ in [\"nsubj\", \"obj\", \"obl\"]:\n",
    "                    noun = c.lemma_\n",
    "                    for c2 in c.children:\n",
    "                        if c2.dep_ == \"case\" and c2.orth_ in case_set:\n",
    "                        # if c2.dep_ == \"case\":\n",
    "                            case = c2.orth_\n",
    "                            if case == \"は\":\n",
    "                                case = \"が\"\n",
    "                            triple_list.append( (token.lemma_, case, noun) )\n",
    "    return triple_list"
   ]
  },
  {
   "cell_type": "code",
   "execution_count": 15,
   "metadata": {},
   "outputs": [],
   "source": [
    "path = \"../hand_labeled/\"\n",
    "datalist = ['DCM', 'DIT', 'IRS']\n",
    "convs = read_conv(path, datalist)"
   ]
  },
  {
   "cell_type": "code",
   "execution_count": 16,
   "metadata": {},
   "outputs": [],
   "source": [
    "error = \"Semantic error\"\n",
    "sys_utt = []\n",
    "y = []\n",
    "for conv in convs:\n",
    "    for ut in conv:\n",
    "        # if ut.is_system() and ut.is_exist_error():\n",
    "        if not ut.is_exist_error():\n",
    "            sys_utt.append(ut.utt)\n",
    "            if ut.is_error_included(error):\n",
    "                y.append(1)\n",
    "            else:\n",
    "                y.append(0)"
   ]
  },
  {
   "cell_type": "code",
   "execution_count": 17,
   "metadata": {},
   "outputs": [],
   "source": [
    "# with open(\"../../corpus/NTT/persona.json\", \"r\", encoding=\"utf-8\") as f:\n",
    "#     convs = json.load(f)\n",
    "# all_utt = []\n",
    "# for did in tqdm( convs[\"convs\"] ) :\n",
    "#     dids = list( did.keys() )[0]\n",
    "#     all_utt += did[dids]"
   ]
  },
  {
   "cell_type": "code",
   "execution_count": 18,
   "metadata": {},
   "outputs": [],
   "source": [
    "# all_utt = sys_utt + all_utt\n",
    "# len(all_utt)"
   ]
  },
  {
   "cell_type": "code",
   "execution_count": 19,
   "metadata": {},
   "outputs": [],
   "source": [
    "def read_file(filename, batch_size=10000) -> list:\n",
    "    f = open(filename, 'r', encoding='UTF-8')\n",
    "    text_list = [  ]\n",
    "    concated = \"\"\n",
    "    for i, line in enumerate( f.readlines() ):\n",
    "        concated += line.rstrip('\\n')\n",
    "        if (i+1) % batch_size == 0:\n",
    "            text_list.append(concated)\n",
    "            concated = \"\"\n",
    "    text_list.append(concated)\n",
    "    f.close()\n",
    "    return text_list"
   ]
  },
  {
   "cell_type": "code",
   "execution_count": 20,
   "metadata": {},
   "outputs": [
    {
     "name": "stdout",
     "output_type": "stream",
     "text": [
      "len of text_list : 18674\n"
     ]
    }
   ],
   "source": [
    "filename = \"../../corpus/wiki/wiki_normalized.txt\"\n",
    "filename = \"../../corpus/wiki/wiki_40b_train_normal.txt\"\n",
    "# filename = \"plain.txt\"\n",
    "all_list = read_file(filename, batch_size=100)\n",
    "print(\"len of text_list :\", len(all_list))"
   ]
  },
  {
   "cell_type": "code",
   "execution_count": 21,
   "metadata": {},
   "outputs": [],
   "source": [
    "all_utt = all_list[::10]"
   ]
  },
  {
   "cell_type": "code",
   "execution_count": 22,
   "metadata": {},
   "outputs": [],
   "source": [
    "case_frame = dict()"
   ]
  },
  {
   "cell_type": "code",
   "execution_count": 23,
   "metadata": {},
   "outputs": [
    {
     "data": {
      "text/plain": [
       "51.87222222222223"
      ]
     },
     "execution_count": 23,
     "metadata": {},
     "output_type": "execute_result"
    }
   ],
   "source": [
    "18674/6/60"
   ]
  },
  {
   "cell_type": "code",
   "execution_count": 24,
   "metadata": {},
   "outputs": [
    {
     "name": "stderr",
     "output_type": "stream",
     "text": [
      "  1%|          | 19/1868 [02:42<4:23:59,  8.57s/it]\n"
     ]
    },
    {
     "ename": "KeyboardInterrupt",
     "evalue": "",
     "output_type": "error",
     "traceback": [
      "\u001b[0;31m---------------------------------------------------------------------------\u001b[0m",
      "\u001b[0;31mKeyboardInterrupt\u001b[0m                         Traceback (most recent call last)",
      "\u001b[0;32m<ipython-input-24-3d3d99fa8d3c>\u001b[0m in \u001b[0;36m<module>\u001b[0;34m\u001b[0m\n\u001b[1;32m     13\u001b[0m                     \u001b[0mregister_triple\u001b[0m\u001b[0;34m(\u001b[0m\u001b[0mcase_frame\u001b[0m\u001b[0;34m,\u001b[0m \u001b[0mV\u001b[0m\u001b[0;34m,\u001b[0m \u001b[0mC\u001b[0m\u001b[0;34m,\u001b[0m \u001b[0mgroup\u001b[0m\u001b[0;34m)\u001b[0m\u001b[0;34m\u001b[0m\u001b[0;34m\u001b[0m\u001b[0m\n\u001b[1;32m     14\u001b[0m             \u001b[0;32melse\u001b[0m\u001b[0;34m:\u001b[0m\u001b[0;34m\u001b[0m\u001b[0;34m\u001b[0m\u001b[0m\n\u001b[0;32m---> 15\u001b[0;31m                 \u001b[0mgroup\u001b[0m \u001b[0;34m=\u001b[0m \u001b[0mclassify_word\u001b[0m\u001b[0;34m(\u001b[0m\u001b[0mnoun\u001b[0m\u001b[0;34m,\u001b[0m \u001b[0mmode\u001b[0m\u001b[0;34m=\u001b[0m\u001b[0;34m\"register\"\u001b[0m\u001b[0;34m)\u001b[0m\u001b[0;34m\u001b[0m\u001b[0;34m\u001b[0m\u001b[0m\n\u001b[0m\u001b[1;32m     16\u001b[0m                 \u001b[0;31m# ないなら登録するな\u001b[0m\u001b[0;34m\u001b[0m\u001b[0;34m\u001b[0m\u001b[0;34m\u001b[0m\u001b[0m\n\u001b[1;32m     17\u001b[0m                 \u001b[0;32mif\u001b[0m \u001b[0mgroup\u001b[0m \u001b[0;34m!=\u001b[0m \u001b[0;34m\"\"\u001b[0m\u001b[0;34m:\u001b[0m\u001b[0;34m\u001b[0m\u001b[0;34m\u001b[0m\u001b[0m\n",
      "\u001b[0;32m<ipython-input-10-faeec9399908>\u001b[0m in \u001b[0;36mclassify_word\u001b[0;34m(word, mode)\u001b[0m\n\u001b[1;32m      6\u001b[0m     \u001b[0;32mwith\u001b[0m \u001b[0mtorch\u001b[0m\u001b[0;34m.\u001b[0m\u001b[0mno_grad\u001b[0m\u001b[0;34m(\u001b[0m\u001b[0;34m)\u001b[0m\u001b[0;34m:\u001b[0m\u001b[0;34m\u001b[0m\u001b[0;34m\u001b[0m\u001b[0m\n\u001b[1;32m      7\u001b[0m         \u001b[0mvector\u001b[0m \u001b[0;34m=\u001b[0m \u001b[0mtorch\u001b[0m\u001b[0;34m.\u001b[0m\u001b[0mtensor\u001b[0m\u001b[0;34m(\u001b[0m\u001b[0;34m[\u001b[0m\u001b[0mw2v_model\u001b[0m\u001b[0;34m[\u001b[0m\u001b[0mword\u001b[0m\u001b[0;34m]\u001b[0m\u001b[0;34m]\u001b[0m\u001b[0;34m)\u001b[0m\u001b[0;34m.\u001b[0m\u001b[0mcuda\u001b[0m\u001b[0;34m(\u001b[0m\u001b[0;34m)\u001b[0m\u001b[0;34m\u001b[0m\u001b[0;34m\u001b[0m\u001b[0m\n\u001b[0;32m----> 8\u001b[0;31m         \u001b[0mpred\u001b[0m \u001b[0;34m=\u001b[0m \u001b[0mnp\u001b[0m\u001b[0;34m.\u001b[0m\u001b[0mexp\u001b[0m\u001b[0;34m(\u001b[0m\u001b[0mnp\u001b[0m\u001b[0;34m.\u001b[0m\u001b[0marray\u001b[0m\u001b[0;34m(\u001b[0m\u001b[0mcmodel\u001b[0m\u001b[0;34m(\u001b[0m\u001b[0mvector\u001b[0m\u001b[0;34m)\u001b[0m\u001b[0;34m.\u001b[0m\u001b[0mcpu\u001b[0m\u001b[0;34m(\u001b[0m\u001b[0;34m)\u001b[0m\u001b[0;34m)\u001b[0m\u001b[0;34m)\u001b[0m\u001b[0;34m\u001b[0m\u001b[0;34m\u001b[0m\u001b[0m\n\u001b[0m\u001b[1;32m      9\u001b[0m         \u001b[0mp_argmax\u001b[0m \u001b[0;34m=\u001b[0m \u001b[0mpred\u001b[0m\u001b[0;34m.\u001b[0m\u001b[0margmax\u001b[0m\u001b[0;34m(\u001b[0m\u001b[0;34m)\u001b[0m\u001b[0;34m\u001b[0m\u001b[0;34m\u001b[0m\u001b[0m\n\u001b[1;32m     10\u001b[0m         \u001b[0;31m# print(pred[0][p_argmax])\u001b[0m\u001b[0;34m\u001b[0m\u001b[0;34m\u001b[0m\u001b[0;34m\u001b[0m\u001b[0m\n",
      "\u001b[0;32m~/.local/lib/python3.6/site-packages/torch/nn/modules/module.py\u001b[0m in \u001b[0;36m_call_impl\u001b[0;34m(self, *input, **kwargs)\u001b[0m\n\u001b[1;32m    887\u001b[0m             \u001b[0mresult\u001b[0m \u001b[0;34m=\u001b[0m \u001b[0mself\u001b[0m\u001b[0;34m.\u001b[0m\u001b[0m_slow_forward\u001b[0m\u001b[0;34m(\u001b[0m\u001b[0;34m*\u001b[0m\u001b[0minput\u001b[0m\u001b[0;34m,\u001b[0m \u001b[0;34m**\u001b[0m\u001b[0mkwargs\u001b[0m\u001b[0;34m)\u001b[0m\u001b[0;34m\u001b[0m\u001b[0;34m\u001b[0m\u001b[0m\n\u001b[1;32m    888\u001b[0m         \u001b[0;32melse\u001b[0m\u001b[0;34m:\u001b[0m\u001b[0;34m\u001b[0m\u001b[0;34m\u001b[0m\u001b[0m\n\u001b[0;32m--> 889\u001b[0;31m             \u001b[0mresult\u001b[0m \u001b[0;34m=\u001b[0m \u001b[0mself\u001b[0m\u001b[0;34m.\u001b[0m\u001b[0mforward\u001b[0m\u001b[0;34m(\u001b[0m\u001b[0;34m*\u001b[0m\u001b[0minput\u001b[0m\u001b[0;34m,\u001b[0m \u001b[0;34m**\u001b[0m\u001b[0mkwargs\u001b[0m\u001b[0;34m)\u001b[0m\u001b[0;34m\u001b[0m\u001b[0;34m\u001b[0m\u001b[0m\n\u001b[0m\u001b[1;32m    890\u001b[0m         for hook in itertools.chain(\n\u001b[1;32m    891\u001b[0m                 \u001b[0m_global_forward_hooks\u001b[0m\u001b[0;34m.\u001b[0m\u001b[0mvalues\u001b[0m\u001b[0;34m(\u001b[0m\u001b[0;34m)\u001b[0m\u001b[0;34m,\u001b[0m\u001b[0;34m\u001b[0m\u001b[0;34m\u001b[0m\u001b[0m\n",
      "\u001b[0;32m<ipython-input-3-27c917e737b0>\u001b[0m in \u001b[0;36mforward\u001b[0;34m(self, x)\u001b[0m\n\u001b[1;32m     11\u001b[0m \u001b[0;34m\u001b[0m\u001b[0m\n\u001b[1;32m     12\u001b[0m     \u001b[0;32mdef\u001b[0m \u001b[0mforward\u001b[0m\u001b[0;34m(\u001b[0m\u001b[0mself\u001b[0m\u001b[0;34m,\u001b[0m \u001b[0mx\u001b[0m\u001b[0;34m)\u001b[0m\u001b[0;34m:\u001b[0m\u001b[0;34m\u001b[0m\u001b[0;34m\u001b[0m\u001b[0m\n\u001b[0;32m---> 13\u001b[0;31m         \u001b[0my\u001b[0m \u001b[0;34m=\u001b[0m \u001b[0mF\u001b[0m\u001b[0;34m.\u001b[0m\u001b[0mrelu\u001b[0m\u001b[0;34m(\u001b[0m\u001b[0mself\u001b[0m\u001b[0;34m.\u001b[0m\u001b[0mfc1\u001b[0m\u001b[0;34m(\u001b[0m\u001b[0mx\u001b[0m\u001b[0;34m)\u001b[0m\u001b[0;34m)\u001b[0m\u001b[0;34m\u001b[0m\u001b[0;34m\u001b[0m\u001b[0m\n\u001b[0m\u001b[1;32m     14\u001b[0m         \u001b[0my\u001b[0m \u001b[0;34m=\u001b[0m \u001b[0mF\u001b[0m\u001b[0;34m.\u001b[0m\u001b[0mrelu\u001b[0m\u001b[0;34m(\u001b[0m\u001b[0mself\u001b[0m\u001b[0;34m.\u001b[0m\u001b[0mfc2\u001b[0m\u001b[0;34m(\u001b[0m\u001b[0my\u001b[0m\u001b[0;34m)\u001b[0m\u001b[0;34m)\u001b[0m\u001b[0;34m\u001b[0m\u001b[0;34m\u001b[0m\u001b[0m\n\u001b[1;32m     15\u001b[0m         \u001b[0my\u001b[0m \u001b[0;34m=\u001b[0m \u001b[0mself\u001b[0m\u001b[0;34m.\u001b[0m\u001b[0mhidden2tag\u001b[0m\u001b[0;34m(\u001b[0m \u001b[0my\u001b[0m \u001b[0;34m)\u001b[0m\u001b[0;34m\u001b[0m\u001b[0;34m\u001b[0m\u001b[0m\n",
      "\u001b[0;32m~/.local/lib/python3.6/site-packages/torch/nn/modules/module.py\u001b[0m in \u001b[0;36m_call_impl\u001b[0;34m(self, *input, **kwargs)\u001b[0m\n\u001b[1;32m    887\u001b[0m             \u001b[0mresult\u001b[0m \u001b[0;34m=\u001b[0m \u001b[0mself\u001b[0m\u001b[0;34m.\u001b[0m\u001b[0m_slow_forward\u001b[0m\u001b[0;34m(\u001b[0m\u001b[0;34m*\u001b[0m\u001b[0minput\u001b[0m\u001b[0;34m,\u001b[0m \u001b[0;34m**\u001b[0m\u001b[0mkwargs\u001b[0m\u001b[0;34m)\u001b[0m\u001b[0;34m\u001b[0m\u001b[0;34m\u001b[0m\u001b[0m\n\u001b[1;32m    888\u001b[0m         \u001b[0;32melse\u001b[0m\u001b[0;34m:\u001b[0m\u001b[0;34m\u001b[0m\u001b[0;34m\u001b[0m\u001b[0m\n\u001b[0;32m--> 889\u001b[0;31m             \u001b[0mresult\u001b[0m \u001b[0;34m=\u001b[0m \u001b[0mself\u001b[0m\u001b[0;34m.\u001b[0m\u001b[0mforward\u001b[0m\u001b[0;34m(\u001b[0m\u001b[0;34m*\u001b[0m\u001b[0minput\u001b[0m\u001b[0;34m,\u001b[0m \u001b[0;34m**\u001b[0m\u001b[0mkwargs\u001b[0m\u001b[0;34m)\u001b[0m\u001b[0;34m\u001b[0m\u001b[0;34m\u001b[0m\u001b[0m\n\u001b[0m\u001b[1;32m    890\u001b[0m         for hook in itertools.chain(\n\u001b[1;32m    891\u001b[0m                 \u001b[0m_global_forward_hooks\u001b[0m\u001b[0;34m.\u001b[0m\u001b[0mvalues\u001b[0m\u001b[0;34m(\u001b[0m\u001b[0;34m)\u001b[0m\u001b[0;34m,\u001b[0m\u001b[0;34m\u001b[0m\u001b[0;34m\u001b[0m\u001b[0m\n",
      "\u001b[0;32m~/.local/lib/python3.6/site-packages/torch/nn/modules/linear.py\u001b[0m in \u001b[0;36mforward\u001b[0;34m(self, input)\u001b[0m\n\u001b[1;32m     92\u001b[0m \u001b[0;34m\u001b[0m\u001b[0m\n\u001b[1;32m     93\u001b[0m     \u001b[0;32mdef\u001b[0m \u001b[0mforward\u001b[0m\u001b[0;34m(\u001b[0m\u001b[0mself\u001b[0m\u001b[0;34m,\u001b[0m \u001b[0minput\u001b[0m\u001b[0;34m:\u001b[0m \u001b[0mTensor\u001b[0m\u001b[0;34m)\u001b[0m \u001b[0;34m->\u001b[0m \u001b[0mTensor\u001b[0m\u001b[0;34m:\u001b[0m\u001b[0;34m\u001b[0m\u001b[0;34m\u001b[0m\u001b[0m\n\u001b[0;32m---> 94\u001b[0;31m         \u001b[0;32mreturn\u001b[0m \u001b[0mF\u001b[0m\u001b[0;34m.\u001b[0m\u001b[0mlinear\u001b[0m\u001b[0;34m(\u001b[0m\u001b[0minput\u001b[0m\u001b[0;34m,\u001b[0m \u001b[0mself\u001b[0m\u001b[0;34m.\u001b[0m\u001b[0mweight\u001b[0m\u001b[0;34m,\u001b[0m \u001b[0mself\u001b[0m\u001b[0;34m.\u001b[0m\u001b[0mbias\u001b[0m\u001b[0;34m)\u001b[0m\u001b[0;34m\u001b[0m\u001b[0;34m\u001b[0m\u001b[0m\n\u001b[0m\u001b[1;32m     95\u001b[0m \u001b[0;34m\u001b[0m\u001b[0m\n\u001b[1;32m     96\u001b[0m     \u001b[0;32mdef\u001b[0m \u001b[0mextra_repr\u001b[0m\u001b[0;34m(\u001b[0m\u001b[0mself\u001b[0m\u001b[0;34m)\u001b[0m \u001b[0;34m->\u001b[0m \u001b[0mstr\u001b[0m\u001b[0;34m:\u001b[0m\u001b[0;34m\u001b[0m\u001b[0;34m\u001b[0m\u001b[0m\n",
      "\u001b[0;32m~/.local/lib/python3.6/site-packages/torch/nn/functional.py\u001b[0m in \u001b[0;36mlinear\u001b[0;34m(input, weight, bias)\u001b[0m\n\u001b[1;32m   1751\u001b[0m     \u001b[0;32mif\u001b[0m \u001b[0mhas_torch_function_variadic\u001b[0m\u001b[0;34m(\u001b[0m\u001b[0minput\u001b[0m\u001b[0;34m,\u001b[0m \u001b[0mweight\u001b[0m\u001b[0;34m)\u001b[0m\u001b[0;34m:\u001b[0m\u001b[0;34m\u001b[0m\u001b[0;34m\u001b[0m\u001b[0m\n\u001b[1;32m   1752\u001b[0m         \u001b[0;32mreturn\u001b[0m \u001b[0mhandle_torch_function\u001b[0m\u001b[0;34m(\u001b[0m\u001b[0mlinear\u001b[0m\u001b[0;34m,\u001b[0m \u001b[0;34m(\u001b[0m\u001b[0minput\u001b[0m\u001b[0;34m,\u001b[0m \u001b[0mweight\u001b[0m\u001b[0;34m)\u001b[0m\u001b[0;34m,\u001b[0m \u001b[0minput\u001b[0m\u001b[0;34m,\u001b[0m \u001b[0mweight\u001b[0m\u001b[0;34m,\u001b[0m \u001b[0mbias\u001b[0m\u001b[0;34m=\u001b[0m\u001b[0mbias\u001b[0m\u001b[0;34m)\u001b[0m\u001b[0;34m\u001b[0m\u001b[0;34m\u001b[0m\u001b[0m\n\u001b[0;32m-> 1753\u001b[0;31m     \u001b[0;32mreturn\u001b[0m \u001b[0mtorch\u001b[0m\u001b[0;34m.\u001b[0m\u001b[0m_C\u001b[0m\u001b[0;34m.\u001b[0m\u001b[0m_nn\u001b[0m\u001b[0;34m.\u001b[0m\u001b[0mlinear\u001b[0m\u001b[0;34m(\u001b[0m\u001b[0minput\u001b[0m\u001b[0;34m,\u001b[0m \u001b[0mweight\u001b[0m\u001b[0;34m,\u001b[0m \u001b[0mbias\u001b[0m\u001b[0;34m)\u001b[0m\u001b[0;34m\u001b[0m\u001b[0;34m\u001b[0m\u001b[0m\n\u001b[0m\u001b[1;32m   1754\u001b[0m \u001b[0;34m\u001b[0m\u001b[0m\n\u001b[1;32m   1755\u001b[0m \u001b[0;34m\u001b[0m\u001b[0m\n",
      "\u001b[0;31mKeyboardInterrupt\u001b[0m: "
     ]
    }
   ],
   "source": [
    "\n",
    "for utt in tqdm( all_utt ):\n",
    "    is_valid = True\n",
    "\n",
    "    triples = extract_RDF_triple(utt, clean_=False)\n",
    "    if len(triples)>0:\n",
    "        for triple in triples:\n",
    "            V = triple[0]\n",
    "            C = triple[1]\n",
    "            noun = triple[2]\n",
    "            group_ = search_word(noun)\n",
    "            if len(group_) > 0:\n",
    "                for group in group_:\n",
    "                    register_triple(case_frame, V, C, group)\n",
    "            else:\n",
    "                group = classify_word(noun, mode=\"register\")\n",
    "                # ないなら登録するな\n",
    "                if group != \"\":\n",
    "                    register_triple(case_frame, V, C, group)\n",
    "\n",
    "            register_triple(case_frame, V, C, noun)\n"
   ]
  },
  {
   "cell_type": "code",
   "execution_count": 25,
   "metadata": {},
   "outputs": [],
   "source": [
    "case_frame_name = \"case_frame_wiki40B_border={}.pickle\".format(classify_border)\n",
    "data_path = \"../X_y_data/utterance/\""
   ]
  },
  {
   "cell_type": "code",
   "execution_count": null,
   "metadata": {},
   "outputs": [
    {
     "name": "stdout",
     "output_type": "stream",
     "text": [
      "success save : ../X_y_data/utterance/case_frame_wiki40B_border=0.75.pickle\n"
     ]
    }
   ],
   "source": [
    "# dataM = DataManager(data_path)\n",
    "# dataM.save_data(case_frame_name, case_frame)"
   ]
  },
  {
   "cell_type": "code",
   "execution_count": 26,
   "metadata": {},
   "outputs": [
    {
     "name": "stdout",
     "output_type": "stream",
     "text": [
      "success load : ../X_y_data/utterance/case_frame_wiki40B_border=0.75.pickle\n"
     ]
    }
   ],
   "source": [
    "dataM = DataManager(data_path)\n",
    "case_frame = dataM.load_data(case_frame_name)"
   ]
  },
  {
   "cell_type": "code",
   "execution_count": 35,
   "metadata": {},
   "outputs": [],
   "source": [
    "def search_triple(V, C, N):\n",
    "    if N in case_frame[V][C]:\n",
    "        return True\n",
    "    else:\n",
    "        return False\n",
    "\n",
    "# True : 用法は問題ない\n",
    "# False : 問題あり\n",
    "def judge_triple(triple):\n",
    "    V = triple[0]\n",
    "    C = triple[1]\n",
    "    noun = triple[2]\n",
    "\n",
    "    # Vが登録されていないならパスしておくかな(一旦)\n",
    "    if V not in case_frame:\n",
    "        # print(\"not registered V :\", V)\n",
    "        return True\n",
    "    \n",
    "    # C が登録されていないなら，アウト\n",
    "    if C not in case_frame[V]:\n",
    "        print(\"not registered V, C :\", V, C)\n",
    "        return False\n",
    "    \n",
    "    # そのままの名詞で検索 -> 発見なら正例\n",
    "    if search_triple(V, C, noun):\n",
    "        return True\n",
    "\n",
    "    # 名詞がどこかのグループに属する\n",
    "    group_ = search_word(noun)\n",
    "    if len(group_) > 0:\n",
    "        # 1つでも引っかかればOK\n",
    "        for group in group_:\n",
    "            if search_triple(V, C, group):\n",
    "                return True\n",
    "        return False\n",
    "    # グループを推定\n",
    "    else:\n",
    "        group = classify_word(noun) \n",
    "        return search_triple(V, C, group)"
   ]
  },
  {
   "cell_type": "code",
   "execution_count": 36,
   "metadata": {},
   "outputs": [],
   "source": [
    "path = \"../eval_labeled/\"\n",
    "datalist = ['DCM', 'DIT', 'IRS']\n",
    "convs = read_conv(path, datalist)\n",
    "\n",
    "error = \"Semantic error\"\n",
    "sys_utt = []\n",
    "y = []\n",
    "for conv in convs:\n",
    "    for ut in conv:\n",
    "        if ut.is_system() and ut.is_exist_error():\n",
    "            sys_utt.append(ut.utt)\n",
    "            if ut.is_error_included(error):\n",
    "                y.append(1)\n",
    "            else:\n",
    "                y.append(0)"
   ]
  },
  {
   "cell_type": "code",
   "execution_count": 29,
   "metadata": {},
   "outputs": [
    {
     "name": "stderr",
     "output_type": "stream",
     "text": [
      "  1%|          | 15/1386 [00:00<00:19, 70.08it/s]"
     ]
    },
    {
     "name": "stdout",
     "output_type": "stream",
     "text": [
      "('生まれる', 'に', 'お兄さん')\n",
      "('見る', 'を', '好き')\n"
     ]
    },
    {
     "name": "stderr",
     "output_type": "stream",
     "text": [
      "  3%|▎         | 43/1386 [00:00<00:16, 81.53it/s]"
     ]
    },
    {
     "name": "stdout",
     "output_type": "stream",
     "text": [
      "('ほしい', 'が', '帽子')\n",
      "('大好き', 'が', '帽子')\n",
      "('得意', 'が', 'クロール')\n",
      "('泳ぐ', 'で', 'スイミング')\n",
      "('楽しい', 'が', 'スイミング')\n"
     ]
    },
    {
     "name": "stderr",
     "output_type": "stream",
     "text": [
      "  4%|▍         | 60/1386 [00:00<00:17, 74.03it/s]"
     ]
    },
    {
     "name": "stdout",
     "output_type": "stream",
     "text": [
      "('演奏', 'で', '御自分')\n",
      "('とれる', 'で', '言葉')\n",
      "('えらぶ', 'を', '服')\n",
      "('好き', 'が', '縁側')\n"
     ]
    },
    {
     "name": "stderr",
     "output_type": "stream",
     "text": [
      "  6%|▌         | 86/1386 [00:01<00:15, 82.72it/s]"
     ]
    },
    {
     "name": "stdout",
     "output_type": "stream",
     "text": [
      "('好き', 'が', '御菓子')\n",
      "('元気', 'が', '映画')\n"
     ]
    },
    {
     "name": "stderr",
     "output_type": "stream",
     "text": [
      "  8%|▊         | 114/1386 [00:01<00:16, 78.08it/s]"
     ]
    },
    {
     "name": "stdout",
     "output_type": "stream",
     "text": [
      "('いる', 'が', '外食')\n",
      "('怖い', 'が', '由紀恵')\n",
      "('美しい', 'が', '由紀恵')\n",
      "('平和', 'が', '南極')\n",
      "not registered V, C : 笑い で\n",
      "('笑い', 'で', '付き')\n"
     ]
    },
    {
     "name": "stderr",
     "output_type": "stream",
     "text": [
      " 10%|█         | 141/1386 [00:01<00:16, 76.53it/s]"
     ]
    },
    {
     "name": "stdout",
     "output_type": "stream",
     "text": [
      "('暑い', 'が', '暑い')\n",
      "('心配', 'が', '熱中症')\n"
     ]
    },
    {
     "name": "stderr",
     "output_type": "stream",
     "text": [
      " 12%|█▏        | 160/1386 [00:02<00:15, 79.09it/s]"
     ]
    },
    {
     "name": "stdout",
     "output_type": "stream",
     "text": [
      "('かっこいい', 'が', '汗')\n",
      "('おいしい', 'が', 'メニュー')\n"
     ]
    },
    {
     "name": "stderr",
     "output_type": "stream",
     "text": [
      " 13%|█▎        | 177/1386 [00:02<00:15, 75.97it/s]"
     ]
    },
    {
     "name": "stdout",
     "output_type": "stream",
     "text": [
      "('伺う', 'で', '所')\n",
      "('読める', 'で', 'スマホ')\n",
      "('いい', 'が', 'エネループ')\n",
      "('好き', 'で', '所')\n",
      "('うるさい', 'が', '選挙')\n"
     ]
    },
    {
     "name": "stderr",
     "output_type": "stream",
     "text": [
      " 14%|█▍        | 193/1386 [00:02<00:15, 75.70it/s]"
     ]
    },
    {
     "name": "stdout",
     "output_type": "stream",
     "text": [
      "('ほしい', 'が', '自動販売機')\n",
      "('大切', 'が', 'テレビ')\n",
      "('大好き', 'が', 'イタリア料理')\n",
      "('有名', 'で', 'イタリア料理')\n"
     ]
    },
    {
     "name": "stderr",
     "output_type": "stream",
     "text": [
      " 17%|█▋        | 229/1386 [00:02<00:14, 81.91it/s]"
     ]
    },
    {
     "name": "stdout",
     "output_type": "stream",
     "text": [
      "('おいしい', 'が', '炊き立て')\n",
      "('やめる', 'が', '夜')\n",
      "('面白い', 'が', 'スイカ')\n"
     ]
    },
    {
     "name": "stderr",
     "output_type": "stream",
     "text": [
      " 18%|█▊        | 248/1386 [00:03<00:13, 84.36it/s]"
     ]
    },
    {
     "name": "stdout",
     "output_type": "stream",
     "text": [
      "not registered V, C : 清楚 が\n",
      "('清楚', 'が', '見た目')\n",
      "('大好き', 'が', 'テレビ')\n",
      "('いい', 'が', 'シャープ')\n"
     ]
    },
    {
     "name": "stderr",
     "output_type": "stream",
     "text": [
      " 19%|█▉        | 267/1386 [00:03<00:12, 87.62it/s]"
     ]
    },
    {
     "name": "stdout",
     "output_type": "stream",
     "text": [
      "('目指す', 'を', '健康美')\n",
      "('食べる', 'が', '朝御飯')\n"
     ]
    },
    {
     "name": "stderr",
     "output_type": "stream",
     "text": [
      " 23%|██▎       | 313/1386 [00:03<00:13, 81.60it/s]"
     ]
    },
    {
     "name": "stdout",
     "output_type": "stream",
     "text": [
      "('大好き', 'が', 'チョコレート')\n",
      "('はまる', 'に', 'アイスクリーム')\n",
      "('うまい', 'が', 'スイカ')\n",
      "('美味しい', 'が', '尻尾')\n",
      "('美味しい', 'が', 'ねた')\n",
      "('仕入れる', 'を', 'ねた')\n"
     ]
    },
    {
     "name": "stderr",
     "output_type": "stream",
     "text": [
      " 24%|██▍       | 330/1386 [00:04<00:13, 77.57it/s]"
     ]
    },
    {
     "name": "stdout",
     "output_type": "stream",
     "text": [
      "('大切', 'で', '嗽')\n",
      "('大切', 'で', '嗽')\n",
      "('心掛ける', 'を', '予防')\n",
      "('重い', 'で', '寝不足')\n",
      "('痛い', 'で', '寝不足')\n"
     ]
    },
    {
     "name": "stderr",
     "output_type": "stream",
     "text": [
      " 25%|██▍       | 346/1386 [00:04<00:13, 77.54it/s]"
     ]
    },
    {
     "name": "stdout",
     "output_type": "stream",
     "text": [
      "('使える', 'で', 'ドコモ')\n",
      "('わかる', 'で', '逆子')\n",
      "not registered V, C : おもしろい に\n",
      "('おもしろい', 'に', '本当')\n",
      "('持つ', 'を', '御土産')\n",
      "('検索', 'を', '足')\n",
      "('恋しい', 'が', '天気')\n"
     ]
    },
    {
     "name": "stderr",
     "output_type": "stream",
     "text": [
      " 26%|██▋       | 364/1386 [00:04<00:12, 79.65it/s]"
     ]
    },
    {
     "name": "stdout",
     "output_type": "stream",
     "text": [
      "('怪しい', 'が', '天気')\n",
      "('見せる', 'に', 'メロン')\n"
     ]
    },
    {
     "name": "stderr",
     "output_type": "stream",
     "text": [
      " 29%|██▊       | 398/1386 [00:05<00:12, 77.63it/s]"
     ]
    },
    {
     "name": "stdout",
     "output_type": "stream",
     "text": [
      "('可憐', 'が', '花言葉')\n",
      "('特殊', 'が', '学校')\n",
      "('安全', 'が', '学校')\n",
      "('誕生', 'が', 'ななつ星')\n",
      "('大成功', 'が', '熊本県')\n",
      "('みつける', 'に', '夏')\n"
     ]
    },
    {
     "name": "stderr",
     "output_type": "stream",
     "text": [
      " 30%|███       | 420/1386 [00:05<00:17, 55.60it/s]"
     ]
    },
    {
     "name": "stdout",
     "output_type": "stream",
     "text": [
      "('連覇', 'で', 'アメリカ')\n",
      "('確認', 'が', '感染者')\n",
      "('美味しい', 'に', '本当')\n",
      "('行う', 'が', 'boon')\n",
      "('引っ越す', 'が', '和平')\n",
      "('検索', 'で', 'ダビンチ')\n"
     ]
    },
    {
     "name": "stderr",
     "output_type": "stream",
     "text": [
      " 31%|███       | 432/1386 [00:05<00:18, 50.49it/s]"
     ]
    },
    {
     "name": "stdout",
     "output_type": "stream",
     "text": [
      "('ある', 'が', '御店')\n",
      "('コーティング', 'が', '食材')\n",
      "('可愛らしい', 'が', '飴')\n",
      "not registered V, C : 健康的 で\n",
      "('健康的', 'で', '沖縄')\n",
      "('想像', 'を', '味')\n",
      "('する', 'で', '金団')\n"
     ]
    },
    {
     "name": "stderr",
     "output_type": "stream",
     "text": [
      " 32%|███▏      | 443/1386 [00:06<00:20, 45.30it/s]"
     ]
    },
    {
     "name": "stdout",
     "output_type": "stream",
     "text": [
      "('披露', 'が', 'ロボットニットデニムブーツカットパンツ')\n",
      "('会話', 'が', '選手権')\n",
      "('買う', 'に', '御土産')\n"
     ]
    },
    {
     "name": "stderr",
     "output_type": "stream",
     "text": [
      " 33%|███▎      | 453/1386 [00:06<00:20, 45.03it/s]"
     ]
    },
    {
     "name": "stdout",
     "output_type": "stream",
     "text": [
      "('大好き', 'が', 'チョコレートラテポッキーブレンド')\n",
      "('転げ落ちる', 'に', '末')\n",
      "('観戦', 'を', '保険')\n",
      "('買う', 'に', '御土産')\n",
      "('ある', 'が', '御店')\n"
     ]
    },
    {
     "name": "stderr",
     "output_type": "stream",
     "text": [
      " 33%|███▎      | 458/1386 [00:06<00:24, 38.65it/s]"
     ]
    },
    {
     "name": "stdout",
     "output_type": "stream",
     "text": [
      "('ささやく', 'に', '来年')\n",
      "('提供', 'で', 'マラソン')\n"
     ]
    },
    {
     "name": "stderr",
     "output_type": "stream",
     "text": [
      " 34%|███▍      | 473/1386 [00:06<00:21, 42.13it/s]"
     ]
    },
    {
     "name": "stdout",
     "output_type": "stream",
     "text": [
      "('イメージ', 'が', '歴史')\n",
      "('指導', 'で', '女房')\n"
     ]
    },
    {
     "name": "stderr",
     "output_type": "stream",
     "text": [
      " 35%|███▍      | 483/1386 [00:07<00:22, 39.68it/s]"
     ]
    },
    {
     "name": "stdout",
     "output_type": "stream",
     "text": [
      "('見る', 'を', 'お節料理')\n",
      "('召し上がる', 'を', 'さん')\n",
      "('添う', 'に', '地図')\n",
      "('連載', 'が', '保険')\n"
     ]
    },
    {
     "name": "stderr",
     "output_type": "stream",
     "text": [
      " 36%|███▌      | 493/1386 [00:07<00:22, 40.46it/s]"
     ]
    },
    {
     "name": "stdout",
     "output_type": "stream",
     "text": [
      "('食べる', 'を', 'リング')\n",
      "('視聴', 'が', '卵')\n",
      "('革新', 'が', '理由')\n"
     ]
    },
    {
     "name": "stderr",
     "output_type": "stream",
     "text": [
      " 36%|███▌      | 502/1386 [00:07<00:23, 36.97it/s]"
     ]
    },
    {
     "name": "stdout",
     "output_type": "stream",
     "text": [
      "('好き', 'が', '天下一品')\n",
      "('発売', 'が', 'ベニマル')\n",
      "('利用', 'で', 'ベニマル')\n"
     ]
    },
    {
     "name": "stderr",
     "output_type": "stream",
     "text": [
      " 37%|███▋      | 513/1386 [00:07<00:20, 42.25it/s]"
     ]
    },
    {
     "name": "stdout",
     "output_type": "stream",
     "text": [
      "('食べる', 'を', '刺し身')\n",
      "('驚愕', 'に', '寿司')\n",
      "('みる', 'を', '特集番組')\n"
     ]
    },
    {
     "name": "stderr",
     "output_type": "stream",
     "text": [
      " 38%|███▊      | 526/1386 [00:08<00:18, 47.52it/s]"
     ]
    },
    {
     "name": "stdout",
     "output_type": "stream",
     "text": [
      "('する', 'が', '結弦')\n",
      "('応援', 'を', '元気')\n",
      "('焼く', 'で', 'デギュスタシオン')\n",
      "('掛ける', 'が', 'デリ')\n",
      "('泊まる', 'に', '年末年始')\n",
      "('マッチ', 'に', '場合')\n"
     ]
    },
    {
     "name": "stderr",
     "output_type": "stream",
     "text": [
      " 39%|███▊      | 537/1386 [00:08<00:17, 48.30it/s]"
     ]
    },
    {
     "name": "stdout",
     "output_type": "stream",
     "text": [
      "('試す', 'を', 'スパイス')\n",
      "('好き', 'で', 'ラーメン')\n"
     ]
    },
    {
     "name": "stderr",
     "output_type": "stream",
     "text": [
      " 40%|███▉      | 552/1386 [00:08<00:18, 45.34it/s]"
     ]
    },
    {
     "name": "stdout",
     "output_type": "stream",
     "text": [
      "('高まる', 'に', '今後')\n"
     ]
    },
    {
     "name": "stderr",
     "output_type": "stream",
     "text": [
      " 41%|████      | 562/1386 [00:08<00:19, 42.93it/s]"
     ]
    },
    {
     "name": "stdout",
     "output_type": "stream",
     "text": [
      "('踊る', 'を', 'クッキー')\n",
      "('購入', 'で', 'イレブン')\n",
      "('美味しい', 'が', 'スナック')\n",
      "('利用', 'を', 'コピー機')\n"
     ]
    },
    {
     "name": "stderr",
     "output_type": "stream",
     "text": [
      " 41%|████▏     | 572/1386 [00:09<00:19, 42.63it/s]"
     ]
    },
    {
     "name": "stdout",
     "output_type": "stream",
     "text": [
      "('嬉しい', 'が', '組み合わせ')\n",
      "('誘う', 'を', '蝦煎')\n",
      "('なる', 'が', '蝦煎')\n"
     ]
    },
    {
     "name": "stderr",
     "output_type": "stream",
     "text": [
      " 42%|████▏     | 583/1386 [00:09<00:19, 41.32it/s]"
     ]
    },
    {
     "name": "stdout",
     "output_type": "stream",
     "text": [
      "('好き', 'が', '海豹')\n",
      "('泳ぐ', 'を', '水槽')\n"
     ]
    },
    {
     "name": "stderr",
     "output_type": "stream",
     "text": [
      " 42%|████▏     | 588/1386 [00:09<00:19, 40.63it/s]"
     ]
    },
    {
     "name": "stdout",
     "output_type": "stream",
     "text": [
      "('使う', 'を', '料理器具')\n",
      "('購入', 'で', 'グランプリ')\n",
      "('ある', 'が', '御店')\n",
      "('温める', 'を', 'スライスチーズ')\n"
     ]
    },
    {
     "name": "stderr",
     "output_type": "stream",
     "text": [
      " 43%|████▎     | 598/1386 [00:09<00:20, 39.18it/s]"
     ]
    },
    {
     "name": "stdout",
     "output_type": "stream",
     "text": [
      "('食べる', 'を', '味')\n",
      "('見かける', 'で', '棚')\n",
      "('コラボレーション', 'が', 'パステル')\n",
      "('思い出す', 'で', 'ソフトクリーム')\n",
      "('二人目', 'が', 'さん')\n"
     ]
    },
    {
     "name": "stderr",
     "output_type": "stream",
     "text": [
      " 44%|████▍     | 611/1386 [00:10<00:19, 38.89it/s]"
     ]
    },
    {
     "name": "stdout",
     "output_type": "stream",
     "text": [
      "('見る', 'を', '納豆')\n",
      "('きつい', 'で', '味')\n",
      "('観戦', 'を', '賞')\n",
      "('登場', 'で', 'akiba')\n"
     ]
    },
    {
     "name": "stderr",
     "output_type": "stream",
     "text": [
      " 45%|████▌     | 626/1386 [00:10<00:19, 38.55it/s]"
     ]
    },
    {
     "name": "stdout",
     "output_type": "stream",
     "text": [
      "('抑える', 'を', 'oriconstyle')\n",
      "('ノミネート', 'に', 'ゴーシーク')\n",
      "('無理', 'が', '優勝')\n"
     ]
    },
    {
     "name": "stderr",
     "output_type": "stream",
     "text": [
      " 46%|████▌     | 635/1386 [00:10<00:18, 39.81it/s]"
     ]
    },
    {
     "name": "stdout",
     "output_type": "stream",
     "text": [
      "('勝ち進む', 'が', 'ヤマザキ')\n",
      "('販売', 'が', '保険')\n",
      "('選ぶ', 'で', 'キティー')\n",
      "('販売', 'が', '雲月')\n",
      "('販売', 'が', '雲月')\n"
     ]
    },
    {
     "name": "stderr",
     "output_type": "stream",
     "text": [
      " 46%|████▋     | 644/1386 [00:10<00:20, 36.13it/s]"
     ]
    },
    {
     "name": "stdout",
     "output_type": "stream",
     "text": [
      "('観覧', 'に', '君')\n",
      "('行く', 'が', 'クリスマス')\n"
     ]
    },
    {
     "name": "stderr",
     "output_type": "stream",
     "text": [
      " 47%|████▋     | 653/1386 [00:11<00:19, 37.86it/s]"
     ]
    },
    {
     "name": "stdout",
     "output_type": "stream",
     "text": [
      "('食べる', 'に', '解釈')\n",
      "('活躍', 'で', '現時点')\n"
     ]
    },
    {
     "name": "stderr",
     "output_type": "stream",
     "text": [
      " 48%|████▊     | 668/1386 [00:11<00:16, 42.59it/s]"
     ]
    },
    {
     "name": "stdout",
     "output_type": "stream",
     "text": [
      "('外せる', 'が', '御店')\n",
      "('施す', 'が', '漆塗り')\n",
      "('アップ', 'に', '飛躍的')\n"
     ]
    },
    {
     "name": "stderr",
     "output_type": "stream",
     "text": [
      " 50%|████▉     | 690/1386 [00:11<00:13, 49.94it/s]"
     ]
    },
    {
     "name": "stdout",
     "output_type": "stream",
     "text": [
      "('多い', 'が', '御店')\n",
      "('魅力的', 'が', '見る')\n",
      "('ハマる', 'が', 'さん')\n",
      "('好き', 'が', 'リング')\n",
      "('おいしい', 'が', '方')\n",
      "('ある', 'が', 'ココロココ')\n",
      "('載せる', 'で', 'ココロココ')\n"
     ]
    },
    {
     "name": "stderr",
     "output_type": "stream",
     "text": [
      " 51%|█████     | 706/1386 [00:12<00:14, 45.81it/s]"
     ]
    },
    {
     "name": "stdout",
     "output_type": "stream",
     "text": [
      "('思い出す', 'で', '中止')\n",
      "('宣伝', 'が', 'パン')\n",
      "('始まる', 'で', '元気')\n",
      "('元気', 'が', '受け取り')\n"
     ]
    },
    {
     "name": "stderr",
     "output_type": "stream",
     "text": [
      " 52%|█████▏    | 716/1386 [00:12<00:14, 44.94it/s]"
     ]
    },
    {
     "name": "stdout",
     "output_type": "stream",
     "text": [
      "('渡り歩く', 'が', '選手')\n",
      "('見つける', 'で', 'ブラジル')\n",
      "('獲る', 'で', '若い')\n"
     ]
    },
    {
     "name": "stderr",
     "output_type": "stream",
     "text": [
      " 52%|█████▏    | 726/1386 [00:13<00:20, 31.43it/s]"
     ]
    },
    {
     "name": "stdout",
     "output_type": "stream",
     "text": [
      "('ない', 'で', 'イングレス')\n",
      "('買う', 'で', '島歌')\n",
      "('出場', 'に', '島歌')\n"
     ]
    },
    {
     "name": "stderr",
     "output_type": "stream",
     "text": [
      " 53%|█████▎    | 736/1386 [00:13<00:17, 36.95it/s]"
     ]
    },
    {
     "name": "stdout",
     "output_type": "stream",
     "text": [
      "('する', 'を', 'manzai')\n",
      "('買う', 'に', '御土産')\n",
      "('出場', 'が', '今年')\n",
      "('急上昇', 'が', '株')\n",
      "('残念', 'で', 'こと')\n"
     ]
    },
    {
     "name": "stderr",
     "output_type": "stream",
     "text": [
      " 54%|█████▍    | 752/1386 [00:13<00:14, 43.38it/s]"
     ]
    },
    {
     "name": "stdout",
     "output_type": "stream",
     "text": [
      "('美味しい', 'に', '本当')\n",
      "('アップロード', 'に', 'キャンデー')\n",
      "('発売', 'を', 'tweetbot')\n"
     ]
    },
    {
     "name": "stderr",
     "output_type": "stream",
     "text": [
      " 55%|█████▌    | 764/1386 [00:13<00:12, 48.13it/s]"
     ]
    },
    {
     "name": "stdout",
     "output_type": "stream",
     "text": [
      "('破れる', 'で', 'ワールドカップ')\n",
      "('好き', 'で', 'FC')\n",
      "('致命傷', 'に', '投手')\n"
     ]
    },
    {
     "name": "stderr",
     "output_type": "stream",
     "text": [
      " 56%|█████▋    | 781/1386 [00:14<00:12, 47.31it/s]"
     ]
    },
    {
     "name": "stdout",
     "output_type": "stream",
     "text": [
      "('望ましい', 'で', 'カップ')\n",
      "('指導', 'で', 'イチ')\n",
      "('伸ばせる', 'で', '御陰')\n"
     ]
    },
    {
     "name": "stderr",
     "output_type": "stream",
     "text": [
      " 57%|█████▋    | 791/1386 [00:14<00:13, 42.50it/s]"
     ]
    },
    {
     "name": "stdout",
     "output_type": "stream",
     "text": [
      "('大事', 'が', '信用')\n",
      "('アレンジ', 'を', 'マッサマンカレー')\n"
     ]
    },
    {
     "name": "stderr",
     "output_type": "stream",
     "text": [
      " 58%|█████▊    | 801/1386 [00:14<00:15, 37.42it/s]"
     ]
    },
    {
     "name": "stdout",
     "output_type": "stream",
     "text": [
      "('決める', 'に', '快挙')\n",
      "('売り切れる', 'で', '人気')\n"
     ]
    },
    {
     "name": "stderr",
     "output_type": "stream",
     "text": [
      " 58%|█████▊    | 810/1386 [00:14<00:14, 39.87it/s]"
     ]
    },
    {
     "name": "stdout",
     "output_type": "stream",
     "text": [
      "('発売', 'を', '歌謡祭')\n",
      "('歌う', 'が', 'フーズ')\n"
     ]
    },
    {
     "name": "stderr",
     "output_type": "stream",
     "text": [
      " 60%|█████▉    | 826/1386 [00:15<00:14, 39.66it/s]"
     ]
    },
    {
     "name": "stdout",
     "output_type": "stream",
     "text": [
      "('楽しめる', 'で', 'これ')\n",
      "('見かける', 'を', 'エピソード')\n",
      "('切り離す', 'を', '気持ち')\n"
     ]
    },
    {
     "name": "stderr",
     "output_type": "stream",
     "text": [
      " 60%|██████    | 837/1386 [00:15<00:12, 44.27it/s]"
     ]
    },
    {
     "name": "stdout",
     "output_type": "stream",
     "text": [
      "('食べる', 'を', '味')\n",
      "('大人気', 'が', '最近')\n",
      "('美味しい', 'に', '他')\n",
      "('コーティング', 'に', 'ポテトチップス')\n",
      "('トッピング', 'に', '卵')\n"
     ]
    },
    {
     "name": "stderr",
     "output_type": "stream",
     "text": [
      " 61%|██████    | 847/1386 [00:15<00:13, 40.22it/s]"
     ]
    },
    {
     "name": "stdout",
     "output_type": "stream",
     "text": [
      "('食べる', 'を', '蝦煎')\n",
      "('つく', 'で', 'ブラジル')\n",
      "('出店', 'が', '御店')\n"
     ]
    },
    {
     "name": "stderr",
     "output_type": "stream",
     "text": [
      " 62%|██████▏   | 857/1386 [00:16<00:12, 42.09it/s]"
     ]
    },
    {
     "name": "stdout",
     "output_type": "stream",
     "text": [
      "('優勝', 'が', '次回')\n",
      "('施す', 'が', '漆塗り')\n",
      "('有名', 'で', '肉饅')\n"
     ]
    },
    {
     "name": "stderr",
     "output_type": "stream",
     "text": [
      " 63%|██████▎   | 869/1386 [00:16<00:10, 48.01it/s]"
     ]
    },
    {
     "name": "stdout",
     "output_type": "stream",
     "text": [
      "('見る', 'を', 'ココロココ')\n",
      "('する', 'が', '啓江')\n",
      "('応援', 'を', 'letao')\n",
      "('開発', 'を', '試作品')\n"
     ]
    },
    {
     "name": "stderr",
     "output_type": "stream",
     "text": [
      " 63%|██████▎   | 879/1386 [00:16<00:11, 44.67it/s]"
     ]
    },
    {
     "name": "stdout",
     "output_type": "stream",
     "text": [
      "('読む', 'を', 'カンタビ')\n",
      "('実演', 'で', '番組')\n"
     ]
    },
    {
     "name": "stderr",
     "output_type": "stream",
     "text": [
      " 64%|██████▍   | 891/1386 [00:16<00:09, 50.36it/s]"
     ]
    },
    {
     "name": "stdout",
     "output_type": "stream",
     "text": [
      "('直撃', 'に', '今後')\n",
      "('続出', 'が', 'リピーター')\n",
      "('浸透', 'が', '乃逢')\n"
     ]
    },
    {
     "name": "stderr",
     "output_type": "stream",
     "text": [
      " 65%|██████▌   | 903/1386 [00:17<00:10, 46.85it/s]"
     ]
    },
    {
     "name": "stdout",
     "output_type": "stream",
     "text": [
      "('買う', 'で', 'パン')\n",
      "('観る', 'に', '他')\n",
      "('絡む', 'が', '蒟蒻')\n",
      "('休む', 'が', '今日')\n",
      "('ござる', 'に', '所')\n"
     ]
    },
    {
     "name": "stderr",
     "output_type": "stream",
     "text": [
      " 66%|██████▋   | 921/1386 [00:17<00:09, 48.84it/s]"
     ]
    },
    {
     "name": "stdout",
     "output_type": "stream",
     "text": [
      "('かかる', 'が', 'トッピング')\n",
      "('またがる', 'が', '町作り')\n",
      "('好き', 'で', 'ハンバーガー')\n"
     ]
    },
    {
     "name": "stderr",
     "output_type": "stream",
     "text": [
      " 67%|██████▋   | 931/1386 [00:17<00:09, 47.81it/s]"
     ]
    },
    {
     "name": "stdout",
     "output_type": "stream",
     "text": [
      "('シンプル', 'が', 'クッキー')\n",
      "not registered V, C : 恋 で\n",
      "('恋', 'で', '番組')\n",
      "('実演', 'で', '番組')\n"
     ]
    },
    {
     "name": "stderr",
     "output_type": "stream",
     "text": [
      " 69%|██████▊   | 952/1386 [00:17<00:07, 58.80it/s]"
     ]
    },
    {
     "name": "stdout",
     "output_type": "stream",
     "text": [
      "('消える', 'で', '代')\n",
      "('高い', 'が', '通行料金')\n"
     ]
    },
    {
     "name": "stderr",
     "output_type": "stream",
     "text": [
      " 71%|███████   | 985/1386 [00:18<00:05, 72.46it/s]"
     ]
    },
    {
     "name": "stdout",
     "output_type": "stream",
     "text": [
      "('汚れる', 'が', '部屋')\n"
     ]
    },
    {
     "name": "stderr",
     "output_type": "stream",
     "text": [
      " 73%|███████▎  | 1010/1386 [00:18<00:04, 76.25it/s]"
     ]
    },
    {
     "name": "stdout",
     "output_type": "stream",
     "text": [
      "('高い', 'が', '冬服')\n",
      "('いい', 'で', 'どっち')\n",
      "('おもしろい', 'が', '間')\n"
     ]
    },
    {
     "name": "stderr",
     "output_type": "stream",
     "text": [
      " 75%|███████▍  | 1034/1386 [00:19<00:04, 71.75it/s]"
     ]
    },
    {
     "name": "stdout",
     "output_type": "stream",
     "text": [
      "('整理', 'が', '上')\n",
      "('怪しい', 'が', '週間')\n"
     ]
    },
    {
     "name": "stderr",
     "output_type": "stream",
     "text": [
      " 76%|███████▌  | 1050/1386 [00:19<00:04, 72.37it/s]"
     ]
    },
    {
     "name": "stdout",
     "output_type": "stream",
     "text": [
      "('出せる', 'で', 'それ')\n",
      "('弾く', 'に', '他')\n",
      "('なる', 'に', 'お出掛け')\n",
      "('グッド', 'が', '今')\n",
      "('うろつく', 'で', '大須')\n",
      "('いける', 'に', '外')\n"
     ]
    },
    {
     "name": "stderr",
     "output_type": "stream",
     "text": [
      " 77%|███████▋  | 1066/1386 [00:19<00:04, 72.47it/s]"
     ]
    },
    {
     "name": "stdout",
     "output_type": "stream",
     "text": [
      "('おいしい', 'に', '割')\n",
      "('食べる', 'を', 'なに')\n",
      "('整理', 'が', '上')\n"
     ]
    },
    {
     "name": "stderr",
     "output_type": "stream",
     "text": [
      " 79%|███████▊  | 1091/1386 [00:19<00:04, 73.15it/s]"
     ]
    },
    {
     "name": "stdout",
     "output_type": "stream",
     "text": [
      "('撮る', 'を', '枚')\n",
      "('撮る', 'を', '枚')\n",
      "('特殊', 'が', '時')\n"
     ]
    },
    {
     "name": "stderr",
     "output_type": "stream",
     "text": [
      " 80%|███████▉  | 1107/1386 [00:20<00:04, 67.78it/s]"
     ]
    },
    {
     "name": "stdout",
     "output_type": "stream",
     "text": [
      "('苦手', 'が', '席')\n",
      "('装備', 'を', 'かっぱ')\n",
      "('気づく', 'で', '御陰')\n",
      "('暑い', 'が', 'ここ')\n",
      "('暑い', 'が', 'ここ')\n",
      "('きく', 'が', 'クーラー')\n"
     ]
    },
    {
     "name": "stderr",
     "output_type": "stream",
     "text": [
      " 82%|████████▏ | 1133/1386 [00:20<00:03, 75.93it/s]"
     ]
    },
    {
     "name": "stdout",
     "output_type": "stream",
     "text": [
      "('整理', 'が', '上')\n",
      "('確保', 'が', '踏み場')\n",
      "('粘る', 'が', '和布蕪')\n",
      "('のる', 'に', '上')\n"
     ]
    },
    {
     "name": "stderr",
     "output_type": "stream",
     "text": [
      " 83%|████████▎ | 1149/1386 [00:20<00:03, 75.06it/s]"
     ]
    },
    {
     "name": "stdout",
     "output_type": "stream",
     "text": [
      "('整理', 'が', '上')\n",
      "('利用', 'が', '目覚まし')\n",
      "('かわいそう', 'が', 'それ')\n",
      "('買い物', 'で', '携帯')\n"
     ]
    },
    {
     "name": "stderr",
     "output_type": "stream",
     "text": [
      " 84%|████████▍ | 1166/1386 [00:20<00:02, 79.17it/s]"
     ]
    },
    {
     "name": "stdout",
     "output_type": "stream",
     "text": [
      "('整理', 'が', '上')\n"
     ]
    },
    {
     "name": "stderr",
     "output_type": "stream",
     "text": [
      " 85%|████████▌ | 1183/1386 [00:20<00:02, 78.27it/s]"
     ]
    },
    {
     "name": "stdout",
     "output_type": "stream",
     "text": [
      "('聞く', 'が', '本当')\n",
      "('駄目', 'が', 'プール')\n",
      "('見習う', 'が', '所')\n"
     ]
    },
    {
     "name": "stderr",
     "output_type": "stream",
     "text": [
      " 87%|████████▋ | 1201/1386 [00:21<00:02, 79.21it/s]"
     ]
    },
    {
     "name": "stdout",
     "output_type": "stream",
     "text": [
      "('好き', 'が', '玄米茶')\n",
      "('かわいい', 'が', '犬')\n",
      "('なる', 'に', '猫好き')\n",
      "('入る', 'が', 'ペペロンチーノ')\n"
     ]
    },
    {
     "name": "stderr",
     "output_type": "stream",
     "text": [
      " 88%|████████▊ | 1218/1386 [00:21<00:02, 80.42it/s]"
     ]
    },
    {
     "name": "stdout",
     "output_type": "stream",
     "text": [
      "('好き', 'が', 'ダンク')\n",
      "('整理', 'が', '上')\n"
     ]
    },
    {
     "name": "stderr",
     "output_type": "stream",
     "text": [
      " 89%|████████▉ | 1236/1386 [00:21<00:01, 77.36it/s]"
     ]
    },
    {
     "name": "stdout",
     "output_type": "stream",
     "text": [
      "('高い', 'が', '冬服')\n",
      "('ある', 'が', 'あんなん')\n",
      "('すむ', 'で', '情報')\n",
      "('かっこいい', 'が', '人')\n"
     ]
    },
    {
     "name": "stderr",
     "output_type": "stream",
     "text": [
      " 91%|█████████ | 1260/1386 [00:22<00:01, 69.17it/s]"
     ]
    },
    {
     "name": "stdout",
     "output_type": "stream",
     "text": [
      "('観る', 'で', 'それ')\n",
      "('飲める', 'で', '何')\n"
     ]
    },
    {
     "name": "stderr",
     "output_type": "stream",
     "text": [
      " 92%|█████████▏| 1274/1386 [00:22<00:01, 61.57it/s]"
     ]
    },
    {
     "name": "stdout",
     "output_type": "stream",
     "text": [
      "('いく', 'に', '平日')\n",
      "('買う', 'に', '御店')\n"
     ]
    },
    {
     "name": "stderr",
     "output_type": "stream",
     "text": [
      " 93%|█████████▎| 1288/1386 [00:22<00:01, 63.65it/s]"
     ]
    },
    {
     "name": "stdout",
     "output_type": "stream",
     "text": [
      "('羨ましい', 'が', '人')\n",
      "('ゆでる', 'で', '鍋')\n",
      "('食える', 'が', 'ボール')\n"
     ]
    },
    {
     "name": "stderr",
     "output_type": "stream",
     "text": [
      " 95%|█████████▍| 1311/1386 [00:22<00:01, 69.66it/s]"
     ]
    },
    {
     "name": "stdout",
     "output_type": "stream",
     "text": [
      "('休める', 'に', '絶対')\n",
      "('同じ', 'で', '－')\n",
      "('勉強', 'が', '最近')\n",
      "('好き', 'が', 'ピンク')\n"
     ]
    },
    {
     "name": "stderr",
     "output_type": "stream",
     "text": [
      " 96%|█████████▋| 1336/1386 [00:23<00:00, 75.79it/s]"
     ]
    },
    {
     "name": "stdout",
     "output_type": "stream",
     "text": [
      "('ゆずる', 'を', '席')\n",
      "('好き', 'が', '玄米茶')\n",
      "('見る', 'を', 'アイアムレジェンド')\n",
      "('使いこなせる', 'で', '感じ')\n",
      "('思い出せる', 'が', '名前')\n"
     ]
    },
    {
     "name": "stderr",
     "output_type": "stream",
     "text": [
      " 98%|█████████▊| 1353/1386 [00:23<00:00, 78.07it/s]"
     ]
    },
    {
     "name": "stdout",
     "output_type": "stream",
     "text": [
      "('不便', 'が', '手汗')\n",
      "('高い', 'が', '冬服')\n",
      "('育つ', 'で', 'さん')\n"
     ]
    },
    {
     "name": "stderr",
     "output_type": "stream",
     "text": [
      " 99%|█████████▉| 1378/1386 [00:23<00:00, 77.21it/s]"
     ]
    },
    {
     "name": "stdout",
     "output_type": "stream",
     "text": [
      "('整理', 'が', '上')\n",
      "('確保', 'が', '踏み場')\n",
      "('整理', 'が', '上')\n",
      "('確保', 'が', '踏み場')\n",
      "('みかける', 'で', '図書館')\n"
     ]
    },
    {
     "name": "stderr",
     "output_type": "stream",
     "text": [
      "100%|██████████| 1386/1386 [00:23<00:00, 58.23it/s]"
     ]
    },
    {
     "name": "stdout",
     "output_type": "stream",
     "text": [
      "('経つ', 'に', 'たち')\n"
     ]
    },
    {
     "name": "stderr",
     "output_type": "stream",
     "text": [
      "\n"
     ]
    }
   ],
   "source": [
    "y_pred = []\n",
    "for utt in tqdm(sys_utt):\n",
    "    is_valid = True\n",
    "\n",
    "    triples = extract_RDF_triple(utt)\n",
    "    for triple in triples:\n",
    "        if not judge_triple(triple):\n",
    "            print(triple)\n",
    "            is_valid = False\n",
    "            break\n",
    "    if is_valid:\n",
    "        y_pred.append(0)\n",
    "    else:\n",
    "        y_pred.append(1)"
   ]
  },
  {
   "cell_type": "code",
   "execution_count": 30,
   "metadata": {},
   "outputs": [
    {
     "name": "stdout",
     "output_type": "stream",
     "text": [
      "confusion matrix = \n",
      " [[1089  289]\n",
      " [   6    2]]\n",
      "accuracy =  0.7871572871572872\n",
      "precision =  0.006872852233676976\n",
      "recall =  0.25\n",
      "f1 score =  0.013377926421404684\n"
     ]
    }
   ],
   "source": [
    "score(y, y_pred)"
   ]
  },
  {
   "cell_type": "code",
   "execution_count": 31,
   "metadata": {},
   "outputs": [
    {
     "name": "stdout",
     "output_type": "stream",
     "text": [
      "group <ヒト（数）>\n",
      "True\n"
     ]
    }
   ],
   "source": [
    "word = \"一人\"\n",
    "print(\"group \"+classify_word(word))\n",
    "print(word in w2v_model)"
   ]
  },
  {
   "cell_type": "code",
   "execution_count": 37,
   "metadata": {},
   "outputs": [
    {
     "data": {
      "text/plain": [
       "{'に': {'0',\n",
       "  '00',\n",
       "  '<お金（接尾辞）>',\n",
       "  '<イベント>',\n",
       "  '<ヒト>',\n",
       "  '<ヒト（役割）>',\n",
       "  '<ヒト（組織）>',\n",
       "  '<ヒト（要素）>',\n",
       "  '<位置>',\n",
       "  '<作業>',\n",
       "  '<傾向>',\n",
       "  '<副詞>',\n",
       "  '<単位>',\n",
       "  '<変化>',\n",
       "  '<学問>',\n",
       "  '<家具>',\n",
       "  '<建物>',\n",
       "  '<指示代名詞>',\n",
       "  '<敬称>',\n",
       "  '<数字>',\n",
       "  '<文字>',\n",
       "  '<文書>',\n",
       "  '<時期>',\n",
       "  '<時間（単位）>',\n",
       "  '<植物>',\n",
       "  '<機械>',\n",
       "  '<状況>',\n",
       "  '<管理行動>',\n",
       "  '<考え>',\n",
       "  '<複文>',\n",
       "  '<規則>',\n",
       "  '<量>',\n",
       "  'この頃',\n",
       "  'これ',\n",
       "  'ごと',\n",
       "  'つ',\n",
       "  'とも',\n",
       "  'アレン',\n",
       "  'カード',\n",
       "  'グレード',\n",
       "  'コンピュータ',\n",
       "  'コード',\n",
       "  'トランザクション',\n",
       "  'ドル',\n",
       "  'ハドソン',\n",
       "  '中心',\n",
       "  '代わり',\n",
       "  '以外',\n",
       "  '余',\n",
       "  '優子',\n",
       "  '刑法学',\n",
       "  '別',\n",
       "  '博物館',\n",
       "  '史',\n",
       "  '同時',\n",
       "  '坊',\n",
       "  '基礎',\n",
       "  '寺',\n",
       "  '年',\n",
       "  '形',\n",
       "  '後',\n",
       "  '悪影響',\n",
       "  '成立',\n",
       "  '手',\n",
       "  '支城',\n",
       "  '改正',\n",
       "  '方',\n",
       "  '本',\n",
       "  '東久宝寺',\n",
       "  '根拠',\n",
       "  '植民地',\n",
       "  '概念',\n",
       "  '次第',\n",
       "  '状',\n",
       "  '番号',\n",
       "  '種',\n",
       "  '簡体字',\n",
       "  '組織',\n",
       "  '英松',\n",
       "  '著書',\n",
       "  '解析',\n",
       "  '設計',\n",
       "  '連番',\n",
       "  '週',\n",
       "  '部'},\n",
       " 'が': {'<もの>',\n",
       "  '<イベント>',\n",
       "  '<スポーツ>',\n",
       "  '<ヒト>',\n",
       "  '<ヒト（役割）>',\n",
       "  '<ヒト（組織）>',\n",
       "  '<乗り物>',\n",
       "  '<作業>',\n",
       "  '<傾向>',\n",
       "  '<副詞>',\n",
       "  '<単位>',\n",
       "  '<場所>',\n",
       "  '<場所（接尾辞）>',\n",
       "  '<変化>',\n",
       "  '<存在・関係>',\n",
       "  '<建物>',\n",
       "  '<建物（接尾辞）>',\n",
       "  '<心理>',\n",
       "  '<敬称>',\n",
       "  '<文字>',\n",
       "  '<文書>',\n",
       "  '<時間（単位）>',\n",
       "  '<普遍語>',\n",
       "  '<状況>',\n",
       "  '<環境>',\n",
       "  '<管理行動>',\n",
       "  '<考え>',\n",
       "  '<複文>',\n",
       "  '<規則>',\n",
       "  '<量>',\n",
       "  '<音>',\n",
       "  '<頻度>',\n",
       "  'ATM',\n",
       "  'Greenfield',\n",
       "  'MAB',\n",
       "  'こと',\n",
       "  'この頃',\n",
       "  'カタログ',\n",
       "  'カード',\n",
       "  'コード',\n",
       "  'コーナー',\n",
       "  'サッカー協会',\n",
       "  'システム',\n",
       "  'ジューコフ',\n",
       "  'デリダ',\n",
       "  'パソコン',\n",
       "  'ペイン',\n",
       "  'ラインナップ',\n",
       "  'ロンバルドゥス',\n",
       "  '事務所',\n",
       "  '人員',\n",
       "  '今度',\n",
       "  '以降',\n",
       "  '体系',\n",
       "  '作品',\n",
       "  '全て',\n",
       "  '全域',\n",
       "  '内閣府',\n",
       "  '分類',\n",
       "  '動線',\n",
       "  '区域',\n",
       "  '南側',\n",
       "  '取組',\n",
       "  '史料',\n",
       "  '問題点',\n",
       "  '在任中',\n",
       "  '坊',\n",
       "  '大半',\n",
       "  '安中',\n",
       "  '寺',\n",
       "  '局',\n",
       "  '展開',\n",
       "  '年',\n",
       "  '年度',\n",
       "  '度',\n",
       "  '形',\n",
       "  '悪影響',\n",
       "  '情報',\n",
       "  '愛称',\n",
       "  '慣習',\n",
       "  '手技',\n",
       "  '改革',\n",
       "  '政府',\n",
       "  '方式',\n",
       "  '時代',\n",
       "  '最終的',\n",
       "  '本人',\n",
       "  '根拠',\n",
       "  '様式',\n",
       "  '次第',\n",
       "  '流路',\n",
       "  '点',\n",
       "  '王',\n",
       "  '王子谷',\n",
       "  '現在',\n",
       "  '番号',\n",
       "  '発着',\n",
       "  '知識',\n",
       "  '研究所',\n",
       "  '祏',\n",
       "  '等',\n",
       "  '簡体字',\n",
       "  '総督府',\n",
       "  '者',\n",
       "  '聡',\n",
       "  '著作',\n",
       "  '表現',\n",
       "  '設計',\n",
       "  '証言',\n",
       "  '語句',\n",
       "  '資本',\n",
       "  '路線',\n",
       "  '農地',\n",
       "  '通史',\n",
       "  '速度',\n",
       "  '逸文',\n",
       "  '部',\n",
       "  '部隊',\n",
       "  '野球',\n",
       "  '関係',\n",
       "  '隊',\n",
       "  '領土',\n",
       "  '類',\n",
       "  '類型'},\n",
       " 'を': {'<もの>',\n",
       "  '<イベント>',\n",
       "  '<ヒト>',\n",
       "  '<ヒト（役割）>',\n",
       "  '<ヒト（要素）>',\n",
       "  '<事業>',\n",
       "  '<作業>',\n",
       "  '<傾向>',\n",
       "  '<単位>',\n",
       "  '<場所>',\n",
       "  '<変化>',\n",
       "  '<存在・関係>',\n",
       "  '<学問>',\n",
       "  '<建物>',\n",
       "  '<心理>',\n",
       "  '<指示代名詞>',\n",
       "  '<敬称>',\n",
       "  '<文字>',\n",
       "  '<文書>',\n",
       "  '<時間表現>',\n",
       "  '<活動>',\n",
       "  '<状況>',\n",
       "  '<目的>',\n",
       "  '<管理行動>',\n",
       "  '<線>',\n",
       "  '<考え>',\n",
       "  '<複文>',\n",
       "  '<規則>',\n",
       "  '<視覚>',\n",
       "  '<言語>',\n",
       "  '<量>',\n",
       "  '<音>',\n",
       "  'これ',\n",
       "  'それ',\n",
       "  'ら',\n",
       "  'インスタンス',\n",
       "  'スケッチ',\n",
       "  'バグ',\n",
       "  'フラッシュ',\n",
       "  'ブランド',\n",
       "  'ポジション',\n",
       "  'マーケット',\n",
       "  '下書き',\n",
       "  '争点',\n",
       "  '事務',\n",
       "  '事業',\n",
       "  '事業者',\n",
       "  '事象',\n",
       "  '人物',\n",
       "  '仕様',\n",
       "  '仕組み',\n",
       "  '会話',\n",
       "  '伝承',\n",
       "  '体系',\n",
       "  '債務',\n",
       "  '全体',\n",
       "  '出来事',\n",
       "  '分類',\n",
       "  '力',\n",
       "  '動画',\n",
       "  '務',\n",
       "  '医',\n",
       "  '右折',\n",
       "  '問題',\n",
       "  '地点',\n",
       "  '大綱',\n",
       "  '姿',\n",
       "  '宅',\n",
       "  '実態',\n",
       "  '家伝',\n",
       "  '寺院',\n",
       "  '属州',\n",
       "  '工場',\n",
       "  '庁務',\n",
       "  '役割',\n",
       "  '性',\n",
       "  '情報',\n",
       "  '意見',\n",
       "  '文',\n",
       "  '文書',\n",
       "  '文法',\n",
       "  '方',\n",
       "  '曲',\n",
       "  '書類',\n",
       "  '本文',\n",
       "  '概念',\n",
       "  '流域',\n",
       "  '混乱',\n",
       "  '点',\n",
       "  '物理的',\n",
       "  '状況',\n",
       "  '用語',\n",
       "  '移動距離',\n",
       "  '種類',\n",
       "  '紙',\n",
       "  '経路',\n",
       "  '経験',\n",
       "  '総長',\n",
       "  '線',\n",
       "  '考え',\n",
       "  '脇筋',\n",
       "  '表記法',\n",
       "  '記憶',\n",
       "  '記述',\n",
       "  '設定',\n",
       "  '誤脱',\n",
       "  '説',\n",
       "  '談話',\n",
       "  '諸語',\n",
       "  '議論',\n",
       "  '財産',\n",
       "  '資料',\n",
       "  '身の回り',\n",
       "  '遺稿',\n",
       "  '部長',\n",
       "  '重複',\n",
       "  '銀',\n",
       "  '録',\n",
       "  '長',\n",
       "  '関係',\n",
       "  '領域',\n",
       "  '頭',\n",
       "  '題材',\n",
       "  '食器'},\n",
       " 'で': {'<イベント>',\n",
       "  '<ヒト>',\n",
       "  '<位置>',\n",
       "  '<傾向>',\n",
       "  '<副詞>',\n",
       "  '<場所>',\n",
       "  '<存在・関係>',\n",
       "  '<状況>',\n",
       "  '<管理行動>',\n",
       "  '<複文>',\n",
       "  'ここ',\n",
       "  'そこ',\n",
       "  '丁目',\n",
       "  '中',\n",
       "  '係数',\n",
       "  '名目',\n",
       "  '家族',\n",
       "  '市街化調整区域',\n",
       "  '形',\n",
       "  '改正',\n",
       "  '時点',\n",
       "  '次第',\n",
       "  '状況',\n",
       "  '現在',\n",
       "  '研究所',\n",
       "  '著作',\n",
       "  '証言',\n",
       "  '開業',\n",
       "  '関係'}}"
      ]
     },
     "execution_count": 37,
     "metadata": {},
     "output_type": "execute_result"
    }
   ],
   "source": [
    "case_frame[\"整理\"]"
   ]
  },
  {
   "cell_type": "markdown",
   "metadata": {},
   "source": [
    "- 学習データのみでやってみた\n",
    "\n",
    "        confusion matrix = \n",
    "        [[716 662]\n",
    "        [  1   7]]\n",
    "        accuracy =  0.5216450216450217\n",
    "        precision =  0.01046337817638266\n",
    "        recall =  0.875\n",
    "        f1 score =  0.020679468242245203\n",
    "\n",
    "    - 再現率は良い！"
   ]
  },
  {
   "cell_type": "code",
   "execution_count": 33,
   "metadata": {},
   "outputs": [],
   "source": [
    "def judge_triple(triple):\n",
    "    V = triple[0]\n",
    "    C = triple[1]\n",
    "    noun = triple[2]\n",
    "\n",
    "    # Vが登録されていないならパスしておくかな(一旦)\n",
    "    if V not in case_frame:\n",
    "        # print(\"not registered V :\", V)\n",
    "        return True\n",
    "    \n",
    "    # C が登録されていないなら，アウト\n",
    "    if C not in case_frame[V]:\n",
    "        # print(\"not registered V, C :\", V, C)\n",
    "        return False\n",
    "    \n",
    "    # そのままの名詞で検索 -> 発見なら正例\n",
    "    if search_triple(V, C, noun):\n",
    "        # print(\"\\tfound\", V, C, noun)\n",
    "        return True\n",
    "\n",
    "    # 名詞がどこかのグループに属する\n",
    "    group_ = search_word(noun)\n",
    "    if len(group_) > 0:\n",
    "        # 1つでも引っかかればOK\n",
    "        for group in group_:\n",
    "            if search_triple(V, C, group):\n",
    "                return True\n",
    "        return False\n",
    "    # グループを推定\n",
    "    else:\n",
    "        group = classify_word(noun) \n",
    "        return search_triple(V, C, group)"
   ]
  },
  {
   "cell_type": "markdown",
   "metadata": {},
   "source": []
  },
  {
   "cell_type": "code",
   "execution_count": 38,
   "metadata": {},
   "outputs": [
    {
     "name": "stdout",
     "output_type": "stream",
     "text": [
      "元気ですかは元気です\n",
      "--------\n",
      "好きだを見ますよねー\n",
      "('見る', 'を', '好き')\n",
      "False\n",
      "--------\n",
      "病院は治療を受けましょう\n",
      "('受ける', 'が', '病院')\n",
      "True\n",
      "('受ける', 'を', '治療')\n",
      "True\n",
      "--------\n",
      "好きだは好きですか。お寿司はエンガワが好きですね\n",
      "('好き', 'が', '縁側')\n",
      "False\n",
      "--------\n",
      "時期から資格を取りますねぇ\n",
      "('取る', 'を', '資格')\n",
      "True\n",
      "--------\n",
      "手を貯金に出しますねぇ\n",
      "('出す', 'を', '手')\n",
      "True\n",
      "('出す', 'に', '貯金')\n",
      "True\n",
      "--------\n",
      "ところで、テレビでテレビあるって言ってましたが、テレビは民主党支持が多いですね\n",
      "('ある', 'で', 'テレビ')\n",
      "True\n",
      "('言う', 'で', '所')\n",
      "True\n",
      "('多い', 'が', '支持')\n",
      "True\n",
      "--------\n",
      "旬ですねぇ。自分もオリンピック書いたし。\n",
      "--------\n"
     ]
    }
   ],
   "source": [
    "for yt, yp, utt in zip(y, y_pred, sys_utt):\n",
    "    if yt==1:\n",
    "        print(utt)\n",
    "        triples = extract_RDF_triple(utt)\n",
    "        for triple in triples:\n",
    "            print(triple)\n",
    "            print( judge_triple(triple) )\n",
    "        print(\"--------\")"
   ]
  },
  {
   "cell_type": "code",
   "execution_count": null,
   "metadata": {},
   "outputs": [],
   "source": []
  }
 ],
 "metadata": {
  "interpreter": {
   "hash": "31f2aee4e71d21fbe5cf8b01ff0e069b9275f58929596ceb00d14d90e3e16cd6"
  },
  "kernelspec": {
   "display_name": "Python 3.6.9 64-bit",
   "language": "python",
   "name": "python3"
  },
  "language_info": {
   "codemirror_mode": {
    "name": "ipython",
    "version": 3
   },
   "file_extension": ".py",
   "mimetype": "text/x-python",
   "name": "python",
   "nbconvert_exporter": "python",
   "pygments_lexer": "ipython3",
   "version": "3.6.9"
  },
  "orig_nbformat": 4
 },
 "nbformat": 4,
 "nbformat_minor": 2
}
