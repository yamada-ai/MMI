{
 "cells": [
  {
   "cell_type": "code",
   "execution_count": 1,
   "source": [
    "import json\n",
    "import os\n",
    "import pandas as pd\n",
    "import numpy as np\n",
    "from pathlib import Path\n",
    "import collections\n",
    "from sklearn.model_selection import train_test_split\n",
    "from sklearn import metrics"
   ],
   "outputs": [],
   "metadata": {}
  },
  {
   "cell_type": "code",
   "execution_count": 2,
   "source": [
    "import sys\n",
    "sys.dont_write_bytecode = True\n",
    "sys.path.append('../datatools')\n",
    "from maneger import DataManager\n",
    "from preproc import Preprocessor\n",
    "# from utterance.feature import Feature\n",
    "from feature import Feature"
   ],
   "outputs": [
    {
     "output_type": "stream",
     "name": "stderr",
     "text": [
      "/usr/lib/python3/dist-packages/requests/__init__.py:80: RequestsDependencyWarning: urllib3 (1.26.5) or chardet (3.0.4) doesn't match a supported version!\n",
      "  RequestsDependencyWarning)\n"
     ]
    }
   ],
   "metadata": {}
  },
  {
   "cell_type": "code",
   "execution_count": 3,
   "source": [
    "import spacy\n",
    "nlp = spacy.load('ja_ginza')\n",
    "emb_dim = nlp(\"形態素\").vector.shape[0]\n",
    "emb_dim"
   ],
   "outputs": [
    {
     "output_type": "execute_result",
     "data": {
      "text/plain": [
       "300"
      ]
     },
     "metadata": {},
     "execution_count": 3
    }
   ],
   "metadata": {}
  },
  {
   "cell_type": "code",
   "execution_count": 4,
   "source": [
    "def load_convs(path, filename):\n",
    "    with open(path+filename, \"r\") as f:\n",
    "        json_data = json.load(f)\n",
    "        # length = json_data[\"length\"]\n",
    "        convs = json_data[\"convs\"]\n",
    "    return convs"
   ],
   "outputs": [],
   "metadata": {}
  },
  {
   "cell_type": "code",
   "execution_count": 16,
   "source": [
    "pre = Preprocessor()\n",
    "F_path = \"../X_y_data/response/\"\n",
    "F_name = \"typeClassify_F2.dill\"\n",
    "featureM = DataManager(F_path, format_=\"dill\")\n",
    "\n",
    "Fe = featureM.load_data(F_name)\n",
    "Fe.set_preprocessor(pre)"
   ],
   "outputs": [
    {
     "output_type": "stream",
     "name": "stdout",
     "text": [
      "300\n",
      "success load : ../X_y_data/response/typeClassify_F2.dill\n"
     ]
    }
   ],
   "metadata": {}
  },
  {
   "cell_type": "code",
   "execution_count": 17,
   "source": [
    "model_path = \"../models/response/\"\n",
    "# model_name = \"typeClassify_M.pickle\"\n",
    "model_name = \"typeClassify_SVC.pickle\"\n",
    "modelM = DataManager(model_path)\n",
    "clf = modelM.load_data(model_name)"
   ],
   "outputs": [
    {
     "output_type": "stream",
     "name": "stdout",
     "text": [
      "success load : ../models/response/typeClassify_SVC.pickle\n"
     ]
    }
   ],
   "metadata": {}
  },
  {
   "cell_type": "code",
   "execution_count": 18,
   "source": [
    "cont_dir = \"continue/\"\n",
    "cont_path = \"../../corpus/nucc/\" + cont_dir\n",
    "length = 2\n",
    "filename = \"cont{0}.json\".format(length)"
   ],
   "outputs": [],
   "metadata": {}
  },
  {
   "cell_type": "code",
   "execution_count": 19,
   "source": [
    "convs = load_convs(cont_path, filename)"
   ],
   "outputs": [],
   "metadata": {}
  },
  {
   "cell_type": "code",
   "execution_count": 20,
   "source": [
    "X_str = [conv for data in convs for conv in data]"
   ],
   "outputs": [],
   "metadata": {}
  },
  {
   "cell_type": "code",
   "execution_count": 21,
   "source": [
    "X_str[:5]"
   ],
   "outputs": [
    {
     "output_type": "execute_result",
     "data": {
      "text/plain": [
       "[['こっからー、４０分で着けると思うけど。', 'ほんと。そうなんだ。'],\n",
       " ['ほんと。そうなんだ。', '着けんかったら、やばい。'],\n",
       " ['社会科の人。わかんない。', '社会科だね。たぶん。でもねー。'],\n",
       " ['社会科だね。たぶん。でもねー。', 'ほんとにやるのー？かなり流れてほしかったんだけど。'],\n",
       " ['だって土日でしょう、しかも。悲しーい。バイトに行きたいなあ。', '強制じゃないって。でも、それって半強制だよね。']]"
      ]
     },
     "metadata": {},
     "execution_count": 21
    }
   ],
   "metadata": {}
  },
  {
   "cell_type": "code",
   "execution_count": 22,
   "source": [
    "label_list = \"YN WH please proposal plain\".split()\n",
    "label_dict = dict( zip(label_list, range(len(label_list))) )"
   ],
   "outputs": [],
   "metadata": {}
  },
  {
   "cell_type": "code",
   "execution_count": 23,
   "source": [
    "def test_X(X_law:list, mode:str):\n",
    "\n",
    "    # X_f = Fe.featurization(X_u1)\n",
    "    # y_pred = LR.predict(X_f)\n",
    "    X_new = []\n",
    "    # for X, y in zip(X_law, y_pred):\n",
    "    #     if y == label_dict[mode]:\n",
    "    #         X_new.append(X)\n",
    "    for X in X_law:\n",
    "        f = Fe.featurization(X[0])\n",
    "        y = clf.predict(f.reshape(1,-1))\n",
    "        if y == label_dict[mode]:\n",
    "            X_new.append(X)\n",
    "    return X_new"
   ],
   "outputs": [],
   "metadata": {}
  },
  {
   "cell_type": "code",
   "execution_count": 24,
   "source": [
    "X_u1 = [ conv[0] for conv in X_str]"
   ],
   "outputs": [],
   "metadata": {}
  },
  {
   "cell_type": "code",
   "execution_count": 25,
   "source": [
    "X_u1[:5]"
   ],
   "outputs": [
    {
     "output_type": "execute_result",
     "data": {
      "text/plain": [
       "['こっからー、４０分で着けると思うけど。',\n",
       " 'ほんと。そうなんだ。',\n",
       " '社会科の人。わかんない。',\n",
       " '社会科だね。たぶん。でもねー。',\n",
       " 'だって土日でしょう、しかも。悲しーい。バイトに行きたいなあ。']"
      ]
     },
     "metadata": {},
     "execution_count": 25
    }
   ],
   "metadata": {}
  },
  {
   "cell_type": "code",
   "execution_count": 26,
   "source": [
    "X = test_X(X_str, mode=\"proposal\")"
   ],
   "outputs": [],
   "metadata": {}
  },
  {
   "cell_type": "code",
   "execution_count": 31,
   "source": [
    "len(X)"
   ],
   "outputs": [
    {
     "output_type": "execute_result",
     "data": {
      "text/plain": [
       "231"
      ]
     },
     "metadata": {},
     "execution_count": 31
    }
   ],
   "metadata": {}
  },
  {
   "cell_type": "code",
   "execution_count": 28,
   "source": [
    "X2 = test_X(X_str, mode=\"please\")"
   ],
   "outputs": [],
   "metadata": {}
  },
  {
   "cell_type": "code",
   "execution_count": 32,
   "source": [
    "len(X2)"
   ],
   "outputs": [
    {
     "output_type": "execute_result",
     "data": {
      "text/plain": [
       "35"
      ]
     },
     "metadata": {},
     "execution_count": 32
    }
   ],
   "metadata": {}
  },
  {
   "cell_type": "code",
   "execution_count": 33,
   "source": [
    "X_path = \"../X_y_data/response/\"\n",
    "X_name = \"nucc_Featulized.pickle\"\n",
    "XM = DataManager(X_path)"
   ],
   "outputs": [],
   "metadata": {}
  },
  {
   "cell_type": "code",
   "execution_count": 34,
   "source": [
    "X_f = [Fe.featurization(X_[0]) for X_ in X_str]"
   ],
   "outputs": [],
   "metadata": {}
  },
  {
   "cell_type": "code",
   "execution_count": 35,
   "source": [
    "XM.save_data(X_name, X_f)"
   ],
   "outputs": [
    {
     "output_type": "stream",
     "name": "stdout",
     "text": [
      "success save : ../X_y_data/response/nucc_Featulized.pickle\n"
     ]
    }
   ],
   "metadata": {}
  },
  {
   "cell_type": "code",
   "execution_count": 43,
   "source": [
    "def test_X2(X_law:list, Fs, mode:str):\n",
    "\n",
    "    # X_f = Fe.featurization(X_u1)\n",
    "    # y_pred = LR.predict(X_f)\n",
    "    X_new = []\n",
    "    # for X, y in zip(X_law, y_pred):\n",
    "    #     if y == label_dict[mode]:\n",
    "    #         X_new.append(X)\n",
    "    for f, X in zip(Fs, X_law):\n",
    "        # print(f)\n",
    "        y = clf.predict(f.reshape(1,-1))\n",
    "        if y == label_dict[mode]:\n",
    "            X_new.append(X)\n",
    "    return X_new"
   ],
   "outputs": [],
   "metadata": {}
  },
  {
   "cell_type": "code",
   "execution_count": 44,
   "source": [
    "X2_ = test_X2(X_str, X_f, mode=\"YN\")"
   ],
   "outputs": [],
   "metadata": {}
  },
  {
   "cell_type": "code",
   "execution_count": null,
   "source": [],
   "outputs": [],
   "metadata": {}
  }
 ],
 "metadata": {
  "orig_nbformat": 4,
  "language_info": {
   "name": "python",
   "version": "3.6.9",
   "mimetype": "text/x-python",
   "codemirror_mode": {
    "name": "ipython",
    "version": 3
   },
   "pygments_lexer": "ipython3",
   "nbconvert_exporter": "python",
   "file_extension": ".py"
  },
  "kernelspec": {
   "name": "python3",
   "display_name": "Python 3.6.9 64-bit"
  },
  "interpreter": {
   "hash": "31f2aee4e71d21fbe5cf8b01ff0e069b9275f58929596ceb00d14d90e3e16cd6"
  }
 },
 "nbformat": 4,
 "nbformat_minor": 2
}