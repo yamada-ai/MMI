{
 "cells": [
  {
   "cell_type": "code",
   "execution_count": 1,
   "metadata": {},
   "outputs": [],
   "source": [
    "import os\n",
    "import json\n",
    "import copy\n",
    "import numpy as np\n",
    "import pandas as pd\n",
    "from pathlib import Path"
   ]
  },
  {
   "cell_type": "code",
   "execution_count": 2,
   "metadata": {},
   "outputs": [],
   "source": [
    "import sys\n",
    "sys.dont_write_bytecode = True\n",
    "sys.path.append('../')"
   ]
  },
  {
   "cell_type": "code",
   "execution_count": 3,
   "metadata": {},
   "outputs": [
    {
     "name": "stderr",
     "output_type": "stream",
     "text": [
      "/usr/lib/python3/dist-packages/requests/__init__.py:80: RequestsDependencyWarning: urllib3 (1.26.5) or chardet (3.0.4) doesn't match a supported version!\n",
      "  RequestsDependencyWarning)\n"
     ]
    }
   ],
   "source": [
    "from datatools.analyzer import *"
   ]
  },
  {
   "cell_type": "code",
   "execution_count": 4,
   "metadata": {},
   "outputs": [],
   "source": [
    "path = \"../hand_labeled/\"\n",
    "datalist = ['DCM', 'DIT', 'IRS']\n",
    "error_types = ['Unclear intention', 'Wrong information',\n",
    " 'Ignore question', 'Topic transition error', \n",
    " 'Lack of information', 'Repetition', \n",
    " 'Contradiction', 'Self-contradiction',\n",
    "  'Lack of common sense', 'Semantic error',\n",
    "   'Grammatical error', 'Ignore proposal', \n",
    "   'Ignore offer', 'Lack of sociality', \n",
    "   'Uninterpretable', 'Ignore greeting', \n",
    "   'No-Err']"
   ]
  },
  {
   "cell_type": "code",
   "execution_count": 5,
   "metadata": {},
   "outputs": [],
   "source": [
    "convs = read_conv(path, datalist)"
   ]
  },
  {
   "cell_type": "code",
   "execution_count": 11,
   "metadata": {},
   "outputs": [
    {
     "name": "stdout",
     "output_type": "stream",
     "text": [
      "S: 海に行きませんか？\n",
      "U: いいですね。\n",
      "S: 岡崎慎司さんかジーコさんのどちらかの話題についてお話しませんか？\n",
      "U: ジーコさんでお願いします。\n",
      "S: 関西方面へ行かれることがありましたら。ぜひ関西のメロンパンの皮焼いちゃいましたをご覧になってみてください。\n",
      "U: はい、是非、見てみたいです。\n",
      "S: 何かお話しましょうか？\n",
      "U: 今日も暑いですね\n",
      "S: 浦沢直樹さんかリオネル・メッシさんのどちらかの話題についてお話しませんか？\n",
      "U: 漫画を読むのが好きなので浦沢直樹さんの話をしましょう\n",
      "S: 鶴の子 大粒納豆の作者浦沢直樹が描いた漫画で他に読んだものはありますか？ 。\n",
      "U: YAWARA!を読んだことがあります\n",
      "S: レイザーラモンRGさんか長谷部誠さんのどちらかの話題についてお話しませんか？\n",
      "U: サッカー好きなの？\n",
      "S: 一緒に夕食を食べに行きますか。\n",
      "U: それはお断り致します\n"
     ]
    }
   ],
   "source": [
    "error = \"Repetition\"\n",
    "type_ = \"提案\"\n",
    "\n",
    "y = []\n",
    "for conv in convs:\n",
    "    for i, ut in enumerate(conv):\n",
    "        if (i+1)==len(conv):\n",
    "            continue\n",
    "        if not ut.is_system():\n",
    "            continue\n",
    "        if ut.is_type_included(type_):\n",
    "            print(ut)\n",
    "            print(conv[i+1])"
   ]
  },
  {
   "cell_type": "code",
   "execution_count": null,
   "metadata": {},
   "outputs": [],
   "source": []
  }
 ],
 "metadata": {
  "interpreter": {
   "hash": "31f2aee4e71d21fbe5cf8b01ff0e069b9275f58929596ceb00d14d90e3e16cd6"
  },
  "kernelspec": {
   "display_name": "Python 3.6.9 64-bit",
   "name": "python3"
  },
  "language_info": {
   "codemirror_mode": {
    "name": "ipython",
    "version": 3
   },
   "file_extension": ".py",
   "mimetype": "text/x-python",
   "name": "python",
   "nbconvert_exporter": "python",
   "pygments_lexer": "ipython3",
   "version": "3.6.9"
  },
  "orig_nbformat": 4
 },
 "nbformat": 4,
 "nbformat_minor": 2
}
