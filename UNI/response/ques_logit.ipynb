{
 "cells": [
  {
   "cell_type": "code",
   "execution_count": 1,
   "metadata": {},
   "outputs": [],
   "source": [
    "from pathlib import Path\n",
    "import os\n",
    "import json\n",
    "import copy\n",
    "import numpy as np\n",
    "import pandas as pd\n",
    "from sklearn.linear_model import LogisticRegression\n",
    "from sklearn.model_selection import train_test_split\n",
    "from sklearn import metrics\n"
   ]
  },
  {
   "cell_type": "code",
   "execution_count": 2,
   "metadata": {},
   "outputs": [
    {
     "name": "stderr",
     "output_type": "stream",
     "text": [
      "/usr/lib/python3/dist-packages/requests/__init__.py:80: RequestsDependencyWarning: urllib3 (1.26.5) or chardet (3.0.4) doesn't match a supported version!\n",
      "  RequestsDependencyWarning)\n"
     ]
    }
   ],
   "source": [
    "# from ..tools.preprocess import Preprocessor\n",
    "import sys\n",
    "sys.dont_write_bytecode = True\n",
    "sys.path.append('../')\n",
    "from datatools.maneger import DataManager\n",
    "from datatools.preproc import Preprocessor\n",
    "# from utterance.feature import Feature\n",
    "from feature import Feature"
   ]
  },
  {
   "cell_type": "code",
   "execution_count": 3,
   "metadata": {},
   "outputs": [],
   "source": [
    "def json2data(path):\n",
    "    cols = [\"text\", \"label\", \"subLabel\"]\n",
    "    df = pd.DataFrame(index=[], columns=cols)\n",
    "    files = os.listdir(path)\n",
    "    for cop in files:\n",
    "        if \".\" not in cop:\n",
    "            continue\n",
    "        with open(path+cop, \"r\") as f:\n",
    "            json_data = json.load(f)\n",
    "            mode = cop.split(\".\")[0]\n",
    "            max_ = 300\n",
    "            for i, data in enumerate( json_data[mode] ) :\n",
    "                if i > max_:\n",
    "                    break\n",
    "                text = data[\"data\"]\n",
    "                label = data[\"label\"][0]\n",
    "                # if label == \"plain\":\n",
    "                #     break\n",
    "                subLabel = \"\"\n",
    "                df = df.append(pd.DataFrame([text, label, subLabel], index = cols).T)\n",
    "    df.reset_index(inplace=True, drop=True)\n",
    "    return df"
   ]
  },
  {
   "cell_type": "code",
   "execution_count": 4,
   "metadata": {},
   "outputs": [],
   "source": [
    "label_list = \"YN WH please proposal plain\".split()\n",
    "label_dict = dict( zip(label_list, range(len(label_list))) )\n",
    "\n",
    "def extract_X_y(df):\n",
    "    X = []\n",
    "    y = []\n",
    "    for te, la in zip(df.text, df.label):\n",
    "        X.append(te)\n",
    "        # if la == \"WH\":\n",
    "        #     y.append(0)\n",
    "        # else:\n",
    "        #     y.append(label_dict[la])\n",
    "        y.append(label_dict[la])\n",
    "    return X, y\n",
    "    "
   ]
  },
  {
   "cell_type": "code",
   "execution_count": 5,
   "metadata": {},
   "outputs": [
    {
     "data": {
      "text/plain": [
       "'../../corpus/question/'"
      ]
     },
     "execution_count": 5,
     "metadata": {},
     "output_type": "execute_result"
    }
   ],
   "source": [
    "corpus_root = \"../../corpus\"\n",
    "# name = \"question/short\"\n",
    "name = \"question\"\n",
    "data_path = \"/\".join([corpus_root, name]) + \"/\"\n",
    "data_path"
   ]
  },
  {
   "cell_type": "code",
   "execution_count": 6,
   "metadata": {},
   "outputs": [
    {
     "data": {
      "text/html": [
       "<div>\n",
       "<style scoped>\n",
       "    .dataframe tbody tr th:only-of-type {\n",
       "        vertical-align: middle;\n",
       "    }\n",
       "\n",
       "    .dataframe tbody tr th {\n",
       "        vertical-align: top;\n",
       "    }\n",
       "\n",
       "    .dataframe thead th {\n",
       "        text-align: right;\n",
       "    }\n",
       "</style>\n",
       "<table border=\"1\" class=\"dataframe\">\n",
       "  <thead>\n",
       "    <tr style=\"text-align: right;\">\n",
       "      <th></th>\n",
       "      <th>text</th>\n",
       "      <th>label</th>\n",
       "      <th>subLabel</th>\n",
       "    </tr>\n",
       "  </thead>\n",
       "  <tbody>\n",
       "    <tr>\n",
       "      <th>0</th>\n",
       "      <td>メニューを見せていただけますか？</td>\n",
       "      <td>please</td>\n",
       "      <td></td>\n",
       "    </tr>\n",
       "    <tr>\n",
       "      <th>1</th>\n",
       "      <td>おいでいただけますか？</td>\n",
       "      <td>please</td>\n",
       "      <td></td>\n",
       "    </tr>\n",
       "    <tr>\n",
       "      <th>2</th>\n",
       "      <td>マッシュポテトをもらえますか？</td>\n",
       "      <td>please</td>\n",
       "      <td></td>\n",
       "    </tr>\n",
       "    <tr>\n",
       "      <th>3</th>\n",
       "      <td>伝言を預かっていただけますか？</td>\n",
       "      <td>please</td>\n",
       "      <td></td>\n",
       "    </tr>\n",
       "    <tr>\n",
       "      <th>4</th>\n",
       "      <td>ご一緒しませんか？</td>\n",
       "      <td>please</td>\n",
       "      <td></td>\n",
       "    </tr>\n",
       "    <tr>\n",
       "      <th>...</th>\n",
       "      <td>...</td>\n",
       "      <td>...</td>\n",
       "      <td>...</td>\n",
       "    </tr>\n",
       "    <tr>\n",
       "      <th>1236</th>\n",
       "      <td>メンバーになりたいかい？</td>\n",
       "      <td>YN</td>\n",
       "      <td></td>\n",
       "    </tr>\n",
       "    <tr>\n",
       "      <th>1237</th>\n",
       "      <td>明日スタートなさいますか？</td>\n",
       "      <td>YN</td>\n",
       "      <td></td>\n",
       "    </tr>\n",
       "    <tr>\n",
       "      <th>1238</th>\n",
       "      <td>トレイがいりますか？</td>\n",
       "      <td>YN</td>\n",
       "      <td></td>\n",
       "    </tr>\n",
       "    <tr>\n",
       "      <th>1239</th>\n",
       "      <td>2階も見たいですか？</td>\n",
       "      <td>YN</td>\n",
       "      <td></td>\n",
       "    </tr>\n",
       "    <tr>\n",
       "      <th>1240</th>\n",
       "      <td>なでてみたい？</td>\n",
       "      <td>YN</td>\n",
       "      <td></td>\n",
       "    </tr>\n",
       "  </tbody>\n",
       "</table>\n",
       "<p>1241 rows × 3 columns</p>\n",
       "</div>"
      ],
      "text/plain": [
       "                  text   label subLabel\n",
       "0     メニューを見せていただけますか？  please         \n",
       "1          おいでいただけますか？  please         \n",
       "2      マッシュポテトをもらえますか？  please         \n",
       "3      伝言を預かっていただけますか？  please         \n",
       "4            ご一緒しませんか？  please         \n",
       "...                ...     ...      ...\n",
       "1236      メンバーになりたいかい？      YN         \n",
       "1237     明日スタートなさいますか？      YN         \n",
       "1238        トレイがいりますか？      YN         \n",
       "1239        2階も見たいですか？      YN         \n",
       "1240           なでてみたい？      YN         \n",
       "\n",
       "[1241 rows x 3 columns]"
      ]
     },
     "execution_count": 6,
     "metadata": {},
     "output_type": "execute_result"
    }
   ],
   "source": [
    "df = json2data(data_path)\n",
    "df\n"
   ]
  },
  {
   "cell_type": "code",
   "execution_count": 7,
   "metadata": {},
   "outputs": [],
   "source": [
    "X, y = extract_X_y(df)"
   ]
  },
  {
   "cell_type": "code",
   "execution_count": 8,
   "metadata": {},
   "outputs": [],
   "source": [
    "X_train_str, X_test_str, y_train, y_test = train_test_split(X, y, test_size=0.30, random_state=5)"
   ]
  },
  {
   "cell_type": "code",
   "execution_count": 11,
   "metadata": {},
   "outputs": [
    {
     "name": "stdout",
     "output_type": "stream",
     "text": [
      "300\n"
     ]
    }
   ],
   "source": [
    "F_path = \"../X_y_data/response/\"\n",
    "F_name = \"typeClassify_F2.pickle\"\n",
    "featureM = DataManager(F_path)\n",
    "\n",
    "# if featureM.is_exist(F_name):\n",
    "#     F = featureM.load_data(F_name)\n",
    "# else:\n",
    "#     F = Feature()\n",
    "#     F.make_features(X_train_str)\n",
    "#     featureM.save_data(F_name, F)\n",
    "\n",
    "F = Feature()\n",
    "F.set_preprocessor(Preprocessor())\n",
    "F.make_features(X_train_str)\n",
    "# featureM.save_data(F_name, F)\n"
   ]
  },
  {
   "cell_type": "code",
   "execution_count": 12,
   "metadata": {},
   "outputs": [
    {
     "name": "stdout",
     "output_type": "stream",
     "text": [
      "success save : ../X_y_data/response/typeClassify_F2.pickle\n"
     ]
    }
   ],
   "source": [
    "featureM.save_data(F_name, F)"
   ]
  },
  {
   "cell_type": "code",
   "execution_count": 13,
   "metadata": {},
   "outputs": [
    {
     "name": "stdout",
     "output_type": "stream",
     "text": [
      "11491\n"
     ]
    }
   ],
   "source": [
    "print(F.feature_num)\n",
    "X_train = []\n",
    "X_test = []\n",
    "for i, x_t_str in enumerate( X_train_str ):\n",
    "    x = F.featurization(x_t_str)\n",
    "    X_train.append(x)\n",
    "for i, x_t_str in enumerate( X_test_str ):\n",
    "    x = F.featurization(x_t_str)\n",
    "    X_test.append(x)\n",
    "X_train = np.array(X_train)\n",
    "X_test = np.array(X_test)"
   ]
  },
  {
   "cell_type": "code",
   "execution_count": 14,
   "metadata": {},
   "outputs": [
    {
     "data": {
      "text/plain": [
       "LogisticRegression(max_iter=10000, solver='sag')"
      ]
     },
     "execution_count": 14,
     "metadata": {},
     "output_type": "execute_result"
    }
   ],
   "source": [
    "lr = LogisticRegression(solver='sag', max_iter=10000)\n",
    "lr.fit(X_train, y_train)"
   ]
  },
  {
   "cell_type": "code",
   "execution_count": 15,
   "metadata": {},
   "outputs": [],
   "source": [
    "y_pred = lr.predict(X_test)"
   ]
  },
  {
   "cell_type": "code",
   "execution_count": null,
   "metadata": {},
   "outputs": [],
   "source": []
  },
  {
   "cell_type": "code",
   "execution_count": 16,
   "metadata": {},
   "outputs": [
    {
     "name": "stdout",
     "output_type": "stream",
     "text": [
      "{'YN': 0, 'WH': 1, 'please': 2, 'proposal': 3, 'plain': 4}\n",
      "1 : お名前は何とおっしゃいますか？\n",
      "4 : 先週いっしょにつくったでしょ。\n",
      "3 : 同じ美容院へ行ったらどう、お父さん?\n",
      "2 : 本題に入ってくれないか？\n",
      "2 : 日曜日に、映画にごいっしょしていただけますか？\n",
      "3 : 青森にいるあなたのお兄さんのヒデキを訪ねるのはどうかしら？\n",
      "0 : これって本当にあなたなの？\n",
      "3 : 日本語を習ってみたら？\n",
      "4 : 申し訳ないけど、知りませんね。\n",
      "0 : ぼくといっしょに取り組まないか？\n",
      "0 : そんなことが信じられるだろうか？\n",
      "1 : エミ叔母ちゃんは何時に来る予定なの？\n",
      "4 : カイはすごく欲しかったんだ。\n",
      "0 : もう質問は終わったかい？\n",
      "2 : それはどんなものだったのか私に説明してもらえますか？\n",
      "3 : 私といっしょに食卓の用意をしてくれない？\n",
      "3 : チケットを取りましょうか？\n",
      "3 : いっしょに散歩に出かけましょうか？\n",
      "2 : 皆さんに自己紹介をお願いできますか？\n",
      "0 : そこにはゲームセンターはある？\n",
      "3 : 「さあ入って、パーティーはちょうど始まるところ。コートを預かりましょうか？」\n",
      "0 : こちらに座りましょうか？\n",
      "4 : わたしの家で課題をしましょうよ。\n",
      "2 : 伝言を預かっていただけますか？\n",
      "0 : よく眠れた？\n",
      "4 : どうしてロボコーパスが戦わなくちゃいけないんだ？\n",
      "0 : 写真をとることはできるかな？\n",
      "0 : 質問してもいいですか？\n",
      "4 : ７月25日だよ。\n",
      "3 : 日本の古い怪談映画の特別プログラムを上映しない？\n"
     ]
    }
   ],
   "source": [
    "print(label_dict)\n",
    "for y_p, x_s in zip(y_pred[:30], X_test_str[:30]):\n",
    "    print(\"{0} : {1}\".format(y_p, x_s))"
   ]
  },
  {
   "cell_type": "code",
   "execution_count": 17,
   "metadata": {},
   "outputs": [
    {
     "name": "stdout",
     "output_type": "stream",
     "text": [
      "confusion matrix = \n",
      " [[65  5  8  9  4]\n",
      " [ 6 15  0  5  5]\n",
      " [ 7  0 46  5  2]\n",
      " [ 8  2 10 79  2]\n",
      " [ 3  0  1  2 84]]\n",
      "accuracy =  0.774798927613941\n"
     ]
    }
   ],
   "source": [
    "from sklearn.metrics import confusion_matrix, accuracy_score, precision_score, recall_score, f1_score\n",
    "print('confusion matrix = \\n', confusion_matrix(y_true=y_test, y_pred=y_pred))\n",
    "print('accuracy = ', accuracy_score(y_true=y_test, y_pred=y_pred))\n",
    "# print('precision = ', precision_score(y_true=y_test, y_pred=y_pred))\n",
    "# print('recall = ', recall_score(y_true=y_test, y_pred=y_pred))\n",
    "# print('f1 score = ', f1_score(y_true=y_test, y_pred=y_pred))"
   ]
  },
  {
   "cell_type": "code",
   "execution_count": 18,
   "metadata": {},
   "outputs": [],
   "source": [
    "from sklearn.ensemble import AdaBoostClassifier\n",
    "clf = AdaBoostClassifier()\n"
   ]
  },
  {
   "cell_type": "code",
   "execution_count": 19,
   "metadata": {},
   "outputs": [
    {
     "name": "stdout",
     "output_type": "stream",
     "text": [
      "typeClassify_M.pickle\n"
     ]
    }
   ],
   "source": [
    "model_path = \"../models/response/\"\n",
    "model_name = \"typeClassify_M.pickle\"\n",
    "modelM = DataManager(model_path)\n",
    "print(model_name)"
   ]
  },
  {
   "cell_type": "code",
   "execution_count": 20,
   "metadata": {},
   "outputs": [
    {
     "name": "stdout",
     "output_type": "stream",
     "text": [
      "success save : ../models/response/typeClassify_M.pickle\n"
     ]
    }
   ],
   "source": [
    "modelM.save_data(model_name, lr)"
   ]
  },
  {
   "cell_type": "code",
   "execution_count": 21,
   "metadata": {},
   "outputs": [],
   "source": [
    "# accuracy =  0.7913907284768212\n",
    "# accuracy =  0.8326446280991735\n",
    "# accuracy =  0.8367768595041323"
   ]
  },
  {
   "cell_type": "code",
   "execution_count": 22,
   "metadata": {},
   "outputs": [],
   "source": [
    "# F2_path = \"../X_y_data/response/\"\n",
    "# F2_name = \"typeClassify_F2.dill\"\n",
    "# featureM2 = DataManager(F2_path, format_=\"dill\")\n",
    "\n",
    "# F2 = Feature()\n",
    "# # F2.make_features(X_train_str[:3])\n",
    "# featureM2.save_data(F2_name, F2)"
   ]
  },
  {
   "cell_type": "code",
   "execution_count": 23,
   "metadata": {},
   "outputs": [
    {
     "ename": "NameError",
     "evalue": "name 'F2' is not defined",
     "output_type": "error",
     "traceback": [
      "\u001b[0;31m---------------------------------------------------------------------------\u001b[0m",
      "\u001b[0;31mNameError\u001b[0m                                 Traceback (most recent call last)",
      "\u001b[0;32m<ipython-input-23-0261a63548d0>\u001b[0m in \u001b[0;36m<module>\u001b[0;34m\u001b[0m\n\u001b[0;32m----> 1\u001b[0;31m \u001b[0mF2\u001b[0m\u001b[0;34m.\u001b[0m\u001b[0mfeaturization\u001b[0m\u001b[0;34m(\u001b[0m\u001b[0;34m\"そうですね．最近熱いですから\"\u001b[0m\u001b[0;34m)\u001b[0m\u001b[0;34m\u001b[0m\u001b[0;34m\u001b[0m\u001b[0m\n\u001b[0m",
      "\u001b[0;31mNameError\u001b[0m: name 'F2' is not defined"
     ]
    }
   ],
   "source": [
    "F2.featurization(\"そうですね．最近熱いですから\")"
   ]
  },
  {
   "cell_type": "code",
   "execution_count": null,
   "metadata": {},
   "outputs": [],
   "source": [
    "# from pyknp import Juman\n",
    "# from sentence_transformers import SentenceTransformer\n",
    "# import scipy.spatial\n",
    "# model_path = \"/home/yamada/Downloads/training_bert_japanese\"\n",
    "# Nmodel = SentenceTransformer(model_path, show_progress_bar=False)\n",
    "# emb_dim = Nmodel.encode([\"お辞儀をしている男性会社員\"])[0].shape[0]"
   ]
  },
  {
   "cell_type": "code",
   "execution_count": null,
   "metadata": {},
   "outputs": [],
   "source": [
    "# X_bert = Nmodel.encode(X_train_str)\n",
    "# X_bert_test = Nmodel.encode(X_test_str)"
   ]
  },
  {
   "cell_type": "code",
   "execution_count": null,
   "metadata": {},
   "outputs": [],
   "source": [
    "from sklearn.svm import SVC\n",
    "from sklearn.multiclass import OneVsRestClassifier\n",
    "est = SVC(kernel=\"rbf\", random_state=2, C=1, gamma=0.01)\n",
    "clf = OneVsRestClassifier(est)"
   ]
  },
  {
   "cell_type": "code",
   "execution_count": null,
   "metadata": {},
   "outputs": [
    {
     "data": {
      "text/plain": [
       "OneVsRestClassifier(estimator=SVC(C=1, gamma=0.01, random_state=2))"
      ]
     },
     "execution_count": 38,
     "metadata": {},
     "output_type": "execute_result"
    }
   ],
   "source": [
    "clf.fit(X_train, y_train)"
   ]
  },
  {
   "cell_type": "code",
   "execution_count": null,
   "metadata": {},
   "outputs": [],
   "source": [
    "y_pred_b = clf.predict(X_test)"
   ]
  },
  {
   "cell_type": "code",
   "execution_count": null,
   "metadata": {},
   "outputs": [
    {
     "name": "stdout",
     "output_type": "stream",
     "text": [
      "confusion matrix = \n",
      " [[62  3 10 13  3]\n",
      " [10 15  0  5  1]\n",
      " [ 4  0 48  5  3]\n",
      " [ 4  2  8 84  3]\n",
      " [ 0  0  0  1 89]]\n",
      "accuracy =  0.7989276139410187\n"
     ]
    }
   ],
   "source": [
    "from sklearn.metrics import confusion_matrix, accuracy_score, precision_score, recall_score, f1_score\n",
    "print('confusion matrix = \\n', confusion_matrix(y_true=y_test, y_pred=y_pred_b))\n",
    "print('accuracy = ', accuracy_score(y_true=y_test, y_pred=y_pred_b))"
   ]
  },
  {
   "cell_type": "code",
   "execution_count": null,
   "metadata": {},
   "outputs": [
    {
     "name": "stdout",
     "output_type": "stream",
     "text": [
      "{'YN': 0, 'WH': 1, 'please': 2, 'proposal': 3, 'plain': 4}\n",
      "1 : お名前は何とおっしゃいますか？\n",
      "4 : 先週いっしょにつくったでしょ。\n",
      "3 : 同じ美容院へ行ったらどう、お父さん?\n",
      "2 : 本題に入ってくれないか？\n",
      "2 : 日曜日に、映画にごいっしょしていただけますか？\n",
      "3 : 青森にいるあなたのお兄さんのヒデキを訪ねるのはどうかしら？\n",
      "0 : これって本当にあなたなの？\n",
      "3 : 日本語を習ってみたら？\n",
      "4 : 申し訳ないけど、知りませんね。\n",
      "3 : ぼくといっしょに取り組まないか？\n",
      "0 : そんなことが信じられるだろうか？\n",
      "1 : エミ叔母ちゃんは何時に来る予定なの？\n",
      "4 : カイはすごく欲しかったんだ。\n",
      "0 : もう質問は終わったかい？\n",
      "2 : それはどんなものだったのか私に説明してもらえますか？\n",
      "3 : 私といっしょに食卓の用意をしてくれない？\n",
      "3 : チケットを取りましょうか？\n",
      "3 : いっしょに散歩に出かけましょうか？\n",
      "2 : 皆さんに自己紹介をお願いできますか？\n",
      "0 : そこにはゲームセンターはある？\n",
      "4 : 「さあ入って、パーティーはちょうど始まるところ。コートを預かりましょうか？」\n",
      "1 : こちらに座りましょうか？\n",
      "4 : わたしの家で課題をしましょうよ。\n",
      "2 : 伝言を預かっていただけますか？\n",
      "3 : よく眠れた？\n",
      "3 : どうしてロボコーパスが戦わなくちゃいけないんだ？\n",
      "0 : 写真をとることはできるかな？\n",
      "0 : 質問してもいいですか？\n",
      "4 : ７月25日だよ。\n",
      "3 : 日本の古い怪談映画の特別プログラムを上映しない？\n"
     ]
    }
   ],
   "source": [
    "print(label_dict)\n",
    "for y_p, x_s in zip(y_pred_b[:30], X_test_str[:30]):\n",
    "    print(\"{0} : {1}\".format(y_p, x_s))"
   ]
  },
  {
   "cell_type": "code",
   "execution_count": null,
   "metadata": {},
   "outputs": [
    {
     "name": "stdout",
     "output_type": "stream",
     "text": [
      "typeClassify_SVC.pickle\n"
     ]
    }
   ],
   "source": [
    "model2_path = \"../models/response/\"\n",
    "model2_name = \"typeClassify_SVC.pickle\"\n",
    "model2M = DataManager(model2_path)\n",
    "print(model2_name)"
   ]
  },
  {
   "cell_type": "code",
   "execution_count": null,
   "metadata": {},
   "outputs": [
    {
     "name": "stdout",
     "output_type": "stream",
     "text": [
      "success save : ../models/response/typeClassify_SVC.pickle\n"
     ]
    }
   ],
   "source": [
    "model2M.save_data(model2_name, clf)"
   ]
  },
  {
   "cell_type": "code",
   "execution_count": null,
   "metadata": {},
   "outputs": [],
   "source": []
  }
 ],
 "metadata": {
  "interpreter": {
   "hash": "31f2aee4e71d21fbe5cf8b01ff0e069b9275f58929596ceb00d14d90e3e16cd6"
  },
  "kernelspec": {
   "display_name": "Python 3.6.9 64-bit",
   "name": "python3"
  },
  "language_info": {
   "codemirror_mode": {
    "name": "ipython",
    "version": 3
   },
   "file_extension": ".py",
   "mimetype": "text/x-python",
   "name": "python",
   "nbconvert_exporter": "python",
   "pygments_lexer": "ipython3",
   "version": "3.6.9"
  },
  "orig_nbformat": 4
 },
 "nbformat": 4,
 "nbformat_minor": 2
}
