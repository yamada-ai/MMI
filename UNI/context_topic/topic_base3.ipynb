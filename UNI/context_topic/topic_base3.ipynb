{
 "cells": [
  {
   "cell_type": "code",
   "execution_count": null,
   "metadata": {},
   "outputs": [],
   "source": [
    "import json\n",
    "import os\n",
    "import pandas as pd\n",
    "import numpy as np\n",
    "from pathlib import Path\n",
    "import collections\n",
    "from sklearn.model_selection import train_test_split\n",
    "from sklearn import metrics\n",
    "\n",
    "import sys\n",
    "sys.path.append(\"../\")\n",
    "from datatools.analyzer import *\n",
    "from utterance.error_tools import *\n",
    "\n",
    "from datatools.maneger import DataManager\n",
    "from datatools.preproc import Preprocessor"
   ]
  },
  {
   "cell_type": "code",
   "execution_count": null,
   "metadata": {},
   "outputs": [],
   "source": [
    "import torch\n",
    "import torch.nn as nn\n",
    "import torch.nn.functional as F\n",
    "from torch.nn.modules import loss\n",
    "import torch.optim as optim\n",
    "import torch.nn.utils.rnn as rnn"
   ]
  },
  {
   "cell_type": "code",
   "execution_count": null,
   "metadata": {},
   "outputs": [],
   "source": [
    "with open(\"../../corpus/NTT/persona.json\", \"r\", encoding=\"utf-8\") as f:\n",
    "    convs = json.load(f)"
   ]
  },
  {
   "cell_type": "code",
   "execution_count": null,
   "metadata": {},
   "outputs": [],
   "source": [
    "import random\n",
    "random.seed(0)\n",
    "\n",
    "def make_Xy(convs, n=4, rate=3):\n",
    "\n",
    "    X_str = []\n",
    "    y = []\n",
    "\n",
    "    all_utt = []\n",
    "    for did in tqdm( convs[\"convs\"] ) :\n",
    "        dids = list( did.keys() )[0]\n",
    "        all_utt += did[dids]\n",
    "    random.shuffle(all_utt)\n",
    "\n",
    "    j = 0\n",
    "\n",
    "    for did in tqdm( convs[\"convs\"] ):\n",
    "        dids = list( did.keys() )[0]\n",
    "        conv = did[dids]\n",
    "        # print(conv)\n",
    "        for i in range(n-1, len(conv)):\n",
    "            p = (i-n+1)\n",
    "            # print(i, \"[{0}:{1}]\".format(p, p+n), conv[p:p+n-1])\n",
    "            # 正例\n",
    "            if i%rate != 0:\n",
    "                X_str.append( conv[p:p+n] )\n",
    "                y.append(0)\n",
    "                # print(i, conv[p:p+n])\n",
    "            # 負例\n",
    "            else:\n",
    "                X_str.append( conv[p:p+n-1]+[all_utt[j]] )\n",
    "                j += 1\n",
    "                y.append(1)\n",
    "    \n",
    "    return X_str, y"
   ]
  },
  {
   "cell_type": "code",
   "execution_count": null,
   "metadata": {},
   "outputs": [],
   "source": [
    "# n: 発話長， rate: エラー発話の確率\n",
    "X_str_topic, y = make_Xy(convs, n=4)"
   ]
  },
  {
   "cell_type": "code",
   "execution_count": null,
   "metadata": {},
   "outputs": [],
   "source": [
    "X_str_topic_ = X_str_topic[::30]\n",
    "y_ = y[::30]"
   ]
  }
 ],
 "metadata": {
  "language_info": {
   "name": "python"
  },
  "orig_nbformat": 4
 },
 "nbformat": 4,
 "nbformat_minor": 2
}
