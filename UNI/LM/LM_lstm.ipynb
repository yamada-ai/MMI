{
 "cells": [
  {
   "cell_type": "code",
   "execution_count": 2,
   "metadata": {},
   "outputs": [],
   "source": [
    "import json\n",
    "import os\n",
    "import pandas as pd\n",
    "import numpy as np\n",
    "from pathlib import Path\n",
    "import collections\n",
    "from sklearn.model_selection import train_test_split\n",
    "from sklearn import metrics\n",
    "\n",
    "import sys\n",
    "sys.path.append(\"../\")\n",
    "from datatools.analyzer import *\n",
    "from utterance.error_tools import *\n",
    "\n",
    "from datatools.maneger import DataManager\n",
    "from datatools.preproc import Preprocessor"
   ]
  },
  {
   "cell_type": "code",
   "execution_count": 3,
   "metadata": {},
   "outputs": [],
   "source": [
    "class Vocabulary:\n",
    "    def __init__(self, TOKENS=[\"[PAD]\", \"FOS\", \"EOS\", \"[SEP]\", \"[UNK]\", \"[NONE]\"]):\n",
    "        self.index2item = []\n",
    "        self.item2index = {}\n",
    "\n",
    "        for sp_token in TOKENS:\n",
    "            self.add_item(sp_token)\n",
    "\n",
    "    # 単語数\n",
    "    def __len__(self):\n",
    "        return len(self.item2index)\n",
    "\n",
    "    # 単語が含まれているか\n",
    "    def __contains__(self, item):\n",
    "        return item in self.item2index.keys()\n",
    "    \n",
    "    def __str__(self) -> str:\n",
    "        return str(self.item2index)\n",
    "\n",
    "    # 単語の追加\n",
    "    def add_item(self, item):\n",
    "        # もう登録されてたら登録しないよ\n",
    "        if item in self.item2index:\n",
    "            return\n",
    "        index = len(self.item2index)\n",
    "        self.index2item.append(item)\n",
    "        self.item2index[item] = index\n",
    "    \n",
    "    def add_items(self, items:list):\n",
    "        for item in items:\n",
    "            self.add_item(item)\n",
    "\n",
    "    # 単語の取得\n",
    "    def get_item(self, index):\n",
    "        if len(self.index2item) <= index:\n",
    "            return \"[UNK]\"\n",
    "        return self.index2item[index]\n",
    "\n",
    "    # 単語をidへ\n",
    "    def get_index(self, item):\n",
    "        if item not in self.item2index:\n",
    "            return self.item2index[\"[UNK]\"]\n",
    "        return self.item2index[item]\n",
    "\n",
    "    # def save_vocab(self, )"
   ]
  },
  {
   "cell_type": "code",
   "execution_count": 4,
   "metadata": {},
   "outputs": [],
   "source": [
    "def load_utt_ntt():\n",
    "    ntt_path = \"../../corpus/NTT/\"\n",
    "    utt_list = []\n",
    "    for file_ in os.listdir(ntt_path):\n",
    "        if not \"json\" in file_:\n",
    "            continue \n",
    "        with open(ntt_path+file_, \"r\",  encoding=\"utf-8\") as f:\n",
    "            convs = json.load(f)\n",
    "            for did in convs[\"convs\"]:\n",
    "                dids = list( did.keys() )[0]\n",
    "                conv = did[dids]\n",
    "                # conv = did[dids][3::3]\n",
    "                utt_list.extend( [ utt for utt in conv])\n",
    "    \n",
    "    print(len(utt_list))\n",
    "    return utt_list"
   ]
  },
  {
   "cell_type": "code",
   "execution_count": 5,
   "metadata": {},
   "outputs": [
    {
     "name": "stdout",
     "output_type": "stream",
     "text": [
      "141777\n"
     ]
    }
   ],
   "source": [
    "ntt_utt_ = load_utt_ntt()\n"
   ]
  },
  {
   "cell_type": "code",
   "execution_count": 6,
   "metadata": {},
   "outputs": [
    {
     "name": "stdout",
     "output_type": "stream",
     "text": [
      "success load : ../X_y_data/corpus/ntt_sentence_docs.pickle\n"
     ]
    }
   ],
   "source": [
    "c_path = \"../X_y_data/corpus/\"\n",
    "c_name = \"ntt_sentence_docs.pickle\"\n",
    "corpusM = DataManager(c_path)\n",
    "\n",
    "if os.path.exists(c_path+c_name):\n",
    "    docs = corpusM.load_data(c_name)\n",
    "    ntt_utt = list(map(str, docs))\n",
    "else:\n",
    "    docs = sentence2docs(ntt_utt_)\n",
    "    ntt_utt = list(map(str, docs))\n",
    "    corpusM.save_data(c_name, docs)"
   ]
  },
  {
   "cell_type": "code",
   "execution_count": 7,
   "metadata": {},
   "outputs": [],
   "source": [
    "def clean_text_plain(text):\n",
    "    text_ = neologdn.normalize(text)\n",
    "    text_ = re.sub(r'\\(.*\\)', \"\", text_)\n",
    "    text_ = re.sub(r'\\d+', \"0\", text_)\n",
    "    return text_"
   ]
  },
  {
   "cell_type": "code",
   "execution_count": 8,
   "metadata": {},
   "outputs": [
    {
     "name": "stderr",
     "output_type": "stream",
     "text": [
      "  5%|▍         | 868/18674 [00:00<00:02, 8675.89it/s]"
     ]
    },
    {
     "name": "stdout",
     "output_type": "stream",
     "text": [
      "len of text_list : 18674\n"
     ]
    },
    {
     "name": "stderr",
     "output_type": "stream",
     "text": [
      "100%|██████████| 18674/18674 [00:02<00:00, 7984.40it/s]\n"
     ]
    }
   ],
   "source": [
    "def read_file(filename, batch_size=10000) -> list:\n",
    "    f = open(filename, 'r', encoding='UTF-8')\n",
    "    text_list = [  ]\n",
    "    concated = \"\"\n",
    "    for i, line in enumerate( f.readlines() ):\n",
    "        concated += line.rstrip('\\n')\n",
    "        if (i+1) % batch_size == 0:\n",
    "            text_list.append(concated)\n",
    "            concated = \"\"\n",
    "    text_list.append(concated)\n",
    "    f.close()\n",
    "    return text_list\n",
    "\n",
    "filename = \"../../corpus/wiki/wiki_40b_train_normal.txt\"\n",
    "all_list = read_file(filename, batch_size=100)\n",
    "print(\"len of text_list :\", len(all_list))\n",
    "\n",
    "all_wiki = []\n",
    "for line in tqdm(all_list):\n",
    "    all_wiki += [sen+\"。\" for sen in line.split(\"。\")]\n",
    "\n"
   ]
  },
  {
   "cell_type": "code",
   "execution_count": 30,
   "metadata": {},
   "outputs": [],
   "source": [
    "wiki_utt = all_wiki[::50]\n",
    "corpus = ntt_utt + wiki_utt"
   ]
  },
  {
   "cell_type": "code",
   "execution_count": 31,
   "metadata": {},
   "outputs": [
    {
     "data": {
      "text/plain": [
       "498643"
      ]
     },
     "execution_count": 31,
     "metadata": {},
     "output_type": "execute_result"
    }
   ],
   "source": [
    "len(corpus)"
   ]
  },
  {
   "cell_type": "code",
   "execution_count": 32,
   "metadata": {},
   "outputs": [
    {
     "name": "stderr",
     "output_type": "stream",
     "text": [
      "100%|██████████| 498643/498643 [00:06<00:00, 73206.91it/s] \n"
     ]
    }
   ],
   "source": [
    "all_utt = [clean_text_plain(t) for t in tqdm(corpus)]"
   ]
  },
  {
   "cell_type": "code",
   "execution_count": 33,
   "metadata": {},
   "outputs": [
    {
     "name": "stderr",
     "output_type": "stream",
     "text": [
      "100%|██████████| 498643/498643 [00:02<00:00, 189695.16it/s]\n"
     ]
    }
   ],
   "source": [
    "filled_chars = fill_SYMBOL_ONE( [ list(\"\".join(L)) for L in tqdm(all_utt) ] )"
   ]
  },
  {
   "cell_type": "code",
   "execution_count": 34,
   "metadata": {},
   "outputs": [
    {
     "name": "stdout",
     "output_type": "stream",
     "text": [
      "success save : ../X_y_data/LM/ntt_wiki_splited_char.pickle\n"
     ]
    }
   ],
   "source": [
    "from datatools.maneger import DataManager\n",
    "dataM = DataManager(\"../X_y_data/LM/\")\n",
    "data_name = \"ntt_wiki_splited_char.pickle\"\n",
    "dataM.save_data(data_name, filled_chars)"
   ]
  },
  {
   "cell_type": "code",
   "execution_count": 35,
   "metadata": {},
   "outputs": [],
   "source": [
    "TOKENS = [\"[PAD]\", \"FOS\", \"EOS\", \"[SEP]\", \"[UNK]\", \"[NONE]\"]\n",
    "vocab = Vocabulary(TOKENS=TOKENS)"
   ]
  },
  {
   "cell_type": "code",
   "execution_count": 36,
   "metadata": {},
   "outputs": [],
   "source": [
    "limit = 3000"
   ]
  },
  {
   "cell_type": "code",
   "execution_count": 37,
   "metadata": {},
   "outputs": [],
   "source": [
    "import itertools\n",
    "flattened = list(itertools.chain.from_iterable(filled_chars))\n",
    "\n",
    "# 語彙の軽減\n",
    "from collections import Counter\n",
    "counter = Counter(flattened)\n"
   ]
  },
  {
   "cell_type": "code",
   "execution_count": 38,
   "metadata": {},
   "outputs": [],
   "source": [
    "common = counter.most_common(limit+2)\n",
    "common_list = [c[0] for c in common ]\n",
    "common_set = set( common_list )\n",
    "vocab.add_items(common_list)"
   ]
  },
  {
   "cell_type": "code",
   "execution_count": 39,
   "metadata": {},
   "outputs": [],
   "source": [
    "def sentence2ids(sentence, vocab):\n",
    "    filled_chars = fill_SYMBOL_ONE( [ list(\"\".join(sentence)) ] )[0]\n",
    "    ids = [ vocab.get_index(c) for c in filled_chars ]\n",
    "    return ids"
   ]
  },
  {
   "cell_type": "code",
   "execution_count": 40,
   "metadata": {},
   "outputs": [
    {
     "data": {
      "text/plain": [
       "[1, 1281, 98, 531, 692, 15, 1233, 629, 20, 679, 60, 19, 11, 2]"
      ]
     },
     "execution_count": 40,
     "metadata": {},
     "output_type": "execute_result"
    }
   ],
   "source": [
    "sentence = \"麻生太郎は漢字が読めない\"\n",
    "sentence2ids(sentence, vocab)"
   ]
  },
  {
   "cell_type": "code",
   "execution_count": 41,
   "metadata": {},
   "outputs": [],
   "source": [
    "def extract_ngrams(L, N):\n",
    "    ngrams = []\n",
    "    for i in range(len(L)-N+1):\n",
    "        ngrams.append(L[i:i+N])\n",
    "    return ngrams"
   ]
  },
  {
   "cell_type": "code",
   "execution_count": 42,
   "metadata": {},
   "outputs": [],
   "source": [
    "def make_X_y_seq(A, vocab, N=7, is_id=True):\n",
    "    X = []\n",
    "    Y = []\n",
    "    for chars in tqdm(A):\n",
    "        # ngram にした結果がかえってくる\n",
    "        if len(chars) < N:\n",
    "            chars += [\"[PAD]\"]*(N-len(chars))\n",
    "        if is_id:\n",
    "            chars = [ vocab.get_index(c) for c in chars ]\n",
    "        ngram_text = extract_ngrams(chars, N)\n",
    "        X.extend(ngram_text[:-1])\n",
    "        Y.extend(ngram_text[1:])\n",
    "    return X, Y     "
   ]
  },
  {
   "cell_type": "code",
   "execution_count": 43,
   "metadata": {},
   "outputs": [
    {
     "name": "stderr",
     "output_type": "stream",
     "text": [
      "100%|██████████| 498643/498643 [00:20<00:00, 24345.81it/s]\n"
     ]
    }
   ],
   "source": [
    "X, Y = make_X_y_seq(filled_chars, vocab, N=7, is_id=True)"
   ]
  },
  {
   "cell_type": "code",
   "execution_count": 44,
   "metadata": {},
   "outputs": [],
   "source": [
    "import torch\n",
    "import torch.nn as nn\n",
    "import torch.nn.functional as F\n",
    "from torch.nn.modules import loss\n",
    "import torch.optim as optim\n",
    "import torch.nn.utils.rnn as rnn\n",
    "\n",
    "class Datasets(torch.utils.data.Dataset):\n",
    "    def __init__(self, X_data, y_data):\n",
    "        # self.transform = transform\n",
    "\n",
    "        self.X_data = X_data\n",
    "        self.y_data = y_data\n",
    "\n",
    "        self.datanum = len(X_data)\n",
    "\n",
    "    def __len__(self):\n",
    "        return self.datanum\n",
    "\n",
    "    def __getitem__(self, idx):\n",
    "        out_X = self.X_data[idx]\n",
    "        out_y = self.y_data[idx]\n",
    "\n",
    "        return out_X, out_y"
   ]
  },
  {
   "cell_type": "code",
   "execution_count": 45,
   "metadata": {},
   "outputs": [],
   "source": [
    "X_train, X_test, y_train, y_test = train_test_split(torch.tensor(X), torch.tensor(Y), test_size=0.20, random_state=5)"
   ]
  },
  {
   "cell_type": "code",
   "execution_count": 46,
   "metadata": {},
   "outputs": [],
   "source": [
    "class LMN5(nn.Module):\n",
    "    def __init__(self, vocab_size, embedding_dim, hidden_dim):\n",
    "        # 親クラスのコンストラクタ。決まり文句\n",
    "        super(LMN5, self).__init__()\n",
    "        # 隠れ層の次元数。これは好きな値に設定しても行列計算の過程で出力には出てこないので。    \n",
    "        self.embedding_dim = embedding_dim\n",
    "        self.hidden_dim = hidden_dim\n",
    "\n",
    "        self.embed = nn.Embedding(vocab_size, embedding_dim,  padding_idx=0)\n",
    "        # モデルを2つ定義\n",
    "        self.lstm1 = nn.LSTM(embedding_dim, hidden_dim//2, batch_first=True,  bidirectional=True )\n",
    "        # self.lstm2 = nn.LSTM(embedding_dim, hidden_dim//2, batch_first=True,  bidirectional=True )\n",
    "        self.linear = nn.Linear(embedding_dim, vocab_size)\n",
    "        # softmaxのLog版。dim=0で列、dim=1で行方向を確率変換。\n",
    "        self.softmax = nn.Softmax(dim=1)\n",
    "\n",
    "        nn.init.normal_(self.embed.weight, std=0.01)\n",
    "        self.linear.weight = self.embed.weight\n",
    "        nn.init.zeros_(self.linear.bias)\n",
    "    \n",
    "    def forward(self, x):\n",
    "        emb_out = self.embed(x)\n",
    "        # y =self.softmax(tag_space)\n",
    "        out, hc = self.lstm1(emb_out)\n",
    "        y = self.linear(out)\n",
    "        # print(y.shape)\n",
    "        return self.softmax(y)"
   ]
  },
  {
   "cell_type": "code",
   "execution_count": 47,
   "metadata": {},
   "outputs": [],
   "source": [
    "BATCH_SIZE = 512\n",
    "epoch_ = 50\n",
    "trainset = Datasets(X_train, y_train)\n",
    "trainloader = torch.utils.data.DataLoader(trainset, batch_size = BATCH_SIZE, shuffle = True, num_workers = 2)"
   ]
  },
  {
   "cell_type": "code",
   "execution_count": 55,
   "metadata": {},
   "outputs": [
    {
     "data": {
      "text/plain": [
       "21796"
      ]
     },
     "execution_count": 55,
     "metadata": {},
     "output_type": "execute_result"
    }
   ],
   "source": [
    "len(X_train)//BATCH_SIZE"
   ]
  },
  {
   "cell_type": "code",
   "execution_count": 48,
   "metadata": {},
   "outputs": [],
   "source": [
    "VOCAB_SIZE = len(vocab)\n",
    "EMBEDDING_DIM = 256\n",
    "HIDDEN_DIM = EMBEDDING_DIM\n",
    "OUTPUT_DIM = len(vocab)"
   ]
  },
  {
   "cell_type": "code",
   "execution_count": 49,
   "metadata": {},
   "outputs": [
    {
     "data": {
      "text/plain": [
       "3006"
      ]
     },
     "execution_count": 49,
     "metadata": {},
     "output_type": "execute_result"
    }
   ],
   "source": [
    "VOCAB_SIZE"
   ]
  },
  {
   "cell_type": "code",
   "execution_count": 50,
   "metadata": {},
   "outputs": [],
   "source": [
    "model = LMN5(VOCAB_SIZE, EMBEDDING_DIM, HIDDEN_DIM)\n",
    "if torch.cuda.is_available():\n",
    "   model.cuda()\n",
    "loss_function = nn.CrossEntropyLoss()\n",
    "# loss_function = nn.CrossEntropyLoss()\n",
    "optimizer = optim.Adam(model.parameters(), lr=0.005)"
   ]
  },
  {
   "cell_type": "code",
   "execution_count": 57,
   "metadata": {},
   "outputs": [
    {
     "data": {
      "text/plain": [
       "21797"
      ]
     },
     "execution_count": 57,
     "metadata": {},
     "output_type": "execute_result"
    }
   ],
   "source": [
    "len(trainloader)"
   ]
  },
  {
   "cell_type": "code",
   "execution_count": 59,
   "metadata": {},
   "outputs": [
    {
     "name": "stderr",
     "output_type": "stream",
     "text": [
      "100%|██████████| 21797/21797 [10:22<00:00, 35.03it/s]\n",
      "100%|██████████| 21797/21797 [10:16<00:00, 35.38it/s]\n",
      "100%|██████████| 21797/21797 [10:24<00:00, 34.93it/s]\n",
      "100%|██████████| 21797/21797 [10:27<00:00, 34.74it/s]\n",
      "100%|██████████| 21797/21797 [10:18<00:00, 35.25it/s]\n",
      "100%|██████████| 21797/21797 [10:32<00:00, 34.46it/s]\n",
      "100%|██████████| 21797/21797 [10:21<00:00, 35.05it/s]\n",
      "100%|██████████| 21797/21797 [10:47<00:00, 33.66it/s]\n",
      "100%|██████████| 21797/21797 [10:27<00:00, 34.72it/s]\n",
      "100%|██████████| 21797/21797 [10:17<00:00, 35.30it/s]\n",
      "100%|██████████| 21797/21797 [10:25<00:00, 34.84it/s]\n",
      "100%|██████████| 21797/21797 [10:18<00:00, 35.22it/s]\n",
      "100%|██████████| 21797/21797 [10:24<00:00, 34.90it/s]\n",
      "100%|██████████| 21797/21797 [10:29<00:00, 34.65it/s]\n",
      "100%|██████████| 21797/21797 [10:20<00:00, 35.12it/s]\n",
      "100%|██████████| 21797/21797 [10:30<00:00, 34.58it/s]\n",
      "100%|██████████| 21797/21797 [10:28<00:00, 34.70it/s]\n",
      "100%|██████████| 21797/21797 [10:23<00:00, 34.96it/s]\n",
      "100%|██████████| 21797/21797 [10:26<00:00, 34.77it/s]\n",
      "100%|██████████| 21797/21797 [10:29<00:00, 34.64it/s]\n",
      " 40%|████      | 20/50 [3:28:32<5:13:31, 627.06s/it]"
     ]
    },
    {
     "name": "stdout",
     "output_type": "stream",
     "text": [
      "epoch 20 \t loss 156462.80139875412\n"
     ]
    },
    {
     "name": "stderr",
     "output_type": "stream",
     "text": [
      "100%|██████████| 21797/21797 [10:29<00:00, 34.60it/s]\n",
      "100%|██████████| 21797/21797 [10:30<00:00, 34.54it/s]\n",
      "100%|██████████| 21797/21797 [10:26<00:00, 34.80it/s]\n",
      "100%|██████████| 21797/21797 [10:29<00:00, 34.65it/s]\n",
      "100%|██████████| 21797/21797 [10:29<00:00, 34.65it/s]\n",
      "100%|██████████| 21797/21797 [12:33<00:00, 28.92it/s]\n",
      "100%|██████████| 21797/21797 [12:25<00:00, 29.22it/s]\n",
      "100%|██████████| 21797/21797 [12:27<00:00, 29.14it/s]\n",
      "100%|██████████| 21797/21797 [12:28<00:00, 29.13it/s]\n",
      "100%|██████████| 21797/21797 [12:23<00:00, 29.32it/s]\n",
      "100%|██████████| 21797/21797 [12:36<00:00, 28.83it/s]\n",
      "100%|██████████| 21797/21797 [12:41<00:00, 28.62it/s]\n",
      "100%|██████████| 21797/21797 [12:33<00:00, 28.93it/s]\n",
      "100%|██████████| 21797/21797 [12:31<00:00, 28.99it/s]\n",
      "100%|██████████| 21797/21797 [12:57<00:00, 28.04it/s]\n",
      "100%|██████████| 21797/21797 [12:28<00:00, 29.14it/s]\n",
      "100%|██████████| 21797/21797 [12:34<00:00, 28.89it/s]\n",
      "100%|██████████| 21797/21797 [12:28<00:00, 29.13it/s]\n",
      "100%|██████████| 21797/21797 [12:31<00:00, 29.01it/s]\n",
      "100%|██████████| 21797/21797 [12:21<00:00, 29.39it/s]\n",
      " 80%|████████  | 40/50 [7:29:01<2:04:50, 749.05s/it]"
     ]
    },
    {
     "name": "stdout",
     "output_type": "stream",
     "text": [
      "epoch 40 \t loss 156460.78859901428\n"
     ]
    },
    {
     "name": "stderr",
     "output_type": "stream",
     "text": [
      "100%|██████████| 21797/21797 [11:57<00:00, 30.36it/s]\n",
      "100%|██████████| 21797/21797 [11:48<00:00, 30.78it/s]\n",
      "100%|██████████| 21797/21797 [12:02<00:00, 30.17it/s]\n",
      "100%|██████████| 21797/21797 [12:07<00:00, 29.94it/s]\n",
      "100%|██████████| 21797/21797 [12:28<00:00, 29.11it/s]\n",
      "100%|██████████| 21797/21797 [12:12<00:00, 29.76it/s]\n",
      "100%|██████████| 21797/21797 [12:12<00:00, 29.75it/s]\n",
      "100%|██████████| 21797/21797 [12:16<00:00, 29.58it/s]\n",
      "100%|██████████| 21797/21797 [12:07<00:00, 29.96it/s]\n",
      "100%|██████████| 21797/21797 [12:17<00:00, 29.56it/s]\n",
      "100%|██████████| 50/50 [9:30:33<00:00, 684.68s/it]"
     ]
    },
    {
     "name": "stdout",
     "output_type": "stream",
     "text": [
      "done\n"
     ]
    },
    {
     "name": "stderr",
     "output_type": "stream",
     "text": [
      "\n"
     ]
    }
   ],
   "source": [
    "import math\n",
    "epoch_ = 50\n",
    "losses = []\n",
    "losses_ppl = []\n",
    "for epoch in tqdm(range(epoch_)):  # again, normally you would NOT do 300 epochs, it is toy data\n",
    "    all_loss = 0\n",
    "    for data in tqdm(trainloader):\n",
    "        # sys.stdout.flush()\n",
    "        # X_t_tensor = torch.tensor(data[0], device='cuda:0', dtype=torch.int16)\n",
    "        # X_t_tensor = data[0].to(torch.int).cuda()\n",
    "        # y_t_tensor = data[1].to(torch.long).cuda()\n",
    "        X_t_tensor = data[0].to(torch.int).cuda()\n",
    "        y_t_tensor = data[1].to(torch.long).cuda()\n",
    "        # y_t_tensor = F.one_hot(data[1], num_classes=VOCAB_SIZE)\n",
    "        optimizer.zero_grad()\n",
    "        model.zero_grad()\n",
    "\n",
    "        score_ = model(X_t_tensor)\n",
    "        # print(score_.view(-1, VOCAB_SIZE).shape,  y_t_tensor.view(-1).shape)\n",
    "        loss_ = loss_function(score_.view(-1, VOCAB_SIZE),  y_t_tensor.view(-1))\n",
    "        loss_.backward()\n",
    "        all_loss += loss_.item()\n",
    "        optimizer.step()\n",
    "        del score_\n",
    "        del loss_\n",
    "        \n",
    "    ppl = math.exp(all_loss / len(trainloader))\n",
    "    losses_ppl.append(ppl)\n",
    "    losses.append(all_loss)\n",
    "    if (epoch+1) % 20 == 0:\n",
    "        print(\"epoch\", epoch+1, \"\\t\" , \"loss\", all_loss)\n",
    "print(\"done\")"
   ]
  },
  {
   "cell_type": "code",
   "execution_count": 60,
   "metadata": {},
   "outputs": [],
   "source": [
    "import math\n",
    "def eval_perplexity(model, iterator):\n",
    "    total_loss = 0\n",
    "    hidden = None\n",
    "\n",
    "    model.eval()\n",
    "    with torch.no_grad():\n",
    "        X_t_tensor = data[0].to(torch.int).cuda()\n",
    "        y_t_tensor = data[1].to(torch.long).cuda()\n",
    "        score_ = model(X_t_tensor)\n",
    "        loss_ = loss_function(score_.view(-1, VOCAB_SIZE),  y_t_tensor.view(-1))\n",
    "        total_loss += loss.item()\n",
    "      \n",
    "    ppl = math.exp(total_loss / len(iterator))\n",
    "    return ppl"
   ]
  },
  {
   "cell_type": "code",
   "execution_count": 61,
   "metadata": {},
   "outputs": [
    {
     "data": {
      "image/png": "[encoded data removed]",
      "text/plain": [
       "<Figure size 432x288 with 1 Axes>"
      ]
     },
     "metadata": {
      "needs_background": "light"
     },
     "output_type": "display_data"
    }
   ],
   "source": [
    "from matplotlib import pyplot as plt\n",
    "def plot_history(losses):\n",
    "    fig, ax = plt.subplots()\n",
    "\n",
    "    epochs = np.arange(1, len(losses) + 1)\n",
    "\n",
    "    # 損失の推移\n",
    "    ax.set_title(\"Loss\")\n",
    "    ax.plot(epochs, losses)\n",
    "    ax.set_xlabel(\"Epoch\")\n",
    "\n",
    "    plt.show()\n",
    "plot_history(losses)"
   ]
  },
  {
   "cell_type": "code",
   "execution_count": 62,
   "metadata": {},
   "outputs": [
    {
     "name": "stdout",
     "output_type": "stream",
     "text": [
      "success save : ../models/LM/ffn_LM2.pickle\n"
     ]
    }
   ],
   "source": [
    "model_path = \"../models/LM/\"\n",
    "model_name = \"ffn_LM2.pickle\"\n",
    "modelM = DataManager(model_path)\n",
    "modelM.save_data(model_name, model)"
   ]
  },
  {
   "cell_type": "code",
   "execution_count": 63,
   "metadata": {},
   "outputs": [
    {
     "name": "stdout",
     "output_type": "stream",
     "text": [
      "success save : ../models/LM/vocab1_LM2.pickle\n"
     ]
    }
   ],
   "source": [
    "vocab_name = \"vocab1_LM2.pickle\"\n",
    "modelM.save_data(vocab_name, vocab)"
   ]
  }
 ],
 "metadata": {
  "interpreter": {
   "hash": "31f2aee4e71d21fbe5cf8b01ff0e069b9275f58929596ceb00d14d90e3e16cd6"
  },
  "kernelspec": {
   "display_name": "Python 3.6.9 64-bit",
   "language": "python",
   "name": "python3"
  },
  "language_info": {
   "codemirror_mode": {
    "name": "ipython",
    "version": 3
   },
   "file_extension": ".py",
   "mimetype": "text/x-python",
   "name": "python",
   "nbconvert_exporter": "python",
   "pygments_lexer": "ipython3",
   "version": "3.6.9"
  },
  "orig_nbformat": 4
 },
 "nbformat": 4,
 "nbformat_minor": 2
}
