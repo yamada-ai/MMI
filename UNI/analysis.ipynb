{
 "metadata": {
  "language_info": {
   "codemirror_mode": {
    "name": "ipython",
    "version": 3
   },
   "file_extension": ".py",
   "mimetype": "text/x-python",
   "name": "python",
   "nbconvert_exporter": "python",
   "pygments_lexer": "ipython3",
   "version": "3.6.10"
  },
  "orig_nbformat": 2,
  "kernelspec": {
   "name": "python3",
   "display_name": "Python 3.6.10 64-bit ('ML-2SCCiqXR': pipenv)"
  },
  "metadata": {
   "interpreter": {
    "hash": "31f2aee4e71d21fbe5cf8b01ff0e069b9275f58929596ceb00d14d90e3e16cd6"
   }
  },
  "interpreter": {
   "hash": "daa14a0be65eb61f80ba21ff307e9d16a38ec6f2ac35da4662292c5955e33db4"
  }
 },
 "nbformat": 4,
 "nbformat_minor": 2,
 "cells": [
  {
   "cell_type": "code",
   "execution_count": 1,
   "metadata": {},
   "outputs": [],
   "source": [
    "from pathlib import Path\n",
    "import json\n",
    "import pandas as pd\n",
    "import numpy as np\n",
    "\n",
    "import collections\n",
    "\n",
    "\n",
    "import spacy\n",
    "\n",
    "from sklearn.model_selection import train_test_split\n",
    "from sklearn.multioutput import MultiOutputClassifier\n",
    "from sklearn.ensemble import AdaBoostClassifier\n",
    "from sklearn import metrics"
   ]
  },
  {
   "cell_type": "code",
   "execution_count": 39,
   "metadata": {},
   "outputs": [],
   "source": [
    "path = './error_category_classification/dbdc5_ja_dev_labeled/'\n",
    "# Names of the dialogue systems\n",
    "datalist = ['DCM', 'DIT', 'IRS']\n",
    "# datalist = ['DCM']\n",
    "# List of error types\n",
    "error_types = ['Ignore question', 'Unclear intention', 'Wrong information', 'Topic transition error', 'Lack of information', \n",
    "'Repetition', 'Semantic error', 'Self-contradiction', 'Contradiction', 'Grammatical error', 'Ignore offer', \n",
    "'Ignore proposal', 'Lack of sociality', 'Lack of common sense', 'Uninterpretable', 'Ignore greeting']"
   ]
  },
  {
   "cell_type": "code",
   "execution_count": 3,
   "metadata": {},
   "outputs": [],
   "source": [
    "def read_json(path:str, datalist:list) -> pd.DataFrame:\n",
    "    cols = ['did', 'tid', 'usr', 'sys', 'ec']\n",
    "    df = pd.DataFrame(index=[], columns=cols)\n",
    "\n",
    "    for p in datalist:\n",
    "        datapath = Path(path + p + '/')\n",
    "        for file in datapath.glob(\"*.json\"):\n",
    "            with open(file, \"r\") as f:\n",
    "                json_data = json.load(f)\n",
    "                did = json_data[\"dialogue-id\"]\n",
    "                for t in json_data[\"turns\"]:\n",
    "                    if t[\"turn-index\"] == 0:\n",
    "                        continue\n",
    "                    if t[\"speaker\"] == \"U\":\n",
    "                        usr = t[\"utterance\"]\n",
    "                        continue\n",
    "                    if t[\"speaker\"] == \"S\" and t[\"error_category\"] != None:\n",
    "                        tid = t[\"turn-index\"]\n",
    "                        sys = t[\"utterance\"]\n",
    "                        ec = t[\"error_category\"]\n",
    "                        df = df.append(pd.DataFrame([did, tid, usr, sys, ec], index = cols).T)\n",
    "    df.reset_index(inplace=True, drop=True)\n",
    "    return df"
   ]
  },
  {
   "cell_type": "code",
   "execution_count": 41,
   "metadata": {},
   "outputs": [],
   "source": [
    "def read_json_with_NoErr(path:str, datalist:list) -> pd.DataFrame:\n",
    "    cols = ['did', 'tid', 'usr', 'sys', 'ec']\n",
    "    df = pd.DataFrame(index=[], columns=cols)\n",
    "\n",
    "    for p in datalist:\n",
    "        datapath = Path(path + p + '/')\n",
    "        for file in datapath.glob(\"*.json\"):\n",
    "            with open(file, \"r\") as f:\n",
    "                json_data = json.load(f)\n",
    "                did = json_data[\"dialogue-id\"]\n",
    "                for t in json_data[\"turns\"]:\n",
    "                    if t[\"turn-index\"] == 0:\n",
    "                        continue\n",
    "                    if t[\"speaker\"] == \"U\":\n",
    "                        usr = t[\"utterance\"]\n",
    "                        continue\n",
    "                    if t[\"speaker\"] == \"S\" :\n",
    "                        tid = t[\"turn-index\"]\n",
    "                        sys = t[\"utterance\"]\n",
    "                        if t[\"error_category\"]:\n",
    "                            ec = t[\"error_category\"]\n",
    "                        else:\n",
    "                            ec = [\"No-Err\"]\n",
    "                        df = df.append(pd.DataFrame([did, tid, usr, sys, ec], index = cols).T)\n",
    "    df.reset_index(inplace=True, drop=True)\n",
    "    return df"
   ]
  },
  {
   "cell_type": "code",
   "execution_count": 42,
   "metadata": {},
   "outputs": [
    {
     "output_type": "execute_result",
     "data": {
      "text/plain": [
       "             did tid                        usr  \\\n",
       "0     1470622805   2                      こんにちは   \n",
       "1     1470622805   4                     元気ですか？   \n",
       "2     1470622805   6                   今日は暑いですね   \n",
       "3     1470622805   8                      そうですか   \n",
       "4     1470622805  10                 謝らなくていいですよ   \n",
       "...          ...  ..                        ...   \n",
       "1995  1550577973  12    そうですね。私は年間パスポート持っていますよ。   \n",
       "1996  1550577973  14               私は柑橘系が好きですね。   \n",
       "1997  1550577973  16    そうですね。私は食べる方のバニラは大好きです。   \n",
       "1998  1550577973  18  ミスチルは昔のイノセントワールドなんか好きですよ。   \n",
       "1999  1550577973  20      いいですね。ライブに行ったりするのですか？   \n",
       "\n",
       "                                           sys  \\\n",
       "0                                          おはよ   \n",
       "1                                        元気ですよ   \n",
       "2                                   元気ですかは元気です   \n",
       "3                                         ごめんね   \n",
       "4                                  元気ですかは元気ですね   \n",
       "...                                        ...   \n",
       "1995  そうなのですか、なるほど、おすすめの香りあります？私、バニラっぽいのが好きです。   \n",
       "1996                    男性はバニラ系好きな方あまりみかけないです。   \n",
       "1997                           最近のミスチルも好きなんですが   \n",
       "1998               ほうほう。バンド系よりもデジタルな音楽は私もすきです。   \n",
       "1999      自分も喜んで歌えますし、神様も私たちが好きな方法で賛美されていることを。   \n",
       "\n",
       "                                        ec  \n",
       "0                                 [No-Err]  \n",
       "1                                 [No-Err]  \n",
       "2                      [Unclear intention]  \n",
       "3                      [Unclear intention]  \n",
       "4                             [Repetition]  \n",
       "...                                    ...  \n",
       "1995              [Topic transition error]  \n",
       "1996                              [No-Err]  \n",
       "1997              [Topic transition error]  \n",
       "1998                              [No-Err]  \n",
       "1999  [Ignore question, Unclear intention]  \n",
       "\n",
       "[2000 rows x 5 columns]"
      ],
      "text/html": "<div>\n<style scoped>\n    .dataframe tbody tr th:only-of-type {\n        vertical-align: middle;\n    }\n\n    .dataframe tbody tr th {\n        vertical-align: top;\n    }\n\n    .dataframe thead th {\n        text-align: right;\n    }\n</style>\n<table border=\"1\" class=\"dataframe\">\n  <thead>\n    <tr style=\"text-align: right;\">\n      <th></th>\n      <th>did</th>\n      <th>tid</th>\n      <th>usr</th>\n      <th>sys</th>\n      <th>ec</th>\n    </tr>\n  </thead>\n  <tbody>\n    <tr>\n      <th>0</th>\n      <td>1470622805</td>\n      <td>2</td>\n      <td>こんにちは</td>\n      <td>おはよ</td>\n      <td>[No-Err]</td>\n    </tr>\n    <tr>\n      <th>1</th>\n      <td>1470622805</td>\n      <td>4</td>\n      <td>元気ですか？</td>\n      <td>元気ですよ</td>\n      <td>[No-Err]</td>\n    </tr>\n    <tr>\n      <th>2</th>\n      <td>1470622805</td>\n      <td>6</td>\n      <td>今日は暑いですね</td>\n      <td>元気ですかは元気です</td>\n      <td>[Unclear intention]</td>\n    </tr>\n    <tr>\n      <th>3</th>\n      <td>1470622805</td>\n      <td>8</td>\n      <td>そうですか</td>\n      <td>ごめんね</td>\n      <td>[Unclear intention]</td>\n    </tr>\n    <tr>\n      <th>4</th>\n      <td>1470622805</td>\n      <td>10</td>\n      <td>謝らなくていいですよ</td>\n      <td>元気ですかは元気ですね</td>\n      <td>[Repetition]</td>\n    </tr>\n    <tr>\n      <th>...</th>\n      <td>...</td>\n      <td>...</td>\n      <td>...</td>\n      <td>...</td>\n      <td>...</td>\n    </tr>\n    <tr>\n      <th>1995</th>\n      <td>1550577973</td>\n      <td>12</td>\n      <td>そうですね。私は年間パスポート持っていますよ。</td>\n      <td>そうなのですか、なるほど、おすすめの香りあります？私、バニラっぽいのが好きです。</td>\n      <td>[Topic transition error]</td>\n    </tr>\n    <tr>\n      <th>1996</th>\n      <td>1550577973</td>\n      <td>14</td>\n      <td>私は柑橘系が好きですね。</td>\n      <td>男性はバニラ系好きな方あまりみかけないです。</td>\n      <td>[No-Err]</td>\n    </tr>\n    <tr>\n      <th>1997</th>\n      <td>1550577973</td>\n      <td>16</td>\n      <td>そうですね。私は食べる方のバニラは大好きです。</td>\n      <td>最近のミスチルも好きなんですが</td>\n      <td>[Topic transition error]</td>\n    </tr>\n    <tr>\n      <th>1998</th>\n      <td>1550577973</td>\n      <td>18</td>\n      <td>ミスチルは昔のイノセントワールドなんか好きですよ。</td>\n      <td>ほうほう。バンド系よりもデジタルな音楽は私もすきです。</td>\n      <td>[No-Err]</td>\n    </tr>\n    <tr>\n      <th>1999</th>\n      <td>1550577973</td>\n      <td>20</td>\n      <td>いいですね。ライブに行ったりするのですか？</td>\n      <td>自分も喜んで歌えますし、神様も私たちが好きな方法で賛美されていることを。</td>\n      <td>[Ignore question, Unclear intention]</td>\n    </tr>\n  </tbody>\n</table>\n<p>2000 rows × 5 columns</p>\n</div>"
     },
     "metadata": {},
     "execution_count": 42
    }
   ],
   "source": [
    "df_all = read_json_with_NoErr(path, datalist)\n",
    "df_all"
   ]
  },
  {
   "cell_type": "code",
   "execution_count": 6,
   "metadata": {},
   "outputs": [
    {
     "output_type": "execute_result",
     "data": {
      "text/plain": [
       "            did tid                         usr  \\\n",
       "0    1470622805   6                    今日は暑いですね   \n",
       "1    1470622805   8                       そうですか   \n",
       "2    1470622805  10                  謝らなくていいですよ   \n",
       "3    1470622805  12                     とても元気です   \n",
       "4    1470622805  14                    何のことですか？   \n",
       "..          ...  ..                         ...   \n",
       "378  1550629275   8          あなたは1日に何時間働いていますか？   \n",
       "379  1550629275  10            博物館に行ったことはないんです。   \n",
       "380  1550629275  12  博物館面白そうですよね。今度行ってみたいと思います。   \n",
       "381  1550629275  14             アンチエイジング興味あります。   \n",
       "382  1550629275  16              うん。そういうこと多いです。   \n",
       "\n",
       "                                       sys  \\\n",
       "0                               元気ですかは元気です   \n",
       "1                                     ごめんね   \n",
       "2                              元気ですかは元気ですね   \n",
       "3                    もちろんですってのが元気ですかにいいですね   \n",
       "4                                      色々と   \n",
       "..                                     ...   \n",
       "378         そうなんですか。　じゃあ、博物館に行かれたことはありますか？   \n",
       "379                      博物館という研究施設がおすすめです   \n",
       "380  いま、美容系の企業がアンチエイジング商品の開発に力を入れているみたいだね。   \n",
       "381  興味あることは良く覚えるのに、興味ないことは頭の中を素通りしてしまうよね。   \n",
       "382                            素通りを許されてないな   \n",
       "\n",
       "                                            ec  \n",
       "0                          [Unclear intention]  \n",
       "1                          [Unclear intention]  \n",
       "2                                 [Repetition]  \n",
       "3                          [Unclear intention]  \n",
       "4                            [Ignore question]  \n",
       "..                                         ...  \n",
       "378  [Ignore question, Topic transition error]  \n",
       "379                        [Unclear intention]  \n",
       "380                   [Topic transition error]  \n",
       "381                        [Unclear intention]  \n",
       "382                        [Unclear intention]  \n",
       "\n",
       "[383 rows x 5 columns]"
      ],
      "text/html": "<div>\n<style scoped>\n    .dataframe tbody tr th:only-of-type {\n        vertical-align: middle;\n    }\n\n    .dataframe tbody tr th {\n        vertical-align: top;\n    }\n\n    .dataframe thead th {\n        text-align: right;\n    }\n</style>\n<table border=\"1\" class=\"dataframe\">\n  <thead>\n    <tr style=\"text-align: right;\">\n      <th></th>\n      <th>did</th>\n      <th>tid</th>\n      <th>usr</th>\n      <th>sys</th>\n      <th>ec</th>\n    </tr>\n  </thead>\n  <tbody>\n    <tr>\n      <th>0</th>\n      <td>1470622805</td>\n      <td>6</td>\n      <td>今日は暑いですね</td>\n      <td>元気ですかは元気です</td>\n      <td>[Unclear intention]</td>\n    </tr>\n    <tr>\n      <th>1</th>\n      <td>1470622805</td>\n      <td>8</td>\n      <td>そうですか</td>\n      <td>ごめんね</td>\n      <td>[Unclear intention]</td>\n    </tr>\n    <tr>\n      <th>2</th>\n      <td>1470622805</td>\n      <td>10</td>\n      <td>謝らなくていいですよ</td>\n      <td>元気ですかは元気ですね</td>\n      <td>[Repetition]</td>\n    </tr>\n    <tr>\n      <th>3</th>\n      <td>1470622805</td>\n      <td>12</td>\n      <td>とても元気です</td>\n      <td>もちろんですってのが元気ですかにいいですね</td>\n      <td>[Unclear intention]</td>\n    </tr>\n    <tr>\n      <th>4</th>\n      <td>1470622805</td>\n      <td>14</td>\n      <td>何のことですか？</td>\n      <td>色々と</td>\n      <td>[Ignore question]</td>\n    </tr>\n    <tr>\n      <th>...</th>\n      <td>...</td>\n      <td>...</td>\n      <td>...</td>\n      <td>...</td>\n      <td>...</td>\n    </tr>\n    <tr>\n      <th>378</th>\n      <td>1550629275</td>\n      <td>8</td>\n      <td>あなたは1日に何時間働いていますか？</td>\n      <td>そうなんですか。　じゃあ、博物館に行かれたことはありますか？</td>\n      <td>[Ignore question, Topic transition error]</td>\n    </tr>\n    <tr>\n      <th>379</th>\n      <td>1550629275</td>\n      <td>10</td>\n      <td>博物館に行ったことはないんです。</td>\n      <td>博物館という研究施設がおすすめです</td>\n      <td>[Unclear intention]</td>\n    </tr>\n    <tr>\n      <th>380</th>\n      <td>1550629275</td>\n      <td>12</td>\n      <td>博物館面白そうですよね。今度行ってみたいと思います。</td>\n      <td>いま、美容系の企業がアンチエイジング商品の開発に力を入れているみたいだね。</td>\n      <td>[Topic transition error]</td>\n    </tr>\n    <tr>\n      <th>381</th>\n      <td>1550629275</td>\n      <td>14</td>\n      <td>アンチエイジング興味あります。</td>\n      <td>興味あることは良く覚えるのに、興味ないことは頭の中を素通りしてしまうよね。</td>\n      <td>[Unclear intention]</td>\n    </tr>\n    <tr>\n      <th>382</th>\n      <td>1550629275</td>\n      <td>16</td>\n      <td>うん。そういうこと多いです。</td>\n      <td>素通りを許されてないな</td>\n      <td>[Unclear intention]</td>\n    </tr>\n  </tbody>\n</table>\n<p>383 rows × 5 columns</p>\n</div>"
     },
     "metadata": {},
     "execution_count": 6
    }
   ],
   "source": [
    "df = read_json(path, datalist)\n",
    "df"
   ]
  },
  {
   "cell_type": "code",
   "execution_count": 7,
   "metadata": {},
   "outputs": [
    {
     "output_type": "stream",
     "name": "stdout",
     "text": [
      "Number of breakdowns:  670\n-- Frequency of labels --\nIgnore question 129\nUnclear intention 181\nWrong information 2\nTopic transition error 51\nLack of information 22\nRepetition 34\nSemantic error 6\nSelf-contradiction 6\nContradiction 8\nGrammatical error 4\nIgnore offer 0\nIgnore proposal 1\nLack of sociality 1\nLack of common sense 7\nUninterpretable 0\nIgnore greeting 0\n-- Frequency of sets of labels (sorted) --\n"
     ]
    },
    {
     "output_type": "execute_result",
     "data": {
      "text/plain": [
       "(No-Err,)                                      287\n",
       "(Unclear intention,)                           142\n",
       "(Ignore question,)                              62\n",
       "(Ignore question, Unclear intention)            38\n",
       "(Topic transition error,)                       33\n",
       "(Repetition,)                                   26\n",
       "(Lack of information,)                          18\n",
       "(Ignore question, Topic transition error)       17\n",
       "(Contradiction,)                                 8\n",
       "(Ignore question, Repetition)                    7\n",
       "(Semantic error,)                                6\n",
       "(Lack of common sense,)                          6\n",
       "(Self-contradiction,)                            5\n",
       "(Grammatical error,)                             4\n",
       "(Lack of information, Ignore question)           4\n",
       "(Wrong information,)                             2\n",
       "(Ignore question, Self-contradiction)            1\n",
       "(Topic transition error, Unclear intention)      1\n",
       "(Ignore proposal,)                               1\n",
       "(Lack of sociality,)                             1\n",
       "(Lack of common sense, Repetition)               1\n",
       "Name: ec, dtype: int64"
      ]
     },
     "metadata": {},
     "execution_count": 7
    }
   ],
   "source": [
    "y = np.array([[1 if (i in ec) else 0 for i in error_types] for ec in df_all.ec])\n",
    "\n",
    "# Display data statistics\n",
    "print('Number of breakdowns: ', y.shape[0])\n",
    "print('-- Frequency of labels --')\n",
    "for e,c in zip(error_types, sum(y)):\n",
    "  print(e,c)\n",
    "print('-- Frequency of sets of labels (sorted) --')\n",
    "df_all['ec'].apply(tuple).value_counts()"
   ]
  },
  {
   "cell_type": "code",
   "execution_count": 8,
   "metadata": {},
   "outputs": [],
   "source": [
    "def feature_extraction(df:pd.DataFrame) -> np.array:\n",
    "    nlp = spacy.load('ja_ginza')\n",
    "\n",
    "  # Make feature vector\n",
    "    return np.array([np.concatenate([nlp(u).vector, nlp(s).vector]) for u,s in zip(df.usr, df.sys)])"
   ]
  },
  {
   "cell_type": "code",
   "execution_count": 28,
   "metadata": {},
   "outputs": [],
   "source": [
    "def feature_extraction_context2(df:pd.DataFrame) -> np.array:\n",
    "    nlp = spacy.load('ja_ginza')\n",
    "    feature = []\n",
    "    did = 0\n",
    "    for d, u, s, e in zip(df.did, df.usr, df.sys, df.ec):\n",
    "        if did != d:\n",
    "            u_prev_vec = nlp(u).vector\n",
    "            s_prev_vec = nlp(s).vector\n",
    "            did = d\n",
    "                  \n",
    "            if e[0] != \"No-Err\":\n",
    "                each = np.array(\n",
    "                    [np.concatenate(\n",
    "                        [np.zeros(300),\n",
    "                        np.zeros(300), \n",
    "                        u_prev_vec, \n",
    "                        s_prev_vec]\n",
    "                    )]\n",
    "                ) \n",
    "                feature.append(each[0])\n",
    "\n",
    "        else:     \n",
    "            # エラーである\n",
    "            if e[0] != \"No-Err\":\n",
    "                u_vec = nlp(u).vector\n",
    "                s_vec = nlp(s).vector\n",
    "                each = np.array(\n",
    "                    [np.concatenate(\n",
    "                        [u_vec,\n",
    "                        s_vec, \n",
    "                        u_prev_vec, \n",
    "                        s_prev_vec]\n",
    "                    )]\n",
    "                )\n",
    "                feature.append(each[0])\n",
    "                u_prev_vec = u_vec\n",
    "                s_prev_vec = s_vec\n",
    "            # エラーではない\n",
    "            else:    \n",
    "                u_prev_vec = nlp(u).vector\n",
    "                s_prev_vec = nlp(s).vector\n",
    "    return np.array(feature)\n"
   ]
  },
  {
   "cell_type": "code",
   "execution_count": 10,
   "metadata": {},
   "outputs": [],
   "source": [
    "def predict_at_least_oneClass(clf, X) -> np.array:\n",
    "    y_pred = clf.predict(X)\n",
    "    p = clf.predict_proba(X)\n",
    "    # print(y_pred)\n",
    "    proba = np.array([[p[c][i][1] if (p[c][i].shape[0]!=1) else 0 \n",
    "                     for c in range(len(error_types))] for i in range(len(X))])\n",
    "    # print(proba)\n",
    "  # replace [] to the highest probability label\n",
    "    y_pred2 = np.empty((0, len(error_types)), int)\n",
    "    for y, pr in zip(y_pred, proba):\n",
    "        if  (sum(y) == 0):\n",
    "            ans = np.zeros_like(y)\n",
    "            ans[np.argmax(pr)] = 1\n",
    "        else:\n",
    "            ans = y\n",
    "        y_pred2 = np.append(y_pred2, np.array([ans]), axis=0)\n",
    "    return y_pred2"
   ]
  },
  {
   "cell_type": "code",
   "execution_count": 37,
   "metadata": {},
   "outputs": [],
   "source": [
    "def extract_y(df:pd.DataFrame) -> np.array:\n",
    "    y = []\n",
    "    for ec in df.ec:\n",
    "        if ec[0] == \"No-Err\":\n",
    "            continue\n",
    "        y_each_err = np.zeros(len(error_types))\n",
    "        for i, err in enumerate( error_types ):\n",
    "            if err in ec:\n",
    "                y_each_err[i] = 1\n",
    "        y.append(y_each_err)\n",
    "    return np.array(y)\n"
   ]
  },
  {
   "cell_type": "code",
   "execution_count": 43,
   "metadata": {},
   "outputs": [
    {
     "output_type": "stream",
     "name": "stdout",
     "text": [
      "success feature_extraction\n",
      "success extract y\n",
      "size | X: (1348, 1200) y: (1348, 16)\n",
      "EM: 0.43333333333333335\n",
      "F-measure:  0.5413580246913579\n"
     ]
    }
   ],
   "source": [
    "# df = read_json_with_NoErr(path, datalist)\n",
    "# df_ = read_json(path, datalist)\n",
    "\n",
    "# feature extraction\n",
    "X = feature_extraction_context2(df_all)\n",
    "print(\"success feature_extraction\")\n",
    "# print(df_.shape, X.shape)\n",
    "\n",
    "\n",
    "# Make target (Multilabel)\n",
    "# y = np.array([[1 if (i in ec) else 0 for i in error_types] for ec in df.ec])\n",
    "y = extract_y(df_all)\n",
    "print(\"success extract y\")\n",
    "print(\"size | X:\", X.shape, \"y:\", y.shape)\n",
    "\n",
    "X_train, X_test, y_train, y_test = train_test_split(X, y, test_size=0.20, random_state=5)\n",
    "\n",
    "clf = MultiOutputClassifier(AdaBoostClassifier()).fit(X_train, y_train)\n",
    "y_pred = predict_at_least_oneClass(clf, X_test)\n",
    "\n",
    "print('EM:', metrics.accuracy_score(y_test, y_pred))\n",
    "print('F-measure: ', metrics.f1_score(y_test, y_pred, average='samples'))"
   ]
  },
  {
   "cell_type": "code",
   "execution_count": 36,
   "metadata": {},
   "outputs": [
    {
     "output_type": "execute_result",
     "data": {
      "text/plain": [
       "array([['', '1', '', ..., '', '', ''],\n",
       "       ['', '1', '', ..., '', '', ''],\n",
       "       ['', '', '', ..., '', '', ''],\n",
       "       ...,\n",
       "       ['', '', '', ..., '', '', ''],\n",
       "       ['', '1', '', ..., '', '', ''],\n",
       "       ['', '1', '', ..., '', '', '']], dtype='<U22')"
      ]
     },
     "metadata": {},
     "execution_count": 36
    }
   ],
   "source": [
    "y"
   ]
  },
  {
   "cell_type": "code",
   "execution_count": 37,
   "metadata": {
    "tags": []
   },
   "outputs": [
    {
     "output_type": "stream",
     "name": "stdout",
     "text": [
      "[[0 1 0 ... 0 0 0]\n [1 1 0 ... 0 0 0]\n [0 1 0 ... 0 0 0]\n ...\n [0 0 0 ... 0 0 0]\n [0 1 0 ... 0 0 0]\n [0 1 0 ... 0 0 0]]\n[[4.04149857e-01 5.13217973e-01 1.39676410e-08 ... 3.22934213e-09\n  0.00000000e+00 0.00000000e+00]\n [6.15453322e-01 5.17288253e-01 4.48846210e-12 ... 4.07817842e-08\n  0.00000000e+00 0.00000000e+00]\n [3.86877696e-01 5.01891708e-01 5.72957238e-13 ... 4.24439375e-09\n  0.00000000e+00 0.00000000e+00]\n ...\n [3.99552361e-01 4.92385825e-01 6.14181464e-11 ... 1.36689057e-12\n  0.00000000e+00 0.00000000e+00]\n [1.90990886e-01 5.23530523e-01 5.99790437e-11 ... 2.04073900e-09\n  0.00000000e+00 0.00000000e+00]\n [3.58078334e-01 5.13292726e-01 5.52278974e-12 ... 1.73177833e-09\n  0.00000000e+00 0.00000000e+00]]\n"
     ]
    },
    {
     "output_type": "execute_result",
     "data": {
      "text/plain": [
       "array([[0, 1, 0, ..., 0, 0, 0],\n",
       "       [1, 1, 0, ..., 0, 0, 0],\n",
       "       [0, 1, 0, ..., 0, 0, 0],\n",
       "       ...,\n",
       "       [0, 1, 0, ..., 0, 0, 0],\n",
       "       [0, 1, 0, ..., 0, 0, 0],\n",
       "       [0, 1, 0, ..., 0, 0, 0]])"
      ]
     },
     "metadata": {},
     "execution_count": 37
    }
   ],
   "source": [
    "y_pred = predict_at_least_oneClass(clf, X_test)\n",
    "y_pred"
   ]
  },
  {
   "cell_type": "code",
   "execution_count": 19,
   "metadata": {},
   "outputs": [
    {
     "output_type": "stream",
     "name": "stdout",
     "text": [
      "True\n"
     ]
    }
   ],
   "source": [
    "print(torch.cuda.is_available())"
   ]
  },
  {
   "cell_type": "code",
   "execution_count": null,
   "metadata": {},
   "outputs": [],
   "source": []
  }
 ]
}