{
 "metadata": {
  "language_info": {
   "codemirror_mode": {
    "name": "ipython",
    "version": 3
   },
   "file_extension": ".py",
   "mimetype": "text/x-python",
   "name": "python",
   "nbconvert_exporter": "python",
   "pygments_lexer": "ipython3",
   "version": "3.6.10"
  },
  "orig_nbformat": 4,
  "kernelspec": {
   "name": "python3",
   "display_name": "Python 3.6.10 64-bit ('ML-2SCCiqXR': pipenv)"
  },
  "interpreter": {
   "hash": "daa14a0be65eb61f80ba21ff307e9d16a38ec6f2ac35da4662292c5955e33db4"
  }
 },
 "nbformat": 4,
 "nbformat_minor": 2,
 "cells": [
  {
   "cell_type": "code",
   "execution_count": 2,
   "metadata": {},
   "outputs": [],
   "source": [
    "from pathlib import Path\n",
    "import json\n",
    "import pandas as pd\n",
    "import collections\n",
    "import numpy as np\n",
    "\n",
    "import spacy"
   ]
  },
  {
   "cell_type": "code",
   "execution_count": 3,
   "metadata": {},
   "outputs": [],
   "source": [
    "path = './error_category_classification/dbdc5_ja_dev_labeled/'\n",
    "# Names of the dialogue systems\n",
    "datalist = ['DCM']\n",
    "# datalist = ['DCM', 'DIT', 'IRS']\n",
    "# List of error types\n",
    "error_types = ['Ignore question', 'Unclear intention', 'Wrong information', 'Topic transition error', 'Lack of information', \n",
    "'Repetition', 'Semantic error', 'Self-contradiction', 'Contradiction', 'Grammatical error', 'Ignore offer', \n",
    "'Ignore proposal', 'Lack of sociality', 'Lack of common sense', 'Uninterpretable', 'Ignore greeting']"
   ]
  },
  {
   "cell_type": "code",
   "execution_count": 4,
   "metadata": {},
   "outputs": [],
   "source": [
    "def read_json(path:str, datalist:list) -> pd.DataFrame:\n",
    "    cols = ['did', 'tid', 'usr', 'sys', 'ec']\n",
    "    datalist = ['DCM']\n",
    "    # datalist = ['DCM', 'DIT', 'IRS']\n",
    "    df = pd.DataFrame(index=[], columns=cols)\n",
    "\n",
    "    for p in datalist:\n",
    "        datapath = Path(path + p + '/')\n",
    "        for file_ in datapath.glob(\"*.json\"):\n",
    "            # print(file_)\n",
    "            with open(file_, \"r\") as f:\n",
    "                json_data = json.load(f)\n",
    "                did = json_data[\"dialogue-id\"]\n",
    "                for t in json_data[\"turns\"]:\n",
    "                    if t[\"turn-index\"] == 0:\n",
    "                        continue\n",
    "                    if t[\"speaker\"] == \"U\":\n",
    "                        usr = t[\"utterance\"]\n",
    "                        continue\n",
    "                    if t[\"speaker\"] == \"S\" and t[\"error_category\"] != None:\n",
    "                        tid = t[\"turn-index\"]\n",
    "                        sys = t[\"utterance\"]\n",
    "                        ec = t[\"error_category\"]\n",
    "                        df = df.append(pd.DataFrame([did, tid, usr, sys, ec], index = cols).T)\n",
    "    df.reset_index(inplace=True, drop=True)\n",
    "    return df"
   ]
  },
  {
   "cell_type": "code",
   "execution_count": 5,
   "metadata": {},
   "outputs": [
    {
     "output_type": "execute_result",
     "data": {
      "text/plain": [
       "            did tid                         usr  \\\n",
       "0    1470622805   6                    今日は暑いですね   \n",
       "1    1470622805   8                       そうですか   \n",
       "2    1470622805  10                  謝らなくていいですよ   \n",
       "3    1470622805  12                     とても元気です   \n",
       "4    1470622805  14                    何のことですか？   \n",
       "..          ...  ..                         ...   \n",
       "378  1550629275   8          あなたは1日に何時間働いていますか？   \n",
       "379  1550629275  10            博物館に行ったことはないんです。   \n",
       "380  1550629275  12  博物館面白そうですよね。今度行ってみたいと思います。   \n",
       "381  1550629275  14             アンチエイジング興味あります。   \n",
       "382  1550629275  16              うん。そういうこと多いです。   \n",
       "\n",
       "                                       sys  \\\n",
       "0                               元気ですかは元気です   \n",
       "1                                     ごめんね   \n",
       "2                              元気ですかは元気ですね   \n",
       "3                    もちろんですってのが元気ですかにいいですね   \n",
       "4                                      色々と   \n",
       "..                                     ...   \n",
       "378         そうなんですか。　じゃあ、博物館に行かれたことはありますか？   \n",
       "379                      博物館という研究施設がおすすめです   \n",
       "380  いま、美容系の企業がアンチエイジング商品の開発に力を入れているみたいだね。   \n",
       "381  興味あることは良く覚えるのに、興味ないことは頭の中を素通りしてしまうよね。   \n",
       "382                            素通りを許されてないな   \n",
       "\n",
       "                                            ec  \n",
       "0                          [Unclear intention]  \n",
       "1                          [Unclear intention]  \n",
       "2                                 [Repetition]  \n",
       "3                          [Unclear intention]  \n",
       "4                            [Ignore question]  \n",
       "..                                         ...  \n",
       "378  [Ignore question, Topic transition error]  \n",
       "379                        [Unclear intention]  \n",
       "380                   [Topic transition error]  \n",
       "381                        [Unclear intention]  \n",
       "382                        [Unclear intention]  \n",
       "\n",
       "[383 rows x 5 columns]"
      ],
      "text/html": "<div>\n<style scoped>\n    .dataframe tbody tr th:only-of-type {\n        vertical-align: middle;\n    }\n\n    .dataframe tbody tr th {\n        vertical-align: top;\n    }\n\n    .dataframe thead th {\n        text-align: right;\n    }\n</style>\n<table border=\"1\" class=\"dataframe\">\n  <thead>\n    <tr style=\"text-align: right;\">\n      <th></th>\n      <th>did</th>\n      <th>tid</th>\n      <th>usr</th>\n      <th>sys</th>\n      <th>ec</th>\n    </tr>\n  </thead>\n  <tbody>\n    <tr>\n      <th>0</th>\n      <td>1470622805</td>\n      <td>6</td>\n      <td>今日は暑いですね</td>\n      <td>元気ですかは元気です</td>\n      <td>[Unclear intention]</td>\n    </tr>\n    <tr>\n      <th>1</th>\n      <td>1470622805</td>\n      <td>8</td>\n      <td>そうですか</td>\n      <td>ごめんね</td>\n      <td>[Unclear intention]</td>\n    </tr>\n    <tr>\n      <th>2</th>\n      <td>1470622805</td>\n      <td>10</td>\n      <td>謝らなくていいですよ</td>\n      <td>元気ですかは元気ですね</td>\n      <td>[Repetition]</td>\n    </tr>\n    <tr>\n      <th>3</th>\n      <td>1470622805</td>\n      <td>12</td>\n      <td>とても元気です</td>\n      <td>もちろんですってのが元気ですかにいいですね</td>\n      <td>[Unclear intention]</td>\n    </tr>\n    <tr>\n      <th>4</th>\n      <td>1470622805</td>\n      <td>14</td>\n      <td>何のことですか？</td>\n      <td>色々と</td>\n      <td>[Ignore question]</td>\n    </tr>\n    <tr>\n      <th>...</th>\n      <td>...</td>\n      <td>...</td>\n      <td>...</td>\n      <td>...</td>\n      <td>...</td>\n    </tr>\n    <tr>\n      <th>378</th>\n      <td>1550629275</td>\n      <td>8</td>\n      <td>あなたは1日に何時間働いていますか？</td>\n      <td>そうなんですか。　じゃあ、博物館に行かれたことはありますか？</td>\n      <td>[Ignore question, Topic transition error]</td>\n    </tr>\n    <tr>\n      <th>379</th>\n      <td>1550629275</td>\n      <td>10</td>\n      <td>博物館に行ったことはないんです。</td>\n      <td>博物館という研究施設がおすすめです</td>\n      <td>[Unclear intention]</td>\n    </tr>\n    <tr>\n      <th>380</th>\n      <td>1550629275</td>\n      <td>12</td>\n      <td>博物館面白そうですよね。今度行ってみたいと思います。</td>\n      <td>いま、美容系の企業がアンチエイジング商品の開発に力を入れているみたいだね。</td>\n      <td>[Topic transition error]</td>\n    </tr>\n    <tr>\n      <th>381</th>\n      <td>1550629275</td>\n      <td>14</td>\n      <td>アンチエイジング興味あります。</td>\n      <td>興味あることは良く覚えるのに、興味ないことは頭の中を素通りしてしまうよね。</td>\n      <td>[Unclear intention]</td>\n    </tr>\n    <tr>\n      <th>382</th>\n      <td>1550629275</td>\n      <td>16</td>\n      <td>うん。そういうこと多いです。</td>\n      <td>素通りを許されてないな</td>\n      <td>[Unclear intention]</td>\n    </tr>\n  </tbody>\n</table>\n<p>383 rows × 5 columns</p>\n</div>"
     },
     "metadata": {},
     "execution_count": 5
    }
   ],
   "source": [
    "df = read_json(path, datalist)\n",
    "df"
   ]
  },
  {
   "cell_type": "code",
   "execution_count": null,
   "metadata": {},
   "outputs": [],
   "source": [
    "def read_json_with_NoErr(path:str, datalist:list) -> pd.DataFrame:\n",
    "    cols = ['did', 'tid', 'usr', 'sys', 'ec']\n",
    "    df = pd.DataFrame(index=[], columns=cols)\n",
    "\n",
    "    for p in datalist:\n",
    "        datapath = Path(path + p + '/')\n",
    "        for file in datapath.glob(\"*.json\"):\n",
    "            with open(file, \"r\") as f:\n",
    "                json_data = json.load(f)\n",
    "                did = json_data[\"dialogue-id\"]\n",
    "                for t in json_data[\"turns\"]:\n",
    "                    if t[\"turn-index\"] == 0:\n",
    "                        continue\n",
    "                    if t[\"speaker\"] == \"U\":\n",
    "                        usr = t[\"utterance\"]\n",
    "                        continue\n",
    "                    if t[\"speaker\"] == \"S\" :\n",
    "                        tid = t[\"turn-index\"]\n",
    "                        sys = t[\"utterance\"]\n",
    "                        if t[\"error_category\"]:\n",
    "                            ec = t[\"error_category\"]\n",
    "                        else:\n",
    "                            ec = [\"No-Err\"]\n",
    "                        df = df.append(pd.DataFrame([did, tid, usr, sys, ec], index = cols).T)\n",
    "    df.reset_index(inplace=True, drop=True)\n",
    "    return df"
   ]
  },
  {
   "cell_type": "code",
   "execution_count": 6,
   "metadata": {},
   "outputs": [
    {
     "output_type": "stream",
     "name": "stdout",
     "text": [
      "Number of breakdowns:  383\n-- Frequency of labels --\nIgnore question 129\nUnclear intention 181\nWrong information 2\nTopic transition error 51\nLack of information 22\nRepetition 34\nSemantic error 6\nSelf-contradiction 6\nContradiction 8\nGrammatical error 4\nIgnore offer 0\nIgnore proposal 1\nLack of sociality 1\nLack of common sense 7\nUninterpretable 0\nIgnore greeting 0\n-- Frequency of sets of labels (sorted) --\n"
     ]
    },
    {
     "output_type": "execute_result",
     "data": {
      "text/plain": [
       "(Unclear intention,)                           142\n",
       "(Ignore question,)                              62\n",
       "(Ignore question, Unclear intention)            38\n",
       "(Topic transition error,)                       33\n",
       "(Repetition,)                                   26\n",
       "(Lack of information,)                          18\n",
       "(Ignore question, Topic transition error)       17\n",
       "(Contradiction,)                                 8\n",
       "(Ignore question, Repetition)                    7\n",
       "(Semantic error,)                                6\n",
       "(Lack of common sense,)                          6\n",
       "(Self-contradiction,)                            5\n",
       "(Grammatical error,)                             4\n",
       "(Lack of information, Ignore question)           4\n",
       "(Wrong information,)                             2\n",
       "(Ignore question, Self-contradiction)            1\n",
       "(Topic transition error, Unclear intention)      1\n",
       "(Lack of sociality,)                             1\n",
       "(Ignore proposal,)                               1\n",
       "(Lack of common sense, Repetition)               1\n",
       "Name: ec, dtype: int64"
      ]
     },
     "metadata": {},
     "execution_count": 6
    }
   ],
   "source": [
    "y = np.array([[1 if (i in ec) else 0 for i in error_types] for ec in df.ec])\n",
    "\n",
    "# Display data statistics\n",
    "print('Number of breakdowns: ', y.shape[0])\n",
    "print('-- Frequency of labels --')\n",
    "for e,c in zip(error_types, sum(y)):\n",
    "  print(e,c)\n",
    "print('-- Frequency of sets of labels (sorted) --')\n",
    "df['ec'].apply(tuple).value_counts()"
   ]
  },
  {
   "cell_type": "code",
   "execution_count": 18,
   "metadata": {},
   "outputs": [],
   "source": [
    "def continuous_error(df:pd.DataFrame) -> pd.DataFrame:\n",
    "    cols = ['did', 'tid', 'usr', 'sys', 'ec']\n",
    "    df_cont = pd.DataFrame(index=[], columns=cols)\n",
    "    id = 0\n",
    "    for d, t, u, s, e in zip(df.did, df.tid, df.usr, df.sys, df.ec):\n",
    "        if id == t-2:\n",
    "            # print(t)\n",
    "            # print(u)\n",
    "            # print(s)\n",
    "            # print()\n",
    "            df_cont = df_cont.append(pd.DataFrame([d, t, u, s, e], index = cols).T)\n",
    "        id = t\n",
    "        if id > t:\n",
    "            id = 0\n",
    "    return df_cont\n"
   ]
  },
  {
   "cell_type": "code",
   "execution_count": 19,
   "metadata": {},
   "outputs": [
    {
     "output_type": "execute_result",
     "data": {
      "text/plain": [
       "           did tid                         usr  \\\n",
       "0   1470622805   8                       そうですか   \n",
       "0   1470622805  10                  謝らなくていいですよ   \n",
       "0   1470622805  12                     とても元気です   \n",
       "0   1470622805  14                    何のことですか？   \n",
       "0   1470622805  16                        なるほど   \n",
       "..         ...  ..                         ...   \n",
       "0   1550629275   8          あなたは1日に何時間働いていますか？   \n",
       "0   1550629275  10            博物館に行ったことはないんです。   \n",
       "0   1550629275  12  博物館面白そうですよね。今度行ってみたいと思います。   \n",
       "0   1550629275  14             アンチエイジング興味あります。   \n",
       "0   1550629275  16              うん。そういうこと多いです。   \n",
       "\n",
       "                                      sys  \\\n",
       "0                                    ごめんね   \n",
       "0                             元気ですかは元気ですね   \n",
       "0                   もちろんですってのが元気ですかにいいですね   \n",
       "0                                     色々と   \n",
       "0                                     せやろ   \n",
       "..                                    ...   \n",
       "0          そうなんですか。　じゃあ、博物館に行かれたことはありますか？   \n",
       "0                       博物館という研究施設がおすすめです   \n",
       "0   いま、美容系の企業がアンチエイジング商品の開発に力を入れているみたいだね。   \n",
       "0   興味あることは良く覚えるのに、興味ないことは頭の中を素通りしてしまうよね。   \n",
       "0                             素通りを許されてないな   \n",
       "\n",
       "                                           ec  \n",
       "0                         [Unclear intention]  \n",
       "0                                [Repetition]  \n",
       "0                         [Unclear intention]  \n",
       "0                           [Ignore question]  \n",
       "0                         [Unclear intention]  \n",
       "..                                        ...  \n",
       "0   [Ignore question, Topic transition error]  \n",
       "0                         [Unclear intention]  \n",
       "0                    [Topic transition error]  \n",
       "0                         [Unclear intention]  \n",
       "0                         [Unclear intention]  \n",
       "\n",
       "[212 rows x 5 columns]"
      ],
      "text/html": "<div>\n<style scoped>\n    .dataframe tbody tr th:only-of-type {\n        vertical-align: middle;\n    }\n\n    .dataframe tbody tr th {\n        vertical-align: top;\n    }\n\n    .dataframe thead th {\n        text-align: right;\n    }\n</style>\n<table border=\"1\" class=\"dataframe\">\n  <thead>\n    <tr style=\"text-align: right;\">\n      <th></th>\n      <th>did</th>\n      <th>tid</th>\n      <th>usr</th>\n      <th>sys</th>\n      <th>ec</th>\n    </tr>\n  </thead>\n  <tbody>\n    <tr>\n      <th>0</th>\n      <td>1470622805</td>\n      <td>8</td>\n      <td>そうですか</td>\n      <td>ごめんね</td>\n      <td>[Unclear intention]</td>\n    </tr>\n    <tr>\n      <th>0</th>\n      <td>1470622805</td>\n      <td>10</td>\n      <td>謝らなくていいですよ</td>\n      <td>元気ですかは元気ですね</td>\n      <td>[Repetition]</td>\n    </tr>\n    <tr>\n      <th>0</th>\n      <td>1470622805</td>\n      <td>12</td>\n      <td>とても元気です</td>\n      <td>もちろんですってのが元気ですかにいいですね</td>\n      <td>[Unclear intention]</td>\n    </tr>\n    <tr>\n      <th>0</th>\n      <td>1470622805</td>\n      <td>14</td>\n      <td>何のことですか？</td>\n      <td>色々と</td>\n      <td>[Ignore question]</td>\n    </tr>\n    <tr>\n      <th>0</th>\n      <td>1470622805</td>\n      <td>16</td>\n      <td>なるほど</td>\n      <td>せやろ</td>\n      <td>[Unclear intention]</td>\n    </tr>\n    <tr>\n      <th>...</th>\n      <td>...</td>\n      <td>...</td>\n      <td>...</td>\n      <td>...</td>\n      <td>...</td>\n    </tr>\n    <tr>\n      <th>0</th>\n      <td>1550629275</td>\n      <td>8</td>\n      <td>あなたは1日に何時間働いていますか？</td>\n      <td>そうなんですか。　じゃあ、博物館に行かれたことはありますか？</td>\n      <td>[Ignore question, Topic transition error]</td>\n    </tr>\n    <tr>\n      <th>0</th>\n      <td>1550629275</td>\n      <td>10</td>\n      <td>博物館に行ったことはないんです。</td>\n      <td>博物館という研究施設がおすすめです</td>\n      <td>[Unclear intention]</td>\n    </tr>\n    <tr>\n      <th>0</th>\n      <td>1550629275</td>\n      <td>12</td>\n      <td>博物館面白そうですよね。今度行ってみたいと思います。</td>\n      <td>いま、美容系の企業がアンチエイジング商品の開発に力を入れているみたいだね。</td>\n      <td>[Topic transition error]</td>\n    </tr>\n    <tr>\n      <th>0</th>\n      <td>1550629275</td>\n      <td>14</td>\n      <td>アンチエイジング興味あります。</td>\n      <td>興味あることは良く覚えるのに、興味ないことは頭の中を素通りしてしまうよね。</td>\n      <td>[Unclear intention]</td>\n    </tr>\n    <tr>\n      <th>0</th>\n      <td>1550629275</td>\n      <td>16</td>\n      <td>うん。そういうこと多いです。</td>\n      <td>素通りを許されてないな</td>\n      <td>[Unclear intention]</td>\n    </tr>\n  </tbody>\n</table>\n<p>212 rows × 5 columns</p>\n</div>"
     },
     "metadata": {},
     "execution_count": 19
    }
   ],
   "source": [
    "df_cont = continuous_error(df)\n",
    "df_cont"
   ]
  },
  {
   "cell_type": "code",
   "execution_count": 20,
   "metadata": {},
   "outputs": [
    {
     "output_type": "stream",
     "name": "stdout",
     "text": [
      "-- Frequency of sets of labels (sorted) --\n"
     ]
    },
    {
     "output_type": "execute_result",
     "data": {
      "text/plain": [
       "(Unclear intention,)                           81\n",
       "(Ignore question,)                             34\n",
       "(Ignore question, Unclear intention)           21\n",
       "(Topic transition error,)                      17\n",
       "(Repetition,)                                  15\n",
       "(Lack of information,)                          9\n",
       "(Ignore question, Topic transition error)       8\n",
       "(Ignore question, Repetition)                   6\n",
       "(Grammatical error,)                            4\n",
       "(Lack of common sense,)                         4\n",
       "(Self-contradiction,)                           3\n",
       "(Semantic error,)                               2\n",
       "(Lack of information, Ignore question)          2\n",
       "(Contradiction,)                                2\n",
       "(Wrong information,)                            1\n",
       "(Topic transition error, Unclear intention)     1\n",
       "(Ignore question, Self-contradiction)           1\n",
       "(Lack of common sense, Repetition)              1\n",
       "Name: ec, dtype: int64"
      ]
     },
     "metadata": {},
     "execution_count": 20
    }
   ],
   "source": [
    "print('-- Frequency of sets of labels (sorted) --')\n",
    "df_cont['ec'].apply(tuple).value_counts()"
   ]
  },
  {
   "cell_type": "code",
   "execution_count": null,
   "metadata": {},
   "outputs": [],
   "source": []
  }
 ]
}