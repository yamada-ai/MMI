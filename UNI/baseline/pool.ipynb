{
 "cells": [
  {
   "cell_type": "code",
   "execution_count": 1,
   "metadata": {},
   "outputs": [],
   "source": [
    "import re\n",
    "import sys\n",
    "import json\n",
    "\n",
    "\n",
    "import sys\n",
    "sys.dont_write_bytecode = True\n",
    "sys.path.append('../')\n",
    "from datatools.analyzer import *\n",
    "\n",
    "from datatools.maneger import DataManager\n",
    "from datatools.preproc import Preprocessor\n",
    "\n",
    "from sklearn.linear_model import LogisticRegression\n",
    "from sklearn.model_selection import train_test_split\n",
    "from sklearn import metrics"
   ]
  },
  {
   "cell_type": "code",
   "execution_count": 2,
   "metadata": {},
   "outputs": [],
   "source": [
    "import torch\n",
    "import torch.nn as nn\n",
    "import torch.nn.functional as F\n",
    "from torch.nn.modules import loss\n",
    "import torch.optim as optim\n",
    "import torch.nn.utils.rnn as rnn"
   ]
  },
  {
   "cell_type": "code",
   "execution_count": 71,
   "metadata": {},
   "outputs": [],
   "source": [
    "def pooling_1(A):\n",
    "    b_len = len(A)\n",
    "    f_len = len(A[0][0])\n",
    "    pooled = torch.zeros((b_len, f_len)).cuda()\n",
    "    for i, batch in enumerate( A ):\n",
    "        for j in range(f_len):\n",
    "                # batch_pooled.append( A[i, torch.argmax(A[i, :, j]), j] )\n",
    "            pooled[i, j] = A[i, torch.argmax(A[i, :, j]), j]\n",
    "    return pooled"
   ]
  },
  {
   "cell_type": "code",
   "execution_count": 72,
   "metadata": {},
   "outputs": [],
   "source": [
    "def pooling_2(A):\n",
    "    # A : dim3\n",
    "    if len(A.shape) == 2:\n",
    "        A = torch.stack([A])\n",
    "    b_len = len(A)\n",
    "    seq_len = len(A[0])\n",
    "    m = nn.MaxPool1d(seq_len, stride=seq_len)\n",
    "    B = A.permute((0, 2, 1))\n",
    "    return m(B).reshape(b_len, -1)"
   ]
  },
  {
   "cell_type": "code",
   "execution_count": 73,
   "metadata": {},
   "outputs": [
    {
     "data": {
      "text/plain": [
       "tensor([[[0.0000e+00, 1.0000e+00, 2.0000e+00,  ..., 5.9700e+02,\n",
       "          5.9800e+02, 5.9900e+02],\n",
       "         [6.0000e+02, 6.0100e+02, 6.0200e+02,  ..., 1.1970e+03,\n",
       "          1.1980e+03, 1.1990e+03]],\n",
       "\n",
       "        [[1.2000e+03, 1.2010e+03, 1.2020e+03,  ..., 1.7970e+03,\n",
       "          1.7980e+03, 1.7990e+03],\n",
       "         [1.8000e+03, 1.8010e+03, 1.8020e+03,  ..., 2.3970e+03,\n",
       "          2.3980e+03, 2.3990e+03]],\n",
       "\n",
       "        [[2.4000e+03, 2.4010e+03, 2.4020e+03,  ..., 2.9970e+03,\n",
       "          2.9980e+03, 2.9990e+03],\n",
       "         [3.0000e+03, 3.0010e+03, 3.0020e+03,  ..., 3.5970e+03,\n",
       "          3.5980e+03, 3.5990e+03]],\n",
       "\n",
       "        [[3.6000e+03, 3.6010e+03, 3.6020e+03,  ..., 4.1970e+03,\n",
       "          4.1980e+03, 4.1990e+03],\n",
       "         [4.2000e+03, 4.2010e+03, 4.2020e+03,  ..., 4.7970e+03,\n",
       "          4.7980e+03, 4.7990e+03]],\n",
       "\n",
       "        [[4.8000e+03, 4.8010e+03, 4.8020e+03,  ..., 5.3970e+03,\n",
       "          5.3980e+03, 5.3990e+03],\n",
       "         [5.4000e+03, 5.4010e+03, 5.4020e+03,  ..., 5.9970e+03,\n",
       "          5.9980e+03, 5.9990e+03]]])"
      ]
     },
     "execution_count": 73,
     "metadata": {},
     "output_type": "execute_result"
    }
   ],
   "source": [
    "A =  torch.arange(6000).reshape(5, 2, -1).float()\n",
    "A"
   ]
  },
  {
   "cell_type": "code",
   "execution_count": 74,
   "metadata": {},
   "outputs": [
    {
     "name": "stdout",
     "output_type": "stream",
     "text": [
      "pooling 1 5.510290400000031\n",
      "pooling 2 0.0008459000000584638\n"
     ]
    }
   ],
   "source": [
    "import time\n",
    "st = time.perf_counter()\n",
    "pooling_1(A)\n",
    "et = time.perf_counter()\n",
    "print(\"pooling 1\", et-st)\n",
    "\n",
    "st = time.perf_counter()\n",
    "pooling_2(A)\n",
    "et = time.perf_counter()\n",
    "print(\"pooling 2\", et-st)"
   ]
  },
  {
   "cell_type": "code",
   "execution_count": 75,
   "metadata": {},
   "outputs": [],
   "source": [
    "B  = A.permute((0, 2, 1))"
   ]
  },
  {
   "cell_type": "code",
   "execution_count": 76,
   "metadata": {},
   "outputs": [
    {
     "data": {
      "text/plain": [
       "tensor([[[0.0000e+00, 1.0000e+00, 2.0000e+00,  ..., 5.9700e+02,\n",
       "          5.9800e+02, 5.9900e+02],\n",
       "         [6.0000e+02, 6.0100e+02, 6.0200e+02,  ..., 1.1970e+03,\n",
       "          1.1980e+03, 1.1990e+03]],\n",
       "\n",
       "        [[1.2000e+03, 1.2010e+03, 1.2020e+03,  ..., 1.7970e+03,\n",
       "          1.7980e+03, 1.7990e+03],\n",
       "         [1.8000e+03, 1.8010e+03, 1.8020e+03,  ..., 2.3970e+03,\n",
       "          2.3980e+03, 2.3990e+03]],\n",
       "\n",
       "        [[2.4000e+03, 2.4010e+03, 2.4020e+03,  ..., 2.9970e+03,\n",
       "          2.9980e+03, 2.9990e+03],\n",
       "         [3.0000e+03, 3.0010e+03, 3.0020e+03,  ..., 3.5970e+03,\n",
       "          3.5980e+03, 3.5990e+03]],\n",
       "\n",
       "        [[3.6000e+03, 3.6010e+03, 3.6020e+03,  ..., 4.1970e+03,\n",
       "          4.1980e+03, 4.1990e+03],\n",
       "         [4.2000e+03, 4.2010e+03, 4.2020e+03,  ..., 4.7970e+03,\n",
       "          4.7980e+03, 4.7990e+03]],\n",
       "\n",
       "        [[4.8000e+03, 4.8010e+03, 4.8020e+03,  ..., 5.3970e+03,\n",
       "          5.3980e+03, 5.3990e+03],\n",
       "         [5.4000e+03, 5.4010e+03, 5.4020e+03,  ..., 5.9970e+03,\n",
       "          5.9980e+03, 5.9990e+03]]])"
      ]
     },
     "execution_count": 76,
     "metadata": {},
     "output_type": "execute_result"
    }
   ],
   "source": [
    "A"
   ]
  },
  {
   "cell_type": "code",
   "execution_count": null,
   "metadata": {},
   "outputs": [],
   "source": []
  }
 ],
 "metadata": {
  "interpreter": {
   "hash": "31f2aee4e71d21fbe5cf8b01ff0e069b9275f58929596ceb00d14d90e3e16cd6"
  },
  "kernelspec": {
   "display_name": "Python 3.6.9 64-bit",
   "language": "python",
   "name": "python3"
  },
  "language_info": {
   "codemirror_mode": {
    "name": "ipython",
    "version": 3
   },
   "file_extension": ".py",
   "mimetype": "text/x-python",
   "name": "python",
   "nbconvert_exporter": "python",
   "pygments_lexer": "ipython3",
   "version": "3.6.9"
  },
  "orig_nbformat": 4
 },
 "nbformat": 4,
 "nbformat_minor": 2
}
