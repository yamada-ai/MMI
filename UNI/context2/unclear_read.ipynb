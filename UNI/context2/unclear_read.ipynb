{
 "cells": [
  {
   "cell_type": "code",
   "execution_count": 3,
   "metadata": {},
   "outputs": [],
   "source": [
    "import json\n",
    "import os\n",
    "import pandas as pd\n",
    "import numpy as np\n",
    "from pathlib import Path\n",
    "import collections\n",
    "from sklearn.model_selection import train_test_split\n",
    "from sklearn import metrics\n",
    "\n",
    "import sys\n",
    "sys.path.append(\"../\")\n",
    "from datatools.analyzer import *\n",
    "from utterance.error_tools import *\n",
    "\n",
    "from datatools.maneger import DataManager\n",
    "from datatools.preproc import Preprocessor"
   ]
  },
  {
   "cell_type": "code",
   "execution_count": 2,
   "metadata": {},
   "outputs": [],
   "source": [
    "xlsx_path = \"../../corpus/NTT/\"\n",
    "xlsx = os.listdir(xlsx_path)[1]"
   ]
  },
  {
   "cell_type": "code",
   "execution_count": 3,
   "metadata": {},
   "outputs": [
    {
     "data": {
      "text/plain": [
       "'japanese_persona_chat.xlsx'"
      ]
     },
     "execution_count": 3,
     "metadata": {},
     "output_type": "execute_result"
    }
   ],
   "source": [
    "xlsx"
   ]
  },
  {
   "cell_type": "code",
   "execution_count": 4,
   "metadata": {},
   "outputs": [],
   "source": [
    "df = pd.read_excel(xlsx_path+xlsx)\n",
    "# xlrd version == 1.2.0"
   ]
  },
  {
   "cell_type": "code",
   "execution_count": 5,
   "metadata": {},
   "outputs": [],
   "source": [
    "\"\"\"\n",
    "    data : name\n",
    "    convs : [\n",
    "        \"did-num\" : []\n",
    "    ]\n",
    "\n",
    "\"\"\"\n",
    "\n",
    "def read_dialogue(df):\n",
    "    convs = dict()\n",
    "    convs[\"convs\"] = []\n",
    "    current_id = \"\"\n",
    "    conv = []\n",
    "    for id_, utt in zip(df[\"ID\"], df[\"発話\"]):\n",
    "        ex_id = id_.split(\"_\")[1]\n",
    "        # id 変更\n",
    "        if ex_id != current_id:\n",
    "            # 最初の制御\n",
    "            if len(conv) == 0:\n",
    "                conv.append(utt)\n",
    "                current_id = ex_id\n",
    "                continue\n",
    "            data = {\"did-{0}\".format(current_id):conv}\n",
    "            convs[\"convs\"].append(data)\n",
    "            current_id = ex_id\n",
    "            conv = []\n",
    "        conv.append(utt)\n",
    "    return convs\n",
    "\n",
    "def read_persona(df):\n",
    "    convs = dict()\n",
    "    convs[\"convs\"] = []\n",
    "    current_id = \"\"\n",
    "    conv = []\n",
    "    for id_, utt in zip(df[\"No\"], df[\"発話\"]):\n",
    "        # ex_id = id_.split(\"_\")[1]\n",
    "        # id 変更\n",
    "        if id_ != current_id:\n",
    "            # 最初の制御\n",
    "            if len(conv) == 0:\n",
    "                conv.append(utt)\n",
    "                current_id = id_\n",
    "                continue\n",
    "            data = {\"did-{0}\".format(current_id):conv}\n",
    "            convs[\"convs\"].append(data)\n",
    "            current_id = id_\n",
    "            conv = []\n",
    "        conv.append(utt)\n",
    "    return convs\n",
    "\n",
    "# with open(\"../../corpus/NTT/empathetic.json\", \"w\") as f:\n",
    "#     json.dump(read_dialogue(df),  f,  ensure_ascii=False, indent=4)"
   ]
  },
  {
   "cell_type": "code",
   "execution_count": 6,
   "metadata": {},
   "outputs": [],
   "source": [
    "# convs = read_dialogue(df)\n",
    "convs = read_persona(df)\n",
    "# with open(\"../../corpus/NTT/persona.json\", \"w\") as f:\n",
    "#     json.dump(convs,  f,  ensure_ascii=False, indent=4)"
   ]
  },
  {
   "cell_type": "code",
   "execution_count": 7,
   "metadata": {},
   "outputs": [],
   "source": [
    "def skip_utt(convs):\n",
    "    skip_pair = []\n",
    "    for did in convs[\"convs\"]:\n",
    "        dids = list( did.keys() )[0]\n",
    "        conv = did[dids][2::2]\n",
    "        print(conv)"
   ]
  },
  {
   "cell_type": "code",
   "execution_count": 6,
   "metadata": {},
   "outputs": [],
   "source": [
    "from sentence_transformers import SentenceTransformer\n",
    "from sentence_transformers import models ,losses\n",
    "from sentence_transformers.readers import InputExample\n",
    "from sentence_transformers.losses import TripletDistanceMetric, SoftmaxLoss\n",
    "from sentence_transformers.evaluation import TripletEvaluator\n",
    "from sentence_transformers.readers import TripletReader\n",
    "from sentence_transformers.datasets import SentencesDataset\n",
    "from torch.utils.data import DataLoader"
   ]
  },
  {
   "cell_type": "code",
   "execution_count": 9,
   "metadata": {},
   "outputs": [],
   "source": [
    "import transformers\n",
    "transformers.BertTokenizer = transformers.BertJapaneseTokenizer"
   ]
  },
  {
   "cell_type": "code",
   "execution_count": 10,
   "metadata": {},
   "outputs": [
    {
     "name": "stderr",
     "output_type": "stream",
     "text": [
      "Some weights of the model checkpoint at ../../corpus/cl-tohoku/bert-base-japanese-whole-word-masking were not used when initializing BertModel: ['cls.predictions.transform.dense.bias', 'cls.predictions.transform.LayerNorm.bias', 'cls.predictions.bias', 'cls.predictions.transform.LayerNorm.weight', 'cls.seq_relationship.bias', 'cls.predictions.decoder.weight', 'cls.predictions.transform.dense.weight', 'cls.seq_relationship.weight']\n",
      "- This IS expected if you are initializing BertModel from the checkpoint of a model trained on another task or with another architecture (e.g. initializing a BertForSequenceClassification model from a BertForPreTraining model).\n",
      "- This IS NOT expected if you are initializing BertModel from the checkpoint of a model that you expect to be exactly identical (initializing a BertForSequenceClassification model from a BertForSequenceClassification model).\n"
     ]
    },
    {
     "name": "stdout",
     "output_type": "stream",
     "text": [
      "[0] : (768,)\n",
      "[1] : (768,)\n"
     ]
    }
   ],
   "source": [
    "from sentence_transformers import SentenceTransformer\n",
    "from sentence_transformers import models\n",
    "\n",
    "download_path = \"../../corpus/\"\n",
    "# download_path = \"\"\n",
    "transformer = models.Transformer(download_path+'cl-tohoku/bert-base-japanese-whole-word-masking')\n",
    "pooling = models.Pooling(transformer.get_word_embedding_dimension(),    \n",
    "  pooling_mode_mean_tokens=True,\n",
    "  pooling_mode_cls_token=False, \n",
    "  pooling_mode_max_tokens=False\n",
    ")\n",
    "model = SentenceTransformer(modules=[transformer, pooling])\n",
    "\n",
    "sentences = ['吾輩は猫である',  '本日は晴天なり']\n",
    "embeddings = model.encode(sentences)\n",
    "\n",
    "for i, embedding in enumerate(embeddings):\n",
    "  print(\"[%d] : %s\" % (i, embedding.shape, ))"
   ]
  },
  {
   "cell_type": "code",
   "execution_count": 11,
   "metadata": {},
   "outputs": [],
   "source": [
    "def format_seq(conv):\n",
    "    if len(conv)%2 != 0:\n",
    "        conv = conv[:-1]\n",
    "    return conv\n",
    "\n",
    "def make_X(convs):\n",
    "    error_pair = []\n",
    "    correct_pair = []\n",
    "    X = []\n",
    "    for did in convs[\"convs\"]:\n",
    "        dids = list( did.keys() )[0]\n",
    "        # \n",
    "        conv =  np.array( format_seq( did[dids][2:] ) ).reshape(-1, 2).tolist() \n",
    "        # correct_pair += conv\n",
    "        correct_pair += conv[::2]\n",
    "        # ----error----\n",
    "        conv1 =  np.array( format_seq( did[dids][2::2] ) ).reshape(-1, 2).tolist() \n",
    "        # conv2 =  np.array( format_seq( did[dids][2::2] ) ).reshape(-1, 2).tolist()\n",
    "        # error_pair += conv1 + conv2\n",
    "        error_pair += conv1\n",
    "        # break\n",
    "    print(\"collectted data wrong:{0}, correct:{1}, sum:{2}\".format(len(error_pair), len(correct_pair), len(error_pair)+len(correct_pair)))\n",
    "    # 学習用データ作成\n",
    "    # 0: not error, 1: error\n",
    "    for pair in error_pair:\n",
    "        X.append( InputExample(texts=pair, label=1 ) )  \n",
    "    for pair in correct_pair:\n",
    "        X.append( InputExample(texts=pair, label=0 ) )  \n",
    "\n",
    "    return X"
   ]
  },
  {
   "cell_type": "code",
   "execution_count": 12,
   "metadata": {},
   "outputs": [
    {
     "name": "stdout",
     "output_type": "stream",
     "text": [
      "collectted data wrong:11435, correct:15051, sum:26486\n"
     ]
    }
   ],
   "source": [
    "X = make_X(convs)"
   ]
  },
  {
   "cell_type": "code",
   "execution_count": 13,
   "metadata": {},
   "outputs": [],
   "source": [
    "X_train, X_test = train_test_split(X, train_size=0.7, random_state=4)"
   ]
  },
  {
   "cell_type": "code",
   "execution_count": 14,
   "metadata": {},
   "outputs": [],
   "source": [
    "BATCH_SIZE = 32\n",
    "NUM_EPOCHS = 3\n",
    "EVAL_STEPS = 1000\n",
    "WARMUP_STEPS = int(len(X_train) // BATCH_SIZE * 0.1) \n",
    "OUTPUT_PATH = \"../../corpus/pretrained/sbert_unclear1\""
   ]
  },
  {
   "cell_type": "code",
   "execution_count": 15,
   "metadata": {},
   "outputs": [],
   "source": [
    "train_data = SentencesDataset(X_train, model=model)\n",
    "train_dataloader = DataLoader(train_data, shuffle=True,  batch_size=BATCH_SIZE)\n",
    "train_loss = losses.SoftmaxLoss(model=model, sentence_embedding_dimension=model.get_sentence_embedding_dimension(), num_labels=2)"
   ]
  },
  {
   "cell_type": "code",
   "execution_count": 16,
   "metadata": {},
   "outputs": [
    {
     "data": {
      "application/vnd.jupyter.widget-view+json": {
       "model_id": "3e42306a98dc481cb43680d8007eb384",
       "version_major": 2,
       "version_minor": 0
      },
      "text/plain": [
       "Epoch:   0%|          | 0/3 [00:00<?, ?it/s]"
      ]
     },
     "metadata": {},
     "output_type": "display_data"
    },
    {
     "data": {
      "application/vnd.jupyter.widget-view+json": {
       "model_id": "e1f9cf01567b4bbf98279258f088533c",
       "version_major": 2,
       "version_minor": 0
      },
      "text/plain": [
       "Iteration:   0%|          | 0/580 [00:00<?, ?it/s]"
      ]
     },
     "metadata": {},
     "output_type": "display_data"
    },
    {
     "data": {
      "application/vnd.jupyter.widget-view+json": {
       "model_id": "cd9bc4f349ed47439f140abd52dbc232",
       "version_major": 2,
       "version_minor": 0
      },
      "text/plain": [
       "Iteration:   0%|          | 0/580 [00:00<?, ?it/s]"
      ]
     },
     "metadata": {},
     "output_type": "display_data"
    },
    {
     "data": {
      "application/vnd.jupyter.widget-view+json": {
       "model_id": "e75beae2a1b643c9a56855b74e78654a",
       "version_major": 2,
       "version_minor": 0
      },
      "text/plain": [
       "Iteration:   0%|          | 0/580 [00:00<?, ?it/s]"
      ]
     },
     "metadata": {},
     "output_type": "display_data"
    }
   ],
   "source": [
    "model.fit(train_objectives=[(train_dataloader, train_loss)],\n",
    "         epochs=NUM_EPOCHS,\n",
    "         evaluation_steps=EVAL_STEPS,\n",
    "         warmup_steps=WARMUP_STEPS,\n",
    "         output_path=OUTPUT_PATH\n",
    "         )"
   ]
  },
  {
   "cell_type": "code",
   "execution_count": 7,
   "metadata": {},
   "outputs": [],
   "source": [
    "from sklearn import svm\n",
    "# clf = AdaBoostClassifier()\n",
    "clf = svm.SVC(kernel='rbf', gamma =0.0001, C=1000)"
   ]
  },
  {
   "cell_type": "code",
   "execution_count": 8,
   "metadata": {},
   "outputs": [],
   "source": [
    "bert_path = \"../../corpus/pretrained/sbert_unclear1\"\n",
    "sbert = SentenceTransformer(bert_path)"
   ]
  },
  {
   "cell_type": "code",
   "execution_count": 9,
   "metadata": {},
   "outputs": [],
   "source": [
    "def text2vec(text):\n",
    "    sentences = []\n",
    "    if isinstance(text, str):\n",
    "        sentences = [text]\n",
    "    elif isinstance(text, list):\n",
    "        sentences = text\n",
    "    \n",
    "    return sbert.encode(sentences)\n",
    "\n",
    "def text2feature(text):\n",
    "    vector = text2vec(text)\n",
    "    diff = np.abs( vector[0] - vector[1] )\n",
    "    return np.concatenate([vector.flatten(), diff])"
   ]
  },
  {
   "cell_type": "code",
   "execution_count": 10,
   "metadata": {},
   "outputs": [],
   "source": [
    "path = \"../hand_labeled/\"\n",
    "datalist = ['DCM', 'DIT', 'IRS']\n",
    "convs_ = read_conv(path, datalist)"
   ]
  },
  {
   "cell_type": "code",
   "execution_count": 20,
   "metadata": {},
   "outputs": [],
   "source": [
    "def make_Xy_svm(convs):\n",
    "    errors = [\"Topic transition error\", \"Lack of information\", \"Unclear intention\"]\n",
    "    errors = errors[0]\n",
    "    X = []\n",
    "    y = []\n",
    "    for conv in convs:\n",
    "        for i, ut in enumerate( conv ) :\n",
    "            # ユーザ発話駆動\n",
    "            if not ut.is_system():\n",
    "                # システムはエラー\n",
    "                if conv[i+1].is_exist_error():\n",
    "                    X.append( [ut.utt, conv[i+1].utt]  )\n",
    "                    if conv[i+1].is_error_included(errors):\n",
    "                        y.append(1)\n",
    "                    else:\n",
    "                        y.append(0)\n",
    "    \n",
    "    return X, y\n"
   ]
  },
  {
   "cell_type": "code",
   "execution_count": 21,
   "metadata": {},
   "outputs": [],
   "source": [
    "X_, y_ = make_Xy_svm(convs_)"
   ]
  },
  {
   "cell_type": "code",
   "execution_count": 22,
   "metadata": {},
   "outputs": [],
   "source": [
    "X_train_str, X_test_str, y_train, y_test = train_test_split(X_, y_, test_size=0.30, random_state=5, stratify=y_)"
   ]
  },
  {
   "cell_type": "code",
   "execution_count": 23,
   "metadata": {},
   "outputs": [],
   "source": [
    "# X_train = [ text2vec(x).flatten() for x in X_train_str]\n",
    "# X_test = [ text2vec(x).flatten() for x in X_test_str]\n",
    "\n",
    "X_train = [ text2feature(x) for x in X_train_str]\n",
    "X_test = [ text2feature(x)for x in X_test_str]"
   ]
  },
  {
   "cell_type": "code",
   "execution_count": 24,
   "metadata": {},
   "outputs": [
    {
     "data": {
      "text/plain": [
       "SVC(C=1000, gamma=0.0001)"
      ]
     },
     "execution_count": 24,
     "metadata": {},
     "output_type": "execute_result"
    }
   ],
   "source": [
    "clf.fit(X_train, y_train)"
   ]
  },
  {
   "cell_type": "code",
   "execution_count": 25,
   "metadata": {},
   "outputs": [],
   "source": [
    "y_pred = clf.predict(X_test)"
   ]
  },
  {
   "cell_type": "code",
   "execution_count": 26,
   "metadata": {},
   "outputs": [
    {
     "name": "stdout",
     "output_type": "stream",
     "text": [
      "confusion matrix = \n",
      " [[225  23]\n",
      " [ 31  19]]\n",
      "accuracy =  0.8187919463087249\n",
      "precision =  0.4523809523809524\n",
      "recall =  0.38\n",
      "f1 score =  0.41304347826086957\n"
     ]
    }
   ],
   "source": [
    "print('confusion matrix = \\n', confusion_matrix(y_true=y_test, y_pred=y_pred))\n",
    "print('accuracy = ', accuracy_score(y_true=y_test, y_pred=y_pred))\n",
    "print('precision = ', precision_score(y_true=y_test, y_pred=y_pred))\n",
    "print('recall = ', recall_score(y_true=y_test, y_pred=y_pred))\n",
    "print('f1 score = ', f1_score(y_true=y_test, y_pred=y_pred))"
   ]
  },
  {
   "cell_type": "markdown",
   "metadata": {},
   "source": [
    "- 3エラーすべて\n",
    "\n",
    "        confusion matrix = \n",
    "        [[ 64  42]\n",
    "        [ 42 150]]\n",
    "        accuracy =  0.7181208053691275\n",
    "        precision =  0.78125\n",
    "        recall =  0.78125\n",
    "        f1 score =  0.78125\n",
    "\n",
    "- 発話意図不明確のみ\n",
    "\n",
    "        confusion matrix = \n",
    "        [[115  56]\n",
    "        [ 69  58]]\n",
    "        accuracy =  0.5805369127516778\n",
    "        precision =  0.5087719298245614\n",
    "        recall =  0.4566929133858268\n",
    "        f1 score =  0.48132780082987553\n",
    "\n",
    "        - ほぼ無効\n",
    "\n",
    "- 情報不足のみ\n",
    "\n",
    "        confusion matrix = \n",
    "        [[279   3]\n",
    "        [ 16   0]]\n",
    "        accuracy =  0.9362416107382551\n",
    "        precision =  0.0\n",
    "        recall =  0.0\n",
    "        f1 score =  0.0\n",
    "\n",
    "        - 想定通りの挙動\n",
    "\n",
    "- 話題繊維エラーのみ\n",
    "        \n",
    "        confusion matrix = \n",
    "        [[225  23]\n",
    "        [ 31  19]]\n",
    "        accuracy =  0.8187919463087249\n",
    "        precision =  0.4523809523809524\n",
    "        recall =  0.38\n",
    "        f1 score =  0.41304347826086957\n",
    "        \n"
   ]
  },
  {
   "cell_type": "code",
   "execution_count": 27,
   "metadata": {},
   "outputs": [
    {
     "data": {
      "text/plain": [
       "298"
      ]
     },
     "execution_count": 27,
     "metadata": {},
     "output_type": "execute_result"
    }
   ],
   "source": [
    "len(y_test)"
   ]
  },
  {
   "cell_type": "code",
   "execution_count": 28,
   "metadata": {},
   "outputs": [
    {
     "data": {
      "text/plain": [
       "50"
      ]
     },
     "execution_count": 28,
     "metadata": {},
     "output_type": "execute_result"
    }
   ],
   "source": [
    "y_test.count(1)"
   ]
  },
  {
   "cell_type": "code",
   "execution_count": null,
   "metadata": {},
   "outputs": [],
   "source": []
  }
 ],
 "metadata": {
  "interpreter": {
   "hash": "31f2aee4e71d21fbe5cf8b01ff0e069b9275f58929596ceb00d14d90e3e16cd6"
  },
  "kernelspec": {
   "display_name": "Python 3.6.9 64-bit",
   "language": "python",
   "name": "python3"
  },
  "language_info": {
   "codemirror_mode": {
    "name": "ipython",
    "version": 3
   },
   "file_extension": ".py",
   "mimetype": "text/x-python",
   "name": "python",
   "nbconvert_exporter": "python",
   "pygments_lexer": "ipython3",
   "version": "3.6.9"
  },
  "orig_nbformat": 4
 },
 "nbformat": 4,
 "nbformat_minor": 2
}
