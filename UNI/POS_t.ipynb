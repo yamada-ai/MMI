{
 "metadata": {
  "language_info": {
   "codemirror_mode": {
    "name": "ipython",
    "version": 3
   },
   "file_extension": ".py",
   "mimetype": "text/x-python",
   "name": "python",
   "nbconvert_exporter": "python",
   "pygments_lexer": "ipython3",
   "version": "3.6.9"
  },
  "orig_nbformat": 4,
  "kernelspec": {
   "name": "python3",
   "display_name": "Python 3.6.9 64-bit"
  },
  "interpreter": {
   "hash": "31f2aee4e71d21fbe5cf8b01ff0e069b9275f58929596ceb00d14d90e3e16cd6"
  }
 },
 "nbformat": 4,
 "nbformat_minor": 2,
 "cells": [
  {
   "cell_type": "code",
   "execution_count": 22,
   "metadata": {},
   "outputs": [
    {
     "output_type": "execute_result",
     "data": {
      "text/plain": [
       "<torch._C.Generator at 0x7fce98793f18>"
      ]
     },
     "metadata": {},
     "execution_count": 22
    }
   ],
   "source": [
    "import torch\n",
    "import torch.nn as nn\n",
    "import torch.nn.functional as F\n",
    "import torch.optim as optim\n",
    "\n",
    "torch.manual_seed(1)"
   ]
  },
  {
   "cell_type": "code",
   "execution_count": 23,
   "metadata": {},
   "outputs": [],
   "source": [
    "def prepare_sequence(seq, to_ix):\n",
    "    idxs = [to_ix[w] for w in seq]\n",
    "    return torch.tensor(idxs, dtype=torch.long, device='cuda:0')\n"
   ]
  },
  {
   "cell_type": "code",
   "execution_count": 24,
   "metadata": {},
   "outputs": [
    {
     "output_type": "stream",
     "name": "stdout",
     "text": [
      "{'The': 0, 'dog': 1, 'ate': 2, 'the': 3, 'apple': 4, 'Everybody': 5, 'read': 6, 'that': 7, 'book': 8}\n"
     ]
    }
   ],
   "source": [
    "training_data = [\n",
    "    # Tags are: DET - determiner; NN - noun; V - verb\n",
    "    # For example, the word \"The\" is a determiner\n",
    "    (\"The dog ate the apple\".split(), [\"DET\", \"NN\", \"V\", \"DET\", \"NN\"]),\n",
    "    (\"Everybody read that book\".split(), [\"NN\", \"V\", \"DET\", \"NN\"])\n",
    "]\n",
    "word_to_ix = {}\n",
    "# For each words-list (sentence) and tags-list in each tuple of training_data\n",
    "for sent, tags in training_data:\n",
    "    for word in sent:\n",
    "        if word not in word_to_ix:  # word has not been assigned an index yet\n",
    "            word_to_ix[word] = len(word_to_ix)  # Assign each word with a unique index\n",
    "print(word_to_ix)\n",
    "tag_to_ix = {\"DET\": 0, \"NN\": 1, \"V\": 2}  # Assign each tag with a unique index\n",
    "\n",
    "# These will usually be more like 32 or 64 dimensional.\n",
    "# We will keep them small, so we can see how the weights change as we train.\n",
    "EMBEDDING_DIM = 20\n",
    "HIDDEN_DIM = 20"
   ]
  },
  {
   "cell_type": "code",
   "execution_count": 25,
   "metadata": {},
   "outputs": [],
   "source": [
    "class LSTMTagger(nn.Module):\n",
    "\n",
    "    def __init__(self, embedding_dim, hidden_dim, vocab_size, tagset_size):\n",
    "        super(LSTMTagger, self).__init__()\n",
    "        self.hidden_dim = hidden_dim\n",
    "\n",
    "        self.word_embeddings = nn.Embedding(vocab_size, embedding_dim)\n",
    "\n",
    "        # The LSTM takes word embeddings as inputs, and outputs hidden states\n",
    "        # with dimensionality hidden_dim.\n",
    "        self.lstm = nn.LSTM(embedding_dim, hidden_dim)\n",
    "\n",
    "        # The linear layer that maps from hidden state space to tag space\n",
    "        self.hidden2tag = nn.Linear(hidden_dim, tagset_size)\n",
    "\n",
    "    def forward(self, sentence):\n",
    "        embeds = self.word_embeddings(sentence)\n",
    "        lstm_out, _ = self.lstm(embeds.view(len(sentence), 1, -1))\n",
    "        tag_space = self.hidden2tag(lstm_out.view(len(sentence), -1))\n",
    "        tag_scores = F.log_softmax(tag_space, dim=1)\n",
    "        return tag_scores"
   ]
  },
  {
   "cell_type": "code",
   "execution_count": 26,
   "metadata": {},
   "outputs": [
    {
     "output_type": "stream",
     "name": "stdout",
     "text": [
      "tensor([[-1.1796, -1.2288, -0.9164],\n        [-1.1790, -1.2737, -0.8852],\n        [-1.1527, -1.2791, -0.9015],\n        [-1.1316, -1.3766, -0.8556],\n        [-1.1461, -1.4362, -0.8113]], device='cuda:0')\n"
     ]
    }
   ],
   "source": [
    "model = LSTMTagger(EMBEDDING_DIM, HIDDEN_DIM, len(word_to_ix), len(tag_to_ix))\n",
    "loss_function = nn.NLLLoss()\n",
    "optimizer = optim.SGD(model.parameters(), lr=0.1)\n",
    "if torch.cuda.is_available():\n",
    "   model.cuda()\n",
    "# See what the scores are before training\n",
    "# Note that element i,j of the output is the score for tag j for word i.\n",
    "# Here we don't need to train, so the code is wrapped in torch.no_grad()\n",
    "with torch.no_grad():\n",
    "    inputs = prepare_sequence(training_data[0][0], word_to_ix)\n",
    "    tag_scores = model(inputs)\n",
    "    print(tag_scores)"
   ]
  },
  {
   "cell_type": "code",
   "execution_count": 27,
   "metadata": {},
   "outputs": [],
   "source": [
    "for epoch in range(300):  # again, normally you would NOT do 300 epochs, it is toy data\n",
    "    for sentence, tags in training_data:\n",
    "        # Step 1. Remember that Pytorch accumulates gradients.\n",
    "        # We need to clear them out before each instance\n",
    "        model.zero_grad()\n",
    "\n",
    "        # Step 2. Get our inputs ready for the network, that is, turn them into\n",
    "        # Tensors of word indices.\n",
    "        sentence_in = prepare_sequence(sentence, word_to_ix)\n",
    "        targets = prepare_sequence(tags, tag_to_ix)\n",
    "\n",
    "        # Step 3. Run our forward pass.\n",
    "        tag_scores = model(sentence_in)\n",
    "\n",
    "        # Step 4. Compute the loss, gradients, and update the parameters by\n",
    "        #  calling optimizer.step()\n",
    "        loss = loss_function(tag_scores, targets)\n",
    "        loss.backward()\n",
    "        optimizer.step()"
   ]
  },
  {
   "cell_type": "code",
   "execution_count": 28,
   "metadata": {},
   "outputs": [
    {
     "output_type": "stream",
     "name": "stdout",
     "text": [
      "tensor([[-0.0179, -4.6662, -4.7910],\n        [-5.1142, -0.0110, -5.3096],\n        [-4.5490, -4.2161, -0.0257],\n        [-0.0135, -5.1114, -4.9066],\n        [-5.1400, -0.0090, -5.7637]], device='cuda:0')\n"
     ]
    }
   ],
   "source": [
    "# See what the scores are after training\n",
    "with torch.no_grad():\n",
    "    inputs = prepare_sequence(training_data[0][0], word_to_ix)\n",
    "    tag_scores = model(inputs)\n",
    "\n",
    "    # The sentence is \"the dog ate the apple\".  i,j corresponds to score for tag j\n",
    "    # for word i. The predicted tag is the maximum scoring tag.\n",
    "    # Here, we can see the predicted sequence below is 0 1 2 0 1\n",
    "    # since 0 is index of the maximum value of row 1,\n",
    "    # 1 is the index of maximum value of row 2, etc.\n",
    "    # Which is DET NOUN VERB DET NOUN, the correct sequence!\n",
    "    print(tag_scores)"
   ]
  },
  {
   "cell_type": "code",
   "execution_count": 29,
   "metadata": {},
   "outputs": [
    {
     "output_type": "execute_result",
     "data": {
      "text/plain": [
       "tensor([[[-1.4856e+00, -7.7408e-01, -7.0244e-01, -1.7687e+00, -1.7021e-01,\n",
       "          -6.8308e-01, -9.6502e-01, -1.6634e+00, -6.9339e-01,  3.7438e-01,\n",
       "          -7.4444e-01, -3.1240e-01, -2.0804e-01,  1.7792e+00,  2.1497e-01,\n",
       "           4.7917e-01, -7.3632e-01, -1.1828e+00,  7.7857e-01,  2.9061e-01]],\n",
       "\n",
       "        [[ 9.2322e-01,  2.1159e-01, -6.9439e-01,  8.9629e-01,  1.1434e+00,\n",
       "          -2.0545e-01, -2.2900e+00, -1.4923e+00,  2.0564e-03, -7.7693e-01,\n",
       "          -9.1681e-01, -7.3977e-02,  1.9754e+00, -6.4838e-02,  1.8536e-01,\n",
       "          -6.6666e-01,  2.7596e-01,  1.1958e-01,  1.9108e-01, -5.1712e-01]],\n",
       "\n",
       "        [[-1.1702e-01,  3.0066e-01, -1.3696e-01, -6.0383e-02,  2.5389e+00,\n",
       "          -1.1621e+00,  1.6813e+00, -6.3682e-01, -9.3951e-01,  6.0543e-01,\n",
       "           1.4675e-02, -5.0056e-01,  7.7515e-01,  4.4904e-01,  1.2905e+00,\n",
       "           2.0718e+00,  1.8710e-02,  9.7104e-01, -1.4751e-01, -7.0730e-01]],\n",
       "\n",
       "        [[ 1.5534e+00, -8.7924e-01, -3.4259e+00, -9.1230e-01, -7.4832e-02,\n",
       "          -1.0847e+00, -5.5191e-01, -1.0520e+00, -2.1305e-01,  4.4900e-02,\n",
       "           1.7159e+00, -4.4288e-02, -7.0003e-01, -1.0300e-01, -1.0580e+00,\n",
       "          -8.6459e-01, -5.2277e-01, -5.8461e-01,  4.6395e-01, -9.1720e-01]],\n",
       "\n",
       "        [[-4.7704e-01,  4.8054e-02, -6.8972e-01,  8.3467e-01, -1.4436e+00,\n",
       "          -4.9080e-01,  9.9573e-02, -2.2680e-01,  1.8078e-01, -6.4280e-01,\n",
       "          -1.1529e+00,  8.1030e-01, -9.7707e-01, -4.7681e-01,  2.7107e-01,\n",
       "           2.1013e+00,  7.5382e-01,  1.2528e+00,  8.3204e-01, -9.2557e-01]]],\n",
       "       device='cuda:0', grad_fn=<ViewBackward>)"
      ]
     },
     "metadata": {},
     "execution_count": 29
    }
   ],
   "source": [
    "sentence_in_ = prepare_sequence(training_data[0][0],  word_to_ix)\n",
    "embeds_ = model.word_embeddings(sentence_in_)\n",
    "embeds_.view(len(sentence_in_), 1, -1)"
   ]
  },
  {
   "cell_type": "code",
   "execution_count": 30,
   "metadata": {},
   "outputs": [
    {
     "output_type": "execute_result",
     "data": {
      "text/plain": [
       "torch.Size([5, 20])"
      ]
     },
     "metadata": {},
     "execution_count": 30
    }
   ],
   "source": [
    "embeds_.shape"
   ]
  },
  {
   "cell_type": "code",
   "execution_count": 31,
   "metadata": {},
   "outputs": [
    {
     "output_type": "execute_result",
     "data": {
      "text/plain": [
       "tensor([5, 6, 7, 8], device='cuda:0')"
      ]
     },
     "metadata": {},
     "execution_count": 31
    }
   ],
   "source": [
    "sentence_in"
   ]
  },
  {
   "cell_type": "code",
   "execution_count": 32,
   "metadata": {},
   "outputs": [
    {
     "output_type": "execute_result",
     "data": {
      "text/plain": [
       "tensor([1, 2, 0, 1], device='cuda:0')"
      ]
     },
     "metadata": {},
     "execution_count": 32
    }
   ],
   "source": [
    "targets "
   ]
  },
  {
   "cell_type": "code",
   "execution_count": 37,
   "metadata": {},
   "outputs": [
    {
     "output_type": "stream",
     "name": "stdout",
     "text": [
      "torch.Size([5, 20])\ntorch.Size([5])\ntorch.Size([4, 20])\ntorch.Size([4])\n"
     ]
    }
   ],
   "source": [
    "for sentence, tags in training_data:\n",
    "    sentence_in = prepare_sequence(sentence, word_to_ix)\n",
    "    targets = prepare_sequence(tags, tag_to_ix)\n",
    "    print(model.word_embeddings(sentence_in).shape)\n",
    "    print(targets.shape)"
   ]
  },
  {
   "cell_type": "code",
   "execution_count": null,
   "metadata": {},
   "outputs": [],
   "source": []
  }
 ]
}