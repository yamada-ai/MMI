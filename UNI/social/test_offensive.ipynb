{
 "cells": [
  {
   "cell_type": "code",
   "execution_count": 1,
   "metadata": {},
   "outputs": [
    {
     "name": "stderr",
     "output_type": "stream",
     "text": [
      "/usr/lib/python3/dist-packages/requests/__init__.py:80: RequestsDependencyWarning: urllib3 (1.26.5) or chardet (3.0.4) doesn't match a supported version!\n",
      "  RequestsDependencyWarning)\n"
     ]
    }
   ],
   "source": [
    "import json\n",
    "import os\n",
    "import pandas as pd\n",
    "import numpy as np\n",
    "from pathlib import Path\n",
    "import collections\n",
    "from sklearn.model_selection import train_test_split\n",
    "from sklearn import metrics\n",
    "\n",
    "import sys\n",
    "sys.path.append(\"../\")\n",
    "from datatools.analyzer import *\n",
    "from utterance.error_tools import *\n",
    "\n",
    "from datatools.maneger import DataManager\n",
    "from datatools.preproc import Preprocessor"
   ]
  },
  {
   "cell_type": "code",
   "execution_count": 3,
   "metadata": {},
   "outputs": [],
   "source": [
    "model_path = \"../../corpus/sbert_stair\"\n",
    "# data_name = \"hate_labeled.csv\""
   ]
  },
  {
   "cell_type": "code",
   "execution_count": 12,
   "metadata": {},
   "outputs": [],
   "source": [
    "from sentence_transformers import SentenceTransformer\n",
    "from sentence_transformers import models\n",
    "sbert = SentenceTransformer(model_path)"
   ]
  },
  {
   "cell_type": "code",
   "execution_count": 13,
   "metadata": {},
   "outputs": [],
   "source": [
    "def text2vec(text):\n",
    "    sentences = []\n",
    "    if isinstance(text, str):\n",
    "        sentences = [text]\n",
    "    elif isinstance(text, list):\n",
    "        sentences = text\n",
    "    \n",
    "    return sbert.encode(sentences)\n"
   ]
  },
  {
   "cell_type": "code",
   "execution_count": 14,
   "metadata": {},
   "outputs": [],
   "source": [
    "def make_dataset(df, mode=\"All\"):\n",
    "    X = []\n",
    "    y = []\n",
    "    path = \"../hand_labeled/\"\n",
    "    datalist = ['DCM', 'DIT', 'IRS']\n",
    "    convs = read_conv(path, datalist)\n",
    "\n",
    "    usr_utt = []\n",
    "    for conv in convs:\n",
    "        for i, ut in enumerate(conv):\n",
    "            if not ut.is_system():\n",
    "                usr_utt.append(clean_text(ut.utt))\n",
    "    import random\n",
    "\n",
    "    if mode==\"All\":\n",
    "        for la, txt in zip(df.label, df.txt):\n",
    "            # X.append( InputExample(guid=\"\", texts=[txt], label=float(la) ) )\n",
    "            X.append(txt)\n",
    "            y.append(la)\n",
    "        print(\"length of X\", len(X))\n",
    "        # 0 の要素を増やしておきますわよ\n",
    "        sampled = random.sample(usr_utt, len(X)//3)\n",
    "        for sample in sampled:\n",
    "            # X.append( InputExample(guid=\"\" , texts=[sample], label=0.0 ) )\n",
    "            X.append(sample)\n",
    "            y.append(0)\n",
    "        print(\"added length of X\", len(X))\n",
    "\n",
    "    return X, y"
   ]
  },
  {
   "cell_type": "code",
   "execution_count": 15,
   "metadata": {},
   "outputs": [
    {
     "name": "stdout",
     "output_type": "stream",
     "text": [
      "length of X 1138\n",
      "added length of X 1517\n"
     ]
    }
   ],
   "source": [
    "corpus_path = \"../../corpus/twitter/\"\n",
    "data_name = \"hate_labeled.csv\"\n",
    "df = pd.read_csv(corpus_path+data_name)\n",
    "X, y = make_dataset(df)"
   ]
  },
  {
   "cell_type": "code",
   "execution_count": 16,
   "metadata": {},
   "outputs": [],
   "source": [
    "X_train_str, X_test_str, y_train, y_test = train_test_split(X, y, test_size=0.30, random_state=5)"
   ]
  },
  {
   "cell_type": "code",
   "execution_count": 17,
   "metadata": {},
   "outputs": [],
   "source": [
    "X_train = text2vec(X_train_str)"
   ]
  },
  {
   "cell_type": "code",
   "execution_count": 18,
   "metadata": {},
   "outputs": [],
   "source": [
    "from sklearn.ensemble import AdaBoostClassifier\n",
    "clf = AdaBoostClassifier()"
   ]
  },
  {
   "cell_type": "code",
   "execution_count": 20,
   "metadata": {},
   "outputs": [
    {
     "data": {
      "text/plain": [
       "AdaBoostClassifier()"
      ]
     },
     "execution_count": 20,
     "metadata": {},
     "output_type": "execute_result"
    }
   ],
   "source": [
    "clf.fit(X_train, y_train)"
   ]
  },
  {
   "cell_type": "code",
   "execution_count": 21,
   "metadata": {},
   "outputs": [
    {
     "name": "stdout",
     "output_type": "stream",
     "text": [
      "['実際あったら最高に頭悪いマザボだな', 'あまちゃんは商品ではないですよ。', 'たまに画質ゴミゴミになるのなに……', 'それなー、運営も頭悪い', '喧嘩に関しちゃあ……馬鹿じゃねえんだな']\n",
      "[2, 0, 0, 2, 0]\n"
     ]
    }
   ],
   "source": [
    "print(X_train_str[:5])\n",
    "print(y_train[:5])"
   ]
  },
  {
   "cell_type": "code",
   "execution_count": 22,
   "metadata": {},
   "outputs": [],
   "source": [
    "X_test = text2vec(X_test_str)"
   ]
  },
  {
   "cell_type": "code",
   "execution_count": 23,
   "metadata": {},
   "outputs": [],
   "source": [
    "y_pred = clf.predict(X_test)"
   ]
  },
  {
   "cell_type": "code",
   "execution_count": 33,
   "metadata": {},
   "outputs": [
    {
     "name": "stdout",
     "output_type": "stream",
     "text": [
      "0 : 昨日飲み過ぎて頭悪いの\n",
      "1 : サムスンは死ね\n",
      "0 : なんで俺馬鹿にされてるん？\n",
      "1 : へをこいてはよう死ね\n",
      "0 : 大塚愛が好きなんですか？\n",
      "1 : 塾終わったらまた行きたいけど親多分いるあー死ね\n",
      "1 : マスクゴミ動画量産女たちは韓国の整形美女軍団見習ってほしい\n",
      "0 : 後払いなら減給じゃなくて草あいつ馬鹿だろ\n",
      "1 : 死ね！\n",
      "0 : このメンバーの飲み会馬鹿笑いできるから楽しい\n",
      "0 : それは良かった。夏ばてしてない？\n",
      "0 : いいえ組織です。\n",
      "0 : 大阪といえば、道頓堀が有名ですよね。\n",
      "0 : 久々に絡みたかったので馬鹿にしてみました\n",
      "1 : 馬鹿だが?\n",
      "0 : 天気かな\n",
      "0 : 本当山口俊って頭悪いんだよね\n",
      "0 : わからないけど、おいしいよね。\n",
      "1 : きめえんだよゴミコンクリート流し込んだろか\n",
      "1 : 死ね沖田\n",
      "0 : それは知らなかったです。趣味を教えてくれませんか?\n",
      "0 : 満を待つって何や？\n",
      "0 : 馬鹿にされちゃう！！！！！！\n",
      "1 : 馬鹿左翼必死やなぁ\n",
      "0 : いやいや言い方変えると自分はあの時無謀で馬鹿な人です\n",
      "0 : 犬は飼ってないんですよね。犬派ですか？猫派ですか？\n",
      "0 : どちらも昔からの発酵食品で体に良いですよ\n",
      "1 : んな馬鹿な\n",
      "0 : ありがとうございます 私達飼い主も親馬鹿ですがかわいいと思ってます\n",
      "0 : あ、馬鹿だ。ツイ消ししちゃった…馬鹿だ…\n"
     ]
    }
   ],
   "source": [
    "for y_p, x_s in zip(y_pred_[:30], X_test_str[:30]):\n",
    "    print(\"{0} : {1}\".format(y_p, x_s))"
   ]
  },
  {
   "cell_type": "code",
   "execution_count": 25,
   "metadata": {},
   "outputs": [
    {
     "name": "stdout",
     "output_type": "stream",
     "text": [
      "confusion matrix = \n",
      " [[150   2   4  11]\n",
      " [ 10  14   8  13]\n",
      " [  8   6  60  33]\n",
      " [  9   1  22 105]]\n",
      "accuracy =  0.7214912280701754\n"
     ]
    }
   ],
   "source": [
    "from sklearn.metrics import confusion_matrix, accuracy_score, precision_score, recall_score, f1_score\n",
    "print('confusion matrix = \\n', confusion_matrix(y_true=y_test, y_pred=y_pred))\n",
    "print('accuracy = ', accuracy_score(y_true=y_test, y_pred=y_pred))"
   ]
  },
  {
   "cell_type": "code",
   "execution_count": 26,
   "metadata": {},
   "outputs": [],
   "source": [
    "import copy\n",
    "def convert_bool(p):\n",
    "    new_p = copy.deepcopy(p)\n",
    "    for i, v in enumerate(p):\n",
    "        if v<=1:\n",
    "            new_p[i] = 0\n",
    "        else:\n",
    "            new_p[i] = 1\n",
    "    return new_p"
   ]
  },
  {
   "cell_type": "code",
   "execution_count": 31,
   "metadata": {},
   "outputs": [],
   "source": [
    "y_test_ = convert_bool(y_test)\n",
    "y_pred_ = convert_bool(y_pred)"
   ]
  },
  {
   "cell_type": "code",
   "execution_count": 32,
   "metadata": {},
   "outputs": [
    {
     "name": "stdout",
     "output_type": "stream",
     "text": [
      "confusion matrix = \n",
      " [[176  36]\n",
      " [ 24 220]]\n",
      "accuracy =  0.868421052631579\n",
      "precision =  0.859375\n",
      "recall =  0.9016393442622951\n",
      "f1 score =  0.88\n"
     ]
    }
   ],
   "source": [
    "print('confusion matrix = \\n', confusion_matrix(y_true=y_test_, y_pred=y_pred_))\n",
    "print('accuracy = ', accuracy_score(y_true=y_test_, y_pred=y_pred_))\n",
    "print('precision = ', precision_score(y_true=y_test_, y_pred=y_pred_))\n",
    "print('recall = ', recall_score(y_true=y_test_, y_pred=y_pred_))\n",
    "print('f1 score = ', f1_score(y_true=y_test_, y_pred=y_pred_))"
   ]
  },
  {
   "cell_type": "code",
   "execution_count": 40,
   "metadata": {},
   "outputs": [],
   "source": [
    "tests = [\"知らんのかい\", \"お前馬鹿だろ\", \"センスないね\", \"雑魚がよ\", \"俺が馬鹿だった\"]"
   ]
  },
  {
   "cell_type": "code",
   "execution_count": 41,
   "metadata": {},
   "outputs": [
    {
     "data": {
      "text/plain": [
       "array([0, 3, 0, 3, 1])"
      ]
     },
     "execution_count": 41,
     "metadata": {},
     "output_type": "execute_result"
    }
   ],
   "source": [
    "vec = text2vec(tests)\n",
    "clf.predict(vec)"
   ]
  },
  {
   "cell_type": "code",
   "execution_count": null,
   "metadata": {},
   "outputs": [],
   "source": []
  }
 ],
 "metadata": {
  "interpreter": {
   "hash": "31f2aee4e71d21fbe5cf8b01ff0e069b9275f58929596ceb00d14d90e3e16cd6"
  },
  "kernelspec": {
   "display_name": "Python 3.6.9 64-bit",
   "language": "python",
   "name": "python3"
  },
  "language_info": {
   "codemirror_mode": {
    "name": "ipython",
    "version": 3
   },
   "file_extension": ".py",
   "mimetype": "text/x-python",
   "name": "python",
   "nbconvert_exporter": "python",
   "pygments_lexer": "ipython3",
   "version": "3.6.9"
  },
  "orig_nbformat": 4
 },
 "nbformat": 4,
 "nbformat_minor": 2
}
