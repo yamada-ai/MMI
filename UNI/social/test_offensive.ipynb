{
 "cells": [
  {
   "cell_type": "code",
   "execution_count": 3,
   "metadata": {},
   "outputs": [],
   "source": [
    "import json\n",
    "import os\n",
    "import pandas as pd\n",
    "import numpy as np\n",
    "from pathlib import Path\n",
    "import collections\n",
    "from sklearn.model_selection import train_test_split\n",
    "from sklearn import metrics\n",
    "\n",
    "import sys\n",
    "sys.path.append(\"../\")\n",
    "from datatools.analyzer import *\n",
    "from utterance.error_tools import *\n",
    "\n",
    "from datatools.maneger import DataManager\n",
    "from datatools.preproc import Preprocessor"
   ]
  },
  {
   "cell_type": "code",
   "execution_count": 4,
   "metadata": {},
   "outputs": [],
   "source": [
    "model_path = \"../../corpus/sbert_stair\"\n",
    "# data_name = \"hate_labeled.csv\""
   ]
  },
  {
   "cell_type": "code",
   "execution_count": 5,
   "metadata": {},
   "outputs": [],
   "source": [
    "from sentence_transformers import SentenceTransformer\n",
    "from sentence_transformers import models\n",
    "sbert = SentenceTransformer(model_path)"
   ]
  },
  {
   "cell_type": "code",
   "execution_count": 6,
   "metadata": {},
   "outputs": [],
   "source": [
    "def text2vec(text):\n",
    "    sentences = []\n",
    "    if isinstance(text, str):\n",
    "        sentences = [text]\n",
    "    elif isinstance(text, list):\n",
    "        sentences = text\n",
    "    \n",
    "    return sbert.encode(sentences)\n"
   ]
  },
  {
   "cell_type": "code",
   "execution_count": 7,
   "metadata": {},
   "outputs": [],
   "source": [
    "def make_dataset(df, mode=\"All\"):\n",
    "    X = []\n",
    "    y = []\n",
    "    path = \"../hand_labeled/\"\n",
    "    datalist = ['DCM', 'DIT', 'IRS']\n",
    "    convs = read_conv(path, datalist)\n",
    "\n",
    "    usr_utt = []\n",
    "    for conv in convs:\n",
    "        for i, ut in enumerate(conv):\n",
    "            if not ut.is_system():\n",
    "                usr_utt.append(clean_text(ut.utt))\n",
    "    import random\n",
    "\n",
    "    if mode==\"All\":\n",
    "        for la, txt in zip(df.label, df.txt):\n",
    "            # X.append( InputExample(guid=\"\", texts=[txt], label=float(la) ) )\n",
    "            X.append(txt)\n",
    "            y.append(la)\n",
    "        print(\"length of X\", len(X))\n",
    "        # 0 の要素を増やしておきますわよ\n",
    "        sampled = random.sample(usr_utt, len(X)//3)\n",
    "        for sample in sampled:\n",
    "            # X.append( InputExample(guid=\"\" , texts=[sample], label=0.0 ) )\n",
    "            X.append(sample)\n",
    "            y.append(0)\n",
    "        print(\"added length of X\", len(X))\n",
    "\n",
    "    return X, y"
   ]
  },
  {
   "cell_type": "code",
   "execution_count": 8,
   "metadata": {},
   "outputs": [
    {
     "name": "stdout",
     "output_type": "stream",
     "text": [
      "length of X 1138\n",
      "added length of X 1517\n"
     ]
    }
   ],
   "source": [
    "corpus_path = \"../../corpus/twitter/\"\n",
    "data_name = \"hate_labeled.csv\"\n",
    "df = pd.read_csv(corpus_path+data_name)\n",
    "X, y = make_dataset(df)"
   ]
  },
  {
   "cell_type": "code",
   "execution_count": 9,
   "metadata": {},
   "outputs": [],
   "source": [
    "X_train_str, X_test_str, y_train, y_test = train_test_split(X, y, test_size=0.30, random_state=5)"
   ]
  },
  {
   "cell_type": "code",
   "execution_count": 10,
   "metadata": {},
   "outputs": [],
   "source": [
    "X_train = text2vec(X_train_str)"
   ]
  },
  {
   "cell_type": "code",
   "execution_count": 11,
   "metadata": {},
   "outputs": [],
   "source": [
    "from sklearn.ensemble import AdaBoostClassifier\n",
    "from sklearn import svm\n",
    "# clf = AdaBoostClassifier()\n",
    "clf = svm.SVC(kernel='rbf', gamma =0.0001, C=1000)"
   ]
  },
  {
   "cell_type": "code",
   "execution_count": 12,
   "metadata": {},
   "outputs": [
    {
     "data": {
      "text/plain": [
       "SVC(C=1000, gamma=0.0001)"
      ]
     },
     "execution_count": 12,
     "metadata": {},
     "output_type": "execute_result"
    }
   ],
   "source": [
    "clf.fit(X_train, y_train)"
   ]
  },
  {
   "cell_type": "code",
   "execution_count": 13,
   "metadata": {},
   "outputs": [
    {
     "name": "stdout",
     "output_type": "stream",
     "text": [
      "['実際あったら最高に頭悪いマザボだな', 'チャットをどれくらいしますか', 'たまに画質ゴミゴミになるのなに……', 'それなー、運営も頭悪い', '喧嘩に関しちゃあ……馬鹿じゃねえんだな']\n",
      "[2, 0, 0, 2, 0]\n"
     ]
    }
   ],
   "source": [
    "print(X_train_str[:5])\n",
    "print(y_train[:5])"
   ]
  },
  {
   "cell_type": "code",
   "execution_count": 14,
   "metadata": {},
   "outputs": [],
   "source": [
    "X_test = text2vec(X_test_str)"
   ]
  },
  {
   "cell_type": "code",
   "execution_count": 15,
   "metadata": {},
   "outputs": [],
   "source": [
    "y_pred = clf.predict(X_test)"
   ]
  },
  {
   "cell_type": "code",
   "execution_count": 16,
   "metadata": {},
   "outputs": [
    {
     "name": "stdout",
     "output_type": "stream",
     "text": [
      "1 : 昨日飲み過ぎて頭悪いの\n",
      "2 : サムスンは死ね\n",
      "1 : なんで俺馬鹿にされてるん？\n",
      "3 : へをこいてはよう死ね\n",
      "0 : 誰のシングルですか？\n",
      "2 : 塾終わったらまた行きたいけど親多分いるあー死ね\n",
      "2 : マスクゴミ動画量産女たちは韓国の整形美女軍団見習ってほしい\n",
      "2 : 後払いなら減給じゃなくて草あいつ馬鹿だろ\n",
      "3 : 死ね！\n",
      "0 : このメンバーの飲み会馬鹿笑いできるから楽しい\n",
      "0 : 君はお酒飲むのかい？\n",
      "0 : こんにちは。私は野球観戦が好きですね。\n",
      "0 : ボードですか、楽しそうですね\n",
      "0 : 久々に絡みたかったので馬鹿にしてみました\n",
      "3 : 馬鹿だが?\n",
      "0 : 夏と冬どっちがいい？\n",
      "2 : 本当山口俊って頭悪いんだよね\n",
      "0 : 羨ましいです。私は行ったことが無いんで行ってみたいです。\n",
      "2 : きめえんだよゴミコンクリート流し込んだろか\n",
      "3 : 死ね沖田\n",
      "0 : 最近は特保コーラにハマってます。特保飲料は飲みますか\n",
      "0 : 他にどんな食べ物が好きですか？\n",
      "1 : 馬鹿にされちゃう！！！！！！\n",
      "0 : 馬鹿左翼必死やなぁ\n",
      "1 : いやいや言い方変えると自分はあの時無謀で馬鹿な人です\n",
      "0 : すごいですね！\n",
      "0 : そうでしたっけ。バラエティー番組は見ていて楽しいから好きなんですよ。\n",
      "3 : んな馬鹿な\n",
      "0 : ありがとうございます 私達飼い主も親馬鹿ですがかわいいと思ってます\n",
      "1 : あ、馬鹿だ。ツイ消ししちゃった…馬鹿だ…\n"
     ]
    }
   ],
   "source": [
    "for y_p, x_s in zip(y_pred[:30], X_test_str[:30]):\n",
    "    print(\"{0} : {1}\".format(y_p, x_s))"
   ]
  },
  {
   "cell_type": "code",
   "execution_count": 17,
   "metadata": {},
   "outputs": [
    {
     "name": "stdout",
     "output_type": "stream",
     "text": [
      "confusion matrix = \n",
      " [[146   6   9   5]\n",
      " [  4  24  10   7]\n",
      " [  9   5  75  19]\n",
      " [ 10   6  24  97]]\n",
      "accuracy =  0.75\n"
     ]
    }
   ],
   "source": [
    "from sklearn.metrics import confusion_matrix, accuracy_score, precision_score, recall_score, f1_score\n",
    "print('confusion matrix = \\n', confusion_matrix(y_true=y_test, y_pred=y_pred))\n",
    "print('accuracy = ', accuracy_score(y_true=y_test, y_pred=y_pred))"
   ]
  },
  {
   "cell_type": "code",
   "execution_count": 18,
   "metadata": {},
   "outputs": [],
   "source": [
    "import copy\n",
    "def convert_bool(p):\n",
    "    new_p = copy.deepcopy(p)\n",
    "    for i, v in enumerate(p):\n",
    "        if v<=1:\n",
    "            new_p[i] = 0\n",
    "        else:\n",
    "            new_p[i] = 1\n",
    "    return new_p"
   ]
  },
  {
   "cell_type": "code",
   "execution_count": 19,
   "metadata": {},
   "outputs": [],
   "source": [
    "y_test_ = convert_bool(y_test)\n",
    "y_pred_ = convert_bool(y_pred)"
   ]
  },
  {
   "cell_type": "code",
   "execution_count": 20,
   "metadata": {},
   "outputs": [
    {
     "name": "stdout",
     "output_type": "stream",
     "text": [
      "confusion matrix = \n",
      " [[180  31]\n",
      " [ 30 215]]\n",
      "accuracy =  0.8662280701754386\n",
      "precision =  0.8739837398373984\n",
      "recall =  0.8775510204081632\n",
      "f1 score =  0.8757637474541752\n"
     ]
    }
   ],
   "source": [
    "print('confusion matrix = \\n', confusion_matrix(y_true=y_test_, y_pred=y_pred_))\n",
    "print('accuracy = ', accuracy_score(y_true=y_test_, y_pred=y_pred_))\n",
    "print('precision = ', precision_score(y_true=y_test_, y_pred=y_pred_))\n",
    "print('recall = ', recall_score(y_true=y_test_, y_pred=y_pred_))\n",
    "print('f1 score = ', f1_score(y_true=y_test_, y_pred=y_pred_))"
   ]
  },
  {
   "cell_type": "code",
   "execution_count": 21,
   "metadata": {},
   "outputs": [],
   "source": [
    "tests = [\"知らんのかい\", \"お前馬鹿だろ\", \"センスないね\", \"雑魚がよ\", \"俺が馬鹿だった\",\"馬鹿みたいに笑ったw\", \"消えろカス\", \"お前頭が悪いな\", \"あの国のやつらはクズ\"]"
   ]
  },
  {
   "cell_type": "code",
   "execution_count": 22,
   "metadata": {},
   "outputs": [],
   "source": [
    "vec = text2vec(tests)\n",
    "test_res = convert_bool( clf.predict(vec) ) "
   ]
  },
  {
   "cell_type": "code",
   "execution_count": 21,
   "metadata": {},
   "outputs": [
    {
     "name": "stdout",
     "output_type": "stream",
     "text": [
      "0 : 知らんのかい\n",
      "1 : お前馬鹿だろ\n",
      "0 : センスないね\n",
      "0 : 雑魚がよ\n",
      "0 : 俺が馬鹿だった\n",
      "0 : 馬鹿みたいに笑ったw\n",
      "1 : 消えろカス\n",
      "1 : お前頭が悪いな\n",
      "1 : あの国のやつらはクズ\n"
     ]
    }
   ],
   "source": [
    "for y_p, x_s in zip(test_res, tests):\n",
    "    print(\"{0} : {1}\".format(y_p, x_s))"
   ]
  },
  {
   "cell_type": "code",
   "execution_count": null,
   "metadata": {},
   "outputs": [],
   "source": [
    "# ここから学習データでテスト"
   ]
  },
  {
   "cell_type": "code",
   "execution_count": 2,
   "metadata": {},
   "outputs": [],
   "source": [
    "path = \"../hand_labeled/\"\n",
    "datalist = ['DCM', 'DIT', 'IRS']\n",
    "convs = read_conv(path, datalist)"
   ]
  },
  {
   "cell_type": "code",
   "execution_count": 29,
   "metadata": {},
   "outputs": [],
   "source": [
    "\n",
    "error = \"Lack of sociality\"\n",
    "# errors = ['Grammatical error', \"Uninterpretable\"]\n",
    "sys_utt = []\n",
    "y_ = []\n",
    "for conv in convs:\n",
    "    for ut in conv:\n",
    "        if ut.is_system() and ut.is_exist_error():\n",
    "            # if not ut.utt[-1] in [\"？\", \"！\", \"。\", \"!\"]:\n",
    "            #     # sys_utt.append(ut.utt+\"。\")\n",
    "            #     sys_utt.append(ut.utt)\n",
    "            # else:   \n",
    "            sys_utt.append(ut.utt)\n",
    "            if ut.is_error_included(error):\n",
    "                y_.append(1)\n",
    "                # print(ut.utt)\n",
    "            else:\n",
    "                y_.append(0)\n"
   ]
  },
  {
   "cell_type": "code",
   "execution_count": 30,
   "metadata": {},
   "outputs": [
    {
     "name": "stdout",
     "output_type": "stream",
     "text": [
      "len of y:1349, error 'Lack of sociality' counts:1\n"
     ]
    }
   ],
   "source": [
    "print(\"len of y:{0}, error '{1}' counts:{2}\".format(len(y_), error, y_.count(1)))"
   ]
  },
  {
   "cell_type": "code",
   "execution_count": 31,
   "metadata": {},
   "outputs": [],
   "source": [
    "vec = text2vec(sys_utt)\n",
    "y_pred_ = convert_bool( clf.predict(vec) ) "
   ]
  },
  {
   "cell_type": "code",
   "execution_count": 32,
   "metadata": {},
   "outputs": [
    {
     "name": "stdout",
     "output_type": "stream",
     "text": [
      "confusion matrix = \n",
      " [[1314   34]\n",
      " [   1    0]]\n",
      "accuracy =  0.9740548554484804\n",
      "precision =  0.0\n",
      "recall =  0.0\n",
      "f1 score =  0.0\n"
     ]
    }
   ],
   "source": [
    "print('confusion matrix = \\n', confusion_matrix(y_true=y_, y_pred=y_pred_))\n",
    "print('accuracy = ', accuracy_score(y_true=y_, y_pred=y_pred_))\n",
    "print('precision = ', precision_score(y_true=y_, y_pred=y_pred_))\n",
    "print('recall = ', recall_score(y_true=y_, y_pred=y_pred_))\n",
    "print('f1 score = ', f1_score(y_true=y_, y_pred=y_pred_))"
   ]
  },
  {
   "cell_type": "code",
   "execution_count": 34,
   "metadata": {},
   "outputs": [],
   "source": [
    "# for utt, a, b in zip(sys_utt, y_,  y_pred_):\n",
    "#     if a==0 and b==1:\n",
    "#         print(utt)"
   ]
  },
  {
   "cell_type": "markdown",
   "metadata": {},
   "source": [
    "- 検出は不可能でしょこれは\n",
    "\n",
    "        confusion matrix = \n",
    "        [[1314   34]\n",
    "        [   1    0]]\n",
    "        accuracy =  0.9740548554484804\n",
    "        precision =  0.0\n",
    "        recall =  0.0\n",
    "        f1 score =  0.0"
   ]
  },
  {
   "cell_type": "markdown",
   "metadata": {},
   "source": []
  }
 ],
 "metadata": {
  "interpreter": {
   "hash": "31f2aee4e71d21fbe5cf8b01ff0e069b9275f58929596ceb00d14d90e3e16cd6"
  },
  "kernelspec": {
   "display_name": "Python 3.6.9 64-bit",
   "language": "python",
   "name": "python3"
  },
  "language_info": {
   "codemirror_mode": {
    "name": "ipython",
    "version": 3
   },
   "file_extension": ".py",
   "mimetype": "text/x-python",
   "name": "python",
   "nbconvert_exporter": "python",
   "pygments_lexer": "ipython3",
   "version": "3.6.9"
  },
  "orig_nbformat": 4
 },
 "nbformat": 4,
 "nbformat_minor": 2
}
