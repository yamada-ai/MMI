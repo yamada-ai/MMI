{
 "cells": [
  {
   "cell_type": "code",
   "execution_count": 1,
   "metadata": {},
   "outputs": [],
   "source": [
    "import json\n",
    "import os\n",
    "import pandas as pd\n",
    "import numpy as np\n",
    "from pathlib import Path\n",
    "import collections\n",
    "from sklearn.model_selection import train_test_split\n",
    "from sklearn import metrics\n",
    "\n",
    "import sys\n",
    "sys.path.append(\"../\")\n",
    "from datatools.analyzer import *\n",
    "from utterance.error_tools import *\n",
    "\n",
    "from datatools.maneger import DataManager\n",
    "from datatools.preproc import Preprocessor\n"
   ]
  },
  {
   "cell_type": "code",
   "execution_count": 2,
   "metadata": {},
   "outputs": [],
   "source": [
    "import torch\n",
    "import torch.nn as nn\n",
    "import torch.nn.functional as F\n",
    "from torch.nn.modules import loss\n",
    "import torch.optim as optim"
   ]
  },
  {
   "cell_type": "code",
   "execution_count": 3,
   "metadata": {},
   "outputs": [
    {
     "name": "stderr",
     "output_type": "stream",
     "text": [
      "[3458] 2022-01-03 19:47:11,767 Info gensim.models.keyedvectors :loading projection weights from ../../corpus/w2v/model.vec\n",
      "[3458] 2022-01-03 19:48:13,876 Info gensim.utils :KeyedVectors lifecycle event {'msg': 'loaded (351122, 300) matrix of type float32 from ../../corpus/w2v/model.vec', 'binary': False, 'encoding': 'utf8', 'datetime': '2022-01-03T19:48:13.875976', 'gensim': '4.0.1', 'python': '3.6.9 (default, Jan 26 2021, 15:33:00) \\n[GCC 8.4.0]', 'platform': 'Linux-5.4.72-microsoft-standard-WSL2-x86_64-with-Ubuntu-18.04-bionic', 'event': 'load_word2vec_format'}\n"
     ]
    }
   ],
   "source": [
    "from gensim.models import KeyedVectors\n",
    "w2v_path = \"../../corpus/w2v/\"\n",
    "# fasttext\n",
    "# https://qiita.com/Hironsan/items/513b9f93752ecee9e670\n",
    "# w2v_name =  \"dep-ja-300dim\"\n",
    "w2v_name =  \"model.vec\"\n",
    "w2v_model = KeyedVectors.load_word2vec_format(w2v_path+w2v_name)"
   ]
  },
  {
   "cell_type": "code",
   "execution_count": 5,
   "metadata": {},
   "outputs": [],
   "source": [
    "class PNModel(nn.Module):\n",
    "    def __init__(self, embedding_dim, tagset_size):\n",
    "        # 親クラスのコンストラクタ。決まり文句\n",
    "        super(PNModel, self).__init__()    \n",
    "        self.embedding_dim = embedding_dim\n",
    "        self.hid1= embedding_dim*2\n",
    "        self.hid2 = embedding_dim//2\n",
    "        # self.fb_dim = 4\n",
    "        # self.fb_dim = 0\n",
    "        self.fc1 = nn.Linear(self.embedding_dim, self.hid1)\n",
    "        self.fc2 = nn.Linear(self.hid1, self.hid2)\n",
    "        # LSTMの出力を受け取って全結合してsoftmaxに食わせるための１層のネットワーク\n",
    "        # self.hidden2tag = nn.Linear(self.hid2+self.fb_dim, tagset_size)\n",
    "        self.hidden2tag = nn.Linear(self.hid2, tagset_size)\n",
    "    \n",
    "    def forward(self, x):\n",
    "        # fb = x[:, :self.fb_dim]\n",
    "        y = F.relu(self.fc1(x))\n",
    "        # y = F.relu(self.fc1(x[]))\n",
    "        y = F.relu(self.fc2(y))\n",
    "        y = self.hidden2tag( y )\n",
    "        y = F.log_softmax(y, dim=1)\n",
    "        return y"
   ]
  },
  {
   "cell_type": "code",
   "execution_count": 6,
   "metadata": {},
   "outputs": [
    {
     "name": "stdout",
     "output_type": "stream",
     "text": [
      "success load : ../models/social/pn_dnn_v1.pickle\n"
     ]
    }
   ],
   "source": [
    "model_path = \"../models/social/\"\n",
    "model_name = \"pn_dnn_v1.pickle\"\n",
    "modelM = DataManager(model_path)\n",
    "PNmodel = modelM.load_data(model_name)"
   ]
  },
  {
   "cell_type": "code",
   "execution_count": 7,
   "metadata": {},
   "outputs": [],
   "source": [
    "def is_ADJ(token):\n",
    "    if token.pos_ == \"ADJ\":\n",
    "        return True\n",
    "    return False"
   ]
  },
  {
   "cell_type": "code",
   "execution_count": 14,
   "metadata": {},
   "outputs": [],
   "source": [
    "def dependent_ADJ_NOUN(text):\n",
    "    doc = nlp(text)\n",
    "    adj_nouns = []\n",
    "    for token in doc:\n",
    "        if is_ADJ(token):\n",
    "            # print(token)\n",
    "            for child in token.children:\n",
    "                if \"NOUN\" == child.pos_:\n",
    "                    # print(child, token)\n",
    "                    adj_nouns.append([child.lemma_, token.lemma_])\n",
    "    return adj_nouns"
   ]
  },
  {
   "cell_type": "code",
   "execution_count": 9,
   "metadata": {},
   "outputs": [],
   "source": [
    "path = \"../hand_labeled/\"\n",
    "datalist = ['DCM', 'DIT', 'IRS']\n",
    "convs = read_conv(path, datalist)"
   ]
  },
  {
   "cell_type": "code",
   "execution_count": 28,
   "metadata": {},
   "outputs": [],
   "source": [
    "error = \"Lack of common sense\"\n",
    "sys_utt = []\n",
    "y = []\n",
    "for conv in convs:\n",
    "    for ut in conv:\n",
    "        if ut.is_system() and ut.is_exist_error():\n",
    "            sys_utt.append(ut.utt)\n",
    "            if ut.is_error_included(error):\n",
    "                y.append(1)\n",
    "            else:\n",
    "                y.append(0)"
   ]
  },
  {
   "cell_type": "code",
   "execution_count": 12,
   "metadata": {},
   "outputs": [
    {
     "data": {
      "text/plain": [
       "6"
      ]
     },
     "execution_count": 12,
     "metadata": {},
     "output_type": "execute_result"
    }
   ],
   "source": [
    "y.count(1)"
   ]
  },
  {
   "cell_type": "code",
   "execution_count": 18,
   "metadata": {},
   "outputs": [],
   "source": [
    "def w2v_list(words, w2v_model):\n",
    "    vector = []\n",
    "    for w in words:\n",
    "        if w not in w2v_model:\n",
    "            return []\n",
    "        else:\n",
    "            vector.append(w2v_model[w] )\n",
    "    return vector"
   ]
  },
  {
   "cell_type": "code",
   "execution_count": 24,
   "metadata": {},
   "outputs": [
    {
     "name": "stderr",
     "output_type": "stream",
     "text": [
      "  4%|▎         | 49/1349 [00:00<00:15, 85.57it/s]"
     ]
    },
    {
     "name": "stdout",
     "output_type": "stream",
     "text": [
      "['台風', '凄い']\n",
      "['熱中症', 'いい']\n",
      "['熱中症', '大丈夫']\n"
     ]
    },
    {
     "name": "stderr",
     "output_type": "stream",
     "text": [
      "  8%|▊         | 110/1349 [00:01<00:14, 85.57it/s]"
     ]
    },
    {
     "name": "stdout",
     "output_type": "stream",
     "text": [
      "['猛暑', '欲しい']\n",
      "['猛暑', '嬉しい']\n",
      "['猛暑', '欲しい']\n",
      "['冷夏', '高い']\n",
      "['冷夏', '高い']\n"
     ]
    },
    {
     "name": "stderr",
     "output_type": "stream",
     "text": [
      " 12%|█▏        | 166/1349 [00:01<00:13, 87.46it/s]"
     ]
    },
    {
     "name": "stdout",
     "output_type": "stream",
     "text": [
      "['熱中症', 'いい']\n",
      "['死者', '良い']\n"
     ]
    },
    {
     "name": "stderr",
     "output_type": "stream",
     "text": [
      " 14%|█▎        | 184/1349 [00:02<00:14, 80.73it/s]"
     ]
    },
    {
     "name": "stdout",
     "output_type": "stream",
     "text": [
      "['ホント', '良い']\n"
     ]
    },
    {
     "name": "stderr",
     "output_type": "stream",
     "text": [
      " 17%|█▋        | 232/1349 [00:02<00:12, 89.19it/s]"
     ]
    },
    {
     "name": "stdout",
     "output_type": "stream",
     "text": [
      "['熱中症', 'いい']\n",
      "['頭痛', '凄い']\n"
     ]
    },
    {
     "name": "stderr",
     "output_type": "stream",
     "text": [
      " 19%|█▉        | 259/1349 [00:03<00:13, 80.09it/s]"
     ]
    },
    {
     "name": "stdout",
     "output_type": "stream",
     "text": [
      "['ごまかし', 'いい']\n",
      "['ごまかし', 'うまい']\n"
     ]
    },
    {
     "name": "stderr",
     "output_type": "stream",
     "text": [
      " 21%|██        | 277/1349 [00:03<00:13, 76.99it/s]"
     ]
    },
    {
     "name": "stdout",
     "output_type": "stream",
     "text": [
      "['やけど', '深い']\n"
     ]
    },
    {
     "name": "stderr",
     "output_type": "stream",
     "text": [
      " 29%|██▊       | 386/1349 [00:04<00:11, 86.37it/s]"
     ]
    },
    {
     "name": "stdout",
     "output_type": "stream",
     "text": [
      "['かっこ', 'よい']\n",
      "['真夏日', 'うまい']\n"
     ]
    },
    {
     "name": "stderr",
     "output_type": "stream",
     "text": [
      " 63%|██████▎   | 850/1349 [00:12<00:08, 58.50it/s]"
     ]
    },
    {
     "name": "stdout",
     "output_type": "stream",
     "text": [
      "['治安', '良い']\n"
     ]
    },
    {
     "name": "stderr",
     "output_type": "stream",
     "text": [
      " 71%|███████   | 958/1349 [00:14<00:05, 73.62it/s]"
     ]
    },
    {
     "name": "stdout",
     "output_type": "stream",
     "text": [
      "['みぞれ', '好き']\n"
     ]
    },
    {
     "name": "stderr",
     "output_type": "stream",
     "text": [
      " 88%|████████▊ | 1187/1349 [00:17<00:02, 75.99it/s]"
     ]
    },
    {
     "name": "stdout",
     "output_type": "stream",
     "text": [
      "['偽装', 'よい']\n"
     ]
    },
    {
     "name": "stderr",
     "output_type": "stream",
     "text": [
      "100%|██████████| 1349/1349 [00:19<00:00, 68.72it/s]\n"
     ]
    }
   ],
   "source": [
    "y_pred = []\n",
    "for utt in tqdm(sys_utt):\n",
    "    adj_nouns = dependent_ADJ_NOUN(utt)\n",
    "    if len(adj_nouns)==0:\n",
    "        y_pred.append(0)\n",
    "        continue\n",
    "    # 形容詞と名詞のペアが存在する\n",
    "    is_lack_common = False\n",
    "    for pair in adj_nouns:\n",
    "        an_vector = w2v_list(pair, w2v_model)\n",
    "\n",
    "        if len(an_vector)==0:\n",
    "            # y_pred.append(0)\n",
    "            continue\n",
    "        \n",
    "        with torch.no_grad():\n",
    "            an_tensor = torch.tensor(an_vector, device='cuda:0').float()\n",
    "            pred = np.array(PNmodel(an_tensor).cpu()).argmax(axis=1)\n",
    "        del an_tensor\n",
    "        noun_pn = pred[0]\n",
    "        adj_pn = pred[1]\n",
    "\n",
    "        # ネガティブな名詞をポジティブに形容\n",
    "        # {'p':2, 'e':1, 'n':0}\n",
    "        if noun_pn==0 and adj_pn==2:\n",
    "            print(pair)\n",
    "            is_lack_common = True\n",
    "            break\n",
    "    \n",
    "    if is_lack_common:\n",
    "        y_pred.append(1)\n",
    "    else:\n",
    "        y_pred.append(0)\n",
    "    # break\n",
    "        \n"
   ]
  },
  {
   "cell_type": "code",
   "execution_count": 30,
   "metadata": {},
   "outputs": [
    {
     "name": "stdout",
     "output_type": "stream",
     "text": [
      "confusion matrix = \n",
      " [[1328   14]\n",
      " [   0    7]]\n",
      "accuracy =  0.9896219421793921\n",
      "precision =  0.3333333333333333\n",
      "recall =  1.0\n",
      "f1 score =  0.5\n"
     ]
    }
   ],
   "source": [
    "score(y, y_pred)"
   ]
  },
  {
   "cell_type": "markdown",
   "metadata": {},
   "source": [
    "- 完全勝利に近い\n",
    "\n",
    "        confusion matrix = \n",
    "        [[1328   14]\n",
    "        [   0    7]]\n",
    "        accuracy =  0.9896219421793921\n",
    "        precision =  0.3333333333333333\n",
    "        recall =  1.0\n",
    "        f1 score =  0.5"
   ]
  },
  {
   "cell_type": "code",
   "execution_count": 23,
   "metadata": {},
   "outputs": [
    {
     "data": {
      "text/plain": [
       "1367"
      ]
     },
     "execution_count": 23,
     "metadata": {},
     "output_type": "execute_result"
    }
   ],
   "source": [
    "len(y_pred)"
   ]
  },
  {
   "cell_type": "code",
   "execution_count": 29,
   "metadata": {},
   "outputs": [
    {
     "name": "stdout",
     "output_type": "stream",
     "text": [
      "熱中症はいいですね [['熱中症', 'いい']]\n",
      "熱中症は大丈夫ですね [['熱中症', '大丈夫']]\n",
      "猛暑は嬉しいですね [['猛暑', '嬉しい']]\n",
      "猛暑は欲しいですよねー [['猛暑', '欲しい']]\n",
      "熱中症はいいですね [['熱中症', 'いい']]\n",
      "死者は良いですね [['死者', '良い']]\n",
      "熱中症はいいです [['熱中症', 'いい']]\n"
     ]
    }
   ],
   "source": [
    "for utt, p in zip(sys_utt, y):\n",
    "    if p==1:\n",
    "        adj_nouns = dependent_ADJ_NOUN(utt)\n",
    "        print(utt, adj_nouns)"
   ]
  },
  {
   "cell_type": "code",
   "execution_count": null,
   "metadata": {},
   "outputs": [],
   "source": []
  }
 ],
 "metadata": {
  "interpreter": {
   "hash": "31f2aee4e71d21fbe5cf8b01ff0e069b9275f58929596ceb00d14d90e3e16cd6"
  },
  "kernelspec": {
   "display_name": "Python 3.6.9 64-bit",
   "language": "python",
   "name": "python3"
  },
  "language_info": {
   "codemirror_mode": {
    "name": "ipython",
    "version": 3
   },
   "file_extension": ".py",
   "mimetype": "text/x-python",
   "name": "python",
   "nbconvert_exporter": "python",
   "pygments_lexer": "ipython3",
   "version": "3.6.9"
  },
  "orig_nbformat": 4
 },
 "nbformat": 4,
 "nbformat_minor": 2
}
