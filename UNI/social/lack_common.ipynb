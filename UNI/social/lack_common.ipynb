{
 "cells": [
  {
   "cell_type": "code",
   "execution_count": 1,
   "metadata": {},
   "outputs": [],
   "source": [
    "import json\n",
    "import os\n",
    "import pandas as pd\n",
    "import numpy as np\n",
    "from pathlib import Path\n",
    "import collections\n",
    "from sklearn.model_selection import train_test_split\n",
    "from sklearn import metrics\n",
    "\n",
    "import sys\n",
    "sys.path.append(\"../\")\n",
    "from datatools.analyzer import *\n",
    "from utterance.error_tools import *\n",
    "\n",
    "from datatools.maneger import DataManager\n",
    "from datatools.preproc import Preprocessor\n"
   ]
  },
  {
   "cell_type": "code",
   "execution_count": 2,
   "metadata": {},
   "outputs": [],
   "source": [
    "import torch\n",
    "import torch.nn as nn\n",
    "import torch.nn.functional as F\n",
    "from torch.nn.modules import loss\n",
    "import torch.optim as optim"
   ]
  },
  {
   "cell_type": "code",
   "execution_count": 3,
   "metadata": {},
   "outputs": [
    {
     "name": "stderr",
     "output_type": "stream",
     "text": [
      "[339] 2022-01-16 10:47:59,779 Info gensim.models.keyedvectors :loading projection weights from ../../corpus/w2v/model.vec\n",
      "[339] 2022-01-16 10:49:03,010 Info gensim.utils :KeyedVectors lifecycle event {'msg': 'loaded (351122, 300) matrix of type float32 from ../../corpus/w2v/model.vec', 'binary': False, 'encoding': 'utf8', 'datetime': '2022-01-16T10:49:03.006364', 'gensim': '4.0.1', 'python': '3.6.9 (default, Jan 26 2021, 15:33:00) \\n[GCC 8.4.0]', 'platform': 'Linux-5.4.72-microsoft-standard-WSL2-x86_64-with-Ubuntu-18.04-bionic', 'event': 'load_word2vec_format'}\n"
     ]
    }
   ],
   "source": [
    "from gensim.models import KeyedVectors\n",
    "w2v_path = \"../../corpus/w2v/\"\n",
    "# fasttext\n",
    "# https://qiita.com/Hironsan/items/513b9f93752ecee9e670\n",
    "# w2v_name =  \"dep-ja-300dim\"\n",
    "w2v_name =  \"model.vec\"\n",
    "w2v_model = KeyedVectors.load_word2vec_format(w2v_path+w2v_name)"
   ]
  },
  {
   "cell_type": "code",
   "execution_count": 4,
   "metadata": {},
   "outputs": [],
   "source": [
    "class PNModel(nn.Module):\n",
    "    def __init__(self, embedding_dim, tagset_size):\n",
    "        # 親クラスのコンストラクタ。決まり文句\n",
    "        super(PNModel, self).__init__()    \n",
    "        self.embedding_dim = embedding_dim\n",
    "        self.hid1= embedding_dim*2\n",
    "        self.hid2 = embedding_dim//2\n",
    "        # self.fb_dim = 4\n",
    "        # self.fb_dim = 0\n",
    "        self.fc1 = nn.Linear(self.embedding_dim, self.hid1)\n",
    "        self.fc2 = nn.Linear(self.hid1, self.hid2)\n",
    "        # LSTMの出力を受け取って全結合してsoftmaxに食わせるための１層のネットワーク\n",
    "        # self.hidden2tag = nn.Linear(self.hid2+self.fb_dim, tagset_size)\n",
    "        self.hidden2tag = nn.Linear(self.hid2, tagset_size)\n",
    "    \n",
    "    def forward(self, x):\n",
    "        # fb = x[:, :self.fb_dim]\n",
    "        y = F.relu(self.fc1(x))\n",
    "        # y = F.relu(self.fc1(x[]))\n",
    "        y = F.relu(self.fc2(y))\n",
    "        y = self.hidden2tag( y )\n",
    "        y = F.log_softmax(y, dim=1)\n",
    "        return y"
   ]
  },
  {
   "cell_type": "code",
   "execution_count": 5,
   "metadata": {},
   "outputs": [
    {
     "name": "stdout",
     "output_type": "stream",
     "text": [
      "success load : ../models/social/pn_dnn_v1.pickle\n"
     ]
    }
   ],
   "source": [
    "model_path = \"../models/social/\"\n",
    "model_name = \"pn_dnn_v1.pickle\"\n",
    "modelM = DataManager(model_path)\n",
    "PNmodel = modelM.load_data(model_name)"
   ]
  },
  {
   "cell_type": "code",
   "execution_count": 6,
   "metadata": {},
   "outputs": [],
   "source": [
    "def is_ADJ(token):\n",
    "    if token.pos_ == \"ADJ\":\n",
    "        return True\n",
    "    return False"
   ]
  },
  {
   "cell_type": "code",
   "execution_count": 7,
   "metadata": {},
   "outputs": [],
   "source": [
    "def dependent_ADJ_NOUN(text):\n",
    "    doc = nlp(text)\n",
    "    adj_nouns = []\n",
    "    for token in doc:\n",
    "        if is_ADJ(token):\n",
    "            # print(token)\n",
    "            for child in token.children:\n",
    "                if \"NOUN\" == child.pos_:\n",
    "                    # print(child, token)\n",
    "                    adj_nouns.append([child.lemma_, token.lemma_])\n",
    "    return adj_nouns"
   ]
  },
  {
   "cell_type": "code",
   "execution_count": 8,
   "metadata": {},
   "outputs": [],
   "source": [
    "path = \"../eval_labeled/\"\n",
    "datalist = ['DCM', 'DIT', 'IRS']\n",
    "convs = read_conv(path, datalist)"
   ]
  },
  {
   "cell_type": "code",
   "execution_count": 9,
   "metadata": {},
   "outputs": [],
   "source": [
    "# error = \"Lack of common sense\"\n",
    "error = \"Lack of sociality\"\n",
    "sys_utt = []\n",
    "y = []\n",
    "for conv in convs:\n",
    "    for ut in conv:\n",
    "        if ut.is_system() and ut.is_exist_error():\n",
    "            sys_utt.append(ut.utt)\n",
    "            if ut.is_error_included(error):\n",
    "                y.append(1)\n",
    "            else:\n",
    "                y.append(0)"
   ]
  },
  {
   "cell_type": "code",
   "execution_count": 10,
   "metadata": {},
   "outputs": [
    {
     "data": {
      "text/plain": [
       "7"
      ]
     },
     "execution_count": 10,
     "metadata": {},
     "output_type": "execute_result"
    }
   ],
   "source": [
    "y.count(1)"
   ]
  },
  {
   "cell_type": "code",
   "execution_count": 11,
   "metadata": {},
   "outputs": [],
   "source": [
    "def w2v_list(words, w2v_model):\n",
    "    vector = []\n",
    "    for w in words:\n",
    "        if w not in w2v_model:\n",
    "            return []\n",
    "        else:\n",
    "            vector.append(w2v_model[w] )\n",
    "    return vector"
   ]
  },
  {
   "cell_type": "code",
   "execution_count": 12,
   "metadata": {},
   "outputs": [
    {
     "name": "stderr",
     "output_type": "stream",
     "text": [
      "  2%|▏         | 28/1386 [00:01<00:32, 42.30it/s]"
     ]
    },
    {
     "name": "stdout",
     "output_type": "stream",
     "text": [
      "['熱中症', 'いい'] 熱中症はいいですね\n",
      "['病院', '有名'] 病院は有名ですね\n"
     ]
    },
    {
     "name": "stderr",
     "output_type": "stream",
     "text": [
      " 14%|█▍        | 195/1386 [00:03<00:14, 84.66it/s]"
     ]
    },
    {
     "name": "stdout",
     "output_type": "stream",
     "text": [
      "['熱中症', 'いい'] 熱中症はいいですね\n"
     ]
    },
    {
     "name": "stderr",
     "output_type": "stream",
     "text": [
      " 21%|██        | 286/1386 [00:04<00:11, 92.53it/s]"
     ]
    },
    {
     "name": "stdout",
     "output_type": "stream",
     "text": [
      "['梅雨入り', 'いい'] 梅雨入りはいいですね\n"
     ]
    },
    {
     "name": "stderr",
     "output_type": "stream",
     "text": [
      " 24%|██▎       | 327/1386 [00:04<00:12, 88.20it/s]"
     ]
    },
    {
     "name": "stdout",
     "output_type": "stream",
     "text": [
      "['熱中症', 'いい'] 熱中症はいいですね\n"
     ]
    },
    {
     "name": "stderr",
     "output_type": "stream",
     "text": [
      " 25%|██▌       | 348/1386 [00:04<00:11, 91.81it/s]"
     ]
    },
    {
     "name": "stdout",
     "output_type": "stream",
     "text": [
      "['せき', '欲しい'] へんせきが欲しいですよねー\n"
     ]
    },
    {
     "name": "stderr",
     "output_type": "stream",
     "text": [
      " 31%|███       | 424/1386 [00:05<00:14, 67.51it/s]"
     ]
    },
    {
     "name": "stdout",
     "output_type": "stream",
     "text": [
      "['価格', '安い'] はこBOONは、ファミリーマートが配送を行いますが、ゆうパックなどの宅配便サービスよりも価格が安い事が特徴です。\n"
     ]
    },
    {
     "name": "stderr",
     "output_type": "stream",
     "text": [
      " 35%|███▍      | 483/1386 [00:06<00:16, 56.20it/s]"
     ]
    },
    {
     "name": "stdout",
     "output_type": "stream",
     "text": [
      "['ハードル', '高い'] お節料理ははハードルが高いと思っていたので、料理研究家の栗原はるみさんがご提案されていたお節料理を見て、これでいいのだと何かとても安心いたしました。\n"
     ]
    },
    {
     "name": "stderr",
     "output_type": "stream",
     "text": [
      " 37%|███▋      | 509/1386 [00:07<00:14, 59.64it/s]"
     ]
    },
    {
     "name": "stdout",
     "output_type": "stream",
     "text": [
      "['値段', '高い'] コンビニエンスストアの商品の値段は高いですが、最近はヨークベニマルのキリン・フレビア・レモン＆ホップのように、プライベートブランド商品をスーパーマーケットとコンビニエンスストアで同じ金額で提供している会社もありますね。\n"
     ]
    },
    {
     "name": "stderr",
     "output_type": "stream",
     "text": [
      " 56%|█████▌    | 772/1386 [00:11<00:09, 63.66it/s]"
     ]
    },
    {
     "name": "stdout",
     "output_type": "stream",
     "text": [
      "['鉄拳', '好き'] サッカーチームのユベントスFCでは、薬師丸ひろ子と鉄拳が好きです。鉄拳選手はワールドカップでも素晴らしい活躍をしましたよね。\n",
      "['葛藤', '見もの'] 薬師丸ひろ子さんと小泉今日子さんの心の葛藤が見ものでしたね。私もブラタモリ見ましたよ。\n"
     ]
    },
    {
     "name": "stderr",
     "output_type": "stream",
     "text": [
      " 75%|███████▍  | 1033/1386 [00:15<00:04, 84.89it/s]"
     ]
    },
    {
     "name": "stdout",
     "output_type": "stream",
     "text": [
      "['排気ガス', 'すごい'] 排気ガスすごいんですか！？知らなかったです。\n"
     ]
    },
    {
     "name": "stderr",
     "output_type": "stream",
     "text": [
      "100%|██████████| 1386/1386 [00:20<00:00, 69.06it/s]\n"
     ]
    }
   ],
   "source": [
    "y_pred = []\n",
    "for utt in tqdm(sys_utt):\n",
    "    adj_nouns = dependent_ADJ_NOUN(utt)\n",
    "    if len(adj_nouns)==0:\n",
    "        y_pred.append(0)\n",
    "        continue\n",
    "    # 形容詞と名詞のペアが存在する\n",
    "    is_lack_common = False\n",
    "    for pair in adj_nouns:\n",
    "        an_vector = w2v_list(pair, w2v_model)\n",
    "\n",
    "        if len(an_vector)==0:\n",
    "            # y_pred.append(0)\n",
    "            continue\n",
    "        \n",
    "        with torch.no_grad():\n",
    "            an_tensor = torch.tensor(an_vector, device='cuda:0').float()\n",
    "            pred = np.array(PNmodel(an_tensor).cpu()).argmax(axis=1)\n",
    "        del an_tensor\n",
    "        noun_pn = pred[0]\n",
    "        adj_pn = pred[1]\n",
    "\n",
    "        # ネガティブな名詞をポジティブに形容\n",
    "        # {'p':2, 'e':1, 'n':0}\n",
    "        if noun_pn==0 and adj_pn==2:\n",
    "            print(pair, utt)\n",
    "            is_lack_common = True\n",
    "            break\n",
    "    \n",
    "    if is_lack_common:\n",
    "        y_pred.append(1)\n",
    "    else:\n",
    "        y_pred.append(0)\n",
    "    # break\n",
    "        \n"
   ]
  },
  {
   "cell_type": "code",
   "execution_count": 13,
   "metadata": {},
   "outputs": [
    {
     "name": "stdout",
     "output_type": "stream",
     "text": [
      "confusion matrix = \n",
      " [[1367   12]\n",
      " [   7    0]]\n",
      "accuracy =  0.9862914862914863\n",
      "precision =  0.0\n",
      "recall =  0.0\n",
      "f1 score =  0.0\n"
     ]
    }
   ],
   "source": [
    "score(y, y_pred)"
   ]
  },
  {
   "cell_type": "markdown",
   "metadata": {},
   "source": [
    "- 完全勝利に近い\n",
    "\n",
    "        confusion matrix = \n",
    "        [[1328   14]\n",
    "        [   0    7]]\n",
    "        accuracy =  0.9896219421793921\n",
    "        precision =  0.3333333333333333\n",
    "        recall =  1.0\n",
    "        f1 score =  0.5"
   ]
  },
  {
   "cell_type": "code",
   "execution_count": 14,
   "metadata": {},
   "outputs": [
    {
     "data": {
      "text/plain": [
       "1386"
      ]
     },
     "execution_count": 14,
     "metadata": {},
     "output_type": "execute_result"
    }
   ],
   "source": [
    "len(y_pred)"
   ]
  },
  {
   "cell_type": "code",
   "execution_count": 15,
   "metadata": {},
   "outputs": [
    {
     "name": "stdout",
     "output_type": "stream",
     "text": [
      "ようよう []\n",
      "スイカで有名か？？ [['スイカ', '有名']]\n",
      "ちゅっちゅ []\n",
      "どっちでもいいや []\n",
      "分かったからそう急かすな []\n",
      "おはよん。 []\n",
      "なんで？ []\n"
     ]
    }
   ],
   "source": [
    "for utt, p in zip(sys_utt, y):\n",
    "    if p==1:\n",
    "        adj_nouns = dependent_ADJ_NOUN(utt)\n",
    "        print(utt, adj_nouns)"
   ]
  },
  {
   "cell_type": "code",
   "execution_count": null,
   "metadata": {},
   "outputs": [],
   "source": []
  }
 ],
 "metadata": {
  "interpreter": {
   "hash": "31f2aee4e71d21fbe5cf8b01ff0e069b9275f58929596ceb00d14d90e3e16cd6"
  },
  "kernelspec": {
   "display_name": "Python 3.6.9 64-bit",
   "language": "python",
   "name": "python3"
  },
  "language_info": {
   "codemirror_mode": {
    "name": "ipython",
    "version": 3
   },
   "file_extension": ".py",
   "mimetype": "text/x-python",
   "name": "python",
   "nbconvert_exporter": "python",
   "pygments_lexer": "ipython3",
   "version": "3.6.9"
  },
  "orig_nbformat": 4
 },
 "nbformat": 4,
 "nbformat_minor": 2
}
