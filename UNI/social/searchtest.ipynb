{
 "cells": [
  {
   "cell_type": "code",
   "execution_count": 90,
   "metadata": {},
   "outputs": [],
   "source": [
    "from selenium import webdriver\n",
    "from selenium.webdriver.common.keys import Keys\n",
    "from urllib import request\n",
    "from urllib.error import HTTPError, URLError\n",
    "from bs4 import BeautifulSoup\n",
    "import re\n",
    "import sys\n",
    "import json\n",
    "\n",
    "from selenium.webdriver.common.action_chains import ActionChains\n",
    "from selenium.webdriver.support.ui import WebDriverWait\n",
    "from selenium.webdriver.support import expected_conditions as EC"
   ]
  },
  {
   "cell_type": "code",
   "execution_count": 91,
   "metadata": {},
   "outputs": [
    {
     "name": "stdout",
     "output_type": "stream",
     "text": [
      "aa\n"
     ]
    }
   ],
   "source": [
    "# \"\"\"\n",
    "# 起動1\n",
    "# java -jar C:\\Users\\mmi-lab\\Documents\\selenium\\selenium-server-standalone-3.141.59.jar -role hub\n",
    "\n",
    "# 起動2\n",
    "# java -Dwebdriver.chrome.driver=\"C:\\Users\\mmi-lab\\Documents\\selenium\\chromedriver.exe\" -jar C:\\Users\\mmi-lab\\Documents\\selenium\\selenium-server-standalone-3.141.59.jar -role node -hub http://192.168.1.224:4444\n",
    "\n",
    "# \"\"\"\n",
    "\n",
    "# \"\"\"\n",
    "# 使えそう\n",
    "# ジャンルからフレーズ・例文を探す\n",
    "# https://gogakuru.com/english/phrase/genre/index.html\n",
    "\n",
    "# \"\"\"\n",
    "print(\"aa\")"
   ]
  },
  {
   "cell_type": "code",
   "execution_count": 92,
   "metadata": {},
   "outputs": [],
   "source": [
    "import time\n",
    "from selenium.webdriver.common.by import By\n",
    "\n",
    "class Crawler:\n",
    "    def __init__(self, ) -> None:\n",
    "        self.query = \"\"\n",
    "    \n",
    "    def connect(self, server=None):\n",
    "        chrome_options = webdriver.ChromeOptions()\n",
    "        if server:\n",
    "            command = \"http://{0}:4444/wd/hub\".format(server)\n",
    "            self.driver = webdriver.Remote(\n",
    "                command_executor=\"http://{0}:4444/wd/hub\".format(server),\n",
    "                options=chrome_options\n",
    "            )\n",
    "            \n",
    "    def _in(self, search, target):\n",
    "        \"\"\"\n",
    "        search : list or str\n",
    "        target : str\n",
    "        \"\"\"\n",
    "        result = True\n",
    "        if isinstance(search, list):\n",
    "            for s in search:\n",
    "                result = result and s in target\n",
    "            return result\n",
    "        elif isinstance(search, str):\n",
    "            return search in target\n",
    "        else:\n",
    "            print(\"list or str is expected, but not\")\n",
    "            return False\n",
    "        \n",
    "    def query2formated(self, query):\n",
    "        splited = query.split()\n",
    "        return \"(\" + \" OR \".join(splited) + \")\" + \" -filter:links\"\n",
    "    \n",
    "    def crawl(self, query):\n",
    "        url = \"https://twitter.com/search?f=live&q=\"\n",
    "\n",
    "        self.driver.get( url+self.query2formated(query) )\n",
    "        WebDriverWait(self.driver, 10).until(EC.visibility_of_element_located((By.TAG_NAME, 'article')))\n",
    "        \n",
    "        self.tweet_all = []\n",
    "        tweet_list = self.get_tweets()\n",
    "        # for _ in range(5):\n",
    "        #     tweet_list = self.get_tweets()\n",
    "\n",
    "        #     self._scroll()\n",
    "        #     time.sleep(5)\n",
    "    \n",
    "        # searchbox.send_keys(\"ポケモン\")\n",
    "        # searchbox.send_keys(Keys.ENTER)\n",
    "\n",
    "    def _scroll(self):\n",
    "        articles = self.driver.find_elements_by_tag_name('article')\n",
    "        last_art = articles[-2]\n",
    "        actions = ActionChains(self.driver)\n",
    "        actions.move_to_element(last_art)\n",
    "        actions.perform()\n",
    "    \n",
    "    def extract_info(self, data):\n",
    "        soup = BeautifulSoup(data, features='lxml')\n",
    "\n",
    "    \n",
    "    def get_tweets(self):\n",
    "        html = self.driver.page_source.encode('utf-8')\n",
    "        soup = BeautifulSoup(html, 'lxml')\n",
    "        # articles = self.driver.find_elements_by_tag_name('article')\n",
    "        articles = soup.find_all(\"article\")\n",
    "        print(\"articles : \", len(articles))\n",
    "        for art in articles:\n",
    "            # contents = art.find_elements_by_css_selector('.css-901oao.css-16my406.r-1tl8opc r-bcqeeo.r-qvutc0')\n",
    "            # contents = art.find_elements_by_tag_name('span')\n",
    "            cell = art.find(\"div\",{'lang': 'ja'})\n",
    "            try:\n",
    "                contents = cell.find_all(\"span\")\n",
    "                text = \"\"\n",
    "                for content in contents:\n",
    "                    text += content.get_text().replace('\\n','')\n",
    "                print(text)\n",
    "                print(\"-----\")\n",
    "\n",
    "            except:\n",
    "                print(\"not japanese\")\n",
    "            # print(contents.get_text())\n",
    "            \n"
   ]
  },
  {
   "cell_type": "code",
   "execution_count": 93,
   "metadata": {},
   "outputs": [],
   "source": [
    "crawler = Crawler()\n",
    "crawler.connect(\"192.168.1.224\")"
   ]
  },
  {
   "cell_type": "code",
   "execution_count": 94,
   "metadata": {},
   "outputs": [
    {
     "name": "stdout",
     "output_type": "stream",
     "text": [
      "articles :  19\n",
      "童貞死ねとか言うけど、もっとオブラートに包んで言えないの？」って言ったら「コンドームにも包まれたことないくせにオブラートなんかで包めるかよ童貞」って言われて膝から崩れ落ちた\n",
      "-----\n",
      "ゴミカス和歌集\n",
      "-----\n",
      "まじで勝気あんのってレベルの人らいすぎて、きもい　みんなと雑談してなかったらブチギレてたわ\n",
      "-----\n",
      "ルード「世界の為に死ねって？はは、馬鹿言ってんじゃねーよ……このために生かされてきたとか意味わかんないから…」\n",
      "-----\n",
      "分かりました！去りましょう！深草 彰一\n",
      "-----\n",
      "何もかもどうでも良くなってしまった。すべて、どうでもいい。誕生日に死にたい。 ほんとに寝て死ねたらいいよね。毎日、体調悪くて 体中痛いのに死ねもしない、生き地獄ごめんなさい。病みすぎですねw\n",
      "-----\n",
      "えっちなイラストって純粋に性欲満たされるのもあるけど、需要高いから伸びやすいし自己顕示欲も満たされるから描いた人も見た人もWIN-WINな構図なんだよね　シンプルにきもい\n",
      "-----\n",
      "すごーい！！私も頑張らんとな\n",
      "-----\n",
      "この時空にお前は必要無い。消えろ……愚か者。\n",
      "-----\n",
      "今日マジでマミヤ二度と使わん死ねよ………\n",
      "-----\n",
      "1限行けんかった最悪アラーム止めて二度寝した自分死ねよ\n",
      "-----\n",
      "いーさくんおはようございます！今日は寝坊してしまってさらに遅延もしていて朝から大変でしたが今日も一日頑張りましょういーさくんはお仕事？学校？頑張ってください\n",
      "-----\n",
      "おはリプ自分を大切にしていきます今日も愛情たっぷりん\n",
      "-----\n",
      "本所吾妻橋アクセス失敗したんだが死ねよクソGPSとクソザコナメクジサーバー\n",
      "-----\n",
      "「万死に値する」ってティエリアのイメージがあるよね。。。1万回死ねってことなのか。知らなかった。ティエリア、何てこと言うねん！！月末のヴァーチェ楽しみです(予約はしてない)\n",
      "-----\n",
      "ブスは消えろ\n",
      "-----\n",
      "頭悪いので裏ルートがぱっと思い浮かばないんだ、、、真実を見失わないでねしか思い出せない2章は寄宿舎の上の階下の階がどーのこーのってやつだっけ？ﾓﾓﾀｧとトレーニングしてたんだはただの偽証だったよね、、？\n",
      "-----\n",
      "ググった時に地図押したら5年くらい時間無駄になるから死ねよ\n",
      "-----\n",
      "キ ス す る と き は 髭 そ っ て ほ し い な ー だ っ て 痛 い も ん( * ´ ー ｀ * )\n",
      "-----\n"
     ]
    }
   ],
   "source": [
    "crawler.crawl(\"死ねよ 消えろ 頭悪いよね\")"
   ]
  },
  {
   "cell_type": "code",
   "execution_count": null,
   "metadata": {},
   "outputs": [],
   "source": []
  }
 ],
 "metadata": {
  "interpreter": {
   "hash": "31f2aee4e71d21fbe5cf8b01ff0e069b9275f58929596ceb00d14d90e3e16cd6"
  },
  "kernelspec": {
   "display_name": "Python 3.6.9 64-bit",
   "name": "python3"
  },
  "language_info": {
   "codemirror_mode": {
    "name": "ipython",
    "version": 3
   },
   "file_extension": ".py",
   "mimetype": "text/x-python",
   "name": "python",
   "nbconvert_exporter": "python",
   "pygments_lexer": "ipython3",
   "version": "3.6.9"
  },
  "orig_nbformat": 4
 },
 "nbformat": 4,
 "nbformat_minor": 2
}
