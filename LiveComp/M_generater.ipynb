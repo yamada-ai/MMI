{
 "cells": [
  {
   "cell_type": "code",
   "execution_count": 23,
   "metadata": {},
   "outputs": [],
   "source": [
    "import os\n",
    "import sys\n",
    "\n",
    "import scipy\n",
    "import re\n",
    "# import pandas as pd\n",
    "import json"
   ]
  },
  {
   "cell_type": "code",
   "execution_count": 45,
   "metadata": {},
   "outputs": [],
   "source": [
    "class Generator:\n",
    "\n",
    "    def __init__(self, bot_name, path) -> None:\n",
    "        self.bot_name = bot_name\n",
    "        self.phase = 0\n",
    "        self.phase_rules = [\n",
    "            self._phase_0,\n",
    "            self._phase_1\n",
    "        ]\n",
    "        self._install_rule(path)\n",
    "\n",
    "        self._update_phase(self.phase)\n",
    "        \n",
    "    def _update_phase(self, phase):\n",
    "        self.current_phase = self.phase_rules[self.phase]\n",
    "        self.corrent_rule = self.rule_base[self.phase][\"rule\"]\n",
    "    \n",
    "    def _install_rule(self, path):\n",
    "        with open(path, \"r\") as f:\n",
    "            rule_base_all = json.load(f)\n",
    "        self.rule_base = rule_base_all[self.bot_name]\n",
    "\n",
    "    def reply(self, context):\n",
    "        self._update_phase(self.phase)\n",
    "        rep, next_phase = self.current_phase(context)\n",
    "\n",
    "        return rep\n",
    "    \n",
    "    def _phase_0(self, context):\n",
    "        usr = context[-1]\n",
    "        # no_list = set(\"ダメ だめ 駄目 待て 待って ... 何時 嫌 いや は？\".split())\n",
    "        # yes_list = set(\"どうぞ はい なんでし なんですか いいよ 良い \".split())\n",
    "\n",
    "        no_list = \"ダメ だめ 駄目 待て 待って ... 何時 嫌 いや は？\".split()\n",
    "        double_no_list = \"でもない ではない 嘘 というわけでは というわけでも ということではない\".split()\n",
    "        yes_list = \"どうぞ はい なんでし なんですか いいよ 良い \".split()\n",
    "\n",
    "        usr_act = \"yes\"\n",
    "        for no in no_list:\n",
    "            if no in usr:\n",
    "                usr_act = \"no\"\n",
    "                # 二重否定は死ね\n",
    "                for dou in double_no_list:\n",
    "                    if dou in usr:\n",
    "                        usr_act = \"yes\"\n",
    "                        break\n",
    "                break\n",
    "        \n",
    "        for rule in self.corrent_rule:\n",
    "            if rule[\"usr_act\"] == usr_act:\n",
    "                return rule[\"reply\"], rule[\"next\"]\n",
    "\n",
    "    def _phase_1(self, context):\n",
    "        usr = context[-1]\n",
    "\n",
    "path = \"./rule.json\"\n",
    "gene = Generator(\"test\", path)"
   ]
  },
  {
   "cell_type": "code",
   "execution_count": 49,
   "metadata": {},
   "outputs": [],
   "source": [
    "context = [\"少しいいですか？\", \"まあ．いいよ\"]"
   ]
  },
  {
   "cell_type": "code",
   "execution_count": 50,
   "metadata": {},
   "outputs": [
    {
     "data": {
      "text/plain": [
       "'実は，次の週末に同期とオンライン飲み会を企画しているんですが，湯川先輩にも是非参加していただきたいんです！'"
      ]
     },
     "execution_count": 50,
     "metadata": {},
     "output_type": "execute_result"
    }
   ],
   "source": [
    "gene.reply(context)"
   ]
  },
  {
   "cell_type": "code",
   "execution_count": null,
   "metadata": {},
   "outputs": [],
   "source": []
  }
 ],
 "metadata": {
  "interpreter": {
   "hash": "31f2aee4e71d21fbe5cf8b01ff0e069b9275f58929596ceb00d14d90e3e16cd6"
  },
  "kernelspec": {
   "display_name": "Python 3.6.9 64-bit",
   "name": "python3"
  },
  "language_info": {
   "codemirror_mode": {
    "name": "ipython",
    "version": 3
   },
   "file_extension": ".py",
   "mimetype": "text/x-python",
   "name": "python",
   "nbconvert_exporter": "python",
   "pygments_lexer": "ipython3",
   "version": "3.6.9"
  },
  "orig_nbformat": 4
 },
 "nbformat": 4,
 "nbformat_minor": 2
}