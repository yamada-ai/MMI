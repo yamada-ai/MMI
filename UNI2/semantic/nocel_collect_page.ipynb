{
 "cells": [
  {
   "cell_type": "code",
   "execution_count": 1,
   "metadata": {},
   "outputs": [],
   "source": [
    "import requests\n",
    "import yaml\n",
    "import json\n",
    "import gzip\n",
    "import pandas as pd\n",
    "\n",
    "import os\n",
    "import numpy as np\n",
    "from pathlib import Path\n",
    "import collections\n",
    "from sklearn.model_selection import train_test_split\n",
    "from sklearn import metrics\n",
    "\n",
    "import sys\n",
    "sys.path.append(\"../\")\n",
    "from datatools.analyzer import *\n",
    "\n",
    "from datatools.maneger import DataManager"
   ]
  },
  {
   "cell_type": "code",
   "execution_count": 2,
   "metadata": {},
   "outputs": [],
   "source": [
    "payload = {'out': 'json','gzip':5,'order':'weeklypoint','lim':500}\n",
    "res = requests.get(\"https://api.syosetu.com/novelapi/api/?genre=102&length=1000-&type=r\", params=payload, timeout=30).content\n",
    "r =  gzip.decompress(res).decode(\"utf-8\")\n",
    "df_temp = pd.read_json(r)\n",
    "\n",
    "df_temp\n",
    "df_temp = df_temp.drop(0)"
   ]
  },
  {
   "cell_type": "code",
   "execution_count": 3,
   "metadata": {},
   "outputs": [],
   "source": [
    "ncodes = list(df_temp.ncode.values)"
   ]
  },
  {
   "cell_type": "code",
   "execution_count": 4,
   "metadata": {},
   "outputs": [],
   "source": [
    "from urllib import request\n",
    "from bs4 import BeautifulSoup\n",
    "import re"
   ]
  },
  {
   "cell_type": "code",
   "execution_count": null,
   "metadata": {},
   "outputs": [],
   "source": [
    "def get_one_page(url):\n",
    "    text_list = []\n",
    "    try:\n",
    "        html = request.urlopen(url)\n",
    "        soup = BeautifulSoup(html, \"html.parser\")\n",
    "        contents = soup.find(\"div\", id=\"novel_honbun\", class_=\"novel_view\")\n",
    "        contents_p = contents.find_all(\"p\")\n",
    "        for text in contents_p:\n",
    "            text = text.get_text().strip()\n",
    "            if not text :\n",
    "                continue\n",
    "            text_list.append(text)\n",
    "        return text_list\n",
    "    except Exception as E:\n",
    "        return text_list"
   ]
  },
  {
   "cell_type": "code",
   "execution_count": null,
   "metadata": {},
   "outputs": [],
   "source": [
    "base_url = \"https://ncode.syosetu.com/\"\n",
    "def crawl_one_novel(ncode:str, start=1, end=10):\n",
    "    novel_url = base_url+ncode.lower()+\"/\"\n",
    "    novel = []\n",
    "    for i in tqdm( range(start, end+1)) :\n",
    "        url = novel_url+str(i)\n",
    "        page = get_one_page(url)\n",
    "        novel += page\n",
    "    return novel"
   ]
  }
 ],
 "metadata": {
  "interpreter": {
   "hash": "31f2aee4e71d21fbe5cf8b01ff0e069b9275f58929596ceb00d14d90e3e16cd6"
  },
  "kernelspec": {
   "display_name": "Python 3.6.9 64-bit",
   "language": "python",
   "name": "python3"
  },
  "language_info": {
   "codemirror_mode": {
    "name": "ipython",
    "version": 3
   },
   "file_extension": ".py",
   "mimetype": "text/x-python",
   "name": "python",
   "nbconvert_exporter": "python",
   "pygments_lexer": "ipython3",
   "version": "3.6.9"
  },
  "orig_nbformat": 4
 },
 "nbformat": 4,
 "nbformat_minor": 2
}
